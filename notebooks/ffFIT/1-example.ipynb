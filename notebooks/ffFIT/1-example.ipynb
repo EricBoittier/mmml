{
 "cells": [
  {
   "cell_type": "code",
   "execution_count": 2,
   "id": "2e1b80cb-ee0c-4052-9f4a-1e002b9a3bef",
   "metadata": {},
   "outputs": [],
   "source": [
    "import mmml"
   ]
  },
  {
   "cell_type": "code",
   "execution_count": 6,
   "id": "e9c251bb-cd42-450b-9da0-6e3d434aab73",
   "metadata": {},
   "outputs": [
    {
     "ename": "ModuleNotFoundError",
     "evalue": "No module named 'import_pycharmm'",
     "output_type": "error",
     "traceback": [
      "\u001b[0;31m---------------------------------------------------------------------------\u001b[0m",
      "\u001b[0;31mModuleNotFoundError\u001b[0m                       Traceback (most recent call last)",
      "Cell \u001b[0;32mIn[6], line 1\u001b[0m\n\u001b[0;32m----> 1\u001b[0m \u001b[38;5;28;01mfrom\u001b[39;00m \u001b[38;5;21;01mmmml\u001b[39;00m\u001b[38;5;21;01m.\u001b[39;00m\u001b[38;5;21;01mpycharmm_interface\u001b[39;00m \u001b[38;5;28;01mimport\u001b[39;00m setupRes\n",
      "File \u001b[0;32m~/mmml/mmml/pycharmm_interface/setupRes.py:24\u001b[0m\n\u001b[1;32m     21\u001b[0m \u001b[38;5;28;01mfrom\u001b[39;00m \u001b[38;5;21;01mase\u001b[39;00m\u001b[38;5;21;01m.\u001b[39;00m\u001b[38;5;21;01mio\u001b[39;00m \u001b[38;5;28;01mimport\u001b[39;00m read\n\u001b[1;32m     22\u001b[0m \u001b[38;5;28;01mfrom\u001b[39;00m \u001b[38;5;21;01mase\u001b[39;00m\u001b[38;5;21;01m.\u001b[39;00m\u001b[38;5;21;01mvisualize\u001b[39;00m \u001b[38;5;28;01mimport\u001b[39;00m view\n\u001b[0;32m---> 24\u001b[0m \u001b[38;5;28;01mfrom\u001b[39;00m \u001b[38;5;21;01mimport_pycharmm\u001b[39;00m \u001b[38;5;28;01mimport\u001b[39;00m \u001b[38;5;241m*\u001b[39m\n\u001b[1;32m     25\u001b[0m \u001b[38;5;28;01mfrom\u001b[39;00m \u001b[38;5;21;01mimport_pycharmm\u001b[39;00m \u001b[38;5;28;01mimport\u001b[39;00m CGENFF_RTF, CGENFF_PRM, CHARMM_HOME, CHARMM_LIB_DIR\n\u001b[1;32m     26\u001b[0m \u001b[38;5;28;01mimport\u001b[39;00m \u001b[38;5;21;01mos\u001b[39;00m\n",
      "\u001b[0;31mModuleNotFoundError\u001b[0m: No module named 'import_pycharmm'"
     ]
    }
   ],
   "source": [
    "from mmml.pycharmmInterface import setupRes"
   ]
  },
  {
   "cell_type": "code",
   "execution_count": null,
   "id": "7f3f5a7f-4f80-4946-85f5-3bd204f49279",
   "metadata": {},
   "outputs": [],
   "source": []
  },
  {
   "cell_type": "code",
   "execution_count": null,
   "id": "ed8195b9-6a59-4bed-8cfd-d29913130c79",
   "metadata": {},
   "outputs": [],
   "source": []
  }
 ],
 "metadata": {
  "kernelspec": {
   "display_name": "mmml",
   "language": "python",
   "name": "mmml"
  },
  "language_info": {
   "codemirror_mode": {
    "name": "ipython",
    "version": 3
   },
   "file_extension": ".py",
   "mimetype": "text/x-python",
   "name": "python",
   "nbconvert_exporter": "python",
   "pygments_lexer": "ipython3",
   "version": "3.12.0"
  }
 },
 "nbformat": 4,
 "nbformat_minor": 5
}
