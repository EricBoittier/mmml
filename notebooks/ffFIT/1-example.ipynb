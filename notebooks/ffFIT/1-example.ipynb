{
 "cells": [
  {
   "cell_type": "code",
   "execution_count": 1,
   "id": "2e1b80cb-ee0c-4052-9f4a-1e002b9a3bef",
   "metadata": {},
   "outputs": [],
   "source": [
    "import mmml"
   ]
  },
  {
   "cell_type": "code",
   "execution_count": 2,
   "id": "e9c251bb-cd42-450b-9da0-6e3d434aab73",
   "metadata": {},
   "outputs": [
    {
     "name": "stdout",
     "output_type": "stream",
     "text": [
      "/home/boittier/mmml/mmml/pycharmmInterface/top_all36_cgenff.rtf\n",
      "/home/boittier/mmml/mmml/pycharmmInterface/par_all36_cgenff.prm\n",
      "CHARMM_HOME /home/boittier/mmml/setup/charmm\n",
      "CHARMM_LIB_DIR /home/boittier/mmml/setup/charmm\n",
      "CHARMM_HOME:  /home/boittier/mmml/setup/charmm\n",
      "CHARMM_LIB_DIR:  /home/boittier/mmml/setup/charmm\n"
     ]
    }
   ],
   "source": [
    "from mmml.pycharmmInterface import setupRes"
   ]
  },
  {
   "cell_type": "code",
   "execution_count": null,
   "id": "7f3f5a7f-4f80-4946-85f5-3bd204f49279",
   "metadata": {},
   "outputs": [],
   "source": [
    "setupRes.main(\"DCM\")"
   ]
  },
  {
   "cell_type": "code",
   "execution_count": null,
   "id": "ed8195b9-6a59-4bed-8cfd-d29913130c79",
   "metadata": {},
   "outputs": [],
   "source": []
  },
  {
   "cell_type": "code",
   "execution_count": null,
   "id": "c99330d2",
   "metadata": {},
   "outputs": [],
   "source": []
  }
 ],
 "metadata": {
  "kernelspec": {
   "display_name": "mmml",
   "language": "python",
   "name": "mmml"
  },
  "language_info": {
   "codemirror_mode": {
    "name": "ipython",
    "version": 3
   },
   "file_extension": ".py",
   "mimetype": "text/x-python",
   "name": "python",
   "nbconvert_exporter": "python",
   "pygments_lexer": "ipython3",
   "version": "3.12.5"
  }
 },
 "nbformat": 4,
 "nbformat_minor": 5
}
