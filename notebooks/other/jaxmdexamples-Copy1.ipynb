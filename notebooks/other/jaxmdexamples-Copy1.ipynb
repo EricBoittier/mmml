{
 "cells": [
  {
   "cell_type": "code",
   "execution_count": 1,
   "id": "db958ef4-39d7-4b52-8bb8-0f6c1c48f1a1",
   "metadata": {
    "scrolled": true
   },
   "outputs": [
    {
     "name": "stdout",
     "output_type": "stream",
     "text": [
      "env: JAX_ENABLE_X64=1\n"
     ]
    }
   ],
   "source": [
    "\n",
    "%env JAX_ENABLE_X64=1\n",
    "import numpy as onp\n",
    "\n",
    "# from jax.config import config ; config.update('jax_enable_x64', True)\n",
    "import jax.numpy as np\n",
    "from jax import random\n",
    "from jax import jit\n",
    "from jax import lax\n",
    "\n",
    "import time\n",
    "\n",
    "from jax_md import space\n",
    "from jax_md import smap\n",
    "from jax_md import energy\n",
    "from jax_md import quantity\n",
    "from jax_md import simulate\n",
    "from jax_md import partition\n",
    "\n",
    "import matplotlib\n",
    "import matplotlib.pyplot as plt\n",
    "import seaborn as sns\n",
    "  \n",
    "sns.set_style(style='white')\n",
    "\n",
    "def format_plot(x, y):  \n",
    "  plt.xlabel(x, fontsize=20)\n",
    "  plt.ylabel(y, fontsize=20)\n",
    "  \n",
    "def finalize_plot(shape=(1, 1)):\n",
    "  plt.gcf().set_size_inches(\n",
    "    shape[0] * 1.5 * plt.gcf().get_size_inches()[1], \n",
    "    shape[1] * 1.5 * plt.gcf().get_size_inches()[1])\n",
    "  plt.tight_layout()"
   ]
  },
  {
   "cell_type": "code",
   "execution_count": 2,
   "id": "da37a655-c034-4667-ad6f-c67410e30d06",
   "metadata": {},
   "outputs": [],
   "source": [
    "Nx = particles_per_side = 20\n",
    "spacing = np.float32(1.25)\n",
    "side_length = Nx * spacing\n",
    "\n",
    "R = onp.stack([onp.array(r) for r in onp.ndindex(Nx, Nx, Nx)]) * spacing\n",
    "R = np.array(R, np.float64)"
   ]
  },
  {
   "cell_type": "code",
   "execution_count": 3,
   "id": "1c1b7351-27b3-4f9c-ae7f-18ec8a69217c",
   "metadata": {},
   "outputs": [],
   "source": [
    "# state"
   ]
  },
  {
   "cell_type": "code",
   "execution_count": 4,
   "id": "7f555afc-c79a-4a10-a88d-580e55ada209",
   "metadata": {},
   "outputs": [
    {
     "data": {
      "image/png": "[encoded data removed]",
      "text/plain": [
       "<Brick: label='ax_0'>"
      ]
     },
     "execution_count": 4,
     "metadata": {},
     "output_type": "execute_result"
    },
    {
     "data": {
      "image/png": "[encoded data removed]",
      "text/plain": [
       "<Figure size 100x100 with 2 Axes>"
      ]
     },
     "metadata": {},
     "output_type": "display_data"
    }
   ],
   "source": [
    "#@title Draw the initial state\n",
    "ms = 1\n",
    "R_plt = onp.array(R)\n",
    "\n",
    "def rplot(ax, R_plt, ms=0.1):\n",
    "    ax.plot(R_plt[:, 0], R_plt[:, 1], 'o', markersize=ms,  alpha=0.95)\n",
    "    \n",
    "    ax.set_xlim([0, np.max(R[:, 0])])\n",
    "    ax.set_ylim([0, np.max(R[:, 1])])\n",
    "    \n",
    "    ax.axis('off')\n",
    "    \n",
    "    # return finalize_plot((2, 2))\n",
    "    return ax\n",
    "\n",
    "import patchworklib as pw\n",
    "\n",
    "   \n",
    "ax1 = rplot(pw.Brick(), R_plt)   \n",
    "ax1"
   ]
  },
  {
   "cell_type": "code",
   "execution_count": null,
   "id": "a24fbf61-26ca-47e3-ba4a-b778b4136c22",
   "metadata": {},
   "outputs": [],
   "source": []
  },
  {
   "cell_type": "code",
   "execution_count": 5,
   "id": "fc14a8f4-5f8e-4f3a-9096-06a67b452e6b",
   "metadata": {},
   "outputs": [],
   "source": [
    "# format = partition.Dense\n",
    "# format = partition.Sparse\n",
    "format = partition.OrderedSparse"
   ]
  },
  {
   "cell_type": "code",
   "execution_count": 6,
   "id": "bdc80de7-f230-48fa-b38f-c8adcd2bb58d",
   "metadata": {},
   "outputs": [],
   "source": [
    "\n",
    "displacement, shift = space.periodic(side_length)\n",
    "\n",
    "neighbor_fn, energy_fn = energy.lennard_jones_neighbor_list(displacement, \n",
    "                                                            side_length,\n",
    "                                                            format=format)\n",
    "energy_fn = jit(energy_fn)\n",
    "\n",
    "exact_energy_fn = jit(energy.lennard_jones_pair(displacement))"
   ]
  },
  {
   "cell_type": "code",
   "execution_count": 7,
   "id": "ae9fc30e-14ba-4a58-a7e0-25dca7569d7e",
   "metadata": {},
   "outputs": [],
   "source": [
    "nbrs = neighbor_fn.allocate(R)"
   ]
  },
  {
   "cell_type": "code",
   "execution_count": 8,
   "id": "268c2b03-32b9-4e94-9ee2-2421753dd6a8",
   "metadata": {},
   "outputs": [
    {
     "name": "stdout",
     "output_type": "stream",
     "text": [
      "E = -25610.253371958584\n",
      "E_ex = -25610.253371958584\n"
     ]
    }
   ],
   "source": [
    "\n",
    "# Run once so that we avoid the jit compilation time.\n",
    "print('E = {}'.format(energy_fn(R, neighbor=nbrs)))\n",
    "print('E_ex = {}'.format(exact_energy_fn(R)))"
   ]
  },
  {
   "cell_type": "code",
   "execution_count": 9,
   "id": "d4836444-89ed-4836-a28e-66161d74ca0c",
   "metadata": {},
   "outputs": [
    {
     "name": "stdout",
     "output_type": "stream",
     "text": [
      "Neighbor list overflowed, reallocating.\n"
     ]
    },
    {
     "ename": "KeyboardInterrupt",
     "evalue": "",
     "output_type": "error",
     "traceback": [
      "\u001b[0;31m---------------------------------------------------------------------------\u001b[0m",
      "\u001b[0;31mKeyboardInterrupt\u001b[0m                         Traceback (most recent call last)",
      "Cell \u001b[0;32mIn[9], line 17\u001b[0m\n\u001b[1;32m     15\u001b[0m step \u001b[38;5;241m=\u001b[39m \u001b[38;5;241m0\u001b[39m\n\u001b[1;32m     16\u001b[0m \u001b[38;5;28;01mwhile\u001b[39;00m step \u001b[38;5;241m<\u001b[39m MAXSTEPS:\n\u001b[0;32m---> 17\u001b[0m   new_state, nbrs \u001b[38;5;241m=\u001b[39m \u001b[43mlax\u001b[49m\u001b[38;5;241;43m.\u001b[39;49m\u001b[43mfori_loop\u001b[49m\u001b[43m(\u001b[49m\u001b[38;5;241;43m0\u001b[39;49m\u001b[43m,\u001b[49m\u001b[43m \u001b[49m\u001b[38;5;241;43m100\u001b[39;49m\u001b[43m,\u001b[49m\u001b[43m \u001b[49m\u001b[43mbody_fn\u001b[49m\u001b[43m,\u001b[49m\u001b[43m \u001b[49m\u001b[43m(\u001b[49m\u001b[43mstate\u001b[49m\u001b[43m,\u001b[49m\u001b[43m \u001b[49m\u001b[43mnbrs\u001b[49m\u001b[43m)\u001b[49m\u001b[43m)\u001b[49m\n\u001b[1;32m     18\u001b[0m   \u001b[38;5;28;01mif\u001b[39;00m nbrs\u001b[38;5;241m.\u001b[39mdid_buffer_overflow:\n\u001b[1;32m     19\u001b[0m     \u001b[38;5;28mprint\u001b[39m(\u001b[38;5;124m'\u001b[39m\u001b[38;5;124mNeighbor list overflowed, reallocating.\u001b[39m\u001b[38;5;124m'\u001b[39m)\n",
      "    \u001b[0;31m[... skipping hidden 1 frame]\u001b[0m\n",
      "File \u001b[0;32m~/mmml/.venv/lib/python3.10/site-packages/jax/_src/lax/control_flow/loops.py:2057\u001b[0m, in \u001b[0;36mfori_loop\u001b[0;34m(lower, upper, body_fun, init_val, unroll)\u001b[0m\n\u001b[1;32m   2053\u001b[0m   \u001b[38;5;28;01mif\u001b[39;00m config\u001b[38;5;241m.\u001b[39mdisable_jit\u001b[38;5;241m.\u001b[39mvalue \u001b[38;5;129;01mand\u001b[39;00m length \u001b[38;5;241m==\u001b[39m \u001b[38;5;241m0\u001b[39m:\n\u001b[1;32m   2054\u001b[0m     \u001b[38;5;66;03m# non-jit implementation of scan does not support length=0\u001b[39;00m\n\u001b[1;32m   2055\u001b[0m     \u001b[38;5;28;01mreturn\u001b[39;00m init_val\n\u001b[0;32m-> 2057\u001b[0m   (_, result), _ \u001b[38;5;241m=\u001b[39m \u001b[43mscan\u001b[49m\u001b[43m(\u001b[49m\n\u001b[1;32m   2058\u001b[0m \u001b[43m      \u001b[49m\u001b[43m_fori_scan_body_fun\u001b[49m\u001b[43m(\u001b[49m\u001b[43mbody_fun\u001b[49m\u001b[43m)\u001b[49m\u001b[43m,\u001b[49m\n\u001b[1;32m   2059\u001b[0m \u001b[43m      \u001b[49m\u001b[43m(\u001b[49m\u001b[43mlower_\u001b[49m\u001b[43m,\u001b[49m\u001b[43m \u001b[49m\u001b[43minit_val\u001b[49m\u001b[43m)\u001b[49m\u001b[43m,\u001b[49m\n\u001b[1;32m   2060\u001b[0m \u001b[43m      \u001b[49m\u001b[38;5;28;43;01mNone\u001b[39;49;00m\u001b[43m,\u001b[49m\n\u001b[1;32m   2061\u001b[0m \u001b[43m      \u001b[49m\u001b[43mlength\u001b[49m\u001b[38;5;241;43m=\u001b[39;49m\u001b[43mlength\u001b[49m\u001b[43m,\u001b[49m\n\u001b[1;32m   2062\u001b[0m \u001b[43m      \u001b[49m\u001b[43munroll\u001b[49m\u001b[38;5;241;43m=\u001b[39;49m\u001b[43munroll\u001b[49m\u001b[43m,\u001b[49m\n\u001b[1;32m   2063\u001b[0m \u001b[43m  \u001b[49m\u001b[43m)\u001b[49m\n\u001b[1;32m   2064\u001b[0m   \u001b[38;5;28;01mreturn\u001b[39;00m result\n\u001b[1;32m   2065\u001b[0m \u001b[38;5;28;01mif\u001b[39;00m unroll \u001b[38;5;129;01mis\u001b[39;00m \u001b[38;5;129;01mnot\u001b[39;00m \u001b[38;5;28;01mNone\u001b[39;00m:\n",
      "    \u001b[0;31m[... skipping hidden 1 frame]\u001b[0m\n",
      "File \u001b[0;32m~/mmml/.venv/lib/python3.10/site-packages/jax/_src/lax/control_flow/loops.py:316\u001b[0m, in \u001b[0;36mscan\u001b[0;34m(f, init, xs, length, reverse, unroll, _split_transpose)\u001b[0m\n\u001b[1;32m    314\u001b[0m   in_flat \u001b[38;5;241m=\u001b[39m [\u001b[38;5;241m*\u001b[39min_state, \u001b[38;5;241m*\u001b[39min_carry, \u001b[38;5;241m*\u001b[39min_ext]\n\u001b[1;32m    315\u001b[0m   num_carry \u001b[38;5;241m+\u001b[39m\u001b[38;5;241m=\u001b[39m \u001b[38;5;28mlen\u001b[39m(attrs_tracked)\n\u001b[0;32m--> 316\u001b[0m out \u001b[38;5;241m=\u001b[39m \u001b[43mscan_p\u001b[49m\u001b[38;5;241;43m.\u001b[39;49m\u001b[43mbind\u001b[49m\u001b[43m(\u001b[49m\u001b[38;5;241;43m*\u001b[39;49m\u001b[43mconsts\u001b[49m\u001b[43m,\u001b[49m\u001b[43m \u001b[49m\u001b[38;5;241;43m*\u001b[39;49m\u001b[43min_flat\u001b[49m\u001b[43m,\u001b[49m\n\u001b[1;32m    317\u001b[0m \u001b[43m                  \u001b[49m\u001b[43mreverse\u001b[49m\u001b[38;5;241;43m=\u001b[39;49m\u001b[43mreverse\u001b[49m\u001b[43m,\u001b[49m\u001b[43m \u001b[49m\u001b[43mlength\u001b[49m\u001b[38;5;241;43m=\u001b[39;49m\u001b[43mlength\u001b[49m\u001b[43m,\u001b[49m\u001b[43m \u001b[49m\u001b[43mjaxpr\u001b[49m\u001b[38;5;241;43m=\u001b[39;49m\u001b[43mjaxpr\u001b[49m\u001b[43m,\u001b[49m\n\u001b[1;32m    318\u001b[0m \u001b[43m                  \u001b[49m\u001b[43mnum_consts\u001b[49m\u001b[38;5;241;43m=\u001b[39;49m\u001b[38;5;28;43mlen\u001b[39;49m\u001b[43m(\u001b[49m\u001b[43mconsts\u001b[49m\u001b[43m)\u001b[49m\u001b[43m,\u001b[49m\u001b[43m \u001b[49m\u001b[43mnum_carry\u001b[49m\u001b[38;5;241;43m=\u001b[39;49m\u001b[43mnum_carry\u001b[49m\u001b[43m,\u001b[49m\n\u001b[1;32m    319\u001b[0m \u001b[43m                  \u001b[49m\u001b[43mlinear\u001b[49m\u001b[38;5;241;43m=\u001b[39;49m\u001b[43m(\u001b[49m\u001b[38;5;28;43;01mFalse\u001b[39;49;00m\u001b[43m,\u001b[49m\u001b[43m)\u001b[49m\u001b[43m \u001b[49m\u001b[38;5;241;43m*\u001b[39;49m\u001b[43m \u001b[49m\u001b[43m(\u001b[49m\u001b[38;5;28;43mlen\u001b[39;49m\u001b[43m(\u001b[49m\u001b[43mconsts\u001b[49m\u001b[43m)\u001b[49m\u001b[43m \u001b[49m\u001b[38;5;241;43m+\u001b[39;49m\u001b[43m \u001b[49m\u001b[38;5;28;43mlen\u001b[39;49m\u001b[43m(\u001b[49m\u001b[43min_flat\u001b[49m\u001b[43m)\u001b[49m\u001b[43m)\u001b[49m\u001b[43m,\u001b[49m\n\u001b[1;32m    320\u001b[0m \u001b[43m                  \u001b[49m\u001b[43munroll\u001b[49m\u001b[38;5;241;43m=\u001b[39;49m\u001b[43munroll\u001b[49m\u001b[43m,\u001b[49m\n\u001b[1;32m    321\u001b[0m \u001b[43m                  \u001b[49m\u001b[43m_split_transpose\u001b[49m\u001b[38;5;241;43m=\u001b[39;49m\u001b[43m_split_transpose\u001b[49m\u001b[43m)\u001b[49m\n\u001b[1;32m    322\u001b[0m \u001b[38;5;28;01mif\u001b[39;00m attrs_tracked:\n\u001b[1;32m    323\u001b[0m   out_state, out \u001b[38;5;241m=\u001b[39m split_list(out, [\u001b[38;5;28mlen\u001b[39m(attrs_tracked)])\n",
      "File \u001b[0;32m~/mmml/.venv/lib/python3.10/site-packages/jax/_src/lax/control_flow/loops.py:1218\u001b[0m, in \u001b[0;36mscan_bind\u001b[0;34m(*args, **params)\u001b[0m\n\u001b[1;32m   1216\u001b[0m   _scan_typecheck(\u001b[38;5;28;01mTrue\u001b[39;00m, \u001b[38;5;241m*\u001b[39min_atoms, \u001b[38;5;241m*\u001b[39m\u001b[38;5;241m*\u001b[39mparams)\n\u001b[1;32m   1217\u001b[0m   core\u001b[38;5;241m.\u001b[39mcheck_jaxpr(params[\u001b[38;5;124m'\u001b[39m\u001b[38;5;124mjaxpr\u001b[39m\u001b[38;5;124m'\u001b[39m]\u001b[38;5;241m.\u001b[39mjaxpr)\n\u001b[0;32m-> 1218\u001b[0m \u001b[38;5;28;01mreturn\u001b[39;00m \u001b[43mcore\u001b[49m\u001b[38;5;241;43m.\u001b[39;49m\u001b[43mAxisPrimitive\u001b[49m\u001b[38;5;241;43m.\u001b[39;49m\u001b[43mbind\u001b[49m\u001b[43m(\u001b[49m\u001b[43mscan_p\u001b[49m\u001b[43m,\u001b[49m\u001b[43m \u001b[49m\u001b[38;5;241;43m*\u001b[39;49m\u001b[43margs\u001b[49m\u001b[43m,\u001b[49m\u001b[43m \u001b[49m\u001b[38;5;241;43m*\u001b[39;49m\u001b[38;5;241;43m*\u001b[39;49m\u001b[43mparams\u001b[49m\u001b[43m)\u001b[49m\n",
      "File \u001b[0;32m~/mmml/.venv/lib/python3.10/site-packages/jax/_src/core.py:2781\u001b[0m, in \u001b[0;36mAxisPrimitive.bind\u001b[0;34m(self, *args, **params)\u001b[0m\n\u001b[1;32m   2777\u001b[0m axis_main \u001b[38;5;241m=\u001b[39m \u001b[38;5;28mmax\u001b[39m((axis_frame(a)\u001b[38;5;241m.\u001b[39mmain_trace \u001b[38;5;28;01mfor\u001b[39;00m a \u001b[38;5;129;01min\u001b[39;00m used_axis_names(\u001b[38;5;28mself\u001b[39m, params)),\n\u001b[1;32m   2778\u001b[0m                 default\u001b[38;5;241m=\u001b[39m\u001b[38;5;28;01mNone\u001b[39;00m, key\u001b[38;5;241m=\u001b[39m\u001b[38;5;28;01mlambda\u001b[39;00m t: \u001b[38;5;28mgetattr\u001b[39m(t, \u001b[38;5;124m'\u001b[39m\u001b[38;5;124mlevel\u001b[39m\u001b[38;5;124m'\u001b[39m, \u001b[38;5;241m-\u001b[39m\u001b[38;5;241m1\u001b[39m))\n\u001b[1;32m   2779\u001b[0m top_trace \u001b[38;5;241m=\u001b[39m (top_trace \u001b[38;5;28;01mif\u001b[39;00m \u001b[38;5;129;01mnot\u001b[39;00m axis_main \u001b[38;5;129;01mor\u001b[39;00m axis_main\u001b[38;5;241m.\u001b[39mlevel \u001b[38;5;241m<\u001b[39m top_trace\u001b[38;5;241m.\u001b[39mlevel\n\u001b[1;32m   2780\u001b[0m              \u001b[38;5;28;01melse\u001b[39;00m axis_main\u001b[38;5;241m.\u001b[39mwith_cur_sublevel())\n\u001b[0;32m-> 2781\u001b[0m \u001b[38;5;28;01mreturn\u001b[39;00m \u001b[38;5;28;43mself\u001b[39;49m\u001b[38;5;241;43m.\u001b[39;49m\u001b[43mbind_with_trace\u001b[49m\u001b[43m(\u001b[49m\u001b[43mtop_trace\u001b[49m\u001b[43m,\u001b[49m\u001b[43m \u001b[49m\u001b[43margs\u001b[49m\u001b[43m,\u001b[49m\u001b[43m \u001b[49m\u001b[43mparams\u001b[49m\u001b[43m)\u001b[49m\n",
      "File \u001b[0;32m~/mmml/.venv/lib/python3.10/site-packages/jax/_src/core.py:442\u001b[0m, in \u001b[0;36mPrimitive.bind_with_trace\u001b[0;34m(self, trace, args, params)\u001b[0m\n\u001b[1;32m    440\u001b[0m \u001b[38;5;28;01mdef\u001b[39;00m \u001b[38;5;21mbind_with_trace\u001b[39m(\u001b[38;5;28mself\u001b[39m, trace, args, params):\n\u001b[1;32m    441\u001b[0m   \u001b[38;5;28;01mwith\u001b[39;00m pop_level(trace\u001b[38;5;241m.\u001b[39mlevel):\n\u001b[0;32m--> 442\u001b[0m     out \u001b[38;5;241m=\u001b[39m \u001b[43mtrace\u001b[49m\u001b[38;5;241;43m.\u001b[39;49m\u001b[43mprocess_primitive\u001b[49m\u001b[43m(\u001b[49m\u001b[38;5;28;43mself\u001b[39;49m\u001b[43m,\u001b[49m\u001b[43m \u001b[49m\u001b[38;5;28;43mmap\u001b[39;49m\u001b[43m(\u001b[49m\u001b[43mtrace\u001b[49m\u001b[38;5;241;43m.\u001b[39;49m\u001b[43mfull_raise\u001b[49m\u001b[43m,\u001b[49m\u001b[43m \u001b[49m\u001b[43margs\u001b[49m\u001b[43m)\u001b[49m\u001b[43m,\u001b[49m\u001b[43m \u001b[49m\u001b[43mparams\u001b[49m\u001b[43m)\u001b[49m\n\u001b[1;32m    443\u001b[0m   \u001b[38;5;28;01mreturn\u001b[39;00m \u001b[38;5;28mmap\u001b[39m(full_lower, out) \u001b[38;5;28;01mif\u001b[39;00m \u001b[38;5;28mself\u001b[39m\u001b[38;5;241m.\u001b[39mmultiple_results \u001b[38;5;28;01melse\u001b[39;00m full_lower(out)\n",
      "File \u001b[0;32m~/mmml/.venv/lib/python3.10/site-packages/jax/_src/core.py:948\u001b[0m, in \u001b[0;36mEvalTrace.process_primitive\u001b[0;34m(self, primitive, tracers, params)\u001b[0m\n\u001b[1;32m    946\u001b[0m   \u001b[38;5;28;01mreturn\u001b[39;00m call_impl_with_key_reuse_checks(primitive, primitive\u001b[38;5;241m.\u001b[39mimpl, \u001b[38;5;241m*\u001b[39mtracers, \u001b[38;5;241m*\u001b[39m\u001b[38;5;241m*\u001b[39mparams)\n\u001b[1;32m    947\u001b[0m \u001b[38;5;28;01melse\u001b[39;00m:\n\u001b[0;32m--> 948\u001b[0m   \u001b[38;5;28;01mreturn\u001b[39;00m \u001b[43mprimitive\u001b[49m\u001b[38;5;241;43m.\u001b[39;49m\u001b[43mimpl\u001b[49m\u001b[43m(\u001b[49m\u001b[38;5;241;43m*\u001b[39;49m\u001b[43mtracers\u001b[49m\u001b[43m,\u001b[49m\u001b[43m \u001b[49m\u001b[38;5;241;43m*\u001b[39;49m\u001b[38;5;241;43m*\u001b[39;49m\u001b[43mparams\u001b[49m\u001b[43m)\u001b[49m\n",
      "File \u001b[0;32m~/mmml/.venv/lib/python3.10/site-packages/jax/_src/dispatch.py:90\u001b[0m, in \u001b[0;36mapply_primitive\u001b[0;34m(prim, *args, **params)\u001b[0m\n\u001b[1;32m     88\u001b[0m prev \u001b[38;5;241m=\u001b[39m lib\u001b[38;5;241m.\u001b[39mjax_jit\u001b[38;5;241m.\u001b[39mswap_thread_local_state_disable_jit(\u001b[38;5;28;01mFalse\u001b[39;00m)\n\u001b[1;32m     89\u001b[0m \u001b[38;5;28;01mtry\u001b[39;00m:\n\u001b[0;32m---> 90\u001b[0m   outs \u001b[38;5;241m=\u001b[39m \u001b[43mfun\u001b[49m\u001b[43m(\u001b[49m\u001b[38;5;241;43m*\u001b[39;49m\u001b[43margs\u001b[49m\u001b[43m)\u001b[49m\n\u001b[1;32m     91\u001b[0m \u001b[38;5;28;01mfinally\u001b[39;00m:\n\u001b[1;32m     92\u001b[0m   lib\u001b[38;5;241m.\u001b[39mjax_jit\u001b[38;5;241m.\u001b[39mswap_thread_local_state_disable_jit(prev)\n",
      "\u001b[0;31mKeyboardInterrupt\u001b[0m: "
     ]
    }
   ],
   "source": [
    "\n",
    "displacement, shift = space.periodic(side_length)\n",
    "\n",
    "init_fn, apply_fn = simulate.nve(energy_fn, shift, 1e-3)\n",
    "state = init_fn(random.PRNGKey(0), R, kT=1e-3, neighbor=nbrs)\n",
    "\n",
    "def body_fn(i, state):\n",
    "  state, nbrs = state\n",
    "  nbrs = nbrs.update(state.position)\n",
    "  state = apply_fn(state, neighbor=nbrs)\n",
    "  return state, nbrs\n",
    "\n",
    "all_states = []\n",
    "    \n",
    "MAXSTEPS = 100_000\n",
    "step = 0\n",
    "while step < MAXSTEPS:\n",
    "  new_state, nbrs = lax.fori_loop(0, 100, body_fn, (state, nbrs))\n",
    "  if nbrs.did_buffer_overflow:\n",
    "    print('Neighbor list overflowed, reallocating.')\n",
    "    nbrs = neighbor_fn.allocate(state.position)\n",
    "  else:\n",
    "    all_states.append(state)\n",
    "    state = new_state\n",
    "    step += 1\n",
    "\n",
    "    "
   ]
  },
  {
   "cell_type": "code",
   "execution_count": null,
   "id": "ea7f45a7-e6e7-4668-b539-d2a67dab0a9a",
   "metadata": {},
   "outputs": [],
   "source": [
    "len(all_states)"
   ]
  },
  {
   "cell_type": "code",
   "execution_count": null,
   "id": "8b65c841-d775-48bd-bb57-6e343923a26e",
   "metadata": {},
   "outputs": [],
   "source": [
    "plt.style.use(\"ggplot\")\n",
    "brick = pw.Brick()\n",
    "brick.hist(onp.array(all_states[0].momentum))\n",
    "brick\n"
   ]
  },
  {
   "cell_type": "code",
   "execution_count": null,
   "id": "af627976-8099-443e-8e7f-d047bf3f5907",
   "metadata": {},
   "outputs": [],
   "source": [
    "#@title Draw the final state\n",
    "ms = 10\n",
    "timepoints = [0,   249*100,   499*100, 749*100, 998*100]\n",
    "# r_plts = [onp.array(all_states[i].position) for i in timepoints]\n",
    "# f_plts = [onp.array(all_states[i].force) for i in timepoints]\n",
    "# p_plts = [onp.array(all_states[i].momentum) for i in timepoints]\n",
    "\n",
    "bricks_to_plot = lambda: [pw.Brick() for i in timepoints]\n",
    "\n",
    "r_plts = bricks_to_plot()\n",
    "r_plts_ = []\n",
    "positions = []\n",
    "for i, brick in enumerate(r_plts):\n",
    "    i_ = timepoints[i]\n",
    "    i_ += 1\n",
    "    brick = rplot(brick, onp.array(all_states[i_].position))\n",
    "    brick.set_title(f\"$t$ = {i_}\")\n",
    "    r_plts_.append(brick)\n",
    "    positions.append(onp.array(all_states[i_].position))\n",
    "    \n",
    "p_plts = bricks_to_plot()\n",
    "for i, brick in enumerate(p_plts):\n",
    "    i_ = timepoints[i]\n",
    "    i_ += 1\n",
    "    brick.hist(onp.array(all_states[i_].momentum))\n",
    "    # brick.set_ylim(0, 2000)\n",
    "    # brick.set_xlim(-3, 3)\n",
    "    \n",
    "f_plts = bricks_to_plot()\n",
    "for i, brick in enumerate(f_plts):\n",
    "    i_ = timepoints[i]\n",
    "    i_ += 1\n",
    "    brick.hist(onp.array(all_states[i_].force))\n",
    "    # brick.set_ylim(0, 2000)\n",
    "    # brick.set_xlim(-50, 50)\n",
    "\n",
    "    "
   ]
  },
  {
   "cell_type": "code",
   "execution_count": null,
   "id": "34dfea62-be00-4076-a505-2aff083d8a7a",
   "metadata": {},
   "outputs": [],
   "source": [
    "energies = [exact_energy_fn(R) for R in [onp.array(all_states[i].position) for i in range(1000)]]"
   ]
  },
  {
   "cell_type": "code",
   "execution_count": null,
   "id": "8603f300-4dc0-4fd1-ac92-6b1fd7df61fb",
   "metadata": {},
   "outputs": [],
   "source": [
    "energies = np.array(energies)\n",
    "energies = energies - energies.mean()"
   ]
  },
  {
   "cell_type": "code",
   "execution_count": null,
   "id": "7503e7e2-bc54-4d31-b494-91f15798cf52",
   "metadata": {},
   "outputs": [],
   "source": [
    "ax = pw.Brick(figsize=(4,0.71))\n",
    "ax.plot(energies)\n",
    "FS=14\n",
    "ax.set_xlabel(\"$t$\", fontsize=FS)\n",
    "ax.set_ylabel(\"$E$\", fontsize=FS)\n",
    "# ax"
   ]
  },
  {
   "cell_type": "code",
   "execution_count": null,
   "id": "a995c611-28de-4611-bfb5-a5e82ce96d7c",
   "metadata": {},
   "outputs": [],
   "source": []
  },
  {
   "cell_type": "code",
   "execution_count": null,
   "id": "5e45765f-edfc-4e98-93b3-575ee5f22312",
   "metadata": {},
   "outputs": [],
   "source": [
    "all_R = [all_states[i].position for i in range(1000)]\n",
    "all_Fm = [onp.linalg.norm(all_states[i].force[0]) for i in range(1000)]"
   ]
  },
  {
   "cell_type": "code",
   "execution_count": null,
   "id": "a54f4794-13db-41c2-b8e2-a35e443e7db3",
   "metadata": {},
   "outputs": [],
   "source": [
    "all_R_stack = np.stack(all_R)\n",
    "all_Fm_stack = np.stack(all_Fm)"
   ]
  },
  {
   "cell_type": "code",
   "execution_count": null,
   "id": "25d0cd89-1c13-465d-89f6-692d82ff7be2",
   "metadata": {},
   "outputs": [],
   "source": [
    "all_R_stack.shape, all_Fm_stack.shape"
   ]
  },
  {
   "cell_type": "code",
   "execution_count": null,
   "id": "d84230cb-016a-4a00-8737-8b1fac918ca5",
   "metadata": {
    "scrolled": true
   },
   "outputs": [],
   "source": [
    "import numpy\n",
    "import matplotlib.pyplot as plt\n",
    "\n",
    "def autocorr1(x,lags):\n",
    "    '''numpy.corrcoef, partial'''\n",
    "\n",
    "    corr=[1. if l==0 else numpy.corrcoef(x[l:],x[:-l])[0][1] for l in lags]\n",
    "    return numpy.array(corr)\n",
    "\n",
    "def autocorr2(x,lags):\n",
    "    '''manualy compute, non partial'''\n",
    "\n",
    "    mean=numpy.mean(x)\n",
    "    var=numpy.var(x)\n",
    "    xp=x-mean\n",
    "    corr=[1. if l==0 else numpy.sum(xp[l:]*xp[:-l])/len(x)/var for l in lags]\n",
    "\n",
    "    return numpy.array(corr)\n",
    "\n",
    "def autocorr3(x,lags):\n",
    "    '''fft, pad 0s, non partial'''\n",
    "\n",
    "    n=len(x)\n",
    "    # pad 0s to 2n-1\n",
    "    ext_size=2*n-1\n",
    "    # nearest power of 2\n",
    "    fsize=2**numpy.ceil(numpy.log2(ext_size)).astype('int')\n",
    "\n",
    "    xp=x-numpy.mean(x)\n",
    "    var=numpy.var(x)\n",
    "\n",
    "    # do fft and ifft\n",
    "    cf=numpy.fft.fft(xp,fsize)\n",
    "    sf=cf.conjugate()*cf\n",
    "    corr=numpy.fft.ifft(sf).real\n",
    "    corr=corr/var/n\n",
    "\n",
    "    return corr[:len(lags)]\n",
    "\n",
    "def autocorr4(x,lags):\n",
    "    '''fft, don't pad 0s, non partial'''\n",
    "    mean=x.mean()\n",
    "    var=numpy.var(x)\n",
    "    xp=x-mean\n",
    "\n",
    "    cf=numpy.fft.fft(xp)\n",
    "    sf=cf.conjugate()*cf\n",
    "    corr=numpy.fft.ifft(sf).real/var/len(x)\n",
    "\n",
    "    return corr[:len(lags)]\n",
    "\n",
    "def autocorr5(x,lags):\n",
    "    '''numpy.correlate, non partial'''\n",
    "    mean=x.mean()\n",
    "    var=numpy.var(x)\n",
    "    xp=x-mean\n",
    "    corr=numpy.correlate(xp,xp,'full')[len(x)-1:]/var/len(x)\n",
    "\n",
    "    return corr[:len(lags)]\n",
    "\n",
    "\n",
    "\n",
    "\n",
    "axE = pw.Brick(figsize=(4,0.71))\n",
    "\n",
    "for i in range(1):\n",
    "    y=np.linalg.norm(all_R_stack[:,0],axis=-1)\n",
    "    y=numpy.array(y).astype('float')\n",
    "    lags=range(1000)\n",
    "    \n",
    "\n",
    "    for funcii, labelii in zip([autocorr1, autocorr2, autocorr3, autocorr4,\n",
    "        autocorr5], ['np.corrcoef, partial', 'manual, non-partial',\n",
    "            'fft, pad 0s, non-partial', 'fft, no padding, non-partial',\n",
    "            'np.correlate, non-partial']):\n",
    "\n",
    "        cii=funcii(y,lags)      \n",
    "        if i == 0:\n",
    "            axE.plot(lags,cii,label=labelii, linestyle=\"--\")\n",
    "        else:\n",
    "            axE.plot(lags,cii,label=labelii)\n",
    "\n",
    "    \n",
    "    # axE.set_ylabel('cor. coef. $r$')\n",
    "    # axE.legend()\n",
    "    # plt.show()\n",
    "axE.set_ylabel('$r_E$', fontsize=FS)\n",
    "axE.set_xlabel('lag', fontsize=FS)\n",
    "axE"
   ]
  },
  {
   "cell_type": "code",
   "execution_count": null,
   "id": "94863be4-c699-43c1-88ce-3c67f7df81a7",
   "metadata": {},
   "outputs": [],
   "source": [
    "axF = pw.Brick(figsize=(4,0.71))\n",
    "\n",
    "\n",
    "y=all_Fm_stack\n",
    "y=numpy.array(y).astype('float')\n",
    "lags=range(1000)\n",
    "\n",
    "\n",
    "for funcii, labelii in zip([autocorr1, autocorr2, autocorr3, autocorr4,\n",
    "    autocorr5], ['np.corrcoef, partial', 'manual, non-partial',\n",
    "        'fft, pad 0s, non-partial', 'fft, no padding, non-partial',\n",
    "        'np.correlate, non-partial']):\n",
    "\n",
    "    cii=funcii(y,lags)      \n",
    "    if i == 0:\n",
    "        axF.plot(lags,cii,label=labelii, linestyle=\"--\")\n",
    "    else:\n",
    "        axF.plot(lags,cii,label=labelii)\n",
    "\n",
    "axF.set_xlabel('lag', fontsize=FS)\n",
    "axF.set_ylabel('$r_F$', fontsize=FS)\n",
    "# axF.legend()\n",
    "axF"
   ]
  },
  {
   "cell_type": "code",
   "execution_count": null,
   "id": "de6d91dd-3247-4299-9480-6d9cb663e6ee",
   "metadata": {},
   "outputs": [],
   "source": [
    "fig =  (pw.stack(r_plts_) / pw.stack(p_plts) / pw.stack(f_plts)) / (ax / axE / axF) "
   ]
  },
  {
   "cell_type": "code",
   "execution_count": null,
   "id": "5d75b041-c44e-464a-a389-66d080a0854a",
   "metadata": {},
   "outputs": [],
   "source": [
    "fig.change_plotsize((7,5))"
   ]
  },
  {
   "cell_type": "code",
   "execution_count": null,
   "id": "187d5429-8336-4141-be66-a2dd65047ea3",
   "metadata": {},
   "outputs": [],
   "source": [
    "fig"
   ]
  },
  {
   "cell_type": "code",
   "execution_count": null,
   "id": "719389ed-1a08-4b62-8db4-55accd25ce95",
   "metadata": {
    "jupyter": {
     "source_hidden": true
    }
   },
   "outputs": [],
   "source": []
  },
  {
   "cell_type": "code",
   "execution_count": null,
   "id": "3687a460-93cc-41a8-9bcf-79cbba6ee1e1",
   "metadata": {},
   "outputs": [],
   "source": []
  }
 ],
 "metadata": {
  "kernelspec": {
   "display_name": "Python 3 (ipykernel)",
   "language": "python",
   "name": "python3"
  },
  "language_info": {
   "codemirror_mode": {
    "name": "ipython",
    "version": 3
   },
   "file_extension": ".py",
   "mimetype": "text/x-python",
   "name": "python",
   "nbconvert_exporter": "python",
   "pygments_lexer": "ipython3",
   "version": "3.10.18"
  }
 },
 "nbformat": 4,
 "nbformat_minor": 5
}
