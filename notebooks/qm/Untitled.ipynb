{
 "cells": [
  {
   "cell_type": "code",
   "execution_count": 1,
   "id": "bb537e04-7068-4be4-b030-34ec09a16c22",
   "metadata": {},
   "outputs": [
    {
     "name": "stdout",
     "output_type": "stream",
     "text": [
      "converged SCF energy = -76.026744737349\n",
      "E(DFMP2) = -76.2307218981699  E_corr = -0.203977160820924\n",
      "E(SCS-DFMP2) = -76.2268073038824  E_corr = -0.200062566533375\n",
      "MP2 correlation energy: -0.20397716082092393\n",
      "SCS MP2 correlation energy: -0.20006256653337495\n",
      "Total energy with SCS MP2: -76.22680730388235\n",
      "----- frozen core --------\n",
      "E(DFMP2) = -76.2283847217221  E_corr = -0.201639984373083\n",
      "E(SCS-DFMP2) = -76.2247051235816  E_corr = -0.197960386232582\n",
      "MP2 correlation energy: -0.2016399843730825\n",
      "SCS MP2 correlation energy: -0.19796038623258183\n",
      "Total energy with SCS MP2: -76.22470512358156\n"
     ]
    }
   ],
   "source": [
    "#!/usr/bin/env python\n",
    "# Copyright 2021-2024 The PySCF Developers. All Rights Reserved.\n",
    "#\n",
    "# Licensed under the Apache License, Version 2.0 (the \"License\");\n",
    "# you may not use this file except in compliance with the License.\n",
    "# You may obtain a copy of the License at\n",
    "#\n",
    "#     http://www.apache.org/licenses/LICENSE-2.0\n",
    "#\n",
    "# Unless required by applicable law or agreed to in writing, software\n",
    "# distributed under the License is distributed on an \"AS IS\" BASIS,\n",
    "# WITHOUT WARRANTIES OR CONDITIONS OF ANY KIND, either express or implied.\n",
    "# See the License for the specific language governing permissions and\n",
    "# limitations under the License.\n",
    "\n",
    "########################################\n",
    "#  Example of DF-MP2\n",
    "########################################\n",
    "\n",
    "import pyscf\n",
    "from gpu4pyscf.scf import RHF\n",
    "from gpu4pyscf.mp import dfmp2\n",
    "\n",
    "atom = '''\n",
    "O       0.0000000000    -0.0000000000     0.1174000000\n",
    "H      -0.7570000000    -0.0000000000    -0.4696000000\n",
    "H       0.7570000000     0.0000000000    -0.4696000000\n",
    "'''\n",
    "\n",
    "mol = pyscf.M(atom=atom, basis='ccpvdz')\n",
    "mf = RHF(mol).density_fit()\n",
    "e_hf = mf.kernel()\n",
    "\n",
    "ptobj = dfmp2.DFMP2(mf)\n",
    "e_corr, t2 = ptobj.kernel()\n",
    "e_mp2 = e_hf + e_corr\n",
    "\n",
    "# It prints out MP2 energies, those energies are assessible in the PT object.\n",
    "print('MP2 correlation energy:', ptobj.emp2)\n",
    "print('SCS MP2 correlation energy:', ptobj.emp2_scs)\n",
    "print('Total energy with SCS MP2:', ptobj.e_tot_scs)\n",
    "\n",
    "print('----- frozen core --------')\n",
    "\n",
    "# frozen core\n",
    "ptobj.frozen = [0]\n",
    "e_corr, t2 = ptobj.kernel()\n",
    "e_mp2 = e_hf + e_corr\n",
    "\n",
    "print('MP2 correlation energy:', ptobj.emp2)\n",
    "print('SCS MP2 correlation energy:', ptobj.emp2_scs)\n",
    "print('Total energy with SCS MP2:', ptobj.e_tot_scs)"
   ]
  },
  {
   "cell_type": "code",
   "execution_count": null,
   "id": "623a3863-5dc2-447a-b41c-dc5bcd351f8e",
   "metadata": {},
   "outputs": [],
   "source": []
  }
 ],
 "metadata": {
  "kernelspec": {
   "display_name": "omni",
   "language": "python",
   "name": "conda-env-name"
  },
  "language_info": {
   "codemirror_mode": {
    "name": "ipython",
    "version": 3
   },
   "file_extension": ".py",
   "mimetype": "text/x-python",
   "name": "python",
   "nbconvert_exporter": "python",
   "pygments_lexer": "ipython3",
   "version": "3.10.18"
  }
 },
 "nbformat": 4,
 "nbformat_minor": 5
}
