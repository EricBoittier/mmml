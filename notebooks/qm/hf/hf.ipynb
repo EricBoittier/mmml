{
 "cells": [
  {
   "cell_type": "code",
   "execution_count": 1,
   "id": "ea332dfb-79c2-43a0-813e-d74682f61b8f",
   "metadata": {},
   "outputs": [
    {
     "name": "stdout",
     "output_type": "stream",
     "text": [
      "converged SCF energy = -99.9873974403489\n",
      "Wave-function symmetry id = 0\n",
      "occupancy for each irrep:     A1  E1x  E1y  E2x  E2y\n",
      "                               3    1    1    0    0\n",
      "**** MO energy ****\n",
      "MO #1 (A1 #1), energy= -26.280057441301 occ= 2\n",
      "MO #2 (A1 #2), energy= -1.53365219237906 occ= 2\n",
      "MO #3 (A1 #3), energy= -0.678597989219243 occ= 2\n",
      "MO #4 (E1x #1), energy= -0.613428984030326 occ= 2\n",
      "MO #5 (E1y #1), energy= -0.613428984030326 occ= 2\n",
      "MO #6 (A1 #4), energy= 0.137118146058543 occ= 0\n",
      "MO #7 (A1 #5), energy= 0.673695200583401 occ= 0\n",
      "MO #8 (E1x #2), energy= 1.35287508928648 occ= 0\n",
      "MO #9 (E1y #2), energy= 1.35287508928648 occ= 0\n",
      "MO #10 (A1 #6), energy= 1.48918080509387 occ= 0\n",
      "MO #11 (E1x #3), energy= 1.62832919962779 occ= 0\n",
      "MO #12 (E1y #3), energy= 1.62832919962779 occ= 0\n",
      "MO #13 (A1 #7), energy= 2.02124864674875 occ= 0\n",
      "MO #14 (A1 #8), energy= 2.22702155259619 occ= 0\n",
      "MO #15 (E2x #1), energy= 4.02031511918339 occ= 0\n",
      "MO #16 (E2y #1), energy= 4.02031511918339 occ= 0\n",
      "MO #17 (E1x #4), energy= 4.13945032265317 occ= 0\n",
      "MO #18 (E1y #4), energy= 4.13945032265317 occ= 0\n",
      "MO #19 (A1 #9), energy= 4.78402661578954 occ= 0\n",
      " ** Mulliken atomic charges  **\n",
      "charge of    0H =      0.40385\n",
      "charge of    1F =     -0.40385\n",
      "Dipole moment(X, Y, Z, Debye):  0.00000,  0.00000, -2.30763\n",
      "converged SCF energy = -99.9873974403489\n"
     ]
    },
    {
     "data": {
      "text/plain": [
       "-99.98739744034886"
      ]
     },
     "execution_count": 1,
     "metadata": {},
     "output_type": "execute_result"
    }
   ],
   "source": [
    "'''\n",
    "A simple example to run HF calculation.\n",
    "\n",
    ".kernel() function is the simple way to call HF driver.\n",
    ".analyze() function calls the Mulliken population analysis etc.\n",
    "'''\n",
    "\n",
    "import pyscf\n",
    "\n",
    "mol = pyscf.M(\n",
    "    atom = 'H 0 0 0; F 0 0 1.1',  # in Angstrom\n",
    "    basis = 'ccpvdz',\n",
    "    symmetry = True,\n",
    ")\n",
    "\n",
    "myhf = mol.HF()\n",
    "myhf.kernel()\n",
    "\n",
    "# Orbital energies, Mulliken population etc.\n",
    "myhf.analyze()\n",
    "\n",
    "\n",
    "#\n",
    "# myhf object can also be created using the APIs of gto, scf module\n",
    "#\n",
    "from pyscf import gto, scf\n",
    "mol = gto.M(\n",
    "    atom = 'H 0 0 0; F 0 0 1.1',  # in Angstrom\n",
    "    basis = 'ccpvdz',\n",
    "    symmetry = True,\n",
    ")\n",
    "myhf = scf.HF(mol)\n",
    "myhf.kernel()\n"
   ]
  },
  {
   "cell_type": "code",
   "execution_count": 32,
   "id": "5e1aabdc-1b57-4b02-a5f8-df5cd54b486c",
   "metadata": {},
   "outputs": [
    {
     "name": "stdout",
     "output_type": "stream",
     "text": [
      "**** SCF Summaries ****\n",
      "Total Energy =                         -99.987397440348857\n",
      "Nuclear Repulsion Energy =               4.329631725709090\n",
      "One-electron Energy =                 -149.195728121160300\n",
      "Two-electron Energy =                   44.878698955102351\n"
     ]
    }
   ],
   "source": [
    "myhf.dump_scf_summary()"
   ]
  },
  {
   "cell_type": "code",
   "execution_count": 29,
   "id": "167427dc-63b5-4a6b-961a-68e0f9991879",
   "metadata": {},
   "outputs": [
    {
     "data": {
      "text/plain": [
       "array([2., 2., 2., 2., 2., 0., 0., 0., 0., 0., 0., 0., 0., 0., 0., 0., 0.,\n",
       "       0., 0.])"
      ]
     },
     "execution_count": 29,
     "metadata": {},
     "output_type": "execute_result"
    }
   ],
   "source": [
    "myhf.mo_occ"
   ]
  },
  {
   "cell_type": "code",
   "execution_count": 6,
   "id": "e7c338f3-a0f7-459f-8d85-d2616e91aa4b",
   "metadata": {},
   "outputs": [
    {
     "data": {
      "text/plain": [
       "array([ 0,  0,  0,  2,  3,  0,  0,  2,  3,  0,  2,  3,  0,  0, 10, 11,  2,\n",
       "        3,  0])"
      ]
     },
     "execution_count": 6,
     "metadata": {},
     "output_type": "execute_result"
    }
   ],
   "source": [
    "myhf.get_orbsym()"
   ]
  },
  {
   "cell_type": "code",
   "execution_count": 31,
   "id": "c4abee43-a2ba-46e4-95bb-ebfaffe3254f",
   "metadata": {},
   "outputs": [
    {
     "data": {
      "text/plain": [
       "-59.43833118192012"
      ]
     },
     "execution_count": 31,
     "metadata": {},
     "output_type": "execute_result"
    }
   ],
   "source": [
    "(myhf.mo_energy * myhf.mo_occ).sum()"
   ]
  },
  {
   "cell_type": "code",
   "execution_count": 23,
   "id": "9ace560a-d829-47f6-b6bf-0d0a513860db",
   "metadata": {},
   "outputs": [
    {
     "data": {
      "text/plain": [
       "3.8950648374118533"
      ]
     },
     "execution_count": 23,
     "metadata": {},
     "output_type": "execute_result"
    }
   ],
   "source": [
    "myhf.mo_energy.sum()"
   ]
  },
  {
   "cell_type": "code",
   "execution_count": 18,
   "id": "bea92ad3-8c18-4d69-ab55-bdce5dcc4dcc",
   "metadata": {},
   "outputs": [
    {
     "data": {
      "text/plain": [
       "\u001b[0;31mSignature:\u001b[0m \u001b[0mmyhf\u001b[0m\u001b[0;34m.\u001b[0m\u001b[0manalyze\u001b[0m\u001b[0;34m(\u001b[0m\u001b[0mverbose\u001b[0m\u001b[0;34m=\u001b[0m\u001b[0;32mNone\u001b[0m\u001b[0;34m,\u001b[0m \u001b[0mwith_meta_lowdin\u001b[0m\u001b[0;34m=\u001b[0m\u001b[0;32mTrue\u001b[0m\u001b[0;34m,\u001b[0m \u001b[0;34m**\u001b[0m\u001b[0mkwargs\u001b[0m\u001b[0;34m)\u001b[0m\u001b[0;34m\u001b[0m\u001b[0;34m\u001b[0m\u001b[0m\n",
       "\u001b[0;31mDocstring:\u001b[0m\n",
       "Analyze the given SCF object:  print orbital energies, occupancies;\n",
       "print orbital coefficients; Occupancy for each irreps; Mulliken population analysis\n",
       "\u001b[0;31mFile:\u001b[0m      ~/mmml/.venv/lib/python3.12/site-packages/pyscf/scf/hf_symm.py\n",
       "\u001b[0;31mType:\u001b[0m      method"
      ]
     },
     "metadata": {},
     "output_type": "display_data"
    }
   ],
   "source": [
    "myhf.analyze?"
   ]
  },
  {
   "cell_type": "code",
   "execution_count": 14,
   "id": "c01e7af0-1b4a-48d1-8a6f-c4a68fedaaa5",
   "metadata": {
    "scrolled": true
   },
   "outputs": [
    {
     "name": "stdout",
     "output_type": "stream",
     "text": [
      "Wave-function symmetry id = 0\n",
      "occupancy for each irrep:     A1  E1x  E1y  E2x  E2y\n",
      "                               3    1    1    0    0\n",
      "**** MO energy ****\n",
      "MO #1 (A1 #1), energy= -26.280057441301 occ= 2\n",
      "MO #2 (A1 #2), energy= -1.53365219237907 occ= 2\n",
      "MO #3 (A1 #3), energy= -0.678597989219261 occ= 2\n",
      "MO #4 (E1x #1), energy= -0.613428984030341 occ= 2\n",
      "MO #5 (E1y #1), energy= -0.613428984030341 occ= 2\n",
      "MO #6 (A1 #4), energy= 0.137118146058545 occ= 0\n",
      "MO #7 (A1 #5), energy= 0.673695200583416 occ= 0\n",
      "MO #8 (E1x #2), energy= 1.35287508928648 occ= 0\n",
      "MO #9 (E1y #2), energy= 1.35287508928648 occ= 0\n",
      "MO #10 (A1 #6), energy= 1.48918080509386 occ= 0\n",
      "MO #11 (E1x #3), energy= 1.6283291996278 occ= 0\n",
      "MO #12 (E1y #3), energy= 1.6283291996278 occ= 0\n",
      "MO #13 (A1 #7), energy= 2.02124864674875 occ= 0\n",
      "MO #14 (A1 #8), energy= 2.22702155259617 occ= 0\n",
      "MO #15 (E2x #1), energy= 4.02031511918338 occ= 0\n",
      "MO #16 (E2y #1), energy= 4.02031511918338 occ= 0\n",
      "MO #17 (E1x #4), energy= 4.13945032265316 occ= 0\n",
      "MO #18 (E1y #4), energy= 4.13945032265316 occ= 0\n",
      "MO #19 (A1 #9), energy= 4.78402661578954 occ= 0\n",
      " ** Mulliken atomic charges  **\n",
      "charge of    0H =      0.40385\n",
      "charge of    1F =     -0.40385\n",
      "Dipole moment(X, Y, Z, Debye):  0.00000,  0.00000, -2.30763\n"
     ]
    },
    {
     "data": {
      "text/plain": [
       "((array([5.82909429e-01, 7.67344747e-03, 1.45137873e-03, 1.45137873e-03,\n",
       "         2.66096775e-03, 1.99999813e+00, 1.89910569e+00, 1.01131433e-03,\n",
       "         1.99775920e+00, 1.99775920e+00, 1.50492867e+00, 5.12616720e-04,\n",
       "         5.12616720e-04, 2.18572055e-05, 1.28523044e-34, 2.76805632e-04,\n",
       "         1.69049592e-03, 2.76805632e-04, 0.00000000e+00]),\n",
       "  array([ 0.4038534, -0.4038534])),\n",
       " array([ 0.        ,  0.        , -2.30762742]))"
      ]
     },
     "execution_count": 14,
     "metadata": {},
     "output_type": "execute_result"
    }
   ],
   "source": [
    "myhf.analyze(verbose=None)"
   ]
  },
  {
   "cell_type": "code",
   "execution_count": null,
   "id": "a55a4d43-052b-4748-b503-b79b07cf4f4d",
   "metadata": {},
   "outputs": [],
   "source": []
  },
  {
   "cell_type": "code",
   "execution_count": 27,
   "id": "02db1193-7220-42ee-aaaa-fd7df6ebf1c7",
   "metadata": {},
   "outputs": [
    {
     "name": "stdout",
     "output_type": "stream",
     "text": [
      "**** SCF Summaries ****\n",
      "Total Energy =                         -99.987397440348857\n",
      "Nuclear Repulsion Energy =               4.329631725709090\n",
      "One-electron Energy =                 -149.195728121160300\n",
      "Two-electron Energy =                   44.878698955102351\n"
     ]
    }
   ],
   "source": [
    "myhf.dump_scf_summary()"
   ]
  },
  {
   "cell_type": "code",
   "execution_count": 22,
   "id": "3f4101fe-4606-4754-ab81-e49f64e29fd2",
   "metadata": {},
   "outputs": [
    {
     "data": {
      "text/plain": [
       "(-104.31702916605795, 44.87869895510235)"
      ]
     },
     "execution_count": 22,
     "metadata": {},
     "output_type": "execute_result"
    }
   ],
   "source": [
    "myhf.energy_elec()"
   ]
  },
  {
   "cell_type": "code",
   "execution_count": 4,
   "id": "f7a337d6-0f69-4d5a-8178-8cb997d5cdf5",
   "metadata": {
    "scrolled": true
   },
   "outputs": [
    {
     "data": {
      "text/plain": [
       "['CASCI',\n",
       " 'CASSCF',\n",
       " 'CCSD',\n",
       " 'CISD',\n",
       " 'COSX',\n",
       " 'DDCOSMO',\n",
       " 'DFMP2',\n",
       " 'DIIS',\n",
       " 'Gradients',\n",
       " 'Hessian',\n",
       " 'MP2',\n",
       " 'PCM',\n",
       " 'QCISD',\n",
       " 'QMMM',\n",
       " 'SMD',\n",
       " 'TDA',\n",
       " 'TDHF',\n",
       " '__call__',\n",
       " '__class__',\n",
       " '__delattr__',\n",
       " '__dict__',\n",
       " '__dir__',\n",
       " '__doc__',\n",
       " '__eq__',\n",
       " '__format__',\n",
       " '__ge__',\n",
       " '__getattr__',\n",
       " '__getattribute__',\n",
       " '__getstate__',\n",
       " '__gt__',\n",
       " '__hash__',\n",
       " '__init__',\n",
       " '__init_subclass__',\n",
       " '__le__',\n",
       " '__lt__',\n",
       " '__module__',\n",
       " '__ne__',\n",
       " '__new__',\n",
       " '__reduce__',\n",
       " '__reduce_ex__',\n",
       " '__repr__',\n",
       " '__setattr__',\n",
       " '__setstate__',\n",
       " '__sizeof__',\n",
       " '__str__',\n",
       " '__subclasshook__',\n",
       " '__weakref__',\n",
       " '_chkfile',\n",
       " '_eigh',\n",
       " '_eri',\n",
       " '_finalize',\n",
       " '_is_mem_enough',\n",
       " '_keys',\n",
       " '_opt',\n",
       " '_t0',\n",
       " '_transfer_attrs_',\n",
       " '_w0',\n",
       " 'analyze',\n",
       " 'apply',\n",
       " 'as_scanner',\n",
       " 'build',\n",
       " 'callback',\n",
       " 'canonicalize',\n",
       " 'check_convergence',\n",
       " 'check_sanity',\n",
       " 'chkfile',\n",
       " 'conv_check',\n",
       " 'conv_tol',\n",
       " 'conv_tol_cpscf',\n",
       " 'conv_tol_grad',\n",
       " 'converged',\n",
       " 'convert_from_',\n",
       " 'copy',\n",
       " 'cycles',\n",
       " 'damp',\n",
       " 'ddCOSMO',\n",
       " 'density_fit',\n",
       " 'diis',\n",
       " 'diis_damp',\n",
       " 'diis_file',\n",
       " 'diis_space',\n",
       " 'diis_space_rollback',\n",
       " 'diis_start_cycle',\n",
       " 'dip_moment',\n",
       " 'direct_scf',\n",
       " 'direct_scf_tol',\n",
       " 'disp',\n",
       " 'do_disp',\n",
       " 'dump_chk',\n",
       " 'dump_flags',\n",
       " 'dump_scf_summary',\n",
       " 'e_tot',\n",
       " 'eig',\n",
       " 'energy_elec',\n",
       " 'energy_nuc',\n",
       " 'energy_tot',\n",
       " 'from_chk',\n",
       " 'from_fcidump',\n",
       " 'gen_response',\n",
       " 'get_dispersion',\n",
       " 'get_fock',\n",
       " 'get_grad',\n",
       " 'get_hcore',\n",
       " 'get_init_guess',\n",
       " 'get_irrep_nelec',\n",
       " 'get_j',\n",
       " 'get_jk',\n",
       " 'get_k',\n",
       " 'get_occ',\n",
       " 'get_orbsym',\n",
       " 'get_ovlp',\n",
       " 'get_veff',\n",
       " 'get_wfnsym',\n",
       " 'init_direct_scf',\n",
       " 'init_guess',\n",
       " 'init_guess_by_1e',\n",
       " 'init_guess_by_atom',\n",
       " 'init_guess_by_chkfile',\n",
       " 'init_guess_by_huckel',\n",
       " 'init_guess_by_minao',\n",
       " 'init_guess_by_mod_huckel',\n",
       " 'init_guess_by_sap',\n",
       " 'irrep_nelec',\n",
       " 'istype',\n",
       " 'kernel',\n",
       " 'level_shift',\n",
       " 'make_rdm1',\n",
       " 'make_rdm2',\n",
       " 'max_cycle',\n",
       " 'max_memory',\n",
       " 'mo_coeff',\n",
       " 'mo_energy',\n",
       " 'mo_occ',\n",
       " 'mol',\n",
       " 'mulliken_meta',\n",
       " 'mulliken_pop',\n",
       " 'mulliken_pop_meta_lowdin_ao',\n",
       " 'newton',\n",
       " 'nuc_grad_method',\n",
       " 'opt',\n",
       " 'orbsym',\n",
       " 'pop',\n",
       " 'post_kernel',\n",
       " 'pre_kernel',\n",
       " 'quad_moment',\n",
       " 'remove_soscf',\n",
       " 'reset',\n",
       " 'run',\n",
       " 'sap_basis',\n",
       " 'scf',\n",
       " 'scf_summary',\n",
       " 'set',\n",
       " 'sfx2c1e',\n",
       " 'spin_square',\n",
       " 'stability',\n",
       " 'stdout',\n",
       " 'to_ghf',\n",
       " 'to_gks',\n",
       " 'to_gpu',\n",
       " 'to_ks',\n",
       " 'to_rhf',\n",
       " 'to_rks',\n",
       " 'to_uhf',\n",
       " 'to_uks',\n",
       " 'update',\n",
       " 'update_',\n",
       " 'update_from_chk',\n",
       " 'update_from_chk_',\n",
       " 'verbose',\n",
       " 'view',\n",
       " 'wfnsym',\n",
       " 'x2c',\n",
       " 'x2c1e']"
      ]
     },
     "execution_count": 4,
     "metadata": {},
     "output_type": "execute_result"
    }
   ],
   "source": [
    "dir(myhf)"
   ]
  },
  {
   "cell_type": "code",
   "execution_count": null,
   "id": "4458d4c5-fe60-4f51-bf4d-f56652d340d5",
   "metadata": {},
   "outputs": [],
   "source": []
  },
  {
   "cell_type": "code",
   "execution_count": 54,
   "id": "d1529bef-6b5f-4bca-960e-2171598ae55c",
   "metadata": {},
   "outputs": [
    {
     "data": {
      "text/plain": [
       "<matplotlib.colorbar.Colorbar at 0x7f8e1f86b380>"
      ]
     },
     "execution_count": 54,
     "metadata": {},
     "output_type": "execute_result"
    },
    {
     "data": {
      "image/png": "[encoded data removed]",
      "text/plain": [
       "<Figure size 480x480 with 2 Axes>"
      ]
     },
     "metadata": {},
     "output_type": "display_data"
    }
   ],
   "source": [
    "myhf.get_veff().shape\n",
    "import matplotlib.pyplot as plt\n",
    "plt.matshow(myhf.get_veff(), cmap=\"cubehelix\")\n",
    "plt.colorbar()"
   ]
  },
  {
   "cell_type": "code",
   "execution_count": 55,
   "id": "1a288e47-c948-487d-baef-1068ed481dec",
   "metadata": {},
   "outputs": [
    {
     "data": {
      "text/plain": [
       "<matplotlib.colorbar.Colorbar at 0x7f8ea4a9a960>"
      ]
     },
     "execution_count": 55,
     "metadata": {},
     "output_type": "execute_result"
    },
    {
     "data": {
      "image/png": "[encoded data removed]",
      "text/plain": [
       "<Figure size 480x480 with 2 Axes>"
      ]
     },
     "metadata": {},
     "output_type": "display_data"
    }
   ],
   "source": [
    "myhf.get_ovlp().shape\n",
    "import matplotlib.pyplot as plt\n",
    "plt.matshow(myhf.get_ovlp(), cmap=\"cubehelix\")\n",
    "plt.colorbar()"
   ]
  },
  {
   "cell_type": "code",
   "execution_count": 35,
   "id": "f1c47447-7318-4306-93d1-9986ee4ea476",
   "metadata": {},
   "outputs": [
    {
     "data": {
      "text/plain": [
       "(19, 19)"
      ]
     },
     "execution_count": 35,
     "metadata": {},
     "output_type": "execute_result"
    }
   ],
   "source": [
    "myhf.get_fock().shape"
   ]
  },
  {
   "cell_type": "code",
   "execution_count": 56,
   "id": "d90be574-ec20-42be-bfbe-aaa94a2ff0cb",
   "metadata": {},
   "outputs": [
    {
     "data": {
      "text/plain": [
       "<matplotlib.colorbar.Colorbar at 0x7f8e1f574920>"
      ]
     },
     "execution_count": 56,
     "metadata": {},
     "output_type": "execute_result"
    },
    {
     "data": {
      "image/png": "[encoded data removed]",
      "text/plain": [
       "<Figure size 480x480 with 2 Axes>"
      ]
     },
     "metadata": {},
     "output_type": "display_data"
    }
   ],
   "source": [
    "import matplotlib.pyplot as plt\n",
    "plt.matshow(myhf.get_fock(), cmap=\"cubehelix\")\n",
    "plt.colorbar()"
   ]
  },
  {
   "cell_type": "code",
   "execution_count": 41,
   "id": "c47c4455-bc12-44d8-92a0-edc8fde6c6b2",
   "metadata": {},
   "outputs": [
    {
     "data": {
      "text/plain": [
       "(19, 19)"
      ]
     },
     "execution_count": 41,
     "metadata": {},
     "output_type": "execute_result"
    }
   ],
   "source": [
    "myhf.get_hcore().shape"
   ]
  },
  {
   "cell_type": "code",
   "execution_count": 57,
   "id": "468b0b93-0ead-485a-a0d5-7685b11cfcd4",
   "metadata": {},
   "outputs": [
    {
     "data": {
      "text/plain": [
       "<matplotlib.colorbar.Colorbar at 0x7f8e1f58d9d0>"
      ]
     },
     "execution_count": 57,
     "metadata": {},
     "output_type": "execute_result"
    },
    {
     "data": {
      "image/png": "[encoded data removed]",
      "text/plain": [
       "<Figure size 480x480 with 2 Axes>"
      ]
     },
     "metadata": {},
     "output_type": "display_data"
    }
   ],
   "source": [
    "import matplotlib.pyplot as plt\n",
    "plt.matshow(myhf.get_hcore(), cmap=\"cubehelix\")\n",
    "plt.colorbar()"
   ]
  },
  {
   "cell_type": "code",
   "execution_count": null,
   "id": "40b44d4b-db6b-4c7a-84f4-feed89d297eb",
   "metadata": {},
   "outputs": [],
   "source": []
  }
 ],
 "metadata": {
  "kernelspec": {
   "display_name": "mmml",
   "language": "python",
   "name": "mmml"
  },
  "language_info": {
   "codemirror_mode": {
    "name": "ipython",
    "version": 3
   },
   "file_extension": ".py",
   "mimetype": "text/x-python",
   "name": "python",
   "nbconvert_exporter": "python",
   "pygments_lexer": "ipython3",
   "version": "3.12.5"
  }
 },
 "nbformat": 4,
 "nbformat_minor": 5
}
