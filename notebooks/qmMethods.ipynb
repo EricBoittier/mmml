{
 "cells": [
  {
   "cell_type": "code",
   "execution_count": 16,
   "id": "f1be73ae-37fb-4356-adb2-7a1a85d1aa99",
   "metadata": {},
   "outputs": [
    {
     "name": "stdout",
     "output_type": "stream",
     "text": [
      "converged SCF energy = -75.2427927126407\n"
     ]
    }
   ],
   "source": [
    "\n",
    "import pyscf\n",
    "from pyscf.dft import rks\n",
    "from pyscf import scf\n",
    "\n",
    "atom ='''\n",
    "O       0.0000000000    -0.0000000000     0.1174000000\n",
    "H      -0.7570000000    -0.0000000000    -0.4696000000\n",
    "H       0.7570000000     0.0000000000    -0.4696000000\n",
    "'''\n",
    "\n",
    "mol = pyscf.M(atom=atom, basis='def2-tzvpp')\n",
    "mf = rks.RKS(mol, xc='LDA').density_fit() #.to_gpu()  # move PySCF object to GPU4PySCF object\n",
    "e_dft = mf.kernel()  # compute total energy"
   ]
  },
  {
   "cell_type": "code",
   "execution_count": 63,
   "id": "009cfb7d-4074-4bf5-aa59-209d8a512f34",
   "metadata": {},
   "outputs": [],
   "source": [
    "import patchworklib as pw"
   ]
  },
  {
   "cell_type": "code",
   "execution_count": 12,
   "id": "8ebd9fe5-32ac-443a-942a-48aa94eb01bd",
   "metadata": {
    "collapsed": true,
    "jupyter": {
     "outputs_hidden": true
    },
    "scrolled": true
   },
   "outputs": [
    {
     "data": {
      "text/plain": [
       "\u001b[0;31mInit signature:\u001b[0m \u001b[0mrks\u001b[0m\u001b[0;34m.\u001b[0m\u001b[0mRKS\u001b[0m\u001b[0;34m(\u001b[0m\u001b[0mmol\u001b[0m\u001b[0;34m,\u001b[0m \u001b[0mxc\u001b[0m\u001b[0;34m=\u001b[0m\u001b[0;34m'LDA,VWN'\u001b[0m\u001b[0;34m)\u001b[0m\u001b[0;34m\u001b[0m\u001b[0;34m\u001b[0m\u001b[0m\n",
       "\u001b[0;31mDocstring:\u001b[0m     \n",
       "Restricted Kohn-Sham\n",
       "SCF base class.   non-relativistic RHF.\n",
       "\n",
       "    Attributes:\n",
       "        verbose : int\n",
       "            Print level.  Default value equals to :class:`Mole.verbose`\n",
       "        max_memory : float or int\n",
       "            Allowed memory in MB.  Default equals to :class:`Mole.max_memory`\n",
       "        chkfile : str\n",
       "            checkpoint file to save MOs, orbital energies etc.  Writing to\n",
       "            chkfile can be disabled if this attribute is set to None or False.\n",
       "        conv_tol : float\n",
       "            converge threshold.  Default is 1e-9\n",
       "        conv_tol_grad : float\n",
       "            gradients converge threshold.  Default is sqrt(conv_tol)\n",
       "        max_cycle : int\n",
       "            max number of iterations.  If max_cycle <= 0, SCF iteration will\n",
       "            be skipped and the kernel function will compute only the total\n",
       "            energy based on the initial guess. Default value is 50.\n",
       "        init_guess : str\n",
       "            initial guess method.  It can be one of 'minao', 'atom', 'huckel', 'hcore', '1e', 'sap', 'chkfile'.\n",
       "            Default is 'minao'\n",
       "        sap_basis : str or dict\n",
       "            basis for SAP initial guess, either filename or path as str or\n",
       "            internal format dictionary.\n",
       "        DIIS : DIIS class\n",
       "            The class to generate diis object.  It can be one of\n",
       "            diis.SCF_DIIS, diis.ADIIS, diis.EDIIS.\n",
       "        diis : boolean or object of DIIS class defined in :mod:`scf.diis`.\n",
       "            Default is the object associated to the attribute :attr:`self.DIIS`.\n",
       "            Set it to None/False to turn off DIIS.\n",
       "            Note if this attribute is initialized as a DIIS object, the SCF driver\n",
       "            will use this object in the iteration. The DIIS information (vector\n",
       "            basis and error vector) will be held inside this object. When kernel\n",
       "            function is called again, the old states (vector basis and error\n",
       "            vector) will be reused.\n",
       "        diis_space : int\n",
       "            DIIS space size.  By default, 8 Fock matrices and errors vector are stored.\n",
       "        diis_damp : float\n",
       "            DIIS damping factor.  Default is 0.\n",
       "        diis_start_cycle : int\n",
       "            The step to start DIIS.  Default is 1.\n",
       "        diis_file: 'str'\n",
       "            File to store DIIS vectors and error vectors.\n",
       "        level_shift : float or int\n",
       "            Level shift (in AU) for virtual space.  Default is 0.\n",
       "        direct_scf : bool\n",
       "            Direct SCF is used by default.\n",
       "        direct_scf_tol : float\n",
       "            Direct SCF cutoff threshold.  Default is 1e-13.\n",
       "        callback : function(envs_dict) => None\n",
       "            callback function takes one dict as the argument which is\n",
       "            generated by the builtin function :func:`locals`, so that the\n",
       "            callback function can access all local variables in the current\n",
       "            environment.\n",
       "        conv_check : bool\n",
       "            An extra cycle to check convergence after SCF iterations.\n",
       "        check_convergence : function(envs) => bool\n",
       "            A hook for overloading convergence criteria in SCF iterations.\n",
       "\n",
       "    Saved results:\n",
       "\n",
       "        converged : bool\n",
       "            Whether the SCF iteration converged\n",
       "        e_tot : float\n",
       "            Total HF energy (electronic energy plus nuclear repulsion)\n",
       "        mo_energy :\n",
       "            Orbital energies\n",
       "        mo_occ\n",
       "            Orbital occupancy\n",
       "        mo_coeff\n",
       "            Orbital coefficients\n",
       "        cycles : int\n",
       "            The number of iteration cycles performed\n",
       "\n",
       "    Examples:\n",
       "\n",
       "    >>> mol = gto.M(atom='H 0 0 0; H 0 0 1.1', basis='cc-pvdz')\n",
       "    >>> mf = scf.hf.SCF(mol)\n",
       "    >>> mf.verbose = 0\n",
       "    >>> mf.level_shift = .4\n",
       "    >>> mf.scf()\n",
       "    -1.0811707843775884\n",
       "    \n",
       "    Attributes for Kohn-Sham DFT:\n",
       "        xc : str\n",
       "            'X_name,C_name' for the XC functional.  Default is 'lda,vwn'\n",
       "        nlc : str\n",
       "            'NLC_name' for the NLC functional.  Default is '' (i.e., None)\n",
       "        omega : float\n",
       "            Omega of the range-separated Coulomb operator e^{-omega r_{12}^2} / r_{12}\n",
       "        grids : Grids object\n",
       "            grids.level (0 - 9)  big number for large mesh grids. Default is 3\n",
       "\n",
       "            radii_adjust\n",
       "                | radi.treutler_atomic_radii_adjust (default)\n",
       "                | radi.becke_atomic_radii_adjust\n",
       "                | None : to switch off atomic radii adjustment\n",
       "\n",
       "            grids.atomic_radii\n",
       "                | radi.BRAGG_RADII  (default)\n",
       "                | radi.COVALENT_RADII\n",
       "                | None : to switch off atomic radii adjustment\n",
       "\n",
       "            grids.radi_method  scheme for radial grids\n",
       "                | radi.treutler  (default)\n",
       "                | radi.delley\n",
       "                | radi.mura_knowles\n",
       "                | radi.gauss_chebyshev\n",
       "\n",
       "            grids.becke_scheme  weight partition function\n",
       "                | gen_grid.original_becke  (default)\n",
       "                | gen_grid.stratmann\n",
       "\n",
       "            grids.prune  scheme to reduce number of grids\n",
       "                | gen_grid.nwchem_prune  (default)\n",
       "                | gen_grid.sg1_prune\n",
       "                | gen_grid.treutler_prune\n",
       "                | None : to switch off grids pruning\n",
       "\n",
       "            grids.symmetry  True/False  to symmetrize mesh grids (TODO)\n",
       "\n",
       "            grids.atom_grid  Set (radial, angular) grids for particular atoms.\n",
       "            Eg, grids.atom_grid = {'H': (20,110)} will generate 20 radial\n",
       "            grids and 110 angular grids for H atom.\n",
       "\n",
       "        small_rho_cutoff : float\n",
       "            Drop grids if their contribution to total electrons smaller than\n",
       "            this cutoff value.  Default is 1e-7.\n",
       "\n",
       "    Examples:\n",
       "\n",
       "    >>> mol = gto.M(atom='O 0 0 0; H 0 0 1; H 0 1 0', basis='ccpvdz', verbose=0)\n",
       "    >>> mf = dft.RKS(mol)\n",
       "    >>> mf.xc = 'b3lyp'\n",
       "    >>> mf.kernel()\n",
       "    -76.415443079840458\n",
       "    \n",
       "\u001b[0;31mFile:\u001b[0m           ~/mmml/.venv/lib/python3.10/site-packages/pyscf/dft/rks.py\n",
       "\u001b[0;31mType:\u001b[0m           type\n",
       "\u001b[0;31mSubclasses:\u001b[0m     DFRKS"
      ]
     },
     "metadata": {},
     "output_type": "display_data"
    }
   ],
   "source": [
    "rks.RKS?"
   ]
  },
  {
   "cell_type": "code",
   "execution_count": 19,
   "id": "d5085ca0-b629-44e5-b330-36eef57eb475",
   "metadata": {
    "collapsed": true,
    "jupyter": {
     "outputs_hidden": true
    }
   },
   "outputs": [
    {
     "data": {
      "text/plain": [
       "['CASCI',\n",
       " 'CASSCF',\n",
       " 'CCSD',\n",
       " 'CISD',\n",
       " 'COSX',\n",
       " 'CasidaTDDFT',\n",
       " 'DDCOSMO',\n",
       " 'DFMP2',\n",
       " 'DIIS',\n",
       " 'Gradients',\n",
       " 'Hessian',\n",
       " 'MP2',\n",
       " 'NMR',\n",
       " 'NSR',\n",
       " 'PCM',\n",
       " 'Polarizability',\n",
       " 'QCISD',\n",
       " 'QMMM',\n",
       " 'RotationalGTensor',\n",
       " 'SMD',\n",
       " 'TDA',\n",
       " 'TDDFT',\n",
       " 'TDDFTNoHybrid',\n",
       " 'TDHF',\n",
       " '__call__',\n",
       " '__class__',\n",
       " '__delattr__',\n",
       " '__dict__',\n",
       " '__dir__',\n",
       " '__doc__',\n",
       " '__eq__',\n",
       " '__format__',\n",
       " '__ge__',\n",
       " '__getattr__',\n",
       " '__getattribute__',\n",
       " '__getstate__',\n",
       " '__gt__',\n",
       " '__hash__',\n",
       " '__init__',\n",
       " '__init_subclass__',\n",
       " '__le__',\n",
       " '__lt__',\n",
       " '__module__',\n",
       " '__name_mixin__',\n",
       " '__ne__',\n",
       " '__new__',\n",
       " '__reduce__',\n",
       " '__reduce_ex__',\n",
       " '__repr__',\n",
       " '__setattr__',\n",
       " '__setstate__',\n",
       " '__sizeof__',\n",
       " '__str__',\n",
       " '__subclasshook__',\n",
       " '__weakref__',\n",
       " '_cderi',\n",
       " '_chkfile',\n",
       " '_eigh',\n",
       " '_eri',\n",
       " '_finalize',\n",
       " '_is_mem_enough',\n",
       " '_keys',\n",
       " '_numint',\n",
       " '_opt',\n",
       " '_t0',\n",
       " '_transfer_attrs_',\n",
       " '_w0',\n",
       " 'analyze',\n",
       " 'apply',\n",
       " 'as_scanner',\n",
       " 'auxbasis',\n",
       " 'build',\n",
       " 'callback',\n",
       " 'canonicalize',\n",
       " 'check_convergence',\n",
       " 'check_sanity',\n",
       " 'chkfile',\n",
       " 'conv_check',\n",
       " 'conv_tol',\n",
       " 'conv_tol_cpscf',\n",
       " 'conv_tol_grad',\n",
       " 'converged',\n",
       " 'convert_from_',\n",
       " 'copy',\n",
       " 'cycles',\n",
       " 'dRPA',\n",
       " 'dTDA',\n",
       " 'damp',\n",
       " 'ddCOSMO',\n",
       " 'define_xc_',\n",
       " 'density_fit',\n",
       " 'diis',\n",
       " 'diis_damp',\n",
       " 'diis_file',\n",
       " 'diis_space',\n",
       " 'diis_space_rollback',\n",
       " 'diis_start_cycle',\n",
       " 'dip_moment',\n",
       " 'direct_scf',\n",
       " 'direct_scf_tol',\n",
       " 'disp',\n",
       " 'do_disp',\n",
       " 'do_nlc',\n",
       " 'dump_chk',\n",
       " 'dump_flags',\n",
       " 'dump_scf_summary',\n",
       " 'e_tot',\n",
       " 'eig',\n",
       " 'energy_elec',\n",
       " 'energy_nuc',\n",
       " 'energy_tot',\n",
       " 'from_chk',\n",
       " 'from_fcidump',\n",
       " 'gen_response',\n",
       " 'get_dispersion',\n",
       " 'get_fock',\n",
       " 'get_grad',\n",
       " 'get_hcore',\n",
       " 'get_init_guess',\n",
       " 'get_j',\n",
       " 'get_jk',\n",
       " 'get_k',\n",
       " 'get_occ',\n",
       " 'get_ovlp',\n",
       " 'get_veff',\n",
       " 'get_vsap',\n",
       " 'grids',\n",
       " 'init_direct_scf',\n",
       " 'init_guess',\n",
       " 'init_guess_by_1e',\n",
       " 'init_guess_by_atom',\n",
       " 'init_guess_by_chkfile',\n",
       " 'init_guess_by_huckel',\n",
       " 'init_guess_by_minao',\n",
       " 'init_guess_by_mod_huckel',\n",
       " 'init_guess_by_sap',\n",
       " 'init_guess_by_vsap',\n",
       " 'initialize_grids',\n",
       " 'istype',\n",
       " 'kernel',\n",
       " 'level_shift',\n",
       " 'make_rdm1',\n",
       " 'make_rdm2',\n",
       " 'max_cycle',\n",
       " 'max_memory',\n",
       " 'method_not_implemented',\n",
       " 'mo_coeff',\n",
       " 'mo_energy',\n",
       " 'mo_occ',\n",
       " 'mol',\n",
       " 'mulliken_meta',\n",
       " 'mulliken_pop',\n",
       " 'mulliken_pop_meta_lowdin_ao',\n",
       " 'newton',\n",
       " 'nlc',\n",
       " 'nlcgrids',\n",
       " 'nuc_grad_method',\n",
       " 'omega',\n",
       " 'only_dfj',\n",
       " 'opt',\n",
       " 'pop',\n",
       " 'post_kernel',\n",
       " 'pre_kernel',\n",
       " 'quad_moment',\n",
       " 'remove_soscf',\n",
       " 'reset',\n",
       " 'run',\n",
       " 'sap_basis',\n",
       " 'scf',\n",
       " 'scf_summary',\n",
       " 'set',\n",
       " 'sfx2c1e',\n",
       " 'small_rho_cutoff',\n",
       " 'spin_square',\n",
       " 'stability',\n",
       " 'stdout',\n",
       " 'to_ghf',\n",
       " 'to_gks',\n",
       " 'to_gpu',\n",
       " 'to_hf',\n",
       " 'to_ks',\n",
       " 'to_rhf',\n",
       " 'to_rks',\n",
       " 'to_uhf',\n",
       " 'to_uks',\n",
       " 'undo_df',\n",
       " 'update',\n",
       " 'update_',\n",
       " 'update_from_chk',\n",
       " 'update_from_chk_',\n",
       " 'verbose',\n",
       " 'view',\n",
       " 'with_df',\n",
       " 'x2c',\n",
       " 'x2c1e',\n",
       " 'xc']"
      ]
     },
     "execution_count": 19,
     "metadata": {},
     "output_type": "execute_result"
    }
   ],
   "source": [
    "dir(mf)"
   ]
  },
  {
   "cell_type": "code",
   "execution_count": 23,
   "id": "35826b86-c18a-4b0e-95c4-83ca151dde01",
   "metadata": {},
   "outputs": [
    {
     "name": "stdout",
     "output_type": "stream",
     "text": [
      "converged SCF energy = -76.062463452296\n"
     ]
    }
   ],
   "source": [
    "rhf_mf = scf.RHF(mol).run()\n"
   ]
  },
  {
   "cell_type": "code",
   "execution_count": 24,
   "id": "3c435de0-824a-4cde-87a3-39ad10b091a0",
   "metadata": {
    "scrolled": true
   },
   "outputs": [
    {
     "data": {
      "text/plain": [
       "['CASCI',\n",
       " 'CASSCF',\n",
       " 'CCSD',\n",
       " 'CISD',\n",
       " 'COSX',\n",
       " 'DDCOSMO',\n",
       " 'DFMP2',\n",
       " 'DIIS',\n",
       " 'Gradients',\n",
       " 'Hessian',\n",
       " 'MP2',\n",
       " 'PCM',\n",
       " 'QCISD',\n",
       " 'QMMM',\n",
       " 'SMD',\n",
       " 'TDA',\n",
       " 'TDHF',\n",
       " '__call__',\n",
       " '__class__',\n",
       " '__delattr__',\n",
       " '__dict__',\n",
       " '__dir__',\n",
       " '__doc__',\n",
       " '__eq__',\n",
       " '__format__',\n",
       " '__ge__',\n",
       " '__getattr__',\n",
       " '__getattribute__',\n",
       " '__getstate__',\n",
       " '__gt__',\n",
       " '__hash__',\n",
       " '__init__',\n",
       " '__init_subclass__',\n",
       " '__le__',\n",
       " '__lt__',\n",
       " '__module__',\n",
       " '__ne__',\n",
       " '__new__',\n",
       " '__reduce__',\n",
       " '__reduce_ex__',\n",
       " '__repr__',\n",
       " '__setattr__',\n",
       " '__setstate__',\n",
       " '__sizeof__',\n",
       " '__str__',\n",
       " '__subclasshook__',\n",
       " '__weakref__',\n",
       " '_chkfile',\n",
       " '_eigh',\n",
       " '_eri',\n",
       " '_finalize',\n",
       " '_is_mem_enough',\n",
       " '_keys',\n",
       " '_opt',\n",
       " '_t0',\n",
       " '_transfer_attrs_',\n",
       " '_w0',\n",
       " 'analyze',\n",
       " 'apply',\n",
       " 'as_scanner',\n",
       " 'build',\n",
       " 'callback',\n",
       " 'canonicalize',\n",
       " 'check_convergence',\n",
       " 'check_sanity',\n",
       " 'chkfile',\n",
       " 'conv_check',\n",
       " 'conv_tol',\n",
       " 'conv_tol_cpscf',\n",
       " 'conv_tol_grad',\n",
       " 'converged',\n",
       " 'convert_from_',\n",
       " 'copy',\n",
       " 'cycles',\n",
       " 'damp',\n",
       " 'ddCOSMO',\n",
       " 'density_fit',\n",
       " 'diis',\n",
       " 'diis_damp',\n",
       " 'diis_file',\n",
       " 'diis_space',\n",
       " 'diis_space_rollback',\n",
       " 'diis_start_cycle',\n",
       " 'dip_moment',\n",
       " 'direct_scf',\n",
       " 'direct_scf_tol',\n",
       " 'disp',\n",
       " 'do_disp',\n",
       " 'dump_chk',\n",
       " 'dump_flags',\n",
       " 'dump_scf_summary',\n",
       " 'e_tot',\n",
       " 'eig',\n",
       " 'energy_elec',\n",
       " 'energy_nuc',\n",
       " 'energy_tot',\n",
       " 'from_chk',\n",
       " 'from_fcidump',\n",
       " 'gen_response',\n",
       " 'get_dispersion',\n",
       " 'get_fock',\n",
       " 'get_grad',\n",
       " 'get_hcore',\n",
       " 'get_init_guess',\n",
       " 'get_j',\n",
       " 'get_jk',\n",
       " 'get_k',\n",
       " 'get_occ',\n",
       " 'get_ovlp',\n",
       " 'get_veff',\n",
       " 'init_direct_scf',\n",
       " 'init_guess',\n",
       " 'init_guess_by_1e',\n",
       " 'init_guess_by_atom',\n",
       " 'init_guess_by_chkfile',\n",
       " 'init_guess_by_huckel',\n",
       " 'init_guess_by_minao',\n",
       " 'init_guess_by_mod_huckel',\n",
       " 'init_guess_by_sap',\n",
       " 'istype',\n",
       " 'kernel',\n",
       " 'level_shift',\n",
       " 'make_rdm1',\n",
       " 'make_rdm2',\n",
       " 'max_cycle',\n",
       " 'max_memory',\n",
       " 'mo_coeff',\n",
       " 'mo_energy',\n",
       " 'mo_occ',\n",
       " 'mol',\n",
       " 'mulliken_meta',\n",
       " 'mulliken_pop',\n",
       " 'mulliken_pop_meta_lowdin_ao',\n",
       " 'newton',\n",
       " 'nuc_grad_method',\n",
       " 'opt',\n",
       " 'pop',\n",
       " 'post_kernel',\n",
       " 'pre_kernel',\n",
       " 'quad_moment',\n",
       " 'remove_soscf',\n",
       " 'reset',\n",
       " 'run',\n",
       " 'sap_basis',\n",
       " 'scf',\n",
       " 'scf_summary',\n",
       " 'set',\n",
       " 'sfx2c1e',\n",
       " 'spin_square',\n",
       " 'stability',\n",
       " 'stdout',\n",
       " 'to_ghf',\n",
       " 'to_gks',\n",
       " 'to_gpu',\n",
       " 'to_ks',\n",
       " 'to_rhf',\n",
       " 'to_rks',\n",
       " 'to_uhf',\n",
       " 'to_uks',\n",
       " 'update',\n",
       " 'update_',\n",
       " 'update_from_chk',\n",
       " 'update_from_chk_',\n",
       " 'verbose',\n",
       " 'view',\n",
       " 'x2c',\n",
       " 'x2c1e']"
      ]
     },
     "execution_count": 24,
     "metadata": {},
     "output_type": "execute_result"
    }
   ],
   "source": [
    "dir(rhf_mf)"
   ]
  },
  {
   "cell_type": "code",
   "execution_count": 5,
   "id": "25c39a4d-a629-4be0-afc6-a4aeb48b1b64",
   "metadata": {},
   "outputs": [
    {
     "name": "stdout",
     "output_type": "stream",
     "text": [
      "converged SCF energy = -76.0624634522948  <S^2> = 7.3381301e-12  2S+1 = 1\n"
     ]
    }
   ],
   "source": [
    "mf = scf.UHF(mol).run()\n"
   ]
  },
  {
   "cell_type": "code",
   "execution_count": 6,
   "id": "c1beb65f-f85b-495a-8220-7151c7c33592",
   "metadata": {},
   "outputs": [
    {
     "name": "stdout",
     "output_type": "stream",
     "text": [
      "converged SCF energy = -76.062463452296\n"
     ]
    }
   ],
   "source": [
    "mf = scf.ROHF(mol).run()\n"
   ]
  },
  {
   "cell_type": "code",
   "execution_count": 7,
   "id": "6ce663d7-ffd0-4c9b-bd6b-afdd2bc43efd",
   "metadata": {},
   "outputs": [
    {
     "name": "stdout",
     "output_type": "stream",
     "text": [
      "converged SCF energy = -76.0624634522839  <S^2> = 5.1485038e-11  2S+1 = 1\n"
     ]
    }
   ],
   "source": [
    "mf = scf.GHF(mol).run()\n"
   ]
  },
  {
   "cell_type": "code",
   "execution_count": 8,
   "id": "665c8fdc-da9f-4f3c-a1d0-86602d34a20d",
   "metadata": {},
   "outputs": [
    {
     "name": "stdout",
     "output_type": "stream",
     "text": [
      "converged SCF energy = -75.9046411205888\n"
     ]
    }
   ],
   "source": [
    "mf = scf.RKS(mol).run()\n"
   ]
  },
  {
   "cell_type": "code",
   "execution_count": 9,
   "id": "2cf93159-e115-4530-8713-42821bd00502",
   "metadata": {},
   "outputs": [
    {
     "name": "stdout",
     "output_type": "stream",
     "text": [
      "converged SCF energy = -75.9046411206113  <S^2> = 5.0448534e-13  2S+1 = 1\n"
     ]
    }
   ],
   "source": [
    "mf = scf.UKS(mol).run()\n"
   ]
  },
  {
   "cell_type": "code",
   "execution_count": 10,
   "id": "618d551e-b418-4d01-a046-0f65a1f34618",
   "metadata": {},
   "outputs": [
    {
     "name": "stdout",
     "output_type": "stream",
     "text": [
      "converged SCF energy = -75.9046411207707\n"
     ]
    }
   ],
   "source": [
    "mf = scf.ROKS(mol).run()\n"
   ]
  },
  {
   "cell_type": "code",
   "execution_count": 11,
   "id": "8f16f875-b92e-4e7d-8f54-e281a7c1e134",
   "metadata": {},
   "outputs": [
    {
     "name": "stdout",
     "output_type": "stream",
     "text": [
      "converged SCF energy = -75.9046411205885  <S^2> = -1.3322676e-15  2S+1 = 1\n"
     ]
    }
   ],
   "source": [
    "mf = scf.GKS(mol).run()"
   ]
  },
  {
   "cell_type": "code",
   "execution_count": 25,
   "id": "a0a39581-4a2e-42fd-8f74-9b28930f8ad1",
   "metadata": {},
   "outputs": [],
   "source": [
    "from pyscf import gto, scf\n",
    "import numpy as np\n",
    "import matplotlib.pyplot as plt\n"
   ]
  },
  {
   "cell_type": "code",
   "execution_count": 317,
   "id": "ca5c487d-1a6b-471a-aff2-f7a25e3c6fbf",
   "metadata": {},
   "outputs": [
    {
     "data": {
      "text/plain": [
       "<pyscf.gto.mole.Mole at 0x7dd0cba6e890>"
      ]
     },
     "execution_count": 317,
     "metadata": {},
     "output_type": "execute_result"
    }
   ],
   "source": [
    "mol = gto.Mole()\n",
    "mol.atom = 'H 0 0 0; H 0 0 0.74'  # H2 molecule, 0.74 Å bond length\n",
    "mol.basis = 'sto-3g'\n",
    "mol.basis = 'def2-5zvpp'\n",
    "mol.basis = '6-31++G'\n",
    "mol.spin = 0  # singlet\n",
    "mol.charge = 0\n",
    "mol.build()\n"
   ]
  },
  {
   "cell_type": "code",
   "execution_count": 318,
   "id": "6b9b0766-215f-4195-b3d6-50d7bcb00b35",
   "metadata": {},
   "outputs": [
    {
     "name": "stdout",
     "output_type": "stream",
     "text": [
      "converged SCF energy = -1.12685574525521\n"
     ]
    }
   ],
   "source": [
    "mf = scf.RHF(mol)\n",
    "energy_hf = mf.kernel()\n"
   ]
  },
  {
   "cell_type": "code",
   "execution_count": 319,
   "id": "a07914bb-c981-4050-bee4-833944b791f6",
   "metadata": {},
   "outputs": [
    {
     "name": "stdout",
     "output_type": "stream",
     "text": [
      "Hartree-Fock Total Energy: -1.126856 Ha\n"
     ]
    }
   ],
   "source": [
    "print(f\"Hartree-Fock Total Energy: {energy_hf:.6f} Ha\")\n"
   ]
  },
  {
   "cell_type": "code",
   "execution_count": 322,
   "id": "5ecc5ebc-194c-4acb-a9e7-f035ee3ebdf5",
   "metadata": {},
   "outputs": [],
   "source": [
    "FS = 18\n",
    "\n",
    "def plot_scf_energies(scf_energies):\n",
    "    ax1 = pw.Brick(figsize=(3,2))\n",
    "    ax1.plot(scf_energies, marker='o', color='b')\n",
    "    ax1.set_xlabel('SCF Iteration')\n",
    "    ax1.set_ylabel('Total Energy (Ha)')\n",
    "    ax1.set_title('SCF Convergence', fontsize=FS)\n",
    "    ax1.grid(True)\n",
    "    return ax1\n",
    "\n"
   ]
  },
  {
   "cell_type": "code",
   "execution_count": 320,
   "id": "35b8d2b9-bacf-49fe-b6f4-2751bc6df5bf",
   "metadata": {},
   "outputs": [
    {
     "name": "stdout",
     "output_type": "stream",
     "text": [
      "\n",
      "\n",
      "******** <class 'pyscf.scf.hf.RHF'> ********\n",
      "method = RHF\n",
      "initial guess = minao\n",
      "damping factor = 0\n",
      "level_shift factor = 0\n",
      "DIIS = <class 'pyscf.scf.diis.CDIIS'>\n",
      "diis_start_cycle = 1\n",
      "diis_space = 8\n",
      "diis_damp = 0\n",
      "SCF conv_tol = 1e-09\n",
      "SCF conv_tol_grad = None\n",
      "SCF max_cycles = 50\n",
      "direct_scf = True\n",
      "direct_scf_tol = 1e-13\n",
      "chkfile to save SCF result = /tmp/tmpm258f5uk\n",
      "max_memory 4000 MB (current use 2929 MB)\n",
      "Set gradient conv threshold to 3.16228e-05\n",
      "init E= -1.12685574525521\n",
      "  HOMO = -0.596688490146895  LUMO = 0.0752696357268026\n",
      "cycle= 1 E= -1.12685574525521  delta_E= -2.22e-16  |g|= 2.35e-10  |ddm|= 1.1e-09\n",
      "  HOMO = -0.596688490299524  LUMO = 0.0752696357014704\n",
      "Extra cycle  E= -1.12685574525521  delta_E= 4.44e-16  |g|= 5.85e-11  |ddm|= 2.93e-10\n",
      "converged SCF energy = -1.12685574525521\n"
     ]
    },
    {
     "data": {
      "text/plain": [
       "-1.126855745255214"
      ]
     },
     "execution_count": 320,
     "metadata": {},
     "output_type": "execute_result"
    }
   ],
   "source": [
    "mf.verbose = 4  # shows iteration details\n",
    "mf.kernel()\n"
   ]
  },
  {
   "cell_type": "code",
   "execution_count": 335,
   "id": "1f5a5e3e-6121-4569-90bb-e5f98e27217d",
   "metadata": {},
   "outputs": [
    {
     "name": "stdout",
     "output_type": "stream",
     "text": [
      "converged SCF energy = -1.12685574525521\n"
     ]
    },
    {
     "data": {
      "text/plain": [
       "-1.1268557452552137"
      ]
     },
     "execution_count": 335,
     "metadata": {},
     "output_type": "execute_result"
    }
   ],
   "source": [
    "mol = gto.Mole()\n",
    "mol.atom = 'H 0 0 0; H 0 0 0.74'  # H2 molecule, 0.74 Å bond length\n",
    "mol.basis = 'sto-3g'\n",
    "mol.basis = 'def2-5zvpp'\n",
    "mol.basis = '6-31++G'\n",
    "mol.spin = 0  # singlet\n",
    "mol.charge = 0\n",
    "mol.build()\n",
    "\n",
    "scf_energies = []\n",
    "def callback(envs):\n",
    "    scf_energies.append(envs['e_tot'])\n",
    "mf = scf.RHF(mol)\n",
    "mf.callback = callback\n",
    "mf.kernel()\n",
    "# plot_scf(mol, mf, scf_energies)"
   ]
  },
  {
   "cell_type": "code",
   "execution_count": null,
   "id": "2a6bd3fa-98de-42a0-bd2e-2e435cd9a475",
   "metadata": {},
   "outputs": [],
   "source": []
  },
  {
   "cell_type": "code",
   "execution_count": 336,
   "id": "c06b941e-52fb-4b57-a7b0-890f83ba9342",
   "metadata": {},
   "outputs": [],
   "source": [
    "fock_equations = pw.Brick(figsize=(1,1))\n",
    "fock_equations.text(0.05, 0.5, r\"$\\hat{F} \\phi_i = \\epsilon_i \\phi_i$\", fontsize=FS)\n",
    "fock_equations.axis('off');\n"
   ]
  },
  {
   "cell_type": "code",
   "execution_count": 353,
   "id": "9973fd9f-9b97-49a1-a57b-6938ab045f5a",
   "metadata": {},
   "outputs": [],
   "source": [
    "def plot_orbital_energies(orbital_energies):\n",
    "    # Plot the orbital energies as lines\n",
    "    ax1 = pw.Brick(figsize=(3,2))\n",
    "    ax1.axhline(y=0, color='k', linestyle='--', linewidth=1)  # Zero reference line\n",
    "    ax1.plot(orbital_energies, marker='o', linestyle='-', color='b', label='Orbital Energies')\n",
    "    \n",
    "    ax1.set_title('Orbital Energies (Hartree-Fock)', fontsize=FS)\n",
    "    ax1.set_xlabel('Orbital Index')\n",
    "    ax1.set_ylabel('Energy (Ha)')\n",
    "    ax1.grid(True)\n",
    "    ax1.legend()\n",
    "    return ax1\n",
    "\n",
    "# orbital_energies_plot"
   ]
  },
  {
   "cell_type": "code",
   "execution_count": null,
   "id": "7596b298-12a0-43a1-a752-5b2104ec6a26",
   "metadata": {},
   "outputs": [],
   "source": [
    "\n"
   ]
  },
  {
   "cell_type": "code",
   "execution_count": null,
   "id": "a3536cc0-035a-43f1-be74-dac25cb90069",
   "metadata": {},
   "outputs": [],
   "source": []
  },
  {
   "cell_type": "code",
   "execution_count": null,
   "id": "8a12552f-9c69-43dd-b934-fd50f630179e",
   "metadata": {},
   "outputs": [],
   "source": []
  },
  {
   "cell_type": "code",
   "execution_count": null,
   "id": "4276323d-dbec-4275-8dd9-921ea30fffcf",
   "metadata": {},
   "outputs": [],
   "source": []
  },
  {
   "cell_type": "code",
   "execution_count": 354,
   "id": "ee9d3dcb-701e-459b-9b7d-d056cbb5ca0c",
   "metadata": {},
   "outputs": [],
   "source": [
    "def plot_matrix(mat, title, cmap='plasma'):\n",
    "    ax1 = pw.Brick(figsize=(3,2))\n",
    "    ax1.imshow(mat, interpolation='nearest', cmap=cmap)\n",
    "    ax1.set_title(title, fontsize=FS)\n",
    "    ax1.set_xticks([])\n",
    "    ax1.set_yticks([])\n",
    "    return ax1\n"
   ]
  },
  {
   "cell_type": "code",
   "execution_count": 355,
   "id": "fbb69f3a-d421-4a36-8eac-78e3e5abe20e",
   "metadata": {},
   "outputs": [],
   "source": [
    "def plot_scf(mol, mf, scf_energies):\n",
    "\n",
    "    S = mol.intor('int1e_ovlp')      # Overlap matrix\n",
    "    T = mol.intor('int1e_kin')       # Kinetic energy matrix\n",
    "    V = mol.intor('int1e_nuc')       # Nuclear attraction matrix\n",
    "    H_core = T + V                   # Core Hamiltonian\n",
    "    D = mf.make_rdm1()               # Density matrix\n",
    "    F = mf.get_fock()                # Fock matrix\n",
    "    orbital_energies = mf.mo_energy  # Energies of the MOs\n",
    "    C = mf.mo_coeff  # shape (n_basis, n_orbitals)\n",
    "    eps = mf.mo_energy\n",
    "    scf_energies_plot = plot_scf_energies(scf_energies)\n",
    "    orbital_energies_plot = plot_orbital_energies(orbital_energies)\n",
    "    \n",
    "    Vplot = plot_matrix(V, r\"Nuclear attraction Matrix $S$\")\n",
    "    MOplot = plot_matrix(C, \"MO coefficients $C_{ij}$\")\n",
    "    OverlapMatrix = plot_matrix(S, r\"Overlap Matrix $S$\")\n",
    "    Hamiltonian = plot_matrix(H_core, r\"Core Hamiltonian $H_{\\mathrm{core}} = T + V$\")\n",
    "    Density = plot_matrix(D, r\"Density Matrix $D$\")\n",
    "    Fock = plot_matrix(F, r\"Fock Matrix $F = H_{\\mathrm{core}} + G[D]$\")\n",
    "    pw.param[\"margin\"]=0.1\n",
    "    equations =   (MOplot | Vplot) / (fock_equations / DensityMatrixEquation) / (  FockMatrixEquation)  \n",
    "    matrices = (Hamiltonian | OverlapMatrix) / ( Density | Fock ) \n",
    "    # info1 = (equations / matrices)\n",
    "    # scf_plots = \n",
    "    p = (matrices / orbital_energies_plot / scf_energies_plot) \n",
    "    return p"
   ]
  },
  {
   "cell_type": "code",
   "execution_count": null,
   "id": "8d17825a-46d0-47a7-87a3-1342aff84e47",
   "metadata": {},
   "outputs": [
    {
     "name": "stdout",
     "output_type": "stream",
     "text": [
      "converged SCF energy = -1.11675930739643\n",
      "converged SCF energy = -1.12798834964119\n",
      "converged SCF energy = -1.13361098805201\n"
     ]
    }
   ],
   "source": [
    "basis_es = ['sto-3g', \"6-311+G*\", \"ano-pV5Z\", \"aug-mcc-pV8Z\"]\n",
    "for basis in basis_es:\n",
    "    mol = gto.Mole()\n",
    "    mol.atom = 'H 0 0 0; H 0 0 0.74'  # H2 molecule, 0.74 Å bond length\n",
    "    mol.basis = basis\n",
    "    mol.spin = 0  # singlet\n",
    "    mol.charge = 0\n",
    "    mol.build()\n",
    "    \n",
    "    scf_energies = []\n",
    "    def callback(envs):\n",
    "        scf_energies.append(envs['e_tot'])\n",
    "    mf = scf.RHF(mol)\n",
    "    mf.callback = callback\n",
    "    mf.kernel()\n",
    "    \n",
    "    p=plot_scf(mol, mf, scf_energies)\n",
    "    \n",
    "    p.savefig(f\"{basis}-HF.pdf\", bbox_inches=\"tight\")"
   ]
  },
  {
   "cell_type": "code",
   "execution_count": null,
   "id": "eb2cba19-f10a-4ca6-ae56-5ac3e97178d1",
   "metadata": {},
   "outputs": [],
   "source": []
  },
  {
   "cell_type": "code",
   "execution_count": null,
   "id": "32591c0a-8383-4110-98c9-59a6c2523e28",
   "metadata": {},
   "outputs": [],
   "source": []
  },
  {
   "cell_type": "code",
   "execution_count": null,
   "id": "a28bec6b-6ee5-4f37-8b3c-a9e65b424f39",
   "metadata": {},
   "outputs": [],
   "source": []
  },
  {
   "cell_type": "code",
   "execution_count": null,
   "id": "e8a3cc75-33e7-48ee-99da-fb97817785bf",
   "metadata": {},
   "outputs": [],
   "source": []
  },
  {
   "cell_type": "code",
   "execution_count": null,
   "id": "426d3d43-1e99-4361-a899-554827cac922",
   "metadata": {},
   "outputs": [],
   "source": []
  },
  {
   "cell_type": "code",
   "execution_count": null,
   "id": "9d24e81a-0920-4482-9607-6ae02576d58c",
   "metadata": {},
   "outputs": [],
   "source": []
  },
  {
   "cell_type": "code",
   "execution_count": null,
   "id": "6c9906a1-a674-4356-99c3-45b6de07c693",
   "metadata": {},
   "outputs": [],
   "source": []
  },
  {
   "cell_type": "code",
   "execution_count": null,
   "id": "7e3263d9-77f0-437a-ad6a-f578592a6618",
   "metadata": {},
   "outputs": [],
   "source": []
  },
  {
   "cell_type": "code",
   "execution_count": null,
   "id": "6affd931-cb83-4d00-9f58-8f3c68c13dea",
   "metadata": {},
   "outputs": [],
   "source": []
  },
  {
   "cell_type": "code",
   "execution_count": null,
   "id": "429a2b38-843a-4d31-995a-d29f4a760792",
   "metadata": {},
   "outputs": [],
   "source": []
  }
 ],
 "metadata": {
  "kernelspec": {
   "display_name": "Python 3 (ipykernel)",
   "language": "python",
   "name": "python3"
  },
  "language_info": {
   "codemirror_mode": {
    "name": "ipython",
    "version": 3
   },
   "file_extension": ".py",
   "mimetype": "text/x-python",
   "name": "python",
   "nbconvert_exporter": "python",
   "pygments_lexer": "ipython3",
   "version": "3.10.18"
  }
 },
 "nbformat": 4,
 "nbformat_minor": 5
}
