{
 "cells": [
  {
   "cell_type": "code",
   "execution_count": 1,
   "id": "82cc0dc9-2e84-4265-9a62-c58b572b20fb",
   "metadata": {},
   "outputs": [
    {
     "name": "stdout",
     "output_type": "stream",
     "text": [
      "[CudaDevice(id=0)]\n",
      "gpu\n",
      "[CudaDevice(id=0)]\n"
     ]
    },
    {
     "data": {
      "text/plain": [
       "<Figure size 100x100 with 0 Axes>"
      ]
     },
     "metadata": {},
     "output_type": "display_data"
    }
   ],
   "source": [
    "import mmml\n",
    "import matplotlib.pyplot as plt\n",
    "import patchworklib as pw\n",
    "import os\n",
    "from pathlib import Path\n",
    "import numpy as np\n",
    "os.environ[\"XLA_PYTHON_CLIENT_MEM_FRACTION\"] = \"0.95\"\n",
    "os.environ[\"CUDA_VISIBLE_DEVICES\"] = \"1\"\n",
    "import jax\n",
    "devices = jax.local_devices()\n",
    "print(devices)\n",
    "print(jax.default_backend())\n",
    "print(jax.devices())\n",
    "\n",
    "# Import DCMNET components\n",
    "from mmml.dcmnet.dcmnet.models import DCM1, DCM2, DCM3, DCM4, dcm1_params, dcm2_params, dcm3_params, dcm4_params\n",
    "\n",
    "from mmml.dcmnet.dcmnet.models import models, model_params\n",
    "from mmml.dcmnet.dcmnet.loss import esp_mono_loss\n",
    "from mmml.dcmnet.dcmnet.electrostatics import calc_esp\n",
    "from mmml.dcmnet.dcmnet.utils import apply_model\n",
    "\n",
    "import numpy as np\n",
    "import jax\n",
    "import jax.numpy as jnp\n",
    "import sys\n",
    "import os\n",
    "\n",
    "\n",
    "from mmml.dcmnet.dcmnet_mcts import optimize_dcmnet_combination, DCMNETSelectionEnv\n",
    "\n",
    "# make bwr the default colormap\n",
    "plt.set_cmap('bwr')\n"
   ]
  },
  {
   "cell_type": "code",
   "execution_count": 2,
   "id": "30b30119",
   "metadata": {},
   "outputs": [],
   "source": [
    "def rotate(XYZ, rot):\n",
    "    # rotate XYZ by rot degrees around the y-axis\n",
    "    return np.dot(XYZ, np.array([[np.cos(rot), 0, np.sin(rot)],\n",
    "                                 [0, 1, 0],\n",
    "                                 [-np.sin(rot), 0, np.cos(rot)]]))\n",
    "\n",
    "def  plot_esp_in_3d(output, rot=False, KEY=\"esp_target\"):\n",
    "    # 3d plot of ESP    \n",
    "    ax = plt.axes(projection='3d')\n",
    "\n",
    "    # remove far away points\n",
    "    mask = np.linalg.norm(output['initial_vdw_surface'], axis=-1) < 10\n",
    "\n",
    "    if rot and type(rot) == float:\n",
    "        XYZ = rotate(output['initial_vdw_surface'], rot)\n",
    "    else:\n",
    "        XYZ = output['initial_vdw_surface']\n",
    "\n",
    "    s = ax.scatter(*XYZ[mask].T, \n",
    "    c=output[KEY][mask].flatten(), s=15, vmin=-0.1, vmax=0.1,    )\n",
    "\n",
    "\n",
    "    MIN_CO = np.min(XYZ[mask])\n",
    "    MAX_CO = np.max(XYZ[mask])\n",
    "\n",
    "    # even xyz ranges\n",
    "    ax.set_xlim(MIN_CO, MAX_CO)\n",
    "    ax.set_ylim(MIN_CO, MAX_CO)\n",
    "    ax.set_zlim(MIN_CO, MAX_CO)\n",
    "    plt.colorbar(s)\n",
    "    return ax\n",
    "\n",
    "\n",
    "\n",
    "\n"
   ]
  },
  {
   "cell_type": "code",
   "execution_count": 3,
   "id": "123b1cfc",
   "metadata": {},
   "outputs": [],
   "source": [
    "# ax = plt.axes()\n",
    "# # ax.axis('equal')\n",
    "# MinV, MaxV = np.min(output['esp_target']), np.max(output['esp_target'])\n",
    "# MinV, MaxV = -0.05, 0.05\n",
    "# ax.scatter(output['esp_target'], 0.5 * output['esp_pred'])\n",
    "# ax.set_xlim(MinV, MaxV)\n",
    "# ax.set_ylim(MinV, MaxV)\n",
    "# ax.plot([0, 1], [0, 1], 'k--', transform=ax.transAxes)\n",
    "\n",
    "# ax.set_xlabel('Target ESP')\n",
    "# ax.set_ylabel('Predicted ESP')\n",
    "# ax.set_title('ESP Prediction vs Target')\n",
    "# ax\n",
    "\n"
   ]
  },
  {
   "cell_type": "code",
   "execution_count": 4,
   "id": "c413e10c",
   "metadata": {},
   "outputs": [
    {
     "name": "stdout",
     "output_type": "stream",
     "text": [
      "lovely_jax enabled for enhanced array visualization\n"
     ]
    }
   ],
   "source": [
    "import jax\n",
    "\n",
    "from mmml.dcmnet.dcmnet.data import prepare_datasets\n",
    "from mmml.dcmnet.dcmnet.modules import MessagePassingModel\n",
    "from mmml.dcmnet.dcmnet.training import train_model, train_model_dipo\n",
    "\n",
    "key = jax.random.PRNGKey(0)\n"
   ]
  },
  {
   "cell_type": "code",
   "execution_count": 5,
   "id": "c9c6226f",
   "metadata": {},
   "outputs": [],
   "source": [
    "NDCM = 7\n",
    "model = MessagePassingModel(\n",
    "    features=32, max_degree=2, num_iterations=2,\n",
    "    num_basis_functions=32, cutoff=10.0, n_dcm=NDCM,\n",
    "    include_pseudotensors=False,\n",
    ")"
   ]
  },
  {
   "cell_type": "markdown",
   "id": "9274234d-f1d5-4d1b-9299-e1b2b7055b75",
   "metadata": {},
   "source": [
    "## Data"
   ]
  },
  {
   "cell_type": "code",
   "execution_count": 6,
   "id": "ac8eef70",
   "metadata": {},
   "outputs": [
    {
     "name": "stdout",
     "output_type": "stream",
     "text": [
      "/home/ericb/mmml/notebooks/dcmnet\n",
      "0 /home/ericb/esp2000.npz\n",
      "1 /home/ericb/RZ.npz\n",
      "2 /home/ericb/beta-diketones_71208.npz\n"
     ]
    }
   ],
   "source": [
    "current_path = Path.cwd()\n",
    "print(current_path)\n",
    "data_path = Path(\"/home/ericb\")\n",
    "data_files = list(data_path.glob(\"*npz\"))\n",
    "for i in range(len(data_files)):\n",
    "    print(i, data_files[i])"
   ]
  },
  {
   "cell_type": "code",
   "execution_count": null,
   "id": "f70fec24-c32b-41a3-bc61-2d70f790cb14",
   "metadata": {},
   "outputs": [],
   "source": []
  },
  {
   "cell_type": "code",
   "execution_count": 11,
   "id": "d91eb458",
   "metadata": {},
   "outputs": [
    {
     "data": {
      "text/plain": [
       "\u001b[31mSignature:\u001b[39m\n",
       "prepare_datasets(\n",
       "    key,\n",
       "    num_train,\n",
       "    num_valid,\n",
       "    filename,\n",
       "    natoms,\n",
       "    clean=\u001b[38;5;28;01mFalse\u001b[39;00m,\n",
       "    esp_mask=\u001b[38;5;28;01mFalse\u001b[39;00m,\n",
       "    clip_esp=\u001b[38;5;28;01mFalse\u001b[39;00m,\n",
       ")\n",
       "\u001b[31mDocstring:\u001b[39m\n",
       "Prepare datasets for training and validation.\n",
       "\n",
       "Wrapper function that calls prepare_multiple_datasets and then\n",
       "creates train/validation splits and dictionaries.\n",
       "\n",
       "Parameters\n",
       "----------\n",
       "key : jax.random.PRNGKey\n",
       "    Random key for dataset shuffling\n",
       "num_train : int\n",
       "    Number of training samples\n",
       "num_valid : int\n",
       "    Number of validation samples\n",
       "filename : str or list\n",
       "    Filename(s) to load datasets from\n",
       "clean : bool, optional\n",
       "    Whether to filter failed calculations, by default False\n",
       "esp_mask : bool, optional\n",
       "    Whether to create ESP masks, by default False\n",
       "clip_esp : bool, optional\n",
       "    Whether to clip ESP to first 1000 points, by default False\n",
       "natoms : int, optional\n",
       "    Maximum number of atoms per system, by default 60\n",
       "\n",
       "Returns\n",
       "-------\n",
       "tuple\n",
       "    A tuple containing train_data and valid_data dictionaries\n",
       "\u001b[31mFile:\u001b[39m      ~/mmml/mmml/dcmnet/dcmnet/data.py\n",
       "\u001b[31mType:\u001b[39m      function"
      ]
     },
     "metadata": {},
     "output_type": "display_data"
    }
   ],
   "source": [
    "# for k in data_loaded.keys():\n",
    "#     print(k)\n",
    "#     shape = data_loaded[k].shape\n",
    "#     print(shape\n",
    "#     )\n",
    "#     if len(shape) < 3:\n",
    "#         d = data_loaded[k]\n",
    "#         d = d.flatten()\n",
    "#         plt.hist(d)\n",
    "#         title = f\"{k}: {d.min()} - {d.max()}\"\n",
    "#         plt.title(title)\n",
    "#         plt.show()\n",
    "prepare_datasets?"
   ]
  },
  {
   "cell_type": "code",
   "execution_count": 10,
   "id": "8324ffbb",
   "metadata": {},
   "outputs": [
    {
     "ename": "TypeError",
     "evalue": "prepare_multiple_datasets() got multiple values for argument 'natoms'",
     "output_type": "error",
     "traceback": [
      "\u001b[31m---------------------------------------------------------------------------\u001b[39m",
      "\u001b[31mTypeError\u001b[39m                                 Traceback (most recent call last)",
      "\u001b[36mCell\u001b[39m\u001b[36m \u001b[39m\u001b[32mIn[10]\u001b[39m\u001b[32m, line 1\u001b[39m\n\u001b[32m----> \u001b[39m\u001b[32m1\u001b[39m train_data, valid_data = \u001b[43mprepare_datasets\u001b[49m\u001b[43m(\u001b[49m\n\u001b[32m      2\u001b[39m \u001b[43m    \u001b[49m\u001b[43mkey\u001b[49m\u001b[43m,\u001b[49m\u001b[43m \u001b[49m\u001b[32;43m1800\u001b[39;49m\u001b[43m,\u001b[49m\u001b[43m \u001b[49m\u001b[32;43m200\u001b[39;49m\u001b[43m,\u001b[49m\u001b[43m \u001b[49m\u001b[43m[\u001b[49m\u001b[33;43m\"\u001b[39;49m\u001b[33;43m/home/ericb/esp2000.npz\u001b[39;49m\u001b[33;43m\"\u001b[39;49m\u001b[43m]\u001b[49m\u001b[43m,\u001b[49m\n\u001b[32m      3\u001b[39m \u001b[43m    \u001b[49m\u001b[32;43m60\u001b[39;49m\u001b[43m,\u001b[49m\n\u001b[32m      4\u001b[39m \u001b[43m    \u001b[49m\u001b[43mesp_mask\u001b[49m\u001b[43m=\u001b[49m\u001b[38;5;28;43;01mTrue\u001b[39;49;00m\u001b[43m,\u001b[49m\n\u001b[32m      5\u001b[39m \u001b[43m)\u001b[49m\n",
      "\u001b[36mFile \u001b[39m\u001b[32m~/mmml/mmml/dcmnet/dcmnet/data.py:329\u001b[39m, in \u001b[36mprepare_datasets\u001b[39m\u001b[34m(key, num_train, num_valid, filename, natoms, clean, esp_mask, clip_esp)\u001b[39m\n\u001b[32m    326\u001b[39m \u001b[38;5;28;01mif\u001b[39;00m \u001b[38;5;28misinstance\u001b[39m(filename, \u001b[38;5;28mstr\u001b[39m):\n\u001b[32m    327\u001b[39m     filename = [filename]\n\u001b[32m--> \u001b[39m\u001b[32m329\u001b[39m data, keys, num_train, num_valid = \u001b[43mprepare_multiple_datasets\u001b[49m\u001b[43m(\u001b[49m\n\u001b[32m    330\u001b[39m \u001b[43m    \u001b[49m\u001b[43mkey\u001b[49m\u001b[43m,\u001b[49m\n\u001b[32m    331\u001b[39m \u001b[43m    \u001b[49m\u001b[43mnum_train\u001b[49m\u001b[43m,\u001b[49m\n\u001b[32m    332\u001b[39m \u001b[43m    \u001b[49m\u001b[43mnum_valid\u001b[49m\u001b[43m,\u001b[49m\n\u001b[32m    333\u001b[39m \u001b[43m    \u001b[49m\u001b[43mfilename\u001b[49m\u001b[43m,\u001b[49m\n\u001b[32m    334\u001b[39m \u001b[43m    \u001b[49m\u001b[43mclean\u001b[49m\u001b[43m=\u001b[49m\u001b[43mclean\u001b[49m\u001b[43m,\u001b[49m\n\u001b[32m    335\u001b[39m \u001b[43m    \u001b[49m\u001b[43mnatoms\u001b[49m\u001b[43m=\u001b[49m\u001b[43mnatoms\u001b[49m\u001b[43m,\u001b[49m\n\u001b[32m    336\u001b[39m \u001b[43m    \u001b[49m\u001b[43mclip_esp\u001b[49m\u001b[43m=\u001b[49m\u001b[43mclip_esp\u001b[49m\u001b[43m,\u001b[49m\n\u001b[32m    337\u001b[39m \u001b[43m    \u001b[49m\u001b[43mesp_mask\u001b[49m\u001b[43m=\u001b[49m\u001b[43mesp_mask\u001b[49m\u001b[43m,\u001b[49m\n\u001b[32m    338\u001b[39m \u001b[43m    \u001b[49m\u001b[38;5;66;43;03m# dataset_keys\u001b[39;49;00m\n\u001b[32m    339\u001b[39m \u001b[43m\u001b[49m\u001b[43m)\u001b[49m\n\u001b[32m    340\u001b[39m \u001b[38;5;28mprint\u001b[39m(data[\u001b[32m0\u001b[39m].shape)\n\u001b[32m    341\u001b[39m \u001b[38;5;28mprint\u001b[39m(keys)\n",
      "\u001b[31mTypeError\u001b[39m: prepare_multiple_datasets() got multiple values for argument 'natoms'"
     ]
    }
   ],
   "source": [
    "train_data, valid_data = prepare_datasets(\n",
    "    key, 1800, 200, [\"/home/ericb/esp2000.npz\"],\n",
    "    60,\n",
    "    esp_mask=True,\n",
    ")"
   ]
  },
  {
   "cell_type": "markdown",
   "id": "94993612-a25d-4580-baad-f6e740458901",
   "metadata": {},
   "source": [
    "## Training (1)"
   ]
  },
  {
   "cell_type": "code",
   "execution_count": null,
   "id": "882c1aee",
   "metadata": {},
   "outputs": [],
   "source": [
    "train_model?"
   ]
  },
  {
   "cell_type": "code",
   "execution_count": null,
   "id": "e3fcd1bb",
   "metadata": {
    "scrolled": true
   },
   "outputs": [],
   "source": [
    "# NDCM = 7\n",
    "models = []\n",
    "paramsco = []\n",
    "\n",
    "for NDCM in range(1,8):\n",
    "\n",
    "    model = MessagePassingModel(\n",
    "        features=64, max_degree=2, num_iterations=2,\n",
    "        num_basis_functions=32, cutoff=10.0, n_dcm=NDCM,\n",
    "        include_pseudotensors=False,\n",
    "    )\n",
    "    new_params = None\n",
    "    \n",
    "    params, valid_loss = train_model(\n",
    "        key=key, model=model,\n",
    "        writer=None,\n",
    "        train_data=train_data, valid_data=valid_data,\n",
    "        num_epochs=100, learning_rate=1e-3, batch_size=1,\n",
    "        ndcm=model.n_dcm, esp_w=10000.0,\n",
    "    )\n",
    "    new_params, valid_loss = train_model(\n",
    "        key=key, model=model,\n",
    "        writer=None,\n",
    "        train_data=train_data, valid_data=valid_data,\n",
    "        num_epochs=100, learning_rate=5e-4, batch_size=1,\n",
    "        ndcm=model.n_dcm, esp_w=10000.0,\n",
    "        restart_params=params if new_params is None else new_params,\n",
    "    )\n",
    "    new_params, valid_loss = train_model(\n",
    "        key=key, model=model,\n",
    "        writer=None,\n",
    "        train_data=train_data, valid_data=valid_data,\n",
    "        num_epochs=200, learning_rate=1e-4, batch_size=1,\n",
    "        ndcm=model.n_dcm, esp_w=10000.0,\n",
    "        restart_params=params if new_params is None else new_params,\n",
    "    )\n",
    "    np.save(f\"modelB{NDCM}\", new_params)\n",
    "    models.append(model)\n",
    "    paramsco.append(new_params)\n"
   ]
  },
  {
   "cell_type": "code",
   "execution_count": null,
   "id": "03e0d344",
   "metadata": {},
   "outputs": [],
   "source": [
    "def fig(output, batch):\n",
    "    \"\"\" plot results of dcmnet_analysis \"\"\"\n",
    "    import patchworklib as pw\n",
    "    VMAX = 0.01\n",
    "    xy_ax = pw.Brick()\n",
    "    xy_ax.scatter(batch[\"esp\"], output['esp_pred'], s=1)\n",
    "    max_val = np.sqrt(max(np.max(batch[\"esp\"]**2), np.max(output['esp_pred']**2)))\n",
    "    xy_ax.plot(np.linspace(-max_val, max_val, 100), np.linspace(-max_val, max_val, 100))\n",
    "    xy_ax.set_aspect('equal')\n",
    "\n",
    "    ax_true = pw.Brick()\n",
    "    Npoints = 4150\n",
    "    vdw_surface_min = np.min(batch[\"vdw_surface\"][0], axis=0)\n",
    "    vdw_surface_max = np.max(batch[\"vdw_surface\"][0], axis=0)\n",
    "\n",
    "    ax_true.scatter(\n",
    "        batch[\"vdw_surface\"][0][:Npoints,0], \n",
    "    batch[\"vdw_surface\"][0][:Npoints,1], \n",
    "    c=batch[\"esp\"][0][:Npoints],\n",
    "    s=0.01,\n",
    "        vmin=-VMAX, vmax=VMAX\n",
    "    )\n",
    "    max_val = np.sqrt(max(np.max(batch[\"esp\"]**2), np.max(output['esp_pred']**2)))\n",
    "    # ax.plot(np.linspace(-max_val, max_val, 100), np.linspace(-max_val, max_val, 100))\n",
    "    ax_true.set_aspect('equal')\n",
    "\n",
    "    ax_pred = pw.Brick()\n",
    "\n",
    "    ax_pred.scatter(\n",
    "        batch[\"vdw_surface\"][0][:Npoints,0], \n",
    "    batch[\"vdw_surface\"][0][:Npoints,1], \n",
    "    c=output['esp_pred'][:Npoints],\n",
    "    s=0.01,\n",
    "        vmin=-VMAX, vmax=VMAX\n",
    "    )\n",
    "    max_val = np.sqrt(max(np.max(batch[\"esp\"]**2), np.max(output['esp_pred']**2)))\n",
    "    # ax.plot(np.linspace(-max_val, max_val, 100), np.linspace(-max_val, max_val, 100))\n",
    "    ax_pred.set_aspect('equal')\n",
    "\n",
    "\n",
    "    ax_diff = pw.Brick()\n",
    "    ax_diff.scatter(\n",
    "        batch[\"vdw_surface\"][0][:Npoints,0], \n",
    "    batch[\"vdw_surface\"][0][:Npoints,1], \n",
    "    c=batch[\"esp\"][0][:Npoints] - output['esp_pred'][:Npoints],\n",
    "    s=0.01,\n",
    "        vmin=-VMAX, vmax=VMAX\n",
    "    )\n",
    "    ax_diff.set_aspect('equal')\n",
    "\n",
    "    for _ in [ax_pred, ax_true, ax_diff]:\n",
    "        _.set_xlim(vdw_surface_min[0], -vdw_surface_min[0])\n",
    "        _.set_ylim(vdw_surface_min[1], -vdw_surface_min[0])\n",
    "\n",
    "    charge_ax = pw.Brick()\n",
    "    charge_ax.matshow(output[\"mono\"][0][:int(batch[\"N\"])],vmin=-1,vmax=1)\n",
    "    scharge_ax = pw.Brick()\n",
    "    scharge_ax.matshow(output[\"mono\"][0][:int(batch[\"N\"])].sum(axis=-1)[:, None],vmin=-1,vmax=1)\n",
    "    # scharge_ax.add_colorbar(vmin=-1,vmax=1)\n",
    "    scharge_ax.axis(\"off\")\n",
    "    f = xy_ax | ((ax_pred | ax_true | ax_diff) /  (scharge_ax | charge_ax))\n",
    "    f.add_colorbar(vmin=-1,vmax=1)\n",
    "    return f\n",
    "\n"
   ]
  },
  {
   "cell_type": "code",
   "execution_count": null,
   "id": "fce74d58",
   "metadata": {},
   "outputs": [],
   "source": [
    "valid_data.keys()"
   ]
  },
  {
   "cell_type": "code",
   "execution_count": null,
   "id": "28b8755a-0f1f-4428-8b4e-7d1494d4a664",
   "metadata": {},
   "outputs": [],
   "source": [
    "def get_3d_views(output, batch):\n",
    "    R = output[\"dipo\"][:int(batch[\"N\"])*NDCM]\n",
    "    Z = np.array([1 if _ > 0 else 1 for _ in output[\"mono\"][0][:int(batch[\"N\"])].flatten()])\n",
    "    R.shape, Z.shape\n",
    "    dcm_atoms = ase.Atoms(Z, R)\n",
    "    view(dcm_atoms,  viewer=\"x3d\",\n",
    "    viewer_kwargs={\"width\": 1000, \"height\": 1000, \"show_unit_cell\": 1})\n",
    "    import ase\n",
    "    from ase.visualize import view\n",
    "    atoms = ase.Atoms(batch[\"Z\"][:int(batch[\"N\"])], \n",
    "    batch[\"R\"][:int(batch[\"N\"])])\n",
    "    view(atoms, viewer=\"x3d\")"
   ]
  },
  {
   "cell_type": "code",
   "execution_count": null,
   "id": "f30fdee0-9a31-4de3-8d43-e1ae8d59df8d",
   "metadata": {},
   "outputs": [],
   "source": [
    "batch\n"
   ]
  },
  {
   "cell_type": "code",
   "execution_count": null,
   "id": "48949895",
   "metadata": {},
   "outputs": [],
   "source": [
    "print(\"1. Molecular System:\")\n",
    "print(f\"   - {len(molecular_data['Z'])} atoms\")\n",
    "print(f\"   - Atomic numbers: {molecular_data['Z']}\")\n",
    "print(f\"   - Atom positions:\")\n",
    "for i, pos in enumerate(molecular_data['R']):\n",
    "    print(f\"     Atom {i}: {pos}\")\n",
    "\n",
    "print(\"\\n2. Available Models and Charges:\")\n",
    "total_charges = 0\n",
    "for model_id, charges in model_charges.items():\n",
    "    n_charges = charges.shape[1]\n",
    "    total_charges += n_charges\n",
    "    print(f\"   - DCM{model_id+1}: {n_charges} charges per atom\")\n",
    "    print(f\"     Example charges for atom 0: {charges[0].tolist()}\")\n",
    "    print(f\"     Example positions for atom 0:\")\n",
    "    for j, pos in enumerate(model_positions[model_id][0]):\n",
    "        print(f\"       Charge {j}: {pos}\")\n",
    "\n",
    "print(f\"\\n   Total charges per atom across all models: {total_charges}\")\n",
    "print(f\"   Total possible charge combinations: {total_charges ** len(molecular_data['Z'])}\")\n",
    "\n",
    "print(\"\\n3. Creating DCMNET Selection Environment...\")\n",
    "env = DCMNETSelectionEnv(molecular_data, esp_target, vdw_surface, model_charges, model_positions)\n",
    "\n",
    "print(f\"   - Environment state shape: {env.selected_charges.shape}\")\n",
    "print(f\"   - Charge mapping: {env.charge_mapping}\")\n",
    "print(f\"   - Legal actions: {len(env.legal_actions())} possible (atom_idx, charge_idx) pairs\")\n",
    "\n",
    "print(\"\\n4. Running MCTS Optimization...\")\n",
    "best_selection, best_loss = optimize_dcmnet_combination(\n",
    "    molecular_data=molecular_data,\n",
    "    esp_target=esp_target,\n",
    "    vdw_surface=vdw_surface,\n",
    "    model_charges=model_charges,\n",
    "    model_positions=model_positions,\n",
    "    n_simulations=100,  # Small number for demo\n",
    "    temperature=1.0\n",
    ")"
   ]
  },
  {
   "cell_type": "code",
   "execution_count": null,
   "id": "3754926b",
   "metadata": {},
   "outputs": [],
   "source": [
    "best_selection, best_loss"
   ]
  },
  {
   "cell_type": "code",
   "execution_count": null,
   "id": "14e932a4",
   "metadata": {},
   "outputs": [],
   "source": []
  }
 ],
 "metadata": {
  "kernelspec": {
   "display_name": "Python 3 (ipykernel)",
   "language": "python",
   "name": "python3"
  },
  "language_info": {
   "codemirror_mode": {
    "name": "ipython",
    "version": 3
   },
   "file_extension": ".py",
   "mimetype": "text/x-python",
   "name": "python",
   "nbconvert_exporter": "python",
   "pygments_lexer": "ipython3",
   "version": "3.12.12"
  }
 },
 "nbformat": 4,
 "nbformat_minor": 5
}
