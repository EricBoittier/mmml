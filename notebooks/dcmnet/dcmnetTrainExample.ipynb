{
 "cells": [
  {
   "cell_type": "code",
   "execution_count": 1,
   "id": "82cc0dc9-2e84-4265-9a62-c58b572b20fb",
   "metadata": {},
   "outputs": [
    {
     "name": "stdout",
     "output_type": "stream",
     "text": [
      "[CudaDevice(id=0)]\n",
      "gpu\n",
      "[CudaDevice(id=0)]\n"
     ]
    },
    {
     "data": {
      "text/plain": [
       "<Figure size 100x100 with 0 Axes>"
      ]
     },
     "metadata": {},
     "output_type": "display_data"
    }
   ],
   "source": [
    "import mmml\n",
    "import matplotlib.pyplot as plt\n",
    "import patchworklib as pw\n",
    "import os\n",
    "from pathlib import Path\n",
    "import numpy as np\n",
    "os.environ[\"XLA_PYTHON_CLIENT_MEM_FRACTION\"] = \"0.95\"\n",
    "os.environ[\"CUDA_VISIBLE_DEVICES\"] = \"1\"\n",
    "import jax\n",
    "devices = jax.local_devices()\n",
    "print(devices)\n",
    "print(jax.default_backend())\n",
    "print(jax.devices())\n",
    "\n",
    "# Import DCMNET components\n",
    "from mmml.dcmnet.dcmnet.models import DCM1, DCM2, DCM3, DCM4, dcm1_params, dcm2_params, dcm3_params, dcm4_params\n",
    "\n",
    "from mmml.dcmnet.dcmnet.models import models, model_params\n",
    "from mmml.dcmnet.dcmnet.loss import esp_mono_loss\n",
    "from mmml.dcmnet.dcmnet.electrostatics import calc_esp\n",
    "from mmml.dcmnet.dcmnet.utils import apply_model\n",
    "\n",
    "import numpy as np\n",
    "import jax\n",
    "import jax.numpy as jnp\n",
    "import sys\n",
    "import os\n",
    "\n",
    "\n",
    "from mmml.dcmnet.dcmnet_mcts import optimize_dcmnet_combination, DCMNETSelectionEnv\n",
    "\n",
    "# make bwr the default colormap\n",
    "plt.set_cmap('bwr')\n"
   ]
  },
  {
   "cell_type": "code",
   "execution_count": 2,
   "id": "30b30119",
   "metadata": {},
   "outputs": [],
   "source": [
    "def rotate(XYZ, rot):\n",
    "    # rotate XYZ by rot degrees around the y-axis\n",
    "    return np.dot(XYZ, np.array([[np.cos(rot), 0, np.sin(rot)],\n",
    "                                 [0, 1, 0],\n",
    "                                 [-np.sin(rot), 0, np.cos(rot)]]))\n",
    "\n",
    "def  plot_esp_in_3d(output, rot=False, KEY=\"esp_target\"):\n",
    "    # 3d plot of ESP    \n",
    "    ax = plt.axes(projection='3d')\n",
    "\n",
    "    # remove far away points\n",
    "    mask = np.linalg.norm(output['initial_vdw_surface'], axis=-1) < 10\n",
    "\n",
    "    if rot and type(rot) == float:\n",
    "        XYZ = rotate(output['initial_vdw_surface'], rot)\n",
    "    else:\n",
    "        XYZ = output['initial_vdw_surface']\n",
    "\n",
    "    s = ax.scatter(*XYZ[mask].T, \n",
    "    c=output[KEY][mask].flatten(), s=15, vmin=-0.1, vmax=0.1,    )\n",
    "\n",
    "\n",
    "    MIN_CO = np.min(XYZ[mask])\n",
    "    MAX_CO = np.max(XYZ[mask])\n",
    "\n",
    "    # even xyz ranges\n",
    "    ax.set_xlim(MIN_CO, MAX_CO)\n",
    "    ax.set_ylim(MIN_CO, MAX_CO)\n",
    "    ax.set_zlim(MIN_CO, MAX_CO)\n",
    "    plt.colorbar(s)\n",
    "    return ax\n",
    "\n",
    "\n",
    "\n",
    "\n"
   ]
  },
  {
   "cell_type": "code",
   "execution_count": 3,
   "id": "123b1cfc",
   "metadata": {},
   "outputs": [],
   "source": [
    "# ax = plt.axes()\n",
    "# # ax.axis('equal')\n",
    "# MinV, MaxV = np.min(output['esp_target']), np.max(output['esp_target'])\n",
    "# MinV, MaxV = -0.05, 0.05\n",
    "# ax.scatter(output['esp_target'], 0.5 * output['esp_pred'])\n",
    "# ax.set_xlim(MinV, MaxV)\n",
    "# ax.set_ylim(MinV, MaxV)\n",
    "# ax.plot([0, 1], [0, 1], 'k--', transform=ax.transAxes)\n",
    "\n",
    "# ax.set_xlabel('Target ESP')\n",
    "# ax.set_ylabel('Predicted ESP')\n",
    "# ax.set_title('ESP Prediction vs Target')\n",
    "# ax\n",
    "\n"
   ]
  },
  {
   "cell_type": "code",
   "execution_count": 4,
   "id": "c413e10c",
   "metadata": {},
   "outputs": [
    {
     "name": "stdout",
     "output_type": "stream",
     "text": [
      "lovely_jax enabled for enhanced array visualization\n"
     ]
    }
   ],
   "source": [
    "import jax\n",
    "\n",
    "from mmml.dcmnet.dcmnet.data import prepare_datasets\n",
    "from mmml.dcmnet.dcmnet.modules import MessagePassingModel\n",
    "from mmml.dcmnet.dcmnet.training import train_model, train_model_dipo\n",
    "\n",
    "key = jax.random.PRNGKey(0)\n"
   ]
  },
  {
   "cell_type": "code",
   "execution_count": 5,
   "id": "c9c6226f",
   "metadata": {},
   "outputs": [],
   "source": [
    "NDCM = 7\n",
    "model = MessagePassingModel(\n",
    "    features=32, max_degree=2, num_iterations=2,\n",
    "    num_basis_functions=32, cutoff=10.0, n_dcm=NDCM,\n",
    "    include_pseudotensors=False,\n",
    ")"
   ]
  },
  {
   "cell_type": "markdown",
   "id": "9274234d-f1d5-4d1b-9299-e1b2b7055b75",
   "metadata": {},
   "source": [
    "## Data"
   ]
  },
  {
   "cell_type": "code",
   "execution_count": 6,
   "id": "ac8eef70",
   "metadata": {},
   "outputs": [
    {
     "name": "stdout",
     "output_type": "stream",
     "text": [
      "/home/ericb/mmml/notebooks/dcmnet\n",
      "0 /home/ericb/esp2000.npz\n",
      "1 /home/ericb/RZ.npz\n",
      "2 /home/ericb/beta-diketones_71208.npz\n"
     ]
    }
   ],
   "source": [
    "current_path = Path.cwd()\n",
    "print(current_path)\n",
    "data_path = Path(\"/home/ericb\")\n",
    "data_files = list(data_path.glob(\"*npz\"))\n",
    "for i in range(len(data_files)):\n",
    "    print(i, data_files[i])"
   ]
  },
  {
   "cell_type": "code",
   "execution_count": null,
   "id": "f70fec24-c32b-41a3-bc61-2d70f790cb14",
   "metadata": {},
   "outputs": [],
   "source": []
  },
  {
   "cell_type": "code",
   "execution_count": 7,
   "id": "d91eb458",
   "metadata": {},
   "outputs": [],
   "source": [
    "# for k in data_loaded.keys():\n",
    "#     print(k)\n",
    "#     shape = data_loaded[k].shape\n",
    "#     print(shape\n",
    "#     )\n",
    "#     if len(shape) < 3:\n",
    "#         d = data_loaded[k]\n",
    "#         d = d.flatten()\n",
    "#         plt.hist(d)\n",
    "#         title = f\"{k}: {d.min()} - {d.max()}\"\n",
    "#         plt.title(title)\n",
    "#         plt.show()"
   ]
  },
  {
   "cell_type": "code",
   "execution_count": 8,
   "id": "8324ffbb",
   "metadata": {},
   "outputs": [
    {
     "name": "stdout",
     "output_type": "stream",
     "text": [
      "shape (2000, 60, 3)\n",
      "R (2000, 60, 3)\n",
      "(2000, 60, 3)\n",
      "['R', 'Z', 'N', 'mono', 'esp', 'vdw_surface', 'n_grid', 'espMask']\n",
      "2000\n",
      "0 R 2000 (2000, 60, 3)\n",
      "1 Z 2000 (2000, 60)\n",
      "2 N 2000 (2000, 1)\n",
      "3 mono 2000 (2000, 60)\n",
      "4 esp 2000 (2000, 4953)\n",
      "5 vdw_surface 2000 (2000, 4953, 3)\n",
      "6 n_grid 2000 (2000,)\n",
      "7 espMask 2000 (2000, 4953)\n"
     ]
    }
   ],
   "source": [
    "train_data, valid_data = prepare_datasets(\n",
    "    key, 1800, 200, [\"/home/ericb/esp2000.npz\"],\n",
    "    esp_mask=True,\n",
    ")"
   ]
  },
  {
   "cell_type": "markdown",
   "id": "94993612-a25d-4580-baad-f6e740458901",
   "metadata": {},
   "source": [
    "## Training (1)"
   ]
  },
  {
   "cell_type": "code",
   "execution_count": 9,
   "id": "882c1aee",
   "metadata": {},
   "outputs": [
    {
     "data": {
      "text/plain": [
       "\u001b[31mSignature:\u001b[39m\n",
       "train_model(\n",
       "    key,\n",
       "    model,\n",
       "    train_data,\n",
       "    valid_data,\n",
       "    num_epochs,\n",
       "    learning_rate,\n",
       "    batch_size,\n",
       "    writer,\n",
       "    ndcm,\n",
       "    esp_w=\u001b[32m1.0\u001b[39m,\n",
       "    chg_w=\u001b[32m0.01\u001b[39m,\n",
       "    restart_params=\u001b[38;5;28;01mNone\u001b[39;00m,\n",
       "    ema_decay=\u001b[32m0.999\u001b[39m,\n",
       "    num_atoms=\u001b[32m60\u001b[39m,\n",
       "    use_grad_clip=\u001b[38;5;28;01mFalse\u001b[39;00m,\n",
       "    grad_clip_norm=\u001b[32m2.0\u001b[39m,\n",
       ")\n",
       "\u001b[31mDocstring:\u001b[39m\n",
       "Train DCMNet model with ESP and monopole losses.\n",
       "\n",
       "Performs full training loop with validation, logging, and checkpointing.\n",
       "Uses exponential moving average (EMA) for parameter smoothing and saves\n",
       "best parameters based on validation loss.\n",
       "\n",
       "Parameters\n",
       "----------\n",
       "key : jax.random.PRNGKey\n",
       "    Random key for training\n",
       "model : MessagePassingModel\n",
       "    DCMNet model instance\n",
       "train_data : dict\n",
       "    Training dataset dictionary\n",
       "valid_data : dict\n",
       "    Validation dataset dictionary\n",
       "num_epochs : int\n",
       "    Number of training epochs\n",
       "learning_rate : float\n",
       "    Learning rate for optimization\n",
       "batch_size : int\n",
       "    Batch size for training\n",
       "writer : SummaryWriter\n",
       "    TensorBoard writer for logging\n",
       "ndcm : int\n",
       "    Number of distributed multipoles per atom\n",
       "esp_w : float, optional\n",
       "    Weight for ESP loss term, by default 1.0\n",
       "chg_w : float, optional\n",
       "    Weight for charge/monopole loss term, by default 0.01\n",
       "restart_params : Any, optional\n",
       "    Parameters to restart from, by default None\n",
       "ema_decay : float, optional\n",
       "    Exponential moving average decay rate, by default 0.999\n",
       "num_atoms : int, optional\n",
       "    Maximum number of atoms for batching, by default 60\n",
       "use_grad_clip : bool, optional\n",
       "    Whether to use gradient clipping, by default False\n",
       "grad_clip_norm : float, optional\n",
       "    Maximum gradient norm for clipping, by default 2.0\n",
       "    \n",
       "Returns\n",
       "-------\n",
       "tuple\n",
       "    (final_params, final_valid_loss)\n",
       "\u001b[31mFile:\u001b[39m      ~/mmml/mmml/dcmnet/dcmnet/training.py\n",
       "\u001b[31mType:\u001b[39m      function"
      ]
     },
     "metadata": {},
     "output_type": "display_data"
    }
   ],
   "source": [
    "train_model?"
   ]
  },
  {
   "cell_type": "code",
   "execution_count": null,
   "id": "e3fcd1bb",
   "metadata": {
    "scrolled": true
   },
   "outputs": [
    {
     "name": "stdout",
     "output_type": "stream",
     "text": [
      "Preparing batches\n",
      "..................\n",
      "Training\n",
      "..................\n"
     ]
    }
   ],
   "source": [
    "# NDCM = 7\n",
    "models = []\n",
    "paramsco = []\n",
    "\n",
    "for NDCM in range(1,8):\n",
    "\n",
    "    model = MessagePassingModel(\n",
    "        features=64, max_degree=2, num_iterations=2,\n",
    "        num_basis_functions=32, cutoff=10.0, n_dcm=NDCM,\n",
    "        include_pseudotensors=False,\n",
    "    )\n",
    "    new_params = None\n",
    "    \n",
    "    params, valid_loss = train_model(\n",
    "        key=key, model=model,\n",
    "        writer=None,\n",
    "        train_data=train_data, valid_data=valid_data,\n",
    "        num_epochs=100, learning_rate=1e-3, batch_size=1,\n",
    "        ndcm=model.n_dcm, esp_w=10000.0,\n",
    "    )\n",
    "    new_params, valid_loss = train_model(\n",
    "        key=key, model=model,\n",
    "        writer=None,\n",
    "        train_data=train_data, valid_data=valid_data,\n",
    "        num_epochs=100, learning_rate=5e-4, batch_size=1,\n",
    "        ndcm=model.n_dcm, esp_w=10000.0,\n",
    "        restart_params=params if new_params is None else new_params,\n",
    "    )\n",
    "    new_params, valid_loss = train_model(\n",
    "        key=key, model=model,\n",
    "        writer=None,\n",
    "        train_data=train_data, valid_data=valid_data,\n",
    "        num_epochs=200, learning_rate=1e-4, batch_size=1,\n",
    "        ndcm=model.n_dcm, esp_w=10000.0,\n",
    "        restart_params=params if new_params is None else new_params,\n",
    "    )\n",
    "    np.save(f\"modelB{NDCM}\", new_params)\n",
    "    models.append(model)\n",
    "    paramsco.append(new_params)\n"
   ]
  },
  {
   "cell_type": "code",
   "execution_count": null,
   "id": "03e0d344",
   "metadata": {},
   "outputs": [],
   "source": [
    "def fig(output, batch):\n",
    "    \"\"\" plot results of dcmnet_analysis \"\"\"\n",
    "    import patchworklib as pw\n",
    "    VMAX = 0.01\n",
    "    xy_ax = pw.Brick()\n",
    "    xy_ax.scatter(batch[\"esp\"], output['esp_pred'], s=1)\n",
    "    max_val = np.sqrt(max(np.max(batch[\"esp\"]**2), np.max(output['esp_pred']**2)))\n",
    "    xy_ax.plot(np.linspace(-max_val, max_val, 100), np.linspace(-max_val, max_val, 100))\n",
    "    xy_ax.set_aspect('equal')\n",
    "\n",
    "    ax_true = pw.Brick()\n",
    "    Npoints = 4150\n",
    "    vdw_surface_min = np.min(batch[\"vdw_surface\"][0], axis=0)\n",
    "    vdw_surface_max = np.max(batch[\"vdw_surface\"][0], axis=0)\n",
    "\n",
    "    ax_true.scatter(\n",
    "        batch[\"vdw_surface\"][0][:Npoints,0], \n",
    "    batch[\"vdw_surface\"][0][:Npoints,1], \n",
    "    c=batch[\"esp\"][0][:Npoints],\n",
    "    s=0.01,\n",
    "        vmin=-VMAX, vmax=VMAX\n",
    "    )\n",
    "    max_val = np.sqrt(max(np.max(batch[\"esp\"]**2), np.max(output['esp_pred']**2)))\n",
    "    # ax.plot(np.linspace(-max_val, max_val, 100), np.linspace(-max_val, max_val, 100))\n",
    "    ax_true.set_aspect('equal')\n",
    "\n",
    "    ax_pred = pw.Brick()\n",
    "\n",
    "    ax_pred.scatter(\n",
    "        batch[\"vdw_surface\"][0][:Npoints,0], \n",
    "    batch[\"vdw_surface\"][0][:Npoints,1], \n",
    "    c=output['esp_pred'][:Npoints],\n",
    "    s=0.01,\n",
    "        vmin=-VMAX, vmax=VMAX\n",
    "    )\n",
    "    max_val = np.sqrt(max(np.max(batch[\"esp\"]**2), np.max(output['esp_pred']**2)))\n",
    "    # ax.plot(np.linspace(-max_val, max_val, 100), np.linspace(-max_val, max_val, 100))\n",
    "    ax_pred.set_aspect('equal')\n",
    "\n",
    "\n",
    "    ax_diff = pw.Brick()\n",
    "    ax_diff.scatter(\n",
    "        batch[\"vdw_surface\"][0][:Npoints,0], \n",
    "    batch[\"vdw_surface\"][0][:Npoints,1], \n",
    "    c=batch[\"esp\"][0][:Npoints] - output['esp_pred'][:Npoints],\n",
    "    s=0.01,\n",
    "        vmin=-VMAX, vmax=VMAX\n",
    "    )\n",
    "    ax_diff.set_aspect('equal')\n",
    "\n",
    "    for _ in [ax_pred, ax_true, ax_diff]:\n",
    "        _.set_xlim(vdw_surface_min[0], -vdw_surface_min[0])\n",
    "        _.set_ylim(vdw_surface_min[1], -vdw_surface_min[0])\n",
    "\n",
    "    charge_ax = pw.Brick()\n",
    "    charge_ax.matshow(output[\"mono\"][0][:int(batch[\"N\"])],vmin=-1,vmax=1)\n",
    "    scharge_ax = pw.Brick()\n",
    "    scharge_ax.matshow(output[\"mono\"][0][:int(batch[\"N\"])].sum(axis=-1)[:, None],vmin=-1,vmax=1)\n",
    "    # scharge_ax.add_colorbar(vmin=-1,vmax=1)\n",
    "    scharge_ax.axis(\"off\")\n",
    "    f = xy_ax | ((ax_pred | ax_true | ax_diff) /  (scharge_ax | charge_ax))\n",
    "    f.add_colorbar(vmin=-1,vmax=1)\n",
    "    return f\n",
    "\n"
   ]
  },
  {
   "cell_type": "code",
   "execution_count": null,
   "id": "fce74d58",
   "metadata": {},
   "outputs": [],
   "source": [
    "valid_data.keys()"
   ]
  },
  {
   "cell_type": "code",
   "execution_count": null,
   "id": "28b8755a-0f1f-4428-8b4e-7d1494d4a664",
   "metadata": {},
   "outputs": [],
   "source": [
    "def get_3d_views(output, batch):\n",
    "    R = output[\"dipo\"][:int(batch[\"N\"])*NDCM]\n",
    "    Z = np.array([1 if _ > 0 else 1 for _ in output[\"mono\"][0][:int(batch[\"N\"])].flatten()])\n",
    "    R.shape, Z.shape\n",
    "    dcm_atoms = ase.Atoms(Z, R)\n",
    "    view(dcm_atoms,  viewer=\"x3d\",\n",
    "    viewer_kwargs={\"width\": 1000, \"height\": 1000, \"show_unit_cell\": 1})\n",
    "    import ase\n",
    "    from ase.visualize import view\n",
    "    atoms = ase.Atoms(batch[\"Z\"][:int(batch[\"N\"])], \n",
    "    batch[\"R\"][:int(batch[\"N\"])])\n",
    "    view(atoms, viewer=\"x3d\")"
   ]
  },
  {
   "cell_type": "code",
   "execution_count": null,
   "id": "f30fdee0-9a31-4de3-8d43-e1ae8d59df8d",
   "metadata": {},
   "outputs": [],
   "source": [
    "batch\n"
   ]
  },
  {
   "cell_type": "code",
   "execution_count": null,
   "id": "48949895",
   "metadata": {},
   "outputs": [],
   "source": [
    "print(\"1. Molecular System:\")\n",
    "print(f\"   - {len(molecular_data['Z'])} atoms\")\n",
    "print(f\"   - Atomic numbers: {molecular_data['Z']}\")\n",
    "print(f\"   - Atom positions:\")\n",
    "for i, pos in enumerate(molecular_data['R']):\n",
    "    print(f\"     Atom {i}: {pos}\")\n",
    "\n",
    "print(\"\\n2. Available Models and Charges:\")\n",
    "total_charges = 0\n",
    "for model_id, charges in model_charges.items():\n",
    "    n_charges = charges.shape[1]\n",
    "    total_charges += n_charges\n",
    "    print(f\"   - DCM{model_id+1}: {n_charges} charges per atom\")\n",
    "    print(f\"     Example charges for atom 0: {charges[0].tolist()}\")\n",
    "    print(f\"     Example positions for atom 0:\")\n",
    "    for j, pos in enumerate(model_positions[model_id][0]):\n",
    "        print(f\"       Charge {j}: {pos}\")\n",
    "\n",
    "print(f\"\\n   Total charges per atom across all models: {total_charges}\")\n",
    "print(f\"   Total possible charge combinations: {total_charges ** len(molecular_data['Z'])}\")\n",
    "\n",
    "print(\"\\n3. Creating DCMNET Selection Environment...\")\n",
    "env = DCMNETSelectionEnv(molecular_data, esp_target, vdw_surface, model_charges, model_positions)\n",
    "\n",
    "print(f\"   - Environment state shape: {env.selected_charges.shape}\")\n",
    "print(f\"   - Charge mapping: {env.charge_mapping}\")\n",
    "print(f\"   - Legal actions: {len(env.legal_actions())} possible (atom_idx, charge_idx) pairs\")\n",
    "\n",
    "print(\"\\n4. Running MCTS Optimization...\")\n",
    "best_selection, best_loss = optimize_dcmnet_combination(\n",
    "    molecular_data=molecular_data,\n",
    "    esp_target=esp_target,\n",
    "    vdw_surface=vdw_surface,\n",
    "    model_charges=model_charges,\n",
    "    model_positions=model_positions,\n",
    "    n_simulations=100,  # Small number for demo\n",
    "    temperature=1.0\n",
    ")"
   ]
  },
  {
   "cell_type": "code",
   "execution_count": null,
   "id": "3754926b",
   "metadata": {},
   "outputs": [],
   "source": [
    "best_selection, best_loss"
   ]
  },
  {
   "cell_type": "code",
   "execution_count": null,
   "id": "14e932a4",
   "metadata": {},
   "outputs": [],
   "source": []
  }
 ],
 "metadata": {
  "kernelspec": {
   "display_name": "Python 3 (ipykernel)",
   "language": "python",
   "name": "python3"
  },
  "language_info": {
   "codemirror_mode": {
    "name": "ipython",
    "version": 3
   },
   "file_extension": ".py",
   "mimetype": "text/x-python",
   "name": "python",
   "nbconvert_exporter": "python",
   "pygments_lexer": "ipython3",
   "version": "3.12.12"
  }
 },
 "nbformat": 4,
 "nbformat_minor": 5
}
