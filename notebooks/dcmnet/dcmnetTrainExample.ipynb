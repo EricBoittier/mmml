{
 "cells": [
  {
   "cell_type": "code",
   "execution_count": 1,
   "id": "82cc0dc9-2e84-4265-9a62-c58b572b20fb",
   "metadata": {},
   "outputs": [
    {
     "name": "stdout",
     "output_type": "stream",
     "text": [
      "[CudaDevice(id=0)]\n",
      "gpu\n",
      "[CudaDevice(id=0)]\n"
     ]
    },
    {
     "data": {
      "text/plain": [
       "<Figure size 100x100 with 0 Axes>"
      ]
     },
     "metadata": {},
     "output_type": "display_data"
    }
   ],
   "source": [
    "import mmml\n",
    "import matplotlib.pyplot as plt\n",
    "import patchworklib as pw\n",
    "import os\n",
    "from pathlib import Path\n",
    "import numpy as np\n",
    "os.environ[\"XLA_PYTHON_CLIENT_MEM_FRACTION\"] = \"0.95\"\n",
    "os.environ[\"CUDA_VISIBLE_DEVICES\"] = \"1\"\n",
    "import jax\n",
    "devices = jax.local_devices()\n",
    "print(devices)\n",
    "print(jax.default_backend())\n",
    "print(jax.devices())\n",
    "\n",
    "# Import DCMNET components\n",
    "from mmml.dcmnet.dcmnet.models import DCM1, DCM2, DCM3, DCM4, dcm1_params, dcm2_params, dcm3_params, dcm4_params\n",
    "\n",
    "from mmml.dcmnet.dcmnet.models import models, model_params\n",
    "from mmml.dcmnet.dcmnet.loss import esp_mono_loss\n",
    "from mmml.dcmnet.dcmnet.electrostatics import calc_esp\n",
    "from mmml.dcmnet.dcmnet.utils import apply_model\n",
    "\n",
    "import numpy as np\n",
    "import jax\n",
    "import jax.numpy as jnp\n",
    "import sys\n",
    "import os\n",
    "\n",
    "\n",
    "from mmml.dcmnet.dcmnet_mcts import optimize_dcmnet_combination, DCMNETSelectionEnv\n",
    "\n",
    "# make bwr the default colormap\n",
    "plt.set_cmap('bwr')\n"
   ]
  },
  {
   "cell_type": "code",
   "execution_count": 2,
   "id": "30b30119",
   "metadata": {},
   "outputs": [],
   "source": [
    "def rotate(XYZ, rot):\n",
    "    # rotate XYZ by rot degrees around the y-axis\n",
    "    return np.dot(XYZ, np.array([[np.cos(rot), 0, np.sin(rot)],\n",
    "                                 [0, 1, 0],\n",
    "                                 [-np.sin(rot), 0, np.cos(rot)]]))\n",
    "\n",
    "def  plot_esp_in_3d(output, rot=False, KEY=\"esp_target\"):\n",
    "    # 3d plot of ESP    \n",
    "    ax = plt.axes(projection='3d')\n",
    "\n",
    "    # remove far away points\n",
    "    mask = np.linalg.norm(output['initial_vdw_surface'], axis=-1) < 10\n",
    "\n",
    "    if rot and type(rot) == float:\n",
    "        XYZ = rotate(output['initial_vdw_surface'], rot)\n",
    "    else:\n",
    "        XYZ = output['initial_vdw_surface']\n",
    "\n",
    "    s = ax.scatter(*XYZ[mask].T, \n",
    "    c=output[KEY][mask].flatten(), s=15, vmin=-0.1, vmax=0.1,    )\n",
    "\n",
    "\n",
    "    MIN_CO = np.min(XYZ[mask])\n",
    "    MAX_CO = np.max(XYZ[mask])\n",
    "\n",
    "    # even xyz ranges\n",
    "    ax.set_xlim(MIN_CO, MAX_CO)\n",
    "    ax.set_ylim(MIN_CO, MAX_CO)\n",
    "    ax.set_zlim(MIN_CO, MAX_CO)\n",
    "    plt.colorbar(s)\n",
    "    return ax\n",
    "\n",
    "\n",
    "\n",
    "\n"
   ]
  },
  {
   "cell_type": "code",
   "execution_count": 3,
   "id": "123b1cfc",
   "metadata": {},
   "outputs": [],
   "source": [
    "# ax = plt.axes()\n",
    "# # ax.axis('equal')\n",
    "# MinV, MaxV = np.min(output['esp_target']), np.max(output['esp_target'])\n",
    "# MinV, MaxV = -0.05, 0.05\n",
    "# ax.scatter(output['esp_target'], 0.5 * output['esp_pred'])\n",
    "# ax.set_xlim(MinV, MaxV)\n",
    "# ax.set_ylim(MinV, MaxV)\n",
    "# ax.plot([0, 1], [0, 1], 'k--', transform=ax.transAxes)\n",
    "\n",
    "# ax.set_xlabel('Target ESP')\n",
    "# ax.set_ylabel('Predicted ESP')\n",
    "# ax.set_title('ESP Prediction vs Target')\n",
    "# ax\n",
    "\n"
   ]
  },
  {
   "cell_type": "code",
   "execution_count": 4,
   "id": "c413e10c",
   "metadata": {},
   "outputs": [
    {
     "name": "stdout",
     "output_type": "stream",
     "text": [
      "lovely_jax enabled for enhanced array visualization\n"
     ]
    }
   ],
   "source": [
    "import jax\n",
    "\n",
    "from mmml.dcmnet.dcmnet.data import prepare_datasets\n",
    "from mmml.dcmnet.dcmnet.modules import MessagePassingModel\n",
    "from mmml.dcmnet.dcmnet.training import train_model, train_model_dipo\n",
    "\n",
    "key = jax.random.PRNGKey(0)\n"
   ]
  },
  {
   "cell_type": "code",
   "execution_count": 5,
   "id": "c9c6226f",
   "metadata": {},
   "outputs": [],
   "source": [
    "NDCM = 7\n",
    "model = MessagePassingModel(\n",
    "    features=32, max_degree=2, num_iterations=2,\n",
    "    num_basis_functions=32, cutoff=10.0, n_dcm=NDCM,\n",
    "    include_pseudotensors=False,\n",
    ")"
   ]
  },
  {
   "cell_type": "markdown",
   "id": "9274234d-f1d5-4d1b-9299-e1b2b7055b75",
   "metadata": {},
   "source": [
    "## Data"
   ]
  },
  {
   "cell_type": "code",
   "execution_count": 6,
   "id": "ac8eef70",
   "metadata": {},
   "outputs": [
    {
     "name": "stdout",
     "output_type": "stream",
     "text": [
      "/home/ericb/mmml/notebooks/dcmnet\n",
      "0 /home/ericb/esp2000.npz\n",
      "1 /home/ericb/RZ.npz\n",
      "2 /home/ericb/beta-diketones_71208.npz\n"
     ]
    }
   ],
   "source": [
    "current_path = Path.cwd()\n",
    "print(current_path)\n",
    "data_path = Path(\"/home/ericb\")\n",
    "data_files = list(data_path.glob(\"*npz\"))\n",
    "for i in range(len(data_files)):\n",
    "    print(i, data_files[i])"
   ]
  },
  {
   "cell_type": "code",
   "execution_count": null,
   "id": "f70fec24-c32b-41a3-bc61-2d70f790cb14",
   "metadata": {},
   "outputs": [],
   "source": []
  },
  {
   "cell_type": "code",
   "execution_count": 7,
   "id": "d91eb458",
   "metadata": {},
   "outputs": [
    {
     "ename": "NameError",
     "evalue": "name 'data_loaded' is not defined",
     "output_type": "error",
     "traceback": [
      "\u001b[31m---------------------------------------------------------------------------\u001b[39m",
      "\u001b[31mNameError\u001b[39m                                 Traceback (most recent call last)",
      "\u001b[36mCell\u001b[39m\u001b[36m \u001b[39m\u001b[32mIn[7]\u001b[39m\u001b[32m, line 1\u001b[39m\n\u001b[32m----> \u001b[39m\u001b[32m1\u001b[39m \u001b[38;5;28;01mfor\u001b[39;00m k \u001b[38;5;129;01min\u001b[39;00m \u001b[43mdata_loaded\u001b[49m.keys():\n\u001b[32m      2\u001b[39m     \u001b[38;5;28mprint\u001b[39m(k)\n\u001b[32m      3\u001b[39m     shape = data_loaded[k].shape\n",
      "\u001b[31mNameError\u001b[39m: name 'data_loaded' is not defined"
     ]
    }
   ],
   "source": [
    "for k in data_loaded.keys():\n",
    "    print(k)\n",
    "    shape = data_loaded[k].shape\n",
    "    print(shape\n",
    "    )\n",
    "    if len(shape) < 3:\n",
    "        d = data_loaded[k]\n",
    "        d = d.flatten()\n",
    "        plt.hist(d)\n",
    "        title = f\"{k}: {d.min()} - {d.max()}\"\n",
    "        plt.title(title)\n",
    "        plt.show()"
   ]
  },
  {
   "cell_type": "code",
   "execution_count": null,
   "id": "8324ffbb",
   "metadata": {},
   "outputs": [],
   "source": [
    "train_data, valid_data = prepare_datasets(\n",
    "    key, 1800, 200, [\"/home/ericb/esp2000.npz\"],\n",
    "    esp_mask=True,\n",
    ")"
   ]
  },
  {
   "cell_type": "markdown",
   "id": "94993612-a25d-4580-baad-f6e740458901",
   "metadata": {},
   "source": [
    "## Training (1)"
   ]
  },
  {
   "cell_type": "code",
   "execution_count": null,
   "id": "882c1aee",
   "metadata": {},
   "outputs": [],
   "source": [
    "train_model?"
   ]
  },
  {
   "cell_type": "code",
   "execution_count": 10,
   "id": "e3fcd1bb",
   "metadata": {
    "scrolled": true
   },
   "outputs": [
    {
     "ename": "TypeError",
     "evalue": "cannot reshape array of shape (60, 3, 1) (size 180) into shape (1, 18, 1, 3) (size 54)",
     "output_type": "error",
     "traceback": [
      "\u001b[31m---------------------------------------------------------------------------\u001b[39m",
      "\u001b[31mTypeError\u001b[39m                                 Traceback (most recent call last)",
      "\u001b[36mCell\u001b[39m\u001b[36m \u001b[39m\u001b[32mIn[10]\u001b[39m\u001b[32m, line 14\u001b[39m\n\u001b[32m      7\u001b[39m model = MessagePassingModel(\n\u001b[32m      8\u001b[39m     features=\u001b[32m64\u001b[39m, max_degree=\u001b[32m2\u001b[39m, num_iterations=\u001b[32m2\u001b[39m,\n\u001b[32m      9\u001b[39m     num_basis_functions=\u001b[32m32\u001b[39m, cutoff=\u001b[32m10.0\u001b[39m, n_dcm=NDCM,\n\u001b[32m     10\u001b[39m     include_pseudotensors=\u001b[38;5;28;01mFalse\u001b[39;00m,\n\u001b[32m     11\u001b[39m )\n\u001b[32m     12\u001b[39m new_params = \u001b[38;5;28;01mNone\u001b[39;00m\n\u001b[32m---> \u001b[39m\u001b[32m14\u001b[39m params, valid_loss = \u001b[43mtrain_model\u001b[49m\u001b[43m(\u001b[49m\n\u001b[32m     15\u001b[39m \u001b[43m    \u001b[49m\u001b[43mkey\u001b[49m\u001b[43m=\u001b[49m\u001b[43mkey\u001b[49m\u001b[43m,\u001b[49m\u001b[43m \u001b[49m\u001b[43mmodel\u001b[49m\u001b[43m=\u001b[49m\u001b[43mmodel\u001b[49m\u001b[43m,\u001b[49m\n\u001b[32m     16\u001b[39m \u001b[43m    \u001b[49m\u001b[43mwriter\u001b[49m\u001b[43m=\u001b[49m\u001b[38;5;28;43;01mNone\u001b[39;49;00m\u001b[43m,\u001b[49m\n\u001b[32m     17\u001b[39m \u001b[43m    \u001b[49m\u001b[43mtrain_data\u001b[49m\u001b[43m=\u001b[49m\u001b[43mtrain_data\u001b[49m\u001b[43m,\u001b[49m\u001b[43m \u001b[49m\u001b[43mvalid_data\u001b[49m\u001b[43m=\u001b[49m\u001b[43mvalid_data\u001b[49m\u001b[43m,\u001b[49m\n\u001b[32m     18\u001b[39m \u001b[43m    \u001b[49m\u001b[43mnum_epochs\u001b[49m\u001b[43m=\u001b[49m\u001b[32;43m100\u001b[39;49m\u001b[43m,\u001b[49m\u001b[43m \u001b[49m\u001b[43mlearning_rate\u001b[49m\u001b[43m=\u001b[49m\u001b[32;43m1e-3\u001b[39;49m\u001b[43m,\u001b[49m\u001b[43m \u001b[49m\u001b[43mbatch_size\u001b[49m\u001b[43m=\u001b[49m\u001b[32;43m1\u001b[39;49m\u001b[43m,\u001b[49m\n\u001b[32m     19\u001b[39m \u001b[43m    \u001b[49m\u001b[43mndcm\u001b[49m\u001b[43m=\u001b[49m\u001b[43mmodel\u001b[49m\u001b[43m.\u001b[49m\u001b[43mn_dcm\u001b[49m\u001b[43m,\u001b[49m\u001b[43m \u001b[49m\u001b[43mesp_w\u001b[49m\u001b[43m=\u001b[49m\u001b[32;43m10000.0\u001b[39;49m\u001b[43m,\u001b[49m\n\u001b[32m     20\u001b[39m \u001b[43m\u001b[49m\u001b[43m)\u001b[49m\n\u001b[32m     21\u001b[39m new_params, valid_loss = train_model(\n\u001b[32m     22\u001b[39m     key=key, model=model,\n\u001b[32m     23\u001b[39m     writer=\u001b[38;5;28;01mNone\u001b[39;00m,\n\u001b[32m   (...)\u001b[39m\u001b[32m     27\u001b[39m     restart_params=params \u001b[38;5;28;01mif\u001b[39;00m new_params \u001b[38;5;129;01mis\u001b[39;00m \u001b[38;5;28;01mNone\u001b[39;00m \u001b[38;5;28;01melse\u001b[39;00m new_params,\n\u001b[32m     28\u001b[39m )\n\u001b[32m     29\u001b[39m new_params, valid_loss = train_model(\n\u001b[32m     30\u001b[39m     key=key, model=model,\n\u001b[32m     31\u001b[39m     writer=\u001b[38;5;28;01mNone\u001b[39;00m,\n\u001b[32m   (...)\u001b[39m\u001b[32m     35\u001b[39m     restart_params=params \u001b[38;5;28;01mif\u001b[39;00m new_params \u001b[38;5;129;01mis\u001b[39;00m \u001b[38;5;28;01mNone\u001b[39;00m \u001b[38;5;28;01melse\u001b[39;00m new_params,\n\u001b[32m     36\u001b[39m )\n",
      "\u001b[36mFile \u001b[39m\u001b[32m~/mmml/mmml/dcmnet/dcmnet/training.py:298\u001b[39m, in \u001b[36mtrain_model\u001b[39m\u001b[34m(key, model, train_data, valid_data, num_epochs, learning_rate, batch_size, writer, ndcm, esp_w, chg_w, restart_params, ema_decay, num_atoms, use_grad_clip, grad_clip_norm)\u001b[39m\n\u001b[32m    296\u001b[39m optimizer = optax.adam(learning_rate)\n\u001b[32m    297\u001b[39m dst_idx, src_idx = e3x.ops.sparse_pairwise_indices(\u001b[38;5;28mlen\u001b[39m(train_data[\u001b[33m\"\u001b[39m\u001b[33mZ\u001b[39m\u001b[33m\"\u001b[39m][\u001b[32m0\u001b[39m]))\n\u001b[32m--> \u001b[39m\u001b[32m298\u001b[39m params = \u001b[43mmodel\u001b[49m\u001b[43m.\u001b[49m\u001b[43minit\u001b[49m\u001b[43m(\u001b[49m\n\u001b[32m    299\u001b[39m \u001b[43m    \u001b[49m\u001b[43minit_key\u001b[49m\u001b[43m,\u001b[49m\n\u001b[32m    300\u001b[39m \u001b[43m    \u001b[49m\u001b[43matomic_numbers\u001b[49m\u001b[43m=\u001b[49m\u001b[43mtrain_data\u001b[49m\u001b[43m[\u001b[49m\u001b[33;43m\"\u001b[39;49m\u001b[33;43mZ\u001b[39;49m\u001b[33;43m\"\u001b[39;49m\u001b[43m]\u001b[49m\u001b[43m[\u001b[49m\u001b[32;43m0\u001b[39;49m\u001b[43m]\u001b[49m\u001b[43m,\u001b[49m\n\u001b[32m    301\u001b[39m \u001b[43m    \u001b[49m\u001b[43mpositions\u001b[49m\u001b[43m=\u001b[49m\u001b[43mtrain_data\u001b[49m\u001b[43m[\u001b[49m\u001b[33;43m\"\u001b[39;49m\u001b[33;43mR\u001b[39;49m\u001b[33;43m\"\u001b[39;49m\u001b[43m]\u001b[49m\u001b[43m[\u001b[49m\u001b[32;43m0\u001b[39;49m\u001b[43m]\u001b[49m\u001b[43m,\u001b[49m\n\u001b[32m    302\u001b[39m \u001b[43m    \u001b[49m\u001b[43mdst_idx\u001b[49m\u001b[43m=\u001b[49m\u001b[43mdst_idx\u001b[49m\u001b[43m,\u001b[49m\n\u001b[32m    303\u001b[39m \u001b[43m    \u001b[49m\u001b[43msrc_idx\u001b[49m\u001b[43m=\u001b[49m\u001b[43msrc_idx\u001b[49m\u001b[43m,\u001b[49m\n\u001b[32m    304\u001b[39m \u001b[43m\u001b[49m\u001b[43m)\u001b[49m\n\u001b[32m    305\u001b[39m \u001b[38;5;28;01mif\u001b[39;00m restart_params \u001b[38;5;129;01mis\u001b[39;00m \u001b[38;5;129;01mnot\u001b[39;00m \u001b[38;5;28;01mNone\u001b[39;00m:\n\u001b[32m    306\u001b[39m     params = restart_params\n",
      "    \u001b[31m[... skipping hidden 9 frame]\u001b[39m\n",
      "\u001b[36mFile \u001b[39m\u001b[32m~/mmml/mmml/dcmnet/dcmnet/modules.py:184\u001b[39m, in \u001b[36mMessagePassingModel.__call__\u001b[39m\u001b[34m(self, atomic_numbers, positions, dst_idx, src_idx, batch_segments, batch_size)\u001b[39m\n\u001b[32m    181\u001b[39m     batch_segments = jnp.zeros_like(atomic_numbers)\n\u001b[32m    182\u001b[39m     batch_size = \u001b[32m1\u001b[39m\n\u001b[32m--> \u001b[39m\u001b[32m184\u001b[39m \u001b[38;5;28;01mreturn\u001b[39;00m \u001b[38;5;28;43mself\u001b[39;49m\u001b[43m.\u001b[49m\u001b[43mmono\u001b[49m\u001b[43m(\u001b[49m\n\u001b[32m    185\u001b[39m \u001b[43m    \u001b[49m\u001b[43matomic_numbers\u001b[49m\u001b[43m,\u001b[49m\u001b[43m \u001b[49m\u001b[43mpositions\u001b[49m\u001b[43m,\u001b[49m\u001b[43m \u001b[49m\u001b[43mdst_idx\u001b[49m\u001b[43m,\u001b[49m\u001b[43m \u001b[49m\u001b[43msrc_idx\u001b[49m\u001b[43m,\u001b[49m\u001b[43m \u001b[49m\u001b[43mbatch_segments\u001b[49m\u001b[43m,\u001b[49m\u001b[43m \u001b[49m\u001b[43mbatch_size\u001b[49m\n\u001b[32m    186\u001b[39m \u001b[43m\u001b[49m\u001b[43m)\u001b[49m\n",
      "    \u001b[31m[... skipping hidden 2 frame]\u001b[39m\n",
      "\u001b[36mFile \u001b[39m\u001b[32m~/mmml/mmml/dcmnet/dcmnet/modules.py:141\u001b[39m, in \u001b[36mMessagePassingModel.mono\u001b[39m\u001b[34m(self, atomic_numbers, positions, dst_idx, src_idx, batch_segments, batch_size)\u001b[39m\n\u001b[32m    137\u001b[39m atomic_mono += element_bias[atomic_numbers][:, \u001b[38;5;28;01mNone\u001b[39;00m]\n\u001b[32m    139\u001b[39m x = e3x.nn.hard_tanh(x) * \u001b[32m0.175\u001b[39m\n\u001b[32m--> \u001b[39m\u001b[32m141\u001b[39m atomic_dipo = \u001b[43mx\u001b[49m\u001b[43m[\u001b[49m\u001b[43m:\u001b[49m\u001b[43m,\u001b[49m\u001b[43m \u001b[49m\u001b[32;43m1\u001b[39;49m\u001b[43m,\u001b[49m\u001b[43m \u001b[49m\u001b[32;43m1\u001b[39;49m\u001b[43m:\u001b[49m\u001b[32;43m4\u001b[39;49m\u001b[43m,\u001b[49m\u001b[43m \u001b[49m\u001b[43m:\u001b[49m\u001b[43m]\u001b[49m\u001b[43m.\u001b[49m\u001b[43mreshape\u001b[49m\u001b[43m(\u001b[49m\u001b[32;43m1\u001b[39;49m\u001b[43m,\u001b[49m\u001b[43m \u001b[49m\u001b[43mNATOMS\u001b[49m\u001b[43m,\u001b[49m\u001b[43m \u001b[49m\u001b[38;5;28;43mself\u001b[39;49m\u001b[43m.\u001b[49m\u001b[43mn_dcm\u001b[49m\u001b[43m,\u001b[49m\u001b[43m \u001b[49m\u001b[32;43m3\u001b[39;49m\u001b[43m)\u001b[49m\n\u001b[32m    143\u001b[39m atomic_dipo += positions[ :, jnp.newaxis, :]\n\u001b[32m    145\u001b[39m \u001b[38;5;28;01mreturn\u001b[39;00m atomic_mono, atomic_dipo\n",
      "    \u001b[31m[... skipping hidden 1 frame]\u001b[39m\n",
      "\u001b[36mFile \u001b[39m\u001b[32m~/anaconda3/envs/mmml-gpu/lib/python3.12/site-packages/jax/_src/numpy/array_methods.py:477\u001b[39m, in \u001b[36m_compute_newshape\u001b[39m\u001b[34m(arr, newshape)\u001b[39m\n\u001b[32m    474\u001b[39m \u001b[38;5;28;01melse\u001b[39;00m:\n\u001b[32m    475\u001b[39m   \u001b[38;5;28;01mif\u001b[39;00m (\u001b[38;5;28mall\u001b[39m(\u001b[38;5;28misinstance\u001b[39m(d, \u001b[38;5;28mint\u001b[39m) \u001b[38;5;28;01mfor\u001b[39;00m d \u001b[38;5;129;01min\u001b[39;00m (*arr.shape, *newshape)) \u001b[38;5;129;01mand\u001b[39;00m\n\u001b[32m    476\u001b[39m       arr.size != math.prod(newshape)):\n\u001b[32m--> \u001b[39m\u001b[32m477\u001b[39m     \u001b[38;5;28;01mraise\u001b[39;00m \u001b[38;5;167;01mTypeError\u001b[39;00m(\u001b[33mf\u001b[39m\u001b[33m\"\u001b[39m\u001b[33mcannot reshape array of shape \u001b[39m\u001b[38;5;132;01m{\u001b[39;00marr.shape\u001b[38;5;132;01m}\u001b[39;00m\u001b[33m (size \u001b[39m\u001b[38;5;132;01m{\u001b[39;00marr.size\u001b[38;5;132;01m}\u001b[39;00m\u001b[33m) \u001b[39m\u001b[33m\"\u001b[39m\n\u001b[32m    478\u001b[39m                     \u001b[33mf\u001b[39m\u001b[33m\"\u001b[39m\u001b[33minto shape \u001b[39m\u001b[38;5;132;01m{\u001b[39;00morig_newshape\u001b[38;5;132;01m}\u001b[39;00m\u001b[33m (size \u001b[39m\u001b[38;5;132;01m{\u001b[39;00mmath.prod(newshape)\u001b[38;5;132;01m}\u001b[39;00m\u001b[33m)\u001b[39m\u001b[33m\"\u001b[39m)\n\u001b[32m    479\u001b[39m \u001b[38;5;28;01mreturn\u001b[39;00m \u001b[38;5;28mtuple\u001b[39m(-core.divide_shape_sizes(arr.shape, newshape)\n\u001b[32m    480\u001b[39m              \u001b[38;5;28;01mif\u001b[39;00m core.definitely_equal(d, -\u001b[32m1\u001b[39m) \u001b[38;5;28;01melse\u001b[39;00m d \u001b[38;5;28;01mfor\u001b[39;00m d \u001b[38;5;129;01min\u001b[39;00m newshape)\n",
      "\u001b[31mTypeError\u001b[39m: cannot reshape array of shape (60, 3, 1) (size 180) into shape (1, 18, 1, 3) (size 54)"
     ]
    }
   ],
   "source": [
    "# NDCM = 7\n",
    "models = []\n",
    "paramsco = []\n",
    "\n",
    "for NDCM in range(1,8):\n",
    "\n",
    "    model = MessagePassingModel(\n",
    "        features=64, max_degree=2, num_iterations=2,\n",
    "        num_basis_functions=32, cutoff=10.0, n_dcm=NDCM,\n",
    "        include_pseudotensors=False,\n",
    "    )\n",
    "    new_params = None\n",
    "    \n",
    "    params, valid_loss = train_model(\n",
    "        key=key, model=model,\n",
    "        writer=None,\n",
    "        train_data=train_data, valid_data=valid_data,\n",
    "        num_epochs=100, learning_rate=1e-3, batch_size=1,\n",
    "        ndcm=model.n_dcm, esp_w=10000.0,\n",
    "    )\n",
    "    new_params, valid_loss = train_model(\n",
    "        key=key, model=model,\n",
    "        writer=None,\n",
    "        train_data=train_data, valid_data=valid_data,\n",
    "        num_epochs=100, learning_rate=5e-4, batch_size=1,\n",
    "        ndcm=model.n_dcm, esp_w=10000.0,\n",
    "        restart_params=params if new_params is None else new_params,\n",
    "    )\n",
    "    new_params, valid_loss = train_model(\n",
    "        key=key, model=model,\n",
    "        writer=None,\n",
    "        train_data=train_data, valid_data=valid_data,\n",
    "        num_epochs=200, learning_rate=1e-4, batch_size=1,\n",
    "        ndcm=model.n_dcm, esp_w=10000.0,\n",
    "        restart_params=params if new_params is None else new_params,\n",
    "    )\n",
    "    np.save(f\"modelB{NDCM}\", new_params)\n",
    "    models.append(model)\n",
    "    paramsco.append(new_params)\n"
   ]
  },
  {
   "cell_type": "code",
   "execution_count": null,
   "id": "03e0d344",
   "metadata": {},
   "outputs": [],
   "source": [
    "def fig(output, batch):\n",
    "    \"\"\" plot results of dcmnet_analysis \"\"\"\n",
    "    import patchworklib as pw\n",
    "    VMAX = 0.01\n",
    "    xy_ax = pw.Brick()\n",
    "    xy_ax.scatter(batch[\"esp\"], output['esp_pred'], s=1)\n",
    "    max_val = np.sqrt(max(np.max(batch[\"esp\"]**2), np.max(output['esp_pred']**2)))\n",
    "    xy_ax.plot(np.linspace(-max_val, max_val, 100), np.linspace(-max_val, max_val, 100))\n",
    "    xy_ax.set_aspect('equal')\n",
    "\n",
    "    ax_true = pw.Brick()\n",
    "    Npoints = 4150\n",
    "    vdw_surface_min = np.min(batch[\"vdw_surface\"][0], axis=0)\n",
    "    vdw_surface_max = np.max(batch[\"vdw_surface\"][0], axis=0)\n",
    "\n",
    "    ax_true.scatter(\n",
    "        batch[\"vdw_surface\"][0][:Npoints,0], \n",
    "    batch[\"vdw_surface\"][0][:Npoints,1], \n",
    "    c=batch[\"esp\"][0][:Npoints],\n",
    "    s=0.01,\n",
    "        vmin=-VMAX, vmax=VMAX\n",
    "    )\n",
    "    max_val = np.sqrt(max(np.max(batch[\"esp\"]**2), np.max(output['esp_pred']**2)))\n",
    "    # ax.plot(np.linspace(-max_val, max_val, 100), np.linspace(-max_val, max_val, 100))\n",
    "    ax_true.set_aspect('equal')\n",
    "\n",
    "    ax_pred = pw.Brick()\n",
    "\n",
    "    ax_pred.scatter(\n",
    "        batch[\"vdw_surface\"][0][:Npoints,0], \n",
    "    batch[\"vdw_surface\"][0][:Npoints,1], \n",
    "    c=output['esp_pred'][:Npoints],\n",
    "    s=0.01,\n",
    "        vmin=-VMAX, vmax=VMAX\n",
    "    )\n",
    "    max_val = np.sqrt(max(np.max(batch[\"esp\"]**2), np.max(output['esp_pred']**2)))\n",
    "    # ax.plot(np.linspace(-max_val, max_val, 100), np.linspace(-max_val, max_val, 100))\n",
    "    ax_pred.set_aspect('equal')\n",
    "\n",
    "\n",
    "    ax_diff = pw.Brick()\n",
    "    ax_diff.scatter(\n",
    "        batch[\"vdw_surface\"][0][:Npoints,0], \n",
    "    batch[\"vdw_surface\"][0][:Npoints,1], \n",
    "    c=batch[\"esp\"][0][:Npoints] - output['esp_pred'][:Npoints],\n",
    "    s=0.01,\n",
    "        vmin=-VMAX, vmax=VMAX\n",
    "    )\n",
    "    ax_diff.set_aspect('equal')\n",
    "\n",
    "    for _ in [ax_pred, ax_true, ax_diff]:\n",
    "        _.set_xlim(vdw_surface_min[0], -vdw_surface_min[0])\n",
    "        _.set_ylim(vdw_surface_min[1], -vdw_surface_min[0])\n",
    "\n",
    "    charge_ax = pw.Brick()\n",
    "    charge_ax.matshow(output[\"mono\"][0][:int(batch[\"N\"])],vmin=-1,vmax=1)\n",
    "    scharge_ax = pw.Brick()\n",
    "    scharge_ax.matshow(output[\"mono\"][0][:int(batch[\"N\"])].sum(axis=-1)[:, None],vmin=-1,vmax=1)\n",
    "    # scharge_ax.add_colorbar(vmin=-1,vmax=1)\n",
    "    scharge_ax.axis(\"off\")\n",
    "    f = xy_ax | ((ax_pred | ax_true | ax_diff) /  (scharge_ax | charge_ax))\n",
    "    f.add_colorbar(vmin=-1,vmax=1)\n",
    "    return f\n",
    "\n"
   ]
  },
  {
   "cell_type": "code",
   "execution_count": null,
   "id": "fce74d58",
   "metadata": {},
   "outputs": [],
   "source": [
    "valid_data.keys()"
   ]
  },
  {
   "cell_type": "code",
   "execution_count": null,
   "id": "28b8755a-0f1f-4428-8b4e-7d1494d4a664",
   "metadata": {},
   "outputs": [],
   "source": [
    "def get_3d_views(output, batch):\n",
    "    R = output[\"dipo\"][:int(batch[\"N\"])*NDCM]\n",
    "    Z = np.array([1 if _ > 0 else 1 for _ in output[\"mono\"][0][:int(batch[\"N\"])].flatten()])\n",
    "    R.shape, Z.shape\n",
    "    dcm_atoms = ase.Atoms(Z, R)\n",
    "    view(dcm_atoms,  viewer=\"x3d\",\n",
    "    viewer_kwargs={\"width\": 1000, \"height\": 1000, \"show_unit_cell\": 1})\n",
    "    import ase\n",
    "    from ase.visualize import view\n",
    "    atoms = ase.Atoms(batch[\"Z\"][:int(batch[\"N\"])], \n",
    "    batch[\"R\"][:int(batch[\"N\"])])\n",
    "    view(atoms, viewer=\"x3d\")"
   ]
  },
  {
   "cell_type": "code",
   "execution_count": null,
   "id": "f30fdee0-9a31-4de3-8d43-e1ae8d59df8d",
   "metadata": {},
   "outputs": [],
   "source": [
    "batch\n"
   ]
  },
  {
   "cell_type": "code",
   "execution_count": null,
   "id": "48949895",
   "metadata": {},
   "outputs": [],
   "source": [
    "print(\"1. Molecular System:\")\n",
    "print(f\"   - {len(molecular_data['Z'])} atoms\")\n",
    "print(f\"   - Atomic numbers: {molecular_data['Z']}\")\n",
    "print(f\"   - Atom positions:\")\n",
    "for i, pos in enumerate(molecular_data['R']):\n",
    "    print(f\"     Atom {i}: {pos}\")\n",
    "\n",
    "print(\"\\n2. Available Models and Charges:\")\n",
    "total_charges = 0\n",
    "for model_id, charges in model_charges.items():\n",
    "    n_charges = charges.shape[1]\n",
    "    total_charges += n_charges\n",
    "    print(f\"   - DCM{model_id+1}: {n_charges} charges per atom\")\n",
    "    print(f\"     Example charges for atom 0: {charges[0].tolist()}\")\n",
    "    print(f\"     Example positions for atom 0:\")\n",
    "    for j, pos in enumerate(model_positions[model_id][0]):\n",
    "        print(f\"       Charge {j}: {pos}\")\n",
    "\n",
    "print(f\"\\n   Total charges per atom across all models: {total_charges}\")\n",
    "print(f\"   Total possible charge combinations: {total_charges ** len(molecular_data['Z'])}\")\n",
    "\n",
    "print(\"\\n3. Creating DCMNET Selection Environment...\")\n",
    "env = DCMNETSelectionEnv(molecular_data, esp_target, vdw_surface, model_charges, model_positions)\n",
    "\n",
    "print(f\"   - Environment state shape: {env.selected_charges.shape}\")\n",
    "print(f\"   - Charge mapping: {env.charge_mapping}\")\n",
    "print(f\"   - Legal actions: {len(env.legal_actions())} possible (atom_idx, charge_idx) pairs\")\n",
    "\n",
    "print(\"\\n4. Running MCTS Optimization...\")\n",
    "best_selection, best_loss = optimize_dcmnet_combination(\n",
    "    molecular_data=molecular_data,\n",
    "    esp_target=esp_target,\n",
    "    vdw_surface=vdw_surface,\n",
    "    model_charges=model_charges,\n",
    "    model_positions=model_positions,\n",
    "    n_simulations=100,  # Small number for demo\n",
    "    temperature=1.0\n",
    ")"
   ]
  },
  {
   "cell_type": "code",
   "execution_count": null,
   "id": "3754926b",
   "metadata": {},
   "outputs": [],
   "source": [
    "best_selection, best_loss"
   ]
  },
  {
   "cell_type": "code",
   "execution_count": null,
   "id": "14e932a4",
   "metadata": {},
   "outputs": [],
   "source": []
  }
 ],
 "metadata": {
  "kernelspec": {
   "display_name": "Python 3 (ipykernel)",
   "language": "python",
   "name": "python3"
  },
  "language_info": {
   "codemirror_mode": {
    "name": "ipython",
    "version": 3
   },
   "file_extension": ".py",
   "mimetype": "text/x-python",
   "name": "python",
   "nbconvert_exporter": "python",
   "pygments_lexer": "ipython3",
   "version": "3.12.12"
  }
 },
 "nbformat": 4,
 "nbformat_minor": 5
}
