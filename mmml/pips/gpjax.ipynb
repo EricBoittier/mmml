{
 "cells": [
  {
   "cell_type": "code",
   "execution_count": 1,
   "id": "b6848c2d-0923-4512-a489-0a856bea1cb1",
   "metadata": {},
   "outputs": [
    {
     "ename": "ImportError",
     "evalue": "cannot import name 'KeyArray' from 'jax.random' (/pchem-data/meuwly/boittier/home/pycharmm_test/.venv/lib/python3.12/site-packages/jax/random.py)",
     "output_type": "error",
     "traceback": [
      "\u001b[0;31m---------------------------------------------------------------------------\u001b[0m",
      "\u001b[0;31mImportError\u001b[0m                               Traceback (most recent call last)",
      "Cell \u001b[0;32mIn[1], line 5\u001b[0m\n\u001b[1;32m      1\u001b[0m \u001b[38;5;28;01mfrom\u001b[39;00m \u001b[38;5;21;01mjax\u001b[39;00m \u001b[38;5;28;01mimport\u001b[39;00m config\n\u001b[1;32m      3\u001b[0m config\u001b[38;5;241m.\u001b[39mupdate(\u001b[38;5;124m\"\u001b[39m\u001b[38;5;124mjax_enable_x64\u001b[39m\u001b[38;5;124m\"\u001b[39m, \u001b[38;5;28;01mTrue\u001b[39;00m)\n\u001b[0;32m----> 5\u001b[0m \u001b[38;5;28;01mimport\u001b[39;00m \u001b[38;5;21;01mgpjax\u001b[39;00m \u001b[38;5;28;01mas\u001b[39;00m \u001b[38;5;21;01mgpx\u001b[39;00m\n\u001b[1;32m      6\u001b[0m \u001b[38;5;28;01mfrom\u001b[39;00m \u001b[38;5;21;01mjax\u001b[39;00m \u001b[38;5;28;01mimport\u001b[39;00m grad, jit\n\u001b[1;32m      7\u001b[0m \u001b[38;5;28;01mimport\u001b[39;00m \u001b[38;5;21;01mjax\u001b[39;00m\u001b[38;5;21;01m.\u001b[39;00m\u001b[38;5;21;01mnumpy\u001b[39;00m \u001b[38;5;28;01mas\u001b[39;00m \u001b[38;5;21;01mjnp\u001b[39;00m\n",
      "File \u001b[0;32m~/pycharmm_test/.venv/lib/python3.12/site-packages/gpjax/__init__.py:16\u001b[0m\n\u001b[1;32m      1\u001b[0m \u001b[38;5;66;03m# Copyright 2022 The GPJax Contributors. All Rights Reserved.\u001b[39;00m\n\u001b[1;32m      2\u001b[0m \u001b[38;5;66;03m#\u001b[39;00m\n\u001b[1;32m      3\u001b[0m \u001b[38;5;66;03m# Licensed under the Apache License, Version 2.0 (the \"License\");\u001b[39;00m\n\u001b[0;32m   (...)\u001b[0m\n\u001b[1;32m     13\u001b[0m \u001b[38;5;66;03m# limitations under the License.\u001b[39;00m\n\u001b[1;32m     14\u001b[0m \u001b[38;5;66;03m# ==============================================================================\u001b[39;00m\n\u001b[0;32m---> 16\u001b[0m \u001b[38;5;28;01mfrom\u001b[39;00m \u001b[38;5;21;01m.\u001b[39;00m\u001b[38;5;21;01mabstractions\u001b[39;00m \u001b[38;5;28;01mimport\u001b[39;00m fit, fit_batches, fit_natgrads\n\u001b[1;32m     17\u001b[0m \u001b[38;5;28;01mfrom\u001b[39;00m \u001b[38;5;21;01m.\u001b[39;00m\u001b[38;5;21;01mgps\u001b[39;00m \u001b[38;5;28;01mimport\u001b[39;00m Prior, construct_posterior\n\u001b[1;32m     18\u001b[0m \u001b[38;5;28;01mfrom\u001b[39;00m \u001b[38;5;21;01m.\u001b[39;00m\u001b[38;5;21;01mkernels\u001b[39;00m \u001b[38;5;28;01mimport\u001b[39;00m (\n\u001b[1;32m     19\u001b[0m     RBF,\n\u001b[1;32m     20\u001b[0m     GraphKernel,\n\u001b[0;32m   (...)\u001b[0m\n\u001b[1;32m     26\u001b[0m     SumKernel,\n\u001b[1;32m     27\u001b[0m )\n",
      "File \u001b[0;32m~/pycharmm_test/.venv/lib/python3.12/site-packages/gpjax/abstractions.py:23\u001b[0m\n\u001b[1;32m     20\u001b[0m \u001b[38;5;28;01mimport\u001b[39;00m \u001b[38;5;21;01mjax\u001b[39;00m\u001b[38;5;21;01m.\u001b[39;00m\u001b[38;5;21;01mrandom\u001b[39;00m \u001b[38;5;28;01mas\u001b[39;00m \u001b[38;5;21;01mjr\u001b[39;00m\n\u001b[1;32m     21\u001b[0m \u001b[38;5;28;01mimport\u001b[39;00m \u001b[38;5;21;01moptax\u001b[39;00m \u001b[38;5;28;01mas\u001b[39;00m \u001b[38;5;21;01mox\u001b[39;00m\n\u001b[0;32m---> 23\u001b[0m \u001b[38;5;28;01mfrom\u001b[39;00m \u001b[38;5;21;01mjax\u001b[39;00m\u001b[38;5;21;01m.\u001b[39;00m\u001b[38;5;21;01mrandom\u001b[39;00m \u001b[38;5;28;01mimport\u001b[39;00m KeyArray\n\u001b[1;32m     24\u001b[0m \u001b[38;5;28;01mfrom\u001b[39;00m \u001b[38;5;21;01mjax\u001b[39;00m \u001b[38;5;28;01mimport\u001b[39;00m lax\n\u001b[1;32m     25\u001b[0m \u001b[38;5;28;01mfrom\u001b[39;00m \u001b[38;5;21;01mjax\u001b[39;00m\u001b[38;5;21;01m.\u001b[39;00m\u001b[38;5;21;01mexperimental\u001b[39;00m \u001b[38;5;28;01mimport\u001b[39;00m host_callback\n",
      "\u001b[0;31mImportError\u001b[0m: cannot import name 'KeyArray' from 'jax.random' (/pchem-data/meuwly/boittier/home/pycharmm_test/.venv/lib/python3.12/site-packages/jax/random.py)"
     ]
    }
   ],
   "source": [
    "from jax import config\n",
    "\n",
    "config.update(\"jax_enable_x64\", True)\n",
    "\n",
    "import gpjax as gpx\n",
    "from jax import grad, jit\n",
    "import jax.numpy as jnp\n",
    "import jax.random as jr\n",
    "import optax as ox\n",
    "\n",
    "key = jr.key(123)\n",
    "\n",
    "f = lambda x: 10 * jnp.sin(x)\n",
    "\n",
    "n = 50\n",
    "x = jr.uniform(key=key, minval=-3.0, maxval=3.0, shape=(n,1)).sort()\n",
    "y = f(x) + jr.normal(key, shape=(n,1))\n",
    "D = gpx.Dataset(X=x, y=y)\n",
    "\n",
    "# Construct the prior\n",
    "meanf = gpx.mean_functions.Zero()\n",
    "kernel = gpx.kernels.RBF()\n",
    "prior = gpx.gps.Prior(mean_function=meanf, kernel = kernel)\n",
    "\n",
    "# Define a likelihood\n",
    "likelihood = gpx.likelihoods.Gaussian(num_datapoints = n)\n",
    "\n",
    "# Construct the posterior\n",
    "posterior = prior * likelihood\n",
    "\n",
    "# Define an optimiser\n",
    "optimiser = ox.adam(learning_rate=1e-2)\n",
    "\n",
    "# Obtain Type 2 MLEs of the hyperparameters\n",
    "opt_posterior, history = gpx.fit(\n",
    "    model=posterior,\n",
    "    objective=lambda p, d: -gpx.objectives.conjugate_mll(p, d),\n",
    "    train_data=D,\n",
    "    optim=optimiser,\n",
    "    num_iters=500,\n",
    "    safe=True,\n",
    "    key=key,\n",
    ")\n",
    "\n",
    "# Infer the predictive posterior distribution\n",
    "xtest = jnp.linspace(-3., 3., 100).reshape(-1, 1)\n",
    "latent_dist = opt_posterior(xtest, D)\n",
    "predictive_dist = opt_posterior.likelihood(latent_dist)\n",
    "\n",
    "# Obtain the predictive mean and standard deviation\n",
    "pred_mean = predictive_dist.mean()\n",
    "pred_std = predictive_dist.stddev()"
   ]
  },
  {
   "cell_type": "code",
   "execution_count": null,
   "id": "03457b26-af44-4b81-bbf7-7d318a6b6ec2",
   "metadata": {},
   "outputs": [],
   "source": []
  }
 ],
 "metadata": {
  "kernelspec": {
   "display_name": "physnetjax",
   "language": "python",
   "name": "physnetjax"
  },
  "language_info": {
   "codemirror_mode": {
    "name": "ipython",
    "version": 3
   },
   "file_extension": ".py",
   "mimetype": "text/x-python",
   "name": "python",
   "nbconvert_exporter": "python",
   "pygments_lexer": "ipython3",
   "version": "3.12.5"
  }
 },
 "nbformat": 4,
 "nbformat_minor": 5
}
