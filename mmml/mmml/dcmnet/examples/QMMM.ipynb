{
 "cells": [
  {
   "cell_type": "code",
   "execution_count": 1,
   "id": "d3207b1a-1884-43db-b72a-c00101bd079a",
   "metadata": {},
   "outputs": [
    {
     "name": "stdout",
     "output_type": "stream",
     "text": [
      "\n",
      "\n",
      "******** <class 'gpu4pyscf.qmmm.pbc.itrf.QMMMRHF'> ********\n",
      "method = QMMMRHF\n",
      "initial guess = minao\n",
      "damping factor = 0\n",
      "level_shift factor = 0\n",
      "DIIS = <class 'gpu4pyscf.scf.diis.CDIIS'>\n",
      "diis_start_cycle = 1\n",
      "diis_space = 8\n",
      "diis_damp = 0\n",
      "SCF conv_tol = 1e-09\n",
      "SCF conv_tol_grad = None\n",
      "SCF max_cycles = 50\n",
      "direct_scf = True\n",
      "direct_scf_tol = 1e-13\n",
      "max_memory 40000 MB (current use 497 MB)\n",
      "** Add background charges for QMMMRHF **\n",
      "lattice vectors  a1 [22.676713495, 0.000000000, 0.000000000]\n",
      "                 a2 [0.000000000, 22.676713495, 0.000000000]\n",
      "                 a3 [0.000000000, 0.000000000, 22.676713495]\n",
      "Set gradient conv threshold to 3.16228e-05\n",
      "1 MM charges see directly QM density\n",
      "init E= -75.4172905365797\n",
      "cycle= 1 E= -75.5573455047398  delta_E= -0.14  |ddm|= 1.22\n",
      "cycle= 2 E= -75.5896385429497  delta_E= -0.0323  |ddm|= 0.373\n",
      "cycle= 3 E= -75.59656825537  delta_E= -0.00693  |ddm|= 0.105\n",
      "cycle= 4 E= -75.5967434805786  delta_E= -0.000175  |ddm|= 0.0238\n",
      "cycle= 5 E= -75.5967496273813  delta_E= -6.15e-06  |ddm|= 0.00487\n",
      "cycle= 6 E= -75.5967497068186  delta_E= -7.94e-08  |ddm|= 0.000627\n",
      "cycle= 7 E= -75.5967497118555  delta_E= -5.04e-09  |ddm|= 0.000212\n",
      "cycle= 8 E= -75.596749711982  delta_E= -1.27e-10  |ddm|= 3.61e-05\n",
      "converged SCF energy = -75.596749711982\n",
      "total energy = -75.596749711982\n",
      "\n",
      "\n",
      "******** <class 'pyscf.lib.misc.QMMMGradients'> for <class 'gpu4pyscf.qmmm.pbc.itrf.QMMMRHF'> ********\n",
      "unit = Eh/Bohr\n",
      "max_memory 40000 MB (current use 1118 MB)\n",
      "** Add background charges for QMMMGradients **\n",
      "lattice vectors  a1 [22.676713495, 0.000000000, 0.000000000]\n",
      "                 a2 [0.000000000, 22.676713495, 0.000000000]\n",
      "                 a3 [0.000000000, 0.000000000, 22.676713495]\n"
     ]
    },
    {
     "name": "stderr",
     "output_type": "stream",
     "text": [
      "<class 'pyscf.lib.misc.QMMMGradients'> does not have attributes  auxbasis_response\n"
     ]
    },
    {
     "name": "stdout",
     "output_type": "stream",
     "text": [
      "--------------- QMMMRHF gradients ---------------\n",
      "         x                y                z\n",
      "0 O     0.0038784972     0.0224561095    -0.0112524641\n",
      "1 H     0.0081399860    -0.0087740361     0.0037014969\n",
      "2 H    -0.0113256726    -0.0231919330     0.0024562407\n",
      "----------------------------------------------\n"
     ]
    }
   ],
   "source": [
    "#!/usr/bin/env python\n",
    "# Copyright 2021-2024 The PySCF Developers. All Rights Reserved.\n",
    "#\n",
    "# Licensed under the Apache License, Version 2.0 (the \"License\");\n",
    "# you may not use this file except in compliance with the License.\n",
    "# You may obtain a copy of the License at\n",
    "#\n",
    "#     http://www.apache.org/licenses/LICENSE-2.0\n",
    "#\n",
    "# Unless required by applicable law or agreed to in writing, software\n",
    "# distributed under the License is distributed on an \"AS IS\" BASIS,\n",
    "# WITHOUT WARRANTIES OR CONDITIONS OF ANY KIND, either express or implied.\n",
    "# See the License for the specific language governing permissions and\n",
    "# limitations under the License.\n",
    "import os\n",
    "os.environ['CUDA_VISIBLE_DEVICES'] = '0'\n",
    "import pyscf\n",
    "from gpu4pyscf.scf import hf\n",
    "from gpu4pyscf.qmmm.pbc import itrf, mm_mole\n",
    "\n",
    "import numpy as np\n",
    "\n",
    "atom ='''\n",
    "O       0.0000000000    -0.0000000000     0.1174000000\n",
    "H      -0.7570000000    -0.0000000000    -0.4696000000\n",
    "H       0.7570000000     0.0000000000    -0.4696000000\n",
    "'''\n",
    "\n",
    "mol = pyscf.M(atom=atom, basis='3-21g', max_memory=40000)\n",
    "\n",
    "mol.verbose = 4\n",
    "mf_GPU = hf.RHF(mol)\n",
    "\n",
    "# Add mm charges:\n",
    "# -0.8 charge at 1.0, 2.0,-1.0\n",
    "#  0.8 charge at 3.0, 4.0, 5.0\n",
    "# Place the QM and MM atoms in a box of 12 A\n",
    "# Real-space cutoff for Ewald set to 8 A\n",
    "# Exact MM potential computed for MM charges within 6 A of QM geometric center\n",
    "mf_GPU = itrf.add_mm_charges(mf_GPU, [[1,2,-1],[3,4,5]], np.eye(3)*12, [-0.8,0.8], [0.8,1.2], rcut_ewald=8, rcut_hcore=6)\n",
    "\n",
    "# Compute Energy of QM-QM and QM-MM but NOT MM-MM\n",
    "e_dft = mf_GPU.kernel()\n",
    "print(f\"total energy = {e_dft}\")\n",
    "\n",
    "# Compute Gradient\n",
    "g = mf_GPU.nuc_grad_method()\n",
    "g.max_memory = 40000\n",
    "g.auxbasis_response = True\n",
    "# energy gradient w.r.t. QM atom positions\n",
    "g_dft = g.kernel()\n",
    "# energy gradient w.r.t. MM atom positions\n",
    "g_mm = g.grad_nuc_mm() + g.grad_hcore_mm(mf_GPU.make_rdm1()) + g.de_ewald_mm"
   ]
  },
  {
   "cell_type": "code",
   "execution_count": 9,
   "id": "4dec4beb-5beb-4b1d-9747-24b9592a1117",
   "metadata": {},
   "outputs": [
    {
     "data": {
      "text/plain": [
       "(array([[ 0.        ,  0.        ,  0.22185385],\n",
       "        [-1.43052268,  0.        , -0.88741539],\n",
       "        [ 1.43052268,  0.        , -0.88741539]]),\n",
       " array([16,  1,  1]),\n",
       " array([8, 1, 1], dtype=int32))"
      ]
     },
     "execution_count": 9,
     "metadata": {},
     "output_type": "execute_result"
    }
   ],
   "source": [
    "mf_GPU.mol.atom_coords(), mf_GPU.mol.atom_mass_list(), mf_GPU.mol.atom_charges()"
   ]
  },
  {
   "cell_type": "code",
   "execution_count": 11,
   "id": "56ab88e4-1c29-48d3-bcc5-2157647f2dcc",
   "metadata": {},
   "outputs": [
    {
     "data": {
      "text/plain": [
       "(array([[ 1.88972612,  3.77945225, -1.88972612],\n",
       "        [ 5.66917837,  7.5589045 ,  9.44863062]]),\n",
       " array([-0.8,  0.8]))"
      ]
     },
     "execution_count": 11,
     "metadata": {},
     "output_type": "execute_result"
    }
   ],
   "source": [
    "mf_GPU.mm_mol.atom_coords(), mf_GPU.mm_mol.atom_charges()"
   ]
  },
  {
   "cell_type": "code",
   "execution_count": null,
   "id": "bceea390-11cf-4df7-a457-15ce1bebb880",
   "metadata": {},
   "outputs": [],
   "source": []
  }
 ],
 "metadata": {
  "kernelspec": {
   "display_name": "omni",
   "language": "python",
   "name": "conda-env-name"
  },
  "language_info": {
   "codemirror_mode": {
    "name": "ipython",
    "version": 3
   },
   "file_extension": ".py",
   "mimetype": "text/x-python",
   "name": "python",
   "nbconvert_exporter": "python",
   "pygments_lexer": "ipython3",
   "version": "3.10.18"
  }
 },
 "nbformat": 4,
 "nbformat_minor": 5
}
