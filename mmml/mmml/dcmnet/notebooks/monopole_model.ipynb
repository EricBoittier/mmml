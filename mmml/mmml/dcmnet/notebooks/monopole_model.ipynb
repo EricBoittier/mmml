{
 "cells": [
  {
   "cell_type": "code",
   "execution_count": 1,
   "id": "037101ad-caf1-4121-8c0d-2109755e1d57",
   "metadata": {},
   "outputs": [],
   "source": [
    "import functools\n",
    "import os\n",
    "import urllib.request\n",
    "import e3x\n",
    "import flax.linen as nn\n",
    "import jax\n",
    "import jax.numpy as jnp\n",
    "import numpy as np\n",
    "import optax\n",
    "\n",
    "# Disable future warnings.\n",
    "import warnings\n",
    "warnings.simplefilter(action='ignore', category=FutureWarning)"
   ]
  },
  {
   "cell_type": "code",
   "execution_count": 2,
   "id": "4ed0184e-11b8-4fb5-a68b-59827e69b2a3",
   "metadata": {},
   "outputs": [
    {
     "data": {
      "text/plain": [
       "[cuda(id=0), cuda(id=1)]"
      ]
     },
     "execution_count": 2,
     "metadata": {},
     "output_type": "execute_result"
    }
   ],
   "source": [
    "jax.default_backend()\n",
    "jax.devices()"
   ]
  },
  {
   "cell_type": "code",
   "execution_count": 3,
   "id": "d1ced62c-e5cc-464d-9ccb-5d0e9172fe24",
   "metadata": {},
   "outputs": [],
   "source": [
    "dataset = np.load(\"mulitpoles766000.npz\")"
   ]
  },
  {
   "cell_type": "code",
   "execution_count": 4,
   "id": "bb025192-e70a-4e2a-b8e2-a7cec007c745",
   "metadata": {},
   "outputs": [],
   "source": [
    "a = np.nonzero(dataset[\"mono\"].sum(axis=1).flatten())"
   ]
  },
  {
   "cell_type": "code",
   "execution_count": 5,
   "id": "99a40b99-de27-4137-85d6-74264d141748",
   "metadata": {},
   "outputs": [],
   "source": [
    "zeros = np.where(np.all(dataset[\"mono\"] == 0, axis=1))[0]"
   ]
  },
  {
   "cell_type": "code",
   "execution_count": 6,
   "id": "6df93f7f-fe4c-44ba-bcf2-8fdd22c078f4",
   "metadata": {},
   "outputs": [
    {
     "data": {
      "text/plain": [
       "(766000, 60, 1)"
      ]
     },
     "execution_count": 6,
     "metadata": {},
     "output_type": "execute_result"
    }
   ],
   "source": [
    "dataset[\"mono\"].shape"
   ]
  },
  {
   "cell_type": "code",
   "execution_count": 7,
   "id": "d6eaa69c-eab5-4a53-acb9-5be227d2253c",
   "metadata": {},
   "outputs": [
    {
     "name": "stdout",
     "output_type": "stream",
     "text": [
      "[     0      1      2 ... 765997 765998 765999]\n",
      "765957\n"
     ]
    }
   ],
   "source": [
    "# Total indices range\n",
    "total_indices = np.arange(dataset[\"mono\"].shape[0])\n",
    "\n",
    "# Find indices of non-zero arrays\n",
    "nonzeros_indices = np.setdiff1d(total_indices, zeros)\n",
    "\n",
    "print(nonzeros_indices)\n",
    "print(len(nonzeros_indices))"
   ]
  },
  {
   "cell_type": "code",
   "execution_count": 8,
   "id": "3852da51-1eb8-4ef6-ba45-06293c26013e",
   "metadata": {},
   "outputs": [
    {
     "data": {
      "text/plain": [
       "382978"
      ]
     },
     "execution_count": 8,
     "metadata": {},
     "output_type": "execute_result"
    }
   ],
   "source": [
    "765957 // 2\n"
   ]
  },
  {
   "cell_type": "code",
   "execution_count": 9,
   "id": "94a590ad-7ba9-4c17-9eda-f99438a7635d",
   "metadata": {},
   "outputs": [],
   "source": [
    "data_key, train_key = jax.random.split(jax.random.PRNGKey(0), 2)"
   ]
  },
  {
   "cell_type": "code",
   "execution_count": 10,
   "id": "7e6ec61e-a323-4cc3-8298-90f050e7cd86",
   "metadata": {},
   "outputs": [],
   "source": [
    "def prepare_datasets(key, num_train, num_valid, filename=\"mulitpoles766000.npz\"):\n",
    "  # Load the dataset.\n",
    "  dataset = np.load(filename)\n",
    "    \n",
    "  for k,v in dataset.items():\n",
    "      print(k, v.shape)\n",
    "\n",
    "  num_data = len(dataset[\"mono\"])\n",
    "  nonzeros = np.where(np.all(dataset[\"mono\"] == 0, axis=1))[0]\n",
    "  total_indices = np.arange(num_data)\n",
    "  # Find indices of non-zero arrays\n",
    "  nonzeros = np.setdiff1d(total_indices, zeros)\n",
    "  \n",
    "  dataF =   dataset['F'][nonzeros]\n",
    "  dataR =   dataset['R'][nonzeros]\n",
    "  dataZ =   dataset['Z'][nonzeros]\n",
    "  dataMono =   dataset['mono'][nonzeros]\n",
    "  # dataset['F'] =   dataset['F'][nonzeros]\n",
    "    \n",
    "  # Make sure that the dataset contains enough entries.\n",
    "  num_data = len(dataR)\n",
    "  print(num_data)\n",
    "  num_draw = num_train + num_valid\n",
    "  if num_draw > num_data:\n",
    "    raise RuntimeError(\n",
    "      f'datasets only contains {num_data} points, requested num_train={num_train}, num_valid={num_valid}')\n",
    "\n",
    "  # Randomly draw train and validation sets from dataset.\n",
    "  choice = np.asarray(jax.random.choice(key, num_data, shape=(num_draw,), replace=False))\n",
    "  train_choice = choice[:num_train]\n",
    "  valid_choice = choice[num_train:]\n",
    "\n",
    "  # atomic_numbers = jnp.tile(dataset['z'], num_data).reshape((num_data, len(dataset[\"z\"])))\n",
    "  atomic_numbers = dataZ\n",
    "    \n",
    "  # Determine mean energy of the training set.\n",
    "  # mean_energy = np.mean(dataset['E'][train_choice])  # ~ -97000\n",
    "  mean_energy = 0\n",
    "\n",
    "  # Collect and return train and validation sets.\n",
    "  train_data = dict(\n",
    "    # energy=jnp.asarray(dataset['E'][train_choice] - mean_energy),\n",
    "    forces=jnp.asarray(dataF[train_choice]),\n",
    "    atomic_numbers=jnp.asarray(atomic_numbers[train_choice]),\n",
    "    positions=jnp.asarray(dataR[train_choice]),\n",
    "    mono=jnp.asarray(dataMono[train_choice]),\n",
    "  )\n",
    "  valid_data = dict(\n",
    "    # energy=jnp.asarray(dataset['E'][valid_choice] - mean_energy),\n",
    "    forces=jnp.asarray(dataF[valid_choice]),\n",
    "    atomic_numbers=jnp.asarray(atomic_numbers[valid_choice]),\n",
    "    positions=jnp.asarray(dataR[valid_choice]),\n",
    "    mono=jnp.asarray(dataMono[valid_choice]),\n",
    "  )\n",
    "  print(\"...\")\n",
    "  print(\"...\")\n",
    "  for k,v in train_data.items():\n",
    "      print(k, v.shape)\n",
    "  print(\"...\")\n",
    "  for k,v in valid_data.items():\n",
    "      print(k, v.shape)\n",
    "      \n",
    "  return train_data, valid_data, mean_energy"
   ]
  },
  {
   "cell_type": "code",
   "execution_count": 11,
   "id": "8053b5a0-07ff-44c5-90d7-29e5e28a8ccb",
   "metadata": {},
   "outputs": [
    {
     "name": "stdout",
     "output_type": "stream",
     "text": [
      "R (766000, 60, 3)\n",
      "Z (766000, 60)\n",
      "N (766000,)\n",
      "F (766000, 60, 3)\n",
      "mono (766000, 60, 1)\n",
      "dip (766000, 60, 3)\n",
      "quad (766000, 60, 6)\n",
      "765957\n",
      "...\n",
      "...\n",
      "forces (380000, 60, 3)\n",
      "atomic_numbers (380000, 60)\n",
      "positions (380000, 60, 3)\n",
      "mono (380000, 60, 1)\n",
      "...\n",
      "forces (380000, 60, 3)\n",
      "atomic_numbers (380000, 60)\n",
      "positions (380000, 60, 3)\n",
      "mono (380000, 60, 1)\n"
     ]
    }
   ],
   "source": [
    "train_data, valid_data, mean_energy = prepare_datasets(data_key, 38_0000, 38_0000)"
   ]
  },
  {
   "cell_type": "code",
   "execution_count": 12,
   "id": "4bd6e1b1-9c9e-4fe8-aadb-ac1eb4df8116",
   "metadata": {},
   "outputs": [],
   "source": [
    "class MessagePassingModel(nn.Module):\n",
    "  features: int = 32\n",
    "  max_degree: int = 2\n",
    "  num_iterations: int = 3\n",
    "  num_basis_functions: int = 8\n",
    "  cutoff: float = 5.0\n",
    "  max_atomic_number: int = 118  # This is overkill for most applications.\n",
    "\n",
    "\n",
    "  def mono(self, atomic_numbers, positions, dst_idx, src_idx, batch_segments, batch_size):\n",
    "    # 1. Calculate displacement vectors.\n",
    "    positions_dst = e3x.ops.gather_dst(positions, dst_idx=dst_idx)\n",
    "    positions_src = e3x.ops.gather_src(positions, src_idx=src_idx)\n",
    "    displacements = positions_src - positions_dst  # Shape (num_pairs, 3).\n",
    "\n",
    "    # 2. Expand displacement vectors in basis functions.\n",
    "    basis = e3x.nn.basis(  # Shape (num_pairs, 1, (max_degree+1)**2, num_basis_functions).\n",
    "      displacements,\n",
    "      num=self.num_basis_functions,\n",
    "      max_degree=self.max_degree,\n",
    "      radial_fn=e3x.nn.reciprocal_bernstein,\n",
    "      cutoff_fn=functools.partial(e3x.nn.smooth_cutoff, cutoff=self.cutoff)\n",
    "    )\n",
    "\n",
    "    # 3. Embed atomic numbers in feature space, x has shape (num_atoms, 1, 1, features).\n",
    "    x = e3x.nn.Embed(num_embeddings=self.max_atomic_number+1, features=self.features)(atomic_numbers)\n",
    "\n",
    "    # 4. Perform iterations (message-passing + atom-wise refinement).\n",
    "    for i in range(self.num_iterations):\n",
    "      # Message-pass.\n",
    "      if i == self.num_iterations-1:  # Final iteration.\n",
    "        # Since we will only use scalar features after the final message-pass, we do not want to produce non-scalar\n",
    "        # features for efficiency reasons.\n",
    "        y = e3x.nn.MessagePass(max_degree=0, include_pseudotensors=False)(x, basis, dst_idx=dst_idx, src_idx=src_idx)\n",
    "        # After the final message pass, we can safely throw away all non-scalar features.\n",
    "        x = e3x.nn.change_max_degree_or_type(x, max_degree=0, include_pseudotensors=False)\n",
    "      else:\n",
    "        # In intermediate iterations, the message-pass should consider all possible coupling paths.\n",
    "        y = e3x.nn.MessagePass()(x, basis, dst_idx=dst_idx, src_idx=src_idx)\n",
    "          \n",
    "      y = e3x.nn.add(x, y)\n",
    "\n",
    "      # Atom-wise refinement MLP.\n",
    "      y = e3x.nn.Dense(self.features)(y)\n",
    "      y = e3x.nn.silu(y)\n",
    "      y = e3x.nn.Dense(self.features, kernel_init=jax.nn.initializers.zeros)(y)\n",
    "\n",
    "      # Residual connection.\n",
    "      x = e3x.nn.add(x, y)\n",
    "\n",
    "    # 5. Predict atomic monopoles with an ordinary dense layer.\n",
    "    element_bias = self.param('element_bias', lambda rng, shape: jnp.zeros(shape), (self.max_atomic_number+1))\n",
    "    atomic_mono = nn.Dense(1, use_bias=False, kernel_init=jax.nn.initializers.zeros)(x)  # (..., Natoms, 1, 1, 1)\n",
    "    atomic_mono = jnp.squeeze(atomic_mono, axis=(-1, -2, -3))  # Squeeze last 3 dimensions.\n",
    "    atomic_mono += element_bias[atomic_numbers]\n",
    "\n",
    "    return atomic_mono\n",
    "\n",
    "\n",
    "  @nn.compact\n",
    "  def __call__(self, atomic_numbers, positions, dst_idx, src_idx, batch_segments=None, batch_size=None):\n",
    "    if batch_segments is None:\n",
    "      batch_segments = jnp.zeros_like(atomic_numbers)\n",
    "      batch_size = 1\n",
    "\n",
    "    return self.mono(atomic_numbers, positions, dst_idx, src_idx, batch_segments, batch_size)"
   ]
  },
  {
   "cell_type": "code",
   "execution_count": 13,
   "id": "0d53b431-bdb0-48f1-b6cb-3b29fa7d677b",
   "metadata": {},
   "outputs": [],
   "source": [
    "def prepare_batches(key, data, batch_size):\n",
    "  # Determine the number of training steps per epoch.\n",
    "  data_size = len(data['mono'])\n",
    "  steps_per_epoch = data_size//batch_size\n",
    "\n",
    "  # Draw random permutations for fetching batches from the train data.\n",
    "  perms = jax.random.permutation(key, data_size)\n",
    "  perms = perms[:steps_per_epoch * batch_size]  # Skip the last batch (if incomplete).\n",
    "  perms = perms.reshape((steps_per_epoch, batch_size))\n",
    "\n",
    "  # Prepare entries that are identical for each batch.\n",
    "  num_atoms = len(data['atomic_numbers'][0])\n",
    "  batch_segments = jnp.repeat(jnp.arange(batch_size), num_atoms)\n",
    "  # atomic_numbers = jnp.tile(data['atomic_numbers'], batch_size)\n",
    "  offsets = jnp.arange(batch_size) * num_atoms\n",
    "  dst_idx, src_idx = e3x.ops.sparse_pairwise_indices(num_atoms)\n",
    "  dst_idx = (dst_idx + offsets[:, None]).reshape(-1)\n",
    "  src_idx = (src_idx + offsets[:, None]).reshape(-1)\n",
    "\n",
    "  # Assemble and return batches.\n",
    "  return [\n",
    "    dict(\n",
    "        # energy=data['energy'][perm],\n",
    "        # forces=data['forces'][perm].reshape(-1, 3),\n",
    "        mono=data[\"mono\"][perm].reshape(-1),\n",
    "        atomic_numbers=data[\"atomic_numbers\"][perm].reshape(-1),\n",
    "        positions=data['positions'][perm].reshape(-1, 3),\n",
    "        dst_idx=dst_idx,\n",
    "        src_idx=src_idx,\n",
    "        batch_segments = batch_segments,\n",
    "    )\n",
    "    for perm in perms\n",
    "  ]"
   ]
  },
  {
   "cell_type": "code",
   "execution_count": 14,
   "id": "a8c8b90b-1ba3-41e6-80f7-a0a4443be34f",
   "metadata": {},
   "outputs": [],
   "source": [
    "def mean_squared_loss(mono_prediction, mono_target, batch_size):\n",
    "  nonzero = jnp.nonzero(mono_target, size=batch_size*60)\n",
    "  return jnp.mean(optax.l2_loss(mono_prediction[nonzero], mono_target[nonzero]))\n",
    "\n",
    "\n",
    "def mean_absolute_error(prediction, target,batch_size):\n",
    "  nonzero = jnp.nonzero(target, size=batch_size*60)\n",
    "  return jnp.mean(jnp.abs(prediction[nonzero] - target[nonzero]))"
   ]
  },
  {
   "cell_type": "code",
   "execution_count": 15,
   "id": "f47787bc-b12b-4a1a-8ce3-6b7fb0b12a3c",
   "metadata": {},
   "outputs": [],
   "source": [
    "@functools.partial(jax.jit, static_argnames=('model_apply', 'optimizer_update', 'batch_size'))\n",
    "def train_step(model_apply, optimizer_update, batch, batch_size, opt_state, params):\n",
    "    \n",
    "  def loss_fn(params):\n",
    "    mono = model_apply(\n",
    "      params,\n",
    "      atomic_numbers=batch['atomic_numbers'],\n",
    "      positions=batch['positions'],\n",
    "      dst_idx=batch['dst_idx'],\n",
    "      src_idx=batch['src_idx'],\n",
    "      batch_segments=batch['batch_segments'],\n",
    "      batch_size=batch_size\n",
    "    )\n",
    "    loss = mean_squared_loss(\n",
    "      mono_prediction=mono,\n",
    "      mono_target=batch['mono'],\n",
    "      batch_size = batch_size\n",
    "    )\n",
    "    return loss, mono\n",
    "      \n",
    "  (loss, mono), grad = jax.value_and_grad(loss_fn, has_aux=True)(params)\n",
    "  updates, opt_state = optimizer_update(grad, opt_state, params)\n",
    "  params = optax.apply_updates(params, updates)\n",
    "  mono_mae = mean_absolute_error(mono, batch['mono'], batch_size)\n",
    "\n",
    "  return params, opt_state, loss, mono_mae\n",
    "\n",
    "\n",
    "@functools.partial(jax.jit, static_argnames=('model_apply', 'batch_size'))\n",
    "def eval_step(model_apply, batch, batch_size, params):\n",
    "\n",
    "  mono = model_apply(\n",
    "      params,\n",
    "      atomic_numbers=batch['atomic_numbers'],\n",
    "      positions=batch['positions'],\n",
    "      dst_idx=batch['dst_idx'],\n",
    "      src_idx=batch['src_idx'],\n",
    "      batch_segments=batch['batch_segments'],\n",
    "      batch_size=batch_size\n",
    "    )\n",
    "  loss = mean_squared_loss(\n",
    "      mono_prediction=mono,\n",
    "      mono_target=batch['mono'],\n",
    "      batch_size=batch_size\n",
    "    )\n",
    "  mono_mae = mean_absolute_error(mono, batch['mono'], batch_size)\n",
    "  return loss, mono_mae\n",
    "\n",
    "\n",
    "def train_model(key, model, train_data, valid_data, num_epochs, learning_rate, batch_size):\n",
    "  # Initialize model parameters and optimizer state.\n",
    "  key, init_key = jax.random.split(key)\n",
    "  optimizer = optax.adam(learning_rate)\n",
    "  dst_idx, src_idx = e3x.ops.sparse_pairwise_indices(len(train_data['atomic_numbers'][0]))\n",
    "  params = model.init(init_key,\n",
    "    atomic_numbers=train_data['atomic_numbers'][0],\n",
    "    positions=train_data['positions'][0],\n",
    "    dst_idx=dst_idx,\n",
    "    src_idx=src_idx,\n",
    "  )\n",
    "  opt_state = optimizer.init(params)\n",
    "\n",
    "  # Batches for the validation set need to be prepared only once.\n",
    "  key, shuffle_key = jax.random.split(key)\n",
    "  valid_batches = prepare_batches(shuffle_key, valid_data, batch_size)\n",
    "\n",
    "  # Train for 'num_epochs' epochs.\n",
    "  for epoch in range(1, num_epochs + 1):\n",
    "    # Prepare batches.\n",
    "    key, shuffle_key = jax.random.split(key)\n",
    "    train_batches = prepare_batches(shuffle_key, train_data, batch_size)\n",
    "\n",
    "    # Loop over train batches.\n",
    "    train_loss = 0.0\n",
    "    train_mono_mae = 0.0\n",
    "    for i, batch in enumerate(train_batches):\n",
    "      params, opt_state, loss, mono_mae = train_step(\n",
    "        model_apply=model.apply,\n",
    "        optimizer_update=optimizer.update,\n",
    "        batch=batch,\n",
    "        batch_size=batch_size,\n",
    "        opt_state=opt_state,\n",
    "        params=params\n",
    "      )\n",
    "      train_loss += (loss - train_loss)/(i+1)\n",
    "      train_mono_mae += (mono_mae - train_mono_mae)/(i+1)\n",
    "\n",
    "    # Evaluate on validation set.\n",
    "    valid_loss = 0.0\n",
    "    valid_mono_mae = 0.0\n",
    "    for i, batch in enumerate(valid_batches):\n",
    "      loss, mono_mae = eval_step(\n",
    "        model_apply=model.apply,\n",
    "        batch=batch,\n",
    "        batch_size=batch_size,\n",
    "        params=params\n",
    "      )\n",
    "      valid_loss += (loss - valid_loss)/(i+1)\n",
    "      valid_mono_mae += (mono_mae - valid_mono_mae)/(i+1)\n",
    "\n",
    "    # Print progress.\n",
    "    print(f\"epoch: {epoch: 3d}                    train:   valid:\")\n",
    "    print(f\"    loss [a.u.]             {train_loss : 8.3f} {valid_loss : 8.3f}\")\n",
    "    print(f\"    mono mae [kcal/mol]   {train_mono_mae: 8.3f} {valid_mono_mae: 8.3f}\")\n",
    "\n",
    "  # Return final model parameters.\n",
    "  return params"
   ]
  },
  {
   "cell_type": "code",
   "execution_count": 16,
   "id": "fcbc4e98-1515-4fac-95e1-78de281fe3f0",
   "metadata": {},
   "outputs": [],
   "source": [
    "# Model hyperparameters.\n",
    "features = 32\n",
    "max_degree = 2\n",
    "num_iterations = 3\n",
    "num_basis_functions = 16\n",
    "cutoff = 5.0\n",
    "\n",
    "# Training hyperparameters.\n",
    "# num_valid = 1000\n",
    "# num_train = 10000 - num_valid\n",
    "num_epochs = 10\n",
    "learning_rate = 0.0001\n",
    "batch_size = 32"
   ]
  },
  {
   "cell_type": "code",
   "execution_count": 19,
   "id": "5686f346-a1e8-4d66-b07f-c054e90628d8",
   "metadata": {},
   "outputs": [],
   "source": [
    "# Create and train model.\n",
    "message_passing_model = MessagePassingModel(\n",
    "  features=features,\n",
    "  max_degree=max_degree,\n",
    "  num_iterations=num_iterations,\n",
    "  num_basis_functions=num_basis_functions,\n",
    "  cutoff=cutoff,\n",
    ")"
   ]
  },
  {
   "cell_type": "code",
   "execution_count": 20,
   "id": "cc8c1ecf-3f0e-42d4-a9f9-79a62c17679d",
   "metadata": {
    "scrolled": true
   },
   "outputs": [
    {
     "name": "stdout",
     "output_type": "stream",
     "text": [
      "epoch:   1                    train:   valid:\n",
      "    loss [a.u.]                0.012    0.004\n",
      "    mono mae [kcal/mol]      0.104    0.062\n",
      "epoch:   2                    train:   valid:\n",
      "    loss [a.u.]                0.003    0.002\n",
      "    mono mae [kcal/mol]      0.052    0.044\n",
      "epoch:   3                    train:   valid:\n",
      "    loss [a.u.]                0.002    0.001\n",
      "    mono mae [kcal/mol]      0.040    0.037\n",
      "epoch:   4                    train:   valid:\n",
      "    loss [a.u.]                0.001    0.001\n",
      "    mono mae [kcal/mol]      0.036    0.035\n",
      "epoch:   5                    train:   valid:\n",
      "    loss [a.u.]                0.001    0.001\n",
      "    mono mae [kcal/mol]      0.034    0.032\n",
      "epoch:   6                    train:   valid:\n",
      "    loss [a.u.]                0.001    0.001\n",
      "    mono mae [kcal/mol]      0.032    0.030\n",
      "epoch:   7                    train:   valid:\n",
      "    loss [a.u.]                0.001    0.001\n",
      "    mono mae [kcal/mol]      0.031    0.030\n",
      "epoch:   8                    train:   valid:\n",
      "    loss [a.u.]                0.001    0.001\n",
      "    mono mae [kcal/mol]      0.030    0.033\n",
      "epoch:   9                    train:   valid:\n",
      "    loss [a.u.]                0.001    0.001\n",
      "    mono mae [kcal/mol]      0.029    0.035\n",
      "epoch:  10                    train:   valid:\n",
      "    loss [a.u.]                0.001    0.001\n",
      "    mono mae [kcal/mol]      0.028    0.027\n"
     ]
    }
   ],
   "source": [
    "params = train_model(\n",
    "  key=train_key,\n",
    "  model=message_passing_model,\n",
    "  train_data=train_data,\n",
    "  valid_data=valid_data,\n",
    "  num_epochs=num_epochs,\n",
    "  learning_rate=learning_rate,\n",
    "  batch_size=batch_size,\n",
    ")"
   ]
  },
  {
   "cell_type": "code",
   "execution_count": 21,
   "id": "f68816bb-faff-4e41-88a1-b66008fdd98c",
   "metadata": {},
   "outputs": [],
   "source": [
    "import pickle\n",
    "# open a file, where you ant to store the data\n",
    "with open('mono_params.pkl', 'wb') as file:\n",
    "    pickle.dump(params, file)"
   ]
  },
  {
   "cell_type": "code",
   "execution_count": 22,
   "id": "6df08175-4d7d-484d-95f6-c7a528fb3ce3",
   "metadata": {},
   "outputs": [
    {
     "data": {
      "text/plain": [
       "{'forces': Array([[[  11.78051  ,  -67.1452   ,  -88.02511  ],\n",
       "         [  59.01347  ,   51.990166 ,   50.21531  ],\n",
       "         [ 126.3508   ,   13.831848 ,   11.194359 ],\n",
       "         ...,\n",
       "         [   0.       ,    0.       ,    0.       ],\n",
       "         [   0.       ,    0.       ,    0.       ],\n",
       "         [   0.       ,    0.       ,    0.       ]],\n",
       " \n",
       "        [[  54.24995  ,   36.998837 ,   53.2221   ],\n",
       "         [  65.0803   ,  -63.331966 ,   18.586966 ],\n",
       "         [  37.117283 ,  -14.410625 ,   -0.7395856],\n",
       "         ...,\n",
       "         [   0.       ,    0.       ,    0.       ],\n",
       "         [   0.       ,    0.       ,    0.       ],\n",
       "         [   0.       ,    0.       ,    0.       ]],\n",
       " \n",
       "        [[ 131.26218  ,   -1.9188725,   -4.108993 ],\n",
       "         [-209.47705  ,  -51.379425 ,  -22.690052 ],\n",
       "         [  69.226875 ,  -55.670162 ,  -23.16137  ],\n",
       "         ...,\n",
       "         [   0.       ,    0.       ,    0.       ],\n",
       "         [   0.       ,    0.       ,    0.       ],\n",
       "         [   0.       ,    0.       ,    0.       ]],\n",
       " \n",
       "        ...,\n",
       " \n",
       "        [[  17.820501 , -189.85243  , -173.42929  ],\n",
       "         [-205.4368   ,   90.87676  ,  113.9886   ],\n",
       "         [-145.81609  ,    4.0033774,  -17.63859  ],\n",
       "         ...,\n",
       "         [   0.       ,    0.       ,    0.       ],\n",
       "         [   0.       ,    0.       ,    0.       ],\n",
       "         [   0.       ,    0.       ,    0.       ]],\n",
       " \n",
       "        [[  42.490105 , -123.477394 ,   31.777746 ],\n",
       "         [-108.575134 ,   25.572292 ,   92.28814  ],\n",
       "         [ 196.00845  ,   12.405028 ,  -11.46505  ],\n",
       "         ...,\n",
       "         [   0.       ,    0.       ,    0.       ],\n",
       "         [   0.       ,    0.       ,    0.       ],\n",
       "         [   0.       ,    0.       ,    0.       ]],\n",
       " \n",
       "        [[ -63.15113  ,   62.410034 ,  -31.192495 ],\n",
       "         [   5.0829415,  127.74265  ,   58.48617  ],\n",
       "         [  -1.585895 ,  -34.42828  , -148.07135  ],\n",
       "         ...,\n",
       "         [   0.       ,    0.       ,    0.       ],\n",
       "         [   0.       ,    0.       ,    0.       ],\n",
       "         [   0.       ,    0.       ,    0.       ]]], dtype=float32),\n",
       " 'atomic_numbers': Array([[6, 6, 6, ..., 0, 0, 0],\n",
       "        [6, 6, 6, ..., 0, 0, 0],\n",
       "        [7, 6, 6, ..., 0, 0, 0],\n",
       "        ...,\n",
       "        [8, 6, 6, ..., 0, 0, 0],\n",
       "        [6, 6, 8, ..., 0, 0, 0],\n",
       "        [6, 6, 6, ..., 0, 0, 0]], dtype=int32),\n",
       " 'positions': Array([[[ 7.16357517e+00,  5.89473963e-01,  2.74564028e-01],\n",
       "         [ 5.70610428e+00,  3.50002527e-01,  1.16583213e-01],\n",
       "         [ 5.28223372e+00, -8.04137111e-01, -5.09185195e-01],\n",
       "         ...,\n",
       "         [ 0.00000000e+00,  0.00000000e+00,  0.00000000e+00],\n",
       "         [ 0.00000000e+00,  0.00000000e+00,  0.00000000e+00],\n",
       "         [ 0.00000000e+00,  0.00000000e+00,  0.00000000e+00]],\n",
       " \n",
       "        [[-6.47509289e+00,  1.49802923e-01,  2.48563752e-01],\n",
       "         [-4.99509811e+00,  9.82619151e-02,  1.92829803e-01],\n",
       "         [-4.32645369e+00,  1.27447462e+00, -1.07558616e-01],\n",
       "         ...,\n",
       "         [ 0.00000000e+00,  0.00000000e+00,  0.00000000e+00],\n",
       "         [ 0.00000000e+00,  0.00000000e+00,  0.00000000e+00],\n",
       "         [ 0.00000000e+00,  0.00000000e+00,  0.00000000e+00]],\n",
       " \n",
       "        [[ 5.49601555e+00,  7.61911929e-01,  1.62568271e-01],\n",
       "         [ 4.12511158e+00,  4.00826812e-01, -1.61662523e-03],\n",
       "         [ 3.10321975e+00,  1.28302324e+00,  2.82700807e-01],\n",
       "         ...,\n",
       "         [ 0.00000000e+00,  0.00000000e+00,  0.00000000e+00],\n",
       "         [ 0.00000000e+00,  0.00000000e+00,  0.00000000e+00],\n",
       "         [ 0.00000000e+00,  0.00000000e+00,  0.00000000e+00]],\n",
       " \n",
       "        ...,\n",
       " \n",
       "        [[ 1.85099065e+00, -4.40472662e-01, -1.28400552e+00],\n",
       "         [ 1.55133843e+00,  4.55578506e-01, -4.64257240e-01],\n",
       "         [ 1.06159091e-01,  7.51593113e-01, -1.30659252e-01],\n",
       "         ...,\n",
       "         [ 0.00000000e+00,  0.00000000e+00,  0.00000000e+00],\n",
       "         [ 0.00000000e+00,  0.00000000e+00,  0.00000000e+00],\n",
       "         [ 0.00000000e+00,  0.00000000e+00,  0.00000000e+00]],\n",
       " \n",
       "        [[-2.25758123e+00,  1.68093729e+00, -1.17398477e+00],\n",
       "         [-2.76661181e+00,  8.89758646e-01,  3.75695550e-03],\n",
       "         [-4.06718493e+00,  5.16572714e-01, -2.53943294e-01],\n",
       "         ...,\n",
       "         [ 0.00000000e+00,  0.00000000e+00,  0.00000000e+00],\n",
       "         [ 0.00000000e+00,  0.00000000e+00,  0.00000000e+00],\n",
       "         [ 0.00000000e+00,  0.00000000e+00,  0.00000000e+00]],\n",
       " \n",
       "        [[-5.18042374e+00, -2.83948809e-01, -3.67301792e-01],\n",
       "         [-4.00298262e+00,  4.56898510e-01,  2.50049025e-01],\n",
       "         [-3.96887112e+00,  2.77080178e-01,  1.73488224e+00],\n",
       "         ...,\n",
       "         [ 0.00000000e+00,  0.00000000e+00,  0.00000000e+00],\n",
       "         [ 0.00000000e+00,  0.00000000e+00,  0.00000000e+00],\n",
       "         [ 0.00000000e+00,  0.00000000e+00,  0.00000000e+00]]],      dtype=float32),\n",
       " 'mono': Array([[[-0.564112],\n",
       "         [ 0.375043],\n",
       "         [-0.232412],\n",
       "         ...,\n",
       "         [ 0.      ],\n",
       "         [ 0.      ],\n",
       "         [ 0.      ]],\n",
       " \n",
       "        [[-0.516786],\n",
       "         [ 0.173164],\n",
       "         [-0.195569],\n",
       "         ...,\n",
       "         [ 0.      ],\n",
       "         [ 0.      ],\n",
       "         [ 0.      ]],\n",
       " \n",
       "        [[-0.912104],\n",
       "         [ 0.433882],\n",
       "         [-0.321632],\n",
       "         ...,\n",
       "         [ 0.      ],\n",
       "         [ 0.      ],\n",
       "         [ 0.      ]],\n",
       " \n",
       "        ...,\n",
       " \n",
       "        [[-0.560398],\n",
       "         [ 0.713843],\n",
       "         [-0.477694],\n",
       "         ...,\n",
       "         [ 0.      ],\n",
       "         [ 0.      ],\n",
       "         [ 0.      ]],\n",
       " \n",
       "        [[-0.570469],\n",
       "         [ 0.272476],\n",
       "         [-0.630242],\n",
       "         ...,\n",
       "         [ 0.      ],\n",
       "         [ 0.      ],\n",
       "         [ 0.      ]],\n",
       " \n",
       "        [[-0.505881],\n",
       "         [ 0.052698],\n",
       "         [-0.48869 ],\n",
       "         ...,\n",
       "         [ 0.      ],\n",
       "         [ 0.      ],\n",
       "         [ 0.      ]]], dtype=float32)}"
      ]
     },
     "execution_count": 22,
     "metadata": {},
     "output_type": "execute_result"
    }
   ],
   "source": [
    "valid_data"
   ]
  },
  {
   "cell_type": "code",
   "execution_count": null,
   "id": "793a5e39-50a4-4f89-84dd-db3081604af8",
   "metadata": {},
   "outputs": [],
   "source": []
  },
  {
   "cell_type": "code",
   "execution_count": 23,
   "id": "d2f3d582-a761-4fb5-bb8e-a3e31452f047",
   "metadata": {},
   "outputs": [],
   "source": [
    "valid_batches = prepare_batches(data_key, valid_data, 10)"
   ]
  },
  {
   "cell_type": "code",
   "execution_count": 24,
   "id": "07e6bc04-dd58-4b5c-b131-6d2068a9a7b6",
   "metadata": {},
   "outputs": [],
   "source": [
    "batch = valid_batches[0]\n",
    "mono = message_passing_model.apply(\n",
    "    params,\n",
    "    atomic_numbers=batch['atomic_numbers'],\n",
    "    positions=batch['positions'],\n",
    "    dst_idx=batch['dst_idx'],\n",
    "    src_idx=batch['src_idx'],\n",
    "    batch_segments=batch['batch_segments'],\n",
    "    batch_size=len(valid_data[\"atomic_numbers\"])\n",
    ")"
   ]
  },
  {
   "cell_type": "code",
   "execution_count": 25,
   "id": "91b007d5-297a-4aef-95eb-b85cd0120256",
   "metadata": {},
   "outputs": [
    {
     "data": {
      "text/plain": [
       "(600,)"
      ]
     },
     "execution_count": 25,
     "metadata": {},
     "output_type": "execute_result"
    }
   ],
   "source": [
    "batch[\"mono\"].shape"
   ]
  },
  {
   "cell_type": "code",
   "execution_count": 26,
   "id": "ae591265-4a05-4b74-af1d-f8e88c55dba8",
   "metadata": {},
   "outputs": [],
   "source": [
    "nonzeros = jnp.nonzero(batch[\"mono\"])"
   ]
  },
  {
   "cell_type": "code",
   "execution_count": null,
   "id": "bcad3936-547a-4e37-a4a2-d065845cf454",
   "metadata": {},
   "outputs": [],
   "source": []
  },
  {
   "cell_type": "code",
   "execution_count": 27,
   "id": "3d0a7a4d-a2a3-4471-a7f9-e6e121d0413d",
   "metadata": {},
   "outputs": [],
   "source": [
    "batch_gt = batch[\"mono\"].reshape(10, 60)"
   ]
  },
  {
   "cell_type": "code",
   "execution_count": 28,
   "id": "1711acf8-48b5-4b8e-b74d-f7cfcec51607",
   "metadata": {},
   "outputs": [],
   "source": [
    "patch_pred = mono.reshape(10, 60)"
   ]
  },
  {
   "cell_type": "code",
   "execution_count": 29,
   "id": "cb9d7ba1-b0d8-40ee-b584-7afbe18d9f2d",
   "metadata": {},
   "outputs": [
    {
     "data": {
      "image/png": "[encoded data removed]",
      "text/plain": [
       "<Figure size 640x480 with 1 Axes>"
      ]
     },
     "metadata": {},
     "output_type": "display_data"
    }
   ],
   "source": [
    "import matplotlib.pyplot as plt\n",
    "# for i in range(10):\n",
    "#     plt.scatter(batch_gt[i], patch_pred[i])\n",
    "plt.scatter(mono[nonzeros], batch[\"mono\"][nonzeros])\n",
    "plt.plot([-1,1],[-1,1])\n",
    "plt.xlim(-1,1)\n",
    "plt.ylim(-1,1)\n",
    "ax = plt.gca()\n",
    "ax.set_aspect(\"equal\")"
   ]
  },
  {
   "cell_type": "code",
   "execution_count": 30,
   "id": "62e051fb-ab40-4f27-8e20-45e56ba5f2ca",
   "metadata": {},
   "outputs": [
    {
     "data": {
      "text/plain": [
       "Array(0.00090649, dtype=float32)"
      ]
     },
     "execution_count": 30,
     "metadata": {},
     "output_type": "execute_result"
    }
   ],
   "source": [
    "mean_squared_loss(mono, batch[\"mono\"], 10)"
   ]
  },
  {
   "cell_type": "code",
   "execution_count": 31,
   "id": "725139ca-411e-4727-a477-100d65cedea7",
   "metadata": {},
   "outputs": [
    {
     "data": {
      "text/plain": [
       "Array(0.03337161, dtype=float32)"
      ]
     },
     "execution_count": 31,
     "metadata": {},
     "output_type": "execute_result"
    }
   ],
   "source": [
    "mean_absolute_error(mono, batch[\"mono\"], 10)"
   ]
  },
  {
   "cell_type": "code",
   "execution_count": null,
   "id": "b9643ca9-e9a3-48e6-b2dc-608b305c8cf8",
   "metadata": {},
   "outputs": [],
   "source": []
  }
 ],
 "metadata": {
  "kernelspec": {
   "display_name": "gpue3x",
   "language": "python",
   "name": "gpue3x"
  },
  "language_info": {
   "codemirror_mode": {
    "name": "ipython",
    "version": 3
   },
   "file_extension": ".py",
   "mimetype": "text/x-python",
   "name": "python",
   "nbconvert_exporter": "python",
   "pygments_lexer": "ipython3",
   "version": "3.9.18"
  }
 },
 "nbformat": 4,
 "nbformat_minor": 5
}
