{
 "cells": [
  {
   "cell_type": "code",
   "execution_count": 1,
   "id": "66971716-670c-4752-bf03-2f702647b967",
   "metadata": {},
   "outputs": [
    {
     "name": "stderr",
     "output_type": "stream",
     "text": [
      "/tmp/ipykernel_1830/4180096664.py:3: DeprecationWarning: \n",
      "Pyarrow will become a required dependency of pandas in the next major release of pandas (pandas 3.0),\n",
      "(to allow more performant data types, such as the Arrow string type, and better interoperability with other libraries)\n",
      "but was not found to be installed on your system.\n",
      "If this would cause problems for you,\n",
      "please provide us feedback at https://github.com/pandas-dev/pandas/issues/54466\n",
      "        \n",
      "  import pandas as pd\n"
     ]
    },
    {
     "data": {
      "text/plain": [
       "<Figure size 640x480 with 0 Axes>"
      ]
     },
     "metadata": {},
     "output_type": "display_data"
    }
   ],
   "source": [
    "import functools\n",
    "import os\n",
    "import pandas as pd\n",
    "import e3x\n",
    "import flax.linen as nn\n",
    "import jax\n",
    "import numpy as np\n",
    "import optax\n",
    "# Disable future warnings.\n",
    "import warnings\n",
    "import pickle\n",
    "\n",
    "warnings.simplefilter(action='ignore', category=FutureWarning)\n",
    "\n",
    "import matplotlib.pyplot as plt\n",
    "plt.set_cmap('bwr')\n",
    "\n",
    "import jax.numpy as jnp\n",
    "from jax import jit, grad\n",
    "from jax import vmap\n",
    "batch_size = 16\n",
    "NATOMS = 60"
   ]
  },
  {
   "cell_type": "code",
   "execution_count": 2,
   "id": "d505970c-69f2-465e-88bd-6961227736a6",
   "metadata": {},
   "outputs": [],
   "source": [
    "def evaluate_dc(batch, dipo, mono, batch_size, plot=False, rcut=10000):\n",
    "    esp_dc_pred = esp_mono_loss_pots(dipo, mono, batch['esp'], \n",
    "                             batch['vdw_surface'], batch['mono'], \n",
    "                             batch_size)\n",
    "\n",
    "    mono_pred =  esp_loss_pots(batch['positions'], batch['mono'], batch['esp'],\n",
    "                        batch['vdw_surface'], batch['mono'], batch_size)\n",
    "\n",
    "    non_zero = np.nonzero(batch[\"mono\"])\n",
    "\n",
    "    if plot:\n",
    "    \n",
    "        plt.scatter(batch[\"mono\"][non_zero], \n",
    "                    mono.sum(axis=-1).squeeze()[non_zero])\n",
    "        loss = esp_loss_eval(batch[\"mono\"][non_zero], mono.sum(axis=-1).squeeze()[non_zero], None)\n",
    "        plt.title(loss)\n",
    "        plt.plot([-1,1],[-1,1],c=\"k\",alpha=0.5)\n",
    "        plt.xlim(-1,1)\n",
    "        plt.ylim(-1,1)\n",
    "        ax=plt.gca()\n",
    "        ax.set_aspect(\"equal\")\n",
    "        plt.show()\n",
    "        \n",
    "        for id in range(batch_size):\n",
    "            plt.scatter(esp_dc_pred[id][:batch['ngrid'][id]],\n",
    "                        batch['esp'][id][:batch['ngrid'][id]], alpha=0.1)\n",
    "     \n",
    "        ax = plt.gca()\n",
    "        plt.xlim(-0.1, 0.1)\n",
    "        plt.ylim(-0.1, 0.1)\n",
    "        plt.plot([-1,1],[-1,1],c=\"k\",alpha=0.5)\n",
    "        ax.set_aspect(\"equal\")\n",
    "        plt.show()\n",
    "\n",
    "    esp_errors = []\n",
    "    \n",
    "    for mbID in range(batch_size):\n",
    "        xyzs = batch['positions'].reshape(batch_size,60, 3)\n",
    "        vdws = batch['vdw_surface'][mbID][:batch['ngrid'][mbID]]\n",
    "        diff = xyzs[mbID][:, None, :] - vdws[None, :, :]\n",
    "        r = np.linalg.norm(diff, axis=-1) \n",
    "        min_d = np.min(r, axis=-2)\n",
    "        wheremind = np.where( min_d < rcut, min_d, 0)\n",
    "        idx_cut = np.nonzero(wheremind)[0]\n",
    "        loss1 = esp_loss_eval(esp_dc_pred[mbID][:batch['ngrid'][mbID]][idx_cut], \n",
    "                      batch['esp'][mbID][:batch['ngrid'][mbID]][idx_cut],\n",
    "                      batch['ngrid'][mbID])\n",
    "        loss2 = esp_loss_eval(mono_pred[mbID][:batch['ngrid'][mbID]][idx_cut], \n",
    "                      batch['esp'][mbID][:batch['ngrid'][mbID]][idx_cut],\n",
    "                      batch['ngrid'][mbID])\n",
    "        esp_errors.append([loss1, loss2])\n",
    "\n",
    "        if plot:\n",
    "            \n",
    "            fig = plt.figure(figsize=(12,6))\n",
    "            \n",
    "            ax1 = fig.add_subplot(151, projection='3d')\n",
    "            s = ax1.scatter(*batch['vdw_surface'][mbID][:batch['ngrid'][mbID]][idx_cut].T, \n",
    "                           c=clip_colors(batch['esp'][mbID][:batch['ngrid'][mbID]][idx_cut]), \n",
    "                           vmin=-0.015, vmax=0.015)\n",
    "            ax1.set_title(f\"GT {mbID}\")\n",
    "            \n",
    "    \n",
    "            ax2 = fig.add_subplot(152, projection='3d')\n",
    "            s = ax2.scatter(*batch['vdw_surface'][mbID][:batch['ngrid'][mbID]][idx_cut].T, \n",
    "                           c=clip_colors(esp_dc_pred[mbID][:batch['ngrid'][mbID]][idx_cut]), \n",
    "                           vmin=-0.015, vmax=0.015)\n",
    "            ax2.set_title(loss1)\n",
    "            \n",
    "            ax4 = fig.add_subplot(153, projection='3d')\n",
    "            s = ax4.scatter(*batch['vdw_surface'][mbID][:batch['ngrid'][mbID]][idx_cut].T, \n",
    "                           c=clip_colors(esp_dc_pred[mbID][:batch['ngrid'][mbID]][idx_cut]\n",
    "                                        - batch['esp'][mbID][:batch['ngrid'][mbID]][idx_cut]\n",
    "                                        ), \n",
    "                           vmin=-0.015, vmax=0.015)\n",
    "    \n",
    "    \n",
    "            ax3 = fig.add_subplot(154, projection='3d')\n",
    "            s = ax3.scatter(*batch['vdw_surface'][mbID][:batch['ngrid'][mbID]][idx_cut].T, \n",
    "                           c=clip_colors(mono_pred[mbID][:batch['ngrid'][mbID]][idx_cut]), \n",
    "                           vmin=-0.015, vmax=0.015)\n",
    "            ax3.set_title(loss2)\n",
    "    \n",
    "            ax5 = fig.add_subplot(155, projection='3d')\n",
    "            s = ax5.scatter(*batch['vdw_surface'][mbID][:batch['ngrid'][mbID]][idx_cut].T, \n",
    "                           c=clip_colors(mono_pred[mbID][:batch['ngrid'][mbID]][idx_cut]\n",
    "                                        - batch['esp'][mbID][:batch['ngrid'][mbID]][idx_cut]\n",
    "                                        ), \n",
    "                           vmin=-0.015, vmax=0.015)\n",
    "    \n",
    "    \n",
    "    \n",
    "            for _ in [ax1,ax2,ax3]:\n",
    "                _.set_xlim(-10,10)\n",
    "                _.set_ylim(-10,10)\n",
    "                _.set_zlim(-10,10)\n",
    "            plt.show()\n",
    "        \n",
    "    return esp_errors\n"
   ]
  },
  {
   "cell_type": "code",
   "execution_count": 3,
   "id": "fa0a9e1e-0629-42a7-b814-95ac48a43f4c",
   "metadata": {},
   "outputs": [
    {
     "data": {
      "text/plain": [
       "<Figure size 640x480 with 0 Axes>"
      ]
     },
     "metadata": {},
     "output_type": "display_data"
    }
   ],
   "source": [
    "from esp_net import *\n",
    "\n",
    "def nan_safe_coulomb_potential(q, r):\n",
    "    potential = jnp.where(jnp.isnan(r) | (r == 0.0), 0.0, q / (r * 1.88973))\n",
    "    return potential\n",
    "\n",
    "\n",
    "def calc_esp(charge_positions, charge_values, grid_positions, mono):\n",
    "    chg_mask = jnp.where(mono != 0, 1.0, 0.0)\n",
    "    # Expand the grid positions and charge positions to compute all pairwise differences\n",
    "    diff = grid_positions[:, None, :] - charge_positions[None, :, :]\n",
    "    # Compute the Euclidean distance between each grid point and each charge\n",
    "    r = jnp.linalg.norm(diff, axis=-1)\n",
    "    C = nan_safe_coulomb_potential((chg_mask * charge_values)[None, :], r)\n",
    "    V = jnp.sum(C, axis=-1)\n",
    "    return V\n",
    "\n",
    "def esp_loss_eval(pred, target, ngrid):\n",
    "    target = target.flatten()\n",
    "    esp_non_zero = np.nonzero(target)\n",
    "    l2_loss = optax.l2_loss(pred[esp_non_zero], target[esp_non_zero])\n",
    "    esp_loss = np.mean(l2_loss)\n",
    "    esp_loss = esp_loss * 1  \n",
    "    return esp_loss\n",
    "    \n",
    "batched_electrostatic_potential = vmap(calc_esp, in_axes=(0, 0, 0, 0), out_axes=0)\n",
    "\n",
    "\n",
    "def clip_colors(c):\n",
    "    return np.clip(c, -0.015, 0.015)\n",
    "\n",
    "\n",
    "@functools.partial(jax.jit, static_argnames=('batch_size', 'esp_w'))\n",
    "def esp_mono_loss(dipo_prediction, mono_prediction, esp_target,\n",
    "                  vdw_surface, mono, batch_size, esp_w):\n",
    "    \"\"\"\n",
    "    \"\"\"\n",
    "    nonzero = jnp.nonzero(mono, size=batch_size * 60)\n",
    "    l2_loss_mono = optax.l2_loss(mono_prediction.sum(axis=-1), mono)\n",
    "    mono_loss = jnp.mean(l2_loss_mono[nonzero])\n",
    "\n",
    "    d = dipo_prediction.reshape(batch_size, NATOMS, 3, n_dcm)\n",
    "    d = jnp.moveaxis(d, -1, -2)\n",
    "    d = d.reshape(batch_size, NATOMS * n_dcm, 3)\n",
    "    mono = jnp.repeat(mono.reshape(batch_size, NATOMS), n_dcm, axis=-1)\n",
    "    m = mono_prediction.reshape(batch_size, NATOMS * n_dcm)\n",
    "\n",
    "    batched_pred = batched_electrostatic_potential(d, m, vdw_surface, mono).flatten()\n",
    "    esp_target = esp_target.flatten()\n",
    "    esp_non_zero = jnp.nonzero(esp_target, size=batch_size * 3143)\n",
    "\n",
    "    l2_loss = optax.l2_loss(batched_pred, esp_target)\n",
    "    esp_loss = jnp.mean(l2_loss[esp_non_zero])\n",
    "    esp_loss = esp_loss * esp_w\n",
    "    return esp_loss + mono_loss\n",
    "\n",
    "\n",
    "def esp_mono_loss_pots(dipo_prediction, mono_prediction, esp_target,\n",
    "                       vdw_surface, mono, batch_size):\n",
    "    \"\"\"\n",
    "    \"\"\"\n",
    "    d = dipo_prediction.reshape(batch_size, NATOMS, 3, n_dcm)\n",
    "    d = jnp.moveaxis(d, -1, -2)\n",
    "    d = d.reshape(batch_size, NATOMS * n_dcm, 3)\n",
    "    mono = jnp.repeat(mono.reshape(batch_size, NATOMS), n_dcm, axis=-1)\n",
    "    m = mono_prediction.reshape(batch_size, NATOMS * n_dcm)\n",
    "\n",
    "    batched_pred = batched_electrostatic_potential(d, m, vdw_surface, mono)\n",
    "\n",
    "    return batched_pred\n",
    "\n",
    "\n",
    "def esp_loss_pots(dipo_prediction, mono_prediction,\n",
    "                  esp_target, vdw_surface, mono, batch_size):\n",
    "    d = dipo_prediction.reshape(batch_size, NATOMS, 3)\n",
    "    mono = mono.reshape(batch_size, NATOMS)\n",
    "    m = mono_prediction.reshape(batch_size, NATOMS)\n",
    "    batched_pred = batched_electrostatic_potential(d, m, vdw_surface, mono)\n",
    "\n",
    "    return batched_pred\n",
    "\n",
    "\n",
    "def mean_absolute_error(prediction, target, batch_size):\n",
    "    nonzero = jnp.nonzero(target, size=batch_size * 60)\n",
    "    return jnp.mean(jnp.abs(prediction[nonzero] - target[nonzero]))"
   ]
  },
  {
   "cell_type": "code",
   "execution_count": 4,
   "id": "36dba8e6-82f2-4750-ab2f-e41def12d047",
   "metadata": {},
   "outputs": [],
   "source": [
    "NATOMS = 60\n",
    "class MessagePassingModel(nn.Module):\n",
    "    features: int = 32\n",
    "    max_degree: int = 2\n",
    "    num_iterations: int = 3\n",
    "    num_basis_functions: int = 8\n",
    "    cutoff: float = 5.0\n",
    "    max_atomic_number: int = 17\n",
    "    n_dcm: int = 4\n",
    "\n",
    "    def mono(self, atomic_numbers, positions, dst_idx, src_idx, batch_segments,\n",
    "             batch_size):\n",
    "        # 1. Calculate displacement vectors.\n",
    "        positions_dst = e3x.ops.gather_dst(positions, dst_idx=dst_idx)\n",
    "        positions_src = e3x.ops.gather_src(positions, src_idx=src_idx)\n",
    "        displacements = positions_src - positions_dst  # Shape (num_pairs, 3).\n",
    "\n",
    "        # 2. Expand displacement vectors in basis functions.\n",
    "        basis = e3x.nn.basis(\n",
    "            # Shape (num_pairs, 1, (max_degree+1)**2, num_basis_functions).\n",
    "            displacements,\n",
    "            num=self.num_basis_functions,\n",
    "            max_degree=self.max_degree,\n",
    "            radial_fn=e3x.nn.reciprocal_bernstein,\n",
    "            cutoff_fn=functools.partial(e3x.nn.smooth_cutoff, cutoff=self.cutoff)\n",
    "        )\n",
    "\n",
    "        x = e3x.nn.Embed(num_embeddings=self.max_atomic_number + 1,\n",
    "                         features=self.features)(atomic_numbers)\n",
    "\n",
    "        # 4. Perform iterations (message-passing + atom-wise refinement).\n",
    "        for i in range(self.num_iterations):\n",
    "            # Message-pass.\n",
    "            if i == self.num_iterations - 1:  # Final iteration.\n",
    "                y = e3x.nn.MessagePass(max_degree=max_degree,\n",
    "                                       include_pseudotensors=False\n",
    "                                       )(x, basis, dst_idx=dst_idx, src_idx=src_idx)\n",
    "            else:\n",
    "                y = e3x.nn.MessagePass()(x, basis, dst_idx=dst_idx, src_idx=src_idx)\n",
    "            y = e3x.nn.add(x, y)\n",
    "            # Atom-wise refinement MLP.\n",
    "            y = e3x.nn.Dense(self.features)(y)\n",
    "            y = e3x.nn.silu(y)\n",
    "            y = e3x.nn.Dense(self.features)(y)\n",
    "            # Residual connection.\n",
    "            x = e3x.nn.add(x, y)\n",
    "\n",
    "        x = e3x.nn.TensorDense(\n",
    "            features=n_dcm,\n",
    "            max_degree=1,\n",
    "            include_pseudotensors=False,\n",
    "        )(x)\n",
    "\n",
    "        atomic_mono = e3x.nn.change_max_degree_or_type(x,\n",
    "                                                       max_degree=0,\n",
    "                                                       include_pseudotensors=False)\n",
    "        element_bias = self.param('element_bias',\n",
    "                                  lambda rng, shape: jnp.zeros(shape),\n",
    "                                  (self.max_atomic_number + 1))\n",
    "        atomic_mono = nn.Dense(n_dcm, use_bias=False,\n",
    "                               )(atomic_mono)\n",
    "        atomic_mono = atomic_mono.squeeze(axis=1)\n",
    "        atomic_mono = atomic_mono.squeeze(axis=1)\n",
    "        atomic_mono += element_bias[atomic_numbers][:, None]\n",
    "        atomic_dipo = x[:, 1, 1:4, :]\n",
    "        atomic_dipo = e3x.nn.silu(atomic_dipo)\n",
    "        atomic_dipo = jnp.clip(atomic_dipo, a_min=-0.0, a_max=0.0)\n",
    "        atomic_dipo += positions[:, :, None]\n",
    "\n",
    "        return atomic_mono, atomic_dipo\n",
    "\n",
    "    @nn.compact\n",
    "    def __call__(self, atomic_numbers, positions, dst_idx, src_idx,\n",
    "                 batch_segments=None, batch_size=None):\n",
    "        if batch_segments is None:\n",
    "            batch_segments = jnp.zeros_like(atomic_numbers)\n",
    "            batch_size = 1\n",
    "\n",
    "        return self.mono(atomic_numbers, positions, dst_idx, src_idx, batch_segments,\n",
    "                         batch_size)"
   ]
  },
  {
   "cell_type": "code",
   "execution_count": 5,
   "id": "6b0fad95-d920-406f-aeb5-c1670d25138b",
   "metadata": {},
   "outputs": [],
   "source": [
    "def flatten(xss):\n",
    "    return [x for xs in xss for x in xs]\n",
    "    \n",
    "def process_df(errors):\n",
    "    h2kcal = 627.509\n",
    "    df = pd.DataFrame(flatten(errors))\n",
    "    df[\"model\"] = df[0].apply(lambda x: np.sqrt(x)*h2kcal)\n",
    "    df[\"mono\"] = df[1].apply(lambda x: np.sqrt(x)*h2kcal)\n",
    "    df[\"dif\"] =  df[\"model\"] - df[\"mono\"]\n",
    "    return df"
   ]
  },
  {
   "cell_type": "markdown",
   "id": "108cd66d-b04d-4f0a-b4d1-8be424008ae0",
   "metadata": {},
   "source": [
    "# Data"
   ]
  },
  {
   "cell_type": "code",
   "execution_count": 6,
   "id": "c3cf9ea8-49c0-4b2f-a4b7-14f7418e9e62",
   "metadata": {},
   "outputs": [
    {
     "name": "stdout",
     "output_type": "stream",
     "text": [
      "R (10000, 60, 3)\n",
      "Z (10000, 60)\n",
      "N (10000,)\n",
      "mono (10000, 60, 1)\n",
      "esp (10000, 3143)\n",
      "n_grid (10000,)\n",
      "vdw_surface (10000, 3143, 3)\n",
      "10000\n",
      "...\n",
      "...\n",
      "atomic_numbers (9984, 60)\n",
      "ngrid (9984,)\n",
      "positions (9984, 60, 3)\n",
      "mono (9984, 60, 1)\n",
      "esp (9984, 3143)\n",
      "vdw_surface (9984, 3143, 3)\n",
      "...\n",
      "atomic_numbers (16, 60)\n",
      "positions (16, 60, 3)\n",
      "mono (16, 60, 1)\n",
      "ngrid (16,)\n",
      "esp (16, 3143)\n",
      "vdw_surface (16, 3143, 3)\n"
     ]
    }
   ],
   "source": [
    "data_key, train_key = jax.random.split(jax.random.PRNGKey(\n",
    "    0\n",
    "), 2)\n",
    "train_data, valid_data = prepare_datasets(\n",
    "    data_key,\n",
    "    10000 - 16,\n",
    "    16,\n",
    "    filename=\"data/qm9-esp10000.npz\")"
   ]
  },
  {
   "cell_type": "code",
   "execution_count": 7,
   "id": "9ba3f26e-ed9c-4901-9cdc-6fda4698c433",
   "metadata": {},
   "outputs": [
    {
     "name": "stdout",
     "output_type": "stream",
     "text": [
      "1\n"
     ]
    }
   ],
   "source": [
    "valid_batches = prepare_batches(data_key, valid_data, batch_size)\n",
    "print(len(valid_batches))"
   ]
  },
  {
   "cell_type": "code",
   "execution_count": 8,
   "id": "0d39f111-3627-463f-b1cf-d26d67ae40e9",
   "metadata": {},
   "outputs": [
    {
     "name": "stdout",
     "output_type": "stream",
     "text": [
      "624\n"
     ]
    }
   ],
   "source": [
    "train_batches = prepare_batches(data_key, train_data, batch_size)\n",
    "print(len(train_batches))"
   ]
  },
  {
   "cell_type": "markdown",
   "id": "1a0fa730-d79c-4e52-b07e-812880e864da",
   "metadata": {},
   "source": [
    "#  DCM1"
   ]
  },
  {
   "cell_type": "code",
   "execution_count": 29,
   "id": "eef172bf-3f63-4b00-bdfa-1bc14963310e",
   "metadata": {},
   "outputs": [
    {
     "data": {
      "text/plain": [
       "MessagePassingModel(\n",
       "    # attributes\n",
       "    features = 32\n",
       "    max_degree = 2\n",
       "    num_iterations = 3\n",
       "    num_basis_functions = 16\n",
       "    cutoff = 4.0\n",
       "    max_atomic_number = 17\n",
       "    n_dcm = 1\n",
       ")"
      ]
     },
     "execution_count": 29,
     "metadata": {},
     "output_type": "execute_result"
    }
   ],
   "source": [
    "# Model hyperparameters.\n",
    "features = 32\n",
    "max_degree = 2\n",
    "num_iterations = 3\n",
    "num_basis_functions = 16\n",
    "cutoff = 4.0\n",
    "\n",
    "n_dcm = 1\n",
    "# Training hyperparameters.\n",
    "learning_rate = 0.001\n",
    "batch_size = 16\n",
    "esp_w = 10.0\n",
    "restart_params = None\n",
    "num_epochs = 20\n",
    "\n",
    "# Create and train model.\n",
    "message_passing_model = MessagePassingModel(\n",
    "    features=features,\n",
    "    max_degree=max_degree,\n",
    "    num_iterations=num_iterations,\n",
    "    num_basis_functions=num_basis_functions,\n",
    "    cutoff=cutoff,\n",
    "    n_dcm=n_dcm,\n",
    ")\n",
    "\n",
    "params = pd.read_pickle(\"checkpoints/dcm1-10000.0/4-0.07652133703231812-esp_params.pkl\")\n",
    "\n",
    "# params = pd.read_pickle(\"checkpoints/dcm1-10.0/8-0.00036029628245159984-esp_params.pkl\")\n",
    "\n",
    "# params = pd.read_pickle(\"checkpoints/dcm1-100.0/27-0.0014055122155696154-esp_params.pkl\")\n",
    "\n",
    "message_passing_model"
   ]
  },
  {
   "cell_type": "code",
   "execution_count": null,
   "id": "7d13c943-51a5-4a57-8cd5-bf5e70298527",
   "metadata": {
    "scrolled": true
   },
   "outputs": [],
   "source": [
    "errors_train = []\n",
    "\n",
    "for batchID in range(1):\n",
    "    batch = valid_batches[batchID]\n",
    "    \n",
    "    mono, dipo = message_passing_model.apply(\n",
    "        params,\n",
    "        atomic_numbers=batch['atomic_numbers'],\n",
    "        positions=batch['positions'],\n",
    "        dst_idx=batch['dst_idx'],\n",
    "        src_idx=batch['src_idx'],\n",
    "        batch_segments=batch['batch_segments'],\n",
    "        batch_size=batch_size\n",
    "    )\n",
    "    \n",
    "    errors = evaluate_dc(batch, dipo, mono, batch_size, plot=True)\n",
    "    errors_train.append(errors)"
   ]
  },
  {
   "cell_type": "code",
   "execution_count": null,
   "id": "cbd24204-ab3f-417e-8e13-a7c0e0d7fd6d",
   "metadata": {},
   "outputs": [],
   "source": [
    "# errors_train"
   ]
  },
  {
   "cell_type": "code",
   "execution_count": null,
   "id": "8234ee7d-595d-4bc5-b122-78e1fe60eea0",
   "metadata": {
    "scrolled": true
   },
   "outputs": [],
   "source": [
    "errors_test = []\n",
    "\n",
    "for batchID in range(5):\n",
    "    batch = train_batches[batchID]\n",
    "    \n",
    "    mono, dipo = message_passing_model.apply(\n",
    "        params,\n",
    "        atomic_numbers=batch['atomic_numbers'],\n",
    "        positions=batch['positions'],\n",
    "        dst_idx=batch['dst_idx'],\n",
    "        src_idx=batch['src_idx'],\n",
    "        batch_segments=batch['batch_segments'],\n",
    "        batch_size=batch_size\n",
    "    )\n",
    "    \n",
    "    errors = evaluate_dc(batch, dipo, mono, batch_size)\n",
    "    errors_test.append(errors)"
   ]
  },
  {
   "cell_type": "code",
   "execution_count": null,
   "id": "73ed59af-ffc6-445e-af0c-01fa882d6e50",
   "metadata": {},
   "outputs": [],
   "source": []
  },
  {
   "cell_type": "code",
   "execution_count": null,
   "id": "6b98b414-c1da-4641-a384-c7713940225b",
   "metadata": {},
   "outputs": [],
   "source": [
    "dcm1_errors = process_df(errors_test)"
   ]
  },
  {
   "cell_type": "code",
   "execution_count": null,
   "id": "9269ca2b-34f0-43d9-b242-527010ba85ac",
   "metadata": {},
   "outputs": [],
   "source": [
    "dcm1_errors.describe()"
   ]
  },
  {
   "cell_type": "code",
   "execution_count": null,
   "id": "03e4e27b-9146-4536-9709-0b28dfcccf0a",
   "metadata": {},
   "outputs": [],
   "source": [
    "plt.hist(dcm1_errors[\"mono\"], alpha=0.5, bins=100)\n",
    "plt.hist(dcm1_errors[\"model\"], alpha=0.5, bins=100)\n",
    "plt.xlim(0, 5)"
   ]
  },
  {
   "cell_type": "code",
   "execution_count": null,
   "id": "9f6d7f84-f3d1-4403-883a-c6adce88ef9f",
   "metadata": {},
   "outputs": [],
   "source": [
    "_ =  plt.hist(dcm1_errors[\"dif\"], alpha=0.5, bins=100)\n",
    "plt.xlim(-2,2)\n",
    "plt.axvline(0)"
   ]
  },
  {
   "cell_type": "markdown",
   "id": "6a5b4b4d-2678-4c9a-bea1-2ec237c19d18",
   "metadata": {},
   "source": [
    "# DCM2"
   ]
  },
  {
   "cell_type": "code",
   "execution_count": null,
   "id": "309cb01c-752e-483d-a917-edb68138932b",
   "metadata": {},
   "outputs": [],
   "source": [
    "# Model hyperparameters.\n",
    "features = 32\n",
    "max_degree = 2\n",
    "num_iterations = 3\n",
    "num_basis_functions = 16\n",
    "cutoff = 4.0\n",
    "\n",
    "n_dcm = 2\n",
    "# Training hyperparameters.\n",
    "learning_rate = 0.001\n",
    "batch_size = 16\n",
    "esp_w = 10.0\n",
    "restart_params = None\n",
    "num_epochs = 20\n",
    "\n",
    "# Create and train model.\n",
    "message_passing_model = MessagePassingModel(\n",
    "    features=features,\n",
    "    max_degree=max_degree,\n",
    "    num_iterations=num_iterations,\n",
    "    num_basis_functions=num_basis_functions,\n",
    "    cutoff=cutoff,\n",
    "    n_dcm=n_dcm,\n",
    ")\n",
    "\n",
    "params = pd.read_pickle(\"checkpoints/dcm2-10000.0/22-0.04865529388189316-esp_params.pkl\")\n",
    "\n",
    "# params = pd.read_pickle(\"checkpoints/dcm2-10000.0/7-0.0513247549533844-esp_params.pkl\")\n",
    "params = pd.read_pickle(\"checkpoints/dcm2-10.0/99-0.00013578754442278296-esp_params.pkl\")\n",
    "\n",
    "# params = pd.read_pickle(\"checkpoints/dcm2-1000.0/1-0.005339722149074078-esp_params.pkl\")\n",
    "# params = pd.read_pickle(\"checkpoints/dcm2-1000.0/26-0.008979301899671555-esp_params.pkl\")\n",
    "\n",
    "params = pd.read_pickle(\"checkpoints/dcm2-100.0/25-0.0007704171002842486-esp_params.pkl\")\n",
    "\n",
    "\n",
    "\n",
    "message_passing_model"
   ]
  },
  {
   "cell_type": "code",
   "execution_count": null,
   "id": "91d32067-9f5d-4e3c-bb29-426ae982e67e",
   "metadata": {
    "scrolled": true
   },
   "outputs": [],
   "source": [
    "for batchID in range(1):\n",
    "    batch = valid_batches[batchID]\n",
    "    \n",
    "    mono, dipo = message_passing_model.apply(\n",
    "        params,\n",
    "        atomic_numbers=batch['atomic_numbers'],\n",
    "        positions=batch['positions'],\n",
    "        dst_idx=batch['dst_idx'],\n",
    "        src_idx=batch['src_idx'],\n",
    "        batch_segments=batch['batch_segments'],\n",
    "        batch_size=batch_size\n",
    "    )\n",
    "    \n",
    "    evaluate_dc(batch, dipo, mono, batch_size, plot=True)"
   ]
  },
  {
   "cell_type": "code",
   "execution_count": null,
   "id": "c06c89e5-5aa4-4a81-9901-b87d5dc400dc",
   "metadata": {
    "scrolled": true
   },
   "outputs": [],
   "source": [
    "test_error = []\n",
    "\n",
    "for batchID in range(5):\n",
    "    batch = train_batches[batchID]\n",
    "    \n",
    "    mono, dipo = message_passing_model.apply(\n",
    "        params,\n",
    "        atomic_numbers=batch['atomic_numbers'],\n",
    "        positions=batch['positions'],\n",
    "        dst_idx=batch['dst_idx'],\n",
    "        src_idx=batch['src_idx'],\n",
    "        batch_segments=batch['batch_segments'],\n",
    "        batch_size=batch_size\n",
    "    )\n",
    "    \n",
    "    error = evaluate_dc(batch, dipo, mono, batch_size)\n",
    "    test_error.append(error)"
   ]
  },
  {
   "cell_type": "code",
   "execution_count": null,
   "id": "64743bd9-01ca-4a6b-9275-68c0c7727aec",
   "metadata": {},
   "outputs": [],
   "source": [
    "dcm2_errors = process_df(test_error)"
   ]
  },
  {
   "cell_type": "code",
   "execution_count": null,
   "id": "4e76bbdc-cf80-4020-8403-a7d85d9a5c77",
   "metadata": {},
   "outputs": [],
   "source": [
    "dcm2_errors.describe()"
   ]
  },
  {
   "cell_type": "code",
   "execution_count": null,
   "id": "453d5b9c-2ce2-4bbc-8b97-03752287b3d4",
   "metadata": {},
   "outputs": [],
   "source": [
    "plt.hist(dcm2_errors[\"mono\"], alpha=0.5, bins=100)\n",
    "plt.hist(dcm2_errors[\"model\"], alpha=0.5, bins=100)\n",
    "plt.xlim(0, 5)"
   ]
  },
  {
   "cell_type": "code",
   "execution_count": null,
   "id": "b6f25195-9398-40a3-b516-92f87c13c6bb",
   "metadata": {},
   "outputs": [],
   "source": [
    "_ =  plt.hist(dcm2_errors[\"dif\"], alpha=0.5, bins=100)\n",
    "plt.xlim(-2,2)\n",
    "plt.axvline(0)"
   ]
  },
  {
   "cell_type": "markdown",
   "id": "0e59d2de-c5a1-48a2-a276-0477b5ebf2e4",
   "metadata": {},
   "source": [
    "#  DCM3"
   ]
  },
  {
   "cell_type": "code",
   "execution_count": null,
   "id": "671f9e83-9363-4475-94db-7cea3b5dd0d1",
   "metadata": {},
   "outputs": [],
   "source": [
    "# Model hyperparameters.\n",
    "features = 32\n",
    "max_degree = 2\n",
    "num_iterations = 3\n",
    "num_basis_functions = 16\n",
    "cutoff = 4.0\n",
    "\n",
    "n_dcm = 3\n",
    "# Training hyperparameters.\n",
    "learning_rate = 0.001\n",
    "batch_size = 16\n",
    "esp_w = 10.0\n",
    "restart_params = None\n",
    "num_epochs = 20\n",
    "\n",
    "# Create and train model.\n",
    "message_passing_model = MessagePassingModel(\n",
    "    features=features,\n",
    "    max_degree=max_degree,\n",
    "    num_iterations=num_iterations,\n",
    "    num_basis_functions=num_basis_functions,\n",
    "    cutoff=cutoff,\n",
    "    n_dcm=n_dcm,\n",
    ")\n",
    "\n",
    "params = pd.read_pickle(\"checkpoints/dcm3-10000.0/26-0.024539368227124214-esp_params.pkl\")\n",
    "# params = pd.read_pickle(\"checkpoints/dcm3-10.0/17-0.0001334990083705634-esp_params.pkl\")\n",
    "# params = pd.read_pickle(\"checkpoints/dcm3-1000.0/26-0.0028469625394791365-esp_params.pkl\")\n",
    "# params = pd.read_pickle(\"checkpoints/dcm3-100.0/14-0.0007971551967784762-esp_params.pkl\")\n",
    "message_passing_model"
   ]
  },
  {
   "cell_type": "code",
   "execution_count": null,
   "id": "d88babc8-1f31-44f8-a673-2fc400585bfe",
   "metadata": {
    "scrolled": true
   },
   "outputs": [],
   "source": [
    "for batchID in range(1):\n",
    "    batch = valid_batches[batchID]\n",
    "    \n",
    "    mono, dipo = message_passing_model.apply(\n",
    "        params,\n",
    "        atomic_numbers=batch['atomic_numbers'],\n",
    "        positions=batch['positions'],\n",
    "        dst_idx=batch['dst_idx'],\n",
    "        src_idx=batch['src_idx'],\n",
    "        batch_segments=batch['batch_segments'],\n",
    "        batch_size=batch_size\n",
    "    )\n",
    "    \n",
    "    evaluate_dc(batch, dipo, mono, batch_size, plot=True)"
   ]
  },
  {
   "cell_type": "code",
   "execution_count": null,
   "id": "1c27f2c6-5b17-453d-a632-3557c706f327",
   "metadata": {
    "scrolled": true
   },
   "outputs": [],
   "source": [
    "test_errors = []\n",
    "\n",
    "for batchID in range(5):\n",
    "    batch = train_batches[batchID]\n",
    "    \n",
    "    mono, dipo = message_passing_model.apply(\n",
    "        params,\n",
    "        atomic_numbers=batch['atomic_numbers'],\n",
    "        positions=batch['positions'],\n",
    "        dst_idx=batch['dst_idx'],\n",
    "        src_idx=batch['src_idx'],\n",
    "        batch_segments=batch['batch_segments'],\n",
    "        batch_size=batch_size\n",
    "    )\n",
    "    \n",
    "    errors = evaluate_dc(batch, dipo, mono, batch_size)\n",
    "    test_errors.append(errors)"
   ]
  },
  {
   "cell_type": "code",
   "execution_count": null,
   "id": "5ab4ea11-67d7-43df-a5bb-b4a1f8d06195",
   "metadata": {},
   "outputs": [],
   "source": [
    "dcm3_errors = process_df(test_errors)"
   ]
  },
  {
   "cell_type": "code",
   "execution_count": null,
   "id": "ea80b0c5-c885-4eae-b77d-3ea4635774bc",
   "metadata": {},
   "outputs": [],
   "source": [
    "dcm3_errors.describe()"
   ]
  },
  {
   "cell_type": "code",
   "execution_count": null,
   "id": "e97c1f6f-856e-41dc-83a6-2f06d87b83df",
   "metadata": {},
   "outputs": [],
   "source": [
    "plt.hist(dcm3_errors[\"mono\"], alpha=0.5, bins=100, range=(0,5))\n",
    "plt.hist(dcm3_errors[\"model\"], alpha=0.5, bins=100, range=(0,5))\n",
    "plt.xlim(0, 5)"
   ]
  },
  {
   "cell_type": "code",
   "execution_count": null,
   "id": "1ab3f34e-55d1-4f85-9d38-454df4769642",
   "metadata": {},
   "outputs": [],
   "source": [
    "_ =  plt.hist(dcm3_errors[\"dif\"], alpha=0.5, bins=100)\n",
    "plt.xlim(-2,2)\n",
    "plt.axvline(0)\n",
    "plt.ylabel(\"Count\", fontsize=20)\n",
    "plt.xlabel(\"$\\Delta$PC RMSE [(kcal/mol)/$e$]\", fontsize=20)\n",
    "plt.savefig(\"deltaESP-dcm3.pdf\", bbox_inches=\"tight\")"
   ]
  },
  {
   "cell_type": "markdown",
   "id": "8005da26-2448-4aec-9b8a-c293f7e63822",
   "metadata": {},
   "source": [
    "#  DCM4"
   ]
  },
  {
   "cell_type": "code",
   "execution_count": null,
   "id": "6e001075-864c-44ca-86dc-95e6fc652603",
   "metadata": {},
   "outputs": [],
   "source": [
    "# Model hyperparameters.\n",
    "features = 32\n",
    "max_degree = 2\n",
    "num_iterations = 3\n",
    "num_basis_functions = 16\n",
    "cutoff = 4.0\n",
    "\n",
    "n_dcm = 4\n",
    "# Training hyperparameters.\n",
    "learning_rate = 0.001\n",
    "batch_size = 16\n",
    "esp_w = 10.0\n",
    "restart_params = None\n",
    "num_epochs = 20\n",
    "\n",
    "# Create and train model.\n",
    "message_passing_model = MessagePassingModel(\n",
    "    features=features,\n",
    "    max_degree=max_degree,\n",
    "    num_iterations=num_iterations,\n",
    "    num_basis_functions=num_basis_functions,\n",
    "    cutoff=cutoff,\n",
    "    n_dcm=n_dcm,\n",
    ")\n",
    "\n",
    "params = pd.read_pickle(\"checkpoints/dcm4-10000.0/31-0.021692514419555664-esp_params.pkl\")\n",
    "\n",
    "# params = pd.read_pickle(\"checkpoints/dcm4-10.0/25-0.00011416388588258997-esp_params.pkl\")\n",
    "\n",
    "# params = pd.read_pickle(\"checkpoints/dcm4-100.0/14-0.0007527425768785179-esp_params.pkl\")\n",
    "# \n",
    "\n",
    "message_passing_model"
   ]
  },
  {
   "cell_type": "code",
   "execution_count": null,
   "id": "7071aafb-cf0f-48af-a13d-aab8504e7619",
   "metadata": {
    "scrolled": true
   },
   "outputs": [],
   "source": [
    "for batchID in range(1):\n",
    "    batch = valid_batches[batchID]\n",
    "    \n",
    "    mono, dipo = message_passing_model.apply(\n",
    "        params,\n",
    "        atomic_numbers=batch['atomic_numbers'],\n",
    "        positions=batch['positions'],\n",
    "        dst_idx=batch['dst_idx'],\n",
    "        src_idx=batch['src_idx'],\n",
    "        batch_segments=batch['batch_segments'],\n",
    "        batch_size=batch_size\n",
    "    )\n",
    "    \n",
    "    evaluate_dc(batch, dipo, mono, batch_size, plot=True)"
   ]
  },
  {
   "cell_type": "code",
   "execution_count": null,
   "id": "a93a0b76-bdf2-48f8-8697-4f073e37b633",
   "metadata": {
    "scrolled": true
   },
   "outputs": [],
   "source": [
    "test_errors = []\n",
    "\n",
    "for batchID in range(5):\n",
    "    batch = train_batches[batchID]\n",
    "    \n",
    "    mono, dipo = message_passing_model.apply(\n",
    "        params,\n",
    "        atomic_numbers=batch['atomic_numbers'],\n",
    "        positions=batch['positions'],\n",
    "        dst_idx=batch['dst_idx'],\n",
    "        src_idx=batch['src_idx'],\n",
    "        batch_segments=batch['batch_segments'],\n",
    "        batch_size=batch_size\n",
    "    )\n",
    "    \n",
    "    errors = evaluate_dc(batch, dipo, mono, batch_size)\n",
    "    test_errors.append(errors)"
   ]
  },
  {
   "cell_type": "code",
   "execution_count": null,
   "id": "a63e2be2-587b-4ae3-8484-e1c4fec16f44",
   "metadata": {},
   "outputs": [],
   "source": [
    "dcm4_errors = process_df(test_errors)"
   ]
  },
  {
   "cell_type": "code",
   "execution_count": null,
   "id": "ddd77f84-ff5e-4d51-a409-31b81d17905a",
   "metadata": {},
   "outputs": [],
   "source": [
    "dcm4_errors.describe()"
   ]
  },
  {
   "cell_type": "code",
   "execution_count": null,
   "id": "bc6e69bc-6b51-4b11-b42a-1b047d5d6141",
   "metadata": {},
   "outputs": [],
   "source": [
    "plt.hist(dcm4_errors[\"mono\"], alpha=0.5, bins=100, range=(0,5))\n",
    "plt.hist(dcm4_errors[\"model\"], alpha=0.5, bins=100, range=(0,5))\n",
    "plt.xlim(0, 5)"
   ]
  },
  {
   "cell_type": "code",
   "execution_count": null,
   "id": "9e3eb035-26bc-4a04-b420-6d4c601ff3dc",
   "metadata": {},
   "outputs": [],
   "source": [
    "_ =  plt.hist(dcm4_errors[\"dif\"], alpha=0.5, bins=100)\n",
    "plt.xlim(-2,2)\n",
    "plt.axvline(0)\n",
    "plt.ylabel(\"Count\", fontsize=20)\n",
    "plt.xlabel(\"$\\Delta$PC RMSE [(kcal/mol)/$e$]\", fontsize=20)"
   ]
  },
  {
   "cell_type": "markdown",
   "id": "1dd2ff88-47d6-402b-adfa-4b1c496ac9f5",
   "metadata": {},
   "source": [
    "# Equivariance "
   ]
  },
  {
   "cell_type": "code",
   "execution_count": null,
   "id": "c5480598-6ae8-455b-aa36-eb5a5eb72f97",
   "metadata": {},
   "outputs": [],
   "source": [
    "key, rotation_key = jax.random.split(data_key)\n",
    "rotation = e3x.so3.random_rotation(rotation_key, perturbation=0.01) \n",
    "rotation\n",
    "\n"
   ]
  },
  {
   "cell_type": "code",
   "execution_count": null,
   "id": "55357736-a947-43e0-9360-551dbfac9cda",
   "metadata": {},
   "outputs": [],
   "source": [
    "for batchID in range(1):\n",
    "    batch = train_batches[batchID]\n",
    "    \n",
    "    mono_rot, dipo_rot = message_passing_model.apply(\n",
    "        params,\n",
    "        atomic_numbers=batch['atomic_numbers'],\n",
    "        positions=batch['positions']@rotation,\n",
    "        dst_idx=batch['dst_idx'],\n",
    "        src_idx=batch['src_idx'],\n",
    "        batch_segments=batch['batch_segments'],\n",
    "        batch_size=batch_size\n",
    "    )\n",
    "    \n",
    "    # evaluate_dc(batch, dipo, mono, batch_size)"
   ]
  },
  {
   "cell_type": "code",
   "execution_count": null,
   "id": "dedddce8-f6eb-48d7-b4f7-88380fba65bb",
   "metadata": {},
   "outputs": [],
   "source": [
    "plt.scatter((dipo[0].T  @ rotation).flatten(), dipo_rot[0].T.flatten() )\n",
    "plt.plot([-2,2],[-2,2])\n",
    "plt.xlim(-1.25,1.25)\n",
    "plt.ylim(-1.25,1.25)\n",
    "plt.xlabel('$f(X) \\cdot R$', fontsize=20)\n",
    "plt.ylabel('$f(X \\cdot R)$', fontsize=20)\n",
    "plt.title(\"DCM charge position [$\\mathrm{\\\\AA}$]\")\n",
    "ax = plt.gca()\n",
    "ax.set_aspect(\"equal\")\n",
    "plt.savefig(\"dcm-equiv.pdf\", bbox_inches=\"tight\")"
   ]
  },
  {
   "cell_type": "code",
   "execution_count": null,
   "id": "f8fa8ec0-3341-4b52-96f7-bfce2cb43cb6",
   "metadata": {},
   "outputs": [],
   "source": []
  },
  {
   "cell_type": "markdown",
   "id": "020ad7a8-4ae9-4295-95f5-22b208470178",
   "metadata": {},
   "source": [
    "#  Structures"
   ]
  },
  {
   "cell_type": "code",
   "execution_count": null,
   "id": "2feb2367-33bf-4f2d-add4-680fed4759e0",
   "metadata": {},
   "outputs": [],
   "source": [
    "i = 2\n",
    "a1_ = mono.reshape(batch_size, 60, n_dcm)[i]\n",
    "b1_ = batch['atomic_numbers'].reshape(batch_size, 60)[i]\n",
    "c1_ = batch[\"mono\"].reshape(batch_size, 60)[i]\n",
    "nonzero = np.nonzero(c1_)\n",
    "\n",
    "total = 0.0\n",
    "total_mono = 0.0\n",
    "\n",
    "for j, l, k in zip(a1_[nonzero], b1_[nonzero], c1_[nonzero]):\n",
    "    print(j, j.sum(), l, k, abs(j.sum() - k))\n",
    "    total += j.sum()\n",
    "    total_mono += k\n",
    "    \n",
    "print(total, total_mono)\n",
    "dc = dipo.reshape(batch_size,60,3,n_dcm)\n",
    "dc = np.moveaxis(dc, -1, -2)\n",
    "dc = dc.reshape(batch_size, 60*n_dcm, 3)\n",
    "dcq = mono.reshape(batch_size,60*n_dcm,1)\n",
    "dcq = np.moveaxis(dcq, -1, -2)\n",
    "dcq = dcq.reshape(batch_size, 60*n_dcm, 1)"
   ]
  },
  {
   "cell_type": "code",
   "execution_count": null,
   "id": "002ce881-dce2-47b2-995c-b08bf566029e",
   "metadata": {},
   "outputs": [],
   "source": [
    "xyz = batch['positions'].reshape(batch_size,60,3)[i][nonzero]\n",
    "elem = batch[\"atomic_numbers\"].reshape(batch_size,60)[i][nonzero]\n",
    "from ase import Atoms\n",
    "from ase.visualize import view\n",
    "mol = Atoms(elem, xyz)\n",
    "view(mol, viewer=\"x3d\")"
   ]
  },
  {
   "cell_type": "code",
   "execution_count": null,
   "id": "63289d6c-776e-46d9-9828-64df7ff1cf1d",
   "metadata": {},
   "outputs": [],
   "source": [
    "idx = len(nonzero[0])*n_dcm\n",
    "dcmol = Atoms([\"X\" if _ > 0 else \"He\" for _ in dcq[i][:idx]], dc[i][:idx])\n",
    "view(dcmol, viewer=\"x3d\")"
   ]
  },
  {
   "cell_type": "code",
   "execution_count": null,
   "id": "b08849bf-bd00-4cf9-8e65-dcda01cdca67",
   "metadata": {},
   "outputs": [],
   "source": [
    "combined = dcmol + mol\n",
    "view(combined, viewer=\"x3d\")"
   ]
  },
  {
   "cell_type": "code",
   "execution_count": null,
   "id": "3d4c4432-cde9-4fb4-9a75-174d7e4deaac",
   "metadata": {},
   "outputs": [],
   "source": [
    "(dipo - batch['positions'][:,:,None]).reshape(batch_size, 60, 3, n_dcm)[i][nonzero]"
   ]
  },
  {
   "cell_type": "code",
   "execution_count": null,
   "id": "3df396bd-3798-4811-80e2-8a7d3f12f939",
   "metadata": {},
   "outputs": [],
   "source": []
  },
  {
   "cell_type": "code",
   "execution_count": null,
   "id": "06a1446b-615c-47b0-b4b9-7b4389a37a99",
   "metadata": {},
   "outputs": [],
   "source": []
  },
  {
   "cell_type": "code",
   "execution_count": null,
   "id": "c7370073-b0c6-47fe-a652-81f011527076",
   "metadata": {},
   "outputs": [],
   "source": []
  },
  {
   "cell_type": "code",
   "execution_count": null,
   "id": "ad97c228-d7d0-483d-9037-f543fa2610ae",
   "metadata": {},
   "outputs": [],
   "source": []
  },
  {
   "cell_type": "code",
   "execution_count": null,
   "id": "8623dcea-32ef-441d-8e30-99aebb9eb3b9",
   "metadata": {},
   "outputs": [],
   "source": []
  },
  {
   "cell_type": "code",
   "execution_count": null,
   "id": "95663853-e516-45b5-8b4d-b74e609cf403",
   "metadata": {},
   "outputs": [],
   "source": []
  },
  {
   "cell_type": "code",
   "execution_count": null,
   "id": "52d2b1f5-cdb3-425c-8fc5-946eae46c481",
   "metadata": {},
   "outputs": [],
   "source": []
  }
 ],
 "metadata": {
  "kernelspec": {
   "display_name": "jaxgpu11",
   "language": "python",
   "name": "jaxgpu11"
  },
  "language_info": {
   "codemirror_mode": {
    "name": "ipython",
    "version": 3
   },
   "file_extension": ".py",
   "mimetype": "text/x-python",
   "name": "python",
   "nbconvert_exporter": "python",
   "pygments_lexer": "ipython3",
   "version": "3.9.18"
  }
 },
 "nbformat": 4,
 "nbformat_minor": 5
}
