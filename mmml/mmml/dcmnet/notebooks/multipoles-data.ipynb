{
 "cells": [
  {
   "cell_type": "code",
   "execution_count": 2,
   "id": "bc442e51-79af-4297-81ca-69be3fc06cbf",
   "metadata": {},
   "outputs": [
    {
     "data": {
      "text/plain": [
       "1024"
      ]
     },
     "execution_count": 2,
     "metadata": {},
     "output_type": "execute_result"
    }
   ],
   "source": [
    "4096//4"
   ]
  },
  {
   "cell_type": "code",
   "execution_count": 10,
   "id": "cf034563-aaa2-46dd-8695-50d92afe444b",
   "metadata": {},
   "outputs": [
    {
     "data": {
      "text/plain": [
       "10000"
      ]
     },
     "execution_count": 10,
     "metadata": {},
     "output_type": "execute_result"
    }
   ],
   "source": [
    "100 * 100"
   ]
  },
  {
   "cell_type": "code",
   "execution_count": 20,
   "id": "171515e3-9f06-41bf-bb82-404ca5d1f17b",
   "metadata": {},
   "outputs": [
    {
     "data": {
      "text/plain": [
       "4.904089407128572e-06"
      ]
     },
     "execution_count": 20,
     "metadata": {},
     "output_type": "execute_result"
    }
   ],
   "source": [
    "0.0001 * 0.99**300"
   ]
  },
  {
   "cell_type": "code",
   "execution_count": 7,
   "id": "664bab83-aeb4-4bd8-a0fa-814008a6834e",
   "metadata": {},
   "outputs": [
    {
     "name": "stdout",
     "output_type": "stream",
     "text": [
      " 0 3 6 9 12 15 18 21 24 27 30 33 36 39 42 45 48 51 54 57 60 63 66 69 72 75 78 81 84 87 90 93 96 99 102 105 108 111 114 117 120 123 126 129 132 135 138 141 144 147 150 153 156 159 162 165 168 171 174 177 180\n",
      "59\n"
     ]
    }
   ],
   "source": [
    "s = \"\"\n",
    "c = 0\n",
    "for i in range(0, 183, 3):\n",
    "    s += f\" {i}\"\n",
    "    if i > 3:\n",
    "        c+=1\n",
    "print(s)\n",
    "print(c)"
   ]
  },
  {
   "cell_type": "code",
   "execution_count": 1,
   "id": "66b2c911-ea7c-4716-9316-a9734cb7447f",
   "metadata": {
    "pycharm": {
     "is_executing": true
    }
   },
   "outputs": [],
   "source": [
    "import h5py\n",
    "import numpy as np\n",
    "import pandas as pd\n",
    "import polars as pl\n",
    "import matplotlib.pyplot as plt\n",
    "import ase\n",
    "import jax.numpy as jnp\n",
    "\n",
    "%load_ext autoreload\n",
    "%autoreload 2\n",
    "\n",
    "link = \"/pchem-data/meuwly/boittier/eqmgnn/\"\n",
    "file1 = \"data.hdf5?sequence=2\"\n",
    "file2 = \"data_esp.hdf5?sequence=3\""
   ]
  },
  {
   "cell_type": "code",
   "execution_count": 10,
   "id": "75e3b91a-48b2-4ff8-8826-51a00ccde270",
   "metadata": {},
   "outputs": [],
   "source": [
    "f = h5py.File(link+file1, 'r')"
   ]
  },
  {
   "cell_type": "code",
   "execution_count": 11,
   "id": "02366e32-f4b0-4472-86f3-2970c71e6a3b",
   "metadata": {},
   "outputs": [],
   "source": [
    "f2 = h5py.File(link+file2, 'r')"
   ]
  },
  {
   "cell_type": "code",
   "execution_count": 12,
   "id": "e99e05ff-d81c-43b7-8da1-1a90f3d91c39",
   "metadata": {},
   "outputs": [],
   "source": [
    "f2_keys = list(f2.keys())"
   ]
  },
  {
   "cell_type": "code",
   "execution_count": 13,
   "id": "3ee1dd90-1302-4acc-8d09-8a2ac9babcf5",
   "metadata": {},
   "outputs": [
    {
     "data": {
      "text/plain": [
       "13415"
      ]
     },
     "execution_count": 13,
     "metadata": {},
     "output_type": "execute_result"
    }
   ],
   "source": [
    "len(f2_keys)"
   ]
  },
  {
   "cell_type": "code",
   "execution_count": 14,
   "id": "73501a16-65bf-4e68-b21b-c9295f6640c0",
   "metadata": {},
   "outputs": [
    {
     "data": {
      "text/plain": [
       "'10009786300756252255_0'"
      ]
     },
     "execution_count": 14,
     "metadata": {},
     "output_type": "execute_result"
    }
   ],
   "source": [
    "f2_keys[0]"
   ]
  },
  {
   "cell_type": "code",
   "execution_count": 15,
   "id": "d8216649-fe68-48ce-b1fb-2df821579fa5",
   "metadata": {},
   "outputs": [],
   "source": [
    "test = f2[f2_keys[0]]"
   ]
  },
  {
   "cell_type": "code",
   "execution_count": 16,
   "id": "e3e4f9d8-6a94-4d5f-9985-5df7f7a4430b",
   "metadata": {},
   "outputs": [],
   "source": [
    "test_f1 = f[f2_keys[0]]"
   ]
  },
  {
   "cell_type": "code",
   "execution_count": 17,
   "id": "57d30833-c39e-4f9d-9f15-d88e87170470",
   "metadata": {},
   "outputs": [
    {
     "data": {
      "text/plain": [
       "(37,)"
      ]
     },
     "execution_count": 17,
     "metadata": {},
     "output_type": "execute_result"
    }
   ],
   "source": [
    "test_mono = np.array(test_f1[\"monopoles\"]).reshape(-1)\n",
    "test_mono.shape"
   ]
  },
  {
   "cell_type": "code",
   "execution_count": 18,
   "id": "c1f17244-2324-40a6-a808-0de8831ee45e",
   "metadata": {},
   "outputs": [
    {
     "data": {
      "text/plain": [
       "(37, 3)"
      ]
     },
     "execution_count": 18,
     "metadata": {},
     "output_type": "execute_result"
    }
   ],
   "source": [
    "test_xyz = np.array(test_f1[\"coordinates\"])\n",
    "test_xyz.shape"
   ]
  },
  {
   "cell_type": "code",
   "execution_count": 19,
   "id": "79aee866-fa76-4029-b8ea-87f24d691a03",
   "metadata": {},
   "outputs": [],
   "source": [
    "test_esp = np.array(test[\"esp\"])\n",
    "tets_vdw_surface = np.array(test[\"vdw_surface\"])"
   ]
  },
  {
   "cell_type": "code",
   "execution_count": 20,
   "id": "0c7d39da-dc33-4d67-8a40-fd1897b12973",
   "metadata": {},
   "outputs": [
    {
     "data": {
      "text/plain": [
       "(4166, 3)"
      ]
     },
     "execution_count": 20,
     "metadata": {},
     "output_type": "execute_result"
    }
   ],
   "source": [
    "tets_vdw_surface.shape"
   ]
  },
  {
   "cell_type": "code",
   "execution_count": 21,
   "id": "71af2481-e89e-4890-8f13-2cae23ae2731",
   "metadata": {},
   "outputs": [
    {
     "data": {
      "text/plain": [
       "(4166,)"
      ]
     },
     "execution_count": 21,
     "metadata": {},
     "output_type": "execute_result"
    }
   ],
   "source": [
    "test_esp.shape"
   ]
  },
  {
   "cell_type": "code",
   "execution_count": 22,
   "id": "b7a54430-554d-4f5c-a224-207eff4c8529",
   "metadata": {},
   "outputs": [
    {
     "data": {
      "text/plain": [
       "<mpl_toolkits.mplot3d.art3d.Path3DCollection at 0x2af1a4afe700>"
      ]
     },
     "execution_count": 22,
     "metadata": {},
     "output_type": "execute_result"
    },
    {
     "data": {
      "image/png": "[encoded data removed]",
      "text/plain": [
       "<Figure size 640x480 with 1 Axes>"
      ]
     },
     "metadata": {},
     "output_type": "display_data"
    }
   ],
   "source": [
    "ax = plt.figure().add_subplot(projection='3d')\n",
    "\n",
    "ax.scatter(*tets_vdw_surface.T, c=test_esp)\n"
   ]
  },
  {
   "cell_type": "code",
   "execution_count": null,
   "id": "61b95d58-29af-48be-9b26-24ecd84b0fba",
   "metadata": {},
   "outputs": [],
   "source": []
  },
  {
   "cell_type": "code",
   "execution_count": 23,
   "id": "46f49905-0679-4abc-83c4-9a03edf38404",
   "metadata": {},
   "outputs": [],
   "source": [
    "def calc_esp(charge_positions, charge_values, grid_positions):\n",
    "    # Expand the grid positions and charge positions to compute all pairwise differences\n",
    "    diff = grid_positions[:, None, :] - charge_positions[None, :, :]\n",
    "    \n",
    "    # Compute the Euclidean distance between each grid point and each charge\n",
    "    r = jnp.linalg.norm(diff, axis=-1) * 1.88973\n",
    "\n",
    "    # Calculate potential contribution from each charge at each grid point\n",
    "    # and sum over charges\n",
    "    V = jnp.sum(charge_values / r, axis=-1)\n",
    "    return V"
   ]
  },
  {
   "cell_type": "code",
   "execution_count": null,
   "id": "7dcedf1f-f930-4d54-9dd8-4c9c59c9badc",
   "metadata": {},
   "outputs": [],
   "source": []
  },
  {
   "cell_type": "code",
   "execution_count": 24,
   "id": "bb81a056-6983-4672-bc54-416950a6df19",
   "metadata": {},
   "outputs": [
    {
     "name": "stderr",
     "output_type": "stream",
     "text": [
      "CUDA backend failed to initialize: Found CUDA version 11070, but JAX was built against version 11080, which is newer. The copy of CUDA that is installed must be at least as new as the version against which JAX was built. (Set TF_CPP_MIN_LOG_LEVEL=0 and rerun for more info.)\n"
     ]
    }
   ],
   "source": [
    "guess_v = calc_esp(test_xyz, test_mono, tets_vdw_surface)"
   ]
  },
  {
   "cell_type": "code",
   "execution_count": 25,
   "id": "af018d88-5a1d-4585-87b2-c643f7fab26c",
   "metadata": {},
   "outputs": [
    {
     "data": {
      "text/plain": [
       "(4166,)"
      ]
     },
     "execution_count": 25,
     "metadata": {},
     "output_type": "execute_result"
    }
   ],
   "source": [
    "guess_v.shape"
   ]
  },
  {
   "cell_type": "code",
   "execution_count": 26,
   "id": "9cd04c76-83be-4dd0-87db-85f34c767cac",
   "metadata": {},
   "outputs": [
    {
     "data": {
      "image/png": "[encoded data removed]",
      "text/plain": [
       "<Figure size 640x480 with 1 Axes>"
      ]
     },
     "metadata": {},
     "output_type": "display_data"
    }
   ],
   "source": [
    "plt.scatter(test_esp, guess_v)\n",
    "plt.xlim(-0.1,0.1)\n",
    "plt.ylim(-0.1,0.1)\n",
    "ax = plt.gca()\n",
    "ax.set_aspect(\"equal\")"
   ]
  },
  {
   "cell_type": "code",
   "execution_count": 27,
   "id": "df581369-00de-4c0c-908d-e9b0da4bc4cc",
   "metadata": {},
   "outputs": [
    {
     "data": {
      "text/html": [
       "<div>\n",
       "<style scoped>\n",
       "    .dataframe tbody tr th:only-of-type {\n",
       "        vertical-align: middle;\n",
       "    }\n",
       "\n",
       "    .dataframe tbody tr th {\n",
       "        vertical-align: top;\n",
       "    }\n",
       "\n",
       "    .dataframe thead th {\n",
       "        text-align: right;\n",
       "    }\n",
       "</style>\n",
       "<table border=\"1\" class=\"dataframe\">\n",
       "  <thead>\n",
       "    <tr style=\"text-align: right;\">\n",
       "      <th></th>\n",
       "      <th>0</th>\n",
       "    </tr>\n",
       "  </thead>\n",
       "  <tbody>\n",
       "    <tr>\n",
       "      <th>count</th>\n",
       "      <td>4166.000000</td>\n",
       "    </tr>\n",
       "    <tr>\n",
       "      <th>mean</th>\n",
       "      <td>2.076378</td>\n",
       "    </tr>\n",
       "    <tr>\n",
       "      <th>std</th>\n",
       "      <td>70.847710</td>\n",
       "    </tr>\n",
       "    <tr>\n",
       "      <th>min</th>\n",
       "      <td>-207.669861</td>\n",
       "    </tr>\n",
       "    <tr>\n",
       "      <th>25%</th>\n",
       "      <td>0.739939</td>\n",
       "    </tr>\n",
       "    <tr>\n",
       "      <th>50%</th>\n",
       "      <td>0.943918</td>\n",
       "    </tr>\n",
       "    <tr>\n",
       "      <th>75%</th>\n",
       "      <td>1.075717</td>\n",
       "    </tr>\n",
       "    <tr>\n",
       "      <th>max</th>\n",
       "      <td>4500.677734</td>\n",
       "    </tr>\n",
       "  </tbody>\n",
       "</table>\n",
       "</div>"
      ],
      "text/plain": [
       "                 0\n",
       "count  4166.000000\n",
       "mean      2.076378\n",
       "std      70.847710\n",
       "min    -207.669861\n",
       "25%       0.739939\n",
       "50%       0.943918\n",
       "75%       1.075717\n",
       "max    4500.677734"
      ]
     },
     "execution_count": 27,
     "metadata": {},
     "output_type": "execute_result"
    }
   ],
   "source": [
    "pd.DataFrame(test_esp / guess_v ).describe()"
   ]
  },
  {
   "cell_type": "markdown",
   "id": "688caa6b-67fb-410c-9d5c-78a377a306d2",
   "metadata": {},
   "source": [
    "# Data ESP"
   ]
  },
  {
   "cell_type": "code",
   "execution_count": 102,
   "id": "924a3429-93ec-4ac5-a50e-c10815f44687",
   "metadata": {},
   "outputs": [],
   "source": [
    "esp_data = []\n",
    "data_block_esp = []\n",
    "\n",
    "N = 13415\n",
    "\n",
    "for k_i in range(N):\n",
    "    k = f2_keys[k_i]\n",
    "    data1 = f[k]\n",
    "    data2 = f2[k]\n",
    "    data_block_esp.append((data1, data2))\n",
    "\n"
   ]
  },
  {
   "cell_type": "code",
   "execution_count": 103,
   "id": "4391f413-30e0-4630-bbdf-399f0384afe9",
   "metadata": {},
   "outputs": [],
   "source": [
    "elements = [np.array(data_block_esp[i][0][\"elements\"]) for i in range(N)]\n",
    "N_elements = [_.shape[0] for _ in elements]"
   ]
  },
  {
   "cell_type": "code",
   "execution_count": 104,
   "id": "043b7bb6-b9f7-46c8-b206-c4fd27e884cd",
   "metadata": {},
   "outputs": [],
   "source": [
    "coordinates = [np.array(data_block_esp[i][0][\"coordinates\"]) for i in range(N)]\n",
    "\n",
    "total_energy = [np.array(data_block_esp[i][0][\"total_energy\"]) for i in range(N)]\n",
    "gradient = [np.array(data_block_esp[i][0][\"gradient\"]) for i in range(N)]\n",
    "\n",
    "monopoles = [np.array(data_block_esp[i][0][\"monopoles\"]) for i in range(N)]\n",
    "dipoles = [np.array(data_block_esp[i][0][\"dipoles\"]) for i in range(N)]\n",
    "quadrupoles = [np.array(data_block_esp[i][0][\"quadrupoles\"]) for i in range(N)]\n",
    "\n",
    "keys = [f2_keys[k_i] for k_i in range(N) ]"
   ]
  },
  {
   "cell_type": "code",
   "execution_count": 105,
   "id": "5f4e99a0-3607-4025-9ea8-674e9ad91bfc",
   "metadata": {},
   "outputs": [],
   "source": [
    "esp = [np.array(data_block_esp[i][1][\"esp\"]) for i in range(N)]\n",
    "vdw_surface = [np.array(data_block_esp[i][1][\"vdw_surface\"]) for i in range(N)]\n",
    "N_grid = [_.shape[0] for _ in esp]"
   ]
  },
  {
   "cell_type": "code",
   "execution_count": 106,
   "id": "5ffa2875-6fd5-4c71-8ba8-f2e35abee315",
   "metadata": {
    "collapsed": true,
    "jupyter": {
     "outputs_hidden": true
    }
   },
   "outputs": [
    {
     "data": {
      "text/plain": [
       "[4166,\n",
       " 4165,\n",
       " 4184,\n",
       " 4172,\n",
       " 4178,\n",
       " 4196,\n",
       " 4165,\n",
       " 4130,\n",
       " 4130,\n",
       " 4179,\n",
       " 4158,\n",
       " 4188,\n",
       " 4197,\n",
       " 4153,\n",
       " 4191,\n",
       " 4155,\n",
       " 3693,\n",
       " 3672,\n",
       " 3676,\n",
       " 3712,\n",
       " 3707,\n",
       " 3682,\n",
       " 3686,\n",
       " 3659,\n",
       " 3833,\n",
       " 3854,\n",
       " 3971,\n",
       " 3856,\n",
       " 4007,\n",
       " 3969,\n",
       " 3970,\n",
       " 3811,\n",
       " 3765,\n",
       " 3905,\n",
       " 3906,\n",
       " 3957,\n",
       " 4706,\n",
       " 4485,\n",
       " 4660,\n",
       " 4607,\n",
       " 4695,\n",
       " 4506,\n",
       " 4606,\n",
       " 4638,\n",
       " 4606,\n",
       " 4675,\n",
       " 4545,\n",
       " 4591,\n",
       " 4693,\n",
       " 4678,\n",
       " 4714,\n",
       " 4497,\n",
       " 4487,\n",
       " 4421,\n",
       " 4514,\n",
       " 4461,\n",
       " 4494,\n",
       " 4442,\n",
       " 4446,\n",
       " 4292,\n",
       " 4458,\n",
       " 4469,\n",
       " 4479,\n",
       " 4485,\n",
       " 4444,\n",
       " 4465,\n",
       " 4317,\n",
       " 4505,\n",
       " 3813,\n",
       " 3796,\n",
       " 3856,\n",
       " 3805,\n",
       " 3796,\n",
       " 3809,\n",
       " 3796,\n",
       " 3769,\n",
       " 3794,\n",
       " 3782,\n",
       " 3800,\n",
       " 3819,\n",
       " 3806,\n",
       " 3835,\n",
       " 3798,\n",
       " 3804,\n",
       " 4152,\n",
       " 4209,\n",
       " 4157,\n",
       " 4153,\n",
       " 4183,\n",
       " 4171,\n",
       " 4168,\n",
       " 4158,\n",
       " 4200,\n",
       " 4196,\n",
       " 4168,\n",
       " 4177,\n",
       " 4148,\n",
       " 4200,\n",
       " 4153,\n",
       " 4233,\n",
       " 4217,\n",
       " 4239,\n",
       " 4203,\n",
       " 3864,\n",
       " 3875,\n",
       " 3883,\n",
       " 4354,\n",
       " 4244,\n",
       " 4276,\n",
       " 4341,\n",
       " 4360,\n",
       " 4324,\n",
       " 4245,\n",
       " 4378,\n",
       " 4313,\n",
       " 4364,\n",
       " 4377,\n",
       " 4378,\n",
       " 4368,\n",
       " 3604,\n",
       " 3524,\n",
       " 3605,\n",
       " 3548,\n",
       " 3572,\n",
       " 3582,\n",
       " 3619,\n",
       " 3605,\n",
       " 3604,\n",
       " 3604,\n",
       " 4436,\n",
       " 4520,\n",
       " 4488,\n",
       " 4522,\n",
       " 4441,\n",
       " 4492,\n",
       " 4535,\n",
       " 4413,\n",
       " 4543,\n",
       " 4441,\n",
       " 4516,\n",
       " 4500,\n",
       " 4464,\n",
       " 4567,\n",
       " 4425,\n",
       " 4580,\n",
       " 3872,\n",
       " 3842,\n",
       " 3883,\n",
       " 3875,\n",
       " 3881,\n",
       " 3855,\n",
       " 3883,\n",
       " 3864,\n",
       " 3861,\n",
       " 3804,\n",
       " 3872,\n",
       " 3867,\n",
       " 3877,\n",
       " 3820,\n",
       " 3822,\n",
       " 3882,\n",
       " 3986,\n",
       " 3994,\n",
       " 3954,\n",
       " 3982,\n",
       " 4092,\n",
       " 3911,\n",
       " 3920,\n",
       " 3931,\n",
       " 3975,\n",
       " 4089,\n",
       " 3926,\n",
       " 4090,\n",
       " 3965,\n",
       " 3997,\n",
       " 3990,\n",
       " 3997,\n",
       " 4471,\n",
       " 4559,\n",
       " 4551,\n",
       " 4561,\n",
       " 4475,\n",
       " 4606,\n",
       " 4462,\n",
       " 4578,\n",
       " 4530,\n",
       " 4527,\n",
       " 4404,\n",
       " 4591,\n",
       " 4490,\n",
       " 4566,\n",
       " 4591,\n",
       " 4609,\n",
       " 3847,\n",
       " 4102,\n",
       " 4137,\n",
       " 4121,\n",
       " 4113,\n",
       " 4144,\n",
       " 4132,\n",
       " 4120,\n",
       " 3934,\n",
       " 3883,\n",
       " 4156,\n",
       " 4121,\n",
       " 4157,\n",
       " 3904,\n",
       " 4116,\n",
       " 3877,\n",
       " 3869,\n",
       " 3882,\n",
       " 3882,\n",
       " 3866,\n",
       " 3886,\n",
       " 4451,\n",
       " 4431,\n",
       " 4479,\n",
       " 4477,\n",
       " 4468,\n",
       " 4484,\n",
       " 4446,\n",
       " 4474,\n",
       " 4361,\n",
       " 4442,\n",
       " 4479,\n",
       " 4462,\n",
       " 4465,\n",
       " 4485,\n",
       " 4468,\n",
       " 4447,\n",
       " 4306,\n",
       " 4274,\n",
       " 4290,\n",
       " 4319,\n",
       " 4279,\n",
       " 4310,\n",
       " 4278,\n",
       " 4304,\n",
       " 4297,\n",
       " 4310,\n",
       " 4272,\n",
       " 4272,\n",
       " 4293,\n",
       " 4266,\n",
       " 4307,\n",
       " 4178,\n",
       " 4225,\n",
       " 4276,\n",
       " 4216,\n",
       " 4248,\n",
       " 4310,\n",
       " 4267,\n",
       " 4275,\n",
       " 4342,\n",
       " 4316,\n",
       " 4226,\n",
       " 4261,\n",
       " 4233,\n",
       " 4258,\n",
       " 4225,\n",
       " 3552,\n",
       " 3560,\n",
       " 3564,\n",
       " 3572,\n",
       " 3561,\n",
       " 3551,\n",
       " 3575,\n",
       " 3545,\n",
       " 3556,\n",
       " 3580,\n",
       " 3555,\n",
       " 3590,\n",
       " 3570,\n",
       " 3557,\n",
       " 3541,\n",
       " 3508,\n",
       " 3509,\n",
       " 3523,\n",
       " 3508,\n",
       " 3525,\n",
       " 3497,\n",
       " 3548,\n",
       " 3524,\n",
       " 3528,\n",
       " 3518,\n",
       " 3513,\n",
       " 4249,\n",
       " 4303,\n",
       " 4202,\n",
       " 4346,\n",
       " 4210,\n",
       " 4211,\n",
       " 4297,\n",
       " 4201,\n",
       " 4211,\n",
       " 4206,\n",
       " 4278,\n",
       " 4269,\n",
       " 4238,\n",
       " 4374,\n",
       " 4215,\n",
       " 4226,\n",
       " 3256,\n",
       " 3181,\n",
       " 3163,\n",
       " 3247,\n",
       " 3129,\n",
       " 3274,\n",
       " 3217,\n",
       " 3230,\n",
       " 3249,\n",
       " 3179,\n",
       " 3237,\n",
       " 3180,\n",
       " 3311,\n",
       " 3237,\n",
       " 3188,\n",
       " 3204,\n",
       " 3971,\n",
       " 3995,\n",
       " 3962,\n",
       " 3969,\n",
       " 3950,\n",
       " 4138,\n",
       " 4082,\n",
       " 4086,\n",
       " 4132,\n",
       " 4172,\n",
       " 4083,\n",
       " 4196,\n",
       " 4116,\n",
       " 4189,\n",
       " 3716,\n",
       " 3718,\n",
       " 3743,\n",
       " 3720,\n",
       " 3728,\n",
       " 3698,\n",
       " 3714,\n",
       " 3716,\n",
       " 3719,\n",
       " 3655,\n",
       " 3722,\n",
       " 3727,\n",
       " 3734,\n",
       " 3726,\n",
       " 3732,\n",
       " 4026,\n",
       " 3991,\n",
       " 4051,\n",
       " 4012,\n",
       " 4092,\n",
       " 3802,\n",
       " 4077,\n",
       " 3919,\n",
       " 4049,\n",
       " 4098,\n",
       " 3958,\n",
       " 3882,\n",
       " 4046,\n",
       " 4061,\n",
       " 3937,\n",
       " 4125,\n",
       " 4190,\n",
       " 4173,\n",
       " 4131,\n",
       " 4180,\n",
       " 4180,\n",
       " 4130,\n",
       " 4152,\n",
       " 4206,\n",
       " 4115,\n",
       " 4179,\n",
       " 4158,\n",
       " 4183,\n",
       " 4120,\n",
       " 4175,\n",
       " 4400,\n",
       " 4493,\n",
       " 4454,\n",
       " 4487,\n",
       " 4497,\n",
       " 4318,\n",
       " 4426,\n",
       " 4396,\n",
       " 4326,\n",
       " 4318,\n",
       " 4308,\n",
       " 4445,\n",
       " 4098,\n",
       " 4181,\n",
       " 4321,\n",
       " 4411,\n",
       " 3929,\n",
       " 3959,\n",
       " 3871,\n",
       " 3905,\n",
       " 3907,\n",
       " 3871,\n",
       " 3959,\n",
       " 3986,\n",
       " 3990,\n",
       " 3993,\n",
       " 3912,\n",
       " 3957,\n",
       " 4024,\n",
       " 4160,\n",
       " 4123,\n",
       " 3989,\n",
       " 3825,\n",
       " 4123,\n",
       " 4041,\n",
       " 4032,\n",
       " 4156,\n",
       " 4042,\n",
       " 4120,\n",
       " 3990,\n",
       " 4104,\n",
       " 4161,\n",
       " 4135,\n",
       " 4076,\n",
       " 4141,\n",
       " 4589,\n",
       " 4517,\n",
       " 4579,\n",
       " 4608,\n",
       " 4598,\n",
       " 4607,\n",
       " 4579,\n",
       " 4589,\n",
       " 4585,\n",
       " 4595,\n",
       " 4580,\n",
       " 4593,\n",
       " 4480,\n",
       " 4600,\n",
       " 4118,\n",
       " 4113,\n",
       " 4105,\n",
       " 4132,\n",
       " 4143,\n",
       " 4091,\n",
       " 4090,\n",
       " 4086,\n",
       " 4115,\n",
       " 4100,\n",
       " 4124,\n",
       " 4126,\n",
       " 4126,\n",
       " 4149,\n",
       " 4142,\n",
       " 4132,\n",
       " 4247,\n",
       " 4250,\n",
       " 4277,\n",
       " 4248,\n",
       " 4229,\n",
       " 4234,\n",
       " 4214,\n",
       " 4260,\n",
       " 4235,\n",
       " 4236,\n",
       " 4256,\n",
       " 4243,\n",
       " 4189,\n",
       " 4224,\n",
       " 4266,\n",
       " 4250,\n",
       " 4291,\n",
       " 4306,\n",
       " 4211,\n",
       " 4232,\n",
       " 4271,\n",
       " 4277,\n",
       " 4237,\n",
       " 4258,\n",
       " 4246,\n",
       " 4251,\n",
       " 4270,\n",
       " 4280,\n",
       " 3384,\n",
       " 3396,\n",
       " 3376,\n",
       " 3379,\n",
       " 3400,\n",
       " 3405,\n",
       " 3379,\n",
       " 3429,\n",
       " 3405,\n",
       " 3407,\n",
       " 3406,\n",
       " 3390,\n",
       " 3396,\n",
       " 3375,\n",
       " 3974,\n",
       " 3893,\n",
       " 3964,\n",
       " 3981,\n",
       " 4002,\n",
       " 3941,\n",
       " 4012,\n",
       " 3936,\n",
       " 3917,\n",
       " 3898,\n",
       " 3928,\n",
       " 3945,\n",
       " 3930,\n",
       " 4000,\n",
       " 3899,\n",
       " 3925,\n",
       " 4021,\n",
       " 4117,\n",
       " 4169,\n",
       " 4189,\n",
       " 4141,\n",
       " 4120,\n",
       " 4128,\n",
       " 4089,\n",
       " 4035,\n",
       " 4086,\n",
       " 4117,\n",
       " 4147,\n",
       " 4125,\n",
       " 4161,\n",
       " 4119,\n",
       " 4059,\n",
       " 4536,\n",
       " 4496,\n",
       " 4547,\n",
       " 4504,\n",
       " 4543,\n",
       " 4523,\n",
       " 4502,\n",
       " 4464,\n",
       " 4399,\n",
       " 4199,\n",
       " 4502,\n",
       " 4436,\n",
       " 4515,\n",
       " 4530,\n",
       " 4409,\n",
       " 4515,\n",
       " 2594,\n",
       " 2600,\n",
       " 2660,\n",
       " 2624,\n",
       " 2615,\n",
       " 2664,\n",
       " 2615,\n",
       " 2558,\n",
       " 2633,\n",
       " 2605,\n",
       " 2678,\n",
       " 2607,\n",
       " 2658,\n",
       " 2653,\n",
       " 2577,\n",
       " 2661,\n",
       " 3964,\n",
       " 3967,\n",
       " 3985,\n",
       " 3991,\n",
       " 3986,\n",
       " 3975,\n",
       " 4005,\n",
       " 4032,\n",
       " 3975,\n",
       " 3963,\n",
       " 3942,\n",
       " 3997,\n",
       " 3983,\n",
       " 4018,\n",
       " 3960,\n",
       " 4045,\n",
       " 4273,\n",
       " 4242,\n",
       " 4172,\n",
       " 4348,\n",
       " 3974,\n",
       " 4061,\n",
       " 3955,\n",
       " 4334,\n",
       " 4268,\n",
       " 4143,\n",
       " 4327,\n",
       " 4165,\n",
       " 4275,\n",
       " 4236,\n",
       " 4312,\n",
       " 4180,\n",
       " 4176,\n",
       " 4183,\n",
       " 4171,\n",
       " 4170,\n",
       " 4169,\n",
       " 4175,\n",
       " 4197,\n",
       " 4193,\n",
       " 4158,\n",
       " 4183,\n",
       " 4151,\n",
       " 4187,\n",
       " 4193,\n",
       " 4118,\n",
       " 4080,\n",
       " 4125,\n",
       " 4103,\n",
       " 4099,\n",
       " 4113,\n",
       " 4137,\n",
       " 4354,\n",
       " 4325,\n",
       " 4351,\n",
       " 4384,\n",
       " 4278,\n",
       " 4243,\n",
       " 4327,\n",
       " 4299,\n",
       " 4270,\n",
       " 4305,\n",
       " 4280,\n",
       " 4352,\n",
       " 4318,\n",
       " 4274,\n",
       " 4334,\n",
       " 4270,\n",
       " 3738,\n",
       " 3734,\n",
       " 3712,\n",
       " 3691,\n",
       " 3740,\n",
       " 3711,\n",
       " 3786,\n",
       " 3748,\n",
       " 3680,\n",
       " 3754,\n",
       " 3705,\n",
       " 3744,\n",
       " 3741,\n",
       " 3702,\n",
       " 3721,\n",
       " 3698,\n",
       " 3657,\n",
       " 3767,\n",
       " 3698,\n",
       " 3729,\n",
       " 3648,\n",
       " 3633,\n",
       " 3635,\n",
       " 3695,\n",
       " 3644,\n",
       " 3766,\n",
       " 3679,\n",
       " 3675,\n",
       " 3742,\n",
       " 3667,\n",
       " 3636,\n",
       " 3648,\n",
       " 2273,\n",
       " 2160,\n",
       " 2154,\n",
       " 2257,\n",
       " 2221,\n",
       " 2219,\n",
       " 2263,\n",
       " 2285,\n",
       " 2267,\n",
       " 2276,\n",
       " 2287,\n",
       " 2221,\n",
       " 2179,\n",
       " 4008,\n",
       " 3998,\n",
       " 4004,\n",
       " 4007,\n",
       " 3997,\n",
       " 3984,\n",
       " 4032,\n",
       " 3973,\n",
       " 4014,\n",
       " 3996,\n",
       " 3978,\n",
       " 3941,\n",
       " 3900,\n",
       " 3963,\n",
       " 3997,\n",
       " 3950,\n",
       " 3990,\n",
       " 3991,\n",
       " 3976,\n",
       " 3969,\n",
       " 3970,\n",
       " 3944,\n",
       " 3927,\n",
       " 3980,\n",
       " 3916,\n",
       " 3954,\n",
       " 4457,\n",
       " 4516,\n",
       " 4446,\n",
       " 4503,\n",
       " 4573,\n",
       " 4534,\n",
       " 4422,\n",
       " 4460,\n",
       " 4420,\n",
       " 4525,\n",
       " 4545,\n",
       " 4411,\n",
       " 4516,\n",
       " 4515,\n",
       " 4568,\n",
       " 4527,\n",
       " 2764,\n",
       " 2786,\n",
       " 2759,\n",
       " 2788,\n",
       " 2783,\n",
       " 2770,\n",
       " 2757,\n",
       " 2762,\n",
       " 2780,\n",
       " 2974,\n",
       " 2979,\n",
       " 2981,\n",
       " 3053,\n",
       " 2995,\n",
       " 3044,\n",
       " 2973,\n",
       " 2993,\n",
       " 3043,\n",
       " 2981,\n",
       " 2958,\n",
       " 2973,\n",
       " 2974,\n",
       " 2969,\n",
       " 4564,\n",
       " 4540,\n",
       " 4495,\n",
       " 4512,\n",
       " 4518,\n",
       " 4449,\n",
       " 4223,\n",
       " 4481,\n",
       " 4465,\n",
       " 4544,\n",
       " 4201,\n",
       " 4498,\n",
       " 4407,\n",
       " 4466,\n",
       " 4470,\n",
       " 4560,\n",
       " 3955,\n",
       " 3941,\n",
       " 3842,\n",
       " 3837,\n",
       " 3921,\n",
       " 3861,\n",
       " 3851,\n",
       " 3899,\n",
       " 3896,\n",
       " 3893,\n",
       " 3851,\n",
       " 3836,\n",
       " 3897,\n",
       " 3834,\n",
       " 3947,\n",
       " 3797,\n",
       " 4351,\n",
       " 4361,\n",
       " 4371,\n",
       " 4426,\n",
       " 4359,\n",
       " 4412,\n",
       " 4372,\n",
       " 4320,\n",
       " 4335,\n",
       " 4321,\n",
       " 4411,\n",
       " 4447,\n",
       " 4339,\n",
       " 4038,\n",
       " 4040,\n",
       " 4062,\n",
       " 4035,\n",
       " 4061,\n",
       " 4065,\n",
       " 4067,\n",
       " 4038,\n",
       " 4045,\n",
       " 4060,\n",
       " 4049,\n",
       " 4032,\n",
       " 4063,\n",
       " 4058,\n",
       " 3964,\n",
       " 3972,\n",
       " 3961,\n",
       " 3970,\n",
       " 3983,\n",
       " 3953,\n",
       " 3925,\n",
       " 3985,\n",
       " 3995,\n",
       " 3986,\n",
       " 3944,\n",
       " 3936,\n",
       " 4428,\n",
       " 4401,\n",
       " 4391,\n",
       " 4463,\n",
       " 4469,\n",
       " 4455,\n",
       " 4362,\n",
       " 4479,\n",
       " 4298,\n",
       " 4485,\n",
       " 4351,\n",
       " 4385,\n",
       " 4390,\n",
       " 4438,\n",
       " 4483,\n",
       " 4407,\n",
       " 3846,\n",
       " 3855,\n",
       " 3680,\n",
       " 3658,\n",
       " 3639,\n",
       " 3686,\n",
       " 3699,\n",
       " 3703,\n",
       " 3667,\n",
       " 3654,\n",
       " 3672,\n",
       " 3615,\n",
       " 3648,\n",
       " 3676,\n",
       " 4012,\n",
       " 4057,\n",
       " 4127,\n",
       " 4138,\n",
       " 4054,\n",
       " 4079,\n",
       " 4031,\n",
       " 4047,\n",
       " 4176,\n",
       " 4056,\n",
       " 4036,\n",
       " 4070,\n",
       " 4029,\n",
       " 4049,\n",
       " 4074,\n",
       " 3979,\n",
       " 4103,\n",
       " 4089,\n",
       " 4116,\n",
       " 4111,\n",
       " 4112,\n",
       " 4063,\n",
       " 4081,\n",
       " 4134,\n",
       " 4146,\n",
       " 4114,\n",
       " 4134,\n",
       " 4164,\n",
       " 4158,\n",
       " 4178,\n",
       " 4166,\n",
       " 4184,\n",
       " 4164,\n",
       " 4163,\n",
       " 4164,\n",
       " 4147,\n",
       " 4204,\n",
       " 4148,\n",
       " 4161,\n",
       " 4125,\n",
       " 4141,\n",
       " 4252,\n",
       " 4182,\n",
       " 4123,\n",
       " 4257,\n",
       " 4258,\n",
       " 4207,\n",
       " 4261,\n",
       " 4202,\n",
       " 4100,\n",
       " 4255,\n",
       " 4143,\n",
       " 4272,\n",
       " 4173,\n",
       " 4147,\n",
       " 4233,\n",
       " 3468,\n",
       " 3337,\n",
       " 3461,\n",
       " 3480,\n",
       " 3453,\n",
       " 3474,\n",
       " 3302,\n",
       " 3335,\n",
       " 3496,\n",
       " 3383,\n",
       " 3454,\n",
       " 3299,\n",
       " 3470,\n",
       " 3397,\n",
       " 3341,\n",
       " 3437,\n",
       " 3990,\n",
       " 3915,\n",
       " 3980,\n",
       " 3983,\n",
       " 3967,\n",
       " 3913,\n",
       " 3988,\n",
       " 3891,\n",
       " 4000,\n",
       " 3903,\n",
       " 4013,\n",
       " 3888,\n",
       " 3984,\n",
       " 3978,\n",
       " 4225,\n",
       " 4132,\n",
       " 4189,\n",
       " 4164,\n",
       " 4214,\n",
       " 4195,\n",
       " 4201,\n",
       " 4202,\n",
       " 4243,\n",
       " 4192,\n",
       " 4243,\n",
       " 4040,\n",
       " 4174,\n",
       " 4227,\n",
       " 4259,\n",
       " 4190,\n",
       " 3938,\n",
       " 4007,\n",
       " 3956,\n",
       " 4001,\n",
       " 3977,\n",
       " 4000,\n",
       " 4652,\n",
       " 4524,\n",
       " 4538,\n",
       " 4603,\n",
       " 4578,\n",
       " 4636,\n",
       " 4639,\n",
       " 4600,\n",
       " 4581,\n",
       " 4622,\n",
       " 4585,\n",
       " 4573,\n",
       " 4581,\n",
       " 4571,\n",
       " 4537,\n",
       " 4652,\n",
       " 4149,\n",
       " 4146,\n",
       " 4181,\n",
       " 4169,\n",
       " 4139,\n",
       " 4163,\n",
       " 4162,\n",
       " 4165,\n",
       " 4151,\n",
       " 4165,\n",
       " 4172,\n",
       " 4130,\n",
       " 4155,\n",
       " 4175,\n",
       " 4168,\n",
       " 4158,\n",
       " 2933,\n",
       " 4411,\n",
       " 4383,\n",
       " 4403,\n",
       " 4126,\n",
       " 4291,\n",
       " 4187,\n",
       " 4328,\n",
       " 4224,\n",
       " 4364,\n",
       " 4291,\n",
       " 4372,\n",
       " 4203,\n",
       " 4213,\n",
       " 4348,\n",
       " 4291,\n",
       " 4375,\n",
       " 4626,\n",
       " 4698,\n",
       " 4528,\n",
       " 4604,\n",
       " 4609,\n",
       " 4639,\n",
       " ...]"
      ]
     },
     "execution_count": 106,
     "metadata": {},
     "output_type": "execute_result"
    }
   ],
   "source": [
    "N_grid"
   ]
  },
  {
   "cell_type": "code",
   "execution_count": 107,
   "id": "ac00a8fd-0133-4069-8690-5192844c4899",
   "metadata": {},
   "outputs": [],
   "source": [
    "max_grid_points = max([_.shape for _ in esp])[0]\n",
    "max_N_atoms = 60"
   ]
  },
  {
   "cell_type": "code",
   "execution_count": 108,
   "id": "0661d3e0-c846-4c44-b5c5-73c6edbbe9d0",
   "metadata": {},
   "outputs": [
    {
     "data": {
      "text/plain": [
       "5346"
      ]
     },
     "execution_count": 108,
     "metadata": {},
     "output_type": "execute_result"
    }
   ],
   "source": [
    "max_grid_points"
   ]
  },
  {
   "cell_type": "code",
   "execution_count": 109,
   "id": "5c75fbb5-9701-4308-90b8-04f5a514a9ef",
   "metadata": {},
   "outputs": [],
   "source": [
    "Z = [np.array([ase.data.atomic_numbers[_.decode(\"utf-8\").capitalize()] for _ in elements[i]]) for i in range(N)]"
   ]
  },
  {
   "cell_type": "code",
   "execution_count": 110,
   "id": "45ed43bb-af88-4551-90f1-52fa17a635f3",
   "metadata": {},
   "outputs": [
    {
     "data": {
      "text/plain": [
       "(13415, 60, 3)"
      ]
     },
     "execution_count": 110,
     "metadata": {},
     "output_type": "execute_result"
    }
   ],
   "source": [
    "pad_coords = np.array([np.pad(coordinates[i], ((0,max_N_atoms - len(coordinates[i])),(0,0))) for i in range(N)])\n",
    "pad_coords.shape"
   ]
  },
  {
   "cell_type": "code",
   "execution_count": 111,
   "id": "d7746e0a-472e-491b-927d-65d376c1455a",
   "metadata": {},
   "outputs": [
    {
     "data": {
      "text/plain": [
       "(13415, 60)"
      ]
     },
     "execution_count": 111,
     "metadata": {},
     "output_type": "execute_result"
    }
   ],
   "source": [
    "pad_Z = np.array([np.pad(Z[i], ((0,max_N_atoms - len(Z[i])))) for i in range(N)])\n",
    "pad_Z.shape"
   ]
  },
  {
   "cell_type": "code",
   "execution_count": 112,
   "id": "dca6756d-3796-4109-883f-cf0ce8a2c8a7",
   "metadata": {},
   "outputs": [
    {
     "name": "stdout",
     "output_type": "stream",
     "text": [
      "13415\n"
     ]
    }
   ],
   "source": [
    "pad_mono = [np.pad(monopoles[i],((0,max_N_atoms - len(monopoles[i])),(0,0))) for i in range(N)]\n",
    "print(len(pad_mono))\n",
    "# pad_mono = np.array(pad_mono)\n",
    "# pad_mono.shape"
   ]
  },
  {
   "cell_type": "code",
   "execution_count": null,
   "id": "df6e9396-973a-451d-bfe6-0e7aa040673c",
   "metadata": {},
   "outputs": [],
   "source": []
  },
  {
   "cell_type": "code",
   "execution_count": 113,
   "id": "7ae9f5ea-6529-4bc0-b2f1-b74c666a0165",
   "metadata": {
    "scrolled": true
   },
   "outputs": [
    {
     "name": "stdout",
     "output_type": "stream",
     "text": [
      "9855 []\n",
      "11621 []\n"
     ]
    }
   ],
   "source": [
    "pad_dipo = []\n",
    "for i in range(N):\n",
    "    try:\n",
    "        _ = np.pad(dipoles[i],((0,max_N_atoms - len(dipoles[i])),(0,0))) \n",
    "        pad_dipo.append(_)\n",
    "    except ValueError:\n",
    "        print(i,dipoles[i])\n",
    "        pad_dipo.append(jnp.zeros((60,3)))\n",
    "    "
   ]
  },
  {
   "cell_type": "code",
   "execution_count": 114,
   "id": "07938187-454d-4cd7-93f6-8e4df68d29a6",
   "metadata": {},
   "outputs": [],
   "source": [
    "pad_esp =  [np.pad(esp[i],((0,max_grid_points - len(esp[i])))) for i in range(N)]"
   ]
  },
  {
   "cell_type": "code",
   "execution_count": 115,
   "id": "85777fb3-67ff-4efc-8aa9-b02627394352",
   "metadata": {},
   "outputs": [
    {
     "data": {
      "text/plain": [
       "(13415, 5346)"
      ]
     },
     "execution_count": 115,
     "metadata": {},
     "output_type": "execute_result"
    }
   ],
   "source": [
    "pad_esp = np.array(pad_esp)\n",
    "pad_esp.shape"
   ]
  },
  {
   "cell_type": "code",
   "execution_count": 116,
   "id": "70bf27c6-ede4-4cb4-989f-2211b0a6a985",
   "metadata": {},
   "outputs": [],
   "source": [
    "pad_vdw_surface = []\n",
    "for i in range(N):\n",
    "    try:\n",
    "        _ = np.pad(vdw_surface[i],((0,max_grid_points - len(vdw_surface[i])),(0,0)), \"constant\", constant_values=(0, 10000)) \n",
    "        pad_vdw_surface.append(_)\n",
    "    except ValueError:\n",
    "        print(i,vdw_surface[i])\n",
    "        pad_vdw_surface.append(10000*jnp.ones((max_grid_points,3)))"
   ]
  },
  {
   "cell_type": "code",
   "execution_count": 117,
   "id": "fd5db1a9-7f6e-4270-9aed-f003f1a28b2a",
   "metadata": {},
   "outputs": [
    {
     "data": {
      "text/plain": [
       "(13415, 5346, 3)"
      ]
     },
     "execution_count": 117,
     "metadata": {},
     "output_type": "execute_result"
    }
   ],
   "source": [
    "pad_vdw_surface = np.array(pad_vdw_surface)\n",
    "pad_vdw_surface.shape"
   ]
  },
  {
   "cell_type": "code",
   "execution_count": 118,
   "id": "d406c833-305a-484f-8b93-6485e92de6fe",
   "metadata": {},
   "outputs": [
    {
     "data": {
      "text/plain": [
       "(array([  71.,  158.,  355., 1838., 3388., 3448., 2995.,  862.,  205.,\n",
       "          95.]),\n",
       " array([10. , 14.3, 18.6, 22.9, 27.2, 31.5, 35.8, 40.1, 44.4, 48.7, 53. ]),\n",
       " <BarContainer object of 10 artists>)"
      ]
     },
     "execution_count": 118,
     "metadata": {},
     "output_type": "execute_result"
    },
    {
     "data": {
      "image/png": "[encoded data removed]",
      "text/plain": [
       "<Figure size 640x480 with 1 Axes>"
      ]
     },
     "metadata": {},
     "output_type": "display_data"
    }
   ],
   "source": [
    "plt.hist(N_elements)"
   ]
  },
  {
   "cell_type": "code",
   "execution_count": 119,
   "id": "b02cc1d9-372e-4eba-a5db-094a2355b1cc",
   "metadata": {},
   "outputs": [],
   "source": [
    "np.savez(f'esp{N}.npz', \n",
    "         R=pad_coords,\n",
    "         Z=pad_Z, \n",
    "         N=N_elements, \n",
    "         mono=pad_mono, \n",
    "         esp=pad_esp,\n",
    "        n_grid=np.array(N_grid),\n",
    "         vdw_surface=pad_vdw_surface\n",
    "        )"
   ]
  },
  {
   "cell_type": "code",
   "execution_count": 120,
   "id": "2e1fbec5-eaca-4d06-b8fe-8da2b755004f",
   "metadata": {},
   "outputs": [],
   "source": [
    "i = 471"
   ]
  },
  {
   "cell_type": "code",
   "execution_count": 121,
   "id": "339a6dac-5a7e-4ed3-b575-31d600287844",
   "metadata": {},
   "outputs": [],
   "source": [
    "guess_v = calc_esp(pad_coords[i], pad_mono[i].squeeze(), pad_vdw_surface[i])"
   ]
  },
  {
   "cell_type": "code",
   "execution_count": 122,
   "id": "4f12b880-720f-4da0-b4f7-b3df49d6618f",
   "metadata": {},
   "outputs": [
    {
     "data": {
      "text/plain": [
       "[<matplotlib.lines.Line2D at 0x2af1a69918e0>]"
      ]
     },
     "execution_count": 122,
     "metadata": {},
     "output_type": "execute_result"
    },
    {
     "data": {
      "image/png": "[encoded data removed]",
      "text/plain": [
       "<Figure size 640x480 with 1 Axes>"
      ]
     },
     "metadata": {},
     "output_type": "display_data"
    }
   ],
   "source": [
    "plt.plot(guess_v)\n",
    "plt.plot(pad_esp[i], linestyle=\"--\")"
   ]
  },
  {
   "cell_type": "code",
   "execution_count": 123,
   "id": "ba62414b-dc06-419f-a7d9-7192c691962c",
   "metadata": {},
   "outputs": [
    {
     "data": {
      "text/plain": [
       "Array([-2.7920827e-02, -2.3835145e-02, -2.2678800e-02, ...,\n",
       "        3.5452103e-09,  3.5452103e-09,  3.5452103e-09], dtype=float32)"
      ]
     },
     "execution_count": 123,
     "metadata": {},
     "output_type": "execute_result"
    }
   ],
   "source": [
    "guess_v"
   ]
  },
  {
   "cell_type": "code",
   "execution_count": 124,
   "id": "3bfb825b-ea60-4f6e-83ea-9843d00db467",
   "metadata": {},
   "outputs": [
    {
     "data": {
      "text/plain": [
       "(5346,)"
      ]
     },
     "execution_count": 124,
     "metadata": {},
     "output_type": "execute_result"
    }
   ],
   "source": [
    "pad_esp[i].shape"
   ]
  },
  {
   "cell_type": "code",
   "execution_count": 125,
   "id": "db1620b5-b261-463f-9305-1a054bb6de8c",
   "metadata": {},
   "outputs": [
    {
     "data": {
      "image/png": "[encoded data removed]",
      "text/plain": [
       "<Figure size 640x480 with 1 Axes>"
      ]
     },
     "metadata": {},
     "output_type": "display_data"
    }
   ],
   "source": [
    "plt.scatter(pad_esp[i], guess_v)\n",
    "plt.xlim(-0.1,0.1)\n",
    "plt.ylim(-0.1,0.1)\n",
    "ax = plt.gca()\n",
    "ax.set_aspect(\"equal\")"
   ]
  },
  {
   "cell_type": "markdown",
   "id": "e442c4df-94a0-45f2-a35c-bbba2b4775fb",
   "metadata": {},
   "source": [
    "#  Data Mulitpoles"
   ]
  },
  {
   "cell_type": "code",
   "execution_count": 100,
   "id": "8a99eafa-159d-4f17-94b8-1b47d1243a8b",
   "metadata": {
    "pycharm": {
     "is_executing": true
    }
   },
   "outputs": [],
   "source": [
    "f = h5py.File(link+file1, 'r')"
   ]
  },
  {
   "cell_type": "code",
   "execution_count": 13,
   "id": "883e68c5-e99f-4d71-8ae4-9667a88e996f",
   "metadata": {},
   "outputs": [],
   "source": [
    "all_keys = list(f.keys())\n"
   ]
  },
  {
   "cell_type": "code",
   "execution_count": 15,
   "id": "f944235b-d724-41af-a353-3a60dc9edf03",
   "metadata": {},
   "outputs": [
    {
     "data": {
      "text/plain": [
       "<KeysViewHDF5 ['conformation_id', 'coordinates', 'dipoles', 'elements', 'gradient', 'molecular_dipole', 'molecular_dipole_mbis', 'molecule_key', 'monopoles', 'octupoles', 'quadrupoles', 'relative_energy', 'set', 'smiles', 'total_energy']>"
      ]
     },
     "execution_count": 15,
     "metadata": {},
     "output_type": "execute_result"
    }
   ],
   "source": [
    "f[f2_keys[0]].keys()"
   ]
  },
  {
   "cell_type": "code",
   "execution_count": 10,
   "id": "b78d82fd-dd92-4868-a15b-9e987142b6d9",
   "metadata": {
    "pycharm": {
     "is_executing": true
    }
   },
   "outputs": [
    {
     "data": {
      "text/plain": [
       "<HDF5 file \"data.hdf5?sequence=2\" (mode r)>"
      ]
     },
     "execution_count": 10,
     "metadata": {},
     "output_type": "execute_result"
    }
   ],
   "source": [
    "f"
   ]
  },
  {
   "cell_type": "code",
   "execution_count": 5,
   "id": "319ed3e1-6a71-4a90-908c-348081572dad",
   "metadata": {},
   "outputs": [
    {
     "data": {
      "text/plain": [
       "'10000031047168203145_0'"
      ]
     },
     "execution_count": 5,
     "metadata": {},
     "output_type": "execute_result"
    }
   ],
   "source": [
    "k = list(f.keys())[0]\n",
    "k"
   ]
  },
  {
   "cell_type": "code",
   "execution_count": 25,
   "id": "ca20f02c-e1b2-438f-a4bf-dd3ee1db2ed6",
   "metadata": {},
   "outputs": [
    {
     "data": {
      "text/plain": [
       "766110"
      ]
     },
     "execution_count": 25,
     "metadata": {},
     "output_type": "execute_result"
    }
   ],
   "source": [
    "len(all_keys)"
   ]
  },
  {
   "cell_type": "code",
   "execution_count": 6,
   "id": "40d9cc1b-163c-4aa1-a0f9-1193f0bdb433",
   "metadata": {},
   "outputs": [
    {
     "data": {
      "text/plain": [
       "<KeysViewHDF5 ['conformation_id', 'coordinates', 'dipoles', 'elements', 'gradient', 'molecular_dipole', 'molecular_dipole_mbis', 'molecule_key', 'monopoles', 'octupoles', 'quadrupoles', 'relative_energy', 'set', 'smiles', 'total_energy']>"
      ]
     },
     "execution_count": 6,
     "metadata": {},
     "output_type": "execute_result"
    }
   ],
   "source": [
    "f[k].keys()"
   ]
  },
  {
   "cell_type": "code",
   "execution_count": 32,
   "id": "7df76a11-fbc7-45fa-844a-5e4e3d2719bb",
   "metadata": {},
   "outputs": [
    {
     "data": {
      "text/plain": [
       "array(b'10000031047168203145', dtype=object)"
      ]
     },
     "execution_count": 32,
     "metadata": {},
     "output_type": "execute_result"
    }
   ],
   "source": [
    "np.array(f[k][\"molecule_key\"])"
   ]
  },
  {
   "cell_type": "code",
   "execution_count": 28,
   "id": "6a5d8981-fd4a-48f8-b134-3e8ccdc8e912",
   "metadata": {},
   "outputs": [
    {
     "data": {
      "text/plain": [
       "array(None, dtype=object)"
      ]
     },
     "execution_count": 28,
     "metadata": {},
     "output_type": "execute_result"
    }
   ],
   "source": [
    "np.array(f.get(\"coordinates\"))"
   ]
  },
  {
   "cell_type": "code",
   "execution_count": 24,
   "id": "5b35eb02-ba0c-47be-a72e-cdff5b4839e4",
   "metadata": {},
   "outputs": [],
   "source": [
    "# np.array(f[all_keys][\"dipoles\"])"
   ]
  },
  {
   "cell_type": "code",
   "execution_count": 103,
   "id": "3615d738-6b11-44eb-92f9-849bdd955529",
   "metadata": {},
   "outputs": [
    {
     "data": {
      "text/plain": [
       "6"
      ]
     },
     "execution_count": 103,
     "metadata": {},
     "output_type": "execute_result"
    }
   ],
   "source": [
    "ase.data.atomic_numbers[b\"C\".decode(\"utf-8\")]"
   ]
  },
  {
   "cell_type": "code",
   "execution_count": 106,
   "id": "79c64a2a-63c7-478b-b10c-009746673cd0",
   "metadata": {},
   "outputs": [
    {
     "data": {
      "text/plain": [
       "array([6, 6, 6, 6, 6, 6, 6, 6, 6, 6, 6, 7, 6, 6, 6, 6, 6, 6, 1, 1, 1, 1,\n",
       "       1, 1, 1, 1, 1, 1, 1, 1, 1, 1, 1, 1, 1, 1, 1, 1, 1, 1, 1, 1, 1, 1,\n",
       "       1, 1, 1])"
      ]
     },
     "execution_count": 106,
     "metadata": {},
     "output_type": "execute_result"
    }
   ],
   "source": []
  },
  {
   "cell_type": "code",
   "execution_count": 175,
   "id": "9295511e-873c-415f-930c-6b00a11f51a8",
   "metadata": {},
   "outputs": [
    {
     "data": {
      "text/plain": [
       "766000"
      ]
     },
     "execution_count": 175,
     "metadata": {},
     "output_type": "execute_result"
    }
   ],
   "source": [
    "# N = len(f.keys())\n",
    "N = 766000\n",
    "N"
   ]
  },
  {
   "cell_type": "code",
   "execution_count": 136,
   "id": "bd4b9d88-f643-43a7-b44c-f3a7efb6e496",
   "metadata": {},
   "outputs": [],
   "source": [
    "data_block = []\n",
    "for k_i in range(N):\n",
    "    k = all_keys[k_i]\n",
    "    data = f[k]\n",
    "    data_block.append(data)"
   ]
  },
  {
   "cell_type": "code",
   "execution_count": 227,
   "id": "9240e579-c094-4347-89db-dc08a6d6a462",
   "metadata": {},
   "outputs": [],
   "source": [
    "elements = [np.array(data_block[i][\"elements\"]) for i in range(N)]\n",
    "N_elements = [_.shape[0] for _ in elements]"
   ]
  },
  {
   "cell_type": "code",
   "execution_count": 137,
   "id": "91944c49-2205-42ff-8511-2b382250981f",
   "metadata": {},
   "outputs": [],
   "source": [
    "coordinates = [np.array(data_block[i][\"coordinates\"]) for i in range(N)]\n",
    "\n",
    "total_energy = [np.array(data_block[i][\"total_energy\"]) for i in range(N)]\n",
    "gradient = [np.array(data_block[i][\"gradient\"]) for i in range(N)]\n",
    "\n",
    "# # relative_energy = [np.array(data_block[i][\"relative_energy\"]) for i in range(N)]\n",
    "# smiles = [np.array(data_block[i][\"smiles\"]) for i in range(N)]\n",
    "# elements = [np.array(data_block[i][\"elements\"]) for i in range(N)]\n",
    "\n",
    "monopoles = [np.array(data_block[i][\"monopoles\"]) for i in range(N)]\n",
    "dipoles = [np.array(data_block[i][\"dipoles\"]) for i in range(N)]\n",
    "quadrupoles = [np.array(data_block[i][\"quadrupoles\"]) for i in range(N)]\n",
    "\n",
    "keys = [all_keys[k_i] for k_i in range(N) ]\n"
   ]
  },
  {
   "cell_type": "code",
   "execution_count": 165,
   "id": "4bf46ea5-bd6a-4b13-b734-703a3de7454d",
   "metadata": {},
   "outputs": [
    {
     "data": {
      "text/plain": [
       "(766110,)"
      ]
     },
     "execution_count": 165,
     "metadata": {},
     "output_type": "execute_result"
    }
   ],
   "source": [
    "keys = np.array(keys)\n",
    "keys.shape"
   ]
  },
  {
   "cell_type": "code",
   "execution_count": 143,
   "id": "f2c13b09-a2ee-48ad-ac51-7a0eccce76c9",
   "metadata": {},
   "outputs": [
    {
     "data": {
      "text/plain": [
       "60"
      ]
     },
     "execution_count": 143,
     "metadata": {},
     "output_type": "execute_result"
    }
   ],
   "source": [
    "max(N_elements)"
   ]
  },
  {
   "cell_type": "code",
   "execution_count": 230,
   "id": "cdd5d813-8cf5-4546-be96-b5c99cbd5fa4",
   "metadata": {},
   "outputs": [],
   "source": [
    "max_N_atoms = 60"
   ]
  },
  {
   "cell_type": "code",
   "execution_count": 231,
   "id": "23742889-9714-420c-86ff-9ab77aa50343",
   "metadata": {},
   "outputs": [],
   "source": [
    "Z = [np.array([ase.data.atomic_numbers[_.decode(\"utf-8\").capitalize()] for _ in elements[i]]) for i in range(N)]"
   ]
  },
  {
   "cell_type": "code",
   "execution_count": 232,
   "id": "a5521671-19ac-4608-8134-eaa2f725c909",
   "metadata": {},
   "outputs": [
    {
     "data": {
      "text/plain": [
       "(766000, 60, 3)"
      ]
     },
     "execution_count": 232,
     "metadata": {},
     "output_type": "execute_result"
    }
   ],
   "source": [
    "pad_coords = np.array([np.pad(coordinates[i], ((0,max_N_atoms - len(coordinates[i])),(0,0))) for i in range(N)])\n",
    "pad_coords.shape"
   ]
  },
  {
   "cell_type": "code",
   "execution_count": 233,
   "id": "f2d98edc-ce75-4f3d-be8b-b00c3008b0a2",
   "metadata": {},
   "outputs": [
    {
     "data": {
      "text/plain": [
       "(766000, 60)"
      ]
     },
     "execution_count": 233,
     "metadata": {},
     "output_type": "execute_result"
    }
   ],
   "source": [
    "pad_Z = np.array([np.pad(Z[i], ((0,max_N_atoms - len(Z[i])))) for i in range(N)])\n",
    "pad_Z.shape"
   ]
  },
  {
   "cell_type": "code",
   "execution_count": 234,
   "id": "a1854421-aa6a-4a89-add4-2b77ca805909",
   "metadata": {},
   "outputs": [
    {
     "name": "stdout",
     "output_type": "stream",
     "text": [
      "766000\n"
     ]
    }
   ],
   "source": [
    "pad_mono = [np.pad(monopoles[i],((0,max_N_atoms - len(monopoles[i])),(0,0))) for i in range(N)]\n",
    "print(len(pad_mono))\n",
    "# pad_mono = np.array(pad_mono)\n",
    "# pad_mono.shape"
   ]
  },
  {
   "cell_type": "code",
   "execution_count": 235,
   "id": "38f825d4-0b95-4053-a6df-f191dd346993",
   "metadata": {},
   "outputs": [
    {
     "data": {
      "text/plain": [
       "array([[-0.503279],\n",
       "       [ 0.152155],\n",
       "       [-0.518394],\n",
       "       [-0.046476],\n",
       "       [-0.280975],\n",
       "       [-0.024383],\n",
       "       [-0.296821],\n",
       "       [-0.00994 ],\n",
       "       [-0.315036],\n",
       "       [-0.331621],\n",
       "       [ 0.246229],\n",
       "       [-0.280428],\n",
       "       [-0.050351],\n",
       "       [-0.288074],\n",
       "       [-0.158728],\n",
       "       [-0.30546 ],\n",
       "       [-0.027145],\n",
       "       [-0.313634],\n",
       "       [ 0.14029 ],\n",
       "       [ 0.129059],\n",
       "       [ 0.142682],\n",
       "       [ 0.135406],\n",
       "       [ 0.129155],\n",
       "       [ 0.159151],\n",
       "       [ 0.092477],\n",
       "       [ 0.114266],\n",
       "       [ 0.127337],\n",
       "       [ 0.093675],\n",
       "       [ 0.119301],\n",
       "       [ 0.124237],\n",
       "       [ 0.092345],\n",
       "       [ 0.132579],\n",
       "       [ 0.127607],\n",
       "       [ 0.123649],\n",
       "       [ 0.12949 ],\n",
       "       [ 0.095879],\n",
       "       [ 0.079351],\n",
       "       [ 0.121153],\n",
       "       [ 0.117882],\n",
       "       [ 0.101187],\n",
       "       [ 0.088865],\n",
       "       [ 0.111469],\n",
       "       [ 0.117345],\n",
       "       [ 0.081191],\n",
       "       [ 0.099099],\n",
       "       [ 0.112118],\n",
       "       [ 0.114184],\n",
       "       [ 0.      ],\n",
       "       [ 0.      ],\n",
       "       [ 0.      ],\n",
       "       [ 0.      ],\n",
       "       [ 0.      ],\n",
       "       [ 0.      ],\n",
       "       [ 0.      ],\n",
       "       [ 0.      ],\n",
       "       [ 0.      ],\n",
       "       [ 0.      ],\n",
       "       [ 0.      ],\n",
       "       [ 0.      ],\n",
       "       [ 0.      ]])"
      ]
     },
     "execution_count": 235,
     "metadata": {},
     "output_type": "execute_result"
    }
   ],
   "source": [
    "pad_mono[0]"
   ]
  },
  {
   "cell_type": "code",
   "execution_count": 236,
   "id": "f21b45ff-4c16-46ee-bffb-b23169c582b6",
   "metadata": {},
   "outputs": [
    {
     "data": {
      "text/plain": [
       "array([], shape=(0, 1), dtype=float64)"
      ]
     },
     "execution_count": 236,
     "metadata": {},
     "output_type": "execute_result"
    }
   ],
   "source": [
    "monopoles[41362]"
   ]
  },
  {
   "cell_type": "code",
   "execution_count": 237,
   "id": "b29765ea-7621-49cf-9bc9-e7afa0d3f257",
   "metadata": {},
   "outputs": [
    {
     "data": {
      "text/plain": [
       "array([[0.],\n",
       "       [0.],\n",
       "       [0.],\n",
       "       [0.],\n",
       "       [0.],\n",
       "       [0.],\n",
       "       [0.],\n",
       "       [0.],\n",
       "       [0.],\n",
       "       [0.],\n",
       "       [0.],\n",
       "       [0.],\n",
       "       [0.],\n",
       "       [0.],\n",
       "       [0.],\n",
       "       [0.],\n",
       "       [0.],\n",
       "       [0.],\n",
       "       [0.],\n",
       "       [0.],\n",
       "       [0.],\n",
       "       [0.],\n",
       "       [0.],\n",
       "       [0.],\n",
       "       [0.],\n",
       "       [0.],\n",
       "       [0.],\n",
       "       [0.],\n",
       "       [0.],\n",
       "       [0.],\n",
       "       [0.],\n",
       "       [0.],\n",
       "       [0.],\n",
       "       [0.],\n",
       "       [0.],\n",
       "       [0.],\n",
       "       [0.],\n",
       "       [0.],\n",
       "       [0.],\n",
       "       [0.],\n",
       "       [0.],\n",
       "       [0.],\n",
       "       [0.],\n",
       "       [0.],\n",
       "       [0.],\n",
       "       [0.],\n",
       "       [0.],\n",
       "       [0.],\n",
       "       [0.],\n",
       "       [0.],\n",
       "       [0.],\n",
       "       [0.],\n",
       "       [0.],\n",
       "       [0.],\n",
       "       [0.],\n",
       "       [0.],\n",
       "       [0.],\n",
       "       [0.],\n",
       "       [0.],\n",
       "       [0.]])"
      ]
     },
     "execution_count": 237,
     "metadata": {},
     "output_type": "execute_result"
    }
   ],
   "source": [
    "pad_mono[41362]"
   ]
  },
  {
   "cell_type": "code",
   "execution_count": 238,
   "id": "8d339755-154d-4b55-bb9e-080ba19c67eb",
   "metadata": {},
   "outputs": [],
   "source": [
    "for i in range(len(pad_mono)):\n",
    "    if pad_mono[i].shape[0] != 60:\n",
    "        print(i, pad_mono[i].shape)"
   ]
  },
  {
   "cell_type": "code",
   "execution_count": 239,
   "id": "d24765bd-eb32-4feb-944d-33c7ff971015",
   "metadata": {},
   "outputs": [
    {
     "data": {
      "text/plain": [
       "25"
      ]
     },
     "execution_count": 239,
     "metadata": {},
     "output_type": "execute_result"
    }
   ],
   "source": [
    "len(dipoles[i])"
   ]
  },
  {
   "cell_type": "code",
   "execution_count": 244,
   "id": "a78fa905-b485-43d7-98df-fa47ded3bc4c",
   "metadata": {},
   "outputs": [
    {
     "data": {
      "text/plain": [
       "(60, 3)"
      ]
     },
     "execution_count": 244,
     "metadata": {},
     "output_type": "execute_result"
    }
   ],
   "source": [
    "i=0\n",
    "np.pad(dipoles[i],((0,max_N_atoms - len(dipoles[i])),(0,0))).shape"
   ]
  },
  {
   "cell_type": "code",
   "execution_count": 241,
   "id": "8fef4405-5542-4f63-8383-03c839730e2d",
   "metadata": {},
   "outputs": [
    {
     "data": {
      "text/plain": [
       "(61, 3)"
      ]
     },
     "execution_count": 241,
     "metadata": {},
     "output_type": "execute_result"
    }
   ],
   "source": [
    "jnp.zeros((61,3)).shape"
   ]
  },
  {
   "cell_type": "code",
   "execution_count": 212,
   "id": "aa753a6d-78c8-4bb4-845e-6876e5a2df57",
   "metadata": {},
   "outputs": [],
   "source": [
    "# pad_dipo = [np.pad(dipoles[i],((0,max_N_atoms - len(dipoles[i])),(0,0))) for i in range(N)]\n",
    "# len(pad_dipo)"
   ]
  },
  {
   "cell_type": "code",
   "execution_count": 245,
   "id": "c9fc8de6-6a29-4ad1-9442-3c0c646ec4da",
   "metadata": {
    "scrolled": true
   },
   "outputs": [
    {
     "name": "stdout",
     "output_type": "stream",
     "text": [
      "41362 []\n",
      "42971 []\n",
      "64718 []\n",
      "106179 []\n",
      "125083 []\n",
      "139799 []\n",
      "144617 []\n",
      "151501 []\n",
      "207084 []\n",
      "208220 []\n",
      "238738 []\n",
      "240632 []\n",
      "264139 []\n",
      "265822 []\n",
      "288509 []\n",
      "297853 []\n",
      "349267 []\n",
      "358444 []\n",
      "370102 []\n",
      "375812 []\n",
      "382019 []\n",
      "407522 []\n",
      "412397 []\n",
      "462093 []\n",
      "515078 []\n",
      "515577 []\n",
      "517193 []\n",
      "519636 []\n",
      "521858 []\n",
      "569049 []\n",
      "579133 []\n",
      "580936 []\n",
      "650199 []\n",
      "651393 []\n",
      "654407 []\n",
      "657583 []\n",
      "673831 []\n",
      "675347 []\n",
      "698802 []\n",
      "735775 []\n",
      "744644 []\n",
      "755821 []\n",
      "760931 []\n"
     ]
    }
   ],
   "source": [
    "pad_dipo = []\n",
    "for i in range(N):\n",
    "    try:\n",
    "        _ = np.pad(dipoles[i],((0,max_N_atoms - len(dipoles[i])),(0,0))) \n",
    "        pad_dipo.append(_)\n",
    "    except ValueError:\n",
    "        print(i,dipoles[i])\n",
    "        pad_dipo.append(jnp.zeros((60,3)))\n",
    "    "
   ]
  },
  {
   "cell_type": "code",
   "execution_count": 246,
   "id": "97b6f785-85ad-4fa6-82b9-7775a7775f5b",
   "metadata": {},
   "outputs": [],
   "source": [
    "pad_dipo = np.array(pad_dipo)"
   ]
  },
  {
   "cell_type": "code",
   "execution_count": 247,
   "id": "bf2f9b3c-a215-48ee-87f0-0b31b0ef814b",
   "metadata": {},
   "outputs": [
    {
     "data": {
      "text/plain": [
       "(766000, 60, 3)"
      ]
     },
     "execution_count": 247,
     "metadata": {},
     "output_type": "execute_result"
    }
   ],
   "source": [
    "pad_dipo.shape"
   ]
  },
  {
   "cell_type": "code",
   "execution_count": 248,
   "id": "5f42d4cd-6601-4188-94a2-08a33b166e24",
   "metadata": {},
   "outputs": [
    {
     "data": {
      "text/plain": [
       "(60, 6)"
      ]
     },
     "execution_count": 248,
     "metadata": {},
     "output_type": "execute_result"
    }
   ],
   "source": [
    "i = 0\n",
    "np.pad(quadrupoles[i],((0,max_N_atoms - len(quadrupoles[i])),(0,0))).shape"
   ]
  },
  {
   "cell_type": "code",
   "execution_count": 249,
   "id": "e27a9b7e-fced-42dc-967d-55a4d93b204a",
   "metadata": {
    "scrolled": true
   },
   "outputs": [
    {
     "name": "stdout",
     "output_type": "stream",
     "text": [
      "41362 []\n",
      "42971 []\n",
      "64718 []\n",
      "106179 []\n",
      "125083 []\n",
      "139799 []\n",
      "144617 []\n",
      "151501 []\n",
      "207084 []\n",
      "208220 []\n",
      "238738 []\n",
      "240632 []\n",
      "264139 []\n",
      "265822 []\n",
      "288509 []\n",
      "297853 []\n",
      "349267 []\n",
      "358444 []\n",
      "370102 []\n",
      "375812 []\n",
      "382019 []\n",
      "407522 []\n",
      "412397 []\n",
      "462093 []\n",
      "515078 []\n",
      "515577 []\n",
      "517193 []\n",
      "519636 []\n",
      "521858 []\n",
      "569049 []\n",
      "579133 []\n",
      "580936 []\n",
      "650199 []\n",
      "651393 []\n",
      "654407 []\n",
      "657583 []\n",
      "673831 []\n",
      "675347 []\n",
      "698802 []\n",
      "735775 []\n",
      "744644 []\n",
      "755821 []\n",
      "760931 []\n"
     ]
    }
   ],
   "source": [
    "pad_quad = []\n",
    "for i in range(N):\n",
    "    try:\n",
    "        _ = np.pad(quadrupoles[i],((0,max_N_atoms - len(quadrupoles[i])),(0,0))) \n",
    "        pad_quad.append(_)\n",
    "    except ValueError:\n",
    "        print(i,quadrupoles[i])\n",
    "        pad_quad.append(jnp.zeros((60,6)))"
   ]
  },
  {
   "cell_type": "code",
   "execution_count": 250,
   "id": "4afcec02-70a2-499a-9ead-1537552aaab0",
   "metadata": {},
   "outputs": [
    {
     "data": {
      "text/plain": [
       "(766000, 60, 6)"
      ]
     },
     "execution_count": 250,
     "metadata": {},
     "output_type": "execute_result"
    }
   ],
   "source": [
    "pad_quad = np.array(pad_quad)\n",
    "pad_quad.shape"
   ]
  },
  {
   "cell_type": "code",
   "execution_count": 251,
   "id": "65374932-5d21-4eca-b306-539008c36587",
   "metadata": {},
   "outputs": [],
   "source": [
    "# pad_quad = np.array([np.pad(quadrupoles[i],((0,max_N_atoms - len(quadrupoles[i])),(0,0))) for i in range(N)])\n",
    "# pad_quad.shape"
   ]
  },
  {
   "cell_type": "code",
   "execution_count": 252,
   "id": "ce431999-3d5c-4bf1-afb3-58f443b0029f",
   "metadata": {},
   "outputs": [
    {
     "data": {
      "text/plain": [
       "(766000, 60, 3)"
      ]
     },
     "execution_count": 252,
     "metadata": {},
     "output_type": "execute_result"
    }
   ],
   "source": [
    "pad_grad = np.array([np.pad(gradient[i],((0,max_N_atoms - len(gradient[i])),(0,0))) for i in range(N)])\n",
    "pad_grad.shape"
   ]
  },
  {
   "cell_type": "code",
   "execution_count": 253,
   "id": "2f3cc23a-f0a5-4c0b-97a2-a295c30ab77c",
   "metadata": {},
   "outputs": [],
   "source": [
    "np.savez(f'mulitpoles{N}.npz', \n",
    "         R=pad_coords,\n",
    "         Z=pad_Z, \n",
    "         N=N_elements, \n",
    "         F=pad_grad, \n",
    "         mono=pad_mono, \n",
    "         dip=pad_dipo, \n",
    "         quad=pad_quad\n",
    "        )"
   ]
  },
  {
   "cell_type": "code",
   "execution_count": null,
   "id": "3d91ee20-e6ad-415e-9f6e-c467b73d3533",
   "metadata": {},
   "outputs": [],
   "source": []
  }
 ],
 "metadata": {
  "kernelspec": {
   "display_name": "Python 3 (ipykernel)",
   "language": "python",
   "name": "python3"
  },
  "language_info": {
   "codemirror_mode": {
    "name": "ipython",
    "version": 3
   },
   "file_extension": ".py",
   "mimetype": "text/x-python",
   "name": "python",
   "nbconvert_exporter": "python",
   "pygments_lexer": "ipython3",
   "version": "3.12.5"
  }
 },
 "nbformat": 4,
 "nbformat_minor": 5
}
