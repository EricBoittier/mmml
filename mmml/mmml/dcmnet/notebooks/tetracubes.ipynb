{
 "cells": [
  {
   "cell_type": "markdown",
   "id": "28c76223",
   "metadata": {},
   "source": [
    "# Tetracubes (shape classification)\n",
    "\n",
    "This tutorial demonstrates how to use E3x to construct a simple $\\mathrm{E}(3)$-equivariant neural network for shape classification. In this toy example, we want to classify <a href=\"https://en.wikipedia.org/wiki/Polycube\">tetracubes</a>. The tetracubes are three-dimensional shapes consisting of exactly four cubes, with each cube touching the side of another cube with at least one of its sides. The following eight shapes are possible (click & drag to rotate):\n",
    "\n",
    "<!--- Included html files will be displayed in the docs. --->\n",
    "<iframe src=\"../_static/tetracubes.html\" width=\"696\" height=\"348\" frameBorder=\"0\" scrolling=\"no\"></iframe> "
   ]
  },
  {
   "cell_type": "markdown",
   "id": "b2e18dff",
   "metadata": {},
   "source": [
    "First, all necessary packages are imported."
   ]
  },
  {
   "cell_type": "code",
   "execution_count": 2,
   "id": "296e65a4",
   "metadata": {
    "tags": []
   },
   "outputs": [],
   "source": [
    "import functools\n",
    "import e3x\n",
    "from flax import linen as nn\n",
    "import jax\n",
    "import jax.numpy as jnp\n",
    "import matplotlib.pyplot as plt\n",
    "import numpy as np\n",
    "import optax\n",
    "\n",
    "# Disable future warnings.\n",
    "import warnings\n",
    "warnings.simplefilter(action='ignore', category=FutureWarning)"
   ]
  },
  {
   "cell_type": "markdown",
   "id": "1550e3d7",
   "metadata": {},
   "source": [
    "Next, we define all possible tetracube shapes (see visualization above). To keep things simple, each cube is represented by a single point at its center, such that a tetracube shape can be specified by four points."
   ]
  },
  {
   "cell_type": "code",
   "execution_count": 3,
   "id": "08d2011b",
   "metadata": {
    "tags": []
   },
   "outputs": [],
   "source": [
    "# Definition for all eight tetracubes (unit cube midpoints).\n",
    "tetracubes = jnp.asarray([\n",
    "  # Line.\n",
    "  [ [ -1.50,  0.00,  0.00 ], [ -0.50,  0.00,  0.00 ],\n",
    "    [  0.50,  0.00,  0.00 ], [  1.50,  0.00,  0.00 ] ],\n",
    "  # Square.\n",
    "  [ [ -0.50, -0.50,  0.00 ], [ -0.50,  0.50,  0.00 ],\n",
    "    [  0.50,  0.50,  0.00 ], [  0.50, -0.50,  0.00 ] ],\n",
    "  # S/Z-shape.\n",
    "  [ [ -1.00,  0.50,  0.00 ], [  0.00,  0.50,  0.00 ],\n",
    "    [  0.00, -0.50,  0.00 ], [  1.00, -0.50,  0.00 ] ],\n",
    "  # L/J-shape.\n",
    "  [ [ -0.75, -0.75,  0.00 ], [ -0.75,  0.25,  0.00 ],\n",
    "    [  0.25,  0.25,  0.00 ], [  1.25,  0.25,  0.00 ] ],\n",
    "  # T-shape.\n",
    "  [ [ -1.00,  0.25,  0.00 ], [  0.00,  0.25,  0.00 ],\n",
    "    [  1.00,  0.25,  0.00 ], [  0.00, -0.75,  0.00 ] ],\n",
    "  # Corner.\n",
    "  [ [ -0.75,  0.25, -0.25 ], [  0.25,  0.25, -0.25 ],\n",
    "    [  0.25, -0.75, -0.25 ], [  0.25,  0.25,  0.75 ] ],\n",
    "  # Right screw.\n",
    "  [ [ -0.50,  0.25, -0.25 ], [ -0.50,  0.25,  0.75 ],\n",
    "    [  0.50,  0.25, -0.25 ], [  0.50, -0.75, -0.25 ] ],\n",
    "  # Left screw.\n",
    "  [ [ -0.75,  0.50, -0.25 ], [  0.25, -0.50,  0.75 ],\n",
    "    [  0.25,  0.50, -0.25 ], [  0.25, -0.50, -0.25 ] ],\n",
    "])"
   ]
  },
  {
   "cell_type": "markdown",
   "id": "e6fd9d90",
   "metadata": {},
   "source": [
    "Starting from these eight basic shapes, we define a function to generate a toy dataset. To do this, we randomly draw one of the eight basic shapes and add some Gaussian noise to it. The task for our model will be to identify the shape (line, square, ...) of (noisy) tetracubes."
   ]
  },
  {
   "cell_type": "code",
   "execution_count": 4,
   "id": "ac173e04",
   "metadata": {
    "tags": []
   },
   "outputs": [],
   "source": [
    "def generate_datasets(key, num_train=1000, num_valid=100, noise_scale=0.05):\n",
    "  # Generate random keys.\n",
    "  train_choice_key, valid_choice_key, train_noise_key, valid_noise_key = jax.random.split(key, num=4)\n",
    "\n",
    "  # Assign a label to each tetracube.\n",
    "  labels = jnp.arange(tetracubes.shape[0])\n",
    "\n",
    "  # Randomly choose among the eight tetracubes to generate train and validation datasets.\n",
    "  train_choice = jax.random.choice(train_choice_key, tetracubes.shape[0], shape=(num_train,))\n",
    "  valid_choice = jax.random.choice(valid_choice_key, tetracubes.shape[0], shape=(num_valid,))\n",
    "  train_shapes = jnp.take(tetracubes, train_choice, axis=0)\n",
    "  valid_shapes = jnp.take(tetracubes, valid_choice, axis=0)\n",
    "  train_labels = jnp.take(labels, train_choice, axis=0)\n",
    "  valid_labels = jnp.take(labels, valid_choice, axis=0)\n",
    "  \n",
    "  # Add Gaussian noise for some variety.\n",
    "  train_shapes += noise_scale * jax.random.normal(train_noise_key, shape=train_shapes.shape)\n",
    "  valid_shapes += noise_scale * jax.random.normal(valid_noise_key, shape=valid_shapes.shape)\n",
    "  \n",
    "  # Return final train and validation datasets.\n",
    "  train_data = dict(shapes=train_shapes, labels=train_labels)\n",
    "  valid_data = dict(shapes=valid_shapes, labels=valid_labels)\n",
    "  return train_data, valid_data"
   ]
  },
  {
   "cell_type": "markdown",
   "id": "850f6cdb",
   "metadata": {},
   "source": [
    "We now define a very simple equivariant model to solve this classification task using the modules in E3x. The architecture comprises the following steps:\n",
    "\n",
    "1. Center the incoming tetracube shape (for translational invariance).\n",
    "\n",
    "2. Featurize the tetracube shape by expanding the cube midpoints with radial-spherical basis functions. This produces a total of four feature representations, one for each of the four cubes in a given tetracube shape (the features are $\\mathrm{SO(3)}$ irreps). To create a single feature representation for the whole tetracube shape, the average of the individual cube features is taken.\n",
    "\n",
    "3. Apply two transformations that include tensor products. The first tensor product creates new $\\mathrm{O}(3)$ irreps from the $\\mathrm{SO}(3)$ irreps. However, there is no coupling path to produce pseudoscalar features yet. The second tensor product will also produce pseudoscalar features, which are necessary to distinguish the \"left screw\" and \"right screw\" shapes.\n",
    "\n",
    "4. Collect the scalar and pseudoscalar features and apply an ordinary dense layer to predict logits for the eight classes of tetracubes."
   ]
  },
  {
   "cell_type": "code",
   "execution_count": 5,
   "id": "be8f5a12",
   "metadata": {
    "tags": []
   },
   "outputs": [],
   "source": [
    "class EquivariantModel(nn.Module):\n",
    "  features = 8\n",
    "  max_degree = 2\n",
    "\n",
    "  @nn.compact\n",
    "  def __call__(self, shapes):  # The 'shapes' array has shape (..., 4, 3).\n",
    "    # 1. Center shapes at origin (for translational invariance).\n",
    "    shapes -= jnp.mean(shapes, keepdims=True, axis=-2)   # 'shapes' still has shape (..., 4, 3).\n",
    "    \n",
    "    # 2. Featurize by expanding cube midpoints in basis functions and taking the mean over the 4 cubes.\n",
    "    x = e3x.nn.basis( # 'x' has shape (..., 4, 1, (max_degree+1)**2, features).\n",
    "      shapes,\n",
    "      num=self.features,\n",
    "      max_degree=self.max_degree,\n",
    "      radial_fn=functools.partial(e3x.nn.triangular_window, limit=2.0),\n",
    "    )\n",
    "    x = jnp.mean(x, axis=-4)  # 'x' now has shape (..., 1, (max_degree+1)**2, features).\n",
    "    \n",
    "    # 3. Apply feature transformations.\n",
    "    x = e3x.nn.TensorDense()(x)  # 'x' now has shape (..., 2, (max_degree+1)**2, features).\n",
    "    x = e3x.nn.TensorDense(max_degree=0)(x)  # 'x' now has shape (..., 2, 1, features).\n",
    "    # Try it: If the above line is replaced by \n",
    "    # x = e3x.nn.TensorDense(max_degree=0, include_pseudotensors=False)(x)\n",
    "    # the output will have shape (..., 1, 1, features) and only contain scalar, but no pseudoscalar\n",
    "    # features. With this change, the model will be unable to distinguish between the \"left screw\"\n",
    "    # and the \"right screw\" shapes, since they are mirror images of each other, but otherwise identical.\n",
    "    # Consequently, the prediction accuracy should go down to ~87.5%, because only 7/8 shapes can be \n",
    "    # classified correctly.\n",
    "    \n",
    "    # 4. Predict logits (with an ordinary Dense layer).\n",
    "    x = jnp.reshape(x, (*x.shape[:-3], -1))  # Flatten, 'x' now has shape (..., 2*1*features).\n",
    "    logits = nn.Dense(features=tetracubes.shape[0])(x)  # Logits has shape (..., 8).\n",
    "    return logits"
   ]
  },
  {
   "cell_type": "markdown",
   "id": "acd9a3d2",
   "metadata": {},
   "source": [
    "For comparison, we also define an ordinary (non-equivariant) model. The architecture comprises the following steps:\n",
    "\n",
    "1. Center the incoming tetracube shape (for translational invariance).\n",
    "\n",
    "2. Featurize the tetracube shape by simply flattening the xyz coordinates of the cube midpoints.\n",
    "\n",
    "4. Apply a two-layer MLP.\n",
    "\n",
    "5. Apply a final dense layer to predict logits for the eight classes of tetracubes."
   ]
  },
  {
   "cell_type": "code",
   "execution_count": 6,
   "id": "3c3028a5",
   "metadata": {
    "tags": []
   },
   "outputs": [],
   "source": [
    "class OrdinaryModel(nn.Module):\n",
    "  features = 8\n",
    "\n",
    "  @nn.compact\n",
    "  def __call__(self, shapes):  # The 'shapes' array has shape (..., 4, 3).\n",
    "    # 1. Center shapes at origin (for translational invariance).\n",
    "    shapes -= jnp.mean(shapes, keepdims=True, axis=-2)  # 'shapes' still has shape (..., 4, 3).\n",
    "    \n",
    "    # 2. Flatten xyz coordinates (input features).\n",
    "    x = jnp.reshape(shapes, (*shapes.shape[:-2], -1))  # 'x' has shape (..., 4*3).\n",
    "    \n",
    "    # 3. Apply transformations.\n",
    "    x = nn.Dense(features=self.features)(x)  # 'x' has shape (..., features).\n",
    "    x = nn.relu(x)\n",
    "    x = nn.Dense(features=self.features)(x)\n",
    "    x = nn.relu(x)\n",
    "    \n",
    "    # 4. Predict logits.\n",
    "    logits = nn.Dense(features=tetracubes.shape[0])(x)  # Logits has shape (..., 8).\n",
    "    return logits"
   ]
  },
  {
   "cell_type": "markdown",
   "id": "ca49992c",
   "metadata": {},
   "source": [
    "Next, we define our loss function. Here, we use the cross entropy loss, as is common for classification tasks. For convenience, we also define a function to compute classification accuracy."
   ]
  },
  {
   "cell_type": "code",
   "execution_count": 7,
   "id": "fd195091",
   "metadata": {
    "tags": []
   },
   "outputs": [],
   "source": [
    "def cross_entropy_loss(logits, labels):\n",
    "  labels_onehot = jax.nn.one_hot(labels, num_classes=tetracubes.shape[0])\n",
    "  return optax.softmax_cross_entropy(logits=logits, labels=labels_onehot).mean()\n",
    "\n",
    "def compute_accuracy(logits, labels):\n",
    "  return jnp.mean(jnp.argmax(logits, -1) == labels)"
   ]
  },
  {
   "cell_type": "markdown",
   "id": "37d03a1e",
   "metadata": {},
   "source": [
    "Now that we have all ingredients, let's write some boilerplate for training models."
   ]
  },
  {
   "cell_type": "code",
   "execution_count": 8,
   "id": "bacc2ea6",
   "metadata": {
    "tags": []
   },
   "outputs": [],
   "source": [
    "@functools.partial(jax.jit, static_argnames=('model_apply', 'optimizer_update'))\n",
    "def train_step(model_apply, optimizer_update, batch, opt_state, params):\n",
    "  def loss_fn(params):\n",
    "    logits = model_apply(params, batch['shapes'])\n",
    "    loss = cross_entropy_loss(logits, batch['labels'])\n",
    "    return loss, logits\n",
    "  (loss, logits), grad = jax.value_and_grad(loss_fn, has_aux=True)(params)\n",
    "  updates, opt_state = optimizer_update(grad, opt_state, params)\n",
    "  params = optax.apply_updates(params, updates)\n",
    "  accuracy = compute_accuracy(logits, batch['labels'])\n",
    "  return params, opt_state, loss, accuracy\n",
    "\n",
    "@functools.partial(jax.jit, static_argnames=('model_apply',))\n",
    "def eval_step(model_apply, batch, params):\n",
    "  logits = model_apply(params, batch['shapes'])\n",
    "  loss = cross_entropy_loss(logits=logits, labels=batch['labels'])\n",
    "  accuracy = compute_accuracy(logits=logits, labels=batch['labels'])\n",
    "  return loss, accuracy\n",
    "\n",
    "def train_model(key, model, train_data, valid_data, num_epochs, learning_rate, batch_size):\n",
    "  # Initialize model parameters and optimizer state.\n",
    "  key, init_key = jax.random.split(key)\n",
    "  optimizer = optax.adam(learning_rate)\n",
    "  params = model.init(init_key, train_data['shapes'][0:1])\n",
    "  opt_state = optimizer.init(params)\n",
    "    \n",
    "  # Determine the number of training steps per epoch.\n",
    "  train_size = len(train_data['shapes'])\n",
    "  steps_per_epoch = train_size//batch_size\n",
    "\n",
    "  # Train for 'num_epochs' epochs.\n",
    "  for epoch in range(1, num_epochs + 1):\n",
    "    # Draw random permutations for fetching batches from the train data.\n",
    "    key, shuffle_key = jax.random.split(key)\n",
    "    perms = jax.random.permutation(shuffle_key, train_size)\n",
    "    perms = perms[:steps_per_epoch * batch_size]  # Skip the last batch (if incomplete).\n",
    "    perms = perms.reshape((steps_per_epoch, batch_size))\n",
    "    \n",
    "    # Loop over all batches.\n",
    "    train_loss = 0.0  # For keeping a running average of the loss.\n",
    "    train_accuracy = 0.0  # For keeping a running average of the accuracy.\n",
    "    for i, perm in enumerate(perms):\n",
    "      batch = {k: v[perm, ...] for k, v in train_data.items()}\n",
    "      params, opt_state, loss, accuracy = train_step(\n",
    "          model_apply=model.apply, \n",
    "          optimizer_update=optimizer.update, \n",
    "          batch=batch, \n",
    "          opt_state=opt_state, \n",
    "          params=params\n",
    "      )\n",
    "      train_loss += (loss - train_loss)/(i+1)\n",
    "      train_accuracy += (accuracy - train_accuracy)/(i+1)\n",
    "        \n",
    "    # Evaluate on the test set after each training epoch.\n",
    "    valid_loss, valid_accuracy = eval_step(\n",
    "        model_apply=model.apply, \n",
    "        batch=valid_data,\n",
    "        params=params\n",
    "    )\n",
    "    \n",
    "    # Print progress.\n",
    "    print(f\"epoch: {epoch}\")\n",
    "    print(f\"  train: loss {train_loss : 4.2f}, accuracy {train_accuracy * 100 : 6.2f}%\")\n",
    "    print(f\"  valid: loss {valid_loss : 4.2f}, accuracy {valid_accuracy * 100 : 6.2f}%\")\n",
    "\n",
    "  # Return final model parameters.\n",
    "  return params"
   ]
  },
  {
   "cell_type": "markdown",
   "id": "967d41c1",
   "metadata": {},
   "source": [
    "Finally, let's create our toy dataset and choose the training hyperparameters."
   ]
  },
  {
   "cell_type": "code",
   "execution_count": 9,
   "id": "9013da6c",
   "metadata": {
    "tags": []
   },
   "outputs": [],
   "source": [
    "# Initialize PRNGKey for random number generation.\n",
    "key = jax.random.PRNGKey(0)\n",
    "\n",
    "# Generate train and test datasets. \n",
    "key, data_key = jax.random.split(key)\n",
    "train_data, valid_data = generate_datasets(data_key)\n",
    "\n",
    "# Define training hyperparameters.\n",
    "learning_rate = 0.005\n",
    "num_epochs = 5\n",
    "batch_size = 16"
   ]
  },
  {
   "cell_type": "markdown",
   "id": "bcc5959e",
   "metadata": {},
   "source": [
    "Now, we train the equivariant model."
   ]
  },
  {
   "cell_type": "code",
   "execution_count": 10,
   "id": "64862826",
   "metadata": {
    "tags": []
   },
   "outputs": [
    {
     "name": "stdout",
     "output_type": "stream",
     "text": [
      "epoch: 1\n",
      "  train: loss  1.92, accuracy  23.19%\n",
      "  valid: loss  1.30, accuracy  33.00%\n",
      "epoch: 2\n",
      "  train: loss  0.51, accuracy  80.34%\n",
      "  valid: loss  0.03, accuracy  100.00%\n",
      "epoch: 3\n",
      "  train: loss  0.01, accuracy  99.90%\n",
      "  valid: loss  0.00, accuracy  100.00%\n",
      "epoch: 4\n",
      "  train: loss  0.00, accuracy  100.00%\n",
      "  valid: loss  0.00, accuracy  100.00%\n",
      "epoch: 5\n",
      "  train: loss  0.00, accuracy  100.00%\n",
      "  valid: loss  0.00, accuracy  100.00%\n"
     ]
    }
   ],
   "source": [
    "# Train the equivariant model.\n",
    "key, train_key = jax.random.split(key)\n",
    "equivariant_model = EquivariantModel()\n",
    "equivariant_params = train_model(\n",
    "  key=train_key,\n",
    "  model=equivariant_model,\n",
    "  train_data=train_data,\n",
    "  valid_data=valid_data,\n",
    "  num_epochs=num_epochs,\n",
    "  learning_rate=learning_rate, \n",
    "  batch_size=batch_size, \n",
    ")"
   ]
  },
  {
   "cell_type": "markdown",
   "id": "18888c3c",
   "metadata": {},
   "source": [
    "And the ordinary model."
   ]
  },
  {
   "cell_type": "code",
   "execution_count": 11,
   "id": "18486a07",
   "metadata": {
    "tags": []
   },
   "outputs": [
    {
     "name": "stdout",
     "output_type": "stream",
     "text": [
      "epoch: 1\n",
      "  train: loss  1.86, accuracy  29.23%\n",
      "  valid: loss  1.46, accuracy  49.00%\n",
      "epoch: 2\n",
      "  train: loss  1.11, accuracy  62.50%\n",
      "  valid: loss  0.77, accuracy  81.00%\n",
      "epoch: 3\n",
      "  train: loss  0.53, accuracy  87.00%\n",
      "  valid: loss  0.35, accuracy  87.00%\n",
      "epoch: 4\n",
      "  train: loss  0.26, accuracy  94.35%\n",
      "  valid: loss  0.15, accuracy  100.00%\n",
      "epoch: 5\n",
      "  train: loss  0.10, accuracy  100.00%\n",
      "  valid: loss  0.05, accuracy  100.00%\n"
     ]
    }
   ],
   "source": [
    "# Train the ordinary model.\n",
    "key, train_key = jax.random.split(key)\n",
    "ordinary_model = OrdinaryModel()\n",
    "ordinary_params = train_model(\n",
    "  key=train_key, \n",
    "  model=ordinary_model,\n",
    "  train_data=train_data,\n",
    "  valid_data=valid_data,\n",
    "  num_epochs=num_epochs,\n",
    "  learning_rate=learning_rate, \n",
    "  batch_size=batch_size, \n",
    ")"
   ]
  },
  {
   "cell_type": "markdown",
   "id": "6b6106e8",
   "metadata": {},
   "source": [
    "Both models quickly reach 100% accuracy on both train and validation datasets. At this point, you may wonder why we should bother with equivariance if the ordinary model works just as well. Recall how our toy data was generated: We started from the eight basic tetracube shapes and added some random noise for variety. Crucially, the basic shapes from which we started all had a fixed orientation. This means our ordinary model will only be able to recognize a shape if it is in the same orientation as the data we trained on. For randomly rotated shapes, we expect its performance to degrade. The equivariant model on the other hand should be able to recognize shapes in arbitrary orientations, even though it has never seen rotated shapes during training.\n",
    "\n",
    "Let's test this hypothesis!"
   ]
  },
  {
   "cell_type": "code",
   "execution_count": 12,
   "id": "24ee1da9",
   "metadata": {
    "tags": []
   },
   "outputs": [],
   "source": [
    "# Determine the accuracy of the equivariant and ordinary models for rotated shapes with different\n",
    "# perturbation magnitudes (a perturbation of 0.0 gives identity matrices, a perturbation of 1.0 gives\n",
    "# fully random rotation matrices).\n",
    "perturbations = np.linspace(0.0, 1.0, num=6)\n",
    "equivariant_accuracy = np.zeros(len(perturbations))\n",
    "ordinary_accuracy = np.zeros(len(perturbations))\n",
    "\n",
    "for i, perturbation in enumerate(perturbations):\n",
    "  key, rotation_key = jax.random.split(key)\n",
    "  rot = e3x.so3.random_rotation(rotation_key, perturbation=perturbation, num=len(valid_data['shapes']))\n",
    "  rotated_shapes = jax.vmap(lambda x, r: x@r, in_axes=(0,0))(valid_data['shapes'], rot)\n",
    "  rotated_valid_data = {'shapes': rotated_shapes, 'labels': valid_data['labels']}\n",
    "  _, equivariant_accuracy[i] = eval_step(equivariant_model.apply, rotated_valid_data, equivariant_params)\n",
    "  _, ordinary_accuracy[i] = eval_step(ordinary_model.apply, rotated_valid_data, ordinary_params)"
   ]
  },
  {
   "cell_type": "code",
   "execution_count": 13,
   "id": "5a4c27c2",
   "metadata": {
    "tags": []
   },
   "outputs": [
    {
     "data": {
      "image/png": "[encoded data removed]",
      "text/plain": [
       "<Figure size 640x480 with 1 Axes>"
      ]
     },
     "metadata": {},
     "output_type": "display_data"
    }
   ],
   "source": [
    "%matplotlib inline\n",
    "# Plot the results.\n",
    "plt.subplots_adjust(left=0, right=1, bottom=0, top=1)\n",
    "plt.xlabel('rotational perturbation [a.u.]') \n",
    "plt.ylabel('accuracy [%]')\n",
    "plt.plot(perturbations, equivariant_accuracy * 100, label='equivariant model')\n",
    "plt.plot(perturbations, ordinary_accuracy * 100, label='ordinary model')\n",
    "plt.hlines(y=100/tetracubes.shape[0], xmin=0.0, xmax=1.0, color='k', ls=':', label='random')\n",
    "plt.legend(loc='center right')\n",
    "plt.grid()"
   ]
  },
  {
   "cell_type": "markdown",
   "id": "0a76d6a0",
   "metadata": {},
   "source": [
    "As expected, the accuracy of the ordinary model degrades quickly if we increase the rotational perturbation. If the orientation of the shapes is completely random, the ordinary model is no better than random guessing.\n",
    "\n",
    "Of course, for this simple toy problem, it would be possible to train the ordinary model on randomly rotated shapes to make it robust to rotational perturbations. However, the point is that the equivariant model *just works* (without the need for any data augmentation). In addition, it will predict **exactly** the same class assignments independent of orientation, whereas an ordinary model trained with data augmentation will only do so **approximately**. For many applications, especially in physics and chemistry, exact equivariance with respect to rotations is extremely important (approximate equivariance is simply not good enough)."
   ]
  },
  {
   "cell_type": "code",
   "execution_count": null,
   "id": "019a5701-80c3-432e-ba44-7a595f8c554c",
   "metadata": {},
   "outputs": [],
   "source": []
  }
 ],
 "metadata": {
  "kernelspec": {
   "display_name": "jaxeq",
   "language": "python",
   "name": "jaxeq"
  },
  "language_info": {
   "codemirror_mode": {
    "name": "ipython",
    "version": 3
   },
   "file_extension": ".py",
   "mimetype": "text/x-python",
   "name": "python",
   "nbconvert_exporter": "python",
   "pygments_lexer": "ipython3",
   "version": "3.9.18"
  }
 },
 "nbformat": 4,
 "nbformat_minor": 5
}
