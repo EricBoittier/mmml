{
 "cells": [
  {
   "cell_type": "code",
   "execution_count": 1,
   "id": "037101ad-caf1-4121-8c0d-2109755e1d57",
   "metadata": {},
   "outputs": [
    {
     "name": "stdout",
     "output_type": "stream",
     "text": [
      "[cuda(id=0)]\n",
      "gpu\n",
      "[cuda(id=0)]\n"
     ]
    }
   ],
   "source": [
    "import os\n",
    "os.environ['XLA_PYTHON_CLIENT_MEM_FRACTION'] = '.95'\n",
    "os.environ['CUDA_VISIBLE_DEVICES'] = \"1\"\n",
    "import jax\n",
    "devices = jax.local_devices()\n",
    "print(devices)\n",
    "print(jax.default_backend())\n",
    "print(jax.devices())\n",
    "\n",
    "import functools\n",
    "import os\n",
    "import urllib.request\n",
    "import e3x\n",
    "import flax.linen as nn\n",
    "import jax\n",
    "import jax.numpy as jnp\n",
    "import numpy as np\n",
    "import optax\n",
    "from rdkit import Chem\n",
    "\n",
    "# Disable future warnings.\n",
    "import warnings\n",
    "warnings.simplefilter(action='ignore', category=FutureWarning)"
   ]
  },
  {
   "cell_type": "code",
   "execution_count": 2,
   "id": "4ed0184e-11b8-4fb5-a68b-59827e69b2a3",
   "metadata": {},
   "outputs": [
    {
     "data": {
      "text/plain": [
       "[cuda(id=0)]"
      ]
     },
     "execution_count": 2,
     "metadata": {},
     "output_type": "execute_result"
    }
   ],
   "source": [
    "jax.default_backend()\n",
    "jax.devices()"
   ]
  },
  {
   "cell_type": "code",
   "execution_count": 91,
   "id": "8ea801e2-6b6d-4a1c-9890-ce11c9c72023",
   "metadata": {},
   "outputs": [],
   "source": [
    "ZtoName = {1: \"H\", 6: \"C\", 7: \"N\", 8: \"O\", 9: \"F\"}"
   ]
  },
  {
   "cell_type": "code",
   "execution_count": 28,
   "id": "d1ced62c-e5cc-464d-9ccb-5d0e9172fe24",
   "metadata": {},
   "outputs": [],
   "source": [
    "dataset = np.load(\"../data/qm9-esp10000.npz\")"
   ]
  },
  {
   "cell_type": "code",
   "execution_count": 29,
   "id": "903954e4-3ea7-4b4b-9c4c-49d6b67a740f",
   "metadata": {},
   "outputs": [
    {
     "data": {
      "text/plain": [
       "dict_keys(['R', 'Z', 'N', 'mono', 'esp', 'n_grid', 'vdw_surface'])"
      ]
     },
     "execution_count": 29,
     "metadata": {},
     "output_type": "execute_result"
    }
   ],
   "source": [
    "dict(dataset).keys()"
   ]
  },
  {
   "cell_type": "code",
   "execution_count": 30,
   "id": "08ab6061-ce3d-4446-b7d4-8c98dd56650a",
   "metadata": {},
   "outputs": [],
   "source": [
    "dataset2 = np.load(\"../data/qm9-esp20000.npz\")"
   ]
  },
  {
   "cell_type": "code",
   "execution_count": 31,
   "id": "2713a7e7-d305-4efe-8c22-899fd8e19b14",
   "metadata": {},
   "outputs": [
    {
     "data": {
      "text/plain": [
       "NpzFile '../data/qm9-esp20000.npz' with keys: R, Z, N, mono, esp..."
      ]
     },
     "execution_count": 31,
     "metadata": {},
     "output_type": "execute_result"
    }
   ],
   "source": [
    "dataset2"
   ]
  },
  {
   "cell_type": "code",
   "execution_count": 32,
   "id": "11dd1587-7456-4e16-b40d-551a09152bd1",
   "metadata": {},
   "outputs": [],
   "source": [
    "from rdkit.Chem import MolFromXYZBlock"
   ]
  },
  {
   "cell_type": "code",
   "execution_count": 92,
   "id": "32647af8-5433-4167-b4b9-f840cd332671",
   "metadata": {},
   "outputs": [],
   "source": [
    "def r_z_to_mol(R, Z):\n",
    "    # R /= 0.529177\n",
    "    # print(R)\n",
    "    nonzeros = np.where(Z != 0)[0]\n",
    "    n_atoms = len(R[nonzeros])\n",
    "    # n_atoms = len(R)#[nonzeros])\n",
    "    xyz = f\"{n_atoms}\\n\"\n",
    "    for i in range(n_atoms):\n",
    "        xyz += f\"\\n{ZtoName[Z[i]]} {R[i][0]:.3f} {R[i][1]:.3f} {R[i][2]:.3f}\"\n",
    "    # print(xyz)\n",
    "    return MolFromXYZBlock(xyz)\n",
    "        "
   ]
  },
  {
   "cell_type": "code",
   "execution_count": 93,
   "id": "3bf387fb-d9e2-450c-b4e6-09494fe57471",
   "metadata": {},
   "outputs": [],
   "source": [
    "mols = []\n",
    "smiles = []\n",
    "for i in range(len(dataset[\"Z\"])):\n",
    "    mol = r_z_to_mol(dataset[\"R\"][i], dataset[\"Z\"][i])\n",
    "    mols.append(mol)\n",
    "    if mol is not None:\n",
    "        smiles.append(Chem.MolToSmiles(mol))\n",
    "    else:\n",
    "        smiles.append(None)"
   ]
  },
  {
   "cell_type": "code",
   "execution_count": 94,
   "id": "e3ab7e43-a3e9-4db8-9528-f613cf5cbdfc",
   "metadata": {},
   "outputs": [],
   "source": [
    "mols2 = []\n",
    "smiles2 = []\n",
    "for i in range(len(dataset2[\"Z\"])):\n",
    "    mol = r_z_to_mol(dataset2[\"R\"][i], dataset2[\"Z\"][i])\n",
    "    mols2.append(mol)\n",
    "    if mol is not None:\n",
    "        smiles2.append(Chem.MolToSmiles(mol))\n",
    "    else:\n",
    "        smiles2.append(None)"
   ]
  },
  {
   "cell_type": "code",
   "execution_count": 85,
   "id": "27d66e93-fe6f-4128-b8a0-a878baf6ddb0",
   "metadata": {},
   "outputs": [
    {
     "data": {
      "text/plain": [
       "'C.O.[HH].[HH].[HH].[HH]'"
      ]
     },
     "execution_count": 85,
     "metadata": {},
     "output_type": "execute_result"
    }
   ],
   "source": [
    "\n"
   ]
  },
  {
   "cell_type": "code",
   "execution_count": 79,
   "id": "26073531-de2e-43d1-b983-195542b173bf",
   "metadata": {},
   "outputs": [
    {
     "data": {
      "text/plain": [
       "6"
      ]
     },
     "execution_count": 79,
     "metadata": {},
     "output_type": "execute_result"
    }
   ],
   "source": [
    "# dir(mol)\n",
    "mol.GetNumAtoms()"
   ]
  },
  {
   "cell_type": "code",
   "execution_count": 5,
   "id": "bb025192-e70a-4e2a-b8e2-a7cec007c745",
   "metadata": {},
   "outputs": [],
   "source": [
    "a = np.nonzero(dataset[\"mono\"].sum(axis=1).flatten())"
   ]
  },
  {
   "cell_type": "code",
   "execution_count": 6,
   "id": "99a40b99-de27-4137-85d6-74264d141748",
   "metadata": {},
   "outputs": [],
   "source": [
    "zeros = np.where(np.all(dataset[\"mono\"] == 0, axis=1))[0]"
   ]
  },
  {
   "cell_type": "code",
   "execution_count": 7,
   "id": "6df93f7f-fe4c-44ba-bcf2-8fdd22c078f4",
   "metadata": {},
   "outputs": [
    {
     "data": {
      "text/plain": [
       "(10000, 60, 1)"
      ]
     },
     "execution_count": 7,
     "metadata": {},
     "output_type": "execute_result"
    }
   ],
   "source": [
    "dataset[\"mono\"].shape"
   ]
  },
  {
   "cell_type": "code",
   "execution_count": 8,
   "id": "d6eaa69c-eab5-4a53-acb9-5be227d2253c",
   "metadata": {},
   "outputs": [
    {
     "name": "stdout",
     "output_type": "stream",
     "text": [
      "[   0    1    2 ... 9997 9998 9999]\n",
      "10000\n"
     ]
    }
   ],
   "source": [
    "# Total indices range\n",
    "total_indices = np.arange(dataset[\"mono\"].shape[0])\n",
    "\n",
    "# Find indices of non-zero arrays\n",
    "nonzeros_indices = np.setdiff1d(total_indices, zeros)\n",
    "\n",
    "print(nonzeros_indices)\n",
    "print(len(nonzeros_indices))"
   ]
  },
  {
   "cell_type": "code",
   "execution_count": 92,
   "id": "94a590ad-7ba9-4c17-9eda-f99438a7635d",
   "metadata": {},
   "outputs": [],
   "source": [
    "data_key, train_key = jax.random.split(jax.random.PRNGKey(0), 2)"
   ]
  },
  {
   "cell_type": "code",
   "execution_count": null,
   "id": "5d0b2278-2f08-499e-8c7c-fb042688e4ba",
   "metadata": {},
   "outputs": [],
   "source": [
    "def check_symmetric_and_traceless(Q):\n",
    "    \"\"\"\n",
    "    Check if the 3x3 matrix Q is symmetric and traceless.\n",
    "\n",
    "    Parameters:\n",
    "    Q : numpy.ndarray\n",
    "        The 3x3 matrix to be checked.\n",
    "\n",
    "    Returns:\n",
    "    tuple of bool\n",
    "        Returns (is_symmetric, is_traceless), where each is a boolean indicating the property.\n",
    "    \"\"\"\n",
    "    # Check symmetry: Q should be equal to its transpose\n",
    "    is_symmetric = np.allclose(Q, Q.T)\n",
    "    # Check traceless: Trace of Q should be zero\n",
    "    is_traceless = np.isclose(np.trace(Q), 0)\n",
    "\n",
    "    return (is_symmetric, is_traceless)\n",
    "\n",
    "\n",
    "def make_traceless(Q):\n",
    "    \"\"\"\n",
    "    Adjust the diagonal elements of a 3x3 matrix Q to make it traceless.\n",
    "\n",
    "    Parameters:\n",
    "    Q : numpy.ndarray\n",
    "        The 3x3 matrix to be adjusted.\n",
    "\n",
    "    Returns:\n",
    "    numpy.ndarray\n",
    "        The adjusted 3x3 matrix that is traceless.\n",
    "    \"\"\"\n",
    "    trace_Q = np.trace(Q)\n",
    "    correction = trace_Q / 3\n",
    "    Q_traceless = Q.copy()\n",
    "    np.fill_diagonal(Q_traceless, Q_traceless.diagonal() - correction)\n",
    "\n",
    "    return Q_traceless"
   ]
  },
  {
   "cell_type": "code",
   "execution_count": 203,
   "id": "941a780f-3625-4099-90a4-e1bb85d484ae",
   "metadata": {},
   "outputs": [
    {
     "name": "stdout",
     "output_type": "stream",
     "text": [
      "[-1.2411975   0.00352836  0.01873389 -1.2184871  -0.01744576 -1.2551148 ]\n",
      "(3, 3)\n",
      "(3, 3)\n",
      "(2, 3, 3)\n",
      "[[[-1.2411975   0.00352836  0.01873389]\n",
      "  [ 0.00352836 -1.2184871  -0.01744576]\n",
      "  [ 0.01873389 -0.01744576 -1.2551148 ]]\n",
      "\n",
      " [[-1.2411975   0.00352836  0.01873389]\n",
      "  [ 0.00352836 -1.2184871  -0.01744576]\n",
      "  [ 0.01873389 -0.01744576 -1.2551148 ]]]\n",
      "[[[-0.002931    0.00352836  0.01873389]\n",
      "  [ 0.00352836  0.01977932 -0.01744576]\n",
      "  [ 0.01873389 -0.01744576 -0.01684833]]\n",
      "\n",
      " [[-0.002931    0.00352836  0.01873389]\n",
      "  [ 0.00352836  0.01977932 -0.01744576]\n",
      "  [ 0.01873389 -0.01744576 -0.01684833]]]\n",
      "---\n",
      "[[[[-1.2411975   0.00352836  0.01873389]\n",
      "   [ 0.00352836 -1.2184871  -0.01744576]\n",
      "   [ 0.01873389 -0.01744576 -1.2551148 ]]\n",
      "\n",
      "  [[-1.2411975   0.00352836  0.01873389]\n",
      "   [ 0.00352836 -1.2184871  -0.01744576]\n",
      "   [ 0.01873389 -0.01744576 -1.2551148 ]]]\n",
      "\n",
      "\n",
      " [[[-1.2411975   0.00352836  0.01873389]\n",
      "   [ 0.00352836 -1.2184871  -0.01744576]\n",
      "   [ 0.01873389 -0.01744576 -1.2551148 ]]\n",
      "\n",
      "  [[-1.2411975   0.00352836  0.01873389]\n",
      "   [ 0.00352836 -1.2184871  -0.01744576]\n",
      "   [ 0.01873389 -0.01744576 -1.2551148 ]]]]\n"
     ]
    },
    {
     "data": {
      "text/plain": [
       "Array([[[[-0.002931  ,  0.00352836,  0.01873389],\n",
       "         [ 0.00352836,  0.01977932, -0.01744576],\n",
       "         [ 0.01873389, -0.01744576, -0.01684833]],\n",
       "\n",
       "        [[-0.002931  ,  0.00352836,  0.01873389],\n",
       "         [ 0.00352836,  0.01977932, -0.01744576],\n",
       "         [ 0.01873389, -0.01744576, -0.01684833]]],\n",
       "\n",
       "\n",
       "       [[[-0.002931  ,  0.00352836,  0.01873389],\n",
       "         [ 0.00352836,  0.01977932, -0.01744576],\n",
       "         [ 0.01873389, -0.01744576, -0.01684833]],\n",
       "\n",
       "        [[-0.002931  ,  0.00352836,  0.01873389],\n",
       "         [ 0.00352836,  0.01977932, -0.01744576],\n",
       "         [ 0.01873389, -0.01744576, -0.01684833]]]], dtype=float32)"
      ]
     },
     "execution_count": 203,
     "metadata": {},
     "output_type": "execute_result"
    }
   ],
   "source": [
    "from jax import vmap\n",
    "\n",
    "def make_traceless(Q):\n",
    "    trace_Q = jnp.trace(Q, axis1=0, axis2=1)  # Correct axis for trace\n",
    "    correction = trace_Q / 3\n",
    "    Q_traceless = Q - jnp.expand_dims(jnp.eye(3) * correction, axis=0)  # Correct shape broadcasting\n",
    "    return Q_traceless.squeeze()\n",
    "\n",
    "# Vectorized over each matrix in the 60 matrices group\n",
    "vectorized_over_matrices = vmap(make_traceless, in_axes=(0), out_axes=(0))\n",
    "\n",
    "# Then vectorize over the 10000 samples\n",
    "batch_make_traceless = vmap(vectorized_over_matrices, in_axes=0, out_axes=0)\n",
    "\n",
    "# (xx, xy, xz, yy, yz, zz)\n",
    "\n",
    "# xx xy xz\n",
    "# xy yy yz\n",
    "# xz yz zz\n",
    "quad = np.array([-1.2411975 ,  0.00352836,  0.01873389, -1.2184871 , -0.01744576,\n",
    "       -1.2551148 ])\n",
    "print(quad)\n",
    "quad_3_3 = np.array([ [quad[0], quad[1], quad[2]] ,\n",
    "[quad[1], quad[3], quad[4]],\n",
    "[quad[2], quad[4], quad[5]],])\n",
    "\n",
    "print(quad_3_3.shape)\n",
    "\n",
    "# quad_3_3 = make_traceless(quad_3_3)\n",
    "print(quad_3_3.shape)\n",
    "repeated = np.tile(quad_3_3, (2,1,1))\n",
    "print(repeated.shape)\n",
    "print(repeated)\n",
    "print(vectorized_over_matrices(repeated))\n",
    "repeated_again = np.tile(repeated, (2,1,1,1))\n",
    "print(\"---\")\n",
    "print(repeated_again)\n",
    "batch_make_traceless(repeated_again)"
   ]
  },
  {
   "cell_type": "code",
   "execution_count": 204,
   "id": "7e6ec61e-a323-4cc3-8298-90f050e7cd86",
   "metadata": {},
   "outputs": [],
   "source": [
    "def prepare_datasets(key, num_train, num_valid, filename=\"mulitpoles766000.npz\"):\n",
    "  # Load the dataset.\n",
    "  dataset = np.load(filename)\n",
    "    \n",
    "  for k,v in dataset.items():\n",
    "      print(k, v.shape)\n",
    "\n",
    "  num_data = len(dataset[\"mono\"])\n",
    "  nonzeros = np.where(np.all(dataset[\"mono\"] == 0, axis=1))[0]\n",
    "  total_indices = np.arange(num_data)\n",
    "  # Find indices of non-zero arrays\n",
    "  nonzeros = np.setdiff1d(total_indices, zeros)\n",
    "  \n",
    "  dataF =   dataset['F'][nonzeros]\n",
    "  dataR =   dataset['R'][nonzeros]\n",
    "  dataZ =   dataset['Z'][nonzeros]\n",
    "  dataMono =   dataset['mono'][nonzeros]\n",
    "  dataDip = dataset['dip'][nonzeros]\n",
    "  dataQuad = dataset['quad'][nonzeros]\n",
    "    \n",
    "\n",
    "  indices = np.array([0, 1, 2, 1, 3, 4, 2, 4, 5])\n",
    "  quad_3_3 = dataQuad[:,:,indices].reshape(dataQuad.shape[0], dataQuad.shape[1], 3, 3)\n",
    "  print(quad_3_3.shape)\n",
    "  traceless = batch_make_traceless(quad_3_3)\n",
    "  dataQuadIrrep = e3x.so3.irreps.tensor_to_irreps(traceless, 2)\n",
    "    \n",
    "  # Make sure that the dataset contains enough entries.\n",
    "  num_data = len(dataR)\n",
    "  print(num_data)\n",
    "  num_draw = num_train + num_valid\n",
    "  if num_draw > num_data:\n",
    "    raise RuntimeError(\n",
    "      f'datasets only contains {num_data} points, requested num_train={num_train}, num_valid={num_valid}')\n",
    "\n",
    "  # Randomly draw train and validation sets from dataset.\n",
    "  choice = np.asarray(jax.random.choice(key, num_data, shape=(num_draw,), replace=False))\n",
    "  train_choice = choice[:num_train]\n",
    "  valid_choice = choice[num_train:]\n",
    "\n",
    "  # atomic_numbers = jnp.tile(dataset['z'], num_data).reshape((num_data, len(dataset[\"z\"])))\n",
    "  atomic_numbers = dataZ\n",
    "    \n",
    "  # Determine mean energy of the training set.\n",
    "  # mean_energy = np.mean(dataset['E'][train_choice])  # ~ -97000\n",
    "  mean_energy = 0\n",
    "\n",
    "  # Collect and return train and validation sets.\n",
    "  train_data = dict(\n",
    "    # energy=jnp.asarray(dataset['E'][train_choice] - mean_energy),\n",
    "    # forces=jnp.asarray(dataF[train_choice]),\n",
    "    atomic_numbers=jnp.asarray(atomic_numbers[train_choice]),\n",
    "    positions=jnp.asarray(dataR[train_choice]),\n",
    "    mono=jnp.asarray(dataMono[train_choice]),\n",
    "    dipo=jnp.asarray(dataDip[train_choice]),\n",
    "    quad=jnp.asarray(dataQuadIrrep[train_choice]),\n",
    "  )\n",
    "  valid_data = dict(\n",
    "    # energy=jnp.asarray(dataset['E'][valid_choice] - mean_energy),\n",
    "    # forces=jnp.asarray(dataF[valid_choice]),\n",
    "    atomic_numbers=jnp.asarray(atomic_numbers[valid_choice]),\n",
    "    positions=jnp.asarray(dataR[valid_choice]),\n",
    "    mono=jnp.asarray(dataMono[valid_choice]),\n",
    "    dipo=jnp.asarray(dataDip[valid_choice]),\n",
    "    quad=jnp.asarray(dataQuadIrrep[valid_choice]),\n",
    "  )\n",
    "  print(\"...\")\n",
    "  print(\"...\")\n",
    "  for k,v in train_data.items():\n",
    "      print(k, v.shape)\n",
    "  print(\"...\")\n",
    "  for k,v in valid_data.items():\n",
    "      print(k, v.shape)\n",
    "      \n",
    "  return train_data, valid_data, mean_energy"
   ]
  },
  {
   "cell_type": "code",
   "execution_count": 262,
   "id": "4bd6e1b1-9c9e-4fe8-aadb-ac1eb4df8116",
   "metadata": {},
   "outputs": [],
   "source": [
    "class QuadrupoleModel(nn.Module):\n",
    "  features: int = 32\n",
    "  max_degree: int = 2\n",
    "  num_iterations: int = 3\n",
    "  num_basis_functions: int = 8\n",
    "  cutoff: float = 5.0\n",
    "  max_atomic_number: int = 17  \n",
    "\n",
    "\n",
    "  def mono(self, atomic_numbers, positions, dst_idx, src_idx, batch_segments, batch_size):\n",
    "    # 1. Calculate displacement vectors.\n",
    "    positions_dst = e3x.ops.gather_dst(positions, dst_idx=dst_idx)\n",
    "    positions_src = e3x.ops.gather_src(positions, src_idx=src_idx)\n",
    "    displacements = positions_src - positions_dst  # Shape (num_pairs, 3).\n",
    "\n",
    "    # 2. Expand displacement vectors in basis functions.\n",
    "    basis = e3x.nn.basis(  # Shape (num_pairs, 1, (max_degree+1)**2, num_basis_functions).\n",
    "      displacements,\n",
    "      num=self.num_basis_functions,\n",
    "      max_degree=self.max_degree,\n",
    "      radial_fn=e3x.nn.reciprocal_bernstein,\n",
    "      cutoff_fn=functools.partial(e3x.nn.smooth_cutoff, cutoff=self.cutoff)\n",
    "    )\n",
    "\n",
    "    # 3. Embed atomic numbers in feature space, x has shape (num_atoms, 1, 1, features).\n",
    "    x = e3x.nn.Embed(num_embeddings=self.max_atomic_number+1, features=self.features)(atomic_numbers)\n",
    "\n",
    "    # 4. Perform iterations (message-passing + atom-wise refinement).\n",
    "    for i in range(self.num_iterations):\n",
    "      # Message-pass.\n",
    "      if i == self.num_iterations-1:  # Final iteration.\n",
    "        # Since we will only use scalar features after the final message-pass, we do not want to produce non-scalar\n",
    "        # features for efficiency reasons.\n",
    "        y = e3x.nn.MessagePass(max_degree=max_degree,\n",
    "                               include_pseudotensors=False)(x, basis,\n",
    "                                                            dst_idx=dst_idx, \n",
    "                                                            src_idx=src_idx)\n",
    "        # After the final message pass, we can safely throw away all non-scalar features.\n",
    "        x = e3x.nn.change_max_degree_or_type(x, max_degree=max_degree, include_pseudotensors=False)\n",
    "      else:\n",
    "        # In intermediate iterations, the message-pass should consider all possible coupling paths.\n",
    "        y = e3x.nn.MessagePass()(x, basis, dst_idx=dst_idx, src_idx=src_idx)\n",
    "          \n",
    "      y = e3x.nn.add(x, y)\n",
    "      # Atom-wise refinement MLP.\n",
    "      y = e3x.nn.Dense(self.features)(y)\n",
    "      y = e3x.nn.silu(y)\n",
    "      y = e3x.nn.Dense(self.features, kernel_init=jax.nn.initializers.zeros)(y)\n",
    "      # Residual connection.\n",
    "      x = e3x.nn.add(x, y)\n",
    "\n",
    "    atomic_quad = e3x.nn.TensorDense(  \n",
    "        features=self.features,\n",
    "        max_degree=2, \n",
    "        include_pseudotensors=False,\n",
    "    )(x)\n",
    "    atomic_quad = e3x.nn.silu(atomic_quad)\n",
    "    atomic_quad = jnp.sum(atomic_quad, axis=-1)[:,0,4:]\n",
    "\n",
    "    return atomic_quad\n",
    "\n",
    "\n",
    "  @nn.compact\n",
    "  def __call__(self, atomic_numbers, positions, dst_idx, src_idx, batch_segments=None, batch_size=None):\n",
    "    if batch_segments is None:\n",
    "      batch_segments = jnp.zeros_like(atomic_numbers)\n",
    "      batch_size = 1\n",
    "\n",
    "    return self.mono(atomic_numbers, positions, dst_idx, src_idx, batch_segments, batch_size)"
   ]
  },
  {
   "cell_type": "code",
   "execution_count": 263,
   "id": "0d53b431-bdb0-48f1-b6cb-3b29fa7d677b",
   "metadata": {},
   "outputs": [],
   "source": [
    "def prepare_batches(key, data, batch_size):\n",
    "  # Determine the number of training steps per epoch.\n",
    "  data_size = len(data['mono'])\n",
    "  steps_per_epoch = data_size//batch_size\n",
    "\n",
    "  # Draw random permutations for fetching batches from the train data.\n",
    "  perms = jax.random.permutation(key, data_size)\n",
    "  perms = perms[:steps_per_epoch * batch_size]  # Skip the last batch (if incomplete).\n",
    "  perms = perms.reshape((steps_per_epoch, batch_size))\n",
    "\n",
    "  # Prepare entries that are identical for each batch.\n",
    "  num_atoms = len(data['atomic_numbers'][0])\n",
    "  batch_segments = jnp.repeat(jnp.arange(batch_size), num_atoms)\n",
    "  # atomic_numbers = jnp.tile(data['atomic_numbers'], batch_size)\n",
    "  offsets = jnp.arange(batch_size) * num_atoms\n",
    "  dst_idx, src_idx = e3x.ops.sparse_pairwise_indices(num_atoms)\n",
    "  dst_idx = (dst_idx + offsets[:, None]).reshape(-1)\n",
    "  src_idx = (src_idx + offsets[:, None]).reshape(-1)\n",
    "\n",
    "  # Assemble and return batches.\n",
    "  return [\n",
    "    dict(\n",
    "        quad=data['quad'][perm].reshape(-1, 5),\n",
    "        atomic_numbers=data[\"atomic_numbers\"][perm].reshape(-1),\n",
    "        positions=data['positions'][perm].reshape(-1, 3),\n",
    "        dst_idx=dst_idx,\n",
    "        src_idx=src_idx,\n",
    "        batch_segments = batch_segments,\n",
    "    )\n",
    "    for perm in perms\n",
    "  ]"
   ]
  },
  {
   "cell_type": "code",
   "execution_count": 264,
   "id": "a8c8b90b-1ba3-41e6-80f7-a0a4443be34f",
   "metadata": {},
   "outputs": [],
   "source": [
    "def mean_squared_loss(quad_prediction, quad_target, batch_size):\n",
    "  # print(\"pred\", quad_prediction.shape)\n",
    "  # print(\"target\", quad_target.shape)\n",
    "  nonzero = jnp.nonzero(quad_prediction, size=batch_size*60)\n",
    "  quad_rmse = jnp.mean(optax.l2_loss(quad_prediction[nonzero], quad_target[nonzero]))\n",
    "  return quad_rmse * 1000\n",
    "\n",
    "\n",
    "def mean_absolute_error(prediction, target,batch_size):\n",
    "  nonzero = jnp.nonzero(target, size=batch_size*60)\n",
    "  return jnp.mean(jnp.abs(prediction[nonzero] - target[nonzero]))"
   ]
  },
  {
   "cell_type": "code",
   "execution_count": 265,
   "id": "f47787bc-b12b-4a1a-8ce3-6b7fb0b12a3c",
   "metadata": {},
   "outputs": [],
   "source": [
    "@functools.partial(jax.jit, static_argnames=('model_apply', 'optimizer_update', 'batch_size'))\n",
    "def train_step(model_apply, optimizer_update, batch, batch_size, opt_state, params):\n",
    "    \n",
    "  def loss_fn(params):\n",
    "    quad = model_apply(\n",
    "      params,\n",
    "      atomic_numbers=batch['atomic_numbers'],\n",
    "      positions=batch['positions'],\n",
    "      dst_idx=batch['dst_idx'],\n",
    "      src_idx=batch['src_idx'],\n",
    "      batch_segments=batch['batch_segments'],\n",
    "      batch_size=batch_size\n",
    "    )\n",
    "    loss = mean_squared_loss(\n",
    "      quad_prediction=quad,\n",
    "      quad_target=batch['quad'],\n",
    "      batch_size = batch_size\n",
    "    )\n",
    "    return loss, quad\n",
    "      \n",
    "  (loss, (quad)), grad = jax.value_and_grad(loss_fn, has_aux=True)(params)\n",
    "  updates, opt_state = optimizer_update(grad, opt_state, params)\n",
    "  params = optax.apply_updates(params, updates)\n",
    "  quad_mae = mean_absolute_error(quad, batch['quad'], batch_size)\n",
    "  return params, opt_state, loss, quad_mae\n",
    "\n",
    "\n",
    "@functools.partial(jax.jit, static_argnames=('model_apply', 'batch_size'))\n",
    "def eval_step(model_apply, batch, batch_size, params):\n",
    "\n",
    "    quad = model_apply(\n",
    "      params,\n",
    "      atomic_numbers=batch['atomic_numbers'],\n",
    "      positions=batch['positions'],\n",
    "      dst_idx=batch['dst_idx'],\n",
    "      src_idx=batch['src_idx'],\n",
    "      batch_segments=batch['batch_segments'],\n",
    "      batch_size=batch_size\n",
    "    )\n",
    "    loss = mean_squared_loss(\n",
    "      quad_prediction=quad,\n",
    "      quad_target=batch['quad'],\n",
    "      batch_size = batch_size\n",
    "    )\n",
    "    quad_mae = mean_absolute_error(quad, batch['quad'], batch_size)\n",
    "    return loss, quad_mae\n",
    "\n",
    "\n",
    "def train_model(key, model, train_data, valid_data, num_epochs, learning_rate, batch_size,\n",
    "               restart=None):\n",
    "  # Initialize model parameters and optimizer state.\n",
    "  key, init_key = jax.random.split(key)\n",
    "  optimizer = optax.adam(learning_rate)\n",
    "  dst_idx, src_idx = e3x.ops.sparse_pairwise_indices(len(train_data['atomic_numbers'][0]))\n",
    "  params = model.init(init_key,\n",
    "    atomic_numbers=train_data['atomic_numbers'][0],\n",
    "    positions=train_data['positions'][0],\n",
    "    dst_idx=dst_idx,\n",
    "    src_idx=src_idx,\n",
    "  )\n",
    "  if restart is not None:\n",
    "      params = restart\n",
    "  opt_state = optimizer.init(params)\n",
    "\n",
    "  print(\"Preparaing batches\")\n",
    "  print(\"..................\")\n",
    "  # Batches for the validation set need to be prepared only once.\n",
    "  key, shuffle_key = jax.random.split(key)\n",
    "  valid_batches = prepare_batches(shuffle_key, valid_data, batch_size)\n",
    "\n",
    "  # Train for 'num_epochs' epochs.\n",
    "  for epoch in range(1, num_epochs + 1):\n",
    "    # Prepare batches.\n",
    "    key, shuffle_key = jax.random.split(key)\n",
    "    train_batches = prepare_batches(shuffle_key, train_data, batch_size)\n",
    "\n",
    "    # Loop over train batches.\n",
    "    train_loss = 0.0\n",
    "    train_quad_mae = 0.0\n",
    "\n",
    "    for i, batch in enumerate(train_batches):\n",
    "      params, opt_state, loss, quad_mae = train_step(\n",
    "        model_apply=model.apply,\n",
    "        optimizer_update=optimizer.update,\n",
    "        batch=batch,\n",
    "        batch_size=batch_size,\n",
    "        opt_state=opt_state,\n",
    "        params=params\n",
    "      )\n",
    "      train_loss += (loss - train_loss)/(i+1)\n",
    "      train_quad_mae += (quad_mae - train_quad_mae)/(i+1)\n",
    "\n",
    "    # Evaluate on validation set.\n",
    "    valid_loss = 0.0\n",
    "    valid_quad_mae = 0.0\n",
    "    for i, batch in enumerate(valid_batches):\n",
    "      loss, quad_mae = eval_step(\n",
    "        model_apply=model.apply,\n",
    "        batch=batch,\n",
    "        batch_size=batch_size,\n",
    "        params=params\n",
    "      )\n",
    "      valid_loss += (loss - valid_loss)/(i+1)\n",
    "      valid_quad_mae += (quad_mae - valid_quad_mae)/(i+1)\n",
    "        \n",
    "    # Print progress.\n",
    "    print(f\"epoch: {epoch: 3d}                    train:   valid:\")\n",
    "    print(f\"    loss [a.u.]             {train_loss : 8.3f} {valid_loss : 8.3f}\")\n",
    "    print(f\"    quad mae [kcal/mol]   {train_quad_mae: 8.3f} {valid_quad_mae: 8.3f}\")\n",
    "\n",
    "  # Return final model parameters.\n",
    "  return params"
   ]
  },
  {
   "cell_type": "code",
   "execution_count": 270,
   "id": "fcbc4e98-1515-4fac-95e1-78de281fe3f0",
   "metadata": {},
   "outputs": [],
   "source": [
    "# Model hyperparameters.\n",
    "features = 16\n",
    "max_degree = 2\n",
    "num_iterations = 3\n",
    "num_basis_functions = 16\n",
    "cutoff = 5.0\n",
    "\n",
    "# Training hyperparameters.\n",
    "# num_valid = 1000\n",
    "# num_train = 10000 - num_valid\n",
    "num_epochs = 20\n",
    "learning_rate = 0.0001\n",
    "batch_size = 32"
   ]
  },
  {
   "cell_type": "code",
   "execution_count": 283,
   "id": "8053b5a0-07ff-44c5-90d7-29e5e28a8ccb",
   "metadata": {},
   "outputs": [
    {
     "name": "stdout",
     "output_type": "stream",
     "text": [
      "R (10000, 60, 3)\n",
      "Z (10000, 60)\n",
      "N (766110,)\n",
      "F (10000, 60, 3)\n",
      "mono (10000, 60, 1)\n",
      "dip (10000, 60, 3)\n",
      "quad (10000, 60, 6)\n",
      "(10000, 60, 6)\n",
      "(10000, 60, 3, 3)\n",
      "10000\n",
      "...\n",
      "...\n",
      "atomic_numbers (9680, 60)\n",
      "positions (9680, 60, 3)\n",
      "mono (9680, 60, 1)\n",
      "dipo (9680, 60, 3)\n",
      "quad (9680, 60, 5)\n",
      "...\n",
      "atomic_numbers (320, 60)\n",
      "positions (320, 60, 3)\n",
      "mono (320, 60, 1)\n",
      "dipo (320, 60, 3)\n",
      "quad (320, 60, 5)\n"
     ]
    }
   ],
   "source": [
    "train_data, valid_data, mean_energy = prepare_datasets(data_key, 10000-320, 320, \n",
    "                                                       filename=\"../data/mulitpoles10000.npz\")"
   ]
  },
  {
   "cell_type": "code",
   "execution_count": 284,
   "id": "64bfc6a3-49dc-4ed6-ac9a-0d56ee1d2fa0",
   "metadata": {},
   "outputs": [
    {
     "data": {
      "text/plain": [
       "(9680, 60, 5)"
      ]
     },
     "execution_count": 284,
     "metadata": {},
     "output_type": "execute_result"
    }
   ],
   "source": [
    "train_data[\"quad\"].shape"
   ]
  },
  {
   "cell_type": "code",
   "execution_count": 271,
   "id": "68d673a9-4e61-42de-9567-8646a49efa96",
   "metadata": {},
   "outputs": [
    {
     "data": {
      "text/plain": [
       "[cuda(id=0)]"
      ]
     },
     "execution_count": 271,
     "metadata": {},
     "output_type": "execute_result"
    }
   ],
   "source": [
    "jax.default_backend()\n",
    "jax.devices()\n"
   ]
  },
  {
   "cell_type": "code",
   "execution_count": 272,
   "id": "5686f346-a1e8-4d66-b07f-c054e90628d8",
   "metadata": {},
   "outputs": [],
   "source": [
    "# Create and train model.\n",
    "message_passing_model = QuadrupoleModel(\n",
    "  features=features,\n",
    "  max_degree=max_degree,\n",
    "  num_iterations=num_iterations,\n",
    "  num_basis_functions=num_basis_functions,\n",
    "  cutoff=cutoff,\n",
    ")"
   ]
  },
  {
   "cell_type": "code",
   "execution_count": 285,
   "id": "cc8c1ecf-3f0e-42d4-a9f9-79a62c17679d",
   "metadata": {
    "scrolled": true
   },
   "outputs": [
    {
     "name": "stdout",
     "output_type": "stream",
     "text": [
      "Preparaing batches\n",
      "..................\n",
      "epoch:   1                    train:   valid:\n",
      "    loss [a.u.]                0.110    0.085\n",
      "    quad mae [kcal/mol]      0.011    0.009\n",
      "epoch:   2                    train:   valid:\n",
      "    loss [a.u.]                0.078    0.071\n",
      "    quad mae [kcal/mol]      0.009    0.008\n",
      "epoch:   3                    train:   valid:\n",
      "    loss [a.u.]                0.068    0.065\n",
      "    quad mae [kcal/mol]      0.008    0.008\n",
      "epoch:   4                    train:   valid:\n",
      "    loss [a.u.]                0.064    0.060\n",
      "    quad mae [kcal/mol]      0.008    0.007\n",
      "epoch:   5                    train:   valid:\n",
      "    loss [a.u.]                0.058    0.056\n",
      "    quad mae [kcal/mol]      0.007    0.007\n",
      "epoch:   6                    train:   valid:\n",
      "    loss [a.u.]                0.055    0.052\n",
      "    quad mae [kcal/mol]      0.007    0.007\n",
      "epoch:   7                    train:   valid:\n",
      "    loss [a.u.]                0.051    0.050\n",
      "    quad mae [kcal/mol]      0.007    0.007\n",
      "epoch:   8                    train:   valid:\n",
      "    loss [a.u.]                0.049    0.048\n",
      "    quad mae [kcal/mol]      0.007    0.007\n",
      "epoch:   9                    train:   valid:\n",
      "    loss [a.u.]                0.048    0.047\n",
      "    quad mae [kcal/mol]      0.007    0.007\n",
      "epoch:  10                    train:   valid:\n",
      "    loss [a.u.]                0.046    0.045\n",
      "    quad mae [kcal/mol]      0.007    0.007\n",
      "epoch:  11                    train:   valid:\n",
      "    loss [a.u.]                0.045    0.044\n",
      "    quad mae [kcal/mol]      0.007    0.007\n",
      "epoch:  12                    train:   valid:\n",
      "    loss [a.u.]                0.042    0.041\n",
      "    quad mae [kcal/mol]      0.007    0.007\n",
      "epoch:  13                    train:   valid:\n",
      "    loss [a.u.]                0.040    0.041\n",
      "    quad mae [kcal/mol]      0.007    0.007\n",
      "epoch:  14                    train:   valid:\n",
      "    loss [a.u.]                0.039    0.038\n",
      "    quad mae [kcal/mol]      0.007    0.007\n",
      "epoch:  15                    train:   valid:\n",
      "    loss [a.u.]                0.037    0.036\n",
      "    quad mae [kcal/mol]      0.007    0.006\n",
      "epoch:  16                    train:   valid:\n",
      "    loss [a.u.]                0.036    0.036\n",
      "    quad mae [kcal/mol]      0.007    0.006\n",
      "epoch:  17                    train:   valid:\n",
      "    loss [a.u.]                0.034    0.035\n",
      "    quad mae [kcal/mol]      0.006    0.006\n",
      "epoch:  18                    train:   valid:\n",
      "    loss [a.u.]                0.034    0.034\n",
      "    quad mae [kcal/mol]      0.006    0.006\n",
      "epoch:  19                    train:   valid:\n",
      "    loss [a.u.]                0.033    0.033\n",
      "    quad mae [kcal/mol]      0.006    0.006\n",
      "epoch:  20                    train:   valid:\n",
      "    loss [a.u.]                0.032    0.032\n",
      "    quad mae [kcal/mol]      0.006    0.006\n"
     ]
    }
   ],
   "source": [
    "params = train_model(\n",
    "  key=train_key,\n",
    "  model=message_passing_model,\n",
    "  train_data=train_data,\n",
    "  valid_data=valid_data,\n",
    "  num_epochs=num_epochs,\n",
    "  learning_rate=learning_rate,\n",
    "  batch_size=batch_size,\n",
    ")"
   ]
  },
  {
   "cell_type": "code",
   "execution_count": 286,
   "id": "f68816bb-faff-4e41-88a1-b66008fdd98c",
   "metadata": {},
   "outputs": [],
   "source": [
    "import pickle\n",
    "# open a file, where you ant to store the data\n",
    "with open('quad_params.pkl', 'wb') as file:\n",
    "    pickle.dump(params, file)"
   ]
  },
  {
   "cell_type": "code",
   "execution_count": 304,
   "id": "bb296ce4-afbf-40a8-9f7b-027f5072b6dd",
   "metadata": {
    "scrolled": true
   },
   "outputs": [
    {
     "name": "stdout",
     "output_type": "stream",
     "text": [
      "Preparaing batches\n",
      "..................\n",
      "epoch:   1                    train:   valid:\n",
      "    loss [a.u.]                0.031    0.031\n",
      "    quad mae [kcal/mol]      0.006    0.006\n",
      "epoch:   2                    train:   valid:\n",
      "    loss [a.u.]                0.030    0.030\n",
      "    quad mae [kcal/mol]      0.006    0.006\n",
      "epoch:   3                    train:   valid:\n",
      "    loss [a.u.]                0.030    0.030\n",
      "    quad mae [kcal/mol]      0.006    0.006\n",
      "epoch:   4                    train:   valid:\n",
      "    loss [a.u.]                0.030    0.029\n",
      "    quad mae [kcal/mol]      0.006    0.006\n",
      "epoch:   5                    train:   valid:\n",
      "    loss [a.u.]                0.029    0.029\n",
      "    quad mae [kcal/mol]      0.006    0.006\n",
      "epoch:   6                    train:   valid:\n",
      "    loss [a.u.]                0.028    0.028\n",
      "    quad mae [kcal/mol]      0.006    0.006\n",
      "epoch:   7                    train:   valid:\n",
      "    loss [a.u.]                0.027    0.027\n",
      "    quad mae [kcal/mol]      0.006    0.006\n",
      "epoch:   8                    train:   valid:\n",
      "    loss [a.u.]                0.026    0.027\n",
      "    quad mae [kcal/mol]      0.006    0.006\n",
      "epoch:   9                    train:   valid:\n",
      "    loss [a.u.]                0.026    0.026\n",
      "    quad mae [kcal/mol]      0.006    0.006\n",
      "epoch:  10                    train:   valid:\n",
      "    loss [a.u.]                0.026    0.026\n",
      "    quad mae [kcal/mol]      0.006    0.006\n",
      "epoch:  11                    train:   valid:\n",
      "    loss [a.u.]                0.025    0.026\n",
      "    quad mae [kcal/mol]      0.006    0.006\n",
      "epoch:  12                    train:   valid:\n",
      "    loss [a.u.]                0.024    0.025\n",
      "    quad mae [kcal/mol]      0.006    0.006\n",
      "epoch:  13                    train:   valid:\n",
      "    loss [a.u.]                0.025    0.025\n",
      "    quad mae [kcal/mol]      0.006    0.005\n",
      "epoch:  14                    train:   valid:\n",
      "    loss [a.u.]                0.025    0.024\n",
      "    quad mae [kcal/mol]      0.006    0.005\n",
      "epoch:  15                    train:   valid:\n",
      "    loss [a.u.]                0.024    0.024\n",
      "    quad mae [kcal/mol]      0.005    0.005\n",
      "epoch:  16                    train:   valid:\n",
      "    loss [a.u.]                0.024    0.024\n",
      "    quad mae [kcal/mol]      0.005    0.005\n",
      "epoch:  17                    train:   valid:\n",
      "    loss [a.u.]                0.023    0.024\n",
      "    quad mae [kcal/mol]      0.005    0.005\n",
      "epoch:  18                    train:   valid:\n",
      "    loss [a.u.]                0.023    0.023\n",
      "    quad mae [kcal/mol]      0.005    0.005\n",
      "epoch:  19                    train:   valid:\n",
      "    loss [a.u.]                0.023    0.023\n",
      "    quad mae [kcal/mol]      0.005    0.005\n",
      "epoch:  20                    train:   valid:\n",
      "    loss [a.u.]                0.023    0.023\n",
      "    quad mae [kcal/mol]      0.005    0.005\n",
      "epoch:  21                    train:   valid:\n",
      "    loss [a.u.]                0.023    0.023\n",
      "    quad mae [kcal/mol]      0.005    0.005\n",
      "epoch:  22                    train:   valid:\n",
      "    loss [a.u.]                0.022    0.022\n",
      "    quad mae [kcal/mol]      0.005    0.005\n",
      "epoch:  23                    train:   valid:\n",
      "    loss [a.u.]                0.022    0.022\n",
      "    quad mae [kcal/mol]      0.005    0.005\n",
      "epoch:  24                    train:   valid:\n",
      "    loss [a.u.]                0.022    0.022\n",
      "    quad mae [kcal/mol]      0.005    0.005\n",
      "epoch:  25                    train:   valid:\n",
      "    loss [a.u.]                0.022    0.023\n",
      "    quad mae [kcal/mol]      0.005    0.005\n",
      "epoch:  26                    train:   valid:\n",
      "    loss [a.u.]                0.021    0.022\n",
      "    quad mae [kcal/mol]      0.005    0.005\n",
      "epoch:  27                    train:   valid:\n",
      "    loss [a.u.]                0.021    0.022\n",
      "    quad mae [kcal/mol]      0.005    0.005\n",
      "epoch:  28                    train:   valid:\n",
      "    loss [a.u.]                0.021    0.022\n",
      "    quad mae [kcal/mol]      0.005    0.005\n",
      "epoch:  29                    train:   valid:\n",
      "    loss [a.u.]                0.021    0.022\n",
      "    quad mae [kcal/mol]      0.005    0.005\n",
      "epoch:  30                    train:   valid:\n",
      "    loss [a.u.]                0.021    0.021\n",
      "    quad mae [kcal/mol]      0.005    0.005\n",
      "epoch:  31                    train:   valid:\n",
      "    loss [a.u.]                0.021    0.021\n",
      "    quad mae [kcal/mol]      0.005    0.005\n",
      "epoch:  32                    train:   valid:\n",
      "    loss [a.u.]                0.021    0.021\n",
      "    quad mae [kcal/mol]      0.005    0.005\n",
      "epoch:  33                    train:   valid:\n",
      "    loss [a.u.]                0.021    0.021\n",
      "    quad mae [kcal/mol]      0.005    0.005\n",
      "epoch:  34                    train:   valid:\n",
      "    loss [a.u.]                0.021    0.021\n",
      "    quad mae [kcal/mol]      0.005    0.005\n",
      "epoch:  35                    train:   valid:\n",
      "    loss [a.u.]                0.020    0.021\n",
      "    quad mae [kcal/mol]      0.005    0.005\n",
      "epoch:  36                    train:   valid:\n",
      "    loss [a.u.]                0.021    0.021\n",
      "    quad mae [kcal/mol]      0.005    0.005\n",
      "epoch:  37                    train:   valid:\n",
      "    loss [a.u.]                0.020    0.021\n",
      "    quad mae [kcal/mol]      0.005    0.005\n",
      "epoch:  38                    train:   valid:\n",
      "    loss [a.u.]                0.020    0.021\n",
      "    quad mae [kcal/mol]      0.005    0.005\n",
      "epoch:  39                    train:   valid:\n",
      "    loss [a.u.]                0.020    0.020\n",
      "    quad mae [kcal/mol]      0.005    0.005\n",
      "epoch:  40                    train:   valid:\n",
      "    loss [a.u.]                0.019    0.020\n",
      "    quad mae [kcal/mol]      0.005    0.005\n",
      "epoch:  41                    train:   valid:\n",
      "    loss [a.u.]                0.020    0.020\n",
      "    quad mae [kcal/mol]      0.005    0.005\n",
      "epoch:  42                    train:   valid:\n",
      "    loss [a.u.]                0.020    0.020\n",
      "    quad mae [kcal/mol]      0.005    0.005\n",
      "epoch:  43                    train:   valid:\n",
      "    loss [a.u.]                0.020    0.020\n",
      "    quad mae [kcal/mol]      0.005    0.005\n",
      "epoch:  44                    train:   valid:\n",
      "    loss [a.u.]                0.019    0.020\n",
      "    quad mae [kcal/mol]      0.005    0.005\n",
      "epoch:  45                    train:   valid:\n",
      "    loss [a.u.]                0.019    0.019\n",
      "    quad mae [kcal/mol]      0.005    0.005\n",
      "epoch:  46                    train:   valid:\n",
      "    loss [a.u.]                0.019    0.019\n",
      "    quad mae [kcal/mol]      0.005    0.005\n",
      "epoch:  47                    train:   valid:\n",
      "    loss [a.u.]                0.018    0.020\n",
      "    quad mae [kcal/mol]      0.005    0.005\n",
      "epoch:  48                    train:   valid:\n",
      "    loss [a.u.]                0.019    0.019\n",
      "    quad mae [kcal/mol]      0.005    0.005\n",
      "epoch:  49                    train:   valid:\n",
      "    loss [a.u.]                0.019    0.019\n",
      "    quad mae [kcal/mol]      0.005    0.005\n",
      "epoch:  50                    train:   valid:\n",
      "    loss [a.u.]                0.019    0.019\n",
      "    quad mae [kcal/mol]      0.005    0.005\n",
      "epoch:  51                    train:   valid:\n",
      "    loss [a.u.]                0.018    0.019\n",
      "    quad mae [kcal/mol]      0.005    0.005\n",
      "epoch:  52                    train:   valid:\n",
      "    loss [a.u.]                0.018    0.019\n",
      "    quad mae [kcal/mol]      0.005    0.005\n",
      "epoch:  53                    train:   valid:\n",
      "    loss [a.u.]                0.018    0.019\n",
      "    quad mae [kcal/mol]      0.005    0.005\n",
      "epoch:  54                    train:   valid:\n",
      "    loss [a.u.]                0.018    0.019\n",
      "    quad mae [kcal/mol]      0.005    0.005\n",
      "epoch:  55                    train:   valid:\n",
      "    loss [a.u.]                0.018    0.019\n",
      "    quad mae [kcal/mol]      0.005    0.005\n",
      "epoch:  56                    train:   valid:\n",
      "    loss [a.u.]                0.017    0.019\n",
      "    quad mae [kcal/mol]      0.005    0.005\n",
      "epoch:  57                    train:   valid:\n",
      "    loss [a.u.]                0.018    0.019\n",
      "    quad mae [kcal/mol]      0.005    0.005\n",
      "epoch:  58                    train:   valid:\n",
      "    loss [a.u.]                0.018    0.018\n",
      "    quad mae [kcal/mol]      0.005    0.005\n",
      "epoch:  59                    train:   valid:\n",
      "    loss [a.u.]                0.018    0.018\n",
      "    quad mae [kcal/mol]      0.005    0.005\n",
      "epoch:  60                    train:   valid:\n",
      "    loss [a.u.]                0.017    0.018\n",
      "    quad mae [kcal/mol]      0.005    0.004\n",
      "epoch:  61                    train:   valid:\n",
      "    loss [a.u.]                0.018    0.019\n",
      "    quad mae [kcal/mol]      0.005    0.005\n",
      "epoch:  62                    train:   valid:\n",
      "    loss [a.u.]                0.017    0.018\n",
      "    quad mae [kcal/mol]      0.005    0.004\n",
      "epoch:  63                    train:   valid:\n",
      "    loss [a.u.]                0.017    0.018\n",
      "    quad mae [kcal/mol]      0.005    0.004\n",
      "epoch:  64                    train:   valid:\n",
      "    loss [a.u.]                0.017    0.017\n",
      "    quad mae [kcal/mol]      0.004    0.004\n",
      "epoch:  65                    train:   valid:\n",
      "    loss [a.u.]                0.017    0.018\n",
      "    quad mae [kcal/mol]      0.004    0.004\n",
      "epoch:  66                    train:   valid:\n",
      "    loss [a.u.]                0.017    0.017\n",
      "    quad mae [kcal/mol]      0.005    0.004\n",
      "epoch:  67                    train:   valid:\n",
      "    loss [a.u.]                0.016    0.017\n",
      "    quad mae [kcal/mol]      0.004    0.004\n",
      "epoch:  68                    train:   valid:\n",
      "    loss [a.u.]                0.017    0.017\n",
      "    quad mae [kcal/mol]      0.004    0.004\n",
      "epoch:  69                    train:   valid:\n",
      "    loss [a.u.]                0.017    0.017\n",
      "    quad mae [kcal/mol]      0.004    0.004\n",
      "epoch:  70                    train:   valid:\n",
      "    loss [a.u.]                0.016    0.017\n",
      "    quad mae [kcal/mol]      0.004    0.004\n",
      "epoch:  71                    train:   valid:\n",
      "    loss [a.u.]                0.017    0.017\n",
      "    quad mae [kcal/mol]      0.004    0.004\n",
      "epoch:  72                    train:   valid:\n",
      "    loss [a.u.]                0.016    0.017\n",
      "    quad mae [kcal/mol]      0.004    0.004\n",
      "epoch:  73                    train:   valid:\n",
      "    loss [a.u.]                0.016    0.017\n",
      "    quad mae [kcal/mol]      0.004    0.004\n",
      "epoch:  74                    train:   valid:\n",
      "    loss [a.u.]                0.016    0.017\n",
      "    quad mae [kcal/mol]      0.004    0.004\n",
      "epoch:  75                    train:   valid:\n",
      "    loss [a.u.]                0.016    0.016\n",
      "    quad mae [kcal/mol]      0.004    0.004\n",
      "epoch:  76                    train:   valid:\n",
      "    loss [a.u.]                0.016    0.017\n",
      "    quad mae [kcal/mol]      0.004    0.004\n",
      "epoch:  77                    train:   valid:\n",
      "    loss [a.u.]                0.016    0.016\n",
      "    quad mae [kcal/mol]      0.004    0.004\n",
      "epoch:  78                    train:   valid:\n",
      "    loss [a.u.]                0.016    0.016\n",
      "    quad mae [kcal/mol]      0.004    0.004\n",
      "epoch:  79                    train:   valid:\n",
      "    loss [a.u.]                0.015    0.016\n",
      "    quad mae [kcal/mol]      0.004    0.004\n",
      "epoch:  80                    train:   valid:\n",
      "    loss [a.u.]                0.015    0.016\n",
      "    quad mae [kcal/mol]      0.004    0.004\n",
      "epoch:  81                    train:   valid:\n",
      "    loss [a.u.]                0.016    0.016\n",
      "    quad mae [kcal/mol]      0.004    0.004\n",
      "epoch:  82                    train:   valid:\n",
      "    loss [a.u.]                0.016    0.016\n",
      "    quad mae [kcal/mol]      0.004    0.004\n",
      "epoch:  83                    train:   valid:\n",
      "    loss [a.u.]                0.016    0.016\n",
      "    quad mae [kcal/mol]      0.004    0.004\n",
      "epoch:  84                    train:   valid:\n",
      "    loss [a.u.]                0.015    0.016\n",
      "    quad mae [kcal/mol]      0.004    0.004\n",
      "epoch:  85                    train:   valid:\n",
      "    loss [a.u.]                0.015    0.016\n",
      "    quad mae [kcal/mol]      0.004    0.004\n",
      "epoch:  86                    train:   valid:\n",
      "    loss [a.u.]                0.015    0.016\n",
      "    quad mae [kcal/mol]      0.004    0.004\n",
      "epoch:  87                    train:   valid:\n",
      "    loss [a.u.]                0.015    0.015\n",
      "    quad mae [kcal/mol]      0.004    0.004\n",
      "epoch:  88                    train:   valid:\n",
      "    loss [a.u.]                0.015    0.015\n",
      "    quad mae [kcal/mol]      0.004    0.004\n",
      "epoch:  89                    train:   valid:\n",
      "    loss [a.u.]                0.015    0.016\n",
      "    quad mae [kcal/mol]      0.004    0.004\n",
      "epoch:  90                    train:   valid:\n",
      "    loss [a.u.]                0.015    0.016\n",
      "    quad mae [kcal/mol]      0.004    0.004\n",
      "epoch:  91                    train:   valid:\n",
      "    loss [a.u.]                0.015    0.015\n",
      "    quad mae [kcal/mol]      0.004    0.004\n",
      "epoch:  92                    train:   valid:\n",
      "    loss [a.u.]                0.015    0.015\n",
      "    quad mae [kcal/mol]      0.004    0.004\n",
      "epoch:  93                    train:   valid:\n",
      "    loss [a.u.]                0.015    0.015\n",
      "    quad mae [kcal/mol]      0.004    0.004\n",
      "epoch:  94                    train:   valid:\n",
      "    loss [a.u.]                0.015    0.015\n",
      "    quad mae [kcal/mol]      0.004    0.004\n",
      "epoch:  95                    train:   valid:\n",
      "    loss [a.u.]                0.015    0.015\n",
      "    quad mae [kcal/mol]      0.004    0.004\n",
      "epoch:  96                    train:   valid:\n",
      "    loss [a.u.]                0.015    0.015\n",
      "    quad mae [kcal/mol]      0.004    0.004\n",
      "epoch:  97                    train:   valid:\n",
      "    loss [a.u.]                0.015    0.015\n",
      "    quad mae [kcal/mol]      0.004    0.004\n",
      "epoch:  98                    train:   valid:\n",
      "    loss [a.u.]                0.014    0.015\n",
      "    quad mae [kcal/mol]      0.004    0.004\n",
      "epoch:  99                    train:   valid:\n",
      "    loss [a.u.]                0.014    0.015\n",
      "    quad mae [kcal/mol]      0.004    0.004\n",
      "epoch:  100                    train:   valid:\n",
      "    loss [a.u.]                0.015    0.014\n",
      "    quad mae [kcal/mol]      0.004    0.004\n"
     ]
    }
   ],
   "source": [
    "params = train_model(\n",
    "  key=train_key,\n",
    "  model=message_passing_model,\n",
    "  train_data=train_data,\n",
    "  valid_data=valid_data,\n",
    "  num_epochs=100,\n",
    "  learning_rate=learning_rate,\n",
    "  batch_size=batch_size,\n",
    "  restart=params,\n",
    ")"
   ]
  },
  {
   "cell_type": "code",
   "execution_count": 305,
   "id": "9ec6911f-bb55-4893-836d-c665e3d1c9d3",
   "metadata": {},
   "outputs": [],
   "source": [
    "import pickle\n",
    "# open a file, where you ant to store the data\n",
    "with open('quad_params.pkl', 'wb') as file:\n",
    "    pickle.dump(params, file)"
   ]
  },
  {
   "cell_type": "code",
   "execution_count": 306,
   "id": "a1b0fbf0-e871-4ba8-8848-f754e7024895",
   "metadata": {},
   "outputs": [
    {
     "name": "stdout",
     "output_type": "stream",
     "text": [
      "params\n",
      "Dense_0\n",
      "0+\n",
      "(16,) 16\n",
      "(16, 16) 256\n",
      "1-\n",
      "(16, 16) 256\n",
      "2+\n",
      "(16, 16) 256\n",
      "Dense_1\n",
      "0+\n",
      "(16,) 16\n",
      "(16, 16) 256\n",
      "1-\n",
      "(16, 16) 256\n",
      "2+\n",
      "(16, 16) 256\n",
      "Dense_2\n",
      "0+\n",
      "(16,) 16\n",
      "(16, 16) 256\n",
      "0-\n",
      "(16, 16) 256\n",
      "1+\n",
      "(16, 16) 256\n",
      "1-\n",
      "(16, 16) 256\n",
      "2+\n",
      "(16, 16) 256\n",
      "2-\n",
      "(16, 16) 256\n",
      "Dense_3\n",
      "0+\n",
      "(16,) 16\n",
      "(16, 16) 256\n",
      "0-\n",
      "(16, 16) 256\n",
      "1+\n",
      "(16, 16) 256\n",
      "1-\n",
      "(16, 16) 256\n",
      "2+\n",
      "(16, 16) 256\n",
      "2-\n",
      "(16, 16) 256\n",
      "Dense_4\n",
      "0+\n",
      "(16,) 16\n",
      "(16, 16) 256\n",
      "1-\n",
      "(16, 16) 256\n",
      "2+\n",
      "(16, 16) 256\n",
      "Dense_5\n",
      "0+\n",
      "(16,) 16\n",
      "(16, 16) 256\n",
      "1-\n",
      "(16, 16) 256\n",
      "2+\n",
      "(16, 16) 256\n",
      "Embed_0\n",
      "(18, 1, 1, 16) 288\n",
      "MessagePass_0\n",
      "filter\n",
      "0+\n",
      "(16, 16) 256\n",
      "1-\n",
      "(16, 16) 256\n",
      "2+\n",
      "(16, 16) 256\n",
      "tensor\n",
      "(1, 3, 1, 1, 1, 3, 16) 144\n",
      "MessagePass_1\n",
      "filter\n",
      "0+\n",
      "(16, 16) 256\n",
      "1-\n",
      "(16, 16) 256\n",
      "2+\n",
      "(16, 16) 256\n",
      "tensor\n",
      "(1, 3, 1, 3, 2, 3, 16) 864\n",
      "MessagePass_2\n",
      "filter\n",
      "0+\n",
      "(16, 16) 256\n",
      "1-\n",
      "(16, 16) 256\n",
      "2+\n",
      "(16, 16) 256\n",
      "tensor\n",
      "(1, 3, 2, 3, 1, 3, 16) 864\n",
      "TensorDense_0\n",
      "dense\n",
      "0+\n",
      "(32,) 32\n",
      "(16, 32) 512\n",
      "1-\n",
      "(16, 32) 512\n",
      "2+\n",
      "(16, 32) 512\n",
      "tensor\n",
      "(1, 3, 1, 3, 1, 3, 16) 432\n"
     ]
    },
    {
     "data": {
      "text/plain": [
       "12704"
      ]
     },
     "execution_count": 306,
     "metadata": {},
     "output_type": "execute_result"
    }
   ],
   "source": [
    "# params[\"params\"]\n",
    "\n",
    "def count_shape(array):\n",
    "    ans = 1\n",
    "    for shape in array.shape:\n",
    "        ans *= shape\n",
    "    return ans\n",
    "\n",
    "def count_parameters(d):\n",
    "    if not isinstance(d, dict):  # Base case: not a dictionary\n",
    "        return 0\n",
    "    count = 0\n",
    "    for key, value in d.items():\n",
    "        if isinstance(value, dict):\n",
    "            print(key)\n",
    "            count += count_parameters(value)  # Recursive call if value is a dictionary\n",
    "        else:\n",
    "            print(value.shape, count_shape(value))\n",
    "            count += count_shape(value)  # Count the parameter if it's not a dictionary\n",
    "    return count\n",
    "\n",
    "count_parameters(params)"
   ]
  },
  {
   "cell_type": "code",
   "execution_count": 307,
   "id": "6df08175-4d7d-484d-95f6-c7a528fb3ce3",
   "metadata": {},
   "outputs": [],
   "source": [
    "# valid_data"
   ]
  },
  {
   "cell_type": "code",
   "execution_count": 308,
   "id": "d2f3d582-a761-4fb5-bb8e-a3e31452f047",
   "metadata": {},
   "outputs": [],
   "source": [
    "valid_batches = prepare_batches(data_key, valid_data, batch_size)"
   ]
  },
  {
   "cell_type": "code",
   "execution_count": 370,
   "id": "07e6bc04-dd58-4b5c-b131-6d2068a9a7b6",
   "metadata": {},
   "outputs": [],
   "source": [
    "batch = valid_batches[-1]\n",
    "quad = message_passing_model.apply(\n",
    "    params,\n",
    "    atomic_numbers=batch['atomic_numbers'],\n",
    "    positions=batch['positions'],\n",
    "    dst_idx=batch['dst_idx'],\n",
    "    src_idx=batch['src_idx'],\n",
    "    batch_segments=batch['batch_segments'],\n",
    "    batch_size=batch_size\n",
    ")"
   ]
  },
  {
   "cell_type": "code",
   "execution_count": 371,
   "id": "ffbb9887-0f1e-4808-aaf8-212fa46b6cdc",
   "metadata": {},
   "outputs": [
    {
     "data": {
      "text/plain": [
       "Array([[ 1.08448304e-02,  7.86503218e-03,  9.14887618e-03,\n",
       "         9.16907843e-03, -1.70706566e-02],\n",
       "       [-1.00060683e-02, -7.40811229e-03,  3.26474616e-03,\n",
       "         1.39839109e-03,  5.52421343e-03],\n",
       "       [-1.69336405e-02, -1.27187259e-02, -2.06904057e-02,\n",
       "        -1.27756502e-03,  1.19461678e-02],\n",
       "       ...,\n",
       "       [ 2.62275455e-04,  7.54509092e-05, -6.84863422e-04,\n",
       "         1.11513495e-04,  4.02718288e-05],\n",
       "       [ 2.62274552e-04,  7.54511420e-05, -6.84863073e-04,\n",
       "         1.11513073e-04,  4.02724254e-05],\n",
       "       [ 2.62274407e-04,  7.54507419e-05, -6.84864237e-04,\n",
       "         1.11513349e-04,  4.02729929e-05]], dtype=float32)"
      ]
     },
     "execution_count": 371,
     "metadata": {},
     "output_type": "execute_result"
    }
   ],
   "source": [
    "quad"
   ]
  },
  {
   "cell_type": "code",
   "execution_count": 372,
   "id": "0c0adcb9-4772-473f-a545-a4df19bd48ed",
   "metadata": {},
   "outputs": [
    {
     "data": {
      "text/plain": [
       "Array([[ 0.01709708,  0.01091302,  0.00237661,  0.01280461, -0.01519156],\n",
       "       [ 0.00463199, -0.0041227 , -0.00169758,  0.00232811, -0.00807887],\n",
       "       [-0.01721839, -0.02129252, -0.01392017, -0.00645081,  0.01080912],\n",
       "       ...,\n",
       "       [ 0.        ,  0.        ,  0.        ,  0.        ,  0.        ],\n",
       "       [ 0.        ,  0.        ,  0.        ,  0.        ,  0.        ],\n",
       "       [ 0.        ,  0.        ,  0.        ,  0.        ,  0.        ]],      dtype=float32)"
      ]
     },
     "execution_count": 372,
     "metadata": {},
     "output_type": "execute_result"
    }
   ],
   "source": [
    "batch[\"quad\"]"
   ]
  },
  {
   "cell_type": "code",
   "execution_count": 373,
   "id": "39f4f9be-5a65-4bc9-86bb-ca96e78e8833",
   "metadata": {},
   "outputs": [
    {
     "data": {
      "image/png": "[encoded data removed]",
      "text/plain": [
       "<Figure size 640x480 with 1 Axes>"
      ]
     },
     "metadata": {},
     "output_type": "display_data"
    }
   ],
   "source": [
    "nonzeros = jnp.nonzero(batch[\"quad\"])\n",
    "import matplotlib.pyplot as plt\n",
    "\n",
    "plt.scatter(quad[nonzeros].flatten(), batch[\"quad\"][nonzeros].flatten())\n",
    "plt.plot([-1,1],[-1,1])\n",
    "plt.xlim(-.25,.25)\n",
    "plt.ylim(-.25,.25)\n",
    "ax = plt.gca()\n",
    "ax.set_aspect(\"equal\")"
   ]
  },
  {
   "cell_type": "code",
   "execution_count": 321,
   "id": "cef2ab27-213a-4f66-adff-aa5fc579bcaf",
   "metadata": {},
   "outputs": [
    {
     "name": "stdout",
     "output_type": "stream",
     "text": [
      "0.00058229186 \t\t -0.0031041682\n",
      "-0.0031478135 \t\t -0.0071298415\n",
      "-0.010146972 \t\t -0.0042682043\n",
      "0.0074898545 \t\t 0.012077078\n",
      "0.019064091 \t\t 0.007896781\n",
      "0.013337063 \t\t 0.009651952\n",
      "-0.0017942791 \t\t -0.0030556463\n",
      "-0.01783869 \t\t -0.0063538044\n",
      "0.047361985 \t\t 0.045155663\n",
      "-0.052379638 \t\t -0.044076443\n"
     ]
    }
   ],
   "source": [
    "for i in range(10):\n",
    "    print(quad[nonzeros][i], \"\\t\\t\", batch[\"quad\"][nonzeros][i])"
   ]
  },
  {
   "cell_type": "code",
   "execution_count": 79,
   "id": "cb9d7ba1-b0d8-40ee-b584-7afbe18d9f2d",
   "metadata": {},
   "outputs": [
    {
     "data": {
      "image/png": "[encoded data removed]",
      "text/plain": [
       "<Figure size 640x480 with 1 Axes>"
      ]
     },
     "metadata": {},
     "output_type": "display_data"
    }
   ],
   "source": [
    "import matplotlib.pyplot as plt\n",
    "# for i in range(10):\n",
    "#     plt.scatter(batch_gt[i], patch_pred[i])\n",
    "plt.scatter(mono[nonzeros], batch[\"mono\"][nonzeros])\n",
    "plt.plot([-1,1],[-1,1])\n",
    "plt.xlim(-1,1)\n",
    "plt.ylim(-1,1)\n",
    "ax = plt.gca()\n",
    "ax.set_aspect(\"equal\")"
   ]
  },
  {
   "cell_type": "markdown",
   "id": "25d8bcf1-6da2-4ab6-b23f-f47adb7f74fd",
   "metadata": {},
   "source": [
    "#  Equivariance"
   ]
  },
  {
   "cell_type": "code",
   "execution_count": 340,
   "id": "84ce65fe-b61b-4200-a1ca-b76a69a13725",
   "metadata": {},
   "outputs": [],
   "source": [
    "key, rotation_key = jax.random.split(data_key)\n",
    "rotation = e3x.so3.random_rotation(rotation_key)\n",
    "wigner_d = e3x.so3.wigner_d(rotation, max_degree=2)"
   ]
  },
  {
   "cell_type": "code",
   "execution_count": 341,
   "id": "ad910536-9845-4c59-90ef-9d28cc6265cd",
   "metadata": {},
   "outputs": [
    {
     "data": {
      "text/plain": [
       "Array([[ 0.05268008,  0.32747042, -0.9433917 ],\n",
       "       [ 0.9180192 , -0.38768542, -0.08331031],\n",
       "       [-0.3930209 , -0.8616629 , -0.3210473 ]], dtype=float32)"
      ]
     },
     "execution_count": 341,
     "metadata": {},
     "output_type": "execute_result"
    }
   ],
   "source": [
    "rotation"
   ]
  },
  {
   "cell_type": "code",
   "execution_count": 342,
   "id": "727620c3-d858-43ee-9e44-72ab27fa9baf",
   "metadata": {},
   "outputs": [],
   "source": [
    "batch = valid_batches[0]\n",
    "quad_rot = message_passing_model.apply(\n",
    "    params,\n",
    "    atomic_numbers=batch['atomic_numbers'],\n",
    "    positions=batch['positions']@rotation,\n",
    "    dst_idx=batch['dst_idx'],\n",
    "    src_idx=batch['src_idx'],\n",
    "    batch_segments=batch['batch_segments'],\n",
    "    batch_size=len(valid_data[\"atomic_numbers\"])\n",
    ")"
   ]
  },
  {
   "cell_type": "code",
   "execution_count": 343,
   "id": "2c1f5d83-2a5c-4afc-93d5-e3cbf0421bf2",
   "metadata": {},
   "outputs": [],
   "source": [
    "nonzeros = jnp.nonzero(batch[\"atomic_numbers\"])"
   ]
  },
  {
   "cell_type": "code",
   "execution_count": 365,
   "id": "18a1ffdb-3e63-4831-aaaa-310da262760e",
   "metadata": {},
   "outputs": [],
   "source": [
    "# plt.scatter(quad[nonzeros]@rotation, quad_rot[nonzeros])"
   ]
  },
  {
   "cell_type": "code",
   "execution_count": 347,
   "id": "dc8b5b12-e582-4862-be51-cc94a10a2264",
   "metadata": {},
   "outputs": [
    {
     "data": {
      "text/plain": [
       "(9, 9)"
      ]
     },
     "execution_count": 347,
     "metadata": {},
     "output_type": "execute_result"
    }
   ],
   "source": [
    "wigner_d.shape"
   ]
  },
  {
   "cell_type": "code",
   "execution_count": 360,
   "id": "677c9733-fee4-48de-832b-f2af0eb96e94",
   "metadata": {},
   "outputs": [
    {
     "data": {
      "text/plain": [
       "Array([ 0.00058229, -0.00314781, -0.01014697,  0.00748985,  0.01906409],      dtype=float32)"
      ]
     },
     "execution_count": 360,
     "metadata": {},
     "output_type": "execute_result"
    }
   ],
   "source": [
    "quad[nonzeros][0]"
   ]
  },
  {
   "cell_type": "code",
   "execution_count": 366,
   "id": "dee13743-59f3-4ce1-af4e-409cf965dac0",
   "metadata": {},
   "outputs": [
    {
     "data": {
      "text/plain": [
       "Array([ 1.0000000e+00,  5.7735032e-01,  5.7735032e-01,  5.7735032e-01,\n",
       "        5.8229186e-04, -3.1478135e-03, -1.0146972e-02,  7.4898545e-03,\n",
       "        1.9064091e-02], dtype=float32)"
      ]
     },
     "execution_count": 366,
     "metadata": {},
     "output_type": "execute_result"
    }
   ],
   "source": [
    "sph = e3x.so3.irreps.spherical_harmonics(jnp.asarray([0.1, 0.1, 0.1]), max_degree=2)\n",
    "for i in range(4,10):\n",
    "    sph = sph.at[i].set(quad[nonzeros][0][i-4])\n",
    "sph"
   ]
  },
  {
   "cell_type": "code",
   "execution_count": 367,
   "id": "538f59af-880a-4466-92c3-ea8e55f8dbbf",
   "metadata": {},
   "outputs": [],
   "source": [
    "rot_sph = sph @ wigner_d"
   ]
  },
  {
   "cell_type": "code",
   "execution_count": 368,
   "id": "62e051fb-ab40-4f27-8e20-45e56ba5f2ca",
   "metadata": {},
   "outputs": [
    {
     "data": {
      "text/plain": [
       "Array([[-0.00674594,  0.0043305 ,  0.00079048],\n",
       "       [ 0.0043305 ,  0.01444184,  0.00124634],\n",
       "       [ 0.00079048,  0.00124634, -0.0076959 ]], dtype=float32)"
      ]
     },
     "execution_count": 368,
     "metadata": {},
     "output_type": "execute_result"
    }
   ],
   "source": [
    "e3x.so3.irreps.irreps_to_tensor(rot_sph[4:], 2) #@rotation"
   ]
  },
  {
   "cell_type": "code",
   "execution_count": 369,
   "id": "725139ca-411e-4727-a477-100d65cedea7",
   "metadata": {},
   "outputs": [
    {
     "data": {
      "text/plain": [
       "Array([[-0.00674596,  0.0043305 ,  0.00079048],\n",
       "       [ 0.0043305 ,  0.01444184,  0.00124633],\n",
       "       [ 0.00079048,  0.00124633, -0.00769589]], dtype=float32)"
      ]
     },
     "execution_count": 369,
     "metadata": {},
     "output_type": "execute_result"
    }
   ],
   "source": [
    "e3x.so3.irreps.irreps_to_tensor(quad_rot[nonzeros][0], 2)"
   ]
  },
  {
   "cell_type": "code",
   "execution_count": null,
   "id": "b9643ca9-e9a3-48e6-b2dc-608b305c8cf8",
   "metadata": {},
   "outputs": [],
   "source": []
  }
 ],
 "metadata": {
  "kernelspec": {
   "display_name": "jaxgpu11",
   "language": "python",
   "name": "jaxgpu11"
  },
  "language_info": {
   "codemirror_mode": {
    "name": "ipython",
    "version": 3
   },
   "file_extension": ".py",
   "mimetype": "text/x-python",
   "name": "python",
   "nbconvert_exporter": "python",
   "pygments_lexer": "ipython3",
   "version": "3.9.18"
  }
 },
 "nbformat": 4,
 "nbformat_minor": 5
}
