{
 "cells": [
  {
   "cell_type": "code",
   "execution_count": 2,
   "id": "aec9ce06-d90c-4ee4-9408-25720f06fa69",
   "metadata": {},
   "outputs": [
    {
     "name": "stdout",
     "output_type": "stream",
     "text": [
      "The autoreload extension is already loaded. To reload it, use:\n",
      "  %reload_ext autoreload\n",
      "[CpuDevice(id=0)]\n",
      "cpu\n",
      "[CpuDevice(id=0)]\n"
     ]
    },
    {
     "data": {
      "text/plain": [
       "<Figure size 640x480 with 0 Axes>"
      ]
     },
     "metadata": {},
     "output_type": "display_data"
    },
    {
     "data": {
      "text/plain": [
       "<Figure size 100x100 with 0 Axes>"
      ]
     },
     "metadata": {},
     "output_type": "display_data"
    }
   ],
   "source": [
    "%load_ext autoreload\n",
    "%autoreload 2\n",
    "import os\n",
    "# os.environ[\"XLA_PYTHON_CLIENT_MEM_FRACTION\"] = \".99\"\n",
    "# os.environ[\"CUDA_VISIBLE_DEVICES\"] = \"1\"\n",
    "\n",
    "# import pandas as pd\n",
    "import dcmnet\n",
    "import sys\n",
    "\n",
    "sys.path.append(\"/home/boittier/jaxeq/dcmnet\")\n",
    "# print(sys.path)\n",
    "from dcmnet.models import DCM1, DCM2, DCM3, DCM4, dcm1_params, dcm2_params, dcm3_params, dcm4_params\n",
    "from dcmnet.modules import MessagePassingModel\n",
    "from dcmnet.data import prepare_datasets\n",
    "\n",
    "import numpy as np\n",
    "\n",
    "def atom_centered_dipole(dcm, com, q):\n",
    "    dipole_out = np.zeros(3)\n",
    "    for i, _ in enumerate(dcm):\n",
    "        dipole_out += q[i] * (_ - com)\n",
    "    # print(dipole_out*2.5417464519)\n",
    "    return np.linalg.norm(dipole_out)* 4.80320\n",
    "\n",
    "import jax\n",
    "import jax.numpy as jnp\n",
    "import pickle\n",
    "from tensorboardX import SummaryWriter\n",
    "import time\n",
    "from dcmnet.utils import safe_mkdir\n",
    "from dcmnet.training import train_model\n",
    "from dcmnet.training_dipole import train_model_dipo\n",
    "from pathlib import Path\n",
    "from dcmnet.data import prepare_batches, prepare_datasets\n",
    "from dcmnet.utils import apply_model\n",
    "from dcmnet.plotting import evaluate_dc, plot_esp, plot_model\n",
    "import optax\n",
    "from dcmnet.loss import esp_mono_loss_pots\n",
    "from dcmnet.analysis import create_model_and_params\n",
    "import matplotlib.pyplot as plt\n",
    "from tqdm import tqdm\n",
    "import random\n",
    "\n",
    "devices = jax.local_devices()\n",
    "print(devices)\n",
    "print(jax.default_backend())\n",
    "print(jax.devices())\n",
    "from dcmnet.utils import apply_model, clip_colors, reshape_dipole\n",
    "from dcmnet.data import prepare_batches, cut_vdw\n"
   ]
  },
  {
   "cell_type": "code",
   "execution_count": 29,
   "id": "b9bac1a0-4502-4fda-ad85-685f3fe35c1f",
   "metadata": {},
   "outputs": [
    {
     "name": "stdout",
     "output_type": "stream",
     "text": [
      "/pchem-data/meuwly/boittier/home/jaxeq/misc/dsgdb9nsd_128167\n"
     ]
    },
    {
     "data": {
      "text/plain": [
       "{'mono': array([-6.89695072e-03, -6.82634603e-03, -6.08240419e-03, ...,\n",
       "         1.09206025e-09,  1.09206025e-09,  1.09206025e-09]),\n",
       " 'dipo': array([-7.29053686e-03, -7.40661290e-03, -6.89535156e-03, ...,\n",
       "         1.17315690e-09,  1.17315690e-09,  1.17315690e-09]),\n",
       " 'quad': array([-7.27839981e-03, -7.35752800e-03, -6.79966470e-03, ...,\n",
       "         1.17315828e-09,  1.17315828e-09,  1.17315828e-09]),\n",
       " 'esp': array([-0.00725657, -0.00726441, -0.00661951, ...,  0.        ,\n",
       "         0.        ,  0.        ]),\n",
       " 'closest_atom_type': array([7, 7, 7, ..., 1, 1, 1]),\n",
       " 'closest_atom': array([ 0,  0,  0, ..., 12, 12, 12]),\n",
       " 'mask': array([ True,  True,  True, ...,  True,  True,  True]),\n",
       " 'rmse_mono': Array(1.5774539, dtype=float32),\n",
       " 'rmse_dipo': Array(1.3724021, dtype=float32),\n",
       " 'rmse_quad': Array(1.2095424, dtype=float32),\n",
       " 'rmse_mono_masked': Array(0.8994933, dtype=float32),\n",
       " 'rmse_dipo_masked': Array(0.5674174, dtype=float32),\n",
       " 'rmse_quad_masked': Array(0.43492696, dtype=float32),\n",
       " 'D_mono': Array([0.02632097, 2.458049  , 0.01482532], dtype=float32),\n",
       " 'D_dipo': Array([0.19859594, 2.4383597 , 0.01270662], dtype=float32),\n",
       " 'D_mae_mono': Array(0.16339576, dtype=float32),\n",
       " 'D_mae_dipo': Array(0.00104736, dtype=float32),\n",
       " 'D': 6.221402289358207,\n",
       " 'D_xyz': array([0.1985998, 2.4395846, 0.0127142])}"
      ]
     },
     "execution_count": 29,
     "metadata": {},
     "output_type": "execute_result"
    }
   ],
   "source": [
    "from dcmnet.analysis import *\n",
    "from tqdm import tqdm\n",
    "\n",
    "path = Path(\"/pchem-data/meuwly/boittier/home/jaxeq/misc\")\n",
    "paths = list(path.glob(\"*\"))\n",
    "print(paths[0])\n",
    "# for path in tqdm(paths[:2]):\n",
    "multipoles(paths[9])"
   ]
  },
  {
   "cell_type": "code",
   "execution_count": 28,
   "id": "e226d320-2f44-4b8d-b5fc-a4c5e1b1882e",
   "metadata": {},
   "outputs": [
    {
     "data": {
      "text/plain": [
       "[(9,\n",
       "  PosixPath('/pchem-data/meuwly/boittier/home/jaxeq/misc/dsgdb9nsd_128954'))]"
      ]
     },
     "execution_count": 28,
     "metadata": {},
     "output_type": "execute_result"
    }
   ],
   "source": [
    "[(i, _) for i, _ in enumerate(paths) if \"dsgdb9nsd_128954\" in str(_)]"
   ]
  },
  {
   "cell_type": "code",
   "execution_count": 33,
   "id": "ef65f10d-c9e6-4fb0-8df9-03630d07d7b4",
   "metadata": {},
   "outputs": [
    {
     "name": "stderr",
     "output_type": "stream",
     "text": [
      "100%|██████████████████████████████████████████████████████████████████████████████████████████| 3393/3393 [48:20<00:00,  1.17it/s]\n"
     ]
    }
   ],
   "source": [
    "path = Path(\"/pchem-data/meuwly/boittier/home/jaxeq/misc\")\n",
    "paths = list(path.glob(\"*\"))\n",
    "# print(paths[0])\n",
    "for path in tqdm(paths[3392:]):\n",
    "    multipoles(path)"
   ]
  },
  {
   "cell_type": "code",
   "execution_count": 32,
   "id": "e09e346a-6528-4560-8214-3cc66e5c6b55",
   "metadata": {},
   "outputs": [
    {
     "data": {
      "text/plain": [
       "3392"
      ]
     },
     "execution_count": 32,
     "metadata": {},
     "output_type": "execute_result"
    }
   ],
   "source": [
    "len(paths)//2"
   ]
  },
  {
   "cell_type": "code",
   "execution_count": null,
   "id": "6d4fcafa-1ab7-42d9-8ab1-8d171861d6df",
   "metadata": {},
   "outputs": [],
   "source": []
  }
 ],
 "metadata": {
  "kernelspec": {
   "display_name": "Python 3 (ipykernel)",
   "language": "python",
   "name": "python3"
  },
  "language_info": {
   "codemirror_mode": {
    "name": "ipython",
    "version": 3
   },
   "file_extension": ".py",
   "mimetype": "text/x-python",
   "name": "python",
   "nbconvert_exporter": "python",
   "pygments_lexer": "ipython3",
   "version": "3.9.19"
  }
 },
 "nbformat": 4,
 "nbformat_minor": 5
}
