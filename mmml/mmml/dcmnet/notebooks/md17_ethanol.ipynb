{
 "cells": [
  {
   "cell_type": "markdown",
   "id": "12252498",
   "metadata": {},
   "source": [
    "# MD17: Ethanol (force field construction)\n",
    "This tutorial demonstrates how to use E3x to construct a machine-learned force field. For this example, we use the MD17 dataset for ethanol. The code is written to be easy to adapt to datasets that contain multiple molecules of different size."
   ]
  },
  {
   "cell_type": "markdown",
   "id": "ae00d22f",
   "metadata": {},
   "source": [
    "First, all necessary packages are imported."
   ]
  },
  {
   "cell_type": "code",
   "execution_count": 1,
   "id": "62391d8d",
   "metadata": {
    "tags": []
   },
   "outputs": [],
   "source": [
    "import functools\n",
    "import os\n",
    "import urllib.request\n",
    "import e3x\n",
    "import flax.linen as nn\n",
    "import jax\n",
    "import jax.numpy as jnp\n",
    "import numpy as np\n",
    "import optax\n",
    "\n",
    "# Disable future warnings.\n",
    "import warnings\n",
    "warnings.simplefilter(action='ignore', category=FutureWarning)"
   ]
  },
  {
   "cell_type": "code",
   "execution_count": 2,
   "id": "a7d0284d-600b-4483-a3fe-90171ecdf7b5",
   "metadata": {},
   "outputs": [],
   "source": [
    "# os.environ[\"XLA_PYTHON_CLIENT_PREALLOCATE\"]=\"false\"\n",
    "# os.environ[\"XLA_PYTHON_CLIENT_MEM_FRACTION\"]=\".XX\"\n",
    "# os.environ[\"XLA_PYTHON_CLIENT_ALLOCATOR\"]=\"platform\""
   ]
  },
  {
   "cell_type": "code",
   "execution_count": 3,
   "id": "9a2e22cd-57f4-4248-a2f9-261dc0ae85b0",
   "metadata": {},
   "outputs": [],
   "source": [
    "# jax_ex"
   ]
  },
  {
   "cell_type": "code",
   "execution_count": 4,
   "id": "f5990517-0dff-4ace-832c-4891498615d0",
   "metadata": {},
   "outputs": [
    {
     "name": "stderr",
     "output_type": "stream",
     "text": [
      "CUDA backend failed to initialize: could not convert string to float: '.XX' (Set TF_CPP_MIN_LOG_LEVEL=0 and rerun for more info.)\n"
     ]
    },
    {
     "data": {
      "text/plain": [
       "[CpuDevice(id=0)]"
      ]
     },
     "execution_count": 4,
     "metadata": {},
     "output_type": "execute_result"
    }
   ],
   "source": [
    "import jax\n",
    "jax.default_backend()\n",
    "jax.devices()\n"
   ]
  },
  {
   "cell_type": "code",
   "execution_count": 5,
   "id": "89b25233-bc18-4ee4-b6bc-f9e53488d944",
   "metadata": {},
   "outputs": [],
   "source": [
    "data_key, train_key = jax.random.split(jax.random.PRNGKey(0), 2)\n"
   ]
  },
  {
   "cell_type": "markdown",
   "id": "08c7436d",
   "metadata": {},
   "source": [
    "Next, we download the MD17 dataset for ethanol."
   ]
  },
  {
   "cell_type": "code",
   "execution_count": 6,
   "id": "0ee43284",
   "metadata": {
    "tags": []
   },
   "outputs": [],
   "source": [
    "# Download the dataset.\n",
    "filename = \"md17_ethanol.npz\"\n",
    "if not os.path.exists(filename):\n",
    "  print(f\"Downloading {filename} (this may take a while)...\")\n",
    "  urllib.request.urlretrieve(f\"http://www.quantum-machine.org/gdml/data/npz/{filename}\", filename)"
   ]
  },
  {
   "cell_type": "markdown",
   "id": "9b48878a",
   "metadata": {},
   "source": [
    "Now we write a small helper function to prepare train and validation datasets. Apart from choosing subsets of the full dataset and converting the data to a different format, this function also subtracts the mean energy of the training set from all data points. This is a useful numerical trick: The energy of a molecule is often a very large number (around $-97 000$ kcal/mol for ethanol), but the relative energy between different conformations of the same molecule is usually much smaller (a few kcal/mol for ethanol). Since models are typically trained with single precision floats for efficiency, the large energy offset wastes precious numerical precision. For this reason, large offsets should be subtracted frow the raw data (typically stored in double precision) *before* converting to single precision. Note that subtracting arbitrary constants from the energy does not change physics (of course, the constant can also just be added back to the model predictions after training)."
   ]
  },
  {
   "cell_type": "code",
   "execution_count": 22,
   "id": "7ec584df",
   "metadata": {
    "tags": []
   },
   "outputs": [],
   "source": [
    "def prepare_datasets(key, num_train, num_valid,\n",
    "                     filename=\"240124_combined_water.npz\"\n",
    "                    # filename = \"md17_ethanol.npz\"\n",
    "                    ):\n",
    "  # Load the dataset.\n",
    "  dataset = np.load(filename)\n",
    "\n",
    "  # Make sure that the dataset contains enough entries.\n",
    "  num_data = len(dataset['E'])\n",
    "  num_draw = num_train + num_valid\n",
    "  if num_draw > num_data:\n",
    "    raise RuntimeError(\n",
    "      f'datasets only contains {num_data} points, requested num_train={num_train}, num_valid={num_valid}')\n",
    "\n",
    "  # Randomly draw train and validation sets from dataset.\n",
    "  choice = np.asarray(jax.random.choice(key, num_data, shape=(num_draw,), replace=False))\n",
    "  train_choice = choice[:num_train]\n",
    "  valid_choice = choice[num_train:]\n",
    "  print(\"len(train)\", len(train_choice))\n",
    "  print(\"len(valid)\", len(valid_choice))\n",
    "  # Determine mean energy of the training set.\n",
    "  mean_energy = 0.0 #np.mean(dataset['E'][train_choice])  # ~ -97000\n",
    "\n",
    "  # Collect and return train and validation sets.\n",
    "  train_data = dict(\n",
    "    energy=jnp.asarray(dataset['E'][train_choice] - mean_energy),\n",
    "    forces=jnp.asarray(dataset['F'][train_choice]),\n",
    "    atomic_numbers=jnp.asarray(dataset['z'][train_choice]),\n",
    "    positions=jnp.asarray(dataset['R'][train_choice]),\n",
    "  )\n",
    "  valid_data = dict(\n",
    "    energy=jnp.asarray(dataset['E'][valid_choice] - mean_energy),\n",
    "    forces=jnp.asarray(dataset['F'][valid_choice]),\n",
    "    atomic_numbers=jnp.asarray(dataset['z'][valid_choice]),\n",
    "    positions=jnp.asarray(dataset['R'][valid_choice]),\n",
    "  )\n",
    "  return train_data, valid_data, mean_energy"
   ]
  },
  {
   "cell_type": "markdown",
   "id": "ae391d59",
   "metadata": {},
   "source": [
    "Next, we define a very simple message-passing neural network. \n",
    "\n",
    "Let's first describe the model inputs and outputs: Our model takes `atomic_numbers` of shape `(num_atoms,)` (encoding the atom types), `positions` of shape `(num_atoms, 3)`, and index lists `dst_idx` (destination index) and `src_idx` (source index), both of shape `(num_pairs,)`, as inputs. The `dst_idx` and `src_idx` index lists specify \"which atoms talk with each other\" during a message-pass. For example, for a molecule with three atoms, these index lists could be `dst_idx = [0, 0, 1, 1, 2, 2]` and `src_idx = [1, 2, 0, 2, 0, 1]`. This would mean that the \"destination atom\" at index 0 receives messages from the \"source atoms\" at indices 1 and 2, and so on. This input format allows the model to handle batches of molecules with different numbers of atoms *without needing any padding* (in this example, all molecules are ethanol, so this is not necessary, but it's useful in general for more complicated tasks). We simply concatenate the `atomic_numbers` and `positions` of all molecules in the batch (as if they were one big molecule) and specify the index lists such that atoms in different molecules of the batch do not \"talk to each other\". The only additional information we need is a structure `batch_segments` that tells the model which atoms belong to which molecule in the batch and the total `batch_size`. For example, a batch consisting of a H$_2$O and a N$_2$ molecule could be specified with `atomic_numbers = [1, 1, 8, 7, 7]`, `dst_idx = [0, 0, 1, 1, 2, 2, 3, 4]`, `src_idx = [1, 2, 0, 2, 0, 1, 4, 3]`, `batch_segments = [0, 0, 0, 1, 1]` (meaning the first three atoms belong to molecule `0`, the last two to molecule `1`), and `batch_size = 2`. The outputs of our model are the `energy` of shape `(batch_size,)` of every molecule in the batch and the `forces` of shape `(num_atoms, 3)` acting on each atom.\n",
    "\n",
    "Since `forces` are the negative gradient of the `energy` with respect to the atomic `positions`, the model only needs to predict `energy`, as `forces` can be derived with automatic differentiation. This has the additional advantage that the forces will be conservative, i.e. they will respect the physical principle of energy conservation. The energy prediction comprises the following steps:\n",
    "\n",
    "1. Calculate the displacement vectors $\\vec{r}_{ij}=\\vec{r}_{j}-\\vec{r}_{i}$, where $\\vec{r}_{i}$ and $\\vec{r}_{j}$ are the positions of atoms $i$ (destination) and $j$ (source), for all pairs $i,j$ specified by the index lists.\n",
    "\n",
    "2. Expand the displacement vectors in radial-spherical basis functions to featurize them. Note that the basis functions use a cutoff, so that they go to zero beyond a certain distance.\n",
    "\n",
    "3. Embed the atoms in feature space by assigning them to learnable embeddings (one for each element).\n",
    "\n",
    "4. Perform `num_iterations` feature refinements. Each iteration performs a message-pass and combines the message with the current features of each atom. These intermediate features are passed through an atom-wise two-layer MLP and added to the original features (residual connection).\n",
    "\n",
    "5. Predict atomic energy contributions by performing linear regression on the final (scalar) features of each atom. Each atom type/element has its own bias term.\n",
    "\n",
    "6. Sum the atomic energy contributions within each batch segment to obtain the energy for every molecule in the batch."
   ]
  },
  {
   "cell_type": "code",
   "execution_count": 402,
   "id": "92de0676",
   "metadata": {
    "tags": []
   },
   "outputs": [],
   "source": [
    "class MessagePassingModel(nn.Module):\n",
    "  features: int = 32\n",
    "  max_degree: int = 2\n",
    "  num_iterations: int = 3\n",
    "  num_basis_functions: int = 8\n",
    "  cutoff: float = 5.0\n",
    "  max_atomic_number: int = 118  # This is overkill for most applications.\n",
    "\n",
    "\n",
    "  def energy(self, atomic_numbers, positions, dst_idx, src_idx, batch_segments, batch_size):\n",
    "    print(\"atomic_numbers\", atomic_numbers)\n",
    "    print(\"atomic_numbers.shape\", atomic_numbers.shape)\n",
    "      \n",
    "    # 1. Calculate displacement vectors.\n",
    "    positions_dst = e3x.ops.gather_dst(positions, dst_idx=dst_idx)\n",
    "    positions_src = e3x.ops.gather_src(positions, src_idx=src_idx)\n",
    "    displacements = positions_src - positions_dst  # Shape (num_pairs, 3).\n",
    "\n",
    "    # 2. Expand displacement vectors in basis functions.\n",
    "    basis = e3x.nn.basis(  # Shape (num_pairs, 1, (max_degree+1)**2, num_basis_functions).\n",
    "      displacements,\n",
    "      num=self.num_basis_functions,\n",
    "      max_degree=self.max_degree,\n",
    "      radial_fn=e3x.nn.reciprocal_bernstein,\n",
    "      cutoff_fn=functools.partial(e3x.nn.smooth_cutoff, cutoff=self.cutoff)\n",
    "    )\n",
    "\n",
    "    # 3. Embed atomic numbers in feature space, x has shape (num_atoms, 1, 1, features).\n",
    "    x = e3x.nn.Embed(num_embeddings=self.max_atomic_number+1, features=self.features)(atomic_numbers[0])\n",
    "\n",
    "    # 4. Perform iterations (message-passing + atom-wise refinement).\n",
    "    for i in range(self.num_iterations):\n",
    "      print(\"x\", x.shape)\n",
    "      # Message-pass.\n",
    "      if i == self.num_iterations-1:  # Final iteration.\n",
    "        # Since we will only use scalar features after the final message-pass, we do not want to produce non-scalar\n",
    "        # features for efficiency reasons.\n",
    "        y = e3x.nn.MessagePass(max_degree=0, include_pseudotensors=False)(x, basis, dst_idx=dst_idx, src_idx=src_idx)\n",
    "        # After the final message pass, we can safely throw away all non-scalar features.\n",
    "        x = e3x.nn.change_max_degree_or_type(x, max_degree=0, include_pseudotensors=False)\n",
    "      else:\n",
    "        # In intermediate iterations, the message-pass should consider all possible coupling paths.\n",
    "        y = e3x.nn.MessagePass()(x, basis, dst_idx=dst_idx, src_idx=src_idx)\n",
    "          \n",
    "      y = e3x.nn.add(x, y)\n",
    "\n",
    "      # Atom-wise refinement MLP.\n",
    "      y = e3x.nn.Dense(self.features)(y)\n",
    "      y = e3x.nn.silu(y)\n",
    "      y = e3x.nn.Dense(self.features, kernel_init=jax.nn.initializers.zeros)(y)\n",
    "\n",
    "      # Residual connection.\n",
    "      x = e3x.nn.add(x, y)\n",
    "\n",
    "    print(batch_segments)\n",
    "    # 5. Predict atomic energies with an ordinary dense layer.\n",
    "    element_bias = self.param('element_bias', lambda rng, shape: jnp.zeros(shape), (self.max_atomic_number+1))\n",
    "    atomic_energies = nn.Dense(1, use_bias=False, kernel_init=jax.nn.initializers.zeros)(x)  # (..., Natoms, 1, 1, 1)\n",
    "      \n",
    "    atomic_energies = jnp.squeeze(atomic_energies, axis=(-1, -2, -3))  # Squeeze last 3 dimensions.\n",
    "    # atomic_energies = jnp.squeeze(atomic_energies, axis=(-1, -2))  # Squeeze last 2 dimensions.\n",
    "    atomic_energies += element_bias[atomic_numbers]\n",
    "\n",
    "    print(\"atomic_energies\", atomic_energies.shape)\n",
    "\n",
    "    # 6. Sum atomic energies to obtain the total energy.\n",
    "    energy = jax.ops.segment_sum(atomic_energies.flatten(), segment_ids=batch_segments, num_segments=batch_size)\n",
    "\n",
    "    # To be able to efficiently compute forces, our model should return a single output (instead of one for each\n",
    "    # molecule in the batch). Fortunately, since all atomic contributions only influence the energy in their own\n",
    "    # batch segment, we can simply sum the energy of all molecules in the batch to obtain a single proxy output\n",
    "    # to differentiate.\n",
    "    return -jnp.sum(energy), energy  # Forces are the negative gradient, hence the minus sign.\n",
    "\n",
    "\n",
    "  @nn.compact\n",
    "  def __call__(self, atomic_numbers, positions, dst_idx, src_idx, batch_segments=None, batch_size=None):\n",
    "    if batch_segments is None:\n",
    "      batch_segments = jnp.zeros_like(atomic_numbers)\n",
    "      print(\"batch_segments:None\")\n",
    "      batch_size = 1\n",
    "\n",
    "    print(\"batch_segments\", batch_segments.shape)\n",
    "\n",
    "    # Since we want to also predict forces, i.e. the gradient of the energy w.r.t. positions (argument 1), we use\n",
    "    # jax.value_and_grad to create a function for predicting both energy and forces for us.\n",
    "    energy_and_forces = jax.value_and_grad(self.energy, argnums=1, has_aux=True)\n",
    "    (_, energy), forces = energy_and_forces(atomic_numbers, positions, dst_idx, src_idx, batch_segments, batch_size)\n",
    "\n",
    "    return energy, forces"
   ]
  },
  {
   "cell_type": "markdown",
   "id": "dccda3dc",
   "metadata": {},
   "source": [
    "With our model in place, we now write a function to prepare a batch of molecules in the format described above. For this simple example, the source and destination index lists include all $N(N-1)$ pairwise combinations of $N$ atoms (without self-interactions). E3x contains helper functions, such as `sparse_pairwise_indices`, to construct such $O(N^2)$ index lists. This is fine for a small molecule like ethanol, but we can do better than $O(N^2)$ scaling, which becomes important for larger molecules. Recall that our message-passing model uses a cutoff when expanding displacement vectors in basis functions. While it doesn't hurt to include interactions beyond the cutoff in the index lists (they will simply contribute nothing to the message received by the destination atom), it is not very efficient to do so. In a real application, it would be better to construct the index lists using some spatial partitioning method, such that only interactions within the cutoff distance are included. With this trick, evaluating the message-passing model scales $O(NM)$, where $M \\ll N$ is the average number of atoms within the cutoff distance."
   ]
  },
  {
   "cell_type": "code",
   "execution_count": 403,
   "id": "3427ef21",
   "metadata": {
    "tags": []
   },
   "outputs": [],
   "source": [
    "def prepare_batches(key, data, batch_size):\n",
    "  # Determine the number of training steps per epoch.\n",
    "  data_size = len(data['energy'])\n",
    "  steps_per_epoch = data_size//batch_size\n",
    "\n",
    "  # Draw random permutations for fetching batches from the train data.\n",
    "  perms = jax.random.permutation(key, data_size)\n",
    "  perms = perms[:steps_per_epoch * batch_size]  # Skip the last batch (if incomplete).\n",
    "  perms = perms.reshape((steps_per_epoch, batch_size))\n",
    "\n",
    "  # Prepare entries that are identical for each batch.\n",
    "  num_atoms = len(data['atomic_numbers'][0])\n",
    "  print(\"num_atoms\", num_atoms)\n",
    "  batch_segments = jnp.repeat(jnp.arange(batch_size), num_atoms)\n",
    "  # atomic_numbers = jnp.tile(data['atomic_numbers'], batch_size)\n",
    "  offsets = jnp.arange(batch_size) * num_atoms\n",
    "  dst_idx, src_idx = e3x.ops.sparse_pairwise_indices(num_atoms)\n",
    "  dst_idx = (dst_idx + offsets[:, None]).reshape(-1)\n",
    "  src_idx = (src_idx + offsets[:, None]).reshape(-1)\n",
    "\n",
    "  # Assemble and return batches.\n",
    "  return [\n",
    "    dict(\n",
    "        energy=data['energy'][perm],\n",
    "        forces=data['forces'][perm].reshape(-1, 3),\n",
    "        atomic_numbers=data['atomic_numbers'][perm], #atomic_numbers,\n",
    "        positions=data['positions'][perm].reshape(-1, 3),\n",
    "        dst_idx=dst_idx,\n",
    "        src_idx=src_idx,\n",
    "        batch_segments = batch_segments,\n",
    "    )\n",
    "    for perm in perms\n",
    "  ]"
   ]
  },
  {
   "cell_type": "markdown",
   "id": "f8267ce2",
   "metadata": {},
   "source": [
    "Next, we define our loss function. As is common for regression tasks, we choose the $L_2$ (squared error) loss. Since we want to fit two different quantities at once (energy and forces), we simply add their respective losses together. We also add a weighting factor that allows us to tune the relative importance of the different loss terms. For convenience, we also define a function to compute the mean absolute errors, for keeping track of the model performance during training."
   ]
  },
  {
   "cell_type": "code",
   "execution_count": 404,
   "id": "42ade191",
   "metadata": {
    "tags": []
   },
   "outputs": [],
   "source": [
    "def mean_squared_loss(energy_prediction, energy_target, forces_prediction, forces_target, forces_weight):\n",
    "  energy_loss = jnp.mean(optax.l2_loss(energy_prediction, energy_target))\n",
    "  forces_loss = jnp.mean(optax.l2_loss(forces_prediction, forces_target))\n",
    "  return energy_loss + forces_weight * forces_loss\n",
    "\n",
    "def mean_absolute_error(prediction, target):\n",
    "  return jnp.mean(jnp.abs(prediction - target))"
   ]
  },
  {
   "cell_type": "markdown",
   "id": "a3464331",
   "metadata": {},
   "source": [
    "Now that we have all the ingredients, we need to write some boilerplate for training models."
   ]
  },
  {
   "cell_type": "code",
   "execution_count": 405,
   "id": "8e54eb5a",
   "metadata": {
    "tags": []
   },
   "outputs": [],
   "source": [
    "@functools.partial(jax.jit, static_argnames=('model_apply', 'optimizer_update', 'batch_size'))\n",
    "def train_step(model_apply, optimizer_update, batch, batch_size, forces_weight, opt_state, params):\n",
    "  for k,v in batch.items():\n",
    "      print(k,v.shape)\n",
    "  def loss_fn(params):\n",
    "    energy, forces = model_apply(\n",
    "      params,\n",
    "      atomic_numbers=batch['atomic_numbers'],\n",
    "      positions=batch['positions'],\n",
    "      dst_idx=batch['dst_idx'],\n",
    "      src_idx=batch['src_idx'],\n",
    "      batch_segments=batch['batch_segments'],\n",
    "      batch_size=batch_size\n",
    "    )\n",
    "    loss = mean_squared_loss(\n",
    "      energy_prediction=energy,\n",
    "      energy_target=batch['energy'],\n",
    "      forces_prediction=forces,\n",
    "      forces_target=batch['forces'],\n",
    "      forces_weight=forces_weight\n",
    "    )\n",
    "    return loss, (energy, forces)\n",
    "  (loss, (energy, forces)), grad = jax.value_and_grad(loss_fn, has_aux=True)(params)\n",
    "  updates, opt_state = optimizer_update(grad, opt_state, params)\n",
    "  params = optax.apply_updates(params, updates)\n",
    "  energy_mae = mean_absolute_error(energy, batch['energy'])\n",
    "  forces_mae = mean_absolute_error(forces, batch['forces'])\n",
    "  return params, opt_state, loss, energy_mae, forces_mae\n",
    "\n",
    "\n",
    "@functools.partial(jax.jit, static_argnames=('model_apply', 'batch_size'))\n",
    "def eval_step(model_apply, batch, batch_size, forces_weight, params):\n",
    "  print(\"eval_step:\")\n",
    "  for k,v in batch.items():\n",
    "      print(k,v.shape)\n",
    "\n",
    "    \n",
    "  energy, forces = model_apply(\n",
    "    params,\n",
    "    atomic_numbers=batch['atomic_numbers'],\n",
    "    positions=batch['positions'],\n",
    "    dst_idx=batch['dst_idx'],\n",
    "    src_idx=batch['src_idx'],\n",
    "    batch_segments=batch['batch_segments'],\n",
    "    batch_size=batch_size\n",
    "  )\n",
    "  loss = mean_squared_loss(\n",
    "    energy_prediction=energy,\n",
    "    energy_target=batch['energy'],\n",
    "    forces_prediction=forces,\n",
    "    forces_target=batch['forces'],\n",
    "    forces_weight=forces_weight\n",
    "  )\n",
    "  energy_mae = mean_absolute_error(energy, batch['energy'])\n",
    "  forces_mae = mean_absolute_error(forces, batch['forces'])\n",
    "  return loss, energy_mae, forces_mae\n",
    "\n",
    "\n",
    "def train_model(key, model, train_data, valid_data, num_epochs, learning_rate, forces_weight, batch_size):\n",
    "  # Initialize model parameters and optimizer state.\n",
    "  key, init_key = jax.random.split(key)\n",
    "  optimizer = optax.adam(learning_rate)\n",
    "  dst_idx, src_idx = e3x.ops.sparse_pairwise_indices(len(train_data['atomic_numbers'][0]))\n",
    "  params = model.init(init_key,\n",
    "    atomic_numbers=train_data['atomic_numbers'][0][None,:],\n",
    "    positions=train_data['positions'][0],\n",
    "    dst_idx=dst_idx,\n",
    "    src_idx=src_idx,\n",
    "  )\n",
    "  opt_state = optimizer.init(params)\n",
    "\n",
    "  # Batches for the validation set need to be prepared only once.\n",
    "  key, shuffle_key = jax.random.split(key)\n",
    "  valid_batches = prepare_batches(shuffle_key, valid_data, batch_size)\n",
    "\n",
    "  # Train for 'num_epochs' epochs.\n",
    "  for epoch in range(1, num_epochs + 1):\n",
    "    # Prepare batches.\n",
    "    key, shuffle_key = jax.random.split(key)\n",
    "    train_batches = prepare_batches(shuffle_key, train_data, batch_size)\n",
    "\n",
    "    # Loop over train batches.\n",
    "    train_loss = 0.0\n",
    "    train_energy_mae = 0.0\n",
    "    train_forces_mae = 0.0\n",
    "    for i, batch in enumerate(train_batches):\n",
    "      params, opt_state, loss, energy_mae, forces_mae = train_step(\n",
    "        model_apply=model.apply,\n",
    "        optimizer_update=optimizer.update,\n",
    "        batch=batch,\n",
    "        batch_size=batch_size,\n",
    "        forces_weight=forces_weight,\n",
    "        opt_state=opt_state,\n",
    "        params=params\n",
    "      )\n",
    "      train_loss += (loss - train_loss)/(i+1)\n",
    "      train_energy_mae += (energy_mae - train_energy_mae)/(i+1)\n",
    "      train_forces_mae += (forces_mae - train_forces_mae)/(i+1)\n",
    "\n",
    "    # Evaluate on validation set.\n",
    "    valid_loss = 0.0\n",
    "    valid_energy_mae = 0.0\n",
    "    valid_forces_mae = 0.0\n",
    "    for i, batch in enumerate(valid_batches):\n",
    "      loss, energy_mae, forces_mae = eval_step(\n",
    "        model_apply=model.apply,\n",
    "        batch=batch,\n",
    "        batch_size=batch_size,\n",
    "        forces_weight=forces_weight,\n",
    "        params=params\n",
    "      )\n",
    "      valid_loss += (loss - valid_loss)/(i+1)\n",
    "      valid_energy_mae += (energy_mae - valid_energy_mae)/(i+1)\n",
    "      valid_forces_mae += (forces_mae - valid_forces_mae)/(i+1)\n",
    "\n",
    "    # Print progress.\n",
    "    print(f\"epoch: {epoch: 3d}                    train:   valid:\")\n",
    "    print(f\"    loss [a.u.]             {train_loss : 8.3f} {valid_loss : 8.3f}\")\n",
    "    print(f\"    energy mae [kcal/mol]   {train_energy_mae: 8.3f} {valid_energy_mae: 8.3f}\")\n",
    "    print(f\"    forces mae [kcal/mol/Å] {train_forces_mae: 8.3f} {valid_forces_mae: 8.3f}\")\n",
    "\n",
    "\n",
    "  # Return final model parameters.\n",
    "  return params"
   ]
  },
  {
   "cell_type": "markdown",
   "id": "477e66ad",
   "metadata": {},
   "source": [
    "The last step before training the model is to define the hyperparamters."
   ]
  },
  {
   "cell_type": "code",
   "execution_count": 413,
   "id": "ea80b8a9",
   "metadata": {
    "tags": []
   },
   "outputs": [],
   "source": [
    "# Model hyperparameters.\n",
    "features = 32\n",
    "max_degree = 2\n",
    "num_iterations = 3\n",
    "num_basis_functions = 16\n",
    "cutoff = 5.0\n",
    "\n",
    "# Training hyperparameters.\n",
    "num_train = 900\n",
    "num_valid = 100\n",
    "num_epochs = 100\n",
    "learning_rate = 0.01\n",
    "forces_weight = 1.0\n",
    "batch_size = 100"
   ]
  },
  {
   "cell_type": "code",
   "execution_count": 414,
   "id": "3165a30d-5bea-4e3e-9f88-5a43292930a6",
   "metadata": {},
   "outputs": [
    {
     "data": {
      "text/plain": [
       "[CpuDevice(id=0)]"
      ]
     },
     "execution_count": 414,
     "metadata": {},
     "output_type": "execute_result"
    }
   ],
   "source": [
    "jax.default_backend()\n",
    "jax.devices()\n"
   ]
  },
  {
   "cell_type": "markdown",
   "id": "8b9ed7f5",
   "metadata": {},
   "source": [
    "Finally, we can train our model."
   ]
  },
  {
   "cell_type": "code",
   "execution_count": 415,
   "id": "bfe80569",
   "metadata": {
    "tags": []
   },
   "outputs": [
    {
     "name": "stdout",
     "output_type": "stream",
     "text": [
      "len(train) 900\n",
      "len(valid) 100\n"
     ]
    }
   ],
   "source": [
    "# Create PRNGKeys.\n",
    "data_key, train_key = jax.random.split(jax.random.PRNGKey(0), 2)\n",
    "\n",
    "# Draw training and validation sets.\n",
    "train_data, valid_data, _ = prepare_datasets(data_key, num_train=num_train, num_valid=num_valid)\n"
   ]
  },
  {
   "cell_type": "code",
   "execution_count": 416,
   "id": "a42d09ea-a26a-4f48-b7be-b0d374d0d0ea",
   "metadata": {},
   "outputs": [
    {
     "data": {
      "text/plain": [
       "(900, 3)"
      ]
     },
     "execution_count": 416,
     "metadata": {},
     "output_type": "execute_result"
    }
   ],
   "source": [
    "train_data[\"atomic_numbers\"].shape"
   ]
  },
  {
   "cell_type": "code",
   "execution_count": 417,
   "id": "97bfe10f-17d1-447c-be22-a3b1ca99e414",
   "metadata": {},
   "outputs": [
    {
     "data": {
      "text/plain": [
       "(100, 3)"
      ]
     },
     "execution_count": 417,
     "metadata": {},
     "output_type": "execute_result"
    }
   ],
   "source": [
    "valid_data[\"atomic_numbers\"].shape"
   ]
  },
  {
   "cell_type": "code",
   "execution_count": 418,
   "id": "8e55f9bd-5db4-46e3-b4dd-e41e00438374",
   "metadata": {},
   "outputs": [],
   "source": [
    "\n",
    "# Create and train model.\n",
    "message_passing_model = MessagePassingModel(\n",
    "  features=features,\n",
    "  max_degree=max_degree,\n",
    "  num_iterations=num_iterations,\n",
    "  num_basis_functions=num_basis_functions,\n",
    "  cutoff=cutoff,\n",
    ")\n"
   ]
  },
  {
   "cell_type": "code",
   "execution_count": 419,
   "id": "54176943-5a49-4c50-8383-af673ec009f4",
   "metadata": {},
   "outputs": [
    {
     "name": "stdout",
     "output_type": "stream",
     "text": [
      "batch_segments:None\n",
      "batch_segments (1, 3)\n",
      "atomic_numbers [[1 8 1]]\n",
      "atomic_numbers.shape (1, 3)\n",
      "x (3, 1, 1, 32)\n",
      "x (3, 1, 9, 32)\n",
      "x (3, 2, 9, 32)\n",
      "[[0 0 0]]\n",
      "atomic_energies (1, 3)\n",
      "num_atoms 3\n",
      "num_atoms 3\n",
      "atomic_numbers (100, 3)\n",
      "batch_segments (300,)\n",
      "dst_idx (600,)\n",
      "energy (100,)\n",
      "forces (300, 3)\n",
      "positions (300, 3)\n",
      "src_idx (600,)\n",
      "batch_segments (300,)\n",
      "atomic_numbers Traced<ShapedArray(int32[100,3])>with<DynamicJaxprTrace(level=1/0)>\n",
      "atomic_numbers.shape (100, 3)\n",
      "x (3, 1, 1, 32)\n",
      "x (3, 1, 9, 32)\n",
      "x (3, 2, 9, 32)\n",
      "Traced<ShapedArray(int32[300])>with<DynamicJaxprTrace(level=1/0)>\n",
      "atomic_energies (100, 3)\n",
      "eval_step:\n",
      "atomic_numbers (100, 3)\n",
      "batch_segments (300,)\n",
      "dst_idx (600,)\n",
      "energy (100,)\n",
      "forces (300, 3)\n",
      "positions (300, 3)\n",
      "src_idx (600,)\n",
      "batch_segments (300,)\n",
      "atomic_numbers Traced<ShapedArray(int32[100,3])>with<DynamicJaxprTrace(level=1/0)>\n",
      "atomic_numbers.shape (100, 3)\n",
      "x (3, 1, 1, 32)\n",
      "x (3, 1, 9, 32)\n",
      "x (3, 2, 9, 32)\n",
      "Traced<ShapedArray(int32[300])>with<DynamicJaxprTrace(level=1/0)>\n",
      "atomic_energies (100, 3)\n",
      "epoch:   1                    train:   valid:\n",
      "    loss [a.u.]               31.418    0.897\n",
      "    energy mae [kcal/mol]      7.164    0.924\n",
      "    forces mae [kcal/mol/Å]    0.556    0.539\n",
      "num_atoms 3\n",
      "epoch:   2                    train:   valid:\n",
      "    loss [a.u.]               11.210    7.132\n",
      "    energy mae [kcal/mol]      4.414    3.656\n",
      "    forces mae [kcal/mol/Å]    0.544    0.524\n",
      "num_atoms 3\n",
      "epoch:   3                    train:   valid:\n",
      "    loss [a.u.]                3.374    1.302\n",
      "    energy mae [kcal/mol]      2.193    1.305\n",
      "    forces mae [kcal/mol/Å]    0.547    0.526\n",
      "num_atoms 3\n",
      "epoch:   4                    train:   valid:\n",
      "    loss [a.u.]                1.267    1.309\n",
      "    energy mae [kcal/mol]      1.154    1.311\n",
      "    forces mae [kcal/mol/Å]    0.543    0.524\n",
      "num_atoms 3\n",
      "epoch:   5                    train:   valid:\n",
      "    loss [a.u.]                0.789    0.861\n",
      "    energy mae [kcal/mol]      0.687    0.907\n",
      "    forces mae [kcal/mol/Å]    0.543    0.526\n",
      "num_atoms 3\n",
      "epoch:   6                    train:   valid:\n",
      "    loss [a.u.]                0.627    0.601\n",
      "    energy mae [kcal/mol]      0.460    0.551\n",
      "    forces mae [kcal/mol/Å]    0.542    0.524\n",
      "num_atoms 3\n",
      "epoch:   7                    train:   valid:\n",
      "    loss [a.u.]                0.552    0.480\n",
      "    energy mae [kcal/mol]      0.319    0.250\n",
      "    forces mae [kcal/mol/Å]    0.542    0.524\n",
      "num_atoms 3\n",
      "epoch:   8                    train:   valid:\n",
      "    loss [a.u.]                0.513    0.459\n",
      "    energy mae [kcal/mol]      0.211    0.156\n",
      "    forces mae [kcal/mol/Å]    0.542    0.524\n",
      "num_atoms 3\n",
      "epoch:   9                    train:   valid:\n",
      "    loss [a.u.]                0.496    0.449\n",
      "    energy mae [kcal/mol]      0.157    0.042\n",
      "    forces mae [kcal/mol/Å]    0.542    0.523\n",
      "num_atoms 3\n",
      "epoch:  10                    train:   valid:\n",
      "    loss [a.u.]                0.489    0.449\n",
      "    energy mae [kcal/mol]      0.083    0.075\n",
      "    forces mae [kcal/mol/Å]    0.541    0.523\n",
      "num_atoms 3\n",
      "epoch:  11                    train:   valid:\n",
      "    loss [a.u.]                0.487    0.448\n",
      "    energy mae [kcal/mol]      0.096    0.041\n",
      "    forces mae [kcal/mol/Å]    0.541    0.522\n",
      "num_atoms 3\n",
      "epoch:  12                    train:   valid:\n",
      "    loss [a.u.]                0.486    0.450\n",
      "    energy mae [kcal/mol]      0.048    0.061\n",
      "    forces mae [kcal/mol/Å]    0.541    0.526\n",
      "num_atoms 3\n",
      "epoch:  13                    train:   valid:\n",
      "    loss [a.u.]                0.486    0.450\n",
      "    energy mae [kcal/mol]      0.073    0.047\n",
      "    forces mae [kcal/mol/Å]    0.540    0.526\n",
      "num_atoms 3\n",
      "epoch:  14                    train:   valid:\n",
      "    loss [a.u.]                0.486    0.449\n",
      "    energy mae [kcal/mol]      0.056    0.059\n",
      "    forces mae [kcal/mol/Å]    0.541    0.524\n",
      "num_atoms 3\n",
      "epoch:  15                    train:   valid:\n",
      "    loss [a.u.]                0.486    0.448\n",
      "    energy mae [kcal/mol]      0.063    0.049\n",
      "    forces mae [kcal/mol/Å]    0.541    0.523\n",
      "num_atoms 3\n",
      "epoch:  16                    train:   valid:\n",
      "    loss [a.u.]                0.486    0.448\n",
      "    energy mae [kcal/mol]      0.059    0.054\n",
      "    forces mae [kcal/mol/Å]    0.541    0.522\n",
      "num_atoms 3\n",
      "epoch:  17                    train:   valid:\n",
      "    loss [a.u.]                0.487    0.449\n",
      "    energy mae [kcal/mol]      0.060    0.052\n",
      "    forces mae [kcal/mol/Å]    0.541    0.525\n",
      "num_atoms 3\n",
      "epoch:  18                    train:   valid:\n",
      "    loss [a.u.]                0.485    0.448\n",
      "    energy mae [kcal/mol]      0.061    0.049\n",
      "    forces mae [kcal/mol/Å]    0.541    0.522\n",
      "num_atoms 3\n",
      "epoch:  19                    train:   valid:\n",
      "    loss [a.u.]                0.485    0.449\n",
      "    energy mae [kcal/mol]      0.061    0.050\n",
      "    forces mae [kcal/mol/Å]    0.541    0.525\n",
      "num_atoms 3\n",
      "epoch:  20                    train:   valid:\n",
      "    loss [a.u.]                0.484    0.449\n",
      "    energy mae [kcal/mol]      0.057    0.055\n",
      "    forces mae [kcal/mol/Å]    0.540    0.525\n",
      "num_atoms 3\n",
      "epoch:  21                    train:   valid:\n",
      "    loss [a.u.]                0.485    0.449\n",
      "    energy mae [kcal/mol]      0.063    0.049\n",
      "    forces mae [kcal/mol/Å]    0.540    0.523\n",
      "num_atoms 3\n",
      "epoch:  22                    train:   valid:\n",
      "    loss [a.u.]                0.482    0.449\n",
      "    energy mae [kcal/mol]      0.061    0.051\n",
      "    forces mae [kcal/mol/Å]    0.541    0.524\n",
      "num_atoms 3\n",
      "epoch:  23                    train:   valid:\n",
      "    loss [a.u.]                0.486    0.448\n",
      "    energy mae [kcal/mol]      0.058    0.053\n",
      "    forces mae [kcal/mol/Å]    0.541    0.523\n",
      "num_atoms 3\n",
      "epoch:  24                    train:   valid:\n",
      "    loss [a.u.]                0.485    0.449\n",
      "    energy mae [kcal/mol]      0.062    0.050\n",
      "    forces mae [kcal/mol/Å]    0.540    0.524\n",
      "num_atoms 3\n",
      "epoch:  25                    train:   valid:\n",
      "    loss [a.u.]                0.485    0.449\n",
      "    energy mae [kcal/mol]      0.058    0.053\n",
      "    forces mae [kcal/mol/Å]    0.539    0.523\n",
      "num_atoms 3\n",
      "epoch:  26                    train:   valid:\n",
      "    loss [a.u.]                0.479    0.449\n",
      "    energy mae [kcal/mol]      0.059    0.056\n",
      "    forces mae [kcal/mol/Å]    0.539    0.524\n",
      "num_atoms 3\n",
      "epoch:  27                    train:   valid:\n",
      "    loss [a.u.]                0.485    0.449\n",
      "    energy mae [kcal/mol]      0.060    0.063\n",
      "    forces mae [kcal/mol/Å]    0.540    0.524\n",
      "num_atoms 3\n",
      "epoch:  28                    train:   valid:\n",
      "    loss [a.u.]                0.483    0.451\n",
      "    energy mae [kcal/mol]      0.061    0.046\n",
      "    forces mae [kcal/mol/Å]    0.539    0.527\n",
      "num_atoms 3\n",
      "epoch:  29                    train:   valid:\n",
      "    loss [a.u.]                0.486    0.449\n",
      "    energy mae [kcal/mol]      0.063    0.050\n",
      "    forces mae [kcal/mol/Å]    0.542    0.524\n",
      "num_atoms 3\n",
      "epoch:  30                    train:   valid:\n",
      "    loss [a.u.]                0.485    0.449\n",
      "    energy mae [kcal/mol]      0.058    0.063\n",
      "    forces mae [kcal/mol/Å]    0.540    0.524\n",
      "num_atoms 3\n",
      "epoch:  31                    train:   valid:\n",
      "    loss [a.u.]                0.483    0.448\n",
      "    energy mae [kcal/mol]      0.060    0.053\n",
      "    forces mae [kcal/mol/Å]    0.538    0.522\n",
      "num_atoms 3\n",
      "epoch:  32                    train:   valid:\n",
      "    loss [a.u.]                0.486    0.448\n",
      "    energy mae [kcal/mol]      0.063    0.039\n",
      "    forces mae [kcal/mol/Å]    0.540    0.522\n",
      "num_atoms 3\n",
      "epoch:  33                    train:   valid:\n",
      "    loss [a.u.]                0.482    0.449\n",
      "    energy mae [kcal/mol]      0.059    0.064\n",
      "    forces mae [kcal/mol/Å]    0.538    0.523\n",
      "num_atoms 3\n",
      "epoch:  34                    train:   valid:\n",
      "    loss [a.u.]                0.484    0.448\n",
      "    energy mae [kcal/mol]      0.059    0.057\n",
      "    forces mae [kcal/mol/Å]    0.539    0.523\n",
      "num_atoms 3\n",
      "epoch:  35                    train:   valid:\n",
      "    loss [a.u.]                0.473    0.451\n",
      "    energy mae [kcal/mol]      0.062    0.035\n",
      "    forces mae [kcal/mol/Å]    0.537    0.527\n",
      "num_atoms 3\n",
      "epoch:  36                    train:   valid:\n",
      "    loss [a.u.]                0.484    0.449\n",
      "    energy mae [kcal/mol]      0.060    0.057\n",
      "    forces mae [kcal/mol/Å]    0.538    0.523\n",
      "num_atoms 3\n",
      "epoch:  37                    train:   valid:\n",
      "    loss [a.u.]                0.484    0.448\n",
      "    energy mae [kcal/mol]      0.062    0.049\n",
      "    forces mae [kcal/mol/Å]    0.538    0.522\n",
      "num_atoms 3\n",
      "epoch:  38                    train:   valid:\n",
      "    loss [a.u.]                0.485    0.448\n",
      "    energy mae [kcal/mol]      0.059    0.047\n",
      "    forces mae [kcal/mol/Å]    0.539    0.522\n",
      "num_atoms 3\n",
      "epoch:  39                    train:   valid:\n",
      "    loss [a.u.]                0.484    0.448\n",
      "    energy mae [kcal/mol]      0.061    0.051\n",
      "    forces mae [kcal/mol/Å]    0.539    0.522\n",
      "num_atoms 3\n",
      "epoch:  40                    train:   valid:\n",
      "    loss [a.u.]                0.483    0.448\n",
      "    energy mae [kcal/mol]      0.060    0.054\n",
      "    forces mae [kcal/mol/Å]    0.539    0.521\n",
      "num_atoms 3\n",
      "epoch:  41                    train:   valid:\n",
      "    loss [a.u.]                0.485    0.448\n",
      "    energy mae [kcal/mol]      0.061    0.042\n",
      "    forces mae [kcal/mol/Å]    0.539    0.522\n",
      "num_atoms 3\n",
      "epoch:  42                    train:   valid:\n",
      "    loss [a.u.]                0.481    0.448\n",
      "    energy mae [kcal/mol]      0.059    0.056\n",
      "    forces mae [kcal/mol/Å]    0.536    0.522\n",
      "num_atoms 3\n",
      "epoch:  43                    train:   valid:\n",
      "    loss [a.u.]                0.485    0.448\n",
      "    energy mae [kcal/mol]      0.059    0.051\n",
      "    forces mae [kcal/mol/Å]    0.538    0.522\n",
      "num_atoms 3\n",
      "epoch:  44                    train:   valid:\n",
      "    loss [a.u.]                0.483    0.448\n",
      "    energy mae [kcal/mol]      0.060    0.055\n",
      "    forces mae [kcal/mol/Å]    0.538    0.523\n",
      "num_atoms 3\n",
      "epoch:  45                    train:   valid:\n",
      "    loss [a.u.]                0.480    0.448\n",
      "    energy mae [kcal/mol]      0.060    0.056\n",
      "    forces mae [kcal/mol/Å]    0.538    0.523\n",
      "num_atoms 3\n",
      "epoch:  46                    train:   valid:\n",
      "    loss [a.u.]                0.484    0.448\n",
      "    energy mae [kcal/mol]      0.061    0.044\n",
      "    forces mae [kcal/mol/Å]    0.538    0.522\n",
      "num_atoms 3\n",
      "epoch:  47                    train:   valid:\n",
      "    loss [a.u.]                0.470    0.448\n",
      "    energy mae [kcal/mol]      0.060    0.052\n",
      "    forces mae [kcal/mol/Å]    0.535    0.523\n",
      "num_atoms 3\n",
      "epoch:  48                    train:   valid:\n",
      "    loss [a.u.]                0.485    0.449\n",
      "    energy mae [kcal/mol]      0.060    0.061\n",
      "    forces mae [kcal/mol/Å]    0.540    0.523\n",
      "num_atoms 3\n",
      "epoch:  49                    train:   valid:\n",
      "    loss [a.u.]                0.482    0.449\n",
      "    energy mae [kcal/mol]      0.058    0.061\n",
      "    forces mae [kcal/mol/Å]    0.537    0.522\n",
      "num_atoms 3\n",
      "epoch:  50                    train:   valid:\n",
      "    loss [a.u.]                0.479    0.448\n",
      "    energy mae [kcal/mol]      0.060    0.054\n",
      "    forces mae [kcal/mol/Å]    0.536    0.522\n",
      "num_atoms 3\n",
      "epoch:  51                    train:   valid:\n",
      "    loss [a.u.]                0.473    0.449\n",
      "    energy mae [kcal/mol]      0.061    0.053\n",
      "    forces mae [kcal/mol/Å]    0.535    0.523\n",
      "num_atoms 3\n",
      "epoch:  52                    train:   valid:\n",
      "    loss [a.u.]                0.484    0.449\n",
      "    energy mae [kcal/mol]      0.058    0.070\n",
      "    forces mae [kcal/mol/Å]    0.538    0.522\n",
      "num_atoms 3\n",
      "epoch:  53                    train:   valid:\n",
      "    loss [a.u.]                0.480    0.449\n",
      "    energy mae [kcal/mol]      0.060    0.069\n",
      "    forces mae [kcal/mol/Å]    0.538    0.523\n",
      "num_atoms 3\n",
      "epoch:  54                    train:   valid:\n",
      "    loss [a.u.]                0.484    0.448\n",
      "    energy mae [kcal/mol]      0.064    0.047\n",
      "    forces mae [kcal/mol/Å]    0.538    0.522\n",
      "num_atoms 3\n",
      "epoch:  55                    train:   valid:\n",
      "    loss [a.u.]                0.485    0.448\n",
      "    energy mae [kcal/mol]      0.064    0.041\n",
      "    forces mae [kcal/mol/Å]    0.539    0.522\n",
      "num_atoms 3\n",
      "epoch:  56                    train:   valid:\n",
      "    loss [a.u.]                0.485    0.448\n",
      "    energy mae [kcal/mol]      0.058    0.049\n",
      "    forces mae [kcal/mol/Å]    0.538    0.522\n",
      "num_atoms 3\n",
      "epoch:  57                    train:   valid:\n",
      "    loss [a.u.]                0.476    0.448\n",
      "    energy mae [kcal/mol]      0.064    0.041\n",
      "    forces mae [kcal/mol/Å]    0.535    0.522\n",
      "num_atoms 3\n",
      "epoch:  58                    train:   valid:\n",
      "    loss [a.u.]                0.482    0.448\n",
      "    energy mae [kcal/mol]      0.063    0.051\n",
      "    forces mae [kcal/mol/Å]    0.537    0.522\n",
      "num_atoms 3\n",
      "epoch:  59                    train:   valid:\n",
      "    loss [a.u.]                0.483    0.449\n",
      "    energy mae [kcal/mol]      0.057    0.064\n",
      "    forces mae [kcal/mol/Å]    0.537    0.522\n",
      "num_atoms 3\n",
      "epoch:  60                    train:   valid:\n",
      "    loss [a.u.]                0.484    0.448\n",
      "    energy mae [kcal/mol]      0.062    0.054\n",
      "    forces mae [kcal/mol/Å]    0.537    0.522\n",
      "num_atoms 3\n",
      "epoch:  61                    train:   valid:\n",
      "    loss [a.u.]                0.485    0.449\n",
      "    energy mae [kcal/mol]      0.059    0.066\n",
      "    forces mae [kcal/mol/Å]    0.538    0.522\n",
      "num_atoms 3\n",
      "epoch:  62                    train:   valid:\n",
      "    loss [a.u.]                0.482    0.448\n",
      "    energy mae [kcal/mol]      0.061    0.050\n",
      "    forces mae [kcal/mol/Å]    0.537    0.522\n",
      "num_atoms 3\n",
      "epoch:  63                    train:   valid:\n",
      "    loss [a.u.]                0.483    0.448\n",
      "    energy mae [kcal/mol]      0.061    0.048\n",
      "    forces mae [kcal/mol/Å]    0.537    0.522\n",
      "num_atoms 3\n",
      "epoch:  64                    train:   valid:\n",
      "    loss [a.u.]                0.472    0.449\n",
      "    energy mae [kcal/mol]      0.061    0.037\n",
      "    forces mae [kcal/mol/Å]    0.534    0.524\n",
      "num_atoms 3\n",
      "epoch:  65                    train:   valid:\n",
      "    loss [a.u.]                0.484    0.448\n",
      "    energy mae [kcal/mol]      0.061    0.054\n",
      "    forces mae [kcal/mol/Å]    0.539    0.523\n",
      "num_atoms 3\n",
      "epoch:  66                    train:   valid:\n",
      "    loss [a.u.]                0.481    0.449\n",
      "    energy mae [kcal/mol]      0.056    0.071\n",
      "    forces mae [kcal/mol/Å]    0.537    0.522\n",
      "num_atoms 3\n",
      "epoch:  67                    train:   valid:\n",
      "    loss [a.u.]                0.480    0.448\n",
      "    energy mae [kcal/mol]      0.061    0.045\n",
      "    forces mae [kcal/mol/Å]    0.536    0.522\n",
      "num_atoms 3\n",
      "epoch:  68                    train:   valid:\n",
      "    loss [a.u.]                0.484    0.448\n",
      "    energy mae [kcal/mol]      0.062    0.054\n",
      "    forces mae [kcal/mol/Å]    0.538    0.522\n",
      "num_atoms 3\n",
      "epoch:  69                    train:   valid:\n",
      "    loss [a.u.]                0.485    0.448\n",
      "    energy mae [kcal/mol]      0.058    0.054\n",
      "    forces mae [kcal/mol/Å]    0.539    0.521\n",
      "num_atoms 3\n",
      "epoch:  70                    train:   valid:\n",
      "    loss [a.u.]                0.478    0.448\n",
      "    energy mae [kcal/mol]      0.059    0.045\n",
      "    forces mae [kcal/mol/Å]    0.536    0.521\n",
      "num_atoms 3\n",
      "epoch:  71                    train:   valid:\n",
      "    loss [a.u.]                0.485    0.448\n",
      "    energy mae [kcal/mol]      0.063    0.043\n",
      "    forces mae [kcal/mol/Å]    0.538    0.523\n",
      "num_atoms 3\n",
      "epoch:  72                    train:   valid:\n",
      "    loss [a.u.]                0.484    0.449\n",
      "    energy mae [kcal/mol]      0.063    0.042\n",
      "    forces mae [kcal/mol/Å]    0.538    0.524\n",
      "num_atoms 3\n",
      "epoch:  73                    train:   valid:\n",
      "    loss [a.u.]                0.485    0.448\n",
      "    energy mae [kcal/mol]      0.063    0.037\n",
      "    forces mae [kcal/mol/Å]    0.539    0.522\n",
      "num_atoms 3\n",
      "epoch:  74                    train:   valid:\n",
      "    loss [a.u.]                0.482    0.448\n",
      "    energy mae [kcal/mol]      0.059    0.055\n",
      "    forces mae [kcal/mol/Å]    0.537    0.522\n",
      "num_atoms 3\n",
      "epoch:  75                    train:   valid:\n",
      "    loss [a.u.]                0.479    0.449\n",
      "    energy mae [kcal/mol]      0.059    0.071\n",
      "    forces mae [kcal/mol/Å]    0.535    0.522\n",
      "num_atoms 3\n",
      "epoch:  76                    train:   valid:\n",
      "    loss [a.u.]                0.481    0.448\n",
      "    energy mae [kcal/mol]      0.061    0.048\n",
      "    forces mae [kcal/mol/Å]    0.535    0.521\n",
      "num_atoms 3\n",
      "epoch:  77                    train:   valid:\n",
      "    loss [a.u.]                0.473    0.449\n",
      "    energy mae [kcal/mol]      0.059    0.057\n",
      "    forces mae [kcal/mol/Å]    0.534    0.523\n",
      "num_atoms 3\n",
      "epoch:  78                    train:   valid:\n",
      "    loss [a.u.]                0.484    0.449\n",
      "    energy mae [kcal/mol]      0.062    0.056\n",
      "    forces mae [kcal/mol/Å]    0.538    0.523\n",
      "num_atoms 3\n",
      "epoch:  79                    train:   valid:\n",
      "    loss [a.u.]                0.484    0.449\n",
      "    energy mae [kcal/mol]      0.058    0.071\n",
      "    forces mae [kcal/mol/Å]    0.538    0.522\n",
      "num_atoms 3\n",
      "epoch:  80                    train:   valid:\n",
      "    loss [a.u.]                0.482    0.450\n",
      "    energy mae [kcal/mol]      0.061    0.084\n",
      "    forces mae [kcal/mol/Å]    0.536    0.522\n",
      "num_atoms 3\n",
      "epoch:  81                    train:   valid:\n",
      "    loss [a.u.]                0.485    0.448\n",
      "    energy mae [kcal/mol]      0.066    0.064\n",
      "    forces mae [kcal/mol/Å]    0.538    0.522\n",
      "num_atoms 3\n",
      "epoch:  82                    train:   valid:\n",
      "    loss [a.u.]                0.484    0.448\n",
      "    energy mae [kcal/mol]      0.066    0.050\n",
      "    forces mae [kcal/mol/Å]    0.538    0.522\n",
      "num_atoms 3\n",
      "epoch:  83                    train:   valid:\n",
      "    loss [a.u.]                0.484    0.448\n",
      "    energy mae [kcal/mol]      0.062    0.050\n",
      "    forces mae [kcal/mol/Å]    0.537    0.522\n",
      "num_atoms 3\n",
      "epoch:  84                    train:   valid:\n",
      "    loss [a.u.]                0.484    0.448\n",
      "    energy mae [kcal/mol]      0.062    0.035\n",
      "    forces mae [kcal/mol/Å]    0.537    0.521\n",
      "num_atoms 3\n",
      "epoch:  85                    train:   valid:\n",
      "    loss [a.u.]                0.479    0.448\n",
      "    energy mae [kcal/mol]      0.064    0.034\n",
      "    forces mae [kcal/mol/Å]    0.535    0.522\n",
      "num_atoms 3\n",
      "epoch:  86                    train:   valid:\n",
      "    loss [a.u.]                0.484    0.448\n",
      "    energy mae [kcal/mol]      0.061    0.047\n",
      "    forces mae [kcal/mol/Å]    0.538    0.521\n",
      "num_atoms 3\n",
      "epoch:  87                    train:   valid:\n",
      "    loss [a.u.]                0.472    0.449\n",
      "    energy mae [kcal/mol]      0.060    0.057\n",
      "    forces mae [kcal/mol/Å]    0.534    0.523\n",
      "num_atoms 3\n",
      "epoch:  88                    train:   valid:\n",
      "    loss [a.u.]                0.486    0.449\n",
      "    energy mae [kcal/mol]      0.059    0.051\n",
      "    forces mae [kcal/mol/Å]    0.540    0.523\n",
      "num_atoms 3\n",
      "epoch:  89                    train:   valid:\n",
      "    loss [a.u.]                0.474    0.449\n",
      "    energy mae [kcal/mol]      0.056    0.074\n",
      "    forces mae [kcal/mol/Å]    0.536    0.523\n",
      "num_atoms 3\n",
      "epoch:  90                    train:   valid:\n",
      "    loss [a.u.]                0.472    0.449\n",
      "    energy mae [kcal/mol]      0.063    0.053\n",
      "    forces mae [kcal/mol/Å]    0.536    0.524\n",
      "num_atoms 3\n",
      "epoch:  91                    train:   valid:\n",
      "    loss [a.u.]                0.484    0.448\n",
      "    energy mae [kcal/mol]      0.062    0.046\n",
      "    forces mae [kcal/mol/Å]    0.538    0.523\n",
      "num_atoms 3\n",
      "epoch:  92                    train:   valid:\n",
      "    loss [a.u.]                0.485    0.448\n",
      "    energy mae [kcal/mol]      0.063    0.049\n",
      "    forces mae [kcal/mol/Å]    0.539    0.523\n",
      "num_atoms 3\n",
      "epoch:  93                    train:   valid:\n",
      "    loss [a.u.]                0.485    0.448\n",
      "    energy mae [kcal/mol]      0.062    0.044\n",
      "    forces mae [kcal/mol/Å]    0.538    0.522\n",
      "num_atoms 3\n",
      "epoch:  94                    train:   valid:\n",
      "    loss [a.u.]                0.480    0.448\n",
      "    energy mae [kcal/mol]      0.063    0.050\n",
      "    forces mae [kcal/mol/Å]    0.536    0.522\n",
      "num_atoms 3\n",
      "epoch:  95                    train:   valid:\n",
      "    loss [a.u.]                0.485    0.449\n",
      "    energy mae [kcal/mol]      0.059    0.077\n",
      "    forces mae [kcal/mol/Å]    0.538    0.522\n",
      "num_atoms 3\n",
      "epoch:  96                    train:   valid:\n",
      "    loss [a.u.]                0.485    0.450\n",
      "    energy mae [kcal/mol]      0.069    0.091\n",
      "    forces mae [kcal/mol/Å]    0.538    0.522\n",
      "num_atoms 3\n",
      "epoch:  97                    train:   valid:\n",
      "    loss [a.u.]                0.486    0.448\n",
      "    energy mae [kcal/mol]      0.065    0.056\n",
      "    forces mae [kcal/mol/Å]    0.540    0.522\n",
      "num_atoms 3\n",
      "epoch:  98                    train:   valid:\n",
      "    loss [a.u.]                0.477    0.448\n",
      "    energy mae [kcal/mol]      0.062    0.040\n",
      "    forces mae [kcal/mol/Å]    0.536    0.522\n",
      "num_atoms 3\n",
      "epoch:  99                    train:   valid:\n",
      "    loss [a.u.]                0.485    0.448\n",
      "    energy mae [kcal/mol]      0.063    0.046\n",
      "    forces mae [kcal/mol/Å]    0.538    0.522\n",
      "num_atoms 3\n",
      "epoch:  100                    train:   valid:\n",
      "    loss [a.u.]                0.485    0.448\n",
      "    energy mae [kcal/mol]      0.061    0.044\n",
      "    forces mae [kcal/mol/Å]    0.538    0.521\n"
     ]
    }
   ],
   "source": [
    "params = train_model(\n",
    "  key=train_key,\n",
    "  model=message_passing_model,\n",
    "  train_data=train_data,\n",
    "  valid_data=valid_data,\n",
    "  num_epochs=num_epochs,\n",
    "  learning_rate=learning_rate,\n",
    "  forces_weight=forces_weight,\n",
    "  batch_size=batch_size,\n",
    ")"
   ]
  },
  {
   "cell_type": "code",
   "execution_count": 420,
   "id": "f3013d41-bbf4-4b14-8816-63120e742619",
   "metadata": {},
   "outputs": [],
   "source": [
    "# train_data"
   ]
  },
  {
   "cell_type": "markdown",
   "id": "20895044",
   "metadata": {},
   "source": [
    "Even a very simple model can achieve energy prediction errors well below 1 kcal/mol (\"chemical accuracy\") after training for a hundred epochs (the model is not converged yet, but it's good enough for now).\n",
    "\n",
    "Once the model is trained, we can use it as a force field, e.g. to do structure optimization, or to run molecular dynamics simulations. To demonstrate this, we use the atomic simulation environment (ASE) and py3Dmol (for visualization), so a few additional imports are necessary."
   ]
  },
  {
   "cell_type": "code",
   "execution_count": 421,
   "id": "2ab0035d-8604-45a6-8861-41c222dc50f9",
   "metadata": {},
   "outputs": [],
   "source": [
    "# params"
   ]
  },
  {
   "cell_type": "code",
   "execution_count": 422,
   "id": "a2b90396-d158-41ab-9dfa-77bbcfc2919c",
   "metadata": {},
   "outputs": [
    {
     "data": {
      "text/plain": [
       "dict"
      ]
     },
     "execution_count": 422,
     "metadata": {},
     "output_type": "execute_result"
    }
   ],
   "source": [
    "type(params)"
   ]
  },
  {
   "cell_type": "code",
   "execution_count": 423,
   "id": "a711d4da-4ef0-4ec1-acaf-795135ef78f3",
   "metadata": {},
   "outputs": [],
   "source": [
    "import pickle\n",
    "# open a file, where you ant to store the data\n",
    "with open('params.pkl', 'wb') as file:\n",
    "    pickle.dump(params, file)"
   ]
  },
  {
   "cell_type": "code",
   "execution_count": 424,
   "id": "c4faa131-d4cb-42e0-bc20-911029987784",
   "metadata": {},
   "outputs": [],
   "source": [
    "import pandas as pd\n",
    "params = pd.read_pickle(\"params.pkl\")"
   ]
  },
  {
   "cell_type": "code",
   "execution_count": 425,
   "id": "a2b19c8b-5d81-4829-850f-fcd0ecdda66a",
   "metadata": {},
   "outputs": [
    {
     "data": {
      "text/plain": [
       "MessagePassingModel(\n",
       "    # attributes\n",
       "    features = 32\n",
       "    max_degree = 2\n",
       "    num_iterations = 3\n",
       "    num_basis_functions = 16\n",
       "    cutoff = 5.0\n",
       "    max_atomic_number = 118\n",
       ")"
      ]
     },
     "execution_count": 425,
     "metadata": {},
     "output_type": "execute_result"
    }
   ],
   "source": [
    "message_passing_model"
   ]
  },
  {
   "cell_type": "code",
   "execution_count": 426,
   "id": "1a3ac6b9",
   "metadata": {
    "tags": []
   },
   "outputs": [],
   "source": [
    "import io\n",
    "import ase\n",
    "import ase.calculators.calculator as ase_calc\n",
    "import ase.io as ase_io\n",
    "from ase.md.velocitydistribution import MaxwellBoltzmannDistribution, Stationary, ZeroRotation\n",
    "from ase.md.verlet import VelocityVerlet\n",
    "import ase.optimize as ase_opt\n",
    "import matplotlib.pyplot as plt\n",
    "import py3Dmol"
   ]
  },
  {
   "cell_type": "markdown",
   "id": "557e1683",
   "metadata": {},
   "source": [
    "Before we can use our model as a `Calculator` in ASE, we need to write a small interface. The following implementation is very bare bones, but it does the trick for a few simple demonstrations."
   ]
  },
  {
   "cell_type": "code",
   "execution_count": 427,
   "id": "b5dc79cb",
   "metadata": {
    "tags": []
   },
   "outputs": [],
   "source": [
    "@jax.jit\n",
    "def evaluate_energies_and_forces(atomic_numbers, positions, dst_idx, src_idx):\n",
    "  return message_passing_model.apply(params, \n",
    "    atomic_numbers=atomic_numbers,\n",
    "    positions=positions,\n",
    "    dst_idx=dst_idx,\n",
    "    src_idx=src_idx,\n",
    "  )\n",
    "\n",
    "\n",
    "class MessagePassingCalculator(ase_calc.Calculator):\n",
    "  implemented_properties = [\"energy\", \"forces\"]\n",
    "\n",
    "  def calculate(self, atoms, properties, system_changes = ase.calculators.calculator.all_changes):\n",
    "    ase_calc.Calculator.calculate(self, atoms, properties, system_changes)\n",
    "    dst_idx, src_idx = e3x.ops.sparse_pairwise_indices(len(atoms))\n",
    "    energy, forces = evaluate_energies_and_forces(\n",
    "      atomic_numbers=atoms.get_atomic_numbers()[None,:], \n",
    "      positions=atoms.get_positions(), \n",
    "      dst_idx=dst_idx, \n",
    "      src_idx=src_idx\n",
    "    )\n",
    "    self.results['energy'] = energy * ase.units.kcal/ase.units.mol\n",
    "    self.results['forces'] = forces * ase.units.kcal/ase.units.mol"
   ]
  },
  {
   "cell_type": "code",
   "execution_count": 428,
   "id": "205c4758-c455-4ea8-b030-3a68431291b9",
   "metadata": {},
   "outputs": [
    {
     "data": {
      "text/plain": [
       "Array([1, 8, 1], dtype=int32)"
      ]
     },
     "execution_count": 428,
     "metadata": {},
     "output_type": "execute_result"
    }
   ],
   "source": [
    "train_data['atomic_numbers'][0]"
   ]
  },
  {
   "cell_type": "markdown",
   "id": "d60cb9dd",
   "metadata": {},
   "source": [
    "At first, let's find an optimized structure for ethanol. We arbitrarily initialize the structure to some entry in our training data and then use ASE's `BFGS` optimizer to optimize it."
   ]
  },
  {
   "cell_type": "code",
   "execution_count": 429,
   "id": "8028d1a5",
   "metadata": {
    "tags": []
   },
   "outputs": [],
   "source": [
    "# Initialize atoms object and attach calculator.\n",
    "atoms = ase.Atoms([1,1,8], [[0.000,   0.939,  -0.243], [0,0,0.97], [0,0,0]])\n",
    "atoms.set_calculator(MessagePassingCalculator())"
   ]
  },
  {
   "cell_type": "code",
   "execution_count": 430,
   "id": "08c05e19-4921-43d5-9bd0-39cb850cddf7",
   "metadata": {},
   "outputs": [
    {
     "data": {
      "text/plain": [
       "Atoms(symbols='H2O', pbc=False, calculator=MessagePassingCalculator(...))"
      ]
     },
     "execution_count": 430,
     "metadata": {},
     "output_type": "execute_result"
    }
   ],
   "source": [
    "atoms"
   ]
  },
  {
   "cell_type": "code",
   "execution_count": 431,
   "id": "95fcd431-831e-49b3-8bc2-87fb45bb5b95",
   "metadata": {},
   "outputs": [
    {
     "name": "stdout",
     "output_type": "stream",
     "text": [
      "batch_segments:None\n",
      "batch_segments (1, 3)\n",
      "atomic_numbers Traced<ShapedArray(int32[1,3])>with<DynamicJaxprTrace(level=1/0)>\n",
      "atomic_numbers.shape (1, 3)\n",
      "x (3, 1, 1, 32)\n",
      "x (3, 1, 9, 32)\n",
      "x (3, 2, 9, 32)\n",
      "Traced<ShapedArray(int32[1,3])>with<DynamicJaxprTrace(level=1/0)>\n",
      "atomic_energies (1, 3)\n",
      "      Step     Time          Energy         fmax\n",
      "BFGS:    0 15:19:46       -0.432193        0.0002\n"
     ]
    }
   ],
   "source": [
    "# Run structure optimization with BFGS.\n",
    "_ = ase_opt.BFGS(atoms).run(fmax=0.0005)"
   ]
  },
  {
   "cell_type": "markdown",
   "id": "706b9b12",
   "metadata": {},
   "source": [
    "A promising start! Note that ASE uses electron volts (eV) as energy units, so the final structure has an energy that is lower by roughly 0.6 eV, or about 14 kcal/mol. Let's check how the optimized structure looks."
   ]
  },
  {
   "cell_type": "code",
   "execution_count": 432,
   "id": "fe7ebf93",
   "metadata": {
    "tags": []
   },
   "outputs": [
    {
     "data": {
      "application/3dmoljs_load.v0": "<div id=\"3dmolviewer_1706105991848837\"  style=\"position: relative; width: 640px; height: 480px;\">\n        <p id=\"3dmolwarning_1706105991848837\" style=\"background-color:#ffcccc;color:black\">You appear to be running in JupyterLab (or JavaScript failed to load for some other reason).  You need to install the 3dmol extension: <br>\n        <tt>jupyter labextension install jupyterlab_3dmol</tt></p>\n        </div>\n<script>\n\nvar loadScriptAsync = function(uri){\n  return new Promise((resolve, reject) => {\n    //this is to ignore the existence of requirejs amd\n    var savedexports, savedmodule;\n    if (typeof exports !== 'undefined') savedexports = exports;\n    else exports = {}\n    if (typeof module !== 'undefined') savedmodule = module;\n    else module = {}\n\n    var tag = document.createElement('script');\n    tag.src = uri;\n    tag.async = true;\n    tag.onload = () => {\n        exports = savedexports;\n        module = savedmodule;\n        resolve();\n    };\n  var firstScriptTag = document.getElementsByTagName('script')[0];\n  firstScriptTag.parentNode.insertBefore(tag, firstScriptTag);\n});\n};\n\nif(typeof $3Dmolpromise === 'undefined') {\n$3Dmolpromise = null;\n  $3Dmolpromise = loadScriptAsync('https://cdnjs.cloudflare.com/ajax/libs/3Dmol/2.0.4/3Dmol-min.js');\n}\n\nvar viewer_1706105991848837 = null;\nvar warn = document.getElementById(\"3dmolwarning_1706105991848837\");\nif(warn) {\n    warn.parentNode.removeChild(warn);\n}\n$3Dmolpromise.then(function() {\nviewer_1706105991848837 = $3Dmol.createViewer(document.getElementById(\"3dmolviewer_1706105991848837\"),{backgroundColor:\"white\"});\nviewer_1706105991848837.zoomTo();\n\tviewer_1706105991848837.addModel(\"3\\n\\nH       0.000000000000000      0.939000000000000     -0.243000000000000\\nH       0.000000000000000      0.000000000000000      0.970000000000000\\nO       0.000000000000000      0.000000000000000      0.000000000000000\\n\",\"xyz\");\n\tviewer_1706105991848837.setStyle({\"stick\": {\"radius\": 0.15}, \"sphere\": {\"scale\": 0.25}});\nviewer_1706105991848837.render();\n});\n</script>",
      "text/html": [
       "<div id=\"3dmolviewer_1706105991848837\"  style=\"position: relative; width: 640px; height: 480px;\">\n",
       "        <p id=\"3dmolwarning_1706105991848837\" style=\"background-color:#ffcccc;color:black\">You appear to be running in JupyterLab (or JavaScript failed to load for some other reason).  You need to install the 3dmol extension: <br>\n",
       "        <tt>jupyter labextension install jupyterlab_3dmol</tt></p>\n",
       "        </div>\n",
       "<script>\n",
       "\n",
       "var loadScriptAsync = function(uri){\n",
       "  return new Promise((resolve, reject) => {\n",
       "    //this is to ignore the existence of requirejs amd\n",
       "    var savedexports, savedmodule;\n",
       "    if (typeof exports !== 'undefined') savedexports = exports;\n",
       "    else exports = {}\n",
       "    if (typeof module !== 'undefined') savedmodule = module;\n",
       "    else module = {}\n",
       "\n",
       "    var tag = document.createElement('script');\n",
       "    tag.src = uri;\n",
       "    tag.async = true;\n",
       "    tag.onload = () => {\n",
       "        exports = savedexports;\n",
       "        module = savedmodule;\n",
       "        resolve();\n",
       "    };\n",
       "  var firstScriptTag = document.getElementsByTagName('script')[0];\n",
       "  firstScriptTag.parentNode.insertBefore(tag, firstScriptTag);\n",
       "});\n",
       "};\n",
       "\n",
       "if(typeof $3Dmolpromise === 'undefined') {\n",
       "$3Dmolpromise = null;\n",
       "  $3Dmolpromise = loadScriptAsync('https://cdnjs.cloudflare.com/ajax/libs/3Dmol/2.0.4/3Dmol-min.js');\n",
       "}\n",
       "\n",
       "var viewer_1706105991848837 = null;\n",
       "var warn = document.getElementById(\"3dmolwarning_1706105991848837\");\n",
       "if(warn) {\n",
       "    warn.parentNode.removeChild(warn);\n",
       "}\n",
       "$3Dmolpromise.then(function() {\n",
       "viewer_1706105991848837 = $3Dmol.createViewer(document.getElementById(\"3dmolviewer_1706105991848837\"),{backgroundColor:\"white\"});\n",
       "viewer_1706105991848837.zoomTo();\n",
       "\tviewer_1706105991848837.addModel(\"3\\n\\nH       0.000000000000000      0.939000000000000     -0.243000000000000\\nH       0.000000000000000      0.000000000000000      0.970000000000000\\nO       0.000000000000000      0.000000000000000      0.000000000000000\\n\",\"xyz\");\n",
       "\tviewer_1706105991848837.setStyle({\"stick\": {\"radius\": 0.15}, \"sphere\": {\"scale\": 0.25}});\n",
       "viewer_1706105991848837.render();\n",
       "});\n",
       "</script>"
      ]
     },
     "metadata": {},
     "output_type": "display_data"
    }
   ],
   "source": [
    "# Write structure to xyz file.\n",
    "xyz = io.StringIO()\n",
    "ase_io.write(xyz, atoms, format='xyz')\n",
    "\n",
    "# Visualize the structure with py3Dmol.\n",
    "view = py3Dmol.view()\n",
    "view.addModel(xyz.getvalue(), 'xyz')\n",
    "view.setStyle({'stick': {'radius': 0.15}, 'sphere': {'scale': 0.25}})\n",
    "view.show()"
   ]
  },
  {
   "cell_type": "markdown",
   "id": "e8fa1ab7",
   "metadata": {},
   "source": [
    "Now let's try to run a molecular dynamics simulation. We draw initial momenta from a Maxwell-Boltzmann distribution at 300 K, remove center of mass translation and rotation, and then use Verlet integration to integrate the equations of motion for 2000 steps using a timestep of 0.5 fs. For visualization purposes, we also save each frame and keep track of potential, kinetic, and total energies."
   ]
  },
  {
   "cell_type": "code",
   "execution_count": 433,
   "id": "9daf2e63",
   "metadata": {
    "tags": []
   },
   "outputs": [
    {
     "name": "stderr",
     "output_type": "stream",
     "text": [
      "/tmp/ipykernel_12109/235484555.py:24: DeprecationWarning: Conversion of an array with ndim > 0 to a scalar is deprecated, and will error in future.\n",
      "  potential_energy[i] = atoms.get_potential_energy()\n",
      "/tmp/ipykernel_12109/235484555.py:26: DeprecationWarning: Conversion of an array with ndim > 0 to a scalar is deprecated, and will error in future.\n",
      "  total_energy[i] = atoms.get_total_energy()\n"
     ]
    },
    {
     "name": "stdout",
     "output_type": "stream",
     "text": [
      "step     0 epot -0.432 ekin  0.157 etot -0.275\n",
      "step   100 epot -0.427 ekin  0.152 etot -0.275\n",
      "step   200 epot -0.426 ekin  0.150 etot -0.275\n",
      "step   300 epot -0.426 ekin  0.151 etot -0.275\n",
      "step   400 epot -0.426 ekin  0.151 etot -0.275\n"
     ]
    }
   ],
   "source": [
    "# Parameters.\n",
    "temperature = 300\n",
    "timestep_fs = 0.5\n",
    "num_steps = 500\n",
    "\n",
    "# Draw initial momenta.\n",
    "MaxwellBoltzmannDistribution(atoms, temperature_K=temperature)\n",
    "Stationary(atoms)  # Remove center of mass translation.\n",
    "ZeroRotation(atoms)  # Remove rotations.\n",
    "\n",
    "# Initialize Velocity Verlet integrator.\n",
    "integrator = VelocityVerlet(atoms, timestep=timestep_fs*ase.units.fs)\n",
    "\n",
    "# Run molecular dynamics.\n",
    "frames = np.zeros((num_steps, len(atoms), 3))\n",
    "potential_energy = np.zeros((num_steps,))\n",
    "kinetic_energy = np.zeros((num_steps,))\n",
    "total_energy = np.zeros((num_steps,))\n",
    "for i in range(num_steps):\n",
    "  # Run 1 time step.  \n",
    "  integrator.run(1)  \n",
    "  # Save current frame and keep track of energies.\n",
    "  frames[i] = atoms.get_positions()\n",
    "  potential_energy[i] = atoms.get_potential_energy()\n",
    "  kinetic_energy[i] = atoms.get_kinetic_energy()\n",
    "  total_energy[i] = atoms.get_total_energy()\n",
    "  # Occasionally print progress.\n",
    "  if i % 100 == 0:\n",
    "    print(f\"step {i:5d} epot {potential_energy[i]: 5.3f} ekin {kinetic_energy[i]: 5.3f} etot {total_energy[i]: 5.3f}\")"
   ]
  },
  {
   "cell_type": "markdown",
   "id": "1a6cc33a",
   "metadata": {},
   "source": [
    "Let's have a look at the trajectory."
   ]
  },
  {
   "cell_type": "code",
   "execution_count": 434,
   "id": "8be9a2c4",
   "metadata": {
    "tags": []
   },
   "outputs": [
    {
     "data": {
      "application/3dmoljs_load.v0": "<div id=\"3dmolviewer_17061060023539133\"  style=\"position: relative; width: 640px; height: 480px;\">\n        <p id=\"3dmolwarning_17061060023539133\" style=\"background-color:#ffcccc;color:black\">You appear to be running in JupyterLab (or JavaScript failed to load for some other reason).  You need to install the 3dmol extension: <br>\n        <tt>jupyter labextension install jupyterlab_3dmol</tt></p>\n        </div>\n<script>\n\nvar loadScriptAsync = function(uri){\n  return new Promise((resolve, reject) => {\n    //this is to ignore the existence of requirejs amd\n    var savedexports, savedmodule;\n    if (typeof exports !== 'undefined') savedexports = exports;\n    else exports = {}\n    if (typeof module !== 'undefined') savedmodule = module;\n    else module = {}\n\n    var tag = document.createElement('script');\n    tag.src = uri;\n    tag.async = true;\n    tag.onload = () => {\n        exports = savedexports;\n        module = savedmodule;\n        resolve();\n    };\n  var firstScriptTag = document.getElementsByTagName('script')[0];\n  firstScriptTag.parentNode.insertBefore(tag, firstScriptTag);\n});\n};\n\nif(typeof $3Dmolpromise === 'undefined') {\n$3Dmolpromise = null;\n  $3Dmolpromise = loadScriptAsync('https://cdnjs.cloudflare.com/ajax/libs/3Dmol/2.0.4/3Dmol-min.js');\n}\n\nvar viewer_17061060023539133 = null;\nvar warn = document.getElementById(\"3dmolwarning_17061060023539133\");\nif(warn) {\n    warn.parentNode.removeChild(warn);\n}\n$3Dmolpromise.then(function() {\nviewer_17061060023539133 = $3Dmol.createViewer(document.getElementById(\"3dmolviewer_17061060023539133\"),{backgroundColor:\"white\"});\nviewer_17061060023539133.zoomTo();\n\tviewer_17061060023539133.addModel(\"3\\n\\nH       0.000000000000000      0.939000000000000     -0.243000000000000\\nH       0.000000000000000      0.000000000000000      0.970000000000000\\nO       0.000000000000000      0.000000000000000      0.000000000000000\\n\",\"xyz\");\n\tviewer_17061060023539133.setStyle({\"stick\": {\"radius\": 0.15}, \"sphere\": {\"scale\": 0.25}});\n\t\tviewer_17061060023539133.getModel().setCoordinates([[[2.4605570926992253e-18, 0.9474799036979675, -0.2559414505958557], [3.578992134835237e-18, -0.010403518564999104, 0.9515560269355774], [0.0, 0.0001211950511788018, 0.0019774094689637423]], [[4.921111703856613e-18, 0.9559587240219116, -0.2688824236392975], [7.157986751212311e-18, -0.020806845277547836, 0.9331125020980835], [-2.6778792466660997e-26, 0.0002424478152533993, 0.003954756539314985]], [[7.381660524749713e-18, 0.964435875415802, -0.2818225920200348], [1.0736996256840412e-17, -0.03120989352464676, 0.9146705865859985], [-5.857217279480017e-25, 0.00036378830554895103, 0.005931953899562359]], [[9.842196937933624e-18, 0.9729108214378357, -0.2947617173194885], [1.4316042985596077e-17, -0.04161261022090912, 0.8962314128875732], [-2.769658097718632e-24, 0.00048524653539061546, 0.007908908650279045]], [[1.230271515314406e-17, 0.9813830256462097, -0.3076995015144348], [1.7895164160606872e-17, -0.052014973014593124, 0.8777962923049927], [-8.369931744669813e-24, 0.0006068526417948306, 0.009885525330901146]], [[1.4763205244213668e-17, 0.9898520708084106, -0.32063567638397217], [2.14744061039871e-17, -0.062417007982730865, 0.8593664765357971], [-1.9987971445316365e-23, 0.0007286373293027282, 0.011861706152558327]], [[1.722366059369755e-17, 0.998317539691925, -0.3335700035095215], [2.505383664454699e-17, -0.07281877845525742, 0.8409433364868164], [-4.114531874209615e-23, 0.0008506320882588625, 0.01383734866976738]], [[1.9684069621067127e-17, 1.0067789554595947, -0.3465022146701813], [2.8633535191625346e-17, -0.08322040736675262, 0.8225282430648804], [-7.638981907361981e-23, 0.0009728695149533451, 0.015812350437045097]], [[2.2144422400155052e-17, 1.0152360200881958, -0.3594321012496948], [3.22136026612569e-17, -0.09362206608057022, 0.8041226863861084], [-1.313951462414105e-22, 0.0010953836608678102, 0.017786607146263123]], [[2.4604710659155198e-17, 1.0236884355545044, -0.37235942482948303], [3.579415982181109e-17, -0.1040239930152893, 0.7857280373573303], [-2.13050857981983e-22, 0.0012182104401290417, 0.0197600144892931]], [[2.7064922817538988e-17, 1.0321358442306519, -0.3852839767932892], [3.9375345639630817e-17, -0.11442648619413376, 0.7673457860946655], [-3.2953953709704345e-22, 0.0013413878623396158, 0.021732468158006668]], [[2.95250506035003e-17, 1.040578007698059, -0.39820557832717896], [4.2957318933393694e-17, -0.12482991814613342, 0.7489773035049438], [-4.90398044925058e-22, 0.0014649563236162066, 0.023703865706920624]], [[3.198508243651055e-17, 1.049014687538147, -0.411124050617218], [4.6540264991556935e-17, -0.13523472845554352, 0.7306240797042847], [-7.065587566784905e-22, 0.0015889588976278901, 0.025674106553196907]], [[3.44450083904024e-17, 1.0574456453323364, -0.42403924465179443], [5.01243922636349e-17, -0.14564143121242523, 0.712287425994873], [-9.90369049463605e-22, 0.0017134415684267879, 0.027643095701932907]], [[3.690482184773094e-17, 1.0658706426620483, -0.43695101141929626], [5.3709925742754207e-17, -0.15605060756206512, 0.693968653678894], [-1.3555848399319305e-21, 0.0018384532304480672, 0.02961074374616146]], [[3.936450957360637e-17, 1.0742895603179932, -0.44985923171043396], [5.729711358309862e-17, -0.16646292805671692, 0.6756690144538879], [-1.8173376162053094e-21, 0.0019640459213405848, 0.031576961278915405]], [[4.1824064950583795e-17, 1.0827022790908813, -0.46276378631591797], [6.08862304086315e-17, -0.17687910795211792, 0.6573895812034607], [-2.3920720358228512e-21, 0.0020902748219668865, 0.03354167565703392]], [[4.428347805249586e-17, 1.0911085605621338, -0.47566458582878113], [6.447756407820603e-17, -0.1872999519109726, 0.6391314268112183], [-3.0974573713711563e-21, 0.002217198023572564, 0.03550481051206589]], [[4.6742742261897665e-17, 1.0995084047317505, -0.48856157064437866], [6.807141899428762e-17, -0.197726309299469, 0.6208954453468323], [-3.952271390159067e-21, 0.0023448762949556112, 0.03746630623936653]], [[4.920184765262186e-17, 1.107901692390442, -0.5014546513557434], [7.16681194116764e-17, -0.20815908908843994, 0.6026824116706848], [-4.976262019569328e-21, 0.0024733729660511017, 0.039426110684871674]], [[5.1660784298501093e-17, 1.1162883043289185, -0.5143437385559082], [7.526799620261737e-17, -0.21859925985336304, 0.5844929218292236], [-6.189989625364641e-21, 0.0026027534622699022, 0.04138418287038803]], [[5.4119542273368016e-17, 1.1246682405471802, -0.5272287726402283], [7.887140009169027e-17, -0.22904780507087708, 0.5663273930549622], [-7.61466040426448e-21, 0.0027330853044986725, 0.04334048926830292]], [[5.657811495977773e-17, 1.1330413818359375, -0.5401097536087036], [8.247868180347482e-17, -0.23950576782226562, 0.548186182975769], [-9.271953112224984e-21, 0.0028644371777772903, 0.04529501125216484]], [[5.903648912284042e-17, 1.1414077281951904, -0.5529866218566895], [8.609020529744054e-17, -0.24997417628765106, 0.5300693511962891], [-1.1183854274551296e-20, 0.002996878931298852, 0.04724773392081261]], [[6.149465814511121e-17, 1.1497671604156494, -0.565859317779541], [8.970632791561206e-17, -0.26045411825180054, 0.5119768977165222], [-1.3372503897326283e-20, 0.00313048018142581, 0.049198660999536514]], [[6.395260879170028e-17, 1.1581196784973145, -0.5787277817726135], [9.33274136174589e-17, -0.2709466218948364, 0.4939086437225342], [-1.5860062181471983e-20, 0.0032653112430125475, 0.05114779993891716]], [[6.641033444516274e-17, 1.166465163230896, -0.591592013835907], [9.695381974500567e-17, -0.2814527750015259, 0.4758642315864563], [-1.8668606932966604e-20, 0.0034014417324215174, 0.05309516564011574]], [[6.886782187060878e-17, 1.174803614616394, -0.6044520139694214], [1.0058590364027701e-16, -0.29197365045547485, 0.45784321427345276], [-2.1820058438042802e-20, 0.003538940567523241, 0.055040787905454636]], [[7.13250644505935e-17, 1.1831350326538086, -0.6173076629638672], [1.0422401602785264e-16, -0.30251026153564453, 0.4398450255393982], [-2.5336138265715765e-20, 0.0036778755020350218, 0.05698470398783684]], [[7.378205556767201e-17, 1.1914594173431396, -0.6301590204238892], [1.0786851424975718e-16, -0.3130636513233185, 0.4218689501285553], [-2.92383498807376e-20, 0.0038183133583515882, 0.05892695114016533]], [[7.62387819869545e-17, 1.1997766494750977, -0.6430059671401978], [1.1151973579568054e-16, -0.3236348330974579, 0.4039141833782196], [-3.3547977028010215e-20, 0.0039603193290531635, 0.06086758151650429]], [[7.869523709099608e-17, 1.2080867290496826, -0.655848503112793], [1.1517803139020246e-16, -0.33422479033470154, 0.38597986102104187], [-3.82860934261081e-20, 0.004103957209736109, 0.0628066435456276]], [[8.115142087979674e-17, 1.216389775276184, -0.6686866283416748], [1.1884373852301286e-16, -0.34483450651168823, 0.3680649995803833], [-4.347355307375554e-20, 0.00424928916618228, 0.06474420428276062]], [[8.360732011846667e-17, 1.2246856689453125, -0.6815203428268433], [1.2251717483146695e-16, -0.3554649353027344, 0.3501685857772827], [-4.913096116925821e-20, 0.004396375734359026, 0.06668031960725784]], [[8.60629414244508e-17, 1.2329744100570679, -0.6943495869636536], [1.2619868442269956e-16, -0.366117000579834, 0.33228951692581177], [-5.527859333114645e-20, 0.004545274656265974, 0.06861506402492523]], [[8.85182715628593e-17, 1.2412561178207397, -0.7071743607521057], [1.298885716991761e-16, -0.3767916262149811, 0.31442663073539734], [-6.193629220059874e-20, 0.004696041811257601, 0.07054850459098816]], [[9.097331715113708e-17, 1.2495306730270386, -0.7199946641921997], [1.335871542982518e-16, -0.3874896764755249, 0.2965787351131439], [-6.912327680215987e-20, 0.0048487307503819466, 0.07248072326183319]], [[9.342807157183925e-17, 1.257798194885254, -0.7328105568885803], [1.3729471015261249e-16, -0.3982120156288147, 0.2787446081638336], [-7.685791313036791e-20, 0.005003390833735466, 0.0744117945432663]], [[9.58825348249658e-17, 1.2660588026046753, -0.7456220388412476], [1.4101153042983376e-16, -0.40895938873291016, 0.26092293858528137], [-8.515744919346432e-20, 0.005160069093108177, 0.07634180039167404]], [[9.833671352796163e-17, 1.2743124961853027, -0.7584291100502014], [1.4473785335793204e-16, -0.41973257064819336, 0.24311241507530212], [-9.403771128301271e-20, 0.0053188069723546505, 0.07827083021402359]], [[1.0079060106338184e-16, 1.2825593948364258, -0.7712318301200867], [1.4847390393003395e-16, -0.43053221702575684, 0.22531168162822723], [-1.0351280024351768e-19, 0.005479642190039158, 0.0801989734172821]], [[1.0324419743122643e-16, 1.2907994985580444, -0.7840302586555481], [1.5221988066948649e-16, -0.44135892391204834, 0.20751939713954926], [-1.135947877420437e-19, 0.0056426068767905235, 0.08212631195783615]], [[1.056974960140505e-16, 1.2990329265594482, -0.7968244552612305], [1.5597594239496728e-16, -0.45221319794654846, 0.18973420560359955], [-1.2429343838722798e-19, 0.005807727109640837, 0.0840529352426529]], [[1.0815049681185405e-16, 1.3072599172592163, -0.8096144199371338], [1.5974220822048452e-16, -0.46309545636177063, 0.17195476591587067], [-1.3561596416003625e-19, 0.005975022912025452, 0.0859789326786995]], [[1.1060318658974729e-16, 1.3154804706573486, -0.8224002718925476], [1.6351875755537702e-16, -0.4740060269832611, 0.15417975187301636], [-1.4756683700565511e-19, 0.006144506856799126, 0.08790438622236252]], [[1.130555653477302e-16, 1.3236945867538452, -0.8351820111274719], [1.6730561686942438e-16, -0.4849450886249542, 0.13640788197517395], [-1.6014762081243018e-19, 0.006316184997558594, 0.08982938528060913]], [[1.15507619850913e-16, 1.3319025039672852, -0.8479596376419067], [1.711027729277368e-16, -0.49591273069381714, 0.11863792687654495], [-1.7335689386368362e-19, 0.006490055471658707, 0.0917540043592453]], [[1.1795933024696096e-16, 1.340104341506958, -0.8607332110404968], [1.7491017279075508e-16, -0.5069088935852051, 0.10086870938539505], [-1.8719018421422882e-19, 0.006666109431535006, 0.09367832541465759]], [[1.204106833009843e-16, 1.3483000993728638, -0.873502790927887], [1.7872771057936081e-16, -0.5179334282875061, 0.0830991268157959], [-2.016399567656733e-19, 0.00684432964771986, 0.09560241550207138]], [[1.2286167901298304e-16, 1.3564900159835815, -0.8862683773040771], [1.8255524070976618e-16, -0.5289860367774963, 0.06532815843820572], [-2.166956391158129e-19, 0.007024690508842468, 0.09752634167671204]], [[1.2531227767828773e-16, 1.3646740913391113, -0.8990299701690674], [1.8639255142373438e-16, -0.5400663018226624, 0.0475548654794693], [-2.3234371203151115e-19, 0.007207159418612719, 0.09945016354322433]], [[1.277624792968984e-16, 1.3728524446487427, -0.9117876291275024], [1.902394177281388e-16, -0.5511736273765564, 0.029778417199850082], [-2.485678257709731e-19, 0.007391695398837328, 0.10137393325567245]], [[1.3021225739903546e-16, 1.3810251951217651, -0.9245413541793823], [1.94095535220514e-16, -0.5623074173927307, 0.011998077854514122], [-2.6534894225541294e-19, 0.007578250020742416, 0.10329769551753998]], [[1.3266159874980907e-16, 1.3891924619674683, -0.9372910857200623], [1.9796059949839457e-16, -0.5734668374061584, -0.005786782130599022], [-2.8266552893951016e-19, 0.00776676693931222, 0.10522149503231049]], [[1.3511047687943966e-16, 1.397354245185852, -0.950036883354187], [2.018342399848661e-16, -0.584650993347168, -0.023576686158776283], [-3.004937785312597e-19, 0.007957183755934238, 0.10714536160230637]], [[1.3755887855303742e-16, 1.4055107831954956, -0.9627786874771118], [2.0571607286812434e-16, -0.5958588719367981, -0.041372042149305344], [-3.1880791918470173e-19, 0.008149432018399239, 0.10906932502985]], [[1.4000677730082275e-16, 1.4136619567871094, -0.9755165576934814], [2.096056746316957e-16, -0.6070893406867981, -0.05917315557599068], [-3.3758044714446884e-19, 0.008343435823917389, 0.1109934002161026]], [[1.4245417312279564e-16, 1.4218080043792725, -0.9882504343986511], [2.135026085242167e-16, -0.6183412671089172, -0.07698021829128265], [-3.5678243693851583e-19, 0.008539116941392422, 0.11291760206222534]], [[1.449010395491765e-16, 1.4299490451812744, -1.000980257987976], [2.1740641132454437e-16, -0.6296133995056152, -0.09479333460330963], [-3.763839291190318e-19, 0.008736391551792622, 0.11484193056821823]], [[1.4734736334507553e-16, 1.4380850791931152, -1.013706088066101], [2.2131660657664584e-16, -0.6409044861793518, -0.11261250078678131], [-3.963541112081991e-19, 0.008935172110795975, 0.11676639318466187]], [[1.4979313127560292e-16, 1.4462162256240845, -1.026427984237671], [2.252327045895985e-16, -0.6522131562232971, -0.13043762743473053], [-4.1666180883668223e-19, 0.009135371074080467, 0.11869097501039505]], [[1.5223834334075867e-16, 1.4543424844741821, -1.039145827293396], [2.291542289073695e-16, -0.6635380983352661, -0.14826855063438416], [-4.372756925387807e-19, 0.009336897172033787, 0.12061566859483719]], [[1.54682986305653e-16, 1.4624640941619873, -1.051859736442566], [2.330806766041464e-16, -0.6748778820037842, -0.16610503196716309], [-4.581645879451588e-19, 0.009539660066366196, 0.12254046648740768]], [[1.5712706017028587e-16, 1.4705809354782104, -1.0645697116851807], [2.370115712238964e-16, -0.686231255531311, -0.18394675850868225], [-4.792977601261816e-19, 0.009743569418787956, 0.12446533888578415]], [[1.5957055169976751e-16, 1.4786932468414307, -1.0772756338119507], [2.4094646278036624e-16, -0.6975967884063721, -0.2017933875322342], [-5.006451203870673e-19, 0.00994853489100933, 0.126390278339386]], [[1.6201346089409792e-16, 1.4868011474609375, -1.0899776220321655], [2.448848748175231e-16, -0.708973228931427, -0.21964450180530548], [-5.221776140088e-19, 0.010154468938708305, 0.12831524014472961]], [[1.644557877532771e-16, 1.494904637336731, -1.1026757955551147], [2.488263573491138e-16, -0.7203593254089355, -0.2374996691942215], [-5.438671168505529e-19, 0.01036128681153059, 0.13024021685123444]], [[1.6689751904241522e-16, 1.5030038356781006, -1.1153700351715088], [2.5277048685866464e-16, -0.7317538261413574, -0.25535842776298523], [-5.65686900638783e-19, 0.01056890469044447, 0.13216517865657806]], [[1.6933866799640211e-16, 1.5110987424850464, -1.1280604600906372], [2.5671686629948163e-16, -0.7431555390357971, -0.2732203006744385], [-5.876115295696541e-19, 0.010777244344353676, 0.1340900957584381]], [[1.7177924785012757e-16, 1.519189476966858, -1.1407470703125], [2.6066512509465034e-16, -0.7545633316040039, -0.29108482599258423], [-6.096170154054023e-19, 0.01098622940480709, 0.1360149383544922]], [[1.742192453687018e-16, 1.5272761583328247, -1.1534298658370972], [2.6461486619747674e-16, -0.7659761905670166, -0.3089514672756195], [-6.316809725707003e-19, 0.011195788159966469, 0.1379396766424179]], [[1.7665867378701457e-16, 1.5353589057922363, -1.1661089658737183], [2.685657719706056e-16, -0.777393102645874, -0.3268197774887085], [-6.537825147550813e-19, 0.011405851691961288, 0.13986428081989288]], [[1.7909754633995572e-16, 1.5434378385543823, -1.1787843704223633], [2.7251755124646135e-16, -0.7888131141662598, -0.3446892499923706], [-6.759024100093032e-19, 0.011616356670856476, 0.14178872108459473]], [[1.8153586302752523e-16, 1.5515129566192627, -1.1914560794830322], [2.764698863876887e-16, -0.800235390663147, -0.36255943775177], [-6.980229773477728e-19, 0.011827243492007256, 0.14371298253536224]], [[1.839736370846129e-16, 1.5595842599868774, -1.2041242122650146], [2.804225126964917e-16, -0.8116591572761536, -0.3804298937320709], [-7.201280350497571e-19, 0.012038457207381725, 0.14563703536987305]], [[1.8641086851121875e-16, 1.5676519870758057, -1.2167888879776], [2.843751919448539e-16, -0.8230836391448975, -0.3983002007007599], [-7.422030040569597e-19, 0.012249945662915707, 0.14756086468696594]], [[1.8884758377712236e-16, 1.5757161378860474, -1.2294501066207886], [2.883277123745385e-16, -0.8345081806182861, -0.4161699414253235], [-7.642347011783682e-19, 0.012461661361157894, 0.14948444068431854]], [[1.9128378288232374e-16, 1.583776831626892, -1.2421079874038696], [2.9227988869708825e-16, -0.845932126045227, -0.4340387284755707], [-7.862113907890419e-19, 0.012673560529947281, 0.15140773355960846]], [[1.9371947906171268e-16, 1.5918340682983398, -1.2547625303268433], [2.9623150915426637e-16, -0.857354998588562, -0.4519062340259552], [-8.081226814325356e-19, 0.012885604053735733, 0.1533307433128357]], [[1.96154685550179e-16, 1.5998880863189697, -1.267413854598999], [3.0018244139717485e-16, -0.868776261806488, -0.4697721302509308], [-8.29959422423323e-19, 0.013097754679620266, 0.15525345504283905]], [[1.9858941558261248e-16, 1.6079387664794922, -1.280061960220337], [3.041325530769157e-16, -0.8801954388618469, -0.48763611912727356], [-8.517136521480082e-19, 0.013309980742633343, 0.15717583894729614]], [[2.0102368239390293e-16, 1.6159863471984863, -1.292707085609436], [3.0808171184459085e-16, -0.89161217212677, -0.505497932434082], [-8.733785463665377e-19, 0.013522251509130001, 0.15909789502620697]], [[2.0345749921894015e-16, 1.6240308284759521, -1.3053491115570068], [3.1202981182108195e-16, -0.9030261039733887, -0.5233572721481323], [-8.949483148146236e-19, 0.013734540902078152, 0.16101960837841034]], [[2.0589087929261395e-16, 1.6320723295211792, -1.3179882764816284], [3.1597674712727057e-16, -0.914436936378479, -0.5412139892578125], [-9.164179944085906e-19, 0.013946824707090855, 0.16294096410274506]], [[2.0832383584981412e-16, 1.6401108503341675, -1.3306245803833008], [3.199224648235975e-16, -0.9258444309234619, -0.5590678453445435], [-9.37783656040529e-19, 0.014159082435071468, 0.16486196219921112]], [[2.1075638212543046e-16, 1.6481465101242065, -1.3432581424713135], [3.23866885500724e-16, -0.9372482895851135, -0.5769187211990356], [-9.590420943855652e-19, 0.014371293596923351, 0.16678260266780853]], [[2.1318854458924258e-16, 1.6561793088912964, -1.3558889627456665], [3.2780995621909076e-16, -0.9486483931541443, -0.5947664380073547], [-9.801908279018616e-19, 0.014583442360162735, 0.1687028706073761]], [[2.1562032324125047e-16, 1.6642094850540161, -1.3685171604156494], [3.3175162403913864e-16, -0.9600445628166199, -0.6126108765602112], [-1.0012280988306165e-18, 0.014795514754951, 0.17062276601791382]], [[2.1805173131634394e-16, 1.6722369194030762, -1.3811428546905518], [3.3569188896086764e-16, -0.971436619758606, -0.6304519176483154], [-1.022152666400911e-18, 0.015007496811449528, 0.1725422888994217]], [[2.2048279528430259e-16, 1.6802617311477661, -1.3937660455703735], [3.3963069804471854e-16, -0.9828245043754578, -0.6482895016670227], [-1.0429639102272858e-18, 0.015219378285109997, 0.17446143925189972]], [[2.229135283800162e-16, 1.6882840394973755, -1.4063868522644043], [3.4356805129069135e-16, -0.9942080974578857, -0.6661235094070435], [-1.063661520117011e-18, 0.015431148931384087, 0.1763802170753479]], [[2.253439306034848e-16, 1.6963039636611938, -1.419005274772644], [3.4750392222900647e-16, -1.0055873394012451, -0.6839539408683777], [-1.0842458062628166e-18, 0.0156428012996912, 0.17829862236976624]], [[2.277740151895982e-16, 1.7043213844299316, -1.4316215515136719], [3.514383108596639e-16, -1.0169621706008911, -0.7017807364463806], [-1.1047173890501618e-18, 0.015854327008128166, 0.18021665513515472]], [[2.3020380860813597e-16, 1.712336540222168, -1.4442356824874878], [3.553712171826636e-16, -1.0283325910568237, -0.7196038961410522], [-1.1250771990572357e-18, 0.016065722331404686, 0.18213431537151337]], [[2.326333108590981e-16, 1.7203494310379028, -1.4568476676940918], [3.5930266766778525e-16, -1.039698600769043, -0.7374234199523926], [-1.1453264770549573e-18, 0.016276979818940163, 0.18405161798000336]], [[2.3506254841226424e-16, 1.7283600568771362, -1.4694576263427734], [3.632326358452492e-16, -1.0510600805282593, -0.7552392482757568], [-1.1654665672118218e-18, 0.016488097608089447, 0.1859685629606247]], [[2.3749152126763436e-16, 1.7363685369491577, -1.4820656776428223], [3.6716117465461463e-16, -1.0624171495437622, -0.7730514407157898], [-1.1854993306842076e-18, 0.01669907197356224, 0.18788516521453857]], [[2.3992025589498805e-16, 1.7443748712539673, -1.4946718215942383], [3.710882840958816e-16, -1.0737698078155518, -0.7908599972724915], [-1.2054265252309163e-18, 0.016909901052713394, 0.1898014098405838]], [[2.4234875229432534e-16, 1.7523791790008545, -1.507276177406311], [3.7501396416905004e-16, -1.085118055343628, -0.8086649179458618], [-1.2252502188034793e-18, 0.017120584845542908, 0.19171732664108276]], [[2.447770369354258e-16, 1.7603814601898193, -1.51987886428833], [3.789382678136792e-16, -1.0964620113372803, -0.8264662623405457], [-1.2449725827510046e-18, 0.017331119626760483, 0.19363290071487427]], [[2.4720510981828946e-16, 1.7683818340301514, -1.5324798822402954], [3.828611950297691e-16, -1.1078016757965088, -0.8442640900611877], [-1.2645959952177532e-18, 0.01754150539636612, 0.1955481469631195]], [[2.496329974126959e-16, 1.7763803005218506, -1.5450793504714966], [3.867827987568789e-16, -1.1191370487213135, -0.8620584607124329], [-1.2841227309504097e-18, 0.017751744017004967, 0.19746308028697968]], [[2.5206069971864514e-16, 1.7843769788742065, -1.5576772689819336], [3.907030789950086e-16, -1.1304682493209839, -0.879849374294281], [-1.3035551680932351e-18, 0.017961833626031876, 0.19937770068645477]], [[2.5448821673613716e-16, 1.7923717498779297, -1.570273756980896], [3.9462208868371745e-16, -1.14179527759552, -0.8976369500160217], [-1.3228957881880672e-18, 0.018171776086091995, 0.201292023062706]], [[2.5691557493495156e-16, 1.8003648519515991, -1.5828688144683838], [3.985398278230054e-16, -1.1531182527542114, -0.915421187877655], [-1.34214717617432e-18, 0.018381571397185326, 0.20320604741573334]], [[2.5934277431508836e-16, 1.8083562850952148, -1.5954625606536865], [4.024563493524317e-16, -1.164437174797058, -0.9332021474838257], [-1.361311916991408e-18, 0.018591221421957016, 0.2051197737455368]], [[2.6176984134632715e-16, 1.8163460493087769, -1.6080551147460938], [4.063716797417759e-16, -1.1757521629333496, -0.9509799480438232], [-1.3803924921811687e-18, 0.018800728023052216, 0.20703323185443878]], [[2.6419677602866794e-16, 1.8243341445922852, -1.6206464767456055], [4.102858454608176e-16, -1.1870633363723755, -0.9687546491622925], [-1.3993914866830164e-18, 0.019010091200470924, 0.20894640684127808]], [[2.666235783621107e-16, 1.8323206901550293, -1.6332366466522217], [4.1419887297933645e-16, -1.1983706951141357, -0.9865263104438782], [-1.4183114854363652e-18, 0.01921931467950344, 0.21085932850837708]], [[2.690502748164351e-16, 1.8403056859970093, -1.645825743675232], [4.1811081523689163e-16, -1.20967435836792, -1.004294991493225], [-1.4371549699830529e-18, 0.019428398460149765, 0.21277198195457458]], [[2.7147686539164104e-16, 1.8482892513275146, -1.6584137678146362], [4.2202167223348314e-16, -1.220974326133728, -1.022060751914978], [-1.4559245252624936e-18, 0.019637346267700195, 0.214684396982193]], [[2.739033765575082e-16, 1.8562713861465454, -1.6710008382797241], [4.259314969086702e-16, -1.2322707176208496, -1.0398236513137817], [-1.4746226328165251e-18, 0.01984615996479988, 0.2165965735912323]], [[2.7632980831403654e-16, 1.8642520904541016, -1.6835870742797852], [4.2984031573223237e-16, -1.2435636520385742, -1.0575838088989258], [-1.493251774186985e-18, 0.02005484141409397, 0.2185085117816925]], [[2.787561606612261e-16, 1.8722314834594727, -1.6961723566055298], [4.337481551739493e-16, -1.2548531293869019, -1.0753413438796997], [-1.511814430915711e-18, 0.020263392478227615, 0.2204202264547348]], [[2.8118243359907683e-16, 1.8802095651626587, -1.7087568044662476], [4.3765504170360054e-16, -1.266139268875122, -1.0930962562561035], [-1.530312981146964e-18, 0.020471815019845963, 0.22233173251152039]], [[2.8360865359736837e-16, 1.8881863355636597, -1.721340537071228], [4.4156100179096574e-16, -1.2774221897125244, -1.1108486652374268], [-1.5487496996274287e-18, 0.02068011276423931, 0.22424302995204926]], [[2.860348206561007e-16, 1.8961619138717651, -1.7339235544204712], [4.454660619058245e-16, -1.2887018918991089, -1.1285985708236694], [-1.5671270678989428e-18, 0.02088828757405281, 0.2261541336774826]], [[2.8846093477527383e-16, 1.904136300086975, -1.746505856513977], [4.493702485179564e-16, -1.299978494644165, -1.146346092224121], [-1.585447257310614e-18, 0.02109634131193161, 0.22806504368782043]], [[2.9088702242466736e-16, 1.9121094942092896, -1.7590875625610352], [4.532736410367002e-16, -1.3112521171569824, -1.1640913486480713], [-1.6037125426091272e-18, 0.021304277703166008, 0.22997575998306274]], [[2.933130836042813e-16, 1.920081615447998, -1.7716686725616455], [4.571761865224968e-16, -1.322522759437561, -1.18183434009552], [-1.62192509514359e-18, 0.021512098610401154, 0.23188629746437073]], [[2.957391183141156e-16, 1.9280526638031006, -1.7842493057250977], [4.610779908544645e-16, -1.3337905406951904, -1.1995751857757568], [-1.6400870862631106e-18, 0.021719805896282196, 0.23379667103290558]], [[2.9816512655417033e-16, 1.9360226392745972, -1.7968294620513916], [4.649790010930442e-16, -1.3450554609298706, -1.2173140048980713], [-1.6582005839192202e-18, 0.021927403286099434, 0.2357068806886673]], [[3.0059113479422505e-16, 1.9439915418624878, -1.8094091415405273], [4.688793231173542e-16, -1.3563176393508911, -1.2350507974624634], [-1.6762676560634503e-18, 0.022134890779852867, 0.23761694133281708]], [[3.030171430342798e-16, 1.951959490776062, -1.8219884634017944], [4.727789569273946e-16, -1.3675771951675415, -1.252785563468933], [-1.6942902672497557e-18, 0.022342273965477943, 0.23952685296535492]], [[3.054431512743345e-16, 1.9599264860153198, -1.8345674276351929], [4.766779025231654e-16, -1.3788341283798218, -1.27051842212677], [-1.7122703820320911e-18, 0.022549552842974663, 0.24143661558628082]], [[3.078691595143892e-16, 1.9678925275802612, -1.8471460342407227], [4.805761599046665e-16, -1.3900885581970215, -1.2882494926452637], [-1.730209861566835e-18, 0.022756731137633324, 0.24334624409675598]], [[3.1029516775444395e-16, 1.9758577346801758, -1.8597242832183838], [4.844738349510163e-16, -1.4013404846191406, -1.305978775024414], [-1.7481105670103653e-18, 0.022963810712099075, 0.2452557533979416]], [[3.1272120246427827e-16, 1.9838221073150635, -1.8723022937774658], [4.883708747226558e-16, -1.4125900268554688, -1.3237063884735107], [-1.7659743595190605e-18, 0.023170793429017067, 0.24716512858867645]], [[3.151472636438922e-16, 1.9917856454849243, -1.8848800659179688], [4.922673321591439e-16, -1.4238373041152954, -1.3414324522018433], [-1.783802996851722e-18, 0.023377681151032448, 0.24907439947128296]], [[3.175733512932857e-16, 1.9997483491897583, -1.8974577188491821], [4.961632602000401e-16, -1.4350823163986206, -1.3591569662094116], [-1.8015983401647286e-18, 0.023584477603435516, 0.2509835660457611]], [[3.1999946541245885e-16, 2.0077102184295654, -1.910035252571106], [5.000586588453442e-16, -1.4463250637054443, -1.3768799304962158], [-1.8193618370241517e-18, 0.023791182786226273, 0.2528926134109497]], [[3.224256324711912e-16, 2.015671491622925, -1.9226126670837402], [5.039535280950563e-16, -1.4575656652450562, -1.3946014642715454], [-1.8370951417912167e-18, 0.023997800424695015, 0.25480157136917114]], [[3.248518259997031e-16, 2.023632049560547, -1.935189962387085], [5.078478679491764e-16, -1.4688042402267456, -1.4123215675354004], [-1.8547999088271485e-18, 0.024204332381486893, 0.2567104399204254]], [[3.2727807246777426e-16, 2.0315918922424316, -1.9477671384811401], [5.117417313472636e-16, -1.4800407886505127, -1.4300403594970703], [-1.8724777924931724e-18, 0.024410782381892204, 0.2586192190647125]], [[3.297043718754046e-16, 2.039551019668579, -1.9603443145751953], [5.156351712288772e-16, -1.491275429725647, -1.4477579593658447], [-1.890130033560207e-18, 0.02461715042591095, 0.26052790880203247]], [[3.3213072422259415e-16, 2.0475094318389893, -1.9729214906692505], [5.195281875940171e-16, -1.5025081634521484, -1.4654743671417236], [-1.907758286389478e-18, 0.024823440238833427, 0.26243653893470764]], [[3.345571295093429e-16, 2.055467367172241, -1.9854986667633057], [5.234207804426835e-16, -1.5137391090393066, -1.483189582824707], [-1.9253639985470565e-18, 0.025029651820659637, 0.26434507966041565]], [[3.3698358773565085e-16, 2.063424825668335, -1.9980759620666504], [5.273129497748762e-16, -1.5249682664871216, -1.5009037256240845], [-1.942948410803862e-18, 0.025235788896679878, 0.2662535607814789]], [[3.394101253712976e-16, 2.0713815689086914, -2.010653257369995], [5.312047485301545e-16, -1.5361957550048828, -1.518616795539856], [-1.960512970725966e-18, 0.0254418533295393, 0.26816198229789734]], [[3.4183671594650356e-16, 2.0793378353118896, -2.023230791091919], [5.350961767085184e-16, -1.5474215745925903, -1.536328911781311], [-1.9780589190842877e-18, 0.0256478451192379, 0.270070344209671]], [[3.4426338593104833e-16, 2.0872936248779297, -2.0358083248138428], [5.38987287249527e-16, -1.5586458444595337, -1.5540400743484497], [-1.9955874966497458e-18, 0.02585376799106598, 0.2719786465167999]], [[3.466901088551523e-16, 2.0952489376068115, -2.0483860969543457], [5.428780801531804e-16, -1.569868564605713, -1.571750283241272], [-2.013099944193259e-18, 0.026059623807668686, 0.27388691902160645]], [[3.4911691118859507e-16, 2.103203773498535, -2.0609641075134277], [5.467685554194786e-16, -1.581089735031128, -1.5894596576690674], [-2.0305975024857464e-18, 0.02626541443169117, 0.2757951319217682]], [[3.5154379293137665e-16, 2.1111581325531006, -2.0735421180725098], [5.506587130484216e-16, -1.5923094749450684, -1.6071683168411255], [-2.0480812055029735e-18, 0.02647114172577858, 0.27770331501960754]], [[3.5397075408349704e-16, 2.119112253189087, -2.086120367050171], [5.545486059795686e-16, -1.6035279035568237, -1.6248761415481567], [-2.065552294015859e-18, 0.026676807552576065, 0.2796114683151245]], [[3.563977946449562e-16, 2.127065896987915, -2.098698854446411], [5.584382342129195e-16, -1.614745020866394, -1.6425832509994507], [-2.083011802000169e-18, 0.026882413774728775, 0.2815195918083191]], [[3.588249146157542e-16, 2.135019302368164, -2.1112775802612305], [5.623275977484745e-16, -1.6259608268737793, -1.6602897644042969], [-2.100460970226822e-18, 0.02708796039223671, 0.2834276854991913]], [[3.612521404656706e-16, 2.142972230911255, -2.123856544494629], [5.662167495257926e-16, -1.637175440788269, -1.6779956817626953], [-2.1179006258764306e-18, 0.027293451130390167, 0.2853357493877411]], [[3.6367944572492583e-16, 2.1509249210357666, -2.1364359855651855], [5.701056366053147e-16, -1.6483888626098633, -1.695701003074646], [-2.1353318029247606e-18, 0.027498887851834297, 0.2872438132762909]], [[3.6610683039351984e-16, 2.158877372741699, -2.1490156650543213], [5.739943648661592e-16, -1.6596012115478516, -1.713405728340149], [-2.1527555353475776e-18, 0.0277042705565691, 0.2891518473625183]], [[3.6853432094123225e-16, 2.1668295860290527, -2.161595582962036], [5.778828813687669e-16, -1.6708124876022339, -1.7311099767684937], [-2.170172650325494e-18, 0.027909602969884872, 0.2910598814487457]], [[3.709618908982835e-16, 2.174781560897827, -2.174175977706909], [5.817711861131377e-16, -1.6820226907730103, -1.7488137483596802], [-2.1875839750391228e-18, 0.028114885091781616, 0.29296788573265076]], [[3.733895667344531e-16, 2.1827332973480225, -2.1867566108703613], [5.85659332038831e-16, -1.6932319402694702, -1.766517162322998], [-2.2049905434642293e-18, 0.02832011878490448, 0.2948758900165558]], [[3.7581732197996154e-16, 2.1906847953796387, -2.1993377208709717], [5.895473191458466e-16, -1.7044403553009033, -1.7842200994491577], [-2.222393182781426e-18, 0.028525305911898613, 0.2967838943004608]], [[3.782451831045884e-16, 2.198636293411255, -2.211919069290161], [5.934352003737439e-16, -1.71564781665802, -1.8019226789474487], [-2.239792720171326e-18, 0.028730448335409164, 0.29869189858436584]], [[3.8067315010833363e-16, 2.206587553024292, -2.224500894546509], [5.973229227829635e-16, -1.7268544435501099, -1.8196250200271606], [-2.2571899828145412e-18, 0.028935547918081284, 0.30059993267059326]], [[3.831011965214177e-16, 2.214538812637329, -2.2370829582214355], [6.012105393130647e-16, -1.7380603551864624, -1.837327003479004], [-2.2745855910965314e-18, 0.02914060465991497, 0.3025079667568207]], [[3.8552934881362015e-16, 2.222489833831787, -2.2496654987335205], [6.050980499640475e-16, -1.7492655515670776, -1.855028748512268], [-2.291980372197909e-18, 0.029345620423555374, 0.3044160008430481]], [[3.87957606984941e-16, 2.230440855026245, -2.2622485160827637], [6.089854547359119e-16, -1.7604700326919556, -1.8727303743362427], [-2.3093751532992866e-18, 0.029550597071647644, 0.3063240647315979]], [[3.903859445656007e-16, 2.238391876220703, -2.274832010269165], [6.128727536286579e-16, -1.7716737985610962, -1.8904317617416382], [-2.3267705547861237e-18, 0.02975553646683693, 0.3082321286201477]], [[3.9281438802537877e-16, 2.246342897415161, -2.2874159812927246], [6.167599995818447e-16, -1.782876968383789, -1.9081330299377441], [-2.3441671970438795e-18, 0.02996044047176838, 0.3101402223110199]], [[3.9524293736427525e-16, 2.254293918609619, -2.3000004291534424], [6.206471396559131e-16, -1.7940796613693237, -1.9258341789245605], [-2.3615657004580136e-18, 0.030165309086441994, 0.3120483160018921]], [[3.9767156611251054e-16, 2.262244939804077, -2.3125851154327393], [6.245342267904223e-16, -1.8052817583084106, -1.9435352087020874], [-2.3789666854139854e-18, 0.030370144173502922, 0.31395643949508667]], [[4.0010030073986424e-16, 2.270195960998535, -2.3251702785491943], [6.284212609853723e-16, -1.8164833784103394, -1.9612362384796143], [-2.3963707722972543e-18, 0.030574947595596313, 0.31586459279060364]], [[4.0252914124633634e-16, 2.278146982192993, -2.3377559185028076], [6.323082951803223e-16, -1.8276846408843994, -1.9789371490478516], [-2.4137785814932796e-18, 0.030779721215367317, 0.317772775888443]], [[4.0495808763192686e-16, 2.286098003387451, -2.350342035293579], [6.361952764357131e-16, -1.8388854265213013, -1.9966380596160889], [-2.4311905265923677e-18, 0.030984465032815933, 0.31968098878860474]], [[4.0738711342685617e-16, 2.2940492630004883, -2.362928628921509], [6.400822047515446e-16, -1.8500858545303345, -2.014338970184326], [-2.448607227979978e-18, 0.03118918091058731, 0.32158923149108887]], [[4.098162451009039e-16, 2.3020005226135254, -2.375515937805176], [6.439691330673762e-16, -1.8612860441207886, -2.0320398807525635], [-2.46602930604157e-18, 0.0313938707113266, 0.3234975039958954]], [[4.1224548265407003e-16, 2.3099520206451416, -2.388103723526001], [6.478560613832078e-16, -1.872485876083374, -2.04974102973938], [-2.4834569675722964e-18, 0.0315985344350338, 0.3254058063030243]], [[4.1467479961657496e-16, 2.317903518676758, -2.4006919860839844], [6.517429896990394e-16, -1.8836854696273804, -2.0674421787261963], [-2.500890832957617e-18, 0.03180317580699921, 0.327314168214798]], [[4.171042224581983e-16, 2.325855255126953, -2.413280725479126], [6.55629918014871e-16, -1.8948848247528076, -2.085143566131592], [-2.5183315225829915e-18, 0.032007791101932526, 0.32922255992889404]], [[4.1953375117894005e-16, 2.3338069915771484, -2.425869941711426], [6.595168992702617e-16, -1.9060840606689453, -2.1028449535369873], [-2.5357792432435725e-18, 0.03221238777041435, 0.3311309814453125]], [[4.219633593090206e-16, 2.341758966445923, -2.438459634780884], [6.634038805256525e-16, -1.917283058166504, -2.120546579360962], [-2.5532344085296665e-18, 0.03241696208715439, 0.33303946256637573]], [[4.2439307331821957e-16, 2.3497111797332764, -2.4510498046875], [6.672909147206025e-16, -1.928481936454773, -2.1382484436035156], [-2.5706974320315797e-18, 0.03262151777744293, 0.33494797348976135]], [[4.2682286673675733e-16, 2.357663631439209, -2.4636404514312744], [6.711779489155525e-16, -1.939680814743042, -2.1559503078460693], [-2.5881685205444654e-18, 0.032826054841279984, 0.33685654401779175]], [[4.292527660344135e-16, 2.3656163215637207, -2.476231575012207], [6.750650360500617e-16, -1.9508795738220215, -2.173652410507202], [-2.605648294453783e-18, 0.03303057327866554, 0.33876514434814453]], [[4.316827447414085e-16, 2.3735692501068115, -2.488823413848877], [6.789521761241301e-16, -1.962078332901001, -2.191354751586914], [-2.6231369605546852e-18, 0.03323507681488991, 0.3406738042831421]], [[4.3411282932752187e-16, 2.3815224170684814, -2.501415729522705], [6.828393691377577e-16, -1.9732770919799805, -2.209057331085205], [-2.6406347256423257e-18, 0.03343956544995308, 0.34258249402046204]], [[4.3654299332297405e-16, 2.3894758224487305, -2.5140085220336914], [6.867266150909445e-16, -1.98447585105896, -2.2267603874206543], [-2.6581420033070105e-18, 0.03364403918385506, 0.34449124336242676]], [[4.3897326319754465e-16, 2.3974294662475586, -2.526601791381836], [6.906139139836905e-16, -1.9956746101379395, -2.2444636821746826], [-2.675659000343893e-18, 0.03384850174188614, 0.34640005230903625]], [[4.4140361248145405e-16, 2.405383348464966, -2.5391955375671387], [6.945013187555549e-16, -2.006873607635498, -2.26216721534729], [-2.6931859235481258e-18, 0.03405294939875603, 0.34830889105796814]], [[4.4383404117470226e-16, 2.413337469100952, -2.5517897605895996], [6.983887764669785e-16, -2.0180726051330566, -2.2798709869384766], [-2.7107229797148625e-18, 0.03425738587975502, 0.3502177894115448]], [[4.462645492772893e-16, 2.4212918281555176, -2.5643844604492188], [7.022763400575205e-16, -2.0292716026306152, -2.2975752353668213], [-2.7282705824344093e-18, 0.034461814910173416, 0.35212674736976624]], [[4.486951632589947e-16, 2.429246425628662, -2.576979637145996], [7.061639565876217e-16, -2.040470838546753, -2.315279722213745], [-2.745828731706766e-18, 0.03466623276472092, 0.35403576493263245]], [[4.511258301802593e-16, 2.437201499938965, -2.5895752906799316], [7.100516789968413e-16, -2.0516703128814697, -2.332984685897827], [-2.7633976343270862e-18, 0.03487064316868782, 0.35594484210014343]], [[4.535566029806423e-16, 2.4451568126678467, -2.6021714210510254], [7.139395072851794e-16, -2.0628697872161865, -2.3506898880004883], [-2.7809774970905226e-18, 0.03507504612207413, 0.3578539490699768]], [[4.559874816601438e-16, 2.4531123638153076, -2.6147680282592773], [7.178273885130766e-16, -2.0740694999694824, -2.3683955669403076], [-2.7985685267922284e-18, 0.03527944162487984, 0.35976311564445496]], [[4.584184132792044e-16, 2.4610681533813477, -2.6273651123046875], [7.217153756200923e-16, -2.0852694511413574, -2.386101722717285], [-2.8161707234322037e-18, 0.03548382967710495, 0.3616723418235779]], [[4.608494507773835e-16, 2.469024419784546, -2.639962673187256], [7.256034686062263e-16, -2.0964696407318115, -2.403808116912842], [-2.8337840870104484e-18, 0.035688214004039764, 0.3635816276073456]], [[4.632805412151217e-16, 2.4769809246063232, -2.6525607109069824], [7.294916674714788e-16, -2.1076700687408447, -2.4215149879455566], [-2.8514088243221158e-18, 0.03589259460568428, 0.36549097299575806]], [[4.657116845924192e-16, 2.4849376678466797, -2.665159225463867], [7.333799722158496e-16, -2.118870735168457, -2.4392223358154297], [-2.869045142162359e-18, 0.0360969714820385, 0.3674003779888153]], [[4.68142933848835e-16, 2.4928948879241943, -2.67775821685791], [7.372683828393389e-16, -2.1300716400146484, -2.456930160522461], [-2.8866928337360246e-18, 0.03630134463310242, 0.36930984258651733]], [[4.705742360448101e-16, 2.500852346420288, -2.6903576850891113], [7.411568993419466e-16, -2.141272783279419, -2.4746382236480713], [-2.904352105838266e-18, 0.03650571405887604, 0.37121933698654175]], [[4.730056441199035e-16, 2.508810043334961, -2.7029576301574707], [7.450455217236727e-16, -2.1524741649627686, -2.49234676361084], [-2.9220229584690832e-18, 0.03671008348464966, 0.37312889099121094]], [[4.754371051345562e-16, 2.516767978668213, -2.7155580520629883], [7.489342499845172e-16, -2.1636760234832764, -2.5100557804107666], [-2.939705391628476e-18, 0.03691444918513298, 0.3750385046005249]], [[4.778686190887681e-16, 2.524726390838623, -2.728158950805664], [7.528230841244801e-16, -2.1748781204223633, -2.5277652740478516], [-2.957399405316445e-18, 0.0371188148856163, 0.37694817781448364]], [[4.803002389220984e-16, 2.5326850414276123, -2.740760326385498], [7.567120770831206e-16, -2.1860804557800293, -2.5454752445220947], [-2.975104792737836e-18, 0.037323180586099625, 0.37885791063308716]], [[4.827319116949879e-16, 2.5406439304351807, -2.753361940383911], [7.606011759208795e-16, -2.1972832679748535, -2.563185691833496], [-2.992821760687803e-18, 0.03752754628658295, 0.38076770305633545]], [[4.851636374074366e-16, 2.5486032962799072, -2.7659640312194824], [7.644903806377568e-16, -2.208486318588257, -2.5808966159820557], [-3.0105501023711928e-18, 0.03773191571235657, 0.38267752528190613]], [[4.875954160594444e-16, 2.556562900543213, -2.778566598892212], [7.683796912337526e-16, -2.2196896076202393, -2.5986077785491943], [-3.028289610992852e-18, 0.03793628513813019, 0.3845874071121216]], [[4.900272476510115e-16, 2.5645227432250977, -2.7911694049835205], [7.722691077088667e-16, -2.23089337348938, -2.616319417953491], [-3.0460402865527804e-18, 0.03814065828919411, 0.3864973485469818]], [[4.92459185121697e-16, 2.5724828243255615, -2.8037726879119873], [7.761586300630992e-16, -2.2420973777770996, -2.6340315341949463], [-3.0638021290509785e-18, 0.038345031440258026, 0.3884073495864868]], [[4.948911755319418e-16, 2.5804431438446045, -2.816376209259033], [7.800483112360094e-16, -2.2533016204833984, -2.6517441272735596], [-3.0815747248971397e-18, 0.038549408316612244, 0.3903174102306366]], [[4.973232188817457e-16, 2.5884039402008057, -2.8289802074432373], [7.839380982880379e-16, -2.2645063400268555, -2.669457197189331], [-3.099358074091264e-18, 0.03875378891825676, 0.39222750067710876]], [[4.997553151711088e-16, 2.596364974975586, -2.8415844440460205], [7.878279912191849e-16, -2.2757112979888916, -2.6871707439422607], [-3.1171519698381985e-18, 0.038958173245191574, 0.3941376507282257]], [[5.021874644000311e-16, 2.6043262481689453, -2.854189157485962], [7.917179900294503e-16, -2.286916494369507, -2.7048847675323486], [-3.13495620534279e-18, 0.03916256129741669, 0.3960478603839874]], [[5.046196665685126e-16, 2.612287759780884, -2.8667941093444824], [7.956080947188341e-16, -2.298121929168701, -2.7225990295410156], [-3.152770573809885e-18, 0.0393669530749321, 0.39795809984207153]], [[5.070519216765533e-16, 2.6202495098114014, -2.879399538040161], [7.994983052873363e-16, -2.3093278408050537, -2.740313768386841], [-3.170594868444331e-18, 0.03957134857773781, 0.3998683989048004]], [[5.094842297241533e-16, 2.628211498260498, -2.892005205154419], [8.033886217349569e-16, -2.3205339908599854, -2.758028984069824], [-3.188428882450974e-18, 0.039775747805833817, 0.4017787277698517]], [[5.119165907113124e-16, 2.636173725128174, -2.904611110687256], [8.072790440616959e-16, -2.331740379333496, -2.775744676589966], [-3.2062724090346617e-18, 0.03998015075922012, 0.40368911623954773]], [[5.143489516984715e-16, 2.6441359519958496, -2.917217254638672], [8.111695722675533e-16, -2.342947006225586, -2.7934606075286865], [-3.2241250346050875e-18, 0.04018456116318703, 0.40559953451156616]], [[5.167813656251899e-16, 2.6520984172821045, -2.929823637008667], [8.150602063525291e-16, -2.354154109954834, -2.8111770153045654], [-3.241986552367098e-18, 0.04038897529244423, 0.40751001238822937]], [[5.192138324914674e-16, 2.6600611209869385, -2.942430257797241], [8.189509463166233e-16, -2.365361452102661, -2.8288938999176025], [-3.2598567555255406e-18, 0.04059339314699173, 0.40942052006721497]], [[5.216463522973041e-16, 2.6680240631103516, -2.9550371170043945], [8.228417392202767e-16, -2.3765690326690674, -2.8466110229492188], [-3.2777352304901086e-18, 0.04079781845211983, 0.41133105754852295]], [[5.240788721031409e-16, 2.6759872436523438, -2.967644214630127], [8.267326380030486e-16, -2.3877768516540527, -2.864328622817993], [-3.295621770465649e-18, 0.04100224748253822, 0.4132416248321533]], [[5.265114448485368e-16, 2.683950424194336, -2.9802515506744385], [8.306236426649388e-16, -2.398984909057617, -2.8820464611053467], [-3.3135159618618555e-18, 0.04120668023824692, 0.41515225172042847]], [[5.28944070533492e-16, 2.6919138431549072, -2.992859125137329], [8.345147002663882e-16, -2.4101932048797607, -2.8997647762298584], [-3.331417391088422e-18, 0.04141112044453621, 0.417062908411026]], [[5.313766962184471e-16, 2.6998775005340576, -3.005466938018799], [8.384058637469561e-16, -2.4214017391204834, -2.917483329772949], [-3.349325851350195e-18, 0.0416155643761158, 0.4189735949039459]], [[5.338093748429615e-16, 2.707841157913208, -3.0180749893188477], [8.422970801670831e-16, -2.432610511779785, -2.935202121734619], [-3.3672411358520215e-18, 0.041820015758275986, 0.42088431119918823]], [[5.362420534674758e-16, 2.7158050537109375, -3.0306832790374756], [8.461884024663286e-16, -2.443819522857666, -2.952921152114868], [-3.3851628310035954e-18, 0.04202447086572647, 0.42279505729675293]], [[5.386747850315494e-16, 2.723768949508667, -3.0432915687561035], [8.500797777051333e-16, -2.455028772354126, -2.9706406593322754], [-3.4030905232146103e-18, 0.042228929698467255, 0.42470583319664]], [[5.411075165956229e-16, 2.7317330837249756, -3.0559000968933105], [8.539712058834971e-16, -2.466238260269165, -2.9883604049682617], [-3.42102379889476e-18, 0.04243339225649834, 0.4266166388988495]], [[5.435403010992557e-16, 2.739697217941284, -3.0685088634490967], [8.578626870014202e-16, -2.477447748184204, -3.006080389022827], [-3.438962451248891e-18, 0.042637862265110016, 0.42852747440338135]], [[5.459730856028884e-16, 2.747661590576172, -3.081117630004883], [8.617542739984617e-16, -2.4886574745178223, -3.0238006114959717], [-3.4569060666866977e-18, 0.04284233599901199, 0.4304383099079132]], [[5.484058701065212e-16, 2.7556259632110596, -3.093726634979248], [8.656459139350624e-16, -2.4998674392700195, -3.0415210723876953], [-3.474854231617873e-18, 0.04304681345820427, 0.43234917521476746]], [[5.508387075497132e-16, 2.7635903358459473, -3.1063356399536133], [8.69537553871663e-16, -2.511077404022217, -3.059241533279419], [-3.492806532452112e-18, 0.043251294642686844, 0.4342600703239441]], [[5.532715449929051e-16, 2.771554946899414, -3.1189448833465576], [8.734292467478229e-16, -2.522287607192993, -3.0769622325897217], [-3.510762969189413e-18, 0.04345577955245972, 0.4361709654331207]], [[5.557043824360971e-16, 2.779519557952881, -3.131554126739502], [8.77320992563542e-16, -2.5334978103637695, -3.0946831703186035], [-3.5287231282394704e-18, 0.04366026818752289, 0.43808189034461975]], [[5.581372728188482e-16, 2.7874841690063477, -3.1441633701324463], [8.812127913188203e-16, -2.544708251953125, -3.1124043464660645], [-3.546686596011978e-18, 0.04386476054787636, 0.4399928152561188]], [[5.605701632015994e-16, 2.7954490184783936, -3.1567728519439697], [8.851046430136578e-16, -2.5559186935424805, -3.1301255226135254], [-3.56465295891663e-18, 0.044069256633520126, 0.4419037699699402]], [[5.630030535843506e-16, 2.8034138679504395, -3.169382333755493], [8.889965476480545e-16, -2.567129373550415, -3.1478469371795654], [-3.5826218033631194e-18, 0.044273752719163895, 0.4438147246837616]], [[5.654359439671017e-16, 2.8113787174224854, -3.1819918155670166], [8.928884522824512e-16, -2.5783400535583496, -3.1655683517456055], [-3.6005931293514465e-18, 0.04447825253009796, 0.4457257091999054]], [[5.678688343498529e-16, 2.8193435668945312, -3.19460129737854], [8.967803569168479e-16, -2.589550733566284, -3.1832900047302246], [-3.618566523291305e-18, 0.04468275606632233, 0.4476366937160492]], [[5.703017247326041e-16, 2.827308416366577, -3.2072110176086426], [9.006722615512446e-16, -2.600761651992798, -3.2010116577148438], [-3.6365415715923885e-18, 0.04488725960254669, 0.449547678232193]], [[5.727346680549144e-16, 2.835273265838623, -3.219820737838745], [9.045641661856413e-16, -2.6119725704193115, -3.218733310699463], [-3.654518274254697e-18, 0.045091766864061356, 0.4514586627483368]], [[5.751676113772248e-16, 2.843238115310669, -3.2324304580688477], [9.084561766991564e-16, -2.623183488845825, -3.236455202102661], [-3.672496217687925e-18, 0.04529627412557602, 0.453369677066803]], [[5.776005546995352e-16, 2.851203203201294, -3.24504017829895], [9.123481872126715e-16, -2.634394407272339, -3.2541770935058594], [-3.690475401892071e-18, 0.04550078138709068, 0.45528069138526917]], [[5.800334980218455e-16, 2.859168291091919, -3.2576498985290527], [9.162401977261866e-16, -2.6456053256988525, -3.2718989849090576], [-3.70845541327683e-18, 0.045705292373895645, 0.45719170570373535]], [[5.824664413441559e-16, 2.867133378982544, -3.2702596187591553], [9.201322082397017e-16, -2.656816244125366, -3.289620876312256], [-3.726435838251895e-18, 0.04590980336070061, 0.45910272002220154]], [[5.848993846664663e-16, 2.875098466873169, -3.282869338989258], [9.240242187532168e-16, -2.668027400970459, -3.307342767715454], [-3.744417090407573e-18, 0.04611431434750557, 0.4610137343406677]], [[5.873323279887766e-16, 2.883063554763794, -3.2954790592193604], [9.279162292667319e-16, -2.6792385578155518, -3.3250646591186523], [-3.762398756153557e-18, 0.04631882533431053, 0.4629247486591339]], [[5.89765271311087e-16, 2.891028642654419, -3.308088779449463], [9.31808239780247e-16, -2.6904497146606445, -3.3427865505218506], [-3.780380421899541e-18, 0.046523336321115494, 0.4648357629776001]], [[5.921982146333974e-16, 2.898993730545044, -3.3206984996795654], [9.35700250293762e-16, -2.7016608715057373, -3.360508441925049], [-3.798362501235831e-18, 0.046727847307920456, 0.4667467772960663]], [[5.946311579557077e-16, 2.906958818435669, -3.333308219909668], [9.395922608072772e-16, -2.71287202835083, -3.378230333328247], [-3.816344580572121e-18, 0.04693235829472542, 0.46865779161453247]], [[5.970641012780181e-16, 2.914923906326294, -3.3459179401397705], [9.434842713207923e-16, -2.724083185195923, -3.3959522247314453], [-3.8343266599084116e-18, 0.04713686928153038, 0.47056880593299866]], [[5.994970446003285e-16, 2.922888994216919, -3.358527660369873], [9.473762818343074e-16, -2.7352943420410156, -3.4136741161346436], [-3.852308739244702e-18, 0.04734138026833534, 0.47247982025146484]], [[6.019299879226388e-16, 2.930854082107544, -3.3711373805999756], [9.512682923478225e-16, -2.7465054988861084, -3.431396007537842], [-3.870290818580992e-18, 0.047545891255140305, 0.47439083456993103]], [[6.043629312449492e-16, 2.938819169998169, -3.383747100830078], [9.551603028613376e-16, -2.757716655731201, -3.44911789894104], [-3.8882728979172824e-18, 0.04775040224194527, 0.4763018488883972]], [[6.067958745672596e-16, 2.946784257888794, -3.3963568210601807], [9.590523133748527e-16, -2.768927812576294, -3.4668397903442383], [-3.906254977253573e-18, 0.04795491322875023, 0.4782128632068634]], [[6.092288178895699e-16, 2.954749345779419, -3.408966541290283], [9.629443238883678e-16, -2.7801389694213867, -3.4845616817474365], [-3.924237056589863e-18, 0.04815942421555519, 0.4801238775253296]], [[6.116617612118803e-16, 2.962714433670044, -3.4215762615203857], [9.66836334401883e-16, -2.7913501262664795, -3.5022835731506348], [-3.942219135926153e-18, 0.04836393520236015, 0.4820348918437958]], [[6.140947045341907e-16, 2.970679521560669, -3.4341859817504883], [9.70728344915398e-16, -2.8025612831115723, -3.520005464553833], [-3.9602012152624435e-18, 0.048568446189165115, 0.48394590616226196]], [[6.16527647856501e-16, 2.978644609451294, -3.446795701980591], [9.746203554289131e-16, -2.813772439956665, -3.5377273559570312], [-3.978183294598734e-18, 0.04877295717597008, 0.48585692048072815]], [[6.189605911788114e-16, 2.986609697341919, -3.4594054222106934], [9.785123659424282e-16, -2.824983596801758, -3.5554492473602295], [-3.996165373935024e-18, 0.04897746816277504, 0.48776793479919434]], [[6.213935345011218e-16, 2.994574785232544, -3.472015142440796], [9.824043764559433e-16, -2.8361947536468506, -3.5731711387634277], [-4.014147453271314e-18, 0.04918197914958, 0.4896789491176605]], [[6.238264778234321e-16, 3.002539873123169, -3.4846248626708984], [9.862963869694584e-16, -2.8474059104919434, -3.590893030166626], [-4.0321295326076046e-18, 0.049386490136384964, 0.4915899634361267]], [[6.262594211457425e-16, 3.010504961013794, -3.497234582901001], [9.901883974829735e-16, -2.858617067337036, -3.608614921569824], [-4.050111611943895e-18, 0.049591001123189926, 0.4935009777545929]], [[6.286923644680529e-16, 3.018470048904419, -3.5098443031311035], [9.940804079964886e-16, -2.869828224182129, -3.6263368129730225], [-4.068093691280185e-18, 0.04979551210999489, 0.4954119920730591]], [[6.3112530779036325e-16, 3.026435136795044, -3.522454023361206], [9.979724185100037e-16, -2.8810393810272217, -3.6440587043762207], [-4.086075770616475e-18, 0.05000002309679985, 0.49732300639152527]], [[6.335582511126736e-16, 3.034400224685669, -3.5350637435913086], [1.0018644290235188e-15, -2.8922505378723145, -3.661780595779419], [-4.104057849952766e-18, 0.05020453408360481, 0.49923402070999146]], [[6.35991194434984e-16, 3.042365312576294, -3.547673463821411], [1.005756439537034e-15, -2.9034616947174072, -3.679502487182617], [-4.122039929289056e-18, 0.050409045070409775, 0.50114506483078]], [[6.384241377572944e-16, 3.050330400466919, -3.5602831840515137], [1.009648450050549e-15, -2.9146728515625, -3.6972243785858154], [-4.140022008625346e-18, 0.05061355605721474, 0.5030561089515686]], [[6.408570810796047e-16, 3.058295488357544, -3.572892904281616], [1.0135404605640642e-15, -2.9258840084075928, -3.7149462699890137], [-4.1580040879616364e-18, 0.0508180670440197, 0.5049671530723572]], [[6.432900244019151e-16, 3.066260576248169, -3.5855026245117188], [1.0174324710775793e-15, -2.9370951652526855, -3.732668161392212], [-4.175986167297927e-18, 0.05102257803082466, 0.5068781971931458]], [[6.457229677242255e-16, 3.074225664138794, -3.5981123447418213], [1.0213244815910944e-15, -2.9483063220977783, -3.75039005279541], [-4.193968246634217e-18, 0.05122708901762962, 0.5087892413139343]], [[6.481559110465358e-16, 3.082190752029419, -3.610722064971924], [1.0252164921046095e-15, -2.959517478942871, -3.7681119441986084], [-4.211950325970507e-18, 0.051431600004434586, 0.5107002854347229]], [[6.505888543688462e-16, 3.090155839920044, -3.6233317852020264], [1.0291085026181246e-15, -2.970728635787964, -3.7858338356018066], [-4.2299324053067975e-18, 0.05163611099123955, 0.5126113295555115]], [[6.530217976911566e-16, 3.098120927810669, -3.635941505432129], [1.0330005131316397e-15, -2.9819397926330566, -3.803555727005005], [-4.247914484643088e-18, 0.05184062197804451, 0.5145223736763]], [[6.554547410134669e-16, 3.106086015701294, -3.6485512256622314], [1.0368925236451548e-15, -2.9931509494781494, -3.821277618408203], [-4.265896563979378e-18, 0.05204513296484947, 0.5164334177970886]], [[6.578876843357773e-16, 3.114051103591919, -3.661160945892334], [1.0407845341586699e-15, -3.004362106323242, -3.8389995098114014], [-4.283878643315668e-18, 0.052249643951654434, 0.5183444619178772]], [[6.603206276580877e-16, 3.122016191482544, -3.6737706661224365], [1.044676544672185e-15, -3.015573263168335, -3.8567214012145996], [-4.3018607226519586e-18, 0.052454154938459396, 0.5202555060386658]], [[6.62753570980398e-16, 3.129981279373169, -3.686380386352539], [1.0485685551857e-15, -3.0267844200134277, -3.874443292617798], [-4.319842801988249e-18, 0.05265866592526436, 0.5221665501594543]], [[6.651865143027084e-16, 3.137946367263794, -3.6989901065826416], [1.0524605656992152e-15, -3.0379955768585205, -3.892165184020996], [-4.337824881324539e-18, 0.05286317691206932, 0.5240775942802429]], [[6.676194576250188e-16, 3.145911455154419, -3.711599826812744], [1.0563525762127303e-15, -3.0492067337036133, -3.9098870754241943], [-4.3558069606608294e-18, 0.05306768789887428, 0.5259886384010315]], [[6.700524009473291e-16, 3.153876543045044, -3.7242095470428467], [1.0602445867262454e-15, -3.060417890548706, -3.9276089668273926], [-4.37378903999712e-18, 0.053272198885679245, 0.5278996825218201]], [[6.724853442696395e-16, 3.161841630935669, -3.736819267272949], [1.0641365972397605e-15, -3.071629047393799, -3.945330858230591], [-4.39177111933341e-18, 0.05347670987248421, 0.5298107266426086]], [[6.749182875919499e-16, 3.169806718826294, -3.7494289875030518], [1.0680286077532756e-15, -3.0828402042388916, -3.963052749633789], [-4.4097531986697e-18, 0.05368122085928917, 0.5317217707633972]], [[6.773512309142602e-16, 3.177771806716919, -3.7620387077331543], [1.0719206182667907e-15, -3.0940513610839844, -3.9807746410369873], [-4.4277352780059905e-18, 0.05388573184609413, 0.5336328148841858]], [[6.797841742365706e-16, 3.185736894607544, -3.774648427963257], [1.0758126287803058e-15, -3.105262517929077, -3.9984965324401855], [-4.445717357342281e-18, 0.054090242832899094, 0.5355438590049744]], [[6.82217117558881e-16, 3.193701982498169, -3.7872581481933594], [1.079704639293821e-15, -3.11647367477417, -4.016218662261963], [-4.463699436678571e-18, 0.054294753819704056, 0.5374549031257629]], [[6.846500608811913e-16, 3.201667070388794, -3.799867868423462], [1.083596649807336e-15, -3.1276848316192627, -4.03394079208374], [-4.481681516014861e-18, 0.05449926480650902, 0.5393659472465515]], [[6.870830042035017e-16, 3.209632158279419, -3.8124775886535645], [1.0874886603208511e-15, -3.1388959884643555, -4.051662921905518], [-4.4996635953511515e-18, 0.05470377579331398, 0.5412769913673401]], [[6.895159475258121e-16, 3.217597246170044, -3.825087308883667], [1.0913806708343662e-15, -3.1501071453094482, -4.069385051727295], [-4.517645674687442e-18, 0.05490828678011894, 0.5431880354881287]], [[6.919488908481224e-16, 3.225562334060669, -3.8376970291137695], [1.0952726813478813e-15, -3.161318302154541, -4.087107181549072], [-4.535627754023732e-18, 0.055112797766923904, 0.5450990796089172]], [[6.943818341704328e-16, 3.233527421951294, -3.850306749343872], [1.0991646918613964e-15, -3.172529458999634, -4.10482931137085], [-4.553609833360022e-18, 0.05531730875372887, 0.5470101237297058]], [[6.968147774927432e-16, 3.241492509841919, -3.8629164695739746], [1.1030567023749115e-15, -3.1837406158447266, -4.122551441192627], [-4.571591912696313e-18, 0.05552181974053383, 0.5489211678504944]], [[6.992477208150535e-16, 3.249457597732544, -3.875526189804077], [1.1069487128884266e-15, -3.1949517726898193, -4.140273571014404], [-4.589573992032603e-18, 0.05572633072733879, 0.550832211971283]], [[7.016806641373639e-16, 3.257422685623169, -3.8881359100341797], [1.1108407234019417e-15, -3.206162929534912, -4.157995700836182], [-4.607556071368893e-18, 0.05593084171414375, 0.5527432560920715]], [[7.041136074596743e-16, 3.265387773513794, -3.9007456302642822], [1.1147327339154568e-15, -3.217374086380005, -4.175717830657959], [-4.6255381507051834e-18, 0.056135352700948715, 0.5546543002128601]], [[7.065465507819846e-16, 3.273352861404419, -3.9133553504943848], [1.118624744428972e-15, -3.2285852432250977, -4.193439960479736], [-4.643520230041474e-18, 0.05633986368775368, 0.5565653443336487]], [[7.08979494104295e-16, 3.281317949295044, -3.9259650707244873], [1.122516754942487e-15, -3.2397964000701904, -4.211162090301514], [-4.661502309377764e-18, 0.05654437467455864, 0.5584763884544373]], [[7.114124374266054e-16, 3.289283037185669, -3.93857479095459], [1.1264087654560022e-15, -3.251007556915283, -4.228884220123291], [-4.679484388714054e-18, 0.0567488856613636, 0.5603874325752258]], [[7.138453807489157e-16, 3.297248125076294, -3.9511845111846924], [1.1303007759695173e-15, -3.262218713760376, -4.246606349945068], [-4.6974664680503445e-18, 0.056953396648168564, 0.5622984766960144]], [[7.162783240712261e-16, 3.305213212966919, -3.963794231414795], [1.1341927864830324e-15, -3.2734298706054688, -4.264328479766846], [-4.715448547386635e-18, 0.057157907634973526, 0.564209520816803]], [[7.187112673935365e-16, 3.313178300857544, -3.9764039516448975], [1.1380847969965475e-15, -3.2846410274505615, -4.282050609588623], [-4.733430626722925e-18, 0.05736241862177849, 0.5661205649375916]], [[7.2114421071584685e-16, 3.321143388748169, -3.989013671875], [1.1419768075100626e-15, -3.2958521842956543, -4.2997727394104], [-4.751412706059215e-18, 0.05756692960858345, 0.5680316090583801]], [[7.235771540381572e-16, 3.329108476638794, -4.001623630523682], [1.1458688180235777e-15, -3.307063341140747, -4.317494869232178], [-4.7693947853955056e-18, 0.05777144059538841, 0.5699426531791687]], [[7.260100973604676e-16, 3.337073564529419, -4.014233589172363], [1.1497608285370928e-15, -3.31827449798584, -4.335216999053955], [-4.787376864731796e-18, 0.057975951582193375, 0.5718536972999573]], [[7.28443040682778e-16, 3.345038652420044, -4.026843547821045], [1.1536528390506079e-15, -3.3294856548309326, -4.352939128875732], [-4.805358944068086e-18, 0.05818046256899834, 0.5737647414207458]], [[7.308759840050883e-16, 3.353003740310669, -4.039453506469727], [1.157544849564123e-15, -3.3406968116760254, -4.37066125869751], [-4.823341023404376e-18, 0.0583849735558033, 0.5756757855415344]], [[7.333089273273987e-16, 3.360968828201294, -4.052063465118408], [1.161436860077638e-15, -3.351907968521118, -4.388383388519287], [-4.841323102740667e-18, 0.05858948454260826, 0.577586829662323]], [[7.357418706497091e-16, 3.368933916091919, -4.06467342376709], [1.1653288705911532e-15, -3.363119125366211, -4.4061055183410645], [-4.859305182076957e-18, 0.05879399552941322, 0.5794978737831116]], [[7.381748139720194e-16, 3.376899003982544, -4.0772833824157715], [1.1692208811046683e-15, -3.3743302822113037, -4.423827648162842], [-4.877287261413247e-18, 0.058998506516218185, 0.5814089179039001]], [[7.406077572943298e-16, 3.384864091873169, -4.089893341064453], [1.1731128916181834e-15, -3.3855414390563965, -4.441549777984619], [-4.8952693407495375e-18, 0.05920301750302315, 0.5833199620246887]], [[7.430407006166402e-16, 3.392829179763794, -4.102503299713135], [1.1770049021316985e-15, -3.3967525959014893, -4.4592719078063965], [-4.913251420085828e-18, 0.05940752848982811, 0.5852310061454773]], [[7.454736439389505e-16, 3.400794267654419, -4.115113258361816], [1.1808969126452136e-15, -3.407963752746582, -4.476994037628174], [-4.931233499422118e-18, 0.05961203947663307, 0.5871420502662659]], [[7.479065872612609e-16, 3.408759355545044, -4.127723217010498], [1.1847889231587287e-15, -3.419174909591675, -4.494716167449951], [-4.949215578758408e-18, 0.059816550463438034, 0.5890530943870544]], [[7.503395305835713e-16, 3.416724443435669, -4.14033317565918], [1.1886809336722438e-15, -3.4303860664367676, -4.5124382972717285], [-4.9671976580946985e-18, 0.060021061450242996, 0.590964138507843]], [[7.527724739058816e-16, 3.424689531326294, -4.152943134307861], [1.192572944185759e-15, -3.4415972232818604, -4.530160427093506], [-4.985179737430989e-18, 0.06022557243704796, 0.5928751826286316]], [[7.55205417228192e-16, 3.432654619216919, -4.165553092956543], [1.196464954699274e-15, -3.452808380126953, -4.547882556915283], [-5.003161816767279e-18, 0.06043008342385292, 0.5947862267494202]], [[7.576383605505024e-16, 3.440619707107544, -4.178163051605225], [1.2003569652127891e-15, -3.464019536972046, -4.5656046867370605], [-5.021143896103569e-18, 0.06063459441065788, 0.5966972708702087]], [[7.600713038728127e-16, 3.448584794998169, -4.190773010253906], [1.2042489757263042e-15, -3.4752306938171387, -4.583326816558838], [-5.0391259754398596e-18, 0.060839105397462845, 0.5986083149909973]], [[7.625042471951231e-16, 3.456549882888794, -4.203382968902588], [1.2081409862398193e-15, -3.4864418506622314, -4.601048946380615], [-5.05710805477615e-18, 0.06104361638426781, 0.6005193591117859]], [[7.649371905174335e-16, 3.464514970779419, -4.2159929275512695], [1.2120329967533344e-15, -3.497653007507324, -4.618771076202393], [-5.07509013411244e-18, 0.06124812737107277, 0.6024304032325745]], [[7.673701338397438e-16, 3.472480058670044, -4.228602886199951], [1.2159250072668495e-15, -3.508864164352417, -4.63649320602417], [-5.0930722134487304e-18, 0.06145263835787773, 0.604341447353363]], [[7.698030771620542e-16, 3.480445146560669, -4.241212844848633], [1.2198170177803646e-15, -3.5200753211975098, -4.654215335845947], [-5.111054292785021e-18, 0.061657149344682693, 0.6062524914741516]], [[7.722360204843646e-16, 3.488410234451294, -4.2538228034973145], [1.2237090282938797e-15, -3.5312864780426025, -4.671937465667725], [-5.129036372121311e-18, 0.061861660331487656, 0.6081635355949402]], [[7.746689638066749e-16, 3.496375322341919, -4.266432762145996], [1.2276010388073948e-15, -3.5424976348876953, -4.689659595489502], [-5.147018451457601e-18, 0.06206617131829262, 0.6100745797157288]], [[7.771019071289853e-16, 3.504340410232544, -4.279042720794678], [1.23149304932091e-15, -3.553708791732788, -4.707381725311279], [-5.1650005307938915e-18, 0.06227068230509758, 0.6119856238365173]], [[7.795348504512957e-16, 3.512305498123169, -4.291652679443359], [1.235385059834425e-15, -3.564919948577881, -4.725103855133057], [-5.182982610130182e-18, 0.06247519329190254, 0.6138966679573059]], [[7.81967793773606e-16, 3.520270586013794, -4.304262638092041], [1.2392770703479401e-15, -3.5761311054229736, -4.742825984954834], [-5.200964689466472e-18, 0.0626797080039978, 0.6158077120780945]], [[7.844007370959164e-16, 3.528235673904419, -4.316872596740723], [1.2431690808614553e-15, -3.5873422622680664, -4.760548114776611], [-5.218946768802762e-18, 0.06288421899080276, 0.6177187561988831]], [[7.868336804182268e-16, 3.536200761795044, -4.329482555389404], [1.2470610913749704e-15, -3.598553419113159, -4.778270244598389], [-5.2369288481390526e-18, 0.06308872997760773, 0.6196298003196716]], [[7.892666237405371e-16, 3.544165849685669, -4.342092514038086], [1.2509531018884855e-15, -3.609764575958252, -4.795992374420166], [-5.254910927475343e-18, 0.06329324096441269, 0.6215408444404602]], [[7.916995670628475e-16, 3.552130937576294, -4.354702472686768], [1.2548451124020006e-15, -3.6209757328033447, -4.813714504241943], [-5.272893006811633e-18, 0.06349775195121765, 0.6234518885612488]], [[7.941325103851579e-16, 3.560096025466919, -4.367312431335449], [1.2587371229155157e-15, -3.6321868896484375, -4.831436634063721], [-5.290875086147923e-18, 0.06370226293802261, 0.6253629326820374]], [[7.965654537074682e-16, 3.568061113357544, -4.379922389984131], [1.2626291334290308e-15, -3.6433980464935303, -4.849158763885498], [-5.308857165484214e-18, 0.06390677392482758, 0.6272739768028259]], [[7.989983970297786e-16, 3.576026201248169, -4.3925323486328125], [1.2665211439425459e-15, -3.654609203338623, -4.866880893707275], [-5.326839244820504e-18, 0.06411128491163254, 0.6291850209236145]], [[8.01431340352089e-16, 3.583991289138794, -4.405142307281494], [1.270413154456061e-15, -3.665820360183716, -4.884603023529053], [-5.344821324156794e-18, 0.0643157958984375, 0.6310960650444031]], [[8.038642836743993e-16, 3.591956377029419, -4.417752265930176], [1.274305164969576e-15, -3.6770315170288086, -4.90232515335083], [-5.3628034034930844e-18, 0.06452030688524246, 0.6330071091651917]], [[8.062972269967097e-16, 3.599921464920044, -4.430362224578857], [1.2781971754830912e-15, -3.6882426738739014, -4.920047283172607], [-5.380785482829375e-18, 0.06472481787204742, 0.6349181532859802]], [[8.087301703190201e-16, 3.607886552810669, -4.442972183227539], [1.2820891859966063e-15, -3.699453830718994, -4.937769412994385], [-5.398767562165665e-18, 0.06492932885885239, 0.6368291974067688]], [[8.111631136413304e-16, 3.615851640701294, -4.455582141876221], [1.2859811965101214e-15, -3.710664987564087, -4.955491542816162], [-5.416749641501955e-18, 0.06513383984565735, 0.6387402415275574]], [[8.135960569636408e-16, 3.623816728591919, -4.468192100524902], [1.2898732070236365e-15, -3.7218761444091797, -4.9732136726379395], [-5.4347317208382455e-18, 0.06533835083246231, 0.640651285648346]], [[8.160290002859512e-16, 3.631781816482544, -4.480802059173584], [1.2937652175371516e-15, -3.7330873012542725, -4.990935802459717], [-5.452713800174536e-18, 0.06554286181926727, 0.6425623297691345]], [[8.184619436082616e-16, 3.639746904373169, -4.493412017822266], [1.2976572280506667e-15, -3.7442984580993652, -5.008657932281494], [-5.470695879510826e-18, 0.06574737280607224, 0.6444733738899231]], [[8.208948869305719e-16, 3.647711992263794, -4.506021976470947], [1.3015492385641818e-15, -3.755509614944458, -5.0263800621032715], [-5.488677958847116e-18, 0.0659518837928772, 0.6463844180107117]], [[8.233278302528823e-16, 3.655677080154419, -4.518631935119629], [1.305441249077697e-15, -3.766720771789551, -5.044102191925049], [-5.5066600381834066e-18, 0.06615639477968216, 0.6482954621315002]], [[8.257607735751927e-16, 3.663642168045044, -4.5312418937683105], [1.309333259591212e-15, -3.7779319286346436, -5.061824321746826], [-5.524642117519697e-18, 0.06636090576648712, 0.6502065062522888]], [[8.28193716897503e-16, 3.671607255935669, -4.543851852416992], [1.3132252701047271e-15, -3.7891430854797363, -5.0795464515686035], [-5.542624196855987e-18, 0.06656541675329208, 0.6521175503730774]], [[8.306266602198134e-16, 3.679572343826294, -4.556461811065674], [1.3171172806182422e-15, -3.800354242324829, -5.097268581390381], [-5.5606062761922774e-18, 0.06676992774009705, 0.654028594493866]], [[8.330596035421238e-16, 3.687537431716919, -4.5690717697143555], [1.3210092911317573e-15, -3.811565399169922, -5.114990711212158], [-5.578588355528568e-18, 0.06697443872690201, 0.6559396386146545]], [[8.354925468644341e-16, 3.695502519607544, -4.581681728363037], [1.3249013016452724e-15, -3.8227765560150146, -5.1327128410339355], [-5.596570434864858e-18, 0.06717894971370697, 0.6578506827354431]], [[8.379254901867445e-16, 3.703467607498169, -4.594291687011719], [1.3287933121587875e-15, -3.8339877128601074, -5.150434970855713], [-5.614552514201148e-18, 0.06738346070051193, 0.6597617268562317]], [[8.403584335090549e-16, 3.711432695388794, -4.6069016456604], [1.3326853226723026e-15, -3.8451988697052, -5.16815710067749], [-5.6325345935374385e-18, 0.0675879716873169, 0.6616727709770203]], [[8.427913768313652e-16, 3.719397783279419, -4.619511604309082], [1.3365773331858177e-15, -3.856410026550293, -5.185879230499268], [-5.650516672873729e-18, 0.06779248267412186, 0.6635838150978088]], [[8.452243201536756e-16, 3.727362871170044, -4.632121562957764], [1.3404693436993328e-15, -3.8676211833953857, -5.203601360321045], [-5.668498752210019e-18, 0.06799699366092682, 0.6654948592185974]], [[8.47657263475986e-16, 3.735327959060669, -4.644731521606445], [1.344361354212848e-15, -3.8788323402404785, -5.221323490142822], [-5.686480831546309e-18, 0.06820150464773178, 0.667405903339386]], [[8.500902067982963e-16, 3.743293046951294, -4.657341480255127], [1.348253364726363e-15, -3.8900434970855713, -5.2390456199646], [-5.7044629108825995e-18, 0.06840601563453674, 0.6693169474601746]], [[8.525231501206067e-16, 3.751258134841919, -4.669951438903809], [1.3521453752398781e-15, -3.901254653930664, -5.256767749786377], [-5.72244499021889e-18, 0.0686105266213417, 0.6712279915809631]], [[8.549560934429171e-16, 3.759223222732544, -4.68256139755249], [1.3560373857533932e-15, -3.912465810775757, -5.274489879608154], [-5.74042706955518e-18, 0.06881503760814667, 0.6731390357017517]], [[8.573890367652274e-16, 3.767188310623169, -4.695171356201172], [1.3599293962669083e-15, -3.9236769676208496, -5.292212009429932], [-5.75840914889147e-18, 0.06901954859495163, 0.6750500798225403]], [[8.598219800875378e-16, 3.775153398513794, -4.7077813148498535], [1.3638214067804235e-15, -3.9348881244659424, -5.309934139251709], [-5.776391228227761e-18, 0.06922405958175659, 0.6769611239433289]], [[8.622549234098482e-16, 3.783118486404419, -4.720391273498535], [1.3677134172939386e-15, -3.946099281311035, -5.327656269073486], [-5.794373307564051e-18, 0.06942857056856155, 0.6788721680641174]], [[8.646878667321585e-16, 3.791083574295044, -4.733001232147217], [1.3716054278074537e-15, -3.957310438156128, -5.345378398895264], [-5.812355386900341e-18, 0.06963308155536652, 0.680783212184906]], [[8.671208100544689e-16, 3.799048662185669, -4.745611190795898], [1.3754974383209688e-15, -3.9685215950012207, -5.363100528717041], [-5.8303374662366314e-18, 0.06983759254217148, 0.6826942563056946]], [[8.695537533767793e-16, 3.807013750076294, -4.75822114944458], [1.3793894488344839e-15, -3.9797327518463135, -5.380822658538818], [-5.848319545572922e-18, 0.07004210352897644, 0.6846053004264832]], [[8.719866966990896e-16, 3.814978837966919, -4.770831108093262], [1.383281459347999e-15, -3.9909439086914062, -5.398544788360596], [-5.866301624909212e-18, 0.0702466145157814, 0.6865163445472717]], [[8.744196400214e-16, 3.822943925857544, -4.783441066741943], [1.387173469861514e-15, -4.00215482711792, -5.416266918182373], [-5.884283704245502e-18, 0.07045112550258636, 0.6884273886680603]], [[8.768525833437104e-16, 3.830909013748169, -4.796051025390625], [1.3910654803750292e-15, -4.013365745544434, -5.43398904800415], [-5.9022657835817925e-18, 0.07065563648939133, 0.6903384327888489]], [[8.792855266660207e-16, 3.838874101638794, -4.808660984039307], [1.3949574908885443e-15, -4.024576663970947, -5.451711177825928], [-5.920247862918083e-18, 0.07086014747619629, 0.6922494769096375]], [[8.817184699883311e-16, 3.846839189529419, -4.821270942687988], [1.3988495014020594e-15, -4.035787582397461, -5.469433307647705], [-5.938229942254373e-18, 0.07106465846300125, 0.694160521030426]], [[8.841514133106415e-16, 3.854804277420044, -4.83388090133667], [1.4027415119155745e-15, -4.046998500823975, -5.487155437469482], [-5.956212021590663e-18, 0.07126916944980621, 0.6960715651512146]], [[8.865843566329518e-16, 3.862769365310669, -4.846490859985352], [1.4066335224290896e-15, -4.058209419250488, -5.50487756729126], [-5.9741941009269536e-18, 0.07147368043661118, 0.6979826092720032]], [[8.890172999552622e-16, 3.870734453201294, -4.859100818634033], [1.4105255329426047e-15, -4.069420337677002, -5.522599697113037], [-5.992176180263244e-18, 0.07167819142341614, 0.6998936533927917]], [[8.914501903380134e-16, 3.878699541091919, -4.871710777282715], [1.4144175434561198e-15, -4.080631256103516, -5.5403218269348145], [-6.010158259599534e-18, 0.0718827024102211, 0.7018046975135803]], [[8.938830807207645e-16, 3.886664628982544, -4.8843207359313965], [1.4183095539696349e-15, -4.091842174530029, -5.558043956756592], [-6.028140338935824e-18, 0.07208721339702606, 0.7037157416343689]], [[8.963159711035157e-16, 3.894629716873169, -4.896930694580078], [1.42220156448315e-15, -4.103053092956543, -5.575766086578369], [-6.046122418272115e-18, 0.07229172438383102, 0.7056267857551575]], [[8.987488614862669e-16, 3.902594804763794, -4.90954065322876], [1.4260935749966651e-15, -4.114264011383057, -5.5934882164001465], [-6.064104497608405e-18, 0.07249623537063599, 0.707537829875946]], [[9.01181751869018e-16, 3.910559892654419, -4.922150611877441], [1.4299855855101802e-15, -4.12547492980957, -5.611210346221924], [-6.082086576944695e-18, 0.07270074635744095, 0.7094488739967346]], [[9.036146422517692e-16, 3.918524980545044, -4.934760570526123], [1.4338775960236953e-15, -4.136685848236084, -5.628932476043701], [-6.1000686562809855e-18, 0.07290525734424591, 0.7113599181175232]], [[9.060475326345204e-16, 3.926490068435669, -4.947370529174805], [1.4377696065372104e-15, -4.147896766662598, -5.6466546058654785], [-6.118050735617276e-18, 0.07310976833105087, 0.7132709622383118]], [[9.084804230172715e-16, 3.934455156326294, -4.959980487823486], [1.4416616170507255e-15, -4.159107685089111, -5.664376735687256], [-6.136032814953566e-18, 0.07331427931785583, 0.7151820063591003]], [[9.109133134000227e-16, 3.942420244216919, -4.972590446472168], [1.4455536275642406e-15, -4.170318603515625, -5.682098865509033], [-6.154014894289856e-18, 0.0735187903046608, 0.7170930504798889]], [[9.133462037827739e-16, 3.950385332107544, -4.98520040512085], [1.4494456380777557e-15, -4.181529521942139, -5.6998209953308105], [-6.1719969736261465e-18, 0.07372330129146576, 0.7190040946006775]], [[9.15779094165525e-16, 3.958350419998169, -4.997810363769531], [1.4533376485912708e-15, -4.192740440368652, -5.717543125152588], [-6.189979052962437e-18, 0.07392781227827072, 0.7209151387214661]], [[9.182119845482762e-16, 3.966315507888794, -5.010420322418213], [1.457229659104786e-15, -4.203951358795166, -5.735265254974365], [-6.207961132298727e-18, 0.07413232326507568, 0.7228261828422546]], [[9.206448749310273e-16, 3.974280595779419, -5.0230302810668945], [1.461121669618301e-15, -4.21516227722168, -5.752987384796143], [-6.225943211635017e-18, 0.07433683425188065, 0.7247372269630432]], [[9.230777653137785e-16, 3.982245683670044, -5.035640239715576], [1.4650136801318161e-15, -4.226373195648193, -5.77070951461792], [-6.2439252909713076e-18, 0.07454134523868561, 0.7266482710838318]], [[9.255106556965297e-16, 3.990210771560669, -5.048250198364258], [1.4689056906453312e-15, -4.237584114074707, -5.788431644439697], [-6.261907370307598e-18, 0.07474585622549057, 0.7285593152046204]], [[9.279435460792808e-16, 3.998175859451294, -5.0608601570129395], [1.4727977011588463e-15, -4.248795032501221, -5.806153774261475], [-6.279889449643888e-18, 0.07495036721229553, 0.7304703593254089]], [[9.30376436462032e-16, 4.00614070892334, -5.073470115661621], [1.4766897116723614e-15, -4.260005950927734, -5.823875904083252], [-6.2978715289801784e-18, 0.0751548781991005, 0.7323814034461975]], [[9.328093268447832e-16, 4.014105796813965, -5.086080074310303], [1.4805817221858765e-15, -4.271216869354248, -5.841598033905029], [-6.315853608316469e-18, 0.07535938918590546, 0.7342924475669861]], [[9.352422172275343e-16, 4.02207088470459, -5.098690032958984], [1.4844737326993917e-15, -4.282427787780762, -5.859320163726807], [-6.333835687652759e-18, 0.07556390017271042, 0.7362034916877747]], [[9.376751076102855e-16, 4.030035972595215, -5.111299991607666], [1.4883657432129068e-15, -4.293638706207275, -5.877042293548584], [-6.351817766989049e-18, 0.07576841115951538, 0.7381145358085632]], [[9.401079979930367e-16, 4.03800106048584, -5.123909950256348], [1.4922577537264219e-15, -4.304849624633789, -5.894764423370361], [-6.3697998463253395e-18, 0.07597292214632034, 0.7400255799293518]], [[9.425408883757878e-16, 4.045966148376465, -5.136519908905029], [1.496149764239937e-15, -4.316060543060303, -5.912486553192139], [-6.38778192566163e-18, 0.0761774331331253, 0.7419366240501404]], [[9.44973778758539e-16, 4.05393123626709, -5.149129867553711], [1.500041774753452e-15, -4.327271461486816, -5.930208683013916], [-6.40576400499792e-18, 0.07638194411993027, 0.743847668170929]], [[9.474066691412901e-16, 4.061896324157715, -5.161739826202393], [1.5039337852669672e-15, -4.33848237991333, -5.947930812835693], [-6.42374608433421e-18, 0.07658645510673523, 0.7457587122917175]], [[9.498395595240413e-16, 4.06986141204834, -5.174349784851074], [1.5078257957804823e-15, -4.349693298339844, -5.965652942657471], [-6.4417281636705006e-18, 0.07679096609354019, 0.7476697564125061]], [[9.522724499067925e-16, 4.077826499938965, -5.186959743499756], [1.5117178062939974e-15, -4.360904216766357, -5.983375072479248], [-6.459710243006791e-18, 0.07699547708034515, 0.7495808005332947]], [[9.547053402895436e-16, 4.08579158782959, -5.1995697021484375], [1.5156098168075125e-15, -4.372115135192871, -6.001097202301025], [-6.477692322343081e-18, 0.07719998806715012, 0.7514918446540833]], [[9.571382306722948e-16, 4.093756675720215, -5.212179660797119], [1.5195018273210276e-15, -4.383326053619385, -6.018819332122803], [-6.495674401679371e-18, 0.07740449905395508, 0.7534028887748718]], [[9.59571121055046e-16, 4.10172176361084, -5.224789619445801], [1.5233938378345427e-15, -4.394536972045898, -6.03654146194458], [-6.513656481015662e-18, 0.07760901004076004, 0.7553139328956604]], [[9.620040114377971e-16, 4.109686851501465, -5.237399578094482], [1.5272858483480578e-15, -4.405747890472412, -6.054263591766357], [-6.531638560351952e-18, 0.077813521027565, 0.757224977016449]], [[9.644369018205483e-16, 4.11765193939209, -5.250009536743164], [1.5311778588615729e-15, -4.416958808898926, -6.071985721588135], [-6.549620639688242e-18, 0.07801803201436996, 0.7591360211372375]], [[9.668697922032995e-16, 4.125617027282715, -5.262619495391846], [1.535069869375088e-15, -4.4281697273254395, -6.089707851409912], [-6.5676027190245324e-18, 0.07822254300117493, 0.7610470652580261]], [[9.693026825860506e-16, 4.13358211517334, -5.275229454040527], [1.5389618798886031e-15, -4.439380645751953, -6.1074299812316895], [-6.585584798360823e-18, 0.07842705398797989, 0.7629581093788147]], [[9.717355729688018e-16, 4.141547203063965, -5.287839412689209], [1.5428538904021182e-15, -4.450591564178467, -6.125152111053467], [-6.603566877697113e-18, 0.07863156497478485, 0.7648691534996033]], [[9.74168463351553e-16, 4.14951229095459, -5.300449371337891], [1.5467459009156333e-15, -4.4618024826049805, -6.142874240875244], [-6.621548957033403e-18, 0.07883607596158981, 0.7667801976203918]], [[9.766013537343041e-16, 4.157477378845215, -5.313059329986572], [1.5506379114291484e-15, -4.473013401031494, -6.1605963706970215], [-6.6395310363696935e-18, 0.07904058694839478, 0.7686912417411804]], [[9.790342441170553e-16, 4.16544246673584, -5.325669288635254], [1.5545299219426635e-15, -4.484224319458008, -6.178318500518799], [-6.657513115705984e-18, 0.07924509793519974, 0.770602285861969]], [[9.814671344998064e-16, 4.173407554626465, -5.3382792472839355], [1.5584219324561786e-15, -4.4954352378845215, -6.196040630340576], [-6.675495195042274e-18, 0.0794496089220047, 0.7725133299827576]], [[9.839000248825576e-16, 4.18137264251709, -5.350889205932617], [1.5623139429696937e-15, -4.506646156311035, -6.2137627601623535], [-6.693477274378564e-18, 0.07965411990880966, 0.7744243741035461]], [[9.863329152653088e-16, 4.189337730407715, -5.363499164581299], [1.5662059534832088e-15, -4.517857074737549, -6.231484889984131], [-6.7114593537148546e-18, 0.07985863089561462, 0.7763354182243347]], [[9.8876580564806e-16, 4.19730281829834, -5.3761091232299805], [1.570097963996724e-15, -4.5290679931640625, -6.249207019805908], [-6.729441433051145e-18, 0.08006314188241959, 0.7782464623451233]], [[9.911986960308111e-16, 4.205267906188965, -5.388719081878662], [1.573989974510239e-15, -4.540278911590576, -6.2669291496276855], [-6.747423512387435e-18, 0.08026765286922455, 0.7801575064659119]], [[9.936315864135623e-16, 4.21323299407959, -5.401329040527344], [1.5778819850237541e-15, -4.55148983001709, -6.284651279449463], [-6.7654055917237254e-18, 0.08047216385602951, 0.7820685505867004]], [[9.960644767963134e-16, 4.221198081970215, -5.413938999176025], [1.5817739955372692e-15, -4.5627007484436035, -6.30237340927124], [-6.783387671060016e-18, 0.08067667484283447, 0.783979594707489]], [[9.984973671790646e-16, 4.22916316986084, -5.426548957824707], [1.5856660060507843e-15, -4.573911666870117, -6.320095539093018], [-6.801369750396306e-18, 0.08088118582963943, 0.7858906388282776]], [[1.0009302575618158e-15, 4.237128257751465, -5.439158916473389], [1.5895580165642994e-15, -4.585122585296631, -6.337817668914795], [-6.819351829732596e-18, 0.0810856968164444, 0.7878016829490662]], [[1.003363147944567e-15, 4.24509334564209, -5.45176887512207], [1.5934500270778145e-15, -4.5963335037231445, -6.355539798736572], [-6.8373339090688865e-18, 0.08129020780324936, 0.7897127270698547]], [[1.005796038327318e-15, 4.253058433532715, -5.464378833770752], [1.5973420375913296e-15, -4.607544422149658, -6.37326192855835], [-6.855315988405177e-18, 0.08149471879005432, 0.7916237711906433]], [[1.0082289287100693e-15, 4.26102352142334, -5.476988792419434], [1.6012340481048448e-15, -4.618755340576172, -6.390984058380127], [-6.873298067741467e-18, 0.08169922977685928, 0.7935348153114319]], [[1.0106618190928204e-15, 4.268988609313965, -5.489598751068115], [1.6051260586183599e-15, -4.6299662590026855, -6.408706188201904], [-6.891280147077757e-18, 0.08190374076366425, 0.7954458594322205]], [[1.0130947094755716e-15, 4.27695369720459, -5.502208709716797], [1.609018069131875e-15, -4.641177177429199, -6.426428318023682], [-6.9092622264140475e-18, 0.08210825175046921, 0.797356903553009]], [[1.0155275998583227e-15, 4.284918785095215, -5.5148186683654785], [1.61291007964539e-15, -4.652388095855713, -6.444150447845459], [-6.927244305750338e-18, 0.08231276273727417, 0.7992679476737976]], [[1.017960490241074e-15, 4.29288387298584, -5.52742862701416], [1.6168020901589052e-15, -4.663599014282227, -6.461872577667236], [-6.945226798676934e-18, 0.08251727372407913, 0.8011789917945862]], [[1.020393380623825e-15, 4.300848960876465, -5.540038585662842], [1.6206941006724203e-15, -4.67480993270874, -6.479594707489014], [-6.963208878013225e-18, 0.0827217847108841, 0.8030900359153748]], [[1.0228262710065762e-15, 4.30881404876709, -5.552648544311523], [1.6245861111859354e-15, -4.686020851135254, -6.497316837310791], [-6.981190957349515e-18, 0.08292629569768906, 0.8050010800361633]], [[1.0252591613893274e-15, 4.316779136657715, -5.565258502960205], [1.6284781216994505e-15, -4.697231769561768, -6.515038967132568], [-6.999173036685805e-18, 0.08313080668449402, 0.8069121241569519]], [[1.0276920517720786e-15, 4.32474422454834, -5.577868461608887], [1.6323701322129656e-15, -4.708442687988281, -6.532761096954346], [-7.017155116022095e-18, 0.08333531767129898, 0.8088231682777405]], [[1.0301249421548297e-15, 4.332709312438965, -5.590478420257568], [1.6362621427264807e-15, -4.719653606414795, -6.550483226776123], [-7.035137195358386e-18, 0.08353982865810394, 0.810734212398529]], [[1.0325578325375809e-15, 4.34067440032959, -5.60308837890625], [1.6401541532399958e-15, -4.730864524841309, -6.5682053565979], [-7.053119274694676e-18, 0.0837443396449089, 0.8126452565193176]], [[1.034990722920332e-15, 4.348639488220215, -5.615698337554932], [1.6440461637535109e-15, -4.742075443267822, -6.585927486419678], [-7.071101354030966e-18, 0.08394885063171387, 0.8145563006401062]], [[1.0374236133030832e-15, 4.35660457611084, -5.628308296203613], [1.647938174267026e-15, -4.753286361694336, -6.603649616241455], [-7.089083433367257e-18, 0.08415336161851883, 0.8164673447608948]], [[1.0398565036858344e-15, 4.364569664001465, -5.640918254852295], [1.651830184780541e-15, -4.76449728012085, -6.621371746063232], [-7.107065512703547e-18, 0.08435787260532379, 0.8183783888816833]], [[1.0422893940685856e-15, 4.37253475189209, -5.653528213500977], [1.6557221952940562e-15, -4.775708198547363, -6.63909387588501], [-7.125047592039837e-18, 0.08456238359212875, 0.8202894330024719]], [[1.0447222844513367e-15, 4.380499839782715, -5.666138172149658], [1.6596142058075713e-15, -4.786919116973877, -6.656816005706787], [-7.143029671376127e-18, 0.08476689457893372, 0.8222004771232605]], [[1.0471551748340879e-15, 4.38846492767334, -5.67874813079834], [1.6635062163210864e-15, -4.798130035400391, -6.6745381355285645], [-7.161011750712418e-18, 0.08497140556573868, 0.8241115212440491]], [[1.049588065216839e-15, 4.396430015563965, -5.6913580894470215], [1.6673982268346015e-15, -4.809340953826904, -6.692260265350342], [-7.178993830048708e-18, 0.08517591655254364, 0.8260225653648376]], [[1.0520209555995902e-15, 4.40439510345459, -5.703968048095703], [1.6712902373481166e-15, -4.820551872253418, -6.709982395172119], [-7.196975909384998e-18, 0.0853804275393486, 0.8279336094856262]], [[1.0544538459823414e-15, 4.412360191345215, -5.716578006744385], [1.6751822478616317e-15, -4.831762790679932, -6.7277045249938965], [-7.214957988721288e-18, 0.08558493852615356, 0.8298446536064148]], [[1.0568867363650925e-15, 4.42032527923584, -5.729187965393066], [1.6790742583751468e-15, -4.842973709106445, -6.745426654815674], [-7.232940068057579e-18, 0.08578944951295853, 0.8317556977272034]], [[1.0593196267478437e-15, 4.428290367126465, -5.741797924041748], [1.682966268888662e-15, -4.854184627532959, -6.763148784637451], [-7.250922147393869e-18, 0.08599396049976349, 0.8336667418479919]], [[1.0617525171305949e-15, 4.43625545501709, -5.75440788269043], [1.686858279402177e-15, -4.865395545959473, -6.7808709144592285], [-7.268904226730159e-18, 0.08619847148656845, 0.8355777859687805]], [[1.064185407513346e-15, 4.444220542907715, -5.767017841339111], [1.6907502899156921e-15, -4.876606464385986, -6.798593044281006], [-7.28688630606645e-18, 0.08640298247337341, 0.8374888300895691]], [[1.0666182978960972e-15, 4.45218563079834, -5.779627799987793], [1.6946423004292072e-15, -4.8878173828125, -6.816315174102783], [-7.30486838540274e-18, 0.08660749346017838, 0.8393998742103577]], [[1.0690511882788484e-15, 4.460150718688965, -5.792237758636475], [1.6985343109427223e-15, -4.899028301239014, -6.8340373039245605], [-7.32285046473903e-18, 0.08681200444698334, 0.8413109183311462]], [[1.0714840786615995e-15, 4.46811580657959, -5.804847717285156], [1.7024263214562374e-15, -4.910239219665527, -6.851759433746338], [-7.34083254407532e-18, 0.0870165154337883, 0.8432219624519348]], [[1.0739169690443507e-15, 4.476080894470215, -5.817457675933838], [1.7063183319697525e-15, -4.921450138092041, -6.869481563568115], [-7.35881462341161e-18, 0.08722102642059326, 0.8451330065727234]], [[1.0763498594271018e-15, 4.48404598236084, -5.8300676345825195], [1.7102103424832676e-15, -4.932661056518555, -6.887203693389893], [-7.376796702747901e-18, 0.08742553740739822, 0.847044050693512]], [[1.078782749809853e-15, 4.492011070251465, -5.842677593231201], [1.7141023529967827e-15, -4.943871974945068, -6.90492582321167], [-7.394778782084191e-18, 0.08763004839420319, 0.8489550948143005]], [[1.0812156401926042e-15, 4.49997615814209, -5.855287551879883], [1.7179943635102978e-15, -4.955082893371582, -6.922647953033447], [-7.412760861420481e-18, 0.08783455938100815, 0.8508661389350891]], [[1.0836485305753553e-15, 4.507941246032715, -5.8678975105285645], [1.721886374023813e-15, -4.966293811798096, -6.940370082855225], [-7.430742940756772e-18, 0.08803907036781311, 0.8527771830558777]], [[1.0860814209581065e-15, 4.51590633392334, -5.880507469177246], [1.725778384537328e-15, -4.977504730224609, -6.958092212677002], [-7.448725020093062e-18, 0.08824358135461807, 0.8546882271766663]], [[1.0885143113408577e-15, 4.523871421813965, -5.893117427825928], [1.7296703950508432e-15, -4.988715648651123, -6.975814342498779], [-7.466707099429352e-18, 0.08844809234142303, 0.8565992712974548]], [[1.0909472017236088e-15, 4.53183650970459, -5.905727386474609], [1.7335624055643583e-15, -4.999926567077637, -6.993536472320557], [-7.484689178765642e-18, 0.088652603328228, 0.8585103154182434]], [[1.09338009210636e-15, 4.539801597595215, -5.918337345123291], [1.7374544160778734e-15, -5.01113748550415, -7.011258602142334], [-7.502671258101933e-18, 0.08885711431503296, 0.860421359539032]], [[1.0958129824891112e-15, 4.54776668548584, -5.930947303771973], [1.7413464265913885e-15, -5.022348403930664, -7.028980731964111], [-7.520653337438223e-18, 0.08906162530183792, 0.8623324036598206]], [[1.0982458728718623e-15, 4.555731773376465, -5.943557262420654], [1.7452384371049036e-15, -5.033559322357178, -7.046702861785889], [-7.538635416774513e-18, 0.08926613628864288, 0.8642434477806091]], [[1.1006787632546135e-15, 4.56369686126709, -5.956167221069336], [1.7491304476184187e-15, -5.044770240783691, -7.064424991607666], [-7.556617496110803e-18, 0.08947064727544785, 0.8661544919013977]], [[1.1031116536373647e-15, 4.571661949157715, -5.968777179718018], [1.7530224581319338e-15, -5.055981159210205, -7.082147121429443], [-7.574599575447094e-18, 0.08967515826225281, 0.8680655360221863]], [[1.1055445440201158e-15, 4.57962703704834, -5.981387138366699], [1.7569144686454489e-15, -5.067192077636719, -7.099869251251221], [-7.592581654783384e-18, 0.08987966924905777, 0.8699765801429749]], [[1.107977434402867e-15, 4.587592124938965, -5.993997097015381], [1.760806479158964e-15, -5.078402996063232, -7.117591381072998], [-7.610563734119674e-18, 0.09008418023586273, 0.8718876242637634]], [[1.1104103247856181e-15, 4.59555721282959, -6.0066070556640625], [1.764698489672479e-15, -5.089613914489746, -7.135313510894775], [-7.628545813455965e-18, 0.0902886912226677, 0.873798668384552]], [[1.1128432151683693e-15, 4.603522300720215, -6.019217014312744], [1.7685905001859942e-15, -5.10082483291626, -7.153035640716553], [-7.646527892792255e-18, 0.09049320220947266, 0.8757097125053406]], [[1.1152761055511205e-15, 4.61148738861084, -6.031826972961426], [1.7724825106995093e-15, -5.112035751342773, -7.17075777053833], [-7.664509972128545e-18, 0.09069771319627762, 0.8776207566261292]], [[1.1177089959338716e-15, 4.619452476501465, -6.044436931610107], [1.776374627092143e-15, -5.123246669769287, -7.188479900360107], [-7.682492051464835e-18, 0.09090222418308258, 0.8795318007469177]], [[1.1201418863166228e-15, 4.62741756439209, -6.057046890258789], [1.7802667434847763e-15, -5.134457588195801, -7.206202030181885], [-7.700474130801126e-18, 0.09110673516988754, 0.8814428448677063]], [[1.122574776699374e-15, 4.635382652282715, -6.069656848907471], [1.78415885987741e-15, -5.1456685066223145, -7.223924160003662], [-7.718456210137416e-18, 0.0913112461566925, 0.8833538889884949]], [[1.1250076670821251e-15, 4.64334774017334, -6.082266807556152], [1.7880509762700433e-15, -5.156879425048828, -7.2416462898254395], [-7.736438289473706e-18, 0.09151575714349747, 0.8852649331092834]], [[1.1274405574648763e-15, 4.651312828063965, -6.094876766204834], [1.791943092662677e-15, -5.168090343475342, -7.259368419647217], [-7.754420368809996e-18, 0.09172026813030243, 0.887175977230072]], [[1.1298734478476275e-15, 4.65927791595459, -6.107486724853516], [1.7958352090553104e-15, -5.1793012619018555, -7.277090549468994], [-7.772402448146287e-18, 0.09192477911710739, 0.8890870213508606]], [[1.1323063382303786e-15, 4.667243003845215, -6.120096683502197], [1.799727325447944e-15, -5.190512180328369, -7.2948126792907715], [-7.790384527482577e-18, 0.09212929010391235, 0.8909980654716492]], [[1.1347392286131298e-15, 4.67520809173584, -6.132706642150879], [1.8036194418405774e-15, -5.201723098754883, -7.312534809112549], [-7.808366606818867e-18, 0.09233380109071732, 0.8929091095924377]], [[1.137172118995881e-15, 4.683173179626465, -6.1453166007995605], [1.807511558233211e-15, -5.2129340171813965, -7.330256938934326], [-7.826348686155158e-18, 0.09253831207752228, 0.8948201537132263]], [[1.1396050093786321e-15, 4.69113826751709, -6.157926559448242], [1.8114036746258444e-15, -5.22414493560791, -7.3479790687561035], [-7.844330765491448e-18, 0.09274282306432724, 0.8967311978340149]], [[1.1420378997613833e-15, 4.699103355407715, -6.170536518096924], [1.815295791018478e-15, -5.235355854034424, -7.365701198577881], [-7.862312844827738e-18, 0.0929473340511322, 0.8986422419548035]], [[1.1444707901441344e-15, 4.70706844329834, -6.1831464767456055], [1.8191879074111114e-15, -5.2465667724609375, -7.383423328399658], [-7.880294924164028e-18, 0.09315184503793716, 0.900553286075592]], [[1.1469036805268856e-15, 4.715033531188965, -6.195756435394287], [1.823080023803745e-15, -5.257777690887451, -7.4011454582214355], [-7.898277003500319e-18, 0.09335635602474213, 0.9024643301963806]], [[1.1493365709096368e-15, 4.72299861907959, -6.208366394042969], [1.8269721401963784e-15, -5.268988609313965, -7.418867588043213], [-7.916259082836609e-18, 0.09356086701154709, 0.9043753743171692]], [[1.151769461292388e-15, 4.730963706970215, -6.22097635269165], [1.830864256589012e-15, -5.2801995277404785, -7.43658971786499], [-7.934241162172899e-18, 0.09376537799835205, 0.9062864184379578]], [[1.1542023516751391e-15, 4.73892879486084, -6.233586311340332], [1.8347563729816455e-15, -5.291410446166992, -7.454311847686768], [-7.95222324150919e-18, 0.09396988898515701, 0.9081974625587463]], [[1.1566352420578903e-15, 4.746893882751465, -6.246196269989014], [1.838648489374279e-15, -5.302621364593506, -7.472033977508545], [-7.97020532084548e-18, 0.09417439997196198, 0.9101085066795349]], [[1.1590681324406414e-15, 4.75485897064209, -6.258806228637695], [1.8425406057669125e-15, -5.3138322830200195, -7.489756107330322], [-7.98818740018177e-18, 0.09437891095876694, 0.9120195508003235]], [[1.1615010228233926e-15, 4.762824058532715, -6.271416187286377], [1.846432722159546e-15, -5.325043201446533, -7.5074782371521], [-8.00616947951806e-18, 0.0945834219455719, 0.9139305949211121]], [[1.1639339132061438e-15, 4.77078914642334, -6.284026145935059], [1.8503248385521795e-15, -5.336254119873047, -7.525200366973877], [-8.02415155885435e-18, 0.09478793293237686, 0.9158416390419006]], [[1.166366803588895e-15, 4.778754234313965, -6.29663610458374], [1.854216954944813e-15, -5.3474650382995605, -7.542922496795654], [-8.04213363819064e-18, 0.09499244391918182, 0.9177526831626892]], [[1.168799693971646e-15, 4.78671932220459, -6.309246063232422], [1.8581090713374465e-15, -5.358675956726074, -7.560644626617432], [-8.060115717526931e-18, 0.09519695490598679, 0.9196637272834778]], [[1.1712325843543973e-15, 4.794684410095215, -6.3218560218811035], [1.86200118773008e-15, -5.369886875152588, -7.578366756439209], [-8.078097796863221e-18, 0.09540146589279175, 0.9215747714042664]], [[1.1736654747371484e-15, 4.80264949798584, -6.334465980529785], [1.8658933041227135e-15, -5.381097793579102, -7.596088886260986], [-8.096079876199512e-18, 0.09560597687959671, 0.9234858155250549]], [[1.1760983651198996e-15, 4.810614585876465, -6.347075939178467], [1.869785420515347e-15, -5.392308712005615, -7.613811016082764], [-8.114061955535802e-18, 0.09581048786640167, 0.9253968596458435]], [[1.1785312555026507e-15, 4.81857967376709, -6.359685897827148], [1.8736775369079806e-15, -5.403519630432129, -7.631533145904541], [-8.132044034872092e-18, 0.09601499885320663, 0.9273079037666321]], [[1.180964145885402e-15, 4.826544761657715, -6.37229585647583], [1.877569653300614e-15, -5.414730548858643, -7.649255275726318], [-8.150026114208382e-18, 0.0962195098400116, 0.9292189478874207]], [[1.183397036268153e-15, 4.83450984954834, -6.384905815124512], [1.8814617696932476e-15, -5.425941467285156, -7.666977405548096], [-8.168008193544673e-18, 0.09642402082681656, 0.9311299920082092]], [[1.1858299266509042e-15, 4.842474937438965, -6.397515773773193], [1.885353886085881e-15, -5.43715238571167, -7.684699535369873], [-8.185990272880963e-18, 0.09662853181362152, 0.9330410361289978]], [[1.1882628170336554e-15, 4.85044002532959, -6.410125732421875], [1.8892460024785146e-15, -5.448363304138184, -7.70242166519165], [-8.203972352217253e-18, 0.09683304280042648, 0.9349520802497864]], [[1.1906957074164066e-15, 4.858405113220215, -6.422735691070557], [1.893138118871148e-15, -5.459574222564697, -7.720143795013428], [-8.221954431553543e-18, 0.09703755378723145, 0.936863124370575]], [[1.1931285977991577e-15, 4.86637020111084, -6.435345649719238], [1.8970302352637816e-15, -5.470785140991211, -7.737865924835205], [-8.239936510889834e-18, 0.09724206477403641, 0.9387741684913635]], [[1.1955614881819089e-15, 4.874335289001465, -6.44795560836792], [1.900922351656415e-15, -5.481996059417725, -7.755588054656982], [-8.257918590226124e-18, 0.09744657576084137, 0.9406852126121521]], [[1.19799437856466e-15, 4.88230037689209, -6.460565567016602], [1.9048144680490486e-15, -5.493206977844238, -7.77331018447876], [-8.275900669562414e-18, 0.09765108674764633, 0.9425962567329407]], [[1.2004272689474112e-15, 4.890265464782715, -6.473175525665283], [1.908706584441682e-15, -5.504417896270752, -7.791032314300537], [-8.293882748898705e-18, 0.0978555977344513, 0.9445073008537292]], [[1.2028601593301624e-15, 4.89823055267334, -6.485785484313965], [1.9125987008343157e-15, -5.515628814697266, -7.8087544441223145], [-8.311864828234995e-18, 0.09806010872125626, 0.9464183449745178]], [[1.2052930497129135e-15, 4.906195640563965, -6.4983954429626465], [1.916490817226949e-15, -5.526839733123779, -7.826476573944092], [-8.329846907571285e-18, 0.09826461970806122, 0.9483293890953064]], [[1.2077259400956647e-15, 4.91416072845459, -6.511005401611328], [1.9203829336195827e-15, -5.538050651550293, -7.844198703765869], [-8.347828986907575e-18, 0.09846913069486618, 0.950240433216095]], [[1.2101588304784159e-15, 4.922125816345215, -6.52361536026001], [1.924275050012216e-15, -5.549261569976807, -7.8619208335876465], [-8.365811066243866e-18, 0.09867364168167114, 0.9521514773368835]], [[1.212591720861167e-15, 4.93009090423584, -6.536225318908691], [1.9281671664048497e-15, -5.56047248840332, -7.879642963409424], [-8.383793145580156e-18, 0.0988781526684761, 0.9540625214576721]], [[1.2150246112439182e-15, 4.938055992126465, -6.548835277557373], [1.9320592827974832e-15, -5.571683406829834, -7.897365093231201], [-8.401775224916446e-18, 0.09908266365528107, 0.9559735655784607]], [[1.2174575016266694e-15, 4.94602108001709, -6.561445236206055], [1.9359513991901167e-15, -5.582894325256348, -7.9150872230529785], [-8.419757304252736e-18, 0.09928717464208603, 0.9578846096992493]]],\"array\");\n\tviewer_17061060023539133.animate({\"loop\": \"forward\", \"interval\": 0.1});\nviewer_17061060023539133.render();\n});\n</script>",
      "text/html": [
       "<div id=\"3dmolviewer_17061060023539133\"  style=\"position: relative; width: 640px; height: 480px;\">\n",
       "        <p id=\"3dmolwarning_17061060023539133\" style=\"background-color:#ffcccc;color:black\">You appear to be running in JupyterLab (or JavaScript failed to load for some other reason).  You need to install the 3dmol extension: <br>\n",
       "        <tt>jupyter labextension install jupyterlab_3dmol</tt></p>\n",
       "        </div>\n",
       "<script>\n",
       "\n",
       "var loadScriptAsync = function(uri){\n",
       "  return new Promise((resolve, reject) => {\n",
       "    //this is to ignore the existence of requirejs amd\n",
       "    var savedexports, savedmodule;\n",
       "    if (typeof exports !== 'undefined') savedexports = exports;\n",
       "    else exports = {}\n",
       "    if (typeof module !== 'undefined') savedmodule = module;\n",
       "    else module = {}\n",
       "\n",
       "    var tag = document.createElement('script');\n",
       "    tag.src = uri;\n",
       "    tag.async = true;\n",
       "    tag.onload = () => {\n",
       "        exports = savedexports;\n",
       "        module = savedmodule;\n",
       "        resolve();\n",
       "    };\n",
       "  var firstScriptTag = document.getElementsByTagName('script')[0];\n",
       "  firstScriptTag.parentNode.insertBefore(tag, firstScriptTag);\n",
       "});\n",
       "};\n",
       "\n",
       "if(typeof $3Dmolpromise === 'undefined') {\n",
       "$3Dmolpromise = null;\n",
       "  $3Dmolpromise = loadScriptAsync('https://cdnjs.cloudflare.com/ajax/libs/3Dmol/2.0.4/3Dmol-min.js');\n",
       "}\n",
       "\n",
       "var viewer_17061060023539133 = null;\n",
       "var warn = document.getElementById(\"3dmolwarning_17061060023539133\");\n",
       "if(warn) {\n",
       "    warn.parentNode.removeChild(warn);\n",
       "}\n",
       "$3Dmolpromise.then(function() {\n",
       "viewer_17061060023539133 = $3Dmol.createViewer(document.getElementById(\"3dmolviewer_17061060023539133\"),{backgroundColor:\"white\"});\n",
       "viewer_17061060023539133.zoomTo();\n",
       "\tviewer_17061060023539133.addModel(\"3\\n\\nH       0.000000000000000      0.939000000000000     -0.243000000000000\\nH       0.000000000000000      0.000000000000000      0.970000000000000\\nO       0.000000000000000      0.000000000000000      0.000000000000000\\n\",\"xyz\");\n",
       "\tviewer_17061060023539133.setStyle({\"stick\": {\"radius\": 0.15}, \"sphere\": {\"scale\": 0.25}});\n",
       "\t\tviewer_17061060023539133.getModel().setCoordinates([[[2.4605570926992253e-18, 0.9474799036979675, -0.2559414505958557], [3.578992134835237e-18, -0.010403518564999104, 0.9515560269355774], [0.0, 0.0001211950511788018, 0.0019774094689637423]], [[4.921111703856613e-18, 0.9559587240219116, -0.2688824236392975], [7.157986751212311e-18, -0.020806845277547836, 0.9331125020980835], [-2.6778792466660997e-26, 0.0002424478152533993, 0.003954756539314985]], [[7.381660524749713e-18, 0.964435875415802, -0.2818225920200348], [1.0736996256840412e-17, -0.03120989352464676, 0.9146705865859985], [-5.857217279480017e-25, 0.00036378830554895103, 0.005931953899562359]], [[9.842196937933624e-18, 0.9729108214378357, -0.2947617173194885], [1.4316042985596077e-17, -0.04161261022090912, 0.8962314128875732], [-2.769658097718632e-24, 0.00048524653539061546, 0.007908908650279045]], [[1.230271515314406e-17, 0.9813830256462097, -0.3076995015144348], [1.7895164160606872e-17, -0.052014973014593124, 0.8777962923049927], [-8.369931744669813e-24, 0.0006068526417948306, 0.009885525330901146]], [[1.4763205244213668e-17, 0.9898520708084106, -0.32063567638397217], [2.14744061039871e-17, -0.062417007982730865, 0.8593664765357971], [-1.9987971445316365e-23, 0.0007286373293027282, 0.011861706152558327]], [[1.722366059369755e-17, 0.998317539691925, -0.3335700035095215], [2.505383664454699e-17, -0.07281877845525742, 0.8409433364868164], [-4.114531874209615e-23, 0.0008506320882588625, 0.01383734866976738]], [[1.9684069621067127e-17, 1.0067789554595947, -0.3465022146701813], [2.8633535191625346e-17, -0.08322040736675262, 0.8225282430648804], [-7.638981907361981e-23, 0.0009728695149533451, 0.015812350437045097]], [[2.2144422400155052e-17, 1.0152360200881958, -0.3594321012496948], [3.22136026612569e-17, -0.09362206608057022, 0.8041226863861084], [-1.313951462414105e-22, 0.0010953836608678102, 0.017786607146263123]], [[2.4604710659155198e-17, 1.0236884355545044, -0.37235942482948303], [3.579415982181109e-17, -0.1040239930152893, 0.7857280373573303], [-2.13050857981983e-22, 0.0012182104401290417, 0.0197600144892931]], [[2.7064922817538988e-17, 1.0321358442306519, -0.3852839767932892], [3.9375345639630817e-17, -0.11442648619413376, 0.7673457860946655], [-3.2953953709704345e-22, 0.0013413878623396158, 0.021732468158006668]], [[2.95250506035003e-17, 1.040578007698059, -0.39820557832717896], [4.2957318933393694e-17, -0.12482991814613342, 0.7489773035049438], [-4.90398044925058e-22, 0.0014649563236162066, 0.023703865706920624]], [[3.198508243651055e-17, 1.049014687538147, -0.411124050617218], [4.6540264991556935e-17, -0.13523472845554352, 0.7306240797042847], [-7.065587566784905e-22, 0.0015889588976278901, 0.025674106553196907]], [[3.44450083904024e-17, 1.0574456453323364, -0.42403924465179443], [5.01243922636349e-17, -0.14564143121242523, 0.712287425994873], [-9.90369049463605e-22, 0.0017134415684267879, 0.027643095701932907]], [[3.690482184773094e-17, 1.0658706426620483, -0.43695101141929626], [5.3709925742754207e-17, -0.15605060756206512, 0.693968653678894], [-1.3555848399319305e-21, 0.0018384532304480672, 0.02961074374616146]], [[3.936450957360637e-17, 1.0742895603179932, -0.44985923171043396], [5.729711358309862e-17, -0.16646292805671692, 0.6756690144538879], [-1.8173376162053094e-21, 0.0019640459213405848, 0.031576961278915405]], [[4.1824064950583795e-17, 1.0827022790908813, -0.46276378631591797], [6.08862304086315e-17, -0.17687910795211792, 0.6573895812034607], [-2.3920720358228512e-21, 0.0020902748219668865, 0.03354167565703392]], [[4.428347805249586e-17, 1.0911085605621338, -0.47566458582878113], [6.447756407820603e-17, -0.1872999519109726, 0.6391314268112183], [-3.0974573713711563e-21, 0.002217198023572564, 0.03550481051206589]], [[4.6742742261897665e-17, 1.0995084047317505, -0.48856157064437866], [6.807141899428762e-17, -0.197726309299469, 0.6208954453468323], [-3.952271390159067e-21, 0.0023448762949556112, 0.03746630623936653]], [[4.920184765262186e-17, 1.107901692390442, -0.5014546513557434], [7.16681194116764e-17, -0.20815908908843994, 0.6026824116706848], [-4.976262019569328e-21, 0.0024733729660511017, 0.039426110684871674]], [[5.1660784298501093e-17, 1.1162883043289185, -0.5143437385559082], [7.526799620261737e-17, -0.21859925985336304, 0.5844929218292236], [-6.189989625364641e-21, 0.0026027534622699022, 0.04138418287038803]], [[5.4119542273368016e-17, 1.1246682405471802, -0.5272287726402283], [7.887140009169027e-17, -0.22904780507087708, 0.5663273930549622], [-7.61466040426448e-21, 0.0027330853044986725, 0.04334048926830292]], [[5.657811495977773e-17, 1.1330413818359375, -0.5401097536087036], [8.247868180347482e-17, -0.23950576782226562, 0.548186182975769], [-9.271953112224984e-21, 0.0028644371777772903, 0.04529501125216484]], [[5.903648912284042e-17, 1.1414077281951904, -0.5529866218566895], [8.609020529744054e-17, -0.24997417628765106, 0.5300693511962891], [-1.1183854274551296e-20, 0.002996878931298852, 0.04724773392081261]], [[6.149465814511121e-17, 1.1497671604156494, -0.565859317779541], [8.970632791561206e-17, -0.26045411825180054, 0.5119768977165222], [-1.3372503897326283e-20, 0.00313048018142581, 0.049198660999536514]], [[6.395260879170028e-17, 1.1581196784973145, -0.5787277817726135], [9.33274136174589e-17, -0.2709466218948364, 0.4939086437225342], [-1.5860062181471983e-20, 0.0032653112430125475, 0.05114779993891716]], [[6.641033444516274e-17, 1.166465163230896, -0.591592013835907], [9.695381974500567e-17, -0.2814527750015259, 0.4758642315864563], [-1.8668606932966604e-20, 0.0034014417324215174, 0.05309516564011574]], [[6.886782187060878e-17, 1.174803614616394, -0.6044520139694214], [1.0058590364027701e-16, -0.29197365045547485, 0.45784321427345276], [-2.1820058438042802e-20, 0.003538940567523241, 0.055040787905454636]], [[7.13250644505935e-17, 1.1831350326538086, -0.6173076629638672], [1.0422401602785264e-16, -0.30251026153564453, 0.4398450255393982], [-2.5336138265715765e-20, 0.0036778755020350218, 0.05698470398783684]], [[7.378205556767201e-17, 1.1914594173431396, -0.6301590204238892], [1.0786851424975718e-16, -0.3130636513233185, 0.4218689501285553], [-2.92383498807376e-20, 0.0038183133583515882, 0.05892695114016533]], [[7.62387819869545e-17, 1.1997766494750977, -0.6430059671401978], [1.1151973579568054e-16, -0.3236348330974579, 0.4039141833782196], [-3.3547977028010215e-20, 0.0039603193290531635, 0.06086758151650429]], [[7.869523709099608e-17, 1.2080867290496826, -0.655848503112793], [1.1517803139020246e-16, -0.33422479033470154, 0.38597986102104187], [-3.82860934261081e-20, 0.004103957209736109, 0.0628066435456276]], [[8.115142087979674e-17, 1.216389775276184, -0.6686866283416748], [1.1884373852301286e-16, -0.34483450651168823, 0.3680649995803833], [-4.347355307375554e-20, 0.00424928916618228, 0.06474420428276062]], [[8.360732011846667e-17, 1.2246856689453125, -0.6815203428268433], [1.2251717483146695e-16, -0.3554649353027344, 0.3501685857772827], [-4.913096116925821e-20, 0.004396375734359026, 0.06668031960725784]], [[8.60629414244508e-17, 1.2329744100570679, -0.6943495869636536], [1.2619868442269956e-16, -0.366117000579834, 0.33228951692581177], [-5.527859333114645e-20, 0.004545274656265974, 0.06861506402492523]], [[8.85182715628593e-17, 1.2412561178207397, -0.7071743607521057], [1.298885716991761e-16, -0.3767916262149811, 0.31442663073539734], [-6.193629220059874e-20, 0.004696041811257601, 0.07054850459098816]], [[9.097331715113708e-17, 1.2495306730270386, -0.7199946641921997], [1.335871542982518e-16, -0.3874896764755249, 0.2965787351131439], [-6.912327680215987e-20, 0.0048487307503819466, 0.07248072326183319]], [[9.342807157183925e-17, 1.257798194885254, -0.7328105568885803], [1.3729471015261249e-16, -0.3982120156288147, 0.2787446081638336], [-7.685791313036791e-20, 0.005003390833735466, 0.0744117945432663]], [[9.58825348249658e-17, 1.2660588026046753, -0.7456220388412476], [1.4101153042983376e-16, -0.40895938873291016, 0.26092293858528137], [-8.515744919346432e-20, 0.005160069093108177, 0.07634180039167404]], [[9.833671352796163e-17, 1.2743124961853027, -0.7584291100502014], [1.4473785335793204e-16, -0.41973257064819336, 0.24311241507530212], [-9.403771128301271e-20, 0.0053188069723546505, 0.07827083021402359]], [[1.0079060106338184e-16, 1.2825593948364258, -0.7712318301200867], [1.4847390393003395e-16, -0.43053221702575684, 0.22531168162822723], [-1.0351280024351768e-19, 0.005479642190039158, 0.0801989734172821]], [[1.0324419743122643e-16, 1.2907994985580444, -0.7840302586555481], [1.5221988066948649e-16, -0.44135892391204834, 0.20751939713954926], [-1.135947877420437e-19, 0.0056426068767905235, 0.08212631195783615]], [[1.056974960140505e-16, 1.2990329265594482, -0.7968244552612305], [1.5597594239496728e-16, -0.45221319794654846, 0.18973420560359955], [-1.2429343838722798e-19, 0.005807727109640837, 0.0840529352426529]], [[1.0815049681185405e-16, 1.3072599172592163, -0.8096144199371338], [1.5974220822048452e-16, -0.46309545636177063, 0.17195476591587067], [-1.3561596416003625e-19, 0.005975022912025452, 0.0859789326786995]], [[1.1060318658974729e-16, 1.3154804706573486, -0.8224002718925476], [1.6351875755537702e-16, -0.4740060269832611, 0.15417975187301636], [-1.4756683700565511e-19, 0.006144506856799126, 0.08790438622236252]], [[1.130555653477302e-16, 1.3236945867538452, -0.8351820111274719], [1.6730561686942438e-16, -0.4849450886249542, 0.13640788197517395], [-1.6014762081243018e-19, 0.006316184997558594, 0.08982938528060913]], [[1.15507619850913e-16, 1.3319025039672852, -0.8479596376419067], [1.711027729277368e-16, -0.49591273069381714, 0.11863792687654495], [-1.7335689386368362e-19, 0.006490055471658707, 0.0917540043592453]], [[1.1795933024696096e-16, 1.340104341506958, -0.8607332110404968], [1.7491017279075508e-16, -0.5069088935852051, 0.10086870938539505], [-1.8719018421422882e-19, 0.006666109431535006, 0.09367832541465759]], [[1.204106833009843e-16, 1.3483000993728638, -0.873502790927887], [1.7872771057936081e-16, -0.5179334282875061, 0.0830991268157959], [-2.016399567656733e-19, 0.00684432964771986, 0.09560241550207138]], [[1.2286167901298304e-16, 1.3564900159835815, -0.8862683773040771], [1.8255524070976618e-16, -0.5289860367774963, 0.06532815843820572], [-2.166956391158129e-19, 0.007024690508842468, 0.09752634167671204]], [[1.2531227767828773e-16, 1.3646740913391113, -0.8990299701690674], [1.8639255142373438e-16, -0.5400663018226624, 0.0475548654794693], [-2.3234371203151115e-19, 0.007207159418612719, 0.09945016354322433]], [[1.277624792968984e-16, 1.3728524446487427, -0.9117876291275024], [1.902394177281388e-16, -0.5511736273765564, 0.029778417199850082], [-2.485678257709731e-19, 0.007391695398837328, 0.10137393325567245]], [[1.3021225739903546e-16, 1.3810251951217651, -0.9245413541793823], [1.94095535220514e-16, -0.5623074173927307, 0.011998077854514122], [-2.6534894225541294e-19, 0.007578250020742416, 0.10329769551753998]], [[1.3266159874980907e-16, 1.3891924619674683, -0.9372910857200623], [1.9796059949839457e-16, -0.5734668374061584, -0.005786782130599022], [-2.8266552893951016e-19, 0.00776676693931222, 0.10522149503231049]], [[1.3511047687943966e-16, 1.397354245185852, -0.950036883354187], [2.018342399848661e-16, -0.584650993347168, -0.023576686158776283], [-3.004937785312597e-19, 0.007957183755934238, 0.10714536160230637]], [[1.3755887855303742e-16, 1.4055107831954956, -0.9627786874771118], [2.0571607286812434e-16, -0.5958588719367981, -0.041372042149305344], [-3.1880791918470173e-19, 0.008149432018399239, 0.10906932502985]], [[1.4000677730082275e-16, 1.4136619567871094, -0.9755165576934814], [2.096056746316957e-16, -0.6070893406867981, -0.05917315557599068], [-3.3758044714446884e-19, 0.008343435823917389, 0.1109934002161026]], [[1.4245417312279564e-16, 1.4218080043792725, -0.9882504343986511], [2.135026085242167e-16, -0.6183412671089172, -0.07698021829128265], [-3.5678243693851583e-19, 0.008539116941392422, 0.11291760206222534]], [[1.449010395491765e-16, 1.4299490451812744, -1.000980257987976], [2.1740641132454437e-16, -0.6296133995056152, -0.09479333460330963], [-3.763839291190318e-19, 0.008736391551792622, 0.11484193056821823]], [[1.4734736334507553e-16, 1.4380850791931152, -1.013706088066101], [2.2131660657664584e-16, -0.6409044861793518, -0.11261250078678131], [-3.963541112081991e-19, 0.008935172110795975, 0.11676639318466187]], [[1.4979313127560292e-16, 1.4462162256240845, -1.026427984237671], [2.252327045895985e-16, -0.6522131562232971, -0.13043762743473053], [-4.1666180883668223e-19, 0.009135371074080467, 0.11869097501039505]], [[1.5223834334075867e-16, 1.4543424844741821, -1.039145827293396], [2.291542289073695e-16, -0.6635380983352661, -0.14826855063438416], [-4.372756925387807e-19, 0.009336897172033787, 0.12061566859483719]], [[1.54682986305653e-16, 1.4624640941619873, -1.051859736442566], [2.330806766041464e-16, -0.6748778820037842, -0.16610503196716309], [-4.581645879451588e-19, 0.009539660066366196, 0.12254046648740768]], [[1.5712706017028587e-16, 1.4705809354782104, -1.0645697116851807], [2.370115712238964e-16, -0.686231255531311, -0.18394675850868225], [-4.792977601261816e-19, 0.009743569418787956, 0.12446533888578415]], [[1.5957055169976751e-16, 1.4786932468414307, -1.0772756338119507], [2.4094646278036624e-16, -0.6975967884063721, -0.2017933875322342], [-5.006451203870673e-19, 0.00994853489100933, 0.126390278339386]], [[1.6201346089409792e-16, 1.4868011474609375, -1.0899776220321655], [2.448848748175231e-16, -0.708973228931427, -0.21964450180530548], [-5.221776140088e-19, 0.010154468938708305, 0.12831524014472961]], [[1.644557877532771e-16, 1.494904637336731, -1.1026757955551147], [2.488263573491138e-16, -0.7203593254089355, -0.2374996691942215], [-5.438671168505529e-19, 0.01036128681153059, 0.13024021685123444]], [[1.6689751904241522e-16, 1.5030038356781006, -1.1153700351715088], [2.5277048685866464e-16, -0.7317538261413574, -0.25535842776298523], [-5.65686900638783e-19, 0.01056890469044447, 0.13216517865657806]], [[1.6933866799640211e-16, 1.5110987424850464, -1.1280604600906372], [2.5671686629948163e-16, -0.7431555390357971, -0.2732203006744385], [-5.876115295696541e-19, 0.010777244344353676, 0.1340900957584381]], [[1.7177924785012757e-16, 1.519189476966858, -1.1407470703125], [2.6066512509465034e-16, -0.7545633316040039, -0.29108482599258423], [-6.096170154054023e-19, 0.01098622940480709, 0.1360149383544922]], [[1.742192453687018e-16, 1.5272761583328247, -1.1534298658370972], [2.6461486619747674e-16, -0.7659761905670166, -0.3089514672756195], [-6.316809725707003e-19, 0.011195788159966469, 0.1379396766424179]], [[1.7665867378701457e-16, 1.5353589057922363, -1.1661089658737183], [2.685657719706056e-16, -0.777393102645874, -0.3268197774887085], [-6.537825147550813e-19, 0.011405851691961288, 0.13986428081989288]], [[1.7909754633995572e-16, 1.5434378385543823, -1.1787843704223633], [2.7251755124646135e-16, -0.7888131141662598, -0.3446892499923706], [-6.759024100093032e-19, 0.011616356670856476, 0.14178872108459473]], [[1.8153586302752523e-16, 1.5515129566192627, -1.1914560794830322], [2.764698863876887e-16, -0.800235390663147, -0.36255943775177], [-6.980229773477728e-19, 0.011827243492007256, 0.14371298253536224]], [[1.839736370846129e-16, 1.5595842599868774, -1.2041242122650146], [2.804225126964917e-16, -0.8116591572761536, -0.3804298937320709], [-7.201280350497571e-19, 0.012038457207381725, 0.14563703536987305]], [[1.8641086851121875e-16, 1.5676519870758057, -1.2167888879776], [2.843751919448539e-16, -0.8230836391448975, -0.3983002007007599], [-7.422030040569597e-19, 0.012249945662915707, 0.14756086468696594]], [[1.8884758377712236e-16, 1.5757161378860474, -1.2294501066207886], [2.883277123745385e-16, -0.8345081806182861, -0.4161699414253235], [-7.642347011783682e-19, 0.012461661361157894, 0.14948444068431854]], [[1.9128378288232374e-16, 1.583776831626892, -1.2421079874038696], [2.9227988869708825e-16, -0.845932126045227, -0.4340387284755707], [-7.862113907890419e-19, 0.012673560529947281, 0.15140773355960846]], [[1.9371947906171268e-16, 1.5918340682983398, -1.2547625303268433], [2.9623150915426637e-16, -0.857354998588562, -0.4519062340259552], [-8.081226814325356e-19, 0.012885604053735733, 0.1533307433128357]], [[1.96154685550179e-16, 1.5998880863189697, -1.267413854598999], [3.0018244139717485e-16, -0.868776261806488, -0.4697721302509308], [-8.29959422423323e-19, 0.013097754679620266, 0.15525345504283905]], [[1.9858941558261248e-16, 1.6079387664794922, -1.280061960220337], [3.041325530769157e-16, -0.8801954388618469, -0.48763611912727356], [-8.517136521480082e-19, 0.013309980742633343, 0.15717583894729614]], [[2.0102368239390293e-16, 1.6159863471984863, -1.292707085609436], [3.0808171184459085e-16, -0.89161217212677, -0.505497932434082], [-8.733785463665377e-19, 0.013522251509130001, 0.15909789502620697]], [[2.0345749921894015e-16, 1.6240308284759521, -1.3053491115570068], [3.1202981182108195e-16, -0.9030261039733887, -0.5233572721481323], [-8.949483148146236e-19, 0.013734540902078152, 0.16101960837841034]], [[2.0589087929261395e-16, 1.6320723295211792, -1.3179882764816284], [3.1597674712727057e-16, -0.914436936378479, -0.5412139892578125], [-9.164179944085906e-19, 0.013946824707090855, 0.16294096410274506]], [[2.0832383584981412e-16, 1.6401108503341675, -1.3306245803833008], [3.199224648235975e-16, -0.9258444309234619, -0.5590678453445435], [-9.37783656040529e-19, 0.014159082435071468, 0.16486196219921112]], [[2.1075638212543046e-16, 1.6481465101242065, -1.3432581424713135], [3.23866885500724e-16, -0.9372482895851135, -0.5769187211990356], [-9.590420943855652e-19, 0.014371293596923351, 0.16678260266780853]], [[2.1318854458924258e-16, 1.6561793088912964, -1.3558889627456665], [3.2780995621909076e-16, -0.9486483931541443, -0.5947664380073547], [-9.801908279018616e-19, 0.014583442360162735, 0.1687028706073761]], [[2.1562032324125047e-16, 1.6642094850540161, -1.3685171604156494], [3.3175162403913864e-16, -0.9600445628166199, -0.6126108765602112], [-1.0012280988306165e-18, 0.014795514754951, 0.17062276601791382]], [[2.1805173131634394e-16, 1.6722369194030762, -1.3811428546905518], [3.3569188896086764e-16, -0.971436619758606, -0.6304519176483154], [-1.022152666400911e-18, 0.015007496811449528, 0.1725422888994217]], [[2.2048279528430259e-16, 1.6802617311477661, -1.3937660455703735], [3.3963069804471854e-16, -0.9828245043754578, -0.6482895016670227], [-1.0429639102272858e-18, 0.015219378285109997, 0.17446143925189972]], [[2.229135283800162e-16, 1.6882840394973755, -1.4063868522644043], [3.4356805129069135e-16, -0.9942080974578857, -0.6661235094070435], [-1.063661520117011e-18, 0.015431148931384087, 0.1763802170753479]], [[2.253439306034848e-16, 1.6963039636611938, -1.419005274772644], [3.4750392222900647e-16, -1.0055873394012451, -0.6839539408683777], [-1.0842458062628166e-18, 0.0156428012996912, 0.17829862236976624]], [[2.277740151895982e-16, 1.7043213844299316, -1.4316215515136719], [3.514383108596639e-16, -1.0169621706008911, -0.7017807364463806], [-1.1047173890501618e-18, 0.015854327008128166, 0.18021665513515472]], [[2.3020380860813597e-16, 1.712336540222168, -1.4442356824874878], [3.553712171826636e-16, -1.0283325910568237, -0.7196038961410522], [-1.1250771990572357e-18, 0.016065722331404686, 0.18213431537151337]], [[2.326333108590981e-16, 1.7203494310379028, -1.4568476676940918], [3.5930266766778525e-16, -1.039698600769043, -0.7374234199523926], [-1.1453264770549573e-18, 0.016276979818940163, 0.18405161798000336]], [[2.3506254841226424e-16, 1.7283600568771362, -1.4694576263427734], [3.632326358452492e-16, -1.0510600805282593, -0.7552392482757568], [-1.1654665672118218e-18, 0.016488097608089447, 0.1859685629606247]], [[2.3749152126763436e-16, 1.7363685369491577, -1.4820656776428223], [3.6716117465461463e-16, -1.0624171495437622, -0.7730514407157898], [-1.1854993306842076e-18, 0.01669907197356224, 0.18788516521453857]], [[2.3992025589498805e-16, 1.7443748712539673, -1.4946718215942383], [3.710882840958816e-16, -1.0737698078155518, -0.7908599972724915], [-1.2054265252309163e-18, 0.016909901052713394, 0.1898014098405838]], [[2.4234875229432534e-16, 1.7523791790008545, -1.507276177406311], [3.7501396416905004e-16, -1.085118055343628, -0.8086649179458618], [-1.2252502188034793e-18, 0.017120584845542908, 0.19171732664108276]], [[2.447770369354258e-16, 1.7603814601898193, -1.51987886428833], [3.789382678136792e-16, -1.0964620113372803, -0.8264662623405457], [-1.2449725827510046e-18, 0.017331119626760483, 0.19363290071487427]], [[2.4720510981828946e-16, 1.7683818340301514, -1.5324798822402954], [3.828611950297691e-16, -1.1078016757965088, -0.8442640900611877], [-1.2645959952177532e-18, 0.01754150539636612, 0.1955481469631195]], [[2.496329974126959e-16, 1.7763803005218506, -1.5450793504714966], [3.867827987568789e-16, -1.1191370487213135, -0.8620584607124329], [-1.2841227309504097e-18, 0.017751744017004967, 0.19746308028697968]], [[2.5206069971864514e-16, 1.7843769788742065, -1.5576772689819336], [3.907030789950086e-16, -1.1304682493209839, -0.879849374294281], [-1.3035551680932351e-18, 0.017961833626031876, 0.19937770068645477]], [[2.5448821673613716e-16, 1.7923717498779297, -1.570273756980896], [3.9462208868371745e-16, -1.14179527759552, -0.8976369500160217], [-1.3228957881880672e-18, 0.018171776086091995, 0.201292023062706]], [[2.5691557493495156e-16, 1.8003648519515991, -1.5828688144683838], [3.985398278230054e-16, -1.1531182527542114, -0.915421187877655], [-1.34214717617432e-18, 0.018381571397185326, 0.20320604741573334]], [[2.5934277431508836e-16, 1.8083562850952148, -1.5954625606536865], [4.024563493524317e-16, -1.164437174797058, -0.9332021474838257], [-1.361311916991408e-18, 0.018591221421957016, 0.2051197737455368]], [[2.6176984134632715e-16, 1.8163460493087769, -1.6080551147460938], [4.063716797417759e-16, -1.1757521629333496, -0.9509799480438232], [-1.3803924921811687e-18, 0.018800728023052216, 0.20703323185443878]], [[2.6419677602866794e-16, 1.8243341445922852, -1.6206464767456055], [4.102858454608176e-16, -1.1870633363723755, -0.9687546491622925], [-1.3993914866830164e-18, 0.019010091200470924, 0.20894640684127808]], [[2.666235783621107e-16, 1.8323206901550293, -1.6332366466522217], [4.1419887297933645e-16, -1.1983706951141357, -0.9865263104438782], [-1.4183114854363652e-18, 0.01921931467950344, 0.21085932850837708]], [[2.690502748164351e-16, 1.8403056859970093, -1.645825743675232], [4.1811081523689163e-16, -1.20967435836792, -1.004294991493225], [-1.4371549699830529e-18, 0.019428398460149765, 0.21277198195457458]], [[2.7147686539164104e-16, 1.8482892513275146, -1.6584137678146362], [4.2202167223348314e-16, -1.220974326133728, -1.022060751914978], [-1.4559245252624936e-18, 0.019637346267700195, 0.214684396982193]], [[2.739033765575082e-16, 1.8562713861465454, -1.6710008382797241], [4.259314969086702e-16, -1.2322707176208496, -1.0398236513137817], [-1.4746226328165251e-18, 0.01984615996479988, 0.2165965735912323]], [[2.7632980831403654e-16, 1.8642520904541016, -1.6835870742797852], [4.2984031573223237e-16, -1.2435636520385742, -1.0575838088989258], [-1.493251774186985e-18, 0.02005484141409397, 0.2185085117816925]], [[2.787561606612261e-16, 1.8722314834594727, -1.6961723566055298], [4.337481551739493e-16, -1.2548531293869019, -1.0753413438796997], [-1.511814430915711e-18, 0.020263392478227615, 0.2204202264547348]], [[2.8118243359907683e-16, 1.8802095651626587, -1.7087568044662476], [4.3765504170360054e-16, -1.266139268875122, -1.0930962562561035], [-1.530312981146964e-18, 0.020471815019845963, 0.22233173251152039]], [[2.8360865359736837e-16, 1.8881863355636597, -1.721340537071228], [4.4156100179096574e-16, -1.2774221897125244, -1.1108486652374268], [-1.5487496996274287e-18, 0.02068011276423931, 0.22424302995204926]], [[2.860348206561007e-16, 1.8961619138717651, -1.7339235544204712], [4.454660619058245e-16, -1.2887018918991089, -1.1285985708236694], [-1.5671270678989428e-18, 0.02088828757405281, 0.2261541336774826]], [[2.8846093477527383e-16, 1.904136300086975, -1.746505856513977], [4.493702485179564e-16, -1.299978494644165, -1.146346092224121], [-1.585447257310614e-18, 0.02109634131193161, 0.22806504368782043]], [[2.9088702242466736e-16, 1.9121094942092896, -1.7590875625610352], [4.532736410367002e-16, -1.3112521171569824, -1.1640913486480713], [-1.6037125426091272e-18, 0.021304277703166008, 0.22997575998306274]], [[2.933130836042813e-16, 1.920081615447998, -1.7716686725616455], [4.571761865224968e-16, -1.322522759437561, -1.18183434009552], [-1.62192509514359e-18, 0.021512098610401154, 0.23188629746437073]], [[2.957391183141156e-16, 1.9280526638031006, -1.7842493057250977], [4.610779908544645e-16, -1.3337905406951904, -1.1995751857757568], [-1.6400870862631106e-18, 0.021719805896282196, 0.23379667103290558]], [[2.9816512655417033e-16, 1.9360226392745972, -1.7968294620513916], [4.649790010930442e-16, -1.3450554609298706, -1.2173140048980713], [-1.6582005839192202e-18, 0.021927403286099434, 0.2357068806886673]], [[3.0059113479422505e-16, 1.9439915418624878, -1.8094091415405273], [4.688793231173542e-16, -1.3563176393508911, -1.2350507974624634], [-1.6762676560634503e-18, 0.022134890779852867, 0.23761694133281708]], [[3.030171430342798e-16, 1.951959490776062, -1.8219884634017944], [4.727789569273946e-16, -1.3675771951675415, -1.252785563468933], [-1.6942902672497557e-18, 0.022342273965477943, 0.23952685296535492]], [[3.054431512743345e-16, 1.9599264860153198, -1.8345674276351929], [4.766779025231654e-16, -1.3788341283798218, -1.27051842212677], [-1.7122703820320911e-18, 0.022549552842974663, 0.24143661558628082]], [[3.078691595143892e-16, 1.9678925275802612, -1.8471460342407227], [4.805761599046665e-16, -1.3900885581970215, -1.2882494926452637], [-1.730209861566835e-18, 0.022756731137633324, 0.24334624409675598]], [[3.1029516775444395e-16, 1.9758577346801758, -1.8597242832183838], [4.844738349510163e-16, -1.4013404846191406, -1.305978775024414], [-1.7481105670103653e-18, 0.022963810712099075, 0.2452557533979416]], [[3.1272120246427827e-16, 1.9838221073150635, -1.8723022937774658], [4.883708747226558e-16, -1.4125900268554688, -1.3237063884735107], [-1.7659743595190605e-18, 0.023170793429017067, 0.24716512858867645]], [[3.151472636438922e-16, 1.9917856454849243, -1.8848800659179688], [4.922673321591439e-16, -1.4238373041152954, -1.3414324522018433], [-1.783802996851722e-18, 0.023377681151032448, 0.24907439947128296]], [[3.175733512932857e-16, 1.9997483491897583, -1.8974577188491821], [4.961632602000401e-16, -1.4350823163986206, -1.3591569662094116], [-1.8015983401647286e-18, 0.023584477603435516, 0.2509835660457611]], [[3.1999946541245885e-16, 2.0077102184295654, -1.910035252571106], [5.000586588453442e-16, -1.4463250637054443, -1.3768799304962158], [-1.8193618370241517e-18, 0.023791182786226273, 0.2528926134109497]], [[3.224256324711912e-16, 2.015671491622925, -1.9226126670837402], [5.039535280950563e-16, -1.4575656652450562, -1.3946014642715454], [-1.8370951417912167e-18, 0.023997800424695015, 0.25480157136917114]], [[3.248518259997031e-16, 2.023632049560547, -1.935189962387085], [5.078478679491764e-16, -1.4688042402267456, -1.4123215675354004], [-1.8547999088271485e-18, 0.024204332381486893, 0.2567104399204254]], [[3.2727807246777426e-16, 2.0315918922424316, -1.9477671384811401], [5.117417313472636e-16, -1.4800407886505127, -1.4300403594970703], [-1.8724777924931724e-18, 0.024410782381892204, 0.2586192190647125]], [[3.297043718754046e-16, 2.039551019668579, -1.9603443145751953], [5.156351712288772e-16, -1.491275429725647, -1.4477579593658447], [-1.890130033560207e-18, 0.02461715042591095, 0.26052790880203247]], [[3.3213072422259415e-16, 2.0475094318389893, -1.9729214906692505], [5.195281875940171e-16, -1.5025081634521484, -1.4654743671417236], [-1.907758286389478e-18, 0.024823440238833427, 0.26243653893470764]], [[3.345571295093429e-16, 2.055467367172241, -1.9854986667633057], [5.234207804426835e-16, -1.5137391090393066, -1.483189582824707], [-1.9253639985470565e-18, 0.025029651820659637, 0.26434507966041565]], [[3.3698358773565085e-16, 2.063424825668335, -1.9980759620666504], [5.273129497748762e-16, -1.5249682664871216, -1.5009037256240845], [-1.942948410803862e-18, 0.025235788896679878, 0.2662535607814789]], [[3.394101253712976e-16, 2.0713815689086914, -2.010653257369995], [5.312047485301545e-16, -1.5361957550048828, -1.518616795539856], [-1.960512970725966e-18, 0.0254418533295393, 0.26816198229789734]], [[3.4183671594650356e-16, 2.0793378353118896, -2.023230791091919], [5.350961767085184e-16, -1.5474215745925903, -1.536328911781311], [-1.9780589190842877e-18, 0.0256478451192379, 0.270070344209671]], [[3.4426338593104833e-16, 2.0872936248779297, -2.0358083248138428], [5.38987287249527e-16, -1.5586458444595337, -1.5540400743484497], [-1.9955874966497458e-18, 0.02585376799106598, 0.2719786465167999]], [[3.466901088551523e-16, 2.0952489376068115, -2.0483860969543457], [5.428780801531804e-16, -1.569868564605713, -1.571750283241272], [-2.013099944193259e-18, 0.026059623807668686, 0.27388691902160645]], [[3.4911691118859507e-16, 2.103203773498535, -2.0609641075134277], [5.467685554194786e-16, -1.581089735031128, -1.5894596576690674], [-2.0305975024857464e-18, 0.02626541443169117, 0.2757951319217682]], [[3.5154379293137665e-16, 2.1111581325531006, -2.0735421180725098], [5.506587130484216e-16, -1.5923094749450684, -1.6071683168411255], [-2.0480812055029735e-18, 0.02647114172577858, 0.27770331501960754]], [[3.5397075408349704e-16, 2.119112253189087, -2.086120367050171], [5.545486059795686e-16, -1.6035279035568237, -1.6248761415481567], [-2.065552294015859e-18, 0.026676807552576065, 0.2796114683151245]], [[3.563977946449562e-16, 2.127065896987915, -2.098698854446411], [5.584382342129195e-16, -1.614745020866394, -1.6425832509994507], [-2.083011802000169e-18, 0.026882413774728775, 0.2815195918083191]], [[3.588249146157542e-16, 2.135019302368164, -2.1112775802612305], [5.623275977484745e-16, -1.6259608268737793, -1.6602897644042969], [-2.100460970226822e-18, 0.02708796039223671, 0.2834276854991913]], [[3.612521404656706e-16, 2.142972230911255, -2.123856544494629], [5.662167495257926e-16, -1.637175440788269, -1.6779956817626953], [-2.1179006258764306e-18, 0.027293451130390167, 0.2853357493877411]], [[3.6367944572492583e-16, 2.1509249210357666, -2.1364359855651855], [5.701056366053147e-16, -1.6483888626098633, -1.695701003074646], [-2.1353318029247606e-18, 0.027498887851834297, 0.2872438132762909]], [[3.6610683039351984e-16, 2.158877372741699, -2.1490156650543213], [5.739943648661592e-16, -1.6596012115478516, -1.713405728340149], [-2.1527555353475776e-18, 0.0277042705565691, 0.2891518473625183]], [[3.6853432094123225e-16, 2.1668295860290527, -2.161595582962036], [5.778828813687669e-16, -1.6708124876022339, -1.7311099767684937], [-2.170172650325494e-18, 0.027909602969884872, 0.2910598814487457]], [[3.709618908982835e-16, 2.174781560897827, -2.174175977706909], [5.817711861131377e-16, -1.6820226907730103, -1.7488137483596802], [-2.1875839750391228e-18, 0.028114885091781616, 0.29296788573265076]], [[3.733895667344531e-16, 2.1827332973480225, -2.1867566108703613], [5.85659332038831e-16, -1.6932319402694702, -1.766517162322998], [-2.2049905434642293e-18, 0.02832011878490448, 0.2948758900165558]], [[3.7581732197996154e-16, 2.1906847953796387, -2.1993377208709717], [5.895473191458466e-16, -1.7044403553009033, -1.7842200994491577], [-2.222393182781426e-18, 0.028525305911898613, 0.2967838943004608]], [[3.782451831045884e-16, 2.198636293411255, -2.211919069290161], [5.934352003737439e-16, -1.71564781665802, -1.8019226789474487], [-2.239792720171326e-18, 0.028730448335409164, 0.29869189858436584]], [[3.8067315010833363e-16, 2.206587553024292, -2.224500894546509], [5.973229227829635e-16, -1.7268544435501099, -1.8196250200271606], [-2.2571899828145412e-18, 0.028935547918081284, 0.30059993267059326]], [[3.831011965214177e-16, 2.214538812637329, -2.2370829582214355], [6.012105393130647e-16, -1.7380603551864624, -1.837327003479004], [-2.2745855910965314e-18, 0.02914060465991497, 0.3025079667568207]], [[3.8552934881362015e-16, 2.222489833831787, -2.2496654987335205], [6.050980499640475e-16, -1.7492655515670776, -1.855028748512268], [-2.291980372197909e-18, 0.029345620423555374, 0.3044160008430481]], [[3.87957606984941e-16, 2.230440855026245, -2.2622485160827637], [6.089854547359119e-16, -1.7604700326919556, -1.8727303743362427], [-2.3093751532992866e-18, 0.029550597071647644, 0.3063240647315979]], [[3.903859445656007e-16, 2.238391876220703, -2.274832010269165], [6.128727536286579e-16, -1.7716737985610962, -1.8904317617416382], [-2.3267705547861237e-18, 0.02975553646683693, 0.3082321286201477]], [[3.9281438802537877e-16, 2.246342897415161, -2.2874159812927246], [6.167599995818447e-16, -1.782876968383789, -1.9081330299377441], [-2.3441671970438795e-18, 0.02996044047176838, 0.3101402223110199]], [[3.9524293736427525e-16, 2.254293918609619, -2.3000004291534424], [6.206471396559131e-16, -1.7940796613693237, -1.9258341789245605], [-2.3615657004580136e-18, 0.030165309086441994, 0.3120483160018921]], [[3.9767156611251054e-16, 2.262244939804077, -2.3125851154327393], [6.245342267904223e-16, -1.8052817583084106, -1.9435352087020874], [-2.3789666854139854e-18, 0.030370144173502922, 0.31395643949508667]], [[4.0010030073986424e-16, 2.270195960998535, -2.3251702785491943], [6.284212609853723e-16, -1.8164833784103394, -1.9612362384796143], [-2.3963707722972543e-18, 0.030574947595596313, 0.31586459279060364]], [[4.0252914124633634e-16, 2.278146982192993, -2.3377559185028076], [6.323082951803223e-16, -1.8276846408843994, -1.9789371490478516], [-2.4137785814932796e-18, 0.030779721215367317, 0.317772775888443]], [[4.0495808763192686e-16, 2.286098003387451, -2.350342035293579], [6.361952764357131e-16, -1.8388854265213013, -1.9966380596160889], [-2.4311905265923677e-18, 0.030984465032815933, 0.31968098878860474]], [[4.0738711342685617e-16, 2.2940492630004883, -2.362928628921509], [6.400822047515446e-16, -1.8500858545303345, -2.014338970184326], [-2.448607227979978e-18, 0.03118918091058731, 0.32158923149108887]], [[4.098162451009039e-16, 2.3020005226135254, -2.375515937805176], [6.439691330673762e-16, -1.8612860441207886, -2.0320398807525635], [-2.46602930604157e-18, 0.0313938707113266, 0.3234975039958954]], [[4.1224548265407003e-16, 2.3099520206451416, -2.388103723526001], [6.478560613832078e-16, -1.872485876083374, -2.04974102973938], [-2.4834569675722964e-18, 0.0315985344350338, 0.3254058063030243]], [[4.1467479961657496e-16, 2.317903518676758, -2.4006919860839844], [6.517429896990394e-16, -1.8836854696273804, -2.0674421787261963], [-2.500890832957617e-18, 0.03180317580699921, 0.327314168214798]], [[4.171042224581983e-16, 2.325855255126953, -2.413280725479126], [6.55629918014871e-16, -1.8948848247528076, -2.085143566131592], [-2.5183315225829915e-18, 0.032007791101932526, 0.32922255992889404]], [[4.1953375117894005e-16, 2.3338069915771484, -2.425869941711426], [6.595168992702617e-16, -1.9060840606689453, -2.1028449535369873], [-2.5357792432435725e-18, 0.03221238777041435, 0.3311309814453125]], [[4.219633593090206e-16, 2.341758966445923, -2.438459634780884], [6.634038805256525e-16, -1.917283058166504, -2.120546579360962], [-2.5532344085296665e-18, 0.03241696208715439, 0.33303946256637573]], [[4.2439307331821957e-16, 2.3497111797332764, -2.4510498046875], [6.672909147206025e-16, -1.928481936454773, -2.1382484436035156], [-2.5706974320315797e-18, 0.03262151777744293, 0.33494797348976135]], [[4.2682286673675733e-16, 2.357663631439209, -2.4636404514312744], [6.711779489155525e-16, -1.939680814743042, -2.1559503078460693], [-2.5881685205444654e-18, 0.032826054841279984, 0.33685654401779175]], [[4.292527660344135e-16, 2.3656163215637207, -2.476231575012207], [6.750650360500617e-16, -1.9508795738220215, -2.173652410507202], [-2.605648294453783e-18, 0.03303057327866554, 0.33876514434814453]], [[4.316827447414085e-16, 2.3735692501068115, -2.488823413848877], [6.789521761241301e-16, -1.962078332901001, -2.191354751586914], [-2.6231369605546852e-18, 0.03323507681488991, 0.3406738042831421]], [[4.3411282932752187e-16, 2.3815224170684814, -2.501415729522705], [6.828393691377577e-16, -1.9732770919799805, -2.209057331085205], [-2.6406347256423257e-18, 0.03343956544995308, 0.34258249402046204]], [[4.3654299332297405e-16, 2.3894758224487305, -2.5140085220336914], [6.867266150909445e-16, -1.98447585105896, -2.2267603874206543], [-2.6581420033070105e-18, 0.03364403918385506, 0.34449124336242676]], [[4.3897326319754465e-16, 2.3974294662475586, -2.526601791381836], [6.906139139836905e-16, -1.9956746101379395, -2.2444636821746826], [-2.675659000343893e-18, 0.03384850174188614, 0.34640005230903625]], [[4.4140361248145405e-16, 2.405383348464966, -2.5391955375671387], [6.945013187555549e-16, -2.006873607635498, -2.26216721534729], [-2.6931859235481258e-18, 0.03405294939875603, 0.34830889105796814]], [[4.4383404117470226e-16, 2.413337469100952, -2.5517897605895996], [6.983887764669785e-16, -2.0180726051330566, -2.2798709869384766], [-2.7107229797148625e-18, 0.03425738587975502, 0.3502177894115448]], [[4.462645492772893e-16, 2.4212918281555176, -2.5643844604492188], [7.022763400575205e-16, -2.0292716026306152, -2.2975752353668213], [-2.7282705824344093e-18, 0.034461814910173416, 0.35212674736976624]], [[4.486951632589947e-16, 2.429246425628662, -2.576979637145996], [7.061639565876217e-16, -2.040470838546753, -2.315279722213745], [-2.745828731706766e-18, 0.03466623276472092, 0.35403576493263245]], [[4.511258301802593e-16, 2.437201499938965, -2.5895752906799316], [7.100516789968413e-16, -2.0516703128814697, -2.332984685897827], [-2.7633976343270862e-18, 0.03487064316868782, 0.35594484210014343]], [[4.535566029806423e-16, 2.4451568126678467, -2.6021714210510254], [7.139395072851794e-16, -2.0628697872161865, -2.3506898880004883], [-2.7809774970905226e-18, 0.03507504612207413, 0.3578539490699768]], [[4.559874816601438e-16, 2.4531123638153076, -2.6147680282592773], [7.178273885130766e-16, -2.0740694999694824, -2.3683955669403076], [-2.7985685267922284e-18, 0.03527944162487984, 0.35976311564445496]], [[4.584184132792044e-16, 2.4610681533813477, -2.6273651123046875], [7.217153756200923e-16, -2.0852694511413574, -2.386101722717285], [-2.8161707234322037e-18, 0.03548382967710495, 0.3616723418235779]], [[4.608494507773835e-16, 2.469024419784546, -2.639962673187256], [7.256034686062263e-16, -2.0964696407318115, -2.403808116912842], [-2.8337840870104484e-18, 0.035688214004039764, 0.3635816276073456]], [[4.632805412151217e-16, 2.4769809246063232, -2.6525607109069824], [7.294916674714788e-16, -2.1076700687408447, -2.4215149879455566], [-2.8514088243221158e-18, 0.03589259460568428, 0.36549097299575806]], [[4.657116845924192e-16, 2.4849376678466797, -2.665159225463867], [7.333799722158496e-16, -2.118870735168457, -2.4392223358154297], [-2.869045142162359e-18, 0.0360969714820385, 0.3674003779888153]], [[4.68142933848835e-16, 2.4928948879241943, -2.67775821685791], [7.372683828393389e-16, -2.1300716400146484, -2.456930160522461], [-2.8866928337360246e-18, 0.03630134463310242, 0.36930984258651733]], [[4.705742360448101e-16, 2.500852346420288, -2.6903576850891113], [7.411568993419466e-16, -2.141272783279419, -2.4746382236480713], [-2.904352105838266e-18, 0.03650571405887604, 0.37121933698654175]], [[4.730056441199035e-16, 2.508810043334961, -2.7029576301574707], [7.450455217236727e-16, -2.1524741649627686, -2.49234676361084], [-2.9220229584690832e-18, 0.03671008348464966, 0.37312889099121094]], [[4.754371051345562e-16, 2.516767978668213, -2.7155580520629883], [7.489342499845172e-16, -2.1636760234832764, -2.5100557804107666], [-2.939705391628476e-18, 0.03691444918513298, 0.3750385046005249]], [[4.778686190887681e-16, 2.524726390838623, -2.728158950805664], [7.528230841244801e-16, -2.1748781204223633, -2.5277652740478516], [-2.957399405316445e-18, 0.0371188148856163, 0.37694817781448364]], [[4.803002389220984e-16, 2.5326850414276123, -2.740760326385498], [7.567120770831206e-16, -2.1860804557800293, -2.5454752445220947], [-2.975104792737836e-18, 0.037323180586099625, 0.37885791063308716]], [[4.827319116949879e-16, 2.5406439304351807, -2.753361940383911], [7.606011759208795e-16, -2.1972832679748535, -2.563185691833496], [-2.992821760687803e-18, 0.03752754628658295, 0.38076770305633545]], [[4.851636374074366e-16, 2.5486032962799072, -2.7659640312194824], [7.644903806377568e-16, -2.208486318588257, -2.5808966159820557], [-3.0105501023711928e-18, 0.03773191571235657, 0.38267752528190613]], [[4.875954160594444e-16, 2.556562900543213, -2.778566598892212], [7.683796912337526e-16, -2.2196896076202393, -2.5986077785491943], [-3.028289610992852e-18, 0.03793628513813019, 0.3845874071121216]], [[4.900272476510115e-16, 2.5645227432250977, -2.7911694049835205], [7.722691077088667e-16, -2.23089337348938, -2.616319417953491], [-3.0460402865527804e-18, 0.03814065828919411, 0.3864973485469818]], [[4.92459185121697e-16, 2.5724828243255615, -2.8037726879119873], [7.761586300630992e-16, -2.2420973777770996, -2.6340315341949463], [-3.0638021290509785e-18, 0.038345031440258026, 0.3884073495864868]], [[4.948911755319418e-16, 2.5804431438446045, -2.816376209259033], [7.800483112360094e-16, -2.2533016204833984, -2.6517441272735596], [-3.0815747248971397e-18, 0.038549408316612244, 0.3903174102306366]], [[4.973232188817457e-16, 2.5884039402008057, -2.8289802074432373], [7.839380982880379e-16, -2.2645063400268555, -2.669457197189331], [-3.099358074091264e-18, 0.03875378891825676, 0.39222750067710876]], [[4.997553151711088e-16, 2.596364974975586, -2.8415844440460205], [7.878279912191849e-16, -2.2757112979888916, -2.6871707439422607], [-3.1171519698381985e-18, 0.038958173245191574, 0.3941376507282257]], [[5.021874644000311e-16, 2.6043262481689453, -2.854189157485962], [7.917179900294503e-16, -2.286916494369507, -2.7048847675323486], [-3.13495620534279e-18, 0.03916256129741669, 0.3960478603839874]], [[5.046196665685126e-16, 2.612287759780884, -2.8667941093444824], [7.956080947188341e-16, -2.298121929168701, -2.7225990295410156], [-3.152770573809885e-18, 0.0393669530749321, 0.39795809984207153]], [[5.070519216765533e-16, 2.6202495098114014, -2.879399538040161], [7.994983052873363e-16, -2.3093278408050537, -2.740313768386841], [-3.170594868444331e-18, 0.03957134857773781, 0.3998683989048004]], [[5.094842297241533e-16, 2.628211498260498, -2.892005205154419], [8.033886217349569e-16, -2.3205339908599854, -2.758028984069824], [-3.188428882450974e-18, 0.039775747805833817, 0.4017787277698517]], [[5.119165907113124e-16, 2.636173725128174, -2.904611110687256], [8.072790440616959e-16, -2.331740379333496, -2.775744676589966], [-3.2062724090346617e-18, 0.03998015075922012, 0.40368911623954773]], [[5.143489516984715e-16, 2.6441359519958496, -2.917217254638672], [8.111695722675533e-16, -2.342947006225586, -2.7934606075286865], [-3.2241250346050875e-18, 0.04018456116318703, 0.40559953451156616]], [[5.167813656251899e-16, 2.6520984172821045, -2.929823637008667], [8.150602063525291e-16, -2.354154109954834, -2.8111770153045654], [-3.241986552367098e-18, 0.04038897529244423, 0.40751001238822937]], [[5.192138324914674e-16, 2.6600611209869385, -2.942430257797241], [8.189509463166233e-16, -2.365361452102661, -2.8288938999176025], [-3.2598567555255406e-18, 0.04059339314699173, 0.40942052006721497]], [[5.216463522973041e-16, 2.6680240631103516, -2.9550371170043945], [8.228417392202767e-16, -2.3765690326690674, -2.8466110229492188], [-3.2777352304901086e-18, 0.04079781845211983, 0.41133105754852295]], [[5.240788721031409e-16, 2.6759872436523438, -2.967644214630127], [8.267326380030486e-16, -2.3877768516540527, -2.864328622817993], [-3.295621770465649e-18, 0.04100224748253822, 0.4132416248321533]], [[5.265114448485368e-16, 2.683950424194336, -2.9802515506744385], [8.306236426649388e-16, -2.398984909057617, -2.8820464611053467], [-3.3135159618618555e-18, 0.04120668023824692, 0.41515225172042847]], [[5.28944070533492e-16, 2.6919138431549072, -2.992859125137329], [8.345147002663882e-16, -2.4101932048797607, -2.8997647762298584], [-3.331417391088422e-18, 0.04141112044453621, 0.417062908411026]], [[5.313766962184471e-16, 2.6998775005340576, -3.005466938018799], [8.384058637469561e-16, -2.4214017391204834, -2.917483329772949], [-3.349325851350195e-18, 0.0416155643761158, 0.4189735949039459]], [[5.338093748429615e-16, 2.707841157913208, -3.0180749893188477], [8.422970801670831e-16, -2.432610511779785, -2.935202121734619], [-3.3672411358520215e-18, 0.041820015758275986, 0.42088431119918823]], [[5.362420534674758e-16, 2.7158050537109375, -3.0306832790374756], [8.461884024663286e-16, -2.443819522857666, -2.952921152114868], [-3.3851628310035954e-18, 0.04202447086572647, 0.42279505729675293]], [[5.386747850315494e-16, 2.723768949508667, -3.0432915687561035], [8.500797777051333e-16, -2.455028772354126, -2.9706406593322754], [-3.4030905232146103e-18, 0.042228929698467255, 0.42470583319664]], [[5.411075165956229e-16, 2.7317330837249756, -3.0559000968933105], [8.539712058834971e-16, -2.466238260269165, -2.9883604049682617], [-3.42102379889476e-18, 0.04243339225649834, 0.4266166388988495]], [[5.435403010992557e-16, 2.739697217941284, -3.0685088634490967], [8.578626870014202e-16, -2.477447748184204, -3.006080389022827], [-3.438962451248891e-18, 0.042637862265110016, 0.42852747440338135]], [[5.459730856028884e-16, 2.747661590576172, -3.081117630004883], [8.617542739984617e-16, -2.4886574745178223, -3.0238006114959717], [-3.4569060666866977e-18, 0.04284233599901199, 0.4304383099079132]], [[5.484058701065212e-16, 2.7556259632110596, -3.093726634979248], [8.656459139350624e-16, -2.4998674392700195, -3.0415210723876953], [-3.474854231617873e-18, 0.04304681345820427, 0.43234917521476746]], [[5.508387075497132e-16, 2.7635903358459473, -3.1063356399536133], [8.69537553871663e-16, -2.511077404022217, -3.059241533279419], [-3.492806532452112e-18, 0.043251294642686844, 0.4342600703239441]], [[5.532715449929051e-16, 2.771554946899414, -3.1189448833465576], [8.734292467478229e-16, -2.522287607192993, -3.0769622325897217], [-3.510762969189413e-18, 0.04345577955245972, 0.4361709654331207]], [[5.557043824360971e-16, 2.779519557952881, -3.131554126739502], [8.77320992563542e-16, -2.5334978103637695, -3.0946831703186035], [-3.5287231282394704e-18, 0.04366026818752289, 0.43808189034461975]], [[5.581372728188482e-16, 2.7874841690063477, -3.1441633701324463], [8.812127913188203e-16, -2.544708251953125, -3.1124043464660645], [-3.546686596011978e-18, 0.04386476054787636, 0.4399928152561188]], [[5.605701632015994e-16, 2.7954490184783936, -3.1567728519439697], [8.851046430136578e-16, -2.5559186935424805, -3.1301255226135254], [-3.56465295891663e-18, 0.044069256633520126, 0.4419037699699402]], [[5.630030535843506e-16, 2.8034138679504395, -3.169382333755493], [8.889965476480545e-16, -2.567129373550415, -3.1478469371795654], [-3.5826218033631194e-18, 0.044273752719163895, 0.4438147246837616]], [[5.654359439671017e-16, 2.8113787174224854, -3.1819918155670166], [8.928884522824512e-16, -2.5783400535583496, -3.1655683517456055], [-3.6005931293514465e-18, 0.04447825253009796, 0.4457257091999054]], [[5.678688343498529e-16, 2.8193435668945312, -3.19460129737854], [8.967803569168479e-16, -2.589550733566284, -3.1832900047302246], [-3.618566523291305e-18, 0.04468275606632233, 0.4476366937160492]], [[5.703017247326041e-16, 2.827308416366577, -3.2072110176086426], [9.006722615512446e-16, -2.600761651992798, -3.2010116577148438], [-3.6365415715923885e-18, 0.04488725960254669, 0.449547678232193]], [[5.727346680549144e-16, 2.835273265838623, -3.219820737838745], [9.045641661856413e-16, -2.6119725704193115, -3.218733310699463], [-3.654518274254697e-18, 0.045091766864061356, 0.4514586627483368]], [[5.751676113772248e-16, 2.843238115310669, -3.2324304580688477], [9.084561766991564e-16, -2.623183488845825, -3.236455202102661], [-3.672496217687925e-18, 0.04529627412557602, 0.453369677066803]], [[5.776005546995352e-16, 2.851203203201294, -3.24504017829895], [9.123481872126715e-16, -2.634394407272339, -3.2541770935058594], [-3.690475401892071e-18, 0.04550078138709068, 0.45528069138526917]], [[5.800334980218455e-16, 2.859168291091919, -3.2576498985290527], [9.162401977261866e-16, -2.6456053256988525, -3.2718989849090576], [-3.70845541327683e-18, 0.045705292373895645, 0.45719170570373535]], [[5.824664413441559e-16, 2.867133378982544, -3.2702596187591553], [9.201322082397017e-16, -2.656816244125366, -3.289620876312256], [-3.726435838251895e-18, 0.04590980336070061, 0.45910272002220154]], [[5.848993846664663e-16, 2.875098466873169, -3.282869338989258], [9.240242187532168e-16, -2.668027400970459, -3.307342767715454], [-3.744417090407573e-18, 0.04611431434750557, 0.4610137343406677]], [[5.873323279887766e-16, 2.883063554763794, -3.2954790592193604], [9.279162292667319e-16, -2.6792385578155518, -3.3250646591186523], [-3.762398756153557e-18, 0.04631882533431053, 0.4629247486591339]], [[5.89765271311087e-16, 2.891028642654419, -3.308088779449463], [9.31808239780247e-16, -2.6904497146606445, -3.3427865505218506], [-3.780380421899541e-18, 0.046523336321115494, 0.4648357629776001]], [[5.921982146333974e-16, 2.898993730545044, -3.3206984996795654], [9.35700250293762e-16, -2.7016608715057373, -3.360508441925049], [-3.798362501235831e-18, 0.046727847307920456, 0.4667467772960663]], [[5.946311579557077e-16, 2.906958818435669, -3.333308219909668], [9.395922608072772e-16, -2.71287202835083, -3.378230333328247], [-3.816344580572121e-18, 0.04693235829472542, 0.46865779161453247]], [[5.970641012780181e-16, 2.914923906326294, -3.3459179401397705], [9.434842713207923e-16, -2.724083185195923, -3.3959522247314453], [-3.8343266599084116e-18, 0.04713686928153038, 0.47056880593299866]], [[5.994970446003285e-16, 2.922888994216919, -3.358527660369873], [9.473762818343074e-16, -2.7352943420410156, -3.4136741161346436], [-3.852308739244702e-18, 0.04734138026833534, 0.47247982025146484]], [[6.019299879226388e-16, 2.930854082107544, -3.3711373805999756], [9.512682923478225e-16, -2.7465054988861084, -3.431396007537842], [-3.870290818580992e-18, 0.047545891255140305, 0.47439083456993103]], [[6.043629312449492e-16, 2.938819169998169, -3.383747100830078], [9.551603028613376e-16, -2.757716655731201, -3.44911789894104], [-3.8882728979172824e-18, 0.04775040224194527, 0.4763018488883972]], [[6.067958745672596e-16, 2.946784257888794, -3.3963568210601807], [9.590523133748527e-16, -2.768927812576294, -3.4668397903442383], [-3.906254977253573e-18, 0.04795491322875023, 0.4782128632068634]], [[6.092288178895699e-16, 2.954749345779419, -3.408966541290283], [9.629443238883678e-16, -2.7801389694213867, -3.4845616817474365], [-3.924237056589863e-18, 0.04815942421555519, 0.4801238775253296]], [[6.116617612118803e-16, 2.962714433670044, -3.4215762615203857], [9.66836334401883e-16, -2.7913501262664795, -3.5022835731506348], [-3.942219135926153e-18, 0.04836393520236015, 0.4820348918437958]], [[6.140947045341907e-16, 2.970679521560669, -3.4341859817504883], [9.70728344915398e-16, -2.8025612831115723, -3.520005464553833], [-3.9602012152624435e-18, 0.048568446189165115, 0.48394590616226196]], [[6.16527647856501e-16, 2.978644609451294, -3.446795701980591], [9.746203554289131e-16, -2.813772439956665, -3.5377273559570312], [-3.978183294598734e-18, 0.04877295717597008, 0.48585692048072815]], [[6.189605911788114e-16, 2.986609697341919, -3.4594054222106934], [9.785123659424282e-16, -2.824983596801758, -3.5554492473602295], [-3.996165373935024e-18, 0.04897746816277504, 0.48776793479919434]], [[6.213935345011218e-16, 2.994574785232544, -3.472015142440796], [9.824043764559433e-16, -2.8361947536468506, -3.5731711387634277], [-4.014147453271314e-18, 0.04918197914958, 0.4896789491176605]], [[6.238264778234321e-16, 3.002539873123169, -3.4846248626708984], [9.862963869694584e-16, -2.8474059104919434, -3.590893030166626], [-4.0321295326076046e-18, 0.049386490136384964, 0.4915899634361267]], [[6.262594211457425e-16, 3.010504961013794, -3.497234582901001], [9.901883974829735e-16, -2.858617067337036, -3.608614921569824], [-4.050111611943895e-18, 0.049591001123189926, 0.4935009777545929]], [[6.286923644680529e-16, 3.018470048904419, -3.5098443031311035], [9.940804079964886e-16, -2.869828224182129, -3.6263368129730225], [-4.068093691280185e-18, 0.04979551210999489, 0.4954119920730591]], [[6.3112530779036325e-16, 3.026435136795044, -3.522454023361206], [9.979724185100037e-16, -2.8810393810272217, -3.6440587043762207], [-4.086075770616475e-18, 0.05000002309679985, 0.49732300639152527]], [[6.335582511126736e-16, 3.034400224685669, -3.5350637435913086], [1.0018644290235188e-15, -2.8922505378723145, -3.661780595779419], [-4.104057849952766e-18, 0.05020453408360481, 0.49923402070999146]], [[6.35991194434984e-16, 3.042365312576294, -3.547673463821411], [1.005756439537034e-15, -2.9034616947174072, -3.679502487182617], [-4.122039929289056e-18, 0.050409045070409775, 0.50114506483078]], [[6.384241377572944e-16, 3.050330400466919, -3.5602831840515137], [1.009648450050549e-15, -2.9146728515625, -3.6972243785858154], [-4.140022008625346e-18, 0.05061355605721474, 0.5030561089515686]], [[6.408570810796047e-16, 3.058295488357544, -3.572892904281616], [1.0135404605640642e-15, -2.9258840084075928, -3.7149462699890137], [-4.1580040879616364e-18, 0.0508180670440197, 0.5049671530723572]], [[6.432900244019151e-16, 3.066260576248169, -3.5855026245117188], [1.0174324710775793e-15, -2.9370951652526855, -3.732668161392212], [-4.175986167297927e-18, 0.05102257803082466, 0.5068781971931458]], [[6.457229677242255e-16, 3.074225664138794, -3.5981123447418213], [1.0213244815910944e-15, -2.9483063220977783, -3.75039005279541], [-4.193968246634217e-18, 0.05122708901762962, 0.5087892413139343]], [[6.481559110465358e-16, 3.082190752029419, -3.610722064971924], [1.0252164921046095e-15, -2.959517478942871, -3.7681119441986084], [-4.211950325970507e-18, 0.051431600004434586, 0.5107002854347229]], [[6.505888543688462e-16, 3.090155839920044, -3.6233317852020264], [1.0291085026181246e-15, -2.970728635787964, -3.7858338356018066], [-4.2299324053067975e-18, 0.05163611099123955, 0.5126113295555115]], [[6.530217976911566e-16, 3.098120927810669, -3.635941505432129], [1.0330005131316397e-15, -2.9819397926330566, -3.803555727005005], [-4.247914484643088e-18, 0.05184062197804451, 0.5145223736763]], [[6.554547410134669e-16, 3.106086015701294, -3.6485512256622314], [1.0368925236451548e-15, -2.9931509494781494, -3.821277618408203], [-4.265896563979378e-18, 0.05204513296484947, 0.5164334177970886]], [[6.578876843357773e-16, 3.114051103591919, -3.661160945892334], [1.0407845341586699e-15, -3.004362106323242, -3.8389995098114014], [-4.283878643315668e-18, 0.052249643951654434, 0.5183444619178772]], [[6.603206276580877e-16, 3.122016191482544, -3.6737706661224365], [1.044676544672185e-15, -3.015573263168335, -3.8567214012145996], [-4.3018607226519586e-18, 0.052454154938459396, 0.5202555060386658]], [[6.62753570980398e-16, 3.129981279373169, -3.686380386352539], [1.0485685551857e-15, -3.0267844200134277, -3.874443292617798], [-4.319842801988249e-18, 0.05265866592526436, 0.5221665501594543]], [[6.651865143027084e-16, 3.137946367263794, -3.6989901065826416], [1.0524605656992152e-15, -3.0379955768585205, -3.892165184020996], [-4.337824881324539e-18, 0.05286317691206932, 0.5240775942802429]], [[6.676194576250188e-16, 3.145911455154419, -3.711599826812744], [1.0563525762127303e-15, -3.0492067337036133, -3.9098870754241943], [-4.3558069606608294e-18, 0.05306768789887428, 0.5259886384010315]], [[6.700524009473291e-16, 3.153876543045044, -3.7242095470428467], [1.0602445867262454e-15, -3.060417890548706, -3.9276089668273926], [-4.37378903999712e-18, 0.053272198885679245, 0.5278996825218201]], [[6.724853442696395e-16, 3.161841630935669, -3.736819267272949], [1.0641365972397605e-15, -3.071629047393799, -3.945330858230591], [-4.39177111933341e-18, 0.05347670987248421, 0.5298107266426086]], [[6.749182875919499e-16, 3.169806718826294, -3.7494289875030518], [1.0680286077532756e-15, -3.0828402042388916, -3.963052749633789], [-4.4097531986697e-18, 0.05368122085928917, 0.5317217707633972]], [[6.773512309142602e-16, 3.177771806716919, -3.7620387077331543], [1.0719206182667907e-15, -3.0940513610839844, -3.9807746410369873], [-4.4277352780059905e-18, 0.05388573184609413, 0.5336328148841858]], [[6.797841742365706e-16, 3.185736894607544, -3.774648427963257], [1.0758126287803058e-15, -3.105262517929077, -3.9984965324401855], [-4.445717357342281e-18, 0.054090242832899094, 0.5355438590049744]], [[6.82217117558881e-16, 3.193701982498169, -3.7872581481933594], [1.079704639293821e-15, -3.11647367477417, -4.016218662261963], [-4.463699436678571e-18, 0.054294753819704056, 0.5374549031257629]], [[6.846500608811913e-16, 3.201667070388794, -3.799867868423462], [1.083596649807336e-15, -3.1276848316192627, -4.03394079208374], [-4.481681516014861e-18, 0.05449926480650902, 0.5393659472465515]], [[6.870830042035017e-16, 3.209632158279419, -3.8124775886535645], [1.0874886603208511e-15, -3.1388959884643555, -4.051662921905518], [-4.4996635953511515e-18, 0.05470377579331398, 0.5412769913673401]], [[6.895159475258121e-16, 3.217597246170044, -3.825087308883667], [1.0913806708343662e-15, -3.1501071453094482, -4.069385051727295], [-4.517645674687442e-18, 0.05490828678011894, 0.5431880354881287]], [[6.919488908481224e-16, 3.225562334060669, -3.8376970291137695], [1.0952726813478813e-15, -3.161318302154541, -4.087107181549072], [-4.535627754023732e-18, 0.055112797766923904, 0.5450990796089172]], [[6.943818341704328e-16, 3.233527421951294, -3.850306749343872], [1.0991646918613964e-15, -3.172529458999634, -4.10482931137085], [-4.553609833360022e-18, 0.05531730875372887, 0.5470101237297058]], [[6.968147774927432e-16, 3.241492509841919, -3.8629164695739746], [1.1030567023749115e-15, -3.1837406158447266, -4.122551441192627], [-4.571591912696313e-18, 0.05552181974053383, 0.5489211678504944]], [[6.992477208150535e-16, 3.249457597732544, -3.875526189804077], [1.1069487128884266e-15, -3.1949517726898193, -4.140273571014404], [-4.589573992032603e-18, 0.05572633072733879, 0.550832211971283]], [[7.016806641373639e-16, 3.257422685623169, -3.8881359100341797], [1.1108407234019417e-15, -3.206162929534912, -4.157995700836182], [-4.607556071368893e-18, 0.05593084171414375, 0.5527432560920715]], [[7.041136074596743e-16, 3.265387773513794, -3.9007456302642822], [1.1147327339154568e-15, -3.217374086380005, -4.175717830657959], [-4.6255381507051834e-18, 0.056135352700948715, 0.5546543002128601]], [[7.065465507819846e-16, 3.273352861404419, -3.9133553504943848], [1.118624744428972e-15, -3.2285852432250977, -4.193439960479736], [-4.643520230041474e-18, 0.05633986368775368, 0.5565653443336487]], [[7.08979494104295e-16, 3.281317949295044, -3.9259650707244873], [1.122516754942487e-15, -3.2397964000701904, -4.211162090301514], [-4.661502309377764e-18, 0.05654437467455864, 0.5584763884544373]], [[7.114124374266054e-16, 3.289283037185669, -3.93857479095459], [1.1264087654560022e-15, -3.251007556915283, -4.228884220123291], [-4.679484388714054e-18, 0.0567488856613636, 0.5603874325752258]], [[7.138453807489157e-16, 3.297248125076294, -3.9511845111846924], [1.1303007759695173e-15, -3.262218713760376, -4.246606349945068], [-4.6974664680503445e-18, 0.056953396648168564, 0.5622984766960144]], [[7.162783240712261e-16, 3.305213212966919, -3.963794231414795], [1.1341927864830324e-15, -3.2734298706054688, -4.264328479766846], [-4.715448547386635e-18, 0.057157907634973526, 0.564209520816803]], [[7.187112673935365e-16, 3.313178300857544, -3.9764039516448975], [1.1380847969965475e-15, -3.2846410274505615, -4.282050609588623], [-4.733430626722925e-18, 0.05736241862177849, 0.5661205649375916]], [[7.2114421071584685e-16, 3.321143388748169, -3.989013671875], [1.1419768075100626e-15, -3.2958521842956543, -4.2997727394104], [-4.751412706059215e-18, 0.05756692960858345, 0.5680316090583801]], [[7.235771540381572e-16, 3.329108476638794, -4.001623630523682], [1.1458688180235777e-15, -3.307063341140747, -4.317494869232178], [-4.7693947853955056e-18, 0.05777144059538841, 0.5699426531791687]], [[7.260100973604676e-16, 3.337073564529419, -4.014233589172363], [1.1497608285370928e-15, -3.31827449798584, -4.335216999053955], [-4.787376864731796e-18, 0.057975951582193375, 0.5718536972999573]], [[7.28443040682778e-16, 3.345038652420044, -4.026843547821045], [1.1536528390506079e-15, -3.3294856548309326, -4.352939128875732], [-4.805358944068086e-18, 0.05818046256899834, 0.5737647414207458]], [[7.308759840050883e-16, 3.353003740310669, -4.039453506469727], [1.157544849564123e-15, -3.3406968116760254, -4.37066125869751], [-4.823341023404376e-18, 0.0583849735558033, 0.5756757855415344]], [[7.333089273273987e-16, 3.360968828201294, -4.052063465118408], [1.161436860077638e-15, -3.351907968521118, -4.388383388519287], [-4.841323102740667e-18, 0.05858948454260826, 0.577586829662323]], [[7.357418706497091e-16, 3.368933916091919, -4.06467342376709], [1.1653288705911532e-15, -3.363119125366211, -4.4061055183410645], [-4.859305182076957e-18, 0.05879399552941322, 0.5794978737831116]], [[7.381748139720194e-16, 3.376899003982544, -4.0772833824157715], [1.1692208811046683e-15, -3.3743302822113037, -4.423827648162842], [-4.877287261413247e-18, 0.058998506516218185, 0.5814089179039001]], [[7.406077572943298e-16, 3.384864091873169, -4.089893341064453], [1.1731128916181834e-15, -3.3855414390563965, -4.441549777984619], [-4.8952693407495375e-18, 0.05920301750302315, 0.5833199620246887]], [[7.430407006166402e-16, 3.392829179763794, -4.102503299713135], [1.1770049021316985e-15, -3.3967525959014893, -4.4592719078063965], [-4.913251420085828e-18, 0.05940752848982811, 0.5852310061454773]], [[7.454736439389505e-16, 3.400794267654419, -4.115113258361816], [1.1808969126452136e-15, -3.407963752746582, -4.476994037628174], [-4.931233499422118e-18, 0.05961203947663307, 0.5871420502662659]], [[7.479065872612609e-16, 3.408759355545044, -4.127723217010498], [1.1847889231587287e-15, -3.419174909591675, -4.494716167449951], [-4.949215578758408e-18, 0.059816550463438034, 0.5890530943870544]], [[7.503395305835713e-16, 3.416724443435669, -4.14033317565918], [1.1886809336722438e-15, -3.4303860664367676, -4.5124382972717285], [-4.9671976580946985e-18, 0.060021061450242996, 0.590964138507843]], [[7.527724739058816e-16, 3.424689531326294, -4.152943134307861], [1.192572944185759e-15, -3.4415972232818604, -4.530160427093506], [-4.985179737430989e-18, 0.06022557243704796, 0.5928751826286316]], [[7.55205417228192e-16, 3.432654619216919, -4.165553092956543], [1.196464954699274e-15, -3.452808380126953, -4.547882556915283], [-5.003161816767279e-18, 0.06043008342385292, 0.5947862267494202]], [[7.576383605505024e-16, 3.440619707107544, -4.178163051605225], [1.2003569652127891e-15, -3.464019536972046, -4.5656046867370605], [-5.021143896103569e-18, 0.06063459441065788, 0.5966972708702087]], [[7.600713038728127e-16, 3.448584794998169, -4.190773010253906], [1.2042489757263042e-15, -3.4752306938171387, -4.583326816558838], [-5.0391259754398596e-18, 0.060839105397462845, 0.5986083149909973]], [[7.625042471951231e-16, 3.456549882888794, -4.203382968902588], [1.2081409862398193e-15, -3.4864418506622314, -4.601048946380615], [-5.05710805477615e-18, 0.06104361638426781, 0.6005193591117859]], [[7.649371905174335e-16, 3.464514970779419, -4.2159929275512695], [1.2120329967533344e-15, -3.497653007507324, -4.618771076202393], [-5.07509013411244e-18, 0.06124812737107277, 0.6024304032325745]], [[7.673701338397438e-16, 3.472480058670044, -4.228602886199951], [1.2159250072668495e-15, -3.508864164352417, -4.63649320602417], [-5.0930722134487304e-18, 0.06145263835787773, 0.604341447353363]], [[7.698030771620542e-16, 3.480445146560669, -4.241212844848633], [1.2198170177803646e-15, -3.5200753211975098, -4.654215335845947], [-5.111054292785021e-18, 0.061657149344682693, 0.6062524914741516]], [[7.722360204843646e-16, 3.488410234451294, -4.2538228034973145], [1.2237090282938797e-15, -3.5312864780426025, -4.671937465667725], [-5.129036372121311e-18, 0.061861660331487656, 0.6081635355949402]], [[7.746689638066749e-16, 3.496375322341919, -4.266432762145996], [1.2276010388073948e-15, -3.5424976348876953, -4.689659595489502], [-5.147018451457601e-18, 0.06206617131829262, 0.6100745797157288]], [[7.771019071289853e-16, 3.504340410232544, -4.279042720794678], [1.23149304932091e-15, -3.553708791732788, -4.707381725311279], [-5.1650005307938915e-18, 0.06227068230509758, 0.6119856238365173]], [[7.795348504512957e-16, 3.512305498123169, -4.291652679443359], [1.235385059834425e-15, -3.564919948577881, -4.725103855133057], [-5.182982610130182e-18, 0.06247519329190254, 0.6138966679573059]], [[7.81967793773606e-16, 3.520270586013794, -4.304262638092041], [1.2392770703479401e-15, -3.5761311054229736, -4.742825984954834], [-5.200964689466472e-18, 0.0626797080039978, 0.6158077120780945]], [[7.844007370959164e-16, 3.528235673904419, -4.316872596740723], [1.2431690808614553e-15, -3.5873422622680664, -4.760548114776611], [-5.218946768802762e-18, 0.06288421899080276, 0.6177187561988831]], [[7.868336804182268e-16, 3.536200761795044, -4.329482555389404], [1.2470610913749704e-15, -3.598553419113159, -4.778270244598389], [-5.2369288481390526e-18, 0.06308872997760773, 0.6196298003196716]], [[7.892666237405371e-16, 3.544165849685669, -4.342092514038086], [1.2509531018884855e-15, -3.609764575958252, -4.795992374420166], [-5.254910927475343e-18, 0.06329324096441269, 0.6215408444404602]], [[7.916995670628475e-16, 3.552130937576294, -4.354702472686768], [1.2548451124020006e-15, -3.6209757328033447, -4.813714504241943], [-5.272893006811633e-18, 0.06349775195121765, 0.6234518885612488]], [[7.941325103851579e-16, 3.560096025466919, -4.367312431335449], [1.2587371229155157e-15, -3.6321868896484375, -4.831436634063721], [-5.290875086147923e-18, 0.06370226293802261, 0.6253629326820374]], [[7.965654537074682e-16, 3.568061113357544, -4.379922389984131], [1.2626291334290308e-15, -3.6433980464935303, -4.849158763885498], [-5.308857165484214e-18, 0.06390677392482758, 0.6272739768028259]], [[7.989983970297786e-16, 3.576026201248169, -4.3925323486328125], [1.2665211439425459e-15, -3.654609203338623, -4.866880893707275], [-5.326839244820504e-18, 0.06411128491163254, 0.6291850209236145]], [[8.01431340352089e-16, 3.583991289138794, -4.405142307281494], [1.270413154456061e-15, -3.665820360183716, -4.884603023529053], [-5.344821324156794e-18, 0.0643157958984375, 0.6310960650444031]], [[8.038642836743993e-16, 3.591956377029419, -4.417752265930176], [1.274305164969576e-15, -3.6770315170288086, -4.90232515335083], [-5.3628034034930844e-18, 0.06452030688524246, 0.6330071091651917]], [[8.062972269967097e-16, 3.599921464920044, -4.430362224578857], [1.2781971754830912e-15, -3.6882426738739014, -4.920047283172607], [-5.380785482829375e-18, 0.06472481787204742, 0.6349181532859802]], [[8.087301703190201e-16, 3.607886552810669, -4.442972183227539], [1.2820891859966063e-15, -3.699453830718994, -4.937769412994385], [-5.398767562165665e-18, 0.06492932885885239, 0.6368291974067688]], [[8.111631136413304e-16, 3.615851640701294, -4.455582141876221], [1.2859811965101214e-15, -3.710664987564087, -4.955491542816162], [-5.416749641501955e-18, 0.06513383984565735, 0.6387402415275574]], [[8.135960569636408e-16, 3.623816728591919, -4.468192100524902], [1.2898732070236365e-15, -3.7218761444091797, -4.9732136726379395], [-5.4347317208382455e-18, 0.06533835083246231, 0.640651285648346]], [[8.160290002859512e-16, 3.631781816482544, -4.480802059173584], [1.2937652175371516e-15, -3.7330873012542725, -4.990935802459717], [-5.452713800174536e-18, 0.06554286181926727, 0.6425623297691345]], [[8.184619436082616e-16, 3.639746904373169, -4.493412017822266], [1.2976572280506667e-15, -3.7442984580993652, -5.008657932281494], [-5.470695879510826e-18, 0.06574737280607224, 0.6444733738899231]], [[8.208948869305719e-16, 3.647711992263794, -4.506021976470947], [1.3015492385641818e-15, -3.755509614944458, -5.0263800621032715], [-5.488677958847116e-18, 0.0659518837928772, 0.6463844180107117]], [[8.233278302528823e-16, 3.655677080154419, -4.518631935119629], [1.305441249077697e-15, -3.766720771789551, -5.044102191925049], [-5.5066600381834066e-18, 0.06615639477968216, 0.6482954621315002]], [[8.257607735751927e-16, 3.663642168045044, -4.5312418937683105], [1.309333259591212e-15, -3.7779319286346436, -5.061824321746826], [-5.524642117519697e-18, 0.06636090576648712, 0.6502065062522888]], [[8.28193716897503e-16, 3.671607255935669, -4.543851852416992], [1.3132252701047271e-15, -3.7891430854797363, -5.0795464515686035], [-5.542624196855987e-18, 0.06656541675329208, 0.6521175503730774]], [[8.306266602198134e-16, 3.679572343826294, -4.556461811065674], [1.3171172806182422e-15, -3.800354242324829, -5.097268581390381], [-5.5606062761922774e-18, 0.06676992774009705, 0.654028594493866]], [[8.330596035421238e-16, 3.687537431716919, -4.5690717697143555], [1.3210092911317573e-15, -3.811565399169922, -5.114990711212158], [-5.578588355528568e-18, 0.06697443872690201, 0.6559396386146545]], [[8.354925468644341e-16, 3.695502519607544, -4.581681728363037], [1.3249013016452724e-15, -3.8227765560150146, -5.1327128410339355], [-5.596570434864858e-18, 0.06717894971370697, 0.6578506827354431]], [[8.379254901867445e-16, 3.703467607498169, -4.594291687011719], [1.3287933121587875e-15, -3.8339877128601074, -5.150434970855713], [-5.614552514201148e-18, 0.06738346070051193, 0.6597617268562317]], [[8.403584335090549e-16, 3.711432695388794, -4.6069016456604], [1.3326853226723026e-15, -3.8451988697052, -5.16815710067749], [-5.6325345935374385e-18, 0.0675879716873169, 0.6616727709770203]], [[8.427913768313652e-16, 3.719397783279419, -4.619511604309082], [1.3365773331858177e-15, -3.856410026550293, -5.185879230499268], [-5.650516672873729e-18, 0.06779248267412186, 0.6635838150978088]], [[8.452243201536756e-16, 3.727362871170044, -4.632121562957764], [1.3404693436993328e-15, -3.8676211833953857, -5.203601360321045], [-5.668498752210019e-18, 0.06799699366092682, 0.6654948592185974]], [[8.47657263475986e-16, 3.735327959060669, -4.644731521606445], [1.344361354212848e-15, -3.8788323402404785, -5.221323490142822], [-5.686480831546309e-18, 0.06820150464773178, 0.667405903339386]], [[8.500902067982963e-16, 3.743293046951294, -4.657341480255127], [1.348253364726363e-15, -3.8900434970855713, -5.2390456199646], [-5.7044629108825995e-18, 0.06840601563453674, 0.6693169474601746]], [[8.525231501206067e-16, 3.751258134841919, -4.669951438903809], [1.3521453752398781e-15, -3.901254653930664, -5.256767749786377], [-5.72244499021889e-18, 0.0686105266213417, 0.6712279915809631]], [[8.549560934429171e-16, 3.759223222732544, -4.68256139755249], [1.3560373857533932e-15, -3.912465810775757, -5.274489879608154], [-5.74042706955518e-18, 0.06881503760814667, 0.6731390357017517]], [[8.573890367652274e-16, 3.767188310623169, -4.695171356201172], [1.3599293962669083e-15, -3.9236769676208496, -5.292212009429932], [-5.75840914889147e-18, 0.06901954859495163, 0.6750500798225403]], [[8.598219800875378e-16, 3.775153398513794, -4.7077813148498535], [1.3638214067804235e-15, -3.9348881244659424, -5.309934139251709], [-5.776391228227761e-18, 0.06922405958175659, 0.6769611239433289]], [[8.622549234098482e-16, 3.783118486404419, -4.720391273498535], [1.3677134172939386e-15, -3.946099281311035, -5.327656269073486], [-5.794373307564051e-18, 0.06942857056856155, 0.6788721680641174]], [[8.646878667321585e-16, 3.791083574295044, -4.733001232147217], [1.3716054278074537e-15, -3.957310438156128, -5.345378398895264], [-5.812355386900341e-18, 0.06963308155536652, 0.680783212184906]], [[8.671208100544689e-16, 3.799048662185669, -4.745611190795898], [1.3754974383209688e-15, -3.9685215950012207, -5.363100528717041], [-5.8303374662366314e-18, 0.06983759254217148, 0.6826942563056946]], [[8.695537533767793e-16, 3.807013750076294, -4.75822114944458], [1.3793894488344839e-15, -3.9797327518463135, -5.380822658538818], [-5.848319545572922e-18, 0.07004210352897644, 0.6846053004264832]], [[8.719866966990896e-16, 3.814978837966919, -4.770831108093262], [1.383281459347999e-15, -3.9909439086914062, -5.398544788360596], [-5.866301624909212e-18, 0.0702466145157814, 0.6865163445472717]], [[8.744196400214e-16, 3.822943925857544, -4.783441066741943], [1.387173469861514e-15, -4.00215482711792, -5.416266918182373], [-5.884283704245502e-18, 0.07045112550258636, 0.6884273886680603]], [[8.768525833437104e-16, 3.830909013748169, -4.796051025390625], [1.3910654803750292e-15, -4.013365745544434, -5.43398904800415], [-5.9022657835817925e-18, 0.07065563648939133, 0.6903384327888489]], [[8.792855266660207e-16, 3.838874101638794, -4.808660984039307], [1.3949574908885443e-15, -4.024576663970947, -5.451711177825928], [-5.920247862918083e-18, 0.07086014747619629, 0.6922494769096375]], [[8.817184699883311e-16, 3.846839189529419, -4.821270942687988], [1.3988495014020594e-15, -4.035787582397461, -5.469433307647705], [-5.938229942254373e-18, 0.07106465846300125, 0.694160521030426]], [[8.841514133106415e-16, 3.854804277420044, -4.83388090133667], [1.4027415119155745e-15, -4.046998500823975, -5.487155437469482], [-5.956212021590663e-18, 0.07126916944980621, 0.6960715651512146]], [[8.865843566329518e-16, 3.862769365310669, -4.846490859985352], [1.4066335224290896e-15, -4.058209419250488, -5.50487756729126], [-5.9741941009269536e-18, 0.07147368043661118, 0.6979826092720032]], [[8.890172999552622e-16, 3.870734453201294, -4.859100818634033], [1.4105255329426047e-15, -4.069420337677002, -5.522599697113037], [-5.992176180263244e-18, 0.07167819142341614, 0.6998936533927917]], [[8.914501903380134e-16, 3.878699541091919, -4.871710777282715], [1.4144175434561198e-15, -4.080631256103516, -5.5403218269348145], [-6.010158259599534e-18, 0.0718827024102211, 0.7018046975135803]], [[8.938830807207645e-16, 3.886664628982544, -4.8843207359313965], [1.4183095539696349e-15, -4.091842174530029, -5.558043956756592], [-6.028140338935824e-18, 0.07208721339702606, 0.7037157416343689]], [[8.963159711035157e-16, 3.894629716873169, -4.896930694580078], [1.42220156448315e-15, -4.103053092956543, -5.575766086578369], [-6.046122418272115e-18, 0.07229172438383102, 0.7056267857551575]], [[8.987488614862669e-16, 3.902594804763794, -4.90954065322876], [1.4260935749966651e-15, -4.114264011383057, -5.5934882164001465], [-6.064104497608405e-18, 0.07249623537063599, 0.707537829875946]], [[9.01181751869018e-16, 3.910559892654419, -4.922150611877441], [1.4299855855101802e-15, -4.12547492980957, -5.611210346221924], [-6.082086576944695e-18, 0.07270074635744095, 0.7094488739967346]], [[9.036146422517692e-16, 3.918524980545044, -4.934760570526123], [1.4338775960236953e-15, -4.136685848236084, -5.628932476043701], [-6.1000686562809855e-18, 0.07290525734424591, 0.7113599181175232]], [[9.060475326345204e-16, 3.926490068435669, -4.947370529174805], [1.4377696065372104e-15, -4.147896766662598, -5.6466546058654785], [-6.118050735617276e-18, 0.07310976833105087, 0.7132709622383118]], [[9.084804230172715e-16, 3.934455156326294, -4.959980487823486], [1.4416616170507255e-15, -4.159107685089111, -5.664376735687256], [-6.136032814953566e-18, 0.07331427931785583, 0.7151820063591003]], [[9.109133134000227e-16, 3.942420244216919, -4.972590446472168], [1.4455536275642406e-15, -4.170318603515625, -5.682098865509033], [-6.154014894289856e-18, 0.0735187903046608, 0.7170930504798889]], [[9.133462037827739e-16, 3.950385332107544, -4.98520040512085], [1.4494456380777557e-15, -4.181529521942139, -5.6998209953308105], [-6.1719969736261465e-18, 0.07372330129146576, 0.7190040946006775]], [[9.15779094165525e-16, 3.958350419998169, -4.997810363769531], [1.4533376485912708e-15, -4.192740440368652, -5.717543125152588], [-6.189979052962437e-18, 0.07392781227827072, 0.7209151387214661]], [[9.182119845482762e-16, 3.966315507888794, -5.010420322418213], [1.457229659104786e-15, -4.203951358795166, -5.735265254974365], [-6.207961132298727e-18, 0.07413232326507568, 0.7228261828422546]], [[9.206448749310273e-16, 3.974280595779419, -5.0230302810668945], [1.461121669618301e-15, -4.21516227722168, -5.752987384796143], [-6.225943211635017e-18, 0.07433683425188065, 0.7247372269630432]], [[9.230777653137785e-16, 3.982245683670044, -5.035640239715576], [1.4650136801318161e-15, -4.226373195648193, -5.77070951461792], [-6.2439252909713076e-18, 0.07454134523868561, 0.7266482710838318]], [[9.255106556965297e-16, 3.990210771560669, -5.048250198364258], [1.4689056906453312e-15, -4.237584114074707, -5.788431644439697], [-6.261907370307598e-18, 0.07474585622549057, 0.7285593152046204]], [[9.279435460792808e-16, 3.998175859451294, -5.0608601570129395], [1.4727977011588463e-15, -4.248795032501221, -5.806153774261475], [-6.279889449643888e-18, 0.07495036721229553, 0.7304703593254089]], [[9.30376436462032e-16, 4.00614070892334, -5.073470115661621], [1.4766897116723614e-15, -4.260005950927734, -5.823875904083252], [-6.2978715289801784e-18, 0.0751548781991005, 0.7323814034461975]], [[9.328093268447832e-16, 4.014105796813965, -5.086080074310303], [1.4805817221858765e-15, -4.271216869354248, -5.841598033905029], [-6.315853608316469e-18, 0.07535938918590546, 0.7342924475669861]], [[9.352422172275343e-16, 4.02207088470459, -5.098690032958984], [1.4844737326993917e-15, -4.282427787780762, -5.859320163726807], [-6.333835687652759e-18, 0.07556390017271042, 0.7362034916877747]], [[9.376751076102855e-16, 4.030035972595215, -5.111299991607666], [1.4883657432129068e-15, -4.293638706207275, -5.877042293548584], [-6.351817766989049e-18, 0.07576841115951538, 0.7381145358085632]], [[9.401079979930367e-16, 4.03800106048584, -5.123909950256348], [1.4922577537264219e-15, -4.304849624633789, -5.894764423370361], [-6.3697998463253395e-18, 0.07597292214632034, 0.7400255799293518]], [[9.425408883757878e-16, 4.045966148376465, -5.136519908905029], [1.496149764239937e-15, -4.316060543060303, -5.912486553192139], [-6.38778192566163e-18, 0.0761774331331253, 0.7419366240501404]], [[9.44973778758539e-16, 4.05393123626709, -5.149129867553711], [1.500041774753452e-15, -4.327271461486816, -5.930208683013916], [-6.40576400499792e-18, 0.07638194411993027, 0.743847668170929]], [[9.474066691412901e-16, 4.061896324157715, -5.161739826202393], [1.5039337852669672e-15, -4.33848237991333, -5.947930812835693], [-6.42374608433421e-18, 0.07658645510673523, 0.7457587122917175]], [[9.498395595240413e-16, 4.06986141204834, -5.174349784851074], [1.5078257957804823e-15, -4.349693298339844, -5.965652942657471], [-6.4417281636705006e-18, 0.07679096609354019, 0.7476697564125061]], [[9.522724499067925e-16, 4.077826499938965, -5.186959743499756], [1.5117178062939974e-15, -4.360904216766357, -5.983375072479248], [-6.459710243006791e-18, 0.07699547708034515, 0.7495808005332947]], [[9.547053402895436e-16, 4.08579158782959, -5.1995697021484375], [1.5156098168075125e-15, -4.372115135192871, -6.001097202301025], [-6.477692322343081e-18, 0.07719998806715012, 0.7514918446540833]], [[9.571382306722948e-16, 4.093756675720215, -5.212179660797119], [1.5195018273210276e-15, -4.383326053619385, -6.018819332122803], [-6.495674401679371e-18, 0.07740449905395508, 0.7534028887748718]], [[9.59571121055046e-16, 4.10172176361084, -5.224789619445801], [1.5233938378345427e-15, -4.394536972045898, -6.03654146194458], [-6.513656481015662e-18, 0.07760901004076004, 0.7553139328956604]], [[9.620040114377971e-16, 4.109686851501465, -5.237399578094482], [1.5272858483480578e-15, -4.405747890472412, -6.054263591766357], [-6.531638560351952e-18, 0.077813521027565, 0.757224977016449]], [[9.644369018205483e-16, 4.11765193939209, -5.250009536743164], [1.5311778588615729e-15, -4.416958808898926, -6.071985721588135], [-6.549620639688242e-18, 0.07801803201436996, 0.7591360211372375]], [[9.668697922032995e-16, 4.125617027282715, -5.262619495391846], [1.535069869375088e-15, -4.4281697273254395, -6.089707851409912], [-6.5676027190245324e-18, 0.07822254300117493, 0.7610470652580261]], [[9.693026825860506e-16, 4.13358211517334, -5.275229454040527], [1.5389618798886031e-15, -4.439380645751953, -6.1074299812316895], [-6.585584798360823e-18, 0.07842705398797989, 0.7629581093788147]], [[9.717355729688018e-16, 4.141547203063965, -5.287839412689209], [1.5428538904021182e-15, -4.450591564178467, -6.125152111053467], [-6.603566877697113e-18, 0.07863156497478485, 0.7648691534996033]], [[9.74168463351553e-16, 4.14951229095459, -5.300449371337891], [1.5467459009156333e-15, -4.4618024826049805, -6.142874240875244], [-6.621548957033403e-18, 0.07883607596158981, 0.7667801976203918]], [[9.766013537343041e-16, 4.157477378845215, -5.313059329986572], [1.5506379114291484e-15, -4.473013401031494, -6.1605963706970215], [-6.6395310363696935e-18, 0.07904058694839478, 0.7686912417411804]], [[9.790342441170553e-16, 4.16544246673584, -5.325669288635254], [1.5545299219426635e-15, -4.484224319458008, -6.178318500518799], [-6.657513115705984e-18, 0.07924509793519974, 0.770602285861969]], [[9.814671344998064e-16, 4.173407554626465, -5.3382792472839355], [1.5584219324561786e-15, -4.4954352378845215, -6.196040630340576], [-6.675495195042274e-18, 0.0794496089220047, 0.7725133299827576]], [[9.839000248825576e-16, 4.18137264251709, -5.350889205932617], [1.5623139429696937e-15, -4.506646156311035, -6.2137627601623535], [-6.693477274378564e-18, 0.07965411990880966, 0.7744243741035461]], [[9.863329152653088e-16, 4.189337730407715, -5.363499164581299], [1.5662059534832088e-15, -4.517857074737549, -6.231484889984131], [-6.7114593537148546e-18, 0.07985863089561462, 0.7763354182243347]], [[9.8876580564806e-16, 4.19730281829834, -5.3761091232299805], [1.570097963996724e-15, -4.5290679931640625, -6.249207019805908], [-6.729441433051145e-18, 0.08006314188241959, 0.7782464623451233]], [[9.911986960308111e-16, 4.205267906188965, -5.388719081878662], [1.573989974510239e-15, -4.540278911590576, -6.2669291496276855], [-6.747423512387435e-18, 0.08026765286922455, 0.7801575064659119]], [[9.936315864135623e-16, 4.21323299407959, -5.401329040527344], [1.5778819850237541e-15, -4.55148983001709, -6.284651279449463], [-6.7654055917237254e-18, 0.08047216385602951, 0.7820685505867004]], [[9.960644767963134e-16, 4.221198081970215, -5.413938999176025], [1.5817739955372692e-15, -4.5627007484436035, -6.30237340927124], [-6.783387671060016e-18, 0.08067667484283447, 0.783979594707489]], [[9.984973671790646e-16, 4.22916316986084, -5.426548957824707], [1.5856660060507843e-15, -4.573911666870117, -6.320095539093018], [-6.801369750396306e-18, 0.08088118582963943, 0.7858906388282776]], [[1.0009302575618158e-15, 4.237128257751465, -5.439158916473389], [1.5895580165642994e-15, -4.585122585296631, -6.337817668914795], [-6.819351829732596e-18, 0.0810856968164444, 0.7878016829490662]], [[1.003363147944567e-15, 4.24509334564209, -5.45176887512207], [1.5934500270778145e-15, -4.5963335037231445, -6.355539798736572], [-6.8373339090688865e-18, 0.08129020780324936, 0.7897127270698547]], [[1.005796038327318e-15, 4.253058433532715, -5.464378833770752], [1.5973420375913296e-15, -4.607544422149658, -6.37326192855835], [-6.855315988405177e-18, 0.08149471879005432, 0.7916237711906433]], [[1.0082289287100693e-15, 4.26102352142334, -5.476988792419434], [1.6012340481048448e-15, -4.618755340576172, -6.390984058380127], [-6.873298067741467e-18, 0.08169922977685928, 0.7935348153114319]], [[1.0106618190928204e-15, 4.268988609313965, -5.489598751068115], [1.6051260586183599e-15, -4.6299662590026855, -6.408706188201904], [-6.891280147077757e-18, 0.08190374076366425, 0.7954458594322205]], [[1.0130947094755716e-15, 4.27695369720459, -5.502208709716797], [1.609018069131875e-15, -4.641177177429199, -6.426428318023682], [-6.9092622264140475e-18, 0.08210825175046921, 0.797356903553009]], [[1.0155275998583227e-15, 4.284918785095215, -5.5148186683654785], [1.61291007964539e-15, -4.652388095855713, -6.444150447845459], [-6.927244305750338e-18, 0.08231276273727417, 0.7992679476737976]], [[1.017960490241074e-15, 4.29288387298584, -5.52742862701416], [1.6168020901589052e-15, -4.663599014282227, -6.461872577667236], [-6.945226798676934e-18, 0.08251727372407913, 0.8011789917945862]], [[1.020393380623825e-15, 4.300848960876465, -5.540038585662842], [1.6206941006724203e-15, -4.67480993270874, -6.479594707489014], [-6.963208878013225e-18, 0.0827217847108841, 0.8030900359153748]], [[1.0228262710065762e-15, 4.30881404876709, -5.552648544311523], [1.6245861111859354e-15, -4.686020851135254, -6.497316837310791], [-6.981190957349515e-18, 0.08292629569768906, 0.8050010800361633]], [[1.0252591613893274e-15, 4.316779136657715, -5.565258502960205], [1.6284781216994505e-15, -4.697231769561768, -6.515038967132568], [-6.999173036685805e-18, 0.08313080668449402, 0.8069121241569519]], [[1.0276920517720786e-15, 4.32474422454834, -5.577868461608887], [1.6323701322129656e-15, -4.708442687988281, -6.532761096954346], [-7.017155116022095e-18, 0.08333531767129898, 0.8088231682777405]], [[1.0301249421548297e-15, 4.332709312438965, -5.590478420257568], [1.6362621427264807e-15, -4.719653606414795, -6.550483226776123], [-7.035137195358386e-18, 0.08353982865810394, 0.810734212398529]], [[1.0325578325375809e-15, 4.34067440032959, -5.60308837890625], [1.6401541532399958e-15, -4.730864524841309, -6.5682053565979], [-7.053119274694676e-18, 0.0837443396449089, 0.8126452565193176]], [[1.034990722920332e-15, 4.348639488220215, -5.615698337554932], [1.6440461637535109e-15, -4.742075443267822, -6.585927486419678], [-7.071101354030966e-18, 0.08394885063171387, 0.8145563006401062]], [[1.0374236133030832e-15, 4.35660457611084, -5.628308296203613], [1.647938174267026e-15, -4.753286361694336, -6.603649616241455], [-7.089083433367257e-18, 0.08415336161851883, 0.8164673447608948]], [[1.0398565036858344e-15, 4.364569664001465, -5.640918254852295], [1.651830184780541e-15, -4.76449728012085, -6.621371746063232], [-7.107065512703547e-18, 0.08435787260532379, 0.8183783888816833]], [[1.0422893940685856e-15, 4.37253475189209, -5.653528213500977], [1.6557221952940562e-15, -4.775708198547363, -6.63909387588501], [-7.125047592039837e-18, 0.08456238359212875, 0.8202894330024719]], [[1.0447222844513367e-15, 4.380499839782715, -5.666138172149658], [1.6596142058075713e-15, -4.786919116973877, -6.656816005706787], [-7.143029671376127e-18, 0.08476689457893372, 0.8222004771232605]], [[1.0471551748340879e-15, 4.38846492767334, -5.67874813079834], [1.6635062163210864e-15, -4.798130035400391, -6.6745381355285645], [-7.161011750712418e-18, 0.08497140556573868, 0.8241115212440491]], [[1.049588065216839e-15, 4.396430015563965, -5.6913580894470215], [1.6673982268346015e-15, -4.809340953826904, -6.692260265350342], [-7.178993830048708e-18, 0.08517591655254364, 0.8260225653648376]], [[1.0520209555995902e-15, 4.40439510345459, -5.703968048095703], [1.6712902373481166e-15, -4.820551872253418, -6.709982395172119], [-7.196975909384998e-18, 0.0853804275393486, 0.8279336094856262]], [[1.0544538459823414e-15, 4.412360191345215, -5.716578006744385], [1.6751822478616317e-15, -4.831762790679932, -6.7277045249938965], [-7.214957988721288e-18, 0.08558493852615356, 0.8298446536064148]], [[1.0568867363650925e-15, 4.42032527923584, -5.729187965393066], [1.6790742583751468e-15, -4.842973709106445, -6.745426654815674], [-7.232940068057579e-18, 0.08578944951295853, 0.8317556977272034]], [[1.0593196267478437e-15, 4.428290367126465, -5.741797924041748], [1.682966268888662e-15, -4.854184627532959, -6.763148784637451], [-7.250922147393869e-18, 0.08599396049976349, 0.8336667418479919]], [[1.0617525171305949e-15, 4.43625545501709, -5.75440788269043], [1.686858279402177e-15, -4.865395545959473, -6.7808709144592285], [-7.268904226730159e-18, 0.08619847148656845, 0.8355777859687805]], [[1.064185407513346e-15, 4.444220542907715, -5.767017841339111], [1.6907502899156921e-15, -4.876606464385986, -6.798593044281006], [-7.28688630606645e-18, 0.08640298247337341, 0.8374888300895691]], [[1.0666182978960972e-15, 4.45218563079834, -5.779627799987793], [1.6946423004292072e-15, -4.8878173828125, -6.816315174102783], [-7.30486838540274e-18, 0.08660749346017838, 0.8393998742103577]], [[1.0690511882788484e-15, 4.460150718688965, -5.792237758636475], [1.6985343109427223e-15, -4.899028301239014, -6.8340373039245605], [-7.32285046473903e-18, 0.08681200444698334, 0.8413109183311462]], [[1.0714840786615995e-15, 4.46811580657959, -5.804847717285156], [1.7024263214562374e-15, -4.910239219665527, -6.851759433746338], [-7.34083254407532e-18, 0.0870165154337883, 0.8432219624519348]], [[1.0739169690443507e-15, 4.476080894470215, -5.817457675933838], [1.7063183319697525e-15, -4.921450138092041, -6.869481563568115], [-7.35881462341161e-18, 0.08722102642059326, 0.8451330065727234]], [[1.0763498594271018e-15, 4.48404598236084, -5.8300676345825195], [1.7102103424832676e-15, -4.932661056518555, -6.887203693389893], [-7.376796702747901e-18, 0.08742553740739822, 0.847044050693512]], [[1.078782749809853e-15, 4.492011070251465, -5.842677593231201], [1.7141023529967827e-15, -4.943871974945068, -6.90492582321167], [-7.394778782084191e-18, 0.08763004839420319, 0.8489550948143005]], [[1.0812156401926042e-15, 4.49997615814209, -5.855287551879883], [1.7179943635102978e-15, -4.955082893371582, -6.922647953033447], [-7.412760861420481e-18, 0.08783455938100815, 0.8508661389350891]], [[1.0836485305753553e-15, 4.507941246032715, -5.8678975105285645], [1.721886374023813e-15, -4.966293811798096, -6.940370082855225], [-7.430742940756772e-18, 0.08803907036781311, 0.8527771830558777]], [[1.0860814209581065e-15, 4.51590633392334, -5.880507469177246], [1.725778384537328e-15, -4.977504730224609, -6.958092212677002], [-7.448725020093062e-18, 0.08824358135461807, 0.8546882271766663]], [[1.0885143113408577e-15, 4.523871421813965, -5.893117427825928], [1.7296703950508432e-15, -4.988715648651123, -6.975814342498779], [-7.466707099429352e-18, 0.08844809234142303, 0.8565992712974548]], [[1.0909472017236088e-15, 4.53183650970459, -5.905727386474609], [1.7335624055643583e-15, -4.999926567077637, -6.993536472320557], [-7.484689178765642e-18, 0.088652603328228, 0.8585103154182434]], [[1.09338009210636e-15, 4.539801597595215, -5.918337345123291], [1.7374544160778734e-15, -5.01113748550415, -7.011258602142334], [-7.502671258101933e-18, 0.08885711431503296, 0.860421359539032]], [[1.0958129824891112e-15, 4.54776668548584, -5.930947303771973], [1.7413464265913885e-15, -5.022348403930664, -7.028980731964111], [-7.520653337438223e-18, 0.08906162530183792, 0.8623324036598206]], [[1.0982458728718623e-15, 4.555731773376465, -5.943557262420654], [1.7452384371049036e-15, -5.033559322357178, -7.046702861785889], [-7.538635416774513e-18, 0.08926613628864288, 0.8642434477806091]], [[1.1006787632546135e-15, 4.56369686126709, -5.956167221069336], [1.7491304476184187e-15, -5.044770240783691, -7.064424991607666], [-7.556617496110803e-18, 0.08947064727544785, 0.8661544919013977]], [[1.1031116536373647e-15, 4.571661949157715, -5.968777179718018], [1.7530224581319338e-15, -5.055981159210205, -7.082147121429443], [-7.574599575447094e-18, 0.08967515826225281, 0.8680655360221863]], [[1.1055445440201158e-15, 4.57962703704834, -5.981387138366699], [1.7569144686454489e-15, -5.067192077636719, -7.099869251251221], [-7.592581654783384e-18, 0.08987966924905777, 0.8699765801429749]], [[1.107977434402867e-15, 4.587592124938965, -5.993997097015381], [1.760806479158964e-15, -5.078402996063232, -7.117591381072998], [-7.610563734119674e-18, 0.09008418023586273, 0.8718876242637634]], [[1.1104103247856181e-15, 4.59555721282959, -6.0066070556640625], [1.764698489672479e-15, -5.089613914489746, -7.135313510894775], [-7.628545813455965e-18, 0.0902886912226677, 0.873798668384552]], [[1.1128432151683693e-15, 4.603522300720215, -6.019217014312744], [1.7685905001859942e-15, -5.10082483291626, -7.153035640716553], [-7.646527892792255e-18, 0.09049320220947266, 0.8757097125053406]], [[1.1152761055511205e-15, 4.61148738861084, -6.031826972961426], [1.7724825106995093e-15, -5.112035751342773, -7.17075777053833], [-7.664509972128545e-18, 0.09069771319627762, 0.8776207566261292]], [[1.1177089959338716e-15, 4.619452476501465, -6.044436931610107], [1.776374627092143e-15, -5.123246669769287, -7.188479900360107], [-7.682492051464835e-18, 0.09090222418308258, 0.8795318007469177]], [[1.1201418863166228e-15, 4.62741756439209, -6.057046890258789], [1.7802667434847763e-15, -5.134457588195801, -7.206202030181885], [-7.700474130801126e-18, 0.09110673516988754, 0.8814428448677063]], [[1.122574776699374e-15, 4.635382652282715, -6.069656848907471], [1.78415885987741e-15, -5.1456685066223145, -7.223924160003662], [-7.718456210137416e-18, 0.0913112461566925, 0.8833538889884949]], [[1.1250076670821251e-15, 4.64334774017334, -6.082266807556152], [1.7880509762700433e-15, -5.156879425048828, -7.2416462898254395], [-7.736438289473706e-18, 0.09151575714349747, 0.8852649331092834]], [[1.1274405574648763e-15, 4.651312828063965, -6.094876766204834], [1.791943092662677e-15, -5.168090343475342, -7.259368419647217], [-7.754420368809996e-18, 0.09172026813030243, 0.887175977230072]], [[1.1298734478476275e-15, 4.65927791595459, -6.107486724853516], [1.7958352090553104e-15, -5.1793012619018555, -7.277090549468994], [-7.772402448146287e-18, 0.09192477911710739, 0.8890870213508606]], [[1.1323063382303786e-15, 4.667243003845215, -6.120096683502197], [1.799727325447944e-15, -5.190512180328369, -7.2948126792907715], [-7.790384527482577e-18, 0.09212929010391235, 0.8909980654716492]], [[1.1347392286131298e-15, 4.67520809173584, -6.132706642150879], [1.8036194418405774e-15, -5.201723098754883, -7.312534809112549], [-7.808366606818867e-18, 0.09233380109071732, 0.8929091095924377]], [[1.137172118995881e-15, 4.683173179626465, -6.1453166007995605], [1.807511558233211e-15, -5.2129340171813965, -7.330256938934326], [-7.826348686155158e-18, 0.09253831207752228, 0.8948201537132263]], [[1.1396050093786321e-15, 4.69113826751709, -6.157926559448242], [1.8114036746258444e-15, -5.22414493560791, -7.3479790687561035], [-7.844330765491448e-18, 0.09274282306432724, 0.8967311978340149]], [[1.1420378997613833e-15, 4.699103355407715, -6.170536518096924], [1.815295791018478e-15, -5.235355854034424, -7.365701198577881], [-7.862312844827738e-18, 0.0929473340511322, 0.8986422419548035]], [[1.1444707901441344e-15, 4.70706844329834, -6.1831464767456055], [1.8191879074111114e-15, -5.2465667724609375, -7.383423328399658], [-7.880294924164028e-18, 0.09315184503793716, 0.900553286075592]], [[1.1469036805268856e-15, 4.715033531188965, -6.195756435394287], [1.823080023803745e-15, -5.257777690887451, -7.4011454582214355], [-7.898277003500319e-18, 0.09335635602474213, 0.9024643301963806]], [[1.1493365709096368e-15, 4.72299861907959, -6.208366394042969], [1.8269721401963784e-15, -5.268988609313965, -7.418867588043213], [-7.916259082836609e-18, 0.09356086701154709, 0.9043753743171692]], [[1.151769461292388e-15, 4.730963706970215, -6.22097635269165], [1.830864256589012e-15, -5.2801995277404785, -7.43658971786499], [-7.934241162172899e-18, 0.09376537799835205, 0.9062864184379578]], [[1.1542023516751391e-15, 4.73892879486084, -6.233586311340332], [1.8347563729816455e-15, -5.291410446166992, -7.454311847686768], [-7.95222324150919e-18, 0.09396988898515701, 0.9081974625587463]], [[1.1566352420578903e-15, 4.746893882751465, -6.246196269989014], [1.838648489374279e-15, -5.302621364593506, -7.472033977508545], [-7.97020532084548e-18, 0.09417439997196198, 0.9101085066795349]], [[1.1590681324406414e-15, 4.75485897064209, -6.258806228637695], [1.8425406057669125e-15, -5.3138322830200195, -7.489756107330322], [-7.98818740018177e-18, 0.09437891095876694, 0.9120195508003235]], [[1.1615010228233926e-15, 4.762824058532715, -6.271416187286377], [1.846432722159546e-15, -5.325043201446533, -7.5074782371521], [-8.00616947951806e-18, 0.0945834219455719, 0.9139305949211121]], [[1.1639339132061438e-15, 4.77078914642334, -6.284026145935059], [1.8503248385521795e-15, -5.336254119873047, -7.525200366973877], [-8.02415155885435e-18, 0.09478793293237686, 0.9158416390419006]], [[1.166366803588895e-15, 4.778754234313965, -6.29663610458374], [1.854216954944813e-15, -5.3474650382995605, -7.542922496795654], [-8.04213363819064e-18, 0.09499244391918182, 0.9177526831626892]], [[1.168799693971646e-15, 4.78671932220459, -6.309246063232422], [1.8581090713374465e-15, -5.358675956726074, -7.560644626617432], [-8.060115717526931e-18, 0.09519695490598679, 0.9196637272834778]], [[1.1712325843543973e-15, 4.794684410095215, -6.3218560218811035], [1.86200118773008e-15, -5.369886875152588, -7.578366756439209], [-8.078097796863221e-18, 0.09540146589279175, 0.9215747714042664]], [[1.1736654747371484e-15, 4.80264949798584, -6.334465980529785], [1.8658933041227135e-15, -5.381097793579102, -7.596088886260986], [-8.096079876199512e-18, 0.09560597687959671, 0.9234858155250549]], [[1.1760983651198996e-15, 4.810614585876465, -6.347075939178467], [1.869785420515347e-15, -5.392308712005615, -7.613811016082764], [-8.114061955535802e-18, 0.09581048786640167, 0.9253968596458435]], [[1.1785312555026507e-15, 4.81857967376709, -6.359685897827148], [1.8736775369079806e-15, -5.403519630432129, -7.631533145904541], [-8.132044034872092e-18, 0.09601499885320663, 0.9273079037666321]], [[1.180964145885402e-15, 4.826544761657715, -6.37229585647583], [1.877569653300614e-15, -5.414730548858643, -7.649255275726318], [-8.150026114208382e-18, 0.0962195098400116, 0.9292189478874207]], [[1.183397036268153e-15, 4.83450984954834, -6.384905815124512], [1.8814617696932476e-15, -5.425941467285156, -7.666977405548096], [-8.168008193544673e-18, 0.09642402082681656, 0.9311299920082092]], [[1.1858299266509042e-15, 4.842474937438965, -6.397515773773193], [1.885353886085881e-15, -5.43715238571167, -7.684699535369873], [-8.185990272880963e-18, 0.09662853181362152, 0.9330410361289978]], [[1.1882628170336554e-15, 4.85044002532959, -6.410125732421875], [1.8892460024785146e-15, -5.448363304138184, -7.70242166519165], [-8.203972352217253e-18, 0.09683304280042648, 0.9349520802497864]], [[1.1906957074164066e-15, 4.858405113220215, -6.422735691070557], [1.893138118871148e-15, -5.459574222564697, -7.720143795013428], [-8.221954431553543e-18, 0.09703755378723145, 0.936863124370575]], [[1.1931285977991577e-15, 4.86637020111084, -6.435345649719238], [1.8970302352637816e-15, -5.470785140991211, -7.737865924835205], [-8.239936510889834e-18, 0.09724206477403641, 0.9387741684913635]], [[1.1955614881819089e-15, 4.874335289001465, -6.44795560836792], [1.900922351656415e-15, -5.481996059417725, -7.755588054656982], [-8.257918590226124e-18, 0.09744657576084137, 0.9406852126121521]], [[1.19799437856466e-15, 4.88230037689209, -6.460565567016602], [1.9048144680490486e-15, -5.493206977844238, -7.77331018447876], [-8.275900669562414e-18, 0.09765108674764633, 0.9425962567329407]], [[1.2004272689474112e-15, 4.890265464782715, -6.473175525665283], [1.908706584441682e-15, -5.504417896270752, -7.791032314300537], [-8.293882748898705e-18, 0.0978555977344513, 0.9445073008537292]], [[1.2028601593301624e-15, 4.89823055267334, -6.485785484313965], [1.9125987008343157e-15, -5.515628814697266, -7.8087544441223145], [-8.311864828234995e-18, 0.09806010872125626, 0.9464183449745178]], [[1.2052930497129135e-15, 4.906195640563965, -6.4983954429626465], [1.916490817226949e-15, -5.526839733123779, -7.826476573944092], [-8.329846907571285e-18, 0.09826461970806122, 0.9483293890953064]], [[1.2077259400956647e-15, 4.91416072845459, -6.511005401611328], [1.9203829336195827e-15, -5.538050651550293, -7.844198703765869], [-8.347828986907575e-18, 0.09846913069486618, 0.950240433216095]], [[1.2101588304784159e-15, 4.922125816345215, -6.52361536026001], [1.924275050012216e-15, -5.549261569976807, -7.8619208335876465], [-8.365811066243866e-18, 0.09867364168167114, 0.9521514773368835]], [[1.212591720861167e-15, 4.93009090423584, -6.536225318908691], [1.9281671664048497e-15, -5.56047248840332, -7.879642963409424], [-8.383793145580156e-18, 0.0988781526684761, 0.9540625214576721]], [[1.2150246112439182e-15, 4.938055992126465, -6.548835277557373], [1.9320592827974832e-15, -5.571683406829834, -7.897365093231201], [-8.401775224916446e-18, 0.09908266365528107, 0.9559735655784607]], [[1.2174575016266694e-15, 4.94602108001709, -6.561445236206055], [1.9359513991901167e-15, -5.582894325256348, -7.9150872230529785], [-8.419757304252736e-18, 0.09928717464208603, 0.9578846096992493]]],\"array\");\n",
       "\tviewer_17061060023539133.animate({\"loop\": \"forward\", \"interval\": 0.1});\n",
       "viewer_17061060023539133.render();\n",
       "});\n",
       "</script>"
      ]
     },
     "metadata": {},
     "output_type": "display_data"
    }
   ],
   "source": [
    "view.getModel().setCoordinates(frames, 'array')\n",
    "view.animate({'loop': 'forward', 'interval': 0.1})\n",
    "view.show()"
   ]
  },
  {
   "cell_type": "markdown",
   "id": "fdf71813",
   "metadata": {},
   "source": [
    "This looks reasonable. As a final check, let's plot the potential, kinetic, and total energies."
   ]
  },
  {
   "cell_type": "code",
   "execution_count": 334,
   "id": "9caf92c5",
   "metadata": {
    "tags": []
   },
   "outputs": [
    {
     "data": {
      "image/png": "[encoded data removed]",
      "text/plain": [
       "<Figure size 640x480 with 1 Axes>"
      ]
     },
     "metadata": {},
     "output_type": "display_data"
    }
   ],
   "source": [
    "%matplotlib inline\n",
    "plt.subplots_adjust(left=0, right=1, bottom=0, top=1)\n",
    "plt.xlabel('time [fs]')\n",
    "plt.ylabel('energy [eV]')\n",
    "time = np.arange(num_steps) * timestep_fs\n",
    "plt.plot(time, potential_energy, label='potential energy')\n",
    "plt.plot(time, kinetic_energy, label='kinetic energy')\n",
    "plt.plot(time, total_energy, label='total energy')\n",
    "plt.legend()\n",
    "plt.grid()"
   ]
  },
  {
   "cell_type": "code",
   "execution_count": 335,
   "id": "484952c3-d2aa-4595-970f-875cfbaea1c0",
   "metadata": {},
   "outputs": [
    {
     "data": {
      "text/plain": [
       "(array([  2.,   1.,   1.,   1.,   2.,   1.,   2., 322., 141.,  27.]),\n",
       " array([-1.01114511e-05, -8.84187222e-06, -7.57229328e-06, -6.30271435e-06,\n",
       "        -5.03313541e-06, -3.76355648e-06, -2.49397755e-06, -1.22439861e-06,\n",
       "         4.51803207e-08,  1.31475925e-06,  2.58433819e-06]),\n",
       " <BarContainer object of 10 artists>)"
      ]
     },
     "execution_count": 335,
     "metadata": {},
     "output_type": "execute_result"
    },
    {
     "data": {
      "image/png": "[encoded data removed]",
      "text/plain": [
       "<Figure size 640x480 with 1 Axes>"
      ]
     },
     "metadata": {},
     "output_type": "display_data"
    }
   ],
   "source": [
    "%matplotlib inline\n",
    "plt.hist(total_energy - total_energy.mean())"
   ]
  },
  {
   "cell_type": "code",
   "execution_count": null,
   "id": "fcc61e22-bb07-4af1-91ca-2e4068563643",
   "metadata": {},
   "outputs": [],
   "source": []
  },
  {
   "cell_type": "markdown",
   "id": "c7ec7655",
   "metadata": {},
   "source": [
    "As expected, the potential and kinetic energies fluctuate during the trajectory. However, their sum, the total energy, is constant, as it should be (energy conservation). Tiny deviations in the total energy stem primarily from inaccuracies in the Velocity Verlet integration and can be reduced by choosing a smaller timestep."
   ]
  }
 ],
 "metadata": {
  "kernelspec": {
   "display_name": "jaxgpu11",
   "language": "python",
   "name": "jaxgpu11"
  },
  "language_info": {
   "codemirror_mode": {
    "name": "ipython",
    "version": 3
   },
   "file_extension": ".py",
   "mimetype": "text/x-python",
   "name": "python",
   "nbconvert_exporter": "python",
   "pygments_lexer": "ipython3",
   "version": "3.9.18"
  }
 },
 "nbformat": 4,
 "nbformat_minor": 5
}
